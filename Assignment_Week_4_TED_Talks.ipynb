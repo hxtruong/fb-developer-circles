{
  "nbformat": 4,
  "nbformat_minor": 0,
  "metadata": {
    "kernelspec": {
      "display_name": "Python 3",
      "language": "python",
      "name": "python3"
    },
    "language_info": {
      "codemirror_mode": {
        "name": "ipython",
        "version": 3
      },
      "file_extension": ".py",
      "mimetype": "text/x-python",
      "name": "python",
      "nbconvert_exporter": "python",
      "pygments_lexer": "ipython3",
      "version": "3.7.3"
    },
    "colab": {
      "name": "Assignment Week 4 - TED Talks.ipynb",
      "version": "0.3.2",
      "provenance": [],
      "collapsed_sections": [
        "z5kR7ve90Acu",
        "pk6Sw06R0NUJ",
        "b0gaboD_09qT",
        "s6gdyCX7I-v1",
        "cxEbLgLiNudw",
        "tYOq6-DMJTcY",
        "pBdnPNIaXZnM"
      ],
      "include_colab_link": true
    }
  },
  "cells": [
    {
      "cell_type": "markdown",
      "metadata": {
        "id": "view-in-github",
        "colab_type": "text"
      },
      "source": [
        "<a href=\"https://colab.research.google.com/github/hxtruong/fb-developer-circles/blob/master/Assignment_Week_4_TED_Talks.ipynb\" target=\"_parent\"><img src=\"https://colab.research.google.com/assets/colab-badge.svg\" alt=\"Open In Colab\"/></a>"
      ]
    },
    {
      "cell_type": "markdown",
      "metadata": {
        "id": "okdOQ5m9Qgbz",
        "colab_type": "text"
      },
      "source": [
        "# TED Talks\n",
        "\n",
        "![](https://psmarketingimages.s3.amazonaws.com/blog/wp-content/uploads/2017/04/23103819/TED-Talks-for-Small-Business-and-Entrepreneurs.jpg)\n",
        "\n",
        "_For more information about the dataset, read [here](https://www.kaggle.com/rounakbanik/ted-talks)._\n",
        "\n",
        "## Information \n",
        "- Hoang Xuan Truong\n",
        "\n",
        "## Tasks\n",
        "- Read the source and do some quick research to understand more about the dataset and its topic\n",
        "- Clean the data\n",
        "- Perform Exploratory Data Analysis on the dataset\n",
        "- Analyze the data more deeply and extract insights\n",
        "- Visualize your analysis on Google Data Studio\n",
        "- Present your works in front of the class and guests next Monday\n",
        "\n",
        "## Submission Guide\n",
        "- Create a Github repository for your project\n",
        "- Upload the dataset (.csv file) and the Jupyter Notebook to your Github repository. In the Jupyter Notebook, **include the link to your Google Data Studio report**.\n",
        "- Submit your works through this [Google Form](https://forms.gle/oxtXpGfS8JapVj3V8).\n",
        "\n",
        "## Tips for Data Cleaning, Manipulation & Visualization\n",
        "- Here are some of our tips for Data Cleaning, Manipulation & Visualization. [Click here](https://hackmd.io/cBNV7E6TT2WMliQC-GTw1A)\n",
        "\n",
        "_____________________________\n",
        "\n",
        "## Some Hints for This Dataset:\n",
        "- The `ratings` column is in dictionary format. How should we handle them?\n",
        "- Same for `related_talks` and `tags` column\n",
        "- Can you find the `year` of the talks?\n",
        "- And more..."
      ]
    },
    {
      "cell_type": "markdown",
      "metadata": {
        "id": "74SyH7-kkIiM",
        "colab_type": "text"
      },
      "source": [
        "# Find something fun about TED Talks"
      ]
    },
    {
      "cell_type": "markdown",
      "metadata": {
        "id": "yNCZBGf3kgGo",
        "colab_type": "text"
      },
      "source": [
        "### Intro\n",
        "TED Talks was founded in 1984 by Richard Saulman. It is place for peole share the incredible ideas about *Technology*, *Entertainment* and *Design* to everyone.\n",
        "\n",
        "![TED Talks logo](https://raw.githubusercontent.com/hxtruong/dataset/master/ted-talks/TED.gif)\n",
        "\n",
        "In recent years, the number of video is organized by TED Talks which is \n",
        "increasing in many countries, include of Vietnam. Althought these video are shared by experts from theirs field, I just want to watch the highest quality TED Talks videos in the valuable videos.\n",
        "\n",
        "### Purpose\n",
        "\n",
        "1.   Finding the highest quality videos to watching\n",
        "    \n",
        "    The question is \n",
        "    * How to know which video is high quality? \n",
        "    * Which factors affect on the quality? \n",
        "2.   Checking the highest view videos is true in 20/80 rule\n",
        "3. Predicting the trend video in fields (Tech, Entertainment or Design) via number of videos"
      ]
    },
    {
      "cell_type": "markdown",
      "metadata": {
        "id": "SmBq82M4xx42",
        "colab_type": "text"
      },
      "source": [
        "## What data we have? \n",
        "*(Refer kaggle)*\n",
        "#### Dataset contains two `csv` files:\n",
        " \n",
        " - ted_main.csv : Contains data on actual TED Talk metadata and TED Talk speakers\n",
        " - transcripts.csv : Contains transcript and URL information for TED Talks\n",
        "\n",
        "### Columns in data\n",
        "#### ted_main.csv\n",
        " - name: The official name of the TED Talk. Includes the title and the speaker.\n",
        " - title: The title of the talk\n",
        " - description: A blurb of what the talk is about.\n",
        " - main_speaker: The first named speaker of the talk.\n",
        " - speaker_occupation: The occupation of the main speaker.\n",
        " - num_speaker: The number of speakers in the talk.\n",
        " - duration: The duration of the talk in seconds.\n",
        " - event: The TED/TEDx event where the talk took place.\n",
        " - film_date: The Unix timestamp of the filming.\n",
        " - published_date: The Unix timestamp for the publication of the talk on TED.com\n",
        " - comments: The number of first level comments made on the talk.\n",
        " - tags: The themes associated with the talk.\n",
        " - languages: The number of languages in which the talk is available.\n",
        " - ratings: A stringified dictionary of the various ratings given to the talk (inspiring, fascinating, jaw dropping, etc.)\n",
        " - related_talks: A list of dictionaries of recommended talks to watch next.\n",
        " - url: The URL of the talk.\n",
        " - views: The number of views on the talk.\n",
        "\n",
        "#### transcripts.csv\n",
        " - transcript: The official English transcript of the talk.\n",
        " - url: The URL of the talk"
      ]
    },
    {
      "cell_type": "markdown",
      "metadata": {
        "id": "z5kR7ve90Acu",
        "colab_type": "text"
      },
      "source": [
        "### Load Libraries"
      ]
    },
    {
      "cell_type": "code",
      "metadata": {
        "id": "FHMijZAuQgb0",
        "colab_type": "code",
        "colab": {}
      },
      "source": [
        "import pandas as pd\n",
        "import numpy as np\n",
        "import matplotlib.pyplot as plt\n",
        "import seaborn as sns\n",
        "%matplotlib inline\n",
        "sns.set()\n",
        "\n",
        "# To avoid Warning message inbetween ...\n",
        "import warnings\n",
        "warnings.filterwarnings('ignore')"
      ],
      "execution_count": 0,
      "outputs": []
    },
    {
      "cell_type": "markdown",
      "metadata": {
        "id": "pk6Sw06R0NUJ",
        "colab_type": "text"
      },
      "source": [
        "### Load the Dataset\n",
        "\n",
        "I load `ted_main.csv` at first."
      ]
    },
    {
      "cell_type": "code",
      "metadata": {
        "id": "VC4PYo5m0N2R",
        "colab_type": "code",
        "colab": {}
      },
      "source": [
        "# Load the Dataset\n",
        "link = \"https://raw.githubusercontent.com/hxtruong/dataset/master/ted-talks/ted_main.csv\"\n",
        "# transcription_link = \"https://raw.githubusercontent.com/hxtruong/dataset/master/ted-talks/transcripts.csv\"\n",
        "df = pd.read_csv(link, skipinitialspace=True)"
      ],
      "execution_count": 0,
      "outputs": []
    },
    {
      "cell_type": "markdown",
      "metadata": {
        "id": "b0gaboD_09qT",
        "colab_type": "text"
      },
      "source": [
        "### Quick Analysis on Dataset"
      ]
    },
    {
      "cell_type": "code",
      "metadata": {
        "id": "Wb6Gy6bV1Db-",
        "colab_type": "code",
        "outputId": "fb121c8d-b7e3-4fc2-fd3e-183caf0da4ae",
        "colab": {
          "base_uri": "https://localhost:8080/",
          "height": 1000
        }
      },
      "source": [
        "#Quick Analysis on Dataset : DataTypes, Rows and Columns ,Null values, Unique values ...\n",
        "def quick_analysis(df):\n",
        "    print(\"Data Types:\")\n",
        "    print(df.dtypes)\n",
        "    print(\"\\n-----\\nRows and Columns:\")\n",
        "    print(df.shape)\n",
        "    print(\"\\n-----\\nColumn names:\")\n",
        "    print(df.columns)\n",
        "    print(\"\\n-----\\nPercent Null Values\")\n",
        "    print(df.apply(lambda x: sum(x.isnull()) / len(df)))\n",
        "    print(\"\\n-----\\nUnique values\")\n",
        "    print(df.nunique())\n",
        "\n",
        "quick_analysis(df)"
      ],
      "execution_count": 3,
      "outputs": [
        {
          "output_type": "stream",
          "text": [
            "Data Types:\n",
            "comments               int64\n",
            "description           object\n",
            "duration               int64\n",
            "event                 object\n",
            "film_date              int64\n",
            "languages              int64\n",
            "main_speaker          object\n",
            "name                  object\n",
            "num_speaker            int64\n",
            "published_date         int64\n",
            "ratings               object\n",
            "related_talks         object\n",
            "speaker_occupation    object\n",
            "tags                  object\n",
            "title                 object\n",
            "url                   object\n",
            "views                  int64\n",
            "dtype: object\n",
            "\n",
            "-----\n",
            "Rows and Columns:\n",
            "(2550, 17)\n",
            "\n",
            "-----\n",
            "Column names:\n",
            "Index(['comments', 'description', 'duration', 'event', 'film_date',\n",
            "       'languages', 'main_speaker', 'name', 'num_speaker', 'published_date',\n",
            "       'ratings', 'related_talks', 'speaker_occupation', 'tags', 'title',\n",
            "       'url', 'views'],\n",
            "      dtype='object')\n",
            "\n",
            "-----\n",
            "Percent Null Values\n",
            "comments              0.000000\n",
            "description           0.000000\n",
            "duration              0.000000\n",
            "event                 0.000000\n",
            "film_date             0.000000\n",
            "languages             0.000000\n",
            "main_speaker          0.000000\n",
            "name                  0.000000\n",
            "num_speaker           0.000000\n",
            "published_date        0.000000\n",
            "ratings               0.000000\n",
            "related_talks         0.000000\n",
            "speaker_occupation    0.002353\n",
            "tags                  0.000000\n",
            "title                 0.000000\n",
            "url                   0.000000\n",
            "views                 0.000000\n",
            "dtype: float64\n",
            "\n",
            "-----\n",
            "Unique values\n",
            "comments               559\n",
            "description           2550\n",
            "duration              1083\n",
            "event                  355\n",
            "film_date              735\n",
            "languages               66\n",
            "main_speaker          2156\n",
            "name                  2550\n",
            "num_speaker              5\n",
            "published_date        2490\n",
            "ratings               2550\n",
            "related_talks         2550\n",
            "speaker_occupation    1458\n",
            "tags                  2530\n",
            "title                 2550\n",
            "url                   2550\n",
            "views                 2550\n",
            "dtype: int64\n"
          ],
          "name": "stdout"
        }
      ]
    },
    {
      "cell_type": "code",
      "metadata": {
        "id": "26OIu8KsHa-g",
        "colab_type": "code",
        "outputId": "b36c2d4c-bbb3-4cc5-f8a4-f573411e146e",
        "colab": {
          "base_uri": "https://localhost:8080/",
          "height": 411
        }
      },
      "source": [
        "df.info()"
      ],
      "execution_count": 4,
      "outputs": [
        {
          "output_type": "stream",
          "text": [
            "<class 'pandas.core.frame.DataFrame'>\n",
            "RangeIndex: 2550 entries, 0 to 2549\n",
            "Data columns (total 17 columns):\n",
            "comments              2550 non-null int64\n",
            "description           2550 non-null object\n",
            "duration              2550 non-null int64\n",
            "event                 2550 non-null object\n",
            "film_date             2550 non-null int64\n",
            "languages             2550 non-null int64\n",
            "main_speaker          2550 non-null object\n",
            "name                  2550 non-null object\n",
            "num_speaker           2550 non-null int64\n",
            "published_date        2550 non-null int64\n",
            "ratings               2550 non-null object\n",
            "related_talks         2550 non-null object\n",
            "speaker_occupation    2544 non-null object\n",
            "tags                  2550 non-null object\n",
            "title                 2550 non-null object\n",
            "url                   2550 non-null object\n",
            "views                 2550 non-null int64\n",
            "dtypes: int64(7), object(10)\n",
            "memory usage: 338.8+ KB\n"
          ],
          "name": "stdout"
        }
      ]
    },
    {
      "cell_type": "markdown",
      "metadata": {
        "id": "KrJttc1VHeMf",
        "colab_type": "text"
      },
      "source": [
        "**>Comment**\n",
        "\n",
        "From information above:\n",
        "  - Dataset have 6 *`null`* `speaker_occupation` values.\n",
        "  - Data is clean enough to exploring"
      ]
    },
    {
      "cell_type": "markdown",
      "metadata": {
        "id": "s6gdyCX7I-v1",
        "colab_type": "text"
      },
      "source": [
        "##### Show 5 random videos in dataset"
      ]
    },
    {
      "cell_type": "code",
      "metadata": {
        "id": "BKJfaSDh13H7",
        "colab_type": "code",
        "outputId": "d35d67e3-733a-4e24-c6c2-6363c2b6d3a1",
        "colab": {
          "base_uri": "https://localhost:8080/",
          "height": 581
        }
      },
      "source": [
        "df.sample(5)"
      ],
      "execution_count": 5,
      "outputs": [
        {
          "output_type": "execute_result",
          "data": {
            "text/html": [
              "<div>\n",
              "<style scoped>\n",
              "    .dataframe tbody tr th:only-of-type {\n",
              "        vertical-align: middle;\n",
              "    }\n",
              "\n",
              "    .dataframe tbody tr th {\n",
              "        vertical-align: top;\n",
              "    }\n",
              "\n",
              "    .dataframe thead th {\n",
              "        text-align: right;\n",
              "    }\n",
              "</style>\n",
              "<table border=\"1\" class=\"dataframe\">\n",
              "  <thead>\n",
              "    <tr style=\"text-align: right;\">\n",
              "      <th></th>\n",
              "      <th>comments</th>\n",
              "      <th>description</th>\n",
              "      <th>duration</th>\n",
              "      <th>event</th>\n",
              "      <th>film_date</th>\n",
              "      <th>languages</th>\n",
              "      <th>main_speaker</th>\n",
              "      <th>name</th>\n",
              "      <th>num_speaker</th>\n",
              "      <th>published_date</th>\n",
              "      <th>ratings</th>\n",
              "      <th>related_talks</th>\n",
              "      <th>speaker_occupation</th>\n",
              "      <th>tags</th>\n",
              "      <th>title</th>\n",
              "      <th>url</th>\n",
              "      <th>views</th>\n",
              "    </tr>\n",
              "  </thead>\n",
              "  <tbody>\n",
              "    <tr>\n",
              "      <th>1485</th>\n",
              "      <td>235</td>\n",
              "      <td>As machines take on more jobs, many find thems...</td>\n",
              "      <td>716</td>\n",
              "      <td>TED2013</td>\n",
              "      <td>1361836800</td>\n",
              "      <td>27</td>\n",
              "      <td>Erik Brynjolfsson</td>\n",
              "      <td>Erik Brynjolfsson: The key to growth? Race wit...</td>\n",
              "      <td>1</td>\n",
              "      <td>1366729421</td>\n",
              "      <td>[{'id': 3, 'name': 'Courageous', 'count': 38},...</td>\n",
              "      <td>[{'id': 1556, 'hero': 'https://pe.tedcdn.com/i...</td>\n",
              "      <td>Innovation researcher</td>\n",
              "      <td>['business', 'economics', 'technology', 'work']</td>\n",
              "      <td>The key to growth? Race with the machines</td>\n",
              "      <td>https://www.ted.com/talks/erik_brynjolfsson_th...</td>\n",
              "      <td>1200139</td>\n",
              "    </tr>\n",
              "    <tr>\n",
              "      <th>647</th>\n",
              "      <td>180</td>\n",
              "      <td>Planetary scientist Joel Levine shows some int...</td>\n",
              "      <td>974</td>\n",
              "      <td>TEDxNASA</td>\n",
              "      <td>1258675200</td>\n",
              "      <td>25</td>\n",
              "      <td>Joel Levine</td>\n",
              "      <td>Joel Levine: Why we need to go back to Mars</td>\n",
              "      <td>1</td>\n",
              "      <td>1269507540</td>\n",
              "      <td>[{'id': 9, 'name': 'Ingenious', 'count': 133},...</td>\n",
              "      <td>[{'id': 141, 'hero': 'https://pe.tedcdn.com/im...</td>\n",
              "      <td>Planetary and atmospheric scientist</td>\n",
              "      <td>['Mars', 'Planets', 'TEDx', 'exploration', 'li...</td>\n",
              "      <td>Why we need to go back to Mars</td>\n",
              "      <td>https://www.ted.com/talks/joel_levine\\n</td>\n",
              "      <td>622046</td>\n",
              "    </tr>\n",
              "    <tr>\n",
              "      <th>383</th>\n",
              "      <td>147</td>\n",
              "      <td>MIT grad student David Merrill demos Siftables...</td>\n",
              "      <td>429</td>\n",
              "      <td>TED2009</td>\n",
              "      <td>1233878400</td>\n",
              "      <td>29</td>\n",
              "      <td>David Merrill</td>\n",
              "      <td>David Merrill: Toy tiles that talk to each other</td>\n",
              "      <td>1</td>\n",
              "      <td>1234431300</td>\n",
              "      <td>[{'id': 9, 'name': 'Ingenious', 'count': 824},...</td>\n",
              "      <td>[{'id': 350, 'hero': 'https://pe.tedcdn.com/im...</td>\n",
              "      <td>MIT grad student</td>\n",
              "      <td>['art', 'business', 'children', 'computers', '...</td>\n",
              "      <td>Toy tiles that talk to each other</td>\n",
              "      <td>https://www.ted.com/talks/david_merrill_demos_...</td>\n",
              "      <td>1765153</td>\n",
              "    </tr>\n",
              "    <tr>\n",
              "      <th>523</th>\n",
              "      <td>185</td>\n",
              "      <td>Many people think the lines on the map no long...</td>\n",
              "      <td>1133</td>\n",
              "      <td>TEDGlobal 2009</td>\n",
              "      <td>1248307200</td>\n",
              "      <td>26</td>\n",
              "      <td>Parag Khanna</td>\n",
              "      <td>Parag Khanna: Mapping the future of countries</td>\n",
              "      <td>1</td>\n",
              "      <td>1254099600</td>\n",
              "      <td>[{'id': 22, 'name': 'Fascinating', 'count': 33...</td>\n",
              "      <td>[{'id': 604, 'hero': 'https://pe.tedcdn.com/im...</td>\n",
              "      <td>Global strategist</td>\n",
              "      <td>['Asia', 'economics', 'global issues', 'histor...</td>\n",
              "      <td>Mapping the future of countries</td>\n",
              "      <td>https://www.ted.com/talks/parag_khanna_maps_th...</td>\n",
              "      <td>935859</td>\n",
              "    </tr>\n",
              "    <tr>\n",
              "      <th>96</th>\n",
              "      <td>6404</td>\n",
              "      <td>Richard Dawkins urges all atheists to openly s...</td>\n",
              "      <td>1750</td>\n",
              "      <td>TED2002</td>\n",
              "      <td>1012608000</td>\n",
              "      <td>42</td>\n",
              "      <td>Richard Dawkins</td>\n",
              "      <td>Richard Dawkins: Militant atheism</td>\n",
              "      <td>1</td>\n",
              "      <td>1176689220</td>\n",
              "      <td>[{'id': 3, 'name': 'Courageous', 'count': 3236...</td>\n",
              "      <td>[{'id': 86, 'hero': 'https://pe.tedcdn.com/ima...</td>\n",
              "      <td>Evolutionary biologist</td>\n",
              "      <td>['God', 'atheism', 'culture', 'religion', 'sci...</td>\n",
              "      <td>Militant atheism</td>\n",
              "      <td>https://www.ted.com/talks/richard_dawkins_on_m...</td>\n",
              "      <td>4374792</td>\n",
              "    </tr>\n",
              "  </tbody>\n",
              "</table>\n",
              "</div>"
            ],
            "text/plain": [
              "      comments  ...    views\n",
              "1485       235  ...  1200139\n",
              "647        180  ...   622046\n",
              "383        147  ...  1765153\n",
              "523        185  ...   935859\n",
              "96        6404  ...  4374792\n",
              "\n",
              "[5 rows x 17 columns]"
            ]
          },
          "metadata": {
            "tags": []
          },
          "execution_count": 5
        }
      ]
    },
    {
      "cell_type": "markdown",
      "metadata": {
        "id": "cxEbLgLiNudw",
        "colab_type": "text"
      },
      "source": [
        "##### Change time to easy understand"
      ]
    },
    {
      "cell_type": "code",
      "metadata": {
        "id": "hiIMfu6jN7Xq",
        "colab_type": "code",
        "colab": {}
      },
      "source": [
        "from datetime import datetime\n",
        "df['film_date'] = df['film_date'].apply(lambda x: datetime.fromtimestamp( int(x)).strftime('%d-%m-%Y'))\n",
        "df['published_date'] = df['published_date'].apply(lambda x: datetime.fromtimestamp( int(x)).strftime('%d-%m-%Y'))"
      ],
      "execution_count": 0,
      "outputs": []
    },
    {
      "cell_type": "code",
      "metadata": {
        "id": "omdQ-oLvOT5s",
        "colab_type": "code",
        "outputId": "f2b69b01-cbaf-4f50-e991-5087f3b5c7da",
        "colab": {
          "base_uri": "https://localhost:8080/",
          "height": 329
        }
      },
      "source": [
        "df.loc[:3, ['title', 'film_date', 'published_date']]"
      ],
      "execution_count": 7,
      "outputs": [
        {
          "output_type": "execute_result",
          "data": {
            "text/html": [
              "<div>\n",
              "<style scoped>\n",
              "    .dataframe tbody tr th:only-of-type {\n",
              "        vertical-align: middle;\n",
              "    }\n",
              "\n",
              "    .dataframe tbody tr th {\n",
              "        vertical-align: top;\n",
              "    }\n",
              "\n",
              "    .dataframe thead th {\n",
              "        text-align: right;\n",
              "    }\n",
              "</style>\n",
              "<table border=\"1\" class=\"dataframe\">\n",
              "  <thead>\n",
              "    <tr style=\"text-align: right;\">\n",
              "      <th></th>\n",
              "      <th>title</th>\n",
              "      <th>film_date</th>\n",
              "      <th>published_date</th>\n",
              "    </tr>\n",
              "  </thead>\n",
              "  <tbody>\n",
              "    <tr>\n",
              "      <th>0</th>\n",
              "      <td>Do schools kill creativity?</td>\n",
              "      <td>25-02-2006</td>\n",
              "      <td>27-06-2006</td>\n",
              "    </tr>\n",
              "    <tr>\n",
              "      <th>1</th>\n",
              "      <td>Averting the climate crisis</td>\n",
              "      <td>25-02-2006</td>\n",
              "      <td>27-06-2006</td>\n",
              "    </tr>\n",
              "    <tr>\n",
              "      <th>2</th>\n",
              "      <td>Simplicity sells</td>\n",
              "      <td>24-02-2006</td>\n",
              "      <td>27-06-2006</td>\n",
              "    </tr>\n",
              "    <tr>\n",
              "      <th>3</th>\n",
              "      <td>Greening the ghetto</td>\n",
              "      <td>26-02-2006</td>\n",
              "      <td>27-06-2006</td>\n",
              "    </tr>\n",
              "  </tbody>\n",
              "</table>\n",
              "</div>"
            ],
            "text/plain": [
              "                         title   film_date published_date\n",
              "0  Do schools kill creativity?  25-02-2006     27-06-2006\n",
              "1  Averting the climate crisis  25-02-2006     27-06-2006\n",
              "2             Simplicity sells  24-02-2006     27-06-2006\n",
              "3          Greening the ghetto  26-02-2006     27-06-2006"
            ]
          },
          "metadata": {
            "tags": []
          },
          "execution_count": 7
        }
      ]
    },
    {
      "cell_type": "code",
      "metadata": {
        "id": "65f8MoyERb8i",
        "colab_type": "code",
        "outputId": "4fbdd69b-1fab-48be-e4a4-1c0cbb34c96e",
        "colab": {
          "base_uri": "https://localhost:8080/",
          "height": 411
        }
      },
      "source": [
        "df.info()"
      ],
      "execution_count": 8,
      "outputs": [
        {
          "output_type": "stream",
          "text": [
            "<class 'pandas.core.frame.DataFrame'>\n",
            "RangeIndex: 2550 entries, 0 to 2549\n",
            "Data columns (total 17 columns):\n",
            "comments              2550 non-null int64\n",
            "description           2550 non-null object\n",
            "duration              2550 non-null int64\n",
            "event                 2550 non-null object\n",
            "film_date             2550 non-null object\n",
            "languages             2550 non-null int64\n",
            "main_speaker          2550 non-null object\n",
            "name                  2550 non-null object\n",
            "num_speaker           2550 non-null int64\n",
            "published_date        2550 non-null object\n",
            "ratings               2550 non-null object\n",
            "related_talks         2550 non-null object\n",
            "speaker_occupation    2544 non-null object\n",
            "tags                  2550 non-null object\n",
            "title                 2550 non-null object\n",
            "url                   2550 non-null object\n",
            "views                 2550 non-null int64\n",
            "dtypes: int64(5), object(12)\n",
            "memory usage: 338.8+ KB\n"
          ],
          "name": "stdout"
        }
      ]
    },
    {
      "cell_type": "markdown",
      "metadata": {
        "id": "tYOq6-DMJTcY",
        "colab_type": "text"
      },
      "source": [
        "##### Swap columns for easily explore"
      ]
    },
    {
      "cell_type": "code",
      "metadata": {
        "id": "ofFqHh2uHNXc",
        "colab_type": "code",
        "outputId": "d139e33b-8f2e-4c1f-f07c-365df62911a4",
        "colab": {
          "base_uri": "https://localhost:8080/",
          "height": 122
        }
      },
      "source": [
        "cols = df.columns\n",
        "cols = ['name', 'title', 'main_speaker', 'duration', 'views', 'comments', \n",
        "        'description', 'event', 'film_date','published_date',\n",
        "        'languages',  'num_speaker', 'ratings', 'related_talks', \n",
        "        'speaker_occupation', 'tags', 'url']\n",
        "df = df.reindex(columns=cols)\n",
        "df.columns"
      ],
      "execution_count": 9,
      "outputs": [
        {
          "output_type": "execute_result",
          "data": {
            "text/plain": [
              "Index(['name', 'title', 'main_speaker', 'duration', 'views', 'comments',\n",
              "       'description', 'event', 'film_date', 'published_date', 'languages',\n",
              "       'num_speaker', 'ratings', 'related_talks', 'speaker_occupation', 'tags',\n",
              "       'url'],\n",
              "      dtype='object')"
            ]
          },
          "metadata": {
            "tags": []
          },
          "execution_count": 9
        }
      ]
    },
    {
      "cell_type": "code",
      "metadata": {
        "id": "bcwwh2ZILKaM",
        "colab_type": "code",
        "outputId": "671185f9-768e-492c-e0ed-997fa411068b",
        "colab": {
          "base_uri": "https://localhost:8080/",
          "height": 284
        }
      },
      "source": [
        "df.head(2)"
      ],
      "execution_count": 10,
      "outputs": [
        {
          "output_type": "execute_result",
          "data": {
            "text/html": [
              "<div>\n",
              "<style scoped>\n",
              "    .dataframe tbody tr th:only-of-type {\n",
              "        vertical-align: middle;\n",
              "    }\n",
              "\n",
              "    .dataframe tbody tr th {\n",
              "        vertical-align: top;\n",
              "    }\n",
              "\n",
              "    .dataframe thead th {\n",
              "        text-align: right;\n",
              "    }\n",
              "</style>\n",
              "<table border=\"1\" class=\"dataframe\">\n",
              "  <thead>\n",
              "    <tr style=\"text-align: right;\">\n",
              "      <th></th>\n",
              "      <th>name</th>\n",
              "      <th>title</th>\n",
              "      <th>main_speaker</th>\n",
              "      <th>duration</th>\n",
              "      <th>views</th>\n",
              "      <th>comments</th>\n",
              "      <th>description</th>\n",
              "      <th>event</th>\n",
              "      <th>film_date</th>\n",
              "      <th>published_date</th>\n",
              "      <th>languages</th>\n",
              "      <th>num_speaker</th>\n",
              "      <th>ratings</th>\n",
              "      <th>related_talks</th>\n",
              "      <th>speaker_occupation</th>\n",
              "      <th>tags</th>\n",
              "      <th>url</th>\n",
              "    </tr>\n",
              "  </thead>\n",
              "  <tbody>\n",
              "    <tr>\n",
              "      <th>0</th>\n",
              "      <td>Ken Robinson: Do schools kill creativity?</td>\n",
              "      <td>Do schools kill creativity?</td>\n",
              "      <td>Ken Robinson</td>\n",
              "      <td>1164</td>\n",
              "      <td>47227110</td>\n",
              "      <td>4553</td>\n",
              "      <td>Sir Ken Robinson makes an entertaining and pro...</td>\n",
              "      <td>TED2006</td>\n",
              "      <td>25-02-2006</td>\n",
              "      <td>27-06-2006</td>\n",
              "      <td>60</td>\n",
              "      <td>1</td>\n",
              "      <td>[{'id': 7, 'name': 'Funny', 'count': 19645}, {...</td>\n",
              "      <td>[{'id': 865, 'hero': 'https://pe.tedcdn.com/im...</td>\n",
              "      <td>Author/educator</td>\n",
              "      <td>['children', 'creativity', 'culture', 'dance',...</td>\n",
              "      <td>https://www.ted.com/talks/ken_robinson_says_sc...</td>\n",
              "    </tr>\n",
              "    <tr>\n",
              "      <th>1</th>\n",
              "      <td>Al Gore: Averting the climate crisis</td>\n",
              "      <td>Averting the climate crisis</td>\n",
              "      <td>Al Gore</td>\n",
              "      <td>977</td>\n",
              "      <td>3200520</td>\n",
              "      <td>265</td>\n",
              "      <td>With the same humor and humanity he exuded in ...</td>\n",
              "      <td>TED2006</td>\n",
              "      <td>25-02-2006</td>\n",
              "      <td>27-06-2006</td>\n",
              "      <td>43</td>\n",
              "      <td>1</td>\n",
              "      <td>[{'id': 7, 'name': 'Funny', 'count': 544}, {'i...</td>\n",
              "      <td>[{'id': 243, 'hero': 'https://pe.tedcdn.com/im...</td>\n",
              "      <td>Climate advocate</td>\n",
              "      <td>['alternative energy', 'cars', 'climate change...</td>\n",
              "      <td>https://www.ted.com/talks/al_gore_on_averting_...</td>\n",
              "    </tr>\n",
              "  </tbody>\n",
              "</table>\n",
              "</div>"
            ],
            "text/plain": [
              "                                        name  ...                                                url\n",
              "0  Ken Robinson: Do schools kill creativity?  ...  https://www.ted.com/talks/ken_robinson_says_sc...\n",
              "1       Al Gore: Averting the climate crisis  ...  https://www.ted.com/talks/al_gore_on_averting_...\n",
              "\n",
              "[2 rows x 17 columns]"
            ]
          },
          "metadata": {
            "tags": []
          },
          "execution_count": 10
        }
      ]
    },
    {
      "cell_type": "markdown",
      "metadata": {
        "id": "W6ms3L6GLyFk",
        "colab_type": "text"
      },
      "source": [
        "##### Describe dataset"
      ]
    },
    {
      "cell_type": "code",
      "metadata": {
        "id": "FwY-eqc3L3Qi",
        "colab_type": "code",
        "outputId": "17163928-6852-4b6f-b8e1-352ed99e508e",
        "colab": {
          "base_uri": "https://localhost:8080/",
          "height": 317
        }
      },
      "source": [
        "df.describe()"
      ],
      "execution_count": 11,
      "outputs": [
        {
          "output_type": "execute_result",
          "data": {
            "text/html": [
              "<div>\n",
              "<style scoped>\n",
              "    .dataframe tbody tr th:only-of-type {\n",
              "        vertical-align: middle;\n",
              "    }\n",
              "\n",
              "    .dataframe tbody tr th {\n",
              "        vertical-align: top;\n",
              "    }\n",
              "\n",
              "    .dataframe thead th {\n",
              "        text-align: right;\n",
              "    }\n",
              "</style>\n",
              "<table border=\"1\" class=\"dataframe\">\n",
              "  <thead>\n",
              "    <tr style=\"text-align: right;\">\n",
              "      <th></th>\n",
              "      <th>duration</th>\n",
              "      <th>views</th>\n",
              "      <th>comments</th>\n",
              "      <th>languages</th>\n",
              "      <th>num_speaker</th>\n",
              "    </tr>\n",
              "  </thead>\n",
              "  <tbody>\n",
              "    <tr>\n",
              "      <th>count</th>\n",
              "      <td>2550.000000</td>\n",
              "      <td>2.550000e+03</td>\n",
              "      <td>2550.000000</td>\n",
              "      <td>2550.000000</td>\n",
              "      <td>2550.000000</td>\n",
              "    </tr>\n",
              "    <tr>\n",
              "      <th>mean</th>\n",
              "      <td>826.510196</td>\n",
              "      <td>1.698297e+06</td>\n",
              "      <td>191.562353</td>\n",
              "      <td>27.326275</td>\n",
              "      <td>1.028235</td>\n",
              "    </tr>\n",
              "    <tr>\n",
              "      <th>std</th>\n",
              "      <td>374.009138</td>\n",
              "      <td>2.498479e+06</td>\n",
              "      <td>282.315223</td>\n",
              "      <td>9.563452</td>\n",
              "      <td>0.207705</td>\n",
              "    </tr>\n",
              "    <tr>\n",
              "      <th>min</th>\n",
              "      <td>135.000000</td>\n",
              "      <td>5.044300e+04</td>\n",
              "      <td>2.000000</td>\n",
              "      <td>0.000000</td>\n",
              "      <td>1.000000</td>\n",
              "    </tr>\n",
              "    <tr>\n",
              "      <th>25%</th>\n",
              "      <td>577.000000</td>\n",
              "      <td>7.557928e+05</td>\n",
              "      <td>63.000000</td>\n",
              "      <td>23.000000</td>\n",
              "      <td>1.000000</td>\n",
              "    </tr>\n",
              "    <tr>\n",
              "      <th>50%</th>\n",
              "      <td>848.000000</td>\n",
              "      <td>1.124524e+06</td>\n",
              "      <td>118.000000</td>\n",
              "      <td>28.000000</td>\n",
              "      <td>1.000000</td>\n",
              "    </tr>\n",
              "    <tr>\n",
              "      <th>75%</th>\n",
              "      <td>1046.750000</td>\n",
              "      <td>1.700760e+06</td>\n",
              "      <td>221.750000</td>\n",
              "      <td>33.000000</td>\n",
              "      <td>1.000000</td>\n",
              "    </tr>\n",
              "    <tr>\n",
              "      <th>max</th>\n",
              "      <td>5256.000000</td>\n",
              "      <td>4.722711e+07</td>\n",
              "      <td>6404.000000</td>\n",
              "      <td>72.000000</td>\n",
              "      <td>5.000000</td>\n",
              "    </tr>\n",
              "  </tbody>\n",
              "</table>\n",
              "</div>"
            ],
            "text/plain": [
              "          duration         views     comments    languages  num_speaker\n",
              "count  2550.000000  2.550000e+03  2550.000000  2550.000000  2550.000000\n",
              "mean    826.510196  1.698297e+06   191.562353    27.326275     1.028235\n",
              "std     374.009138  2.498479e+06   282.315223     9.563452     0.207705\n",
              "min     135.000000  5.044300e+04     2.000000     0.000000     1.000000\n",
              "25%     577.000000  7.557928e+05    63.000000    23.000000     1.000000\n",
              "50%     848.000000  1.124524e+06   118.000000    28.000000     1.000000\n",
              "75%    1046.750000  1.700760e+06   221.750000    33.000000     1.000000\n",
              "max    5256.000000  4.722711e+07  6404.000000    72.000000     5.000000"
            ]
          },
          "metadata": {
            "tags": []
          },
          "execution_count": 11
        }
      ]
    },
    {
      "cell_type": "markdown",
      "metadata": {
        "id": "pBdnPNIaXZnM",
        "colab_type": "text"
      },
      "source": [
        "### Data Manuplation in the Dataset"
      ]
    },
    {
      "cell_type": "markdown",
      "metadata": {
        "id": "Rf17A92UX15r",
        "colab_type": "text"
      },
      "source": [
        "In dataset, I realize that `name` is combined `title` and `main_speaker` which is not nessersary."
      ]
    },
    {
      "cell_type": "code",
      "metadata": {
        "id": "b1qDUbpSaYy3",
        "colab_type": "code",
        "outputId": "4bca00a4-d791-4c70-bc84-5c61d40d5dd0",
        "colab": {
          "base_uri": "https://localhost:8080/",
          "height": 185
        }
      },
      "source": [
        "df.head(1)"
      ],
      "execution_count": 12,
      "outputs": [
        {
          "output_type": "execute_result",
          "data": {
            "text/html": [
              "<div>\n",
              "<style scoped>\n",
              "    .dataframe tbody tr th:only-of-type {\n",
              "        vertical-align: middle;\n",
              "    }\n",
              "\n",
              "    .dataframe tbody tr th {\n",
              "        vertical-align: top;\n",
              "    }\n",
              "\n",
              "    .dataframe thead th {\n",
              "        text-align: right;\n",
              "    }\n",
              "</style>\n",
              "<table border=\"1\" class=\"dataframe\">\n",
              "  <thead>\n",
              "    <tr style=\"text-align: right;\">\n",
              "      <th></th>\n",
              "      <th>name</th>\n",
              "      <th>title</th>\n",
              "      <th>main_speaker</th>\n",
              "      <th>duration</th>\n",
              "      <th>views</th>\n",
              "      <th>comments</th>\n",
              "      <th>description</th>\n",
              "      <th>event</th>\n",
              "      <th>film_date</th>\n",
              "      <th>published_date</th>\n",
              "      <th>languages</th>\n",
              "      <th>num_speaker</th>\n",
              "      <th>ratings</th>\n",
              "      <th>related_talks</th>\n",
              "      <th>speaker_occupation</th>\n",
              "      <th>tags</th>\n",
              "      <th>url</th>\n",
              "    </tr>\n",
              "  </thead>\n",
              "  <tbody>\n",
              "    <tr>\n",
              "      <th>0</th>\n",
              "      <td>Ken Robinson: Do schools kill creativity?</td>\n",
              "      <td>Do schools kill creativity?</td>\n",
              "      <td>Ken Robinson</td>\n",
              "      <td>1164</td>\n",
              "      <td>47227110</td>\n",
              "      <td>4553</td>\n",
              "      <td>Sir Ken Robinson makes an entertaining and pro...</td>\n",
              "      <td>TED2006</td>\n",
              "      <td>25-02-2006</td>\n",
              "      <td>27-06-2006</td>\n",
              "      <td>60</td>\n",
              "      <td>1</td>\n",
              "      <td>[{'id': 7, 'name': 'Funny', 'count': 19645}, {...</td>\n",
              "      <td>[{'id': 865, 'hero': 'https://pe.tedcdn.com/im...</td>\n",
              "      <td>Author/educator</td>\n",
              "      <td>['children', 'creativity', 'culture', 'dance',...</td>\n",
              "      <td>https://www.ted.com/talks/ken_robinson_says_sc...</td>\n",
              "    </tr>\n",
              "  </tbody>\n",
              "</table>\n",
              "</div>"
            ],
            "text/plain": [
              "                                        name  ...                                                url\n",
              "0  Ken Robinson: Do schools kill creativity?  ...  https://www.ted.com/talks/ken_robinson_says_sc...\n",
              "\n",
              "[1 rows x 17 columns]"
            ]
          },
          "metadata": {
            "tags": []
          },
          "execution_count": 12
        }
      ]
    },
    {
      "cell_type": "code",
      "metadata": {
        "id": "xjPWJDuXXccx",
        "colab_type": "code",
        "outputId": "7c9c9bf9-cfbf-42db-d2dd-c24e2c564e24",
        "colab": {
          "base_uri": "https://localhost:8080/",
          "height": 88
        }
      },
      "source": [
        "(df['name'] == df['main_speaker']+ \": \" + df['title']).value_counts()"
      ],
      "execution_count": 13,
      "outputs": [
        {
          "output_type": "execute_result",
          "data": {
            "text/plain": [
              "True     2541\n",
              "False       9\n",
              "dtype: int64"
            ]
          },
          "metadata": {
            "tags": []
          },
          "execution_count": 13
        }
      ]
    },
    {
      "cell_type": "markdown",
      "metadata": {
        "id": "8HS88QgWYkDE",
        "colab_type": "text"
      },
      "source": [
        "There are 9 `name` is not combined by `speaker` and `title`"
      ]
    },
    {
      "cell_type": "code",
      "metadata": {
        "id": "8udw9egSYvM2",
        "colab_type": "code",
        "outputId": "bf796803-1b0e-4285-ce05-ecd3c0c502d2",
        "colab": {
          "base_uri": "https://localhost:8080/",
          "height": 943
        }
      },
      "source": [
        "df[df['name'] != df['main_speaker']+ \": \" + df['title']][['name', 'title', 'main_speaker']]"
      ],
      "execution_count": 14,
      "outputs": [
        {
          "output_type": "execute_result",
          "data": {
            "text/html": [
              "<div>\n",
              "<style scoped>\n",
              "    .dataframe tbody tr th:only-of-type {\n",
              "        vertical-align: middle;\n",
              "    }\n",
              "\n",
              "    .dataframe tbody tr th {\n",
              "        vertical-align: top;\n",
              "    }\n",
              "\n",
              "    .dataframe thead th {\n",
              "        text-align: right;\n",
              "    }\n",
              "</style>\n",
              "<table border=\"1\" class=\"dataframe\">\n",
              "  <thead>\n",
              "    <tr style=\"text-align: right;\">\n",
              "      <th></th>\n",
              "      <th>name</th>\n",
              "      <th>title</th>\n",
              "      <th>main_speaker</th>\n",
              "    </tr>\n",
              "  </thead>\n",
              "  <tbody>\n",
              "    <tr>\n",
              "      <th>898</th>\n",
              "      <td>Patricia Ryan: Don't insist on English!</td>\n",
              "      <td>Don't insist on English!</td>\n",
              "      <td>Patricia Ryan</td>\n",
              "    </tr>\n",
              "    <tr>\n",
              "      <th>1543</th>\n",
              "      <td>The interspecies internet? An idea in progress</td>\n",
              "      <td>The interspecies internet? An idea in progress</td>\n",
              "      <td>Diana Reiss, Peter Gabriel, Neil Gershenfeld a...</td>\n",
              "    </tr>\n",
              "    <tr>\n",
              "      <th>1549</th>\n",
              "      <td>Two young scientists break down plastics with ...</td>\n",
              "      <td>Two young scientists break down plastics with ...</td>\n",
              "      <td>Miranda Wang and Jeanny Yao</td>\n",
              "    </tr>\n",
              "    <tr>\n",
              "      <th>1745</th>\n",
              "      <td>Tristram Wyatt: The smelly mystery of the huma...</td>\n",
              "      <td>The smelly mystery of the human pheromone</td>\n",
              "      <td>Tristram Wyatt</td>\n",
              "    </tr>\n",
              "    <tr>\n",
              "      <th>1768</th>\n",
              "      <td>Anne Curzan: What makes a word \"real\"?</td>\n",
              "      <td>What makes a word \"real\"?</td>\n",
              "      <td>Anne Curzan</td>\n",
              "    </tr>\n",
              "    <tr>\n",
              "      <th>1769</th>\n",
              "      <td>Ruth Chang: How to make hard choices</td>\n",
              "      <td>How to make hard choices</td>\n",
              "      <td>Ruth Chang</td>\n",
              "    </tr>\n",
              "    <tr>\n",
              "      <th>1845</th>\n",
              "      <td>Susan Etlinger: What do we do with all this bi...</td>\n",
              "      <td>What do we do with all this big data?</td>\n",
              "      <td>Susan Etlinger</td>\n",
              "    </tr>\n",
              "    <tr>\n",
              "      <th>2466</th>\n",
              "      <td>Michael Bierut: How to design a library that m...</td>\n",
              "      <td>How to design a library that makes kids want t...</td>\n",
              "      <td>Michael Bierut</td>\n",
              "    </tr>\n",
              "    <tr>\n",
              "      <th>2512</th>\n",
              "      <td>Jack Conte: How artists can (finally) get paid...</td>\n",
              "      <td>How artists can (finally) get paid in the digi...</td>\n",
              "      <td>Jack Conte</td>\n",
              "    </tr>\n",
              "  </tbody>\n",
              "</table>\n",
              "</div>"
            ],
            "text/plain": [
              "                                                   name  ...                                       main_speaker\n",
              "898             Patricia Ryan: Don't insist on English!  ...                                     Patricia Ryan \n",
              "1543     The interspecies internet? An idea in progress  ...  Diana Reiss, Peter Gabriel, Neil Gershenfeld a...\n",
              "1549  Two young scientists break down plastics with ...  ...                        Miranda Wang and Jeanny Yao\n",
              "1745  Tristram Wyatt: The smelly mystery of the huma...  ...                                     Tristram Wyatt\n",
              "1768             Anne Curzan: What makes a word \"real\"?  ...                                       Anne Curzan \n",
              "1769               Ruth Chang: How to make hard choices  ...                                         Ruth Chang\n",
              "1845  Susan Etlinger: What do we do with all this bi...  ...                                     Susan Etlinger\n",
              "2466  Michael Bierut: How to design a library that m...  ...                                     Michael Bierut\n",
              "2512  Jack Conte: How artists can (finally) get paid...  ...                                         Jack Conte\n",
              "\n",
              "[9 rows x 3 columns]"
            ]
          },
          "metadata": {
            "tags": []
          },
          "execution_count": 14
        }
      ]
    },
    {
      "cell_type": "markdown",
      "metadata": {
        "id": "Qo1zouvfZ9fn",
        "colab_type": "text"
      },
      "source": [
        "After see the difference, that is not special. So it should drop `name` columns."
      ]
    },
    {
      "cell_type": "code",
      "metadata": {
        "id": "IpUjjIpiZZ8C",
        "colab_type": "code",
        "colab": {}
      },
      "source": [
        "df.drop(columns=['name'], inplace=True)"
      ],
      "execution_count": 0,
      "outputs": []
    },
    {
      "cell_type": "code",
      "metadata": {
        "id": "hG9h7hTLbzev",
        "colab_type": "code",
        "outputId": "6b109d17-a483-451e-80b5-a582257ddbb1",
        "colab": {
          "base_uri": "https://localhost:8080/",
          "height": 394
        }
      },
      "source": [
        "df.info()"
      ],
      "execution_count": 16,
      "outputs": [
        {
          "output_type": "stream",
          "text": [
            "<class 'pandas.core.frame.DataFrame'>\n",
            "RangeIndex: 2550 entries, 0 to 2549\n",
            "Data columns (total 16 columns):\n",
            "title                 2550 non-null object\n",
            "main_speaker          2550 non-null object\n",
            "duration              2550 non-null int64\n",
            "views                 2550 non-null int64\n",
            "comments              2550 non-null int64\n",
            "description           2550 non-null object\n",
            "event                 2550 non-null object\n",
            "film_date             2550 non-null object\n",
            "published_date        2550 non-null object\n",
            "languages             2550 non-null int64\n",
            "num_speaker           2550 non-null int64\n",
            "ratings               2550 non-null object\n",
            "related_talks         2550 non-null object\n",
            "speaker_occupation    2544 non-null object\n",
            "tags                  2550 non-null object\n",
            "url                   2550 non-null object\n",
            "dtypes: int64(5), object(11)\n",
            "memory usage: 318.8+ KB\n"
          ],
          "name": "stdout"
        }
      ]
    },
    {
      "cell_type": "markdown",
      "metadata": {
        "id": "4sw9xoHtbYQq",
        "colab_type": "text"
      },
      "source": [
        "## 1. Finding the highest quality TED Talks videos"
      ]
    },
    {
      "cell_type": "markdown",
      "metadata": {
        "id": "RVNuDCSbbpDf",
        "colab_type": "text"
      },
      "source": [
        "#### **> Comment**\n",
        "\n",
        "- The quality video should be had **high views**. The number of views indicate the popular of that video which tell other that this video has quality content, so it will attractive many people."
      ]
    },
    {
      "cell_type": "markdown",
      "metadata": {
        "id": "nD_lxDw_5IZd",
        "colab_type": "text"
      },
      "source": [
        "> Top **15 videos** has the highest views"
      ]
    },
    {
      "cell_type": "code",
      "metadata": {
        "id": "ha-GWAXrevIM",
        "colab_type": "code",
        "colab": {
          "base_uri": "https://localhost:8080/",
          "height": 514
        },
        "outputId": "fb435c53-e9b1-4442-beac-8a5d7bf64740"
      },
      "source": [
        "view_sorted_talks = df[['title', 'main_speaker','url', 'film_date', 'views']].sort_values(by=['views'], ascending=False)\n",
        "view_sorted_talks[:15]"
      ],
      "execution_count": 24,
      "outputs": [
        {
          "output_type": "execute_result",
          "data": {
            "text/html": [
              "<div>\n",
              "<style scoped>\n",
              "    .dataframe tbody tr th:only-of-type {\n",
              "        vertical-align: middle;\n",
              "    }\n",
              "\n",
              "    .dataframe tbody tr th {\n",
              "        vertical-align: top;\n",
              "    }\n",
              "\n",
              "    .dataframe thead th {\n",
              "        text-align: right;\n",
              "    }\n",
              "</style>\n",
              "<table border=\"1\" class=\"dataframe\">\n",
              "  <thead>\n",
              "    <tr style=\"text-align: right;\">\n",
              "      <th></th>\n",
              "      <th>title</th>\n",
              "      <th>main_speaker</th>\n",
              "      <th>url</th>\n",
              "      <th>film_date</th>\n",
              "      <th>views</th>\n",
              "    </tr>\n",
              "  </thead>\n",
              "  <tbody>\n",
              "    <tr>\n",
              "      <th>0</th>\n",
              "      <td>Do schools kill creativity?</td>\n",
              "      <td>Ken Robinson</td>\n",
              "      <td>https://www.ted.com/talks/ken_robinson_says_sc...</td>\n",
              "      <td>25-02-2006</td>\n",
              "      <td>47227110</td>\n",
              "    </tr>\n",
              "    <tr>\n",
              "      <th>1346</th>\n",
              "      <td>Your body language may shape who you are</td>\n",
              "      <td>Amy Cuddy</td>\n",
              "      <td>https://www.ted.com/talks/amy_cuddy_your_body_...</td>\n",
              "      <td>26-06-2012</td>\n",
              "      <td>43155405</td>\n",
              "    </tr>\n",
              "    <tr>\n",
              "      <th>677</th>\n",
              "      <td>How great leaders inspire action</td>\n",
              "      <td>Simon Sinek</td>\n",
              "      <td>https://www.ted.com/talks/simon_sinek_how_grea...</td>\n",
              "      <td>17-09-2009</td>\n",
              "      <td>34309432</td>\n",
              "    </tr>\n",
              "    <tr>\n",
              "      <th>837</th>\n",
              "      <td>The power of vulnerability</td>\n",
              "      <td>Brené Brown</td>\n",
              "      <td>https://www.ted.com/talks/brene_brown_on_vulne...</td>\n",
              "      <td>06-06-2010</td>\n",
              "      <td>31168150</td>\n",
              "    </tr>\n",
              "    <tr>\n",
              "      <th>452</th>\n",
              "      <td>10 things you didn't know about orgasm</td>\n",
              "      <td>Mary Roach</td>\n",
              "      <td>https://www.ted.com/talks/mary_roach_10_things...</td>\n",
              "      <td>06-02-2009</td>\n",
              "      <td>22270883</td>\n",
              "    </tr>\n",
              "    <tr>\n",
              "      <th>1776</th>\n",
              "      <td>How to speak so that people want to listen</td>\n",
              "      <td>Julian Treasure</td>\n",
              "      <td>https://www.ted.com/talks/julian_treasure_how_...</td>\n",
              "      <td>10-06-2013</td>\n",
              "      <td>21594632</td>\n",
              "    </tr>\n",
              "    <tr>\n",
              "      <th>201</th>\n",
              "      <td>My stroke of insight</td>\n",
              "      <td>Jill Bolte Taylor</td>\n",
              "      <td>https://www.ted.com/talks/jill_bolte_taylor_s_...</td>\n",
              "      <td>27-02-2008</td>\n",
              "      <td>21190883</td>\n",
              "    </tr>\n",
              "    <tr>\n",
              "      <th>5</th>\n",
              "      <td>Why we do what we do</td>\n",
              "      <td>Tony Robbins</td>\n",
              "      <td>https://www.ted.com/talks/tony_robbins_asks_wh...</td>\n",
              "      <td>02-02-2006</td>\n",
              "      <td>20685401</td>\n",
              "    </tr>\n",
              "    <tr>\n",
              "      <th>2114</th>\n",
              "      <td>This is what happens when you reply to spam email</td>\n",
              "      <td>James Veitch</td>\n",
              "      <td>https://www.ted.com/talks/james_veitch_this_is...</td>\n",
              "      <td>08-12-2015</td>\n",
              "      <td>20475972</td>\n",
              "    </tr>\n",
              "    <tr>\n",
              "      <th>1416</th>\n",
              "      <td>Looks aren't everything. Believe me, I'm a model.</td>\n",
              "      <td>Cameron Russell</td>\n",
              "      <td>https://www.ted.com/talks/cameron_russell_look...</td>\n",
              "      <td>27-10-2012</td>\n",
              "      <td>19787465</td>\n",
              "    </tr>\n",
              "    <tr>\n",
              "      <th>500</th>\n",
              "      <td>The puzzle of motivation</td>\n",
              "      <td>Dan Pink</td>\n",
              "      <td>https://www.ted.com/talks/dan_pink_on_motivati...</td>\n",
              "      <td>24-07-2009</td>\n",
              "      <td>18830983</td>\n",
              "    </tr>\n",
              "    <tr>\n",
              "      <th>1163</th>\n",
              "      <td>The power of introverts</td>\n",
              "      <td>Susan Cain</td>\n",
              "      <td>https://www.ted.com/talks/susan_cain_the_power...</td>\n",
              "      <td>28-02-2012</td>\n",
              "      <td>17629275</td>\n",
              "    </tr>\n",
              "    <tr>\n",
              "      <th>1036</th>\n",
              "      <td>How to spot a liar</td>\n",
              "      <td>Pamela Meyer</td>\n",
              "      <td>https://www.ted.com/talks/pamela_meyer_how_to_...</td>\n",
              "      <td>13-07-2011</td>\n",
              "      <td>16861578</td>\n",
              "    </tr>\n",
              "    <tr>\n",
              "      <th>2109</th>\n",
              "      <td>What makes a good life? Lessons from the longe...</td>\n",
              "      <td>Robert Waldinger</td>\n",
              "      <td>https://www.ted.com/talks/robert_waldinger_wha...</td>\n",
              "      <td>14-11-2015</td>\n",
              "      <td>16601927</td>\n",
              "    </tr>\n",
              "    <tr>\n",
              "      <th>1129</th>\n",
              "      <td>The happy secret to better work</td>\n",
              "      <td>Shawn Achor</td>\n",
              "      <td>https://www.ted.com/talks/shawn_achor_the_happ...</td>\n",
              "      <td>11-05-2011</td>\n",
              "      <td>16209727</td>\n",
              "    </tr>\n",
              "  </tbody>\n",
              "</table>\n",
              "</div>"
            ],
            "text/plain": [
              "                                                  title  ...     views\n",
              "0                           Do schools kill creativity?  ...  47227110\n",
              "1346           Your body language may shape who you are  ...  43155405\n",
              "677                    How great leaders inspire action  ...  34309432\n",
              "837                          The power of vulnerability  ...  31168150\n",
              "452              10 things you didn't know about orgasm  ...  22270883\n",
              "1776         How to speak so that people want to listen  ...  21594632\n",
              "201                                My stroke of insight  ...  21190883\n",
              "5                                  Why we do what we do  ...  20685401\n",
              "2114  This is what happens when you reply to spam email  ...  20475972\n",
              "1416  Looks aren't everything. Believe me, I'm a model.  ...  19787465\n",
              "500                            The puzzle of motivation  ...  18830983\n",
              "1163                            The power of introverts  ...  17629275\n",
              "1036                                 How to spot a liar  ...  16861578\n",
              "2109  What makes a good life? Lessons from the longe...  ...  16601927\n",
              "1129                    The happy secret to better work  ...  16209727\n",
              "\n",
              "[15 rows x 5 columns]"
            ]
          },
          "metadata": {
            "tags": []
          },
          "execution_count": 24
        }
      ]
    },
    {
      "cell_type": "markdown",
      "metadata": {
        "id": "ENWXulXb5fS_",
        "colab_type": "text"
      },
      "source": [
        "> Diplay view of video on chart"
      ]
    },
    {
      "cell_type": "code",
      "metadata": {
        "id": "dPSJ0f9r5kZE",
        "colab_type": "code",
        "colab": {
          "base_uri": "https://localhost:8080/",
          "height": 417
        },
        "outputId": "adb6baef-ddbd-4744-cf2f-492aed38c115"
      },
      "source": [
        "sns.set_style(\"whitegrid\")\n",
        "plt.figure(figsize=(10,6))\n",
        "sns.barplot(x='views', y='title', data=view_sorted_talks[:15])"
      ],
      "execution_count": 60,
      "outputs": [
        {
          "output_type": "execute_result",
          "data": {
            "text/plain": [
              "<matplotlib.axes._subplots.AxesSubplot at 0x7fb04efce438>"
            ]
          },
          "metadata": {
            "tags": []
          },
          "execution_count": 60
        },
        {
          "output_type": "display_data",
          "data": {
            "image/png": "[encoded data removed]",
            "text/plain": [
              "<Figure size 720x432 with 1 Axes>"
            ]
          },
          "metadata": {
            "tags": []
          }
        }
      ]
    },
    {
      "cell_type": "markdown",
      "metadata": {
        "id": "W56Ux_OE-kfh",
        "colab_type": "text"
      },
      "source": [
        "> Beside, I display the distibution of the views in TED Talks"
      ]
    },
    {
      "cell_type": "code",
      "metadata": {
        "id": "Ssj7o8NS-4p_",
        "colab_type": "code",
        "colab": {
          "base_uri": "https://localhost:8080/",
          "height": 313
        },
        "outputId": "de58c465-462c-4b51-d9be-9688eb882817"
      },
      "source": [
        "sns.distplot(df['views'])"
      ],
      "execution_count": 63,
      "outputs": [
        {
          "output_type": "execute_result",
          "data": {
            "text/plain": [
              "<matplotlib.axes._subplots.AxesSubplot at 0x7fb04f01cf98>"
            ]
          },
          "metadata": {
            "tags": []
          },
          "execution_count": 63
        },
        {
          "output_type": "display_data",
          "data": {
            "image/png": "[encoded data removed]",
            "text/plain": [
              "<Figure size 432x288 with 1 Axes>"
            ]
          },
          "metadata": {
            "tags": []
          }
        }
      ]
    },
    {
      "cell_type": "code",
      "metadata": {
        "id": "hPZ-gC7h_Kw4",
        "colab_type": "code",
        "colab": {
          "base_uri": "https://localhost:8080/",
          "height": 170
        },
        "outputId": "65a36ec3-fe08-49e2-f862-062d445c0e26"
      },
      "source": [
        "df['views'].describe()"
      ],
      "execution_count": 73,
      "outputs": [
        {
          "output_type": "execute_result",
          "data": {
            "text/plain": [
              "count    2.550000e+03\n",
              "mean     1.698297e+06\n",
              "std      2.498479e+06\n",
              "min      5.044300e+04\n",
              "25%      7.557928e+05\n",
              "50%      1.124524e+06\n",
              "75%      1.700760e+06\n",
              "max      4.722711e+07\n",
              "Name: views, dtype: float64"
            ]
          },
          "metadata": {
            "tags": []
          },
          "execution_count": 73
        }
      ]
    },
    {
      "cell_type": "markdown",
      "metadata": {
        "id": "y6ygB74_A0sC",
        "colab_type": "text"
      },
      "source": [
        "> The average number of views on videos is **1.6** million views."
      ]
    },
    {
      "cell_type": "markdown",
      "metadata": {
        "id": "toklHiDnVWvf",
        "colab_type": "text"
      },
      "source": [
        "#### > Comment\n",
        "- A quality TED Talk will take attention of viewers. So these videos should have many **comments**"
      ]
    },
    {
      "cell_type": "markdown",
      "metadata": {
        "id": "Tf0SKGlzWVb2",
        "colab_type": "text"
      },
      "source": [
        "> Top 15 videos has high number comments"
      ]
    },
    {
      "cell_type": "code",
      "metadata": {
        "id": "1RD3o9zIAzo4",
        "colab_type": "code",
        "colab": {
          "base_uri": "https://localhost:8080/",
          "height": 514
        },
        "outputId": "d8f138d8-d4d2-4490-f40a-2ee887394ae0"
      },
      "source": [
        "cmt_sorted_talks = df[['title', 'main_speaker','url', 'comments', 'film_date', 'views']].sort_values(by=['comments'], ascending=False)\n",
        "cmt_sorted_talks[:15]"
      ],
      "execution_count": 78,
      "outputs": [
        {
          "output_type": "execute_result",
          "data": {
            "text/html": [
              "<div>\n",
              "<style scoped>\n",
              "    .dataframe tbody tr th:only-of-type {\n",
              "        vertical-align: middle;\n",
              "    }\n",
              "\n",
              "    .dataframe tbody tr th {\n",
              "        vertical-align: top;\n",
              "    }\n",
              "\n",
              "    .dataframe thead th {\n",
              "        text-align: right;\n",
              "    }\n",
              "</style>\n",
              "<table border=\"1\" class=\"dataframe\">\n",
              "  <thead>\n",
              "    <tr style=\"text-align: right;\">\n",
              "      <th></th>\n",
              "      <th>title</th>\n",
              "      <th>main_speaker</th>\n",
              "      <th>url</th>\n",
              "      <th>comments</th>\n",
              "      <th>film_date</th>\n",
              "      <th>views</th>\n",
              "    </tr>\n",
              "  </thead>\n",
              "  <tbody>\n",
              "    <tr>\n",
              "      <th>96</th>\n",
              "      <td>Militant atheism</td>\n",
              "      <td>Richard Dawkins</td>\n",
              "      <td>https://www.ted.com/talks/richard_dawkins_on_m...</td>\n",
              "      <td>6404</td>\n",
              "      <td>02-02-2002</td>\n",
              "      <td>4374792</td>\n",
              "    </tr>\n",
              "    <tr>\n",
              "      <th>0</th>\n",
              "      <td>Do schools kill creativity?</td>\n",
              "      <td>Ken Robinson</td>\n",
              "      <td>https://www.ted.com/talks/ken_robinson_says_sc...</td>\n",
              "      <td>4553</td>\n",
              "      <td>25-02-2006</td>\n",
              "      <td>47227110</td>\n",
              "    </tr>\n",
              "    <tr>\n",
              "      <th>644</th>\n",
              "      <td>Science can answer moral questions</td>\n",
              "      <td>Sam Harris</td>\n",
              "      <td>https://www.ted.com/talks/sam_harris_science_c...</td>\n",
              "      <td>3356</td>\n",
              "      <td>11-02-2010</td>\n",
              "      <td>3433437</td>\n",
              "    </tr>\n",
              "    <tr>\n",
              "      <th>201</th>\n",
              "      <td>My stroke of insight</td>\n",
              "      <td>Jill Bolte Taylor</td>\n",
              "      <td>https://www.ted.com/talks/jill_bolte_taylor_s_...</td>\n",
              "      <td>2877</td>\n",
              "      <td>27-02-2008</td>\n",
              "      <td>21190883</td>\n",
              "    </tr>\n",
              "    <tr>\n",
              "      <th>1787</th>\n",
              "      <td>How do you explain consciousness?</td>\n",
              "      <td>David Chalmers</td>\n",
              "      <td>https://www.ted.com/talks/david_chalmers_how_d...</td>\n",
              "      <td>2673</td>\n",
              "      <td>18-03-2014</td>\n",
              "      <td>2162764</td>\n",
              "    </tr>\n",
              "    <tr>\n",
              "      <th>954</th>\n",
              "      <td>Taking imagination seriously</td>\n",
              "      <td>Janet Echelman</td>\n",
              "      <td>https://www.ted.com/talks/janet_echelman\\n</td>\n",
              "      <td>2492</td>\n",
              "      <td>03-03-2011</td>\n",
              "      <td>1832930</td>\n",
              "    </tr>\n",
              "    <tr>\n",
              "      <th>840</th>\n",
              "      <td>On reading the Koran</td>\n",
              "      <td>Lesley Hazleton</td>\n",
              "      <td>https://www.ted.com/talks/lesley_hazelton_on_r...</td>\n",
              "      <td>2374</td>\n",
              "      <td>10-10-2010</td>\n",
              "      <td>1847256</td>\n",
              "    </tr>\n",
              "    <tr>\n",
              "      <th>1346</th>\n",
              "      <td>Your body language may shape who you are</td>\n",
              "      <td>Amy Cuddy</td>\n",
              "      <td>https://www.ted.com/talks/amy_cuddy_your_body_...</td>\n",
              "      <td>2290</td>\n",
              "      <td>26-06-2012</td>\n",
              "      <td>43155405</td>\n",
              "    </tr>\n",
              "    <tr>\n",
              "      <th>661</th>\n",
              "      <td>The danger of science denial</td>\n",
              "      <td>Michael Specter</td>\n",
              "      <td>https://www.ted.com/talks/michael_specter_the_...</td>\n",
              "      <td>2272</td>\n",
              "      <td>11-02-2010</td>\n",
              "      <td>1838628</td>\n",
              "    </tr>\n",
              "    <tr>\n",
              "      <th>677</th>\n",
              "      <td>How great leaders inspire action</td>\n",
              "      <td>Simon Sinek</td>\n",
              "      <td>https://www.ted.com/talks/simon_sinek_how_grea...</td>\n",
              "      <td>1930</td>\n",
              "      <td>17-09-2009</td>\n",
              "      <td>34309432</td>\n",
              "    </tr>\n",
              "    <tr>\n",
              "      <th>837</th>\n",
              "      <td>The power of vulnerability</td>\n",
              "      <td>Brené Brown</td>\n",
              "      <td>https://www.ted.com/talks/brene_brown_on_vulne...</td>\n",
              "      <td>1927</td>\n",
              "      <td>06-06-2010</td>\n",
              "      <td>31168150</td>\n",
              "    </tr>\n",
              "    <tr>\n",
              "      <th>1537</th>\n",
              "      <td>A tale of two political systems</td>\n",
              "      <td>Eric X. Li</td>\n",
              "      <td>https://www.ted.com/talks/eric_x_li_a_tale_of_...</td>\n",
              "      <td>1640</td>\n",
              "      <td>12-06-2013</td>\n",
              "      <td>2449736</td>\n",
              "    </tr>\n",
              "    <tr>\n",
              "      <th>1030</th>\n",
              "      <td>How to live before you die</td>\n",
              "      <td>Steve Jobs</td>\n",
              "      <td>https://www.ted.com/talks/steve_jobs_how_to_li...</td>\n",
              "      <td>1627</td>\n",
              "      <td>12-06-2005</td>\n",
              "      <td>8744428</td>\n",
              "    </tr>\n",
              "    <tr>\n",
              "      <th>381</th>\n",
              "      <td>Your elusive creative genius</td>\n",
              "      <td>Elizabeth Gilbert</td>\n",
              "      <td>https://www.ted.com/talks/elizabeth_gilbert_on...</td>\n",
              "      <td>1604</td>\n",
              "      <td>05-02-2009</td>\n",
              "      <td>13155478</td>\n",
              "    </tr>\n",
              "    <tr>\n",
              "      <th>1448</th>\n",
              "      <td>How to fight desertification and reverse clima...</td>\n",
              "      <td>Allan Savory</td>\n",
              "      <td>https://www.ted.com/talks/allan_savory_how_to_...</td>\n",
              "      <td>1586</td>\n",
              "      <td>28-02-2013</td>\n",
              "      <td>4191678</td>\n",
              "    </tr>\n",
              "  </tbody>\n",
              "</table>\n",
              "</div>"
            ],
            "text/plain": [
              "                                                  title  ...     views\n",
              "96                                     Militant atheism  ...   4374792\n",
              "0                           Do schools kill creativity?  ...  47227110\n",
              "644                  Science can answer moral questions  ...   3433437\n",
              "201                                My stroke of insight  ...  21190883\n",
              "1787                  How do you explain consciousness?  ...   2162764\n",
              "954                        Taking imagination seriously  ...   1832930\n",
              "840                                On reading the Koran  ...   1847256\n",
              "1346           Your body language may shape who you are  ...  43155405\n",
              "661                        The danger of science denial  ...   1838628\n",
              "677                    How great leaders inspire action  ...  34309432\n",
              "837                          The power of vulnerability  ...  31168150\n",
              "1537                    A tale of two political systems  ...   2449736\n",
              "1030                         How to live before you die  ...   8744428\n",
              "381                        Your elusive creative genius  ...  13155478\n",
              "1448  How to fight desertification and reverse clima...  ...   4191678\n",
              "\n",
              "[15 rows x 6 columns]"
            ]
          },
          "metadata": {
            "tags": []
          },
          "execution_count": 78
        }
      ]
    },
    {
      "cell_type": "markdown",
      "metadata": {
        "id": "ZQbCrarpWic5",
        "colab_type": "text"
      },
      "source": [
        "> The chart show comments count"
      ]
    },
    {
      "cell_type": "code",
      "metadata": {
        "id": "mq0E0pVx_9HT",
        "colab_type": "code",
        "colab": {
          "base_uri": "https://localhost:8080/",
          "height": 417
        },
        "outputId": "0fff07ee-4778-4c3f-b039-fed14c318328"
      },
      "source": [
        "plt.figure(figsize=(10,6))\n",
        "sns.barplot(x='comments', y='title', data=cmt_sorted_talks[:15])"
      ],
      "execution_count": 79,
      "outputs": [
        {
          "output_type": "execute_result",
          "data": {
            "text/plain": [
              "<matplotlib.axes._subplots.AxesSubplot at 0x7fb04eaea6a0>"
            ]
          },
          "metadata": {
            "tags": []
          },
          "execution_count": 79
        },
        {
          "output_type": "display_data",
          "data": {
            "image/png": "[encoded data removed]",
            "text/plain": [
              "<Figure size 720x432 with 1 Axes>"
            ]
          },
          "metadata": {
            "tags": []
          }
        }
      ]
    },
    {
      "cell_type": "markdown",
      "metadata": {
        "id": "mp-sPycbnhPb",
        "colab_type": "text"
      },
      "source": [
        "> Merge data view and comment"
      ]
    },
    {
      "cell_type": "code",
      "metadata": {
        "id": "XuL2Y8EGnlVO",
        "colab_type": "code",
        "colab": {}
      },
      "source": [
        ""
      ],
      "execution_count": 0,
      "outputs": []
    },
    {
      "cell_type": "markdown",
      "metadata": {
        "id": "X4t7dKPznlx7",
        "colab_type": "text"
      },
      "source": [
        ""
      ]
    }
  ]
}