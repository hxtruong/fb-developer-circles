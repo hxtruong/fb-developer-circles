{
  "nbformat": 4,
  "nbformat_minor": 0,
  "metadata": {
    "colab": {
      "name": "DAwP_Assignment_1.ipynb",
      "version": "0.3.2",
      "provenance": [],
      "include_colab_link": true
    },
    "kernelspec": {
      "name": "python3",
      "display_name": "Python 3"
    },
    "accelerator": "GPU"
  },
  "cells": [
    {
      "cell_type": "markdown",
      "metadata": {
        "id": "view-in-github",
        "colab_type": "text"
      },
      "source": [
        "<a href=\"https://colab.research.google.com/github/hxtruong/fb-developer-circles/blob/master/DAwP_Assignment_1.ipynb\" target=\"_parent\"><img src=\"https://colab.research.google.com/assets/colab-badge.svg\" alt=\"Open In Colab\"/></a>"
      ]
    },
    {
      "cell_type": "markdown",
      "metadata": {
        "id": "jjZG7BNlbWtO",
        "colab_type": "text"
      },
      "source": [
        "![](https://i.imgur.com/0AUxkXt.png)"
      ]
    },
    {
      "cell_type": "markdown",
      "metadata": {
        "id": "jbpQzyjqbflM",
        "colab_type": "text"
      },
      "source": [
        "# Assignment 1 - The Hacker Rank\n",
        "\n",
        "HackerRank is a place where programmers from all over the world come together to solve problems in a wide range of Computer Science domains.\n",
        "\n",
        "As you solve more challenges, you earn points and move up the HackerRank Leaderboard.\n",
        "\n",
        "Looking for a job at an awesome company? You can get hired by solving [challenges](https://www.hackerrank.com/jobs/search)!\n",
        "\n",
        "It's cool. Let's establish your knowledge and fight for glory!\n",
        "\n",
        "But before that let's make it clear that.."
      ]
    },
    {
      "cell_type": "markdown",
      "metadata": {
        "id": "-ndmD4naciAN",
        "colab_type": "text"
      },
      "source": [
        "## Note-taking is IMPORTANT\n",
        "\n",
        "Blog: [Why is note-taking important](https://nickblackbourn.com/blog/why-is-note-taking-important/)\n",
        "\n",
        "Note taking isn’t just important for college students, it’s a valuable life skill.\n",
        "\n",
        "Effective note taking helps you to remember information and aids your understanding of that information. \n",
        "\n",
        "**Notes boost your understanding**\n",
        "\n",
        "By making notes, you force yourself to construct a conceptual mental representation of the ideas you are grappling with. It is this process that helps you comprehend the subject matter you are working with.\n",
        "\n",
        "**Notes are a repository of your thinking**\n",
        "\n",
        "When you need to recall something that you came across a while ago, you can go over the main ideas by looking over your notes. This is why good, comprehensive notes are so useful; they are a catalogue of the best ideas you’ve encountered, and what you thought about them.\n",
        "\n",
        "etc.\n",
        "\n",
        "\n",
        "\n",
        "\n",
        "\n",
        "\n",
        "\n"
      ]
    },
    {
      "cell_type": "markdown",
      "metadata": {
        "id": "IGvKPsdVfX-F",
        "colab_type": "text"
      },
      "source": [
        "## Requirements\n",
        "\n",
        "Pick 10 challenges on HackerRank about SQL and 5 about Python in **easy** level:\n",
        "\n",
        "[HackerRank - Domain SQL](https://www.hackerrank.com/domains/sql?filters%5Bdifficulty%5D%5B%5D=easy&filters%5Bsubdomains%5D%5B%5D=select)\n",
        "\n",
        "[HackerRank - Domain Python](https://www.hackerrank.com/domains/python?filters%5Bdifficulty%5D%5B%5D=easy)\n",
        "\n",
        "For each challenge:\n",
        "\n",
        "* Create a markdown cell first that describes the challenge.\n",
        "* Solve the challenge on HackerRank and copy your solution to a code cell below\n",
        "* (Optional) A short description about how you came up with the solution would be awesome."
      ]
    },
    {
      "cell_type": "markdown",
      "metadata": {
        "id": "higGK1Y5iAea",
        "colab_type": "text"
      },
      "source": [
        "## Example"
      ]
    },
    {
      "cell_type": "markdown",
      "metadata": {
        "id": "D2yU2FYDi4tj",
        "colab_type": "text"
      },
      "source": [
        "### SQL"
      ]
    },
    {
      "cell_type": "markdown",
      "metadata": {
        "id": "gu4DDH7Ki77C",
        "colab_type": "text"
      },
      "source": [
        "\n",
        "#### Problem 1\n",
        "\n",
        "Query all columns for all American cities in **CITY** with populations larger than 100000. The CountryCode for America is USA.\n",
        "\n",
        "**Input Format**\n",
        "\n",
        "The **CITY** table is described as follows:\n",
        "\n",
        "| Field | Type |\n",
        "|:----:|:---:|\n",
        "| ID | NUMBER |\n",
        "| NAME | VARCHAR2(17) |\n",
        "| COUNTRYCODE | VARCHAR2(3) |\n",
        "| DISTRICT | VARCHAR2(20) |\n",
        "| POPULATION | NUMBER |"
      ]
    },
    {
      "cell_type": "code",
      "metadata": {
        "id": "hhAwMjyhbT1b",
        "colab_type": "code",
        "outputId": "d8bc9170-3880-450f-a744-4df171b28dde",
        "colab": {
          "base_uri": "https://localhost:8080/",
          "height": 128
        }
      },
      "source": [
        "# Solution\n",
        "SELECT * from city WHERE population>100000 AND countrycode='USA';"
      ],
      "execution_count": 0,
      "outputs": [
        {
          "output_type": "error",
          "ename": "SyntaxError",
          "evalue": "ignored",
          "traceback": [
            "\u001b[0;36m  File \u001b[0;32m\"<ipython-input-2-bae361ac339b>\"\u001b[0;36m, line \u001b[0;32m1\u001b[0m\n\u001b[0;31m    SELECT * from city WHERE population>100000 AND countrycode='USA';\u001b[0m\n\u001b[0m                ^\u001b[0m\n\u001b[0;31mSyntaxError\u001b[0m\u001b[0;31m:\u001b[0m invalid syntax\n"
          ]
        }
      ]
    },
    {
      "cell_type": "markdown",
      "metadata": {
        "id": "0AxyfiJijJ7T",
        "colab_type": "text"
      },
      "source": [
        "### Python"
      ]
    },
    {
      "cell_type": "markdown",
      "metadata": {
        "id": "PEW8LsB5jLqf",
        "colab_type": "text"
      },
      "source": [
        "#### Problem 1\n",
        "\n",
        "**Task** \n",
        "Given an integer, , perform the following conditional actions:\n",
        "\n",
        "* If `n` is odd, print *Weird*\n",
        "* If `n` is even and in the inclusive range of 2 to 5, print *Not Weird*\n",
        "* If `n` is even and in the inclusive range of 6 to 20, print *Weird*\n",
        "* If `n` is even and greater than 20, print *Not Weird*\n",
        "\n",
        "**Input Format**\n",
        "\n",
        "A single line containing a positive integer, .\n",
        "\n",
        "**Output Format**\n",
        "\n",
        "Print Weird if the number is weird; otherwise, print Not Weird."
      ]
    },
    {
      "cell_type": "code",
      "metadata": {
        "id": "JBOxgw0zjLC2",
        "colab_type": "code",
        "colab": {}
      },
      "source": [
        "n = int(input())\n",
        "\n",
        "if n % 2 == 1:\n",
        "    print('Weird')\n",
        "else:\n",
        "    if (n >= 2) and (n <= 5):\n",
        "        print('Not Weird')\n",
        "    elif (n >= 6) and (n <= 20):\n",
        "        print('Weird')\n",
        "    else:\n",
        "        print('Not Weird')"
      ],
      "execution_count": 0,
      "outputs": []
    },
    {
      "cell_type": "markdown",
      "metadata": {
        "id": "a-Q3VE7YkA9A",
        "colab_type": "text"
      },
      "source": [
        "## Your turn\n",
        "\n",
        "Good luck and have fun!"
      ]
    },
    {
      "cell_type": "code",
      "metadata": {
        "id": "RdkdZgjaj0To",
        "colab_type": "code",
        "colab": {}
      },
      "source": [
        ""
      ],
      "execution_count": 0,
      "outputs": []
    },
    {
      "cell_type": "markdown",
      "metadata": {
        "id": "lcampFv1weNR",
        "colab_type": "text"
      },
      "source": [
        "## SQL"
      ]
    },
    {
      "cell_type": "markdown",
      "metadata": {
        "id": "UpiQYBL7zgzK",
        "colab_type": "text"
      },
      "source": [
        "### Table City\n",
        "Input for **Problem 1 - Problem 4**\n",
        "**Input Format**\n",
        "\n",
        "The **CITY** table is described as follows:\n",
        "\n",
        "| Field | Type |\n",
        "|:----:|:---:|\n",
        "| ID | NUMBER |\n",
        "| NAME | VARCHAR2(17) |\n",
        "| COUNTRYCODE | VARCHAR2(3) |\n",
        "| DISTRICT | VARCHAR2(20) |\n",
        "| POPULATION | NUMBER |"
      ]
    },
    {
      "cell_type": "markdown",
      "metadata": {
        "id": "ONBqSL-HwkgE",
        "colab_type": "text"
      },
      "source": [
        "**Problem 1**\n",
        "Query all columns (attributes) for every row in the CITY table.\n",
        "\n",
        "Input Format\n",
        "\n",
        "The CITY table is described as follows: CITY.jpg\n"
      ]
    },
    {
      "cell_type": "code",
      "metadata": {
        "id": "-e3akO0Gj_gk",
        "colab_type": "code",
        "colab": {}
      },
      "source": [
        "SELECT *\n",
        "FROM City as C"
      ],
      "execution_count": 0,
      "outputs": []
    },
    {
      "cell_type": "markdown",
      "metadata": {
        "id": "fHlL1CTexBXH",
        "colab_type": "text"
      },
      "source": [
        "**Problem 2**\n",
        "Query all columns for a city in CITY with the ID 1661.\n"
      ]
    },
    {
      "cell_type": "code",
      "metadata": {
        "id": "6L1-Ow5OxcY_",
        "colab_type": "code",
        "colab": {}
      },
      "source": [
        "SELECT *\n",
        "FROM City as C\n",
        "WHERE C.ID = 1661"
      ],
      "execution_count": 0,
      "outputs": []
    },
    {
      "cell_type": "markdown",
      "metadata": {
        "id": "lL76H9D3xe_1",
        "colab_type": "text"
      },
      "source": [
        "**Problem 3** \n",
        "Query all attributes of every Japanese city in the CITY table. The COUNTRYCODE for Japan is JPN.\n",
        "\n"
      ]
    },
    {
      "cell_type": "code",
      "metadata": {
        "id": "i7JVv_f-x3ln",
        "colab_type": "code",
        "colab": {}
      },
      "source": [
        "SELECT *\n",
        "FROM City as C\n",
        "WHERE C.COUNTRYCODE  = \"JPN\""
      ],
      "execution_count": 0,
      "outputs": []
    },
    {
      "cell_type": "markdown",
      "metadata": {
        "id": "EkviCB0yyC8f",
        "colab_type": "text"
      },
      "source": [
        "**Problem 4** Query the names of all the Japanese cities in the CITY table. The COUNTRYCODE for Japan is JPN.\n",
        "\n"
      ]
    },
    {
      "cell_type": "code",
      "metadata": {
        "id": "qgNNZOMEy9nB",
        "colab_type": "code",
        "colab": {}
      },
      "source": [
        "SELECT C.Name\n",
        "FROM City as C\n",
        "WHERE C.COUNTRYCODE  = \"JPN\""
      ],
      "execution_count": 0,
      "outputs": []
    },
    {
      "cell_type": "markdown",
      "metadata": {
        "id": "2lEakErPztrV",
        "colab_type": "text"
      },
      "source": [
        "### Table Station\n",
        "\n",
        "| Field | Type |\n",
        "|:----:|:---:|\n",
        "| ID | NUMBER |\n",
        "| CITY | VARCHAR2(17) |\n",
        "| COUNTRYCODE | VARCHAR2(3) |\n",
        "| DISTRICT | VARCHAR2(20) |\n",
        "| POPULATION | NUMBER |\n"
      ]
    },
    {
      "cell_type": "markdown",
      "metadata": {
        "id": "zSmYXiLBzCpM",
        "colab_type": "text"
      },
      "source": [
        "#"
      ]
    },
    {
      "cell_type": "code",
      "metadata": {
        "id": "BgUf9k1XzDEg",
        "colab_type": "code",
        "colab": {}
      },
      "source": [
        ""
      ],
      "execution_count": 0,
      "outputs": []
    }
  ]
}