{
  "nbformat": 4,
  "nbformat_minor": 0,
  "metadata": {
    "colab": {
      "name": "DAwP_Assignment_2.ipynb",
      "version": "0.3.2",
      "provenance": [],
      "collapsed_sections": [],
      "include_colab_link": true
    },
    "language_info": {
      "codemirror_mode": {
        "name": "ipython",
        "version": 3
      },
      "file_extension": ".py",
      "mimetype": "text/x-python",
      "name": "python",
      "nbconvert_exporter": "python",
      "pygments_lexer": "ipython3",
      "version": "3.6.5"
    },
    "kernelspec": {
      "display_name": "Python 3",
      "language": "python",
      "name": "python3"
    }
  },
  "cells": [
    {
      "cell_type": "markdown",
      "metadata": {
        "id": "view-in-github",
        "colab_type": "text"
      },
      "source": [
        "<a href=\"https://colab.research.google.com/github/hxtruong/fb-developer-circles/blob/master/DAwP_Assignment_2.ipynb\" target=\"_parent\"><img src=\"https://colab.research.google.com/assets/colab-badge.svg\" alt=\"Open In Colab\"/></a>"
      ]
    },
    {
      "cell_type": "markdown",
      "metadata": {
        "id": "kL9VPYin9nOD",
        "colab_type": "text"
      },
      "source": [
        "![](https://i.imgur.com/0AUxkXt.png)\n",
        "\n",
        "# SF Salaries Exercise \n",
        "\n",
        "Explore San Francisco city employee salary data.\n",
        "\n",
        "## Overview\n",
        "\n",
        "One way to understand how a city government works is by looking at who it employs and how its employees are compensated. This data contains the names, job title, and compensation for San Francisco city employees on an annual basis from 2011 to 2014.\n",
        "\n",
        "\n",
        "\n",
        "Just follow along and complete the tasks outlined in bold below. The tasks will get harder and harder as you go along.\n",
        "\n",
        "## Resourses\n",
        "\n",
        "[Pandas API Reference](https://pandas.pydata.org/pandas-docs/stable/api.html)\n",
        "\n",
        "[NumPy Reference](https://docs.scipy.org/doc/numpy/reference/)\n",
        "\n",
        "[Visualization with Seaborn](https://jakevdp.github.io/PythonDataScienceHandbook/04.14-visualization-with-seaborn.html)\n"
      ]
    },
    {
      "cell_type": "markdown",
      "metadata": {
        "id": "ueY1PMBl9nOF",
        "colab_type": "text"
      },
      "source": [
        "**Import libraries**"
      ]
    },
    {
      "cell_type": "code",
      "metadata": {
        "id": "dnwk5LCx9nOG",
        "colab_type": "code",
        "colab": {}
      },
      "source": [
        "import pandas as pd\n",
        "import seaborn as sns"
      ],
      "execution_count": 0,
      "outputs": []
    },
    {
      "cell_type": "markdown",
      "metadata": {
        "id": "jiOt1hEM9nOJ",
        "colab_type": "text"
      },
      "source": [
        "**Read `Salaries.csv` as a dataframe called `sal`.**"
      ]
    },
    {
      "cell_type": "code",
      "metadata": {
        "id": "FtA68BoY9nOJ",
        "colab_type": "code",
        "colab": {}
      },
      "source": [
        "link = \"https://s3-ap-southeast-1.amazonaws.com/intro-to-ml-minhdh/Salaries.csv\"\n",
        "sal = pd.read_csv(link)"
      ],
      "execution_count": 0,
      "outputs": []
    },
    {
      "cell_type": "markdown",
      "metadata": {
        "id": "QW6hV4iv9nOM",
        "colab_type": "text"
      },
      "source": [
        "**Check the head of the DataFrame.**"
      ]
    },
    {
      "cell_type": "code",
      "metadata": {
        "id": "oa2JHHJ99nON",
        "colab_type": "code",
        "colab": {
          "base_uri": "https://localhost:8080/",
          "height": 323
        },
        "outputId": "28e943c5-79fd-419c-e8d9-4a8683a31441"
      },
      "source": [
        "sal.head()"
      ],
      "execution_count": 4,
      "outputs": [
        {
          "output_type": "execute_result",
          "data": {
            "text/html": [
              "<div>\n",
              "<style scoped>\n",
              "    .dataframe tbody tr th:only-of-type {\n",
              "        vertical-align: middle;\n",
              "    }\n",
              "\n",
              "    .dataframe tbody tr th {\n",
              "        vertical-align: top;\n",
              "    }\n",
              "\n",
              "    .dataframe thead th {\n",
              "        text-align: right;\n",
              "    }\n",
              "</style>\n",
              "<table border=\"1\" class=\"dataframe\">\n",
              "  <thead>\n",
              "    <tr style=\"text-align: right;\">\n",
              "      <th></th>\n",
              "      <th>Id</th>\n",
              "      <th>EmployeeName</th>\n",
              "      <th>JobTitle</th>\n",
              "      <th>BasePay</th>\n",
              "      <th>OvertimePay</th>\n",
              "      <th>OtherPay</th>\n",
              "      <th>Benefits</th>\n",
              "      <th>TotalPay</th>\n",
              "      <th>TotalPayBenefits</th>\n",
              "      <th>Year</th>\n",
              "      <th>Notes</th>\n",
              "      <th>Agency</th>\n",
              "      <th>Status</th>\n",
              "    </tr>\n",
              "  </thead>\n",
              "  <tbody>\n",
              "    <tr>\n",
              "      <th>0</th>\n",
              "      <td>1</td>\n",
              "      <td>NATHANIEL FORD</td>\n",
              "      <td>GENERAL MANAGER-METROPOLITAN TRANSIT AUTHORITY</td>\n",
              "      <td>167411.18</td>\n",
              "      <td>0.00</td>\n",
              "      <td>400184.25</td>\n",
              "      <td>NaN</td>\n",
              "      <td>567595.43</td>\n",
              "      <td>567595.43</td>\n",
              "      <td>2011</td>\n",
              "      <td>NaN</td>\n",
              "      <td>San Francisco</td>\n",
              "      <td>NaN</td>\n",
              "    </tr>\n",
              "    <tr>\n",
              "      <th>1</th>\n",
              "      <td>2</td>\n",
              "      <td>GARY JIMENEZ</td>\n",
              "      <td>CAPTAIN III (POLICE DEPARTMENT)</td>\n",
              "      <td>155966.02</td>\n",
              "      <td>245131.88</td>\n",
              "      <td>137811.38</td>\n",
              "      <td>NaN</td>\n",
              "      <td>538909.28</td>\n",
              "      <td>538909.28</td>\n",
              "      <td>2011</td>\n",
              "      <td>NaN</td>\n",
              "      <td>San Francisco</td>\n",
              "      <td>NaN</td>\n",
              "    </tr>\n",
              "    <tr>\n",
              "      <th>2</th>\n",
              "      <td>3</td>\n",
              "      <td>ALBERT PARDINI</td>\n",
              "      <td>CAPTAIN III (POLICE DEPARTMENT)</td>\n",
              "      <td>212739.13</td>\n",
              "      <td>106088.18</td>\n",
              "      <td>16452.60</td>\n",
              "      <td>NaN</td>\n",
              "      <td>335279.91</td>\n",
              "      <td>335279.91</td>\n",
              "      <td>2011</td>\n",
              "      <td>NaN</td>\n",
              "      <td>San Francisco</td>\n",
              "      <td>NaN</td>\n",
              "    </tr>\n",
              "    <tr>\n",
              "      <th>3</th>\n",
              "      <td>4</td>\n",
              "      <td>CHRISTOPHER CHONG</td>\n",
              "      <td>WIRE ROPE CABLE MAINTENANCE MECHANIC</td>\n",
              "      <td>77916.00</td>\n",
              "      <td>56120.71</td>\n",
              "      <td>198306.90</td>\n",
              "      <td>NaN</td>\n",
              "      <td>332343.61</td>\n",
              "      <td>332343.61</td>\n",
              "      <td>2011</td>\n",
              "      <td>NaN</td>\n",
              "      <td>San Francisco</td>\n",
              "      <td>NaN</td>\n",
              "    </tr>\n",
              "    <tr>\n",
              "      <th>4</th>\n",
              "      <td>5</td>\n",
              "      <td>PATRICK GARDNER</td>\n",
              "      <td>DEPUTY CHIEF OF DEPARTMENT,(FIRE DEPARTMENT)</td>\n",
              "      <td>134401.60</td>\n",
              "      <td>9737.00</td>\n",
              "      <td>182234.59</td>\n",
              "      <td>NaN</td>\n",
              "      <td>326373.19</td>\n",
              "      <td>326373.19</td>\n",
              "      <td>2011</td>\n",
              "      <td>NaN</td>\n",
              "      <td>San Francisco</td>\n",
              "      <td>NaN</td>\n",
              "    </tr>\n",
              "  </tbody>\n",
              "</table>\n",
              "</div>"
            ],
            "text/plain": [
              "   Id       EmployeeName  ...         Agency  Status\n",
              "0   1     NATHANIEL FORD  ...  San Francisco     NaN\n",
              "1   2       GARY JIMENEZ  ...  San Francisco     NaN\n",
              "2   3     ALBERT PARDINI  ...  San Francisco     NaN\n",
              "3   4  CHRISTOPHER CHONG  ...  San Francisco     NaN\n",
              "4   5    PATRICK GARDNER  ...  San Francisco     NaN\n",
              "\n",
              "[5 rows x 13 columns]"
            ]
          },
          "metadata": {
            "tags": []
          },
          "execution_count": 4
        }
      ]
    },
    {
      "cell_type": "markdown",
      "metadata": {
        "id": "LgRIzJ_l9nOP",
        "colab_type": "text"
      },
      "source": [
        "**Use the .info() method to find out how many entries there are.**"
      ]
    },
    {
      "cell_type": "code",
      "metadata": {
        "id": "JuwgdTfz9nOP",
        "colab_type": "code",
        "colab": {
          "base_uri": "https://localhost:8080/",
          "height": 323
        },
        "outputId": "fb0d5024-6e87-4f77-f4ce-fcdd1e55ce1b"
      },
      "source": [
        "sal.info()"
      ],
      "execution_count": 5,
      "outputs": [
        {
          "output_type": "stream",
          "text": [
            "<class 'pandas.core.frame.DataFrame'>\n",
            "RangeIndex: 148654 entries, 0 to 148653\n",
            "Data columns (total 13 columns):\n",
            "Id                  148654 non-null int64\n",
            "EmployeeName        148654 non-null object\n",
            "JobTitle            148654 non-null object\n",
            "BasePay             148045 non-null float64\n",
            "OvertimePay         148650 non-null float64\n",
            "OtherPay            148650 non-null float64\n",
            "Benefits            112491 non-null float64\n",
            "TotalPay            148654 non-null float64\n",
            "TotalPayBenefits    148654 non-null float64\n",
            "Year                148654 non-null int64\n",
            "Notes               0 non-null float64\n",
            "Agency              148654 non-null object\n",
            "Status              0 non-null float64\n",
            "dtypes: float64(8), int64(2), object(3)\n",
            "memory usage: 14.7+ MB\n"
          ],
          "name": "stdout"
        }
      ]
    },
    {
      "cell_type": "markdown",
      "metadata": {
        "id": "RgO49aNW9nOR",
        "colab_type": "text"
      },
      "source": [
        "**What is the average BasePay ?**\n",
        "\n",
        "Keyword: [mean](https://pandas.pydata.org/pandas-docs/stable/generated/pandas.DataFrame.mean.html)"
      ]
    },
    {
      "cell_type": "code",
      "metadata": {
        "id": "twQu_3xj9nOS",
        "colab_type": "code",
        "colab": {
          "base_uri": "https://localhost:8080/",
          "height": 34
        },
        "outputId": "d4cd331c-b22b-42f2-a5af-d98780242757"
      },
      "source": [
        "sal['BasePay'].mean()"
      ],
      "execution_count": 14,
      "outputs": [
        {
          "output_type": "execute_result",
          "data": {
            "text/plain": [
              "66325.44884050643"
            ]
          },
          "metadata": {
            "tags": []
          },
          "execution_count": 14
        }
      ]
    },
    {
      "cell_type": "markdown",
      "metadata": {
        "id": "qQc-OERD9nOU",
        "colab_type": "text"
      },
      "source": [
        "**What is the lowest and highest amount of BasePay?**\n",
        "\n",
        "Keyword: \n",
        "[min](https://pandas.pydata.org/pandas-docs/stable/generated/pandas.DataFrame.min.html) , \n",
        "[max](https://pandas.pydata.org/pandas-docs/stable/generated/pandas.DataFrame.max.html)"
      ]
    },
    {
      "cell_type": "code",
      "metadata": {
        "id": "22XKRdg49nOV",
        "colab_type": "code",
        "colab": {
          "base_uri": "https://localhost:8080/",
          "height": 34
        },
        "outputId": "293cbfb8-e667-40b2-adf9-dfe1a139fc3e"
      },
      "source": [
        "sal['BasePay'].min()"
      ],
      "execution_count": 15,
      "outputs": [
        {
          "output_type": "execute_result",
          "data": {
            "text/plain": [
              "-166.01"
            ]
          },
          "metadata": {
            "tags": []
          },
          "execution_count": 15
        }
      ]
    },
    {
      "cell_type": "code",
      "metadata": {
        "id": "R-yPM0ZU9nOX",
        "colab_type": "code",
        "colab": {
          "base_uri": "https://localhost:8080/",
          "height": 34
        },
        "outputId": "3c62a797-9daa-475d-a72f-eaf2c4df58a8"
      },
      "source": [
        "sal['BasePay'].max()"
      ],
      "execution_count": 16,
      "outputs": [
        {
          "output_type": "execute_result",
          "data": {
            "text/plain": [
              "319275.01"
            ]
          },
          "metadata": {
            "tags": []
          },
          "execution_count": 16
        }
      ]
    },
    {
      "cell_type": "markdown",
      "metadata": {
        "id": "-MdkKp6U9nOa",
        "colab_type": "text"
      },
      "source": [
        "**How about OvertimePay in the dataset? What is the average, lowest, highest amount?**"
      ]
    },
    {
      "cell_type": "code",
      "metadata": {
        "id": "Og2yxCil9nOb",
        "colab_type": "code",
        "colab": {
          "base_uri": "https://localhost:8080/",
          "height": 170
        },
        "outputId": "c9067415-15ff-4eb6-af46-30efc7bc3804"
      },
      "source": [
        "sal['OvertimePay'].describe()\n"
      ],
      "execution_count": 18,
      "outputs": [
        {
          "output_type": "execute_result",
          "data": {
            "text/plain": [
              "count    148650.000000\n",
              "mean       5066.059886\n",
              "std       11454.380559\n",
              "min          -0.010000\n",
              "25%           0.000000\n",
              "50%           0.000000\n",
              "75%        4658.175000\n",
              "max      245131.880000\n",
              "Name: OvertimePay, dtype: float64"
            ]
          },
          "metadata": {
            "tags": []
          },
          "execution_count": 18
        }
      ]
    },
    {
      "cell_type": "markdown",
      "metadata": {
        "id": "mF0zrXXh9nOf",
        "colab_type": "text"
      },
      "source": [
        "**What is the job title of  JOSEPH DRISCOLL ? Note: Use all caps, otherwise you may get an answer that doesn't match up (there is also a lowercase Joseph Driscoll).**"
      ]
    },
    {
      "cell_type": "code",
      "metadata": {
        "id": "wbqO05iu9nOh",
        "colab_type": "code",
        "colab": {
          "base_uri": "https://localhost:8080/",
          "height": 85
        },
        "outputId": "3c6b92a2-e0c3-443d-c3b2-45c7bba8c46e"
      },
      "source": [
        "sal.columns"
      ],
      "execution_count": 20,
      "outputs": [
        {
          "output_type": "execute_result",
          "data": {
            "text/plain": [
              "Index(['Id', 'EmployeeName', 'JobTitle', 'BasePay', 'OvertimePay', 'OtherPay',\n",
              "       'Benefits', 'TotalPay', 'TotalPayBenefits', 'Year', 'Notes', 'Agency',\n",
              "       'Status'],\n",
              "      dtype='object')"
            ]
          },
          "metadata": {
            "tags": []
          },
          "execution_count": 20
        }
      ]
    },
    {
      "cell_type": "code",
      "metadata": {
        "id": "bBFnARWqxXyh",
        "colab_type": "code",
        "colab": {
          "base_uri": "https://localhost:8080/",
          "height": 145
        },
        "outputId": "3fecc2e8-4691-4f06-ce60-7acd6a4c16b2"
      },
      "source": [
        "sal[sal.EmployeeName.str.contains('JOSEPH DRISCOLL',case=False)]"
      ],
      "execution_count": 27,
      "outputs": [
        {
          "output_type": "execute_result",
          "data": {
            "text/html": [
              "<div>\n",
              "<style scoped>\n",
              "    .dataframe tbody tr th:only-of-type {\n",
              "        vertical-align: middle;\n",
              "    }\n",
              "\n",
              "    .dataframe tbody tr th {\n",
              "        vertical-align: top;\n",
              "    }\n",
              "\n",
              "    .dataframe thead th {\n",
              "        text-align: right;\n",
              "    }\n",
              "</style>\n",
              "<table border=\"1\" class=\"dataframe\">\n",
              "  <thead>\n",
              "    <tr style=\"text-align: right;\">\n",
              "      <th></th>\n",
              "      <th>Id</th>\n",
              "      <th>EmployeeName</th>\n",
              "      <th>JobTitle</th>\n",
              "      <th>BasePay</th>\n",
              "      <th>OvertimePay</th>\n",
              "      <th>OtherPay</th>\n",
              "      <th>Benefits</th>\n",
              "      <th>TotalPay</th>\n",
              "      <th>TotalPayBenefits</th>\n",
              "      <th>Year</th>\n",
              "      <th>Notes</th>\n",
              "      <th>Agency</th>\n",
              "      <th>Status</th>\n",
              "    </tr>\n",
              "  </thead>\n",
              "  <tbody>\n",
              "    <tr>\n",
              "      <th>24</th>\n",
              "      <td>25</td>\n",
              "      <td>JOSEPH DRISCOLL</td>\n",
              "      <td>CAPTAIN, FIRE SUPPRESSION</td>\n",
              "      <td>140546.86</td>\n",
              "      <td>97868.77</td>\n",
              "      <td>31909.28</td>\n",
              "      <td>NaN</td>\n",
              "      <td>270324.91</td>\n",
              "      <td>270324.91</td>\n",
              "      <td>2011</td>\n",
              "      <td>NaN</td>\n",
              "      <td>San Francisco</td>\n",
              "      <td>NaN</td>\n",
              "    </tr>\n",
              "    <tr>\n",
              "      <th>36198</th>\n",
              "      <td>36199</td>\n",
              "      <td>Joseph Driscoll</td>\n",
              "      <td>Captain, Fire Suppression</td>\n",
              "      <td>145658.98</td>\n",
              "      <td>114513.29</td>\n",
              "      <td>28743.36</td>\n",
              "      <td>42919.16</td>\n",
              "      <td>288915.63</td>\n",
              "      <td>331834.79</td>\n",
              "      <td>2012</td>\n",
              "      <td>NaN</td>\n",
              "      <td>San Francisco</td>\n",
              "      <td>NaN</td>\n",
              "    </tr>\n",
              "  </tbody>\n",
              "</table>\n",
              "</div>"
            ],
            "text/plain": [
              "          Id     EmployeeName  ...         Agency  Status\n",
              "24        25  JOSEPH DRISCOLL  ...  San Francisco     NaN\n",
              "36198  36199  Joseph Driscoll  ...  San Francisco     NaN\n",
              "\n",
              "[2 rows x 13 columns]"
            ]
          },
          "metadata": {
            "tags": []
          },
          "execution_count": 27
        }
      ]
    },
    {
      "cell_type": "code",
      "metadata": {
        "id": "MwzxTlI29nOl",
        "colab_type": "code",
        "colab": {
          "base_uri": "https://localhost:8080/",
          "height": 97
        },
        "outputId": "a080a129-f0d4-4c37-dd38-8104d0a509d9"
      },
      "source": [
        "# Now try to select Employees who have name \"GARY JIMENEZ\"\n",
        "# Your code here\n",
        "sal[sal.EmployeeName.str.contains('GARY JIMENEZ',case=False)]\n"
      ],
      "execution_count": 28,
      "outputs": [
        {
          "output_type": "execute_result",
          "data": {
            "text/html": [
              "<div>\n",
              "<style scoped>\n",
              "    .dataframe tbody tr th:only-of-type {\n",
              "        vertical-align: middle;\n",
              "    }\n",
              "\n",
              "    .dataframe tbody tr th {\n",
              "        vertical-align: top;\n",
              "    }\n",
              "\n",
              "    .dataframe thead th {\n",
              "        text-align: right;\n",
              "    }\n",
              "</style>\n",
              "<table border=\"1\" class=\"dataframe\">\n",
              "  <thead>\n",
              "    <tr style=\"text-align: right;\">\n",
              "      <th></th>\n",
              "      <th>Id</th>\n",
              "      <th>EmployeeName</th>\n",
              "      <th>JobTitle</th>\n",
              "      <th>BasePay</th>\n",
              "      <th>OvertimePay</th>\n",
              "      <th>OtherPay</th>\n",
              "      <th>Benefits</th>\n",
              "      <th>TotalPay</th>\n",
              "      <th>TotalPayBenefits</th>\n",
              "      <th>Year</th>\n",
              "      <th>Notes</th>\n",
              "      <th>Agency</th>\n",
              "      <th>Status</th>\n",
              "    </tr>\n",
              "  </thead>\n",
              "  <tbody>\n",
              "    <tr>\n",
              "      <th>1</th>\n",
              "      <td>2</td>\n",
              "      <td>GARY JIMENEZ</td>\n",
              "      <td>CAPTAIN III (POLICE DEPARTMENT)</td>\n",
              "      <td>155966.02</td>\n",
              "      <td>245131.88</td>\n",
              "      <td>137811.38</td>\n",
              "      <td>NaN</td>\n",
              "      <td>538909.28</td>\n",
              "      <td>538909.28</td>\n",
              "      <td>2011</td>\n",
              "      <td>NaN</td>\n",
              "      <td>San Francisco</td>\n",
              "      <td>NaN</td>\n",
              "    </tr>\n",
              "  </tbody>\n",
              "</table>\n",
              "</div>"
            ],
            "text/plain": [
              "   Id  EmployeeName  ...         Agency  Status\n",
              "1   2  GARY JIMENEZ  ...  San Francisco     NaN\n",
              "\n",
              "[1 rows x 13 columns]"
            ]
          },
          "metadata": {
            "tags": []
          },
          "execution_count": 28
        }
      ]
    },
    {
      "cell_type": "markdown",
      "metadata": {
        "id": "0nrHI4iu9nOn",
        "colab_type": "text"
      },
      "source": [
        "**How much does JOSEPH DRISCOLL make (including benefits)?**"
      ]
    },
    {
      "cell_type": "code",
      "metadata": {
        "id": "TUZlBSDE9nOo",
        "colab_type": "code",
        "colab": {
          "base_uri": "https://localhost:8080/",
          "height": 68
        },
        "outputId": "d1220086-95f1-430f-d372-fb670c2039b6"
      },
      "source": [
        "josephDriscoll = sal[sal.EmployeeName.str.contains('JOSEPH DRISCOLL',case=False)]\n",
        "josephDriscoll\n",
        "josephDriscoll['TotalPayBenefits']"
      ],
      "execution_count": 32,
      "outputs": [
        {
          "output_type": "execute_result",
          "data": {
            "text/plain": [
              "24       270324.91\n",
              "36198    331834.79\n",
              "Name: TotalPayBenefits, dtype: float64"
            ]
          },
          "metadata": {
            "tags": []
          },
          "execution_count": 32
        }
      ]
    },
    {
      "cell_type": "markdown",
      "metadata": {
        "id": "1thjd2GC9nOq",
        "colab_type": "text"
      },
      "source": [
        "**What is the name of highest paid person (including benefits)?**"
      ]
    },
    {
      "cell_type": "code",
      "metadata": {
        "id": "msrq-7Ww9nOr",
        "colab_type": "code",
        "colab": {
          "base_uri": "https://localhost:8080/",
          "height": 34
        },
        "outputId": "786b6fb1-d47e-4f24-af0c-b19ca4f04b7d"
      },
      "source": [
        "# sal.loc[sal['TotalPayBenefits'].idxmax()]\n",
        "sal.loc[sal['TotalPayBenefits'].idxmax()].EmployeeName"
      ],
      "execution_count": 36,
      "outputs": [
        {
          "output_type": "execute_result",
          "data": {
            "text/plain": [
              "'NATHANIEL FORD'"
            ]
          },
          "metadata": {
            "tags": []
          },
          "execution_count": 36
        }
      ]
    },
    {
      "cell_type": "markdown",
      "metadata": {
        "id": "uF2kX93x9nOu",
        "colab_type": "text"
      },
      "source": [
        "**What is the name of lowest paid person (including benefits)? Do you notice something strange about how much he or she is paid?**"
      ]
    },
    {
      "cell_type": "code",
      "metadata": {
        "id": "htAfatTl9nOv",
        "colab_type": "code",
        "colab": {
          "base_uri": "https://localhost:8080/",
          "height": 255
        },
        "outputId": "17436050-cb8f-4b22-cba1-bbcb9a0bede3"
      },
      "source": [
        "sal.loc[sal['TotalPayBenefits'].idxmin()]"
      ],
      "execution_count": 37,
      "outputs": [
        {
          "output_type": "execute_result",
          "data": {
            "text/plain": [
              "Id                                      148654\n",
              "EmployeeName                         Joe Lopez\n",
              "JobTitle            Counselor, Log Cabin Ranch\n",
              "BasePay                                      0\n",
              "OvertimePay                                  0\n",
              "OtherPay                               -618.13\n",
              "Benefits                                     0\n",
              "TotalPay                               -618.13\n",
              "TotalPayBenefits                       -618.13\n",
              "Year                                      2014\n",
              "Notes                                      NaN\n",
              "Agency                           San Francisco\n",
              "Status                                     NaN\n",
              "Name: 148653, dtype: object"
            ]
          },
          "metadata": {
            "tags": []
          },
          "execution_count": 37
        }
      ]
    },
    {
      "cell_type": "markdown",
      "metadata": {
        "id": "BF27pl6q1mkP",
        "colab_type": "text"
      },
      "source": [
        "- TotalPayBenefits is less than 0 (-618.13). I think he is minus his salary when he is punished"
      ]
    },
    {
      "cell_type": "markdown",
      "metadata": {
        "id": "WB0HTvjM9nOx",
        "colab_type": "text"
      },
      "source": [
        "**What was the average (mean) BasePay of all employees per year? (2011-2014) ?**\n",
        "Keyword: _groupby_"
      ]
    },
    {
      "cell_type": "code",
      "metadata": {
        "id": "6Y5mUYir9nOy",
        "colab_type": "code",
        "colab": {
          "base_uri": "https://localhost:8080/",
          "height": 1000
        },
        "outputId": "f3d06663-ae9d-42fd-ae59-a57d173065a6"
      },
      "source": [
        "basePayGroup = sal.groupby(['BasePay']).mean()\n",
        "basePayGroup.sort_values(['Year'])\n"
      ],
      "execution_count": 50,
      "outputs": [
        {
          "output_type": "execute_result",
          "data": {
            "text/html": [
              "<div>\n",
              "<style scoped>\n",
              "    .dataframe tbody tr th:only-of-type {\n",
              "        vertical-align: middle;\n",
              "    }\n",
              "\n",
              "    .dataframe tbody tr th {\n",
              "        vertical-align: top;\n",
              "    }\n",
              "\n",
              "    .dataframe thead th {\n",
              "        text-align: right;\n",
              "    }\n",
              "</style>\n",
              "<table border=\"1\" class=\"dataframe\">\n",
              "  <thead>\n",
              "    <tr style=\"text-align: right;\">\n",
              "      <th></th>\n",
              "      <th>Id</th>\n",
              "      <th>OvertimePay</th>\n",
              "      <th>OtherPay</th>\n",
              "      <th>Benefits</th>\n",
              "      <th>TotalPay</th>\n",
              "      <th>TotalPayBenefits</th>\n",
              "      <th>Year</th>\n",
              "      <th>Notes</th>\n",
              "      <th>Status</th>\n",
              "    </tr>\n",
              "    <tr>\n",
              "      <th>BasePay</th>\n",
              "      <th></th>\n",
              "      <th></th>\n",
              "      <th></th>\n",
              "      <th></th>\n",
              "      <th></th>\n",
              "      <th></th>\n",
              "      <th></th>\n",
              "      <th></th>\n",
              "      <th></th>\n",
              "    </tr>\n",
              "  </thead>\n",
              "  <tbody>\n",
              "    <tr>\n",
              "      <th>94187.23</th>\n",
              "      <td>8321.00</td>\n",
              "      <td>5740.970</td>\n",
              "      <td>5771.3700</td>\n",
              "      <td>NaN</td>\n",
              "      <td>105699.5700</td>\n",
              "      <td>105699.5700</td>\n",
              "      <td>2011.0</td>\n",
              "      <td>NaN</td>\n",
              "      <td>NaN</td>\n",
              "    </tr>\n",
              "    <tr>\n",
              "      <th>39755.70</th>\n",
              "      <td>25712.00</td>\n",
              "      <td>0.000</td>\n",
              "      <td>6626.1300</td>\n",
              "      <td>NaN</td>\n",
              "      <td>46381.8300</td>\n",
              "      <td>46381.8300</td>\n",
              "      <td>2011.0</td>\n",
              "      <td>NaN</td>\n",
              "      <td>NaN</td>\n",
              "    </tr>\n",
              "    <tr>\n",
              "      <th>91886.62</th>\n",
              "      <td>8597.00</td>\n",
              "      <td>1277.370</td>\n",
              "      <td>11358.7600</td>\n",
              "      <td>NaN</td>\n",
              "      <td>104522.7500</td>\n",
              "      <td>104522.7500</td>\n",
              "      <td>2011.0</td>\n",
              "      <td>NaN</td>\n",
              "      <td>NaN</td>\n",
              "    </tr>\n",
              "    <tr>\n",
              "      <th>39760.03</th>\n",
              "      <td>26688.00</td>\n",
              "      <td>0.000</td>\n",
              "      <td>432.0000</td>\n",
              "      <td>NaN</td>\n",
              "      <td>40192.0300</td>\n",
              "      <td>40192.0300</td>\n",
              "      <td>2011.0</td>\n",
              "      <td>NaN</td>\n",
              "      <td>NaN</td>\n",
              "    </tr>\n",
              "    <tr>\n",
              "      <th>91872.76</th>\n",
              "      <td>9453.00</td>\n",
              "      <td>1784.700</td>\n",
              "      <td>6615.8000</td>\n",
              "      <td>NaN</td>\n",
              "      <td>100273.2600</td>\n",
              "      <td>100273.2600</td>\n",
              "      <td>2011.0</td>\n",
              "      <td>NaN</td>\n",
              "      <td>NaN</td>\n",
              "    </tr>\n",
              "    <tr>\n",
              "      <th>91872.07</th>\n",
              "      <td>10094.00</td>\n",
              "      <td>3077.740</td>\n",
              "      <td>1689.4100</td>\n",
              "      <td>NaN</td>\n",
              "      <td>96639.2200</td>\n",
              "      <td>96639.2200</td>\n",
              "      <td>2011.0</td>\n",
              "      <td>NaN</td>\n",
              "      <td>NaN</td>\n",
              "    </tr>\n",
              "    <tr>\n",
              "      <th>39791.14</th>\n",
              "      <td>26617.00</td>\n",
              "      <td>0.000</td>\n",
              "      <td>900.2000</td>\n",
              "      <td>NaN</td>\n",
              "      <td>40691.3400</td>\n",
              "      <td>40691.3400</td>\n",
              "      <td>2011.0</td>\n",
              "      <td>NaN</td>\n",
              "      <td>NaN</td>\n",
              "    </tr>\n",
              "    <tr>\n",
              "      <th>91861.18</th>\n",
              "      <td>7665.00</td>\n",
              "      <td>6690.290</td>\n",
              "      <td>10756.3000</td>\n",
              "      <td>NaN</td>\n",
              "      <td>109307.7700</td>\n",
              "      <td>109307.7700</td>\n",
              "      <td>2011.0</td>\n",
              "      <td>NaN</td>\n",
              "      <td>NaN</td>\n",
              "    </tr>\n",
              "    <tr>\n",
              "      <th>91858.02</th>\n",
              "      <td>8320.00</td>\n",
              "      <td>6335.090</td>\n",
              "      <td>7511.3500</td>\n",
              "      <td>NaN</td>\n",
              "      <td>105704.4600</td>\n",
              "      <td>105704.4600</td>\n",
              "      <td>2011.0</td>\n",
              "      <td>NaN</td>\n",
              "      <td>NaN</td>\n",
              "    </tr>\n",
              "    <tr>\n",
              "      <th>39798.00</th>\n",
              "      <td>26597.00</td>\n",
              "      <td>0.000</td>\n",
              "      <td>996.7600</td>\n",
              "      <td>NaN</td>\n",
              "      <td>40794.7600</td>\n",
              "      <td>40794.7600</td>\n",
              "      <td>2011.0</td>\n",
              "      <td>NaN</td>\n",
              "      <td>NaN</td>\n",
              "    </tr>\n",
              "    <tr>\n",
              "      <th>91858.01</th>\n",
              "      <td>8952.00</td>\n",
              "      <td>3941.590</td>\n",
              "      <td>7129.2300</td>\n",
              "      <td>NaN</td>\n",
              "      <td>102928.8300</td>\n",
              "      <td>102928.8300</td>\n",
              "      <td>2011.0</td>\n",
              "      <td>NaN</td>\n",
              "      <td>NaN</td>\n",
              "    </tr>\n",
              "    <tr>\n",
              "      <th>91858.00</th>\n",
              "      <td>5758.25</td>\n",
              "      <td>19927.715</td>\n",
              "      <td>14008.4775</td>\n",
              "      <td>NaN</td>\n",
              "      <td>125794.1925</td>\n",
              "      <td>125794.1925</td>\n",
              "      <td>2011.0</td>\n",
              "      <td>NaN</td>\n",
              "      <td>NaN</td>\n",
              "    </tr>\n",
              "    <tr>\n",
              "      <th>91853.50</th>\n",
              "      <td>9195.00</td>\n",
              "      <td>2802.530</td>\n",
              "      <td>7001.4600</td>\n",
              "      <td>NaN</td>\n",
              "      <td>101657.4900</td>\n",
              "      <td>101657.4900</td>\n",
              "      <td>2011.0</td>\n",
              "      <td>NaN</td>\n",
              "      <td>NaN</td>\n",
              "    </tr>\n",
              "    <tr>\n",
              "      <th>91845.80</th>\n",
              "      <td>4967.00</td>\n",
              "      <td>13464.890</td>\n",
              "      <td>19110.4600</td>\n",
              "      <td>NaN</td>\n",
              "      <td>124421.1500</td>\n",
              "      <td>124421.1500</td>\n",
              "      <td>2011.0</td>\n",
              "      <td>NaN</td>\n",
              "      <td>NaN</td>\n",
              "    </tr>\n",
              "    <tr>\n",
              "      <th>91844.67</th>\n",
              "      <td>8047.00</td>\n",
              "      <td>3521.420</td>\n",
              "      <td>11666.6500</td>\n",
              "      <td>NaN</td>\n",
              "      <td>107032.7400</td>\n",
              "      <td>107032.7400</td>\n",
              "      <td>2011.0</td>\n",
              "      <td>NaN</td>\n",
              "      <td>NaN</td>\n",
              "    </tr>\n",
              "    <tr>\n",
              "      <th>39810.41</th>\n",
              "      <td>26315.00</td>\n",
              "      <td>1789.720</td>\n",
              "      <td>1286.9800</td>\n",
              "      <td>NaN</td>\n",
              "      <td>42887.1100</td>\n",
              "      <td>42887.1100</td>\n",
              "      <td>2011.0</td>\n",
              "      <td>NaN</td>\n",
              "      <td>NaN</td>\n",
              "    </tr>\n",
              "    <tr>\n",
              "      <th>91892.23</th>\n",
              "      <td>7816.00</td>\n",
              "      <td>7356.330</td>\n",
              "      <td>9099.6800</td>\n",
              "      <td>NaN</td>\n",
              "      <td>108348.2400</td>\n",
              "      <td>108348.2400</td>\n",
              "      <td>2011.0</td>\n",
              "      <td>NaN</td>\n",
              "      <td>NaN</td>\n",
              "    </tr>\n",
              "    <tr>\n",
              "      <th>39826.40</th>\n",
              "      <td>25756.00</td>\n",
              "      <td>4866.610</td>\n",
              "      <td>1449.7900</td>\n",
              "      <td>NaN</td>\n",
              "      <td>46142.8000</td>\n",
              "      <td>46142.8000</td>\n",
              "      <td>2011.0</td>\n",
              "      <td>NaN</td>\n",
              "      <td>NaN</td>\n",
              "    </tr>\n",
              "    <tr>\n",
              "      <th>91894.13</th>\n",
              "      <td>8691.00</td>\n",
              "      <td>0.000</td>\n",
              "      <td>12327.6100</td>\n",
              "      <td>NaN</td>\n",
              "      <td>104221.7400</td>\n",
              "      <td>104221.7400</td>\n",
              "      <td>2011.0</td>\n",
              "      <td>NaN</td>\n",
              "      <td>NaN</td>\n",
              "    </tr>\n",
              "    <tr>\n",
              "      <th>91895.42</th>\n",
              "      <td>11209.00</td>\n",
              "      <td>0.000</td>\n",
              "      <td>0.0000</td>\n",
              "      <td>NaN</td>\n",
              "      <td>91895.4200</td>\n",
              "      <td>91895.4200</td>\n",
              "      <td>2011.0</td>\n",
              "      <td>NaN</td>\n",
              "      <td>NaN</td>\n",
              "    </tr>\n",
              "    <tr>\n",
              "      <th>91922.50</th>\n",
              "      <td>9343.00</td>\n",
              "      <td>6261.330</td>\n",
              "      <td>2774.1700</td>\n",
              "      <td>NaN</td>\n",
              "      <td>100958.0000</td>\n",
              "      <td>100958.0000</td>\n",
              "      <td>2011.0</td>\n",
              "      <td>NaN</td>\n",
              "      <td>NaN</td>\n",
              "    </tr>\n",
              "    <tr>\n",
              "      <th>39674.98</th>\n",
              "      <td>25872.00</td>\n",
              "      <td>5966.510</td>\n",
              "      <td>0.0000</td>\n",
              "      <td>NaN</td>\n",
              "      <td>45641.4900</td>\n",
              "      <td>45641.4900</td>\n",
              "      <td>2011.0</td>\n",
              "      <td>NaN</td>\n",
              "      <td>NaN</td>\n",
              "    </tr>\n",
              "    <tr>\n",
              "      <th>39687.13</th>\n",
              "      <td>26748.00</td>\n",
              "      <td>0.000</td>\n",
              "      <td>0.0000</td>\n",
              "      <td>NaN</td>\n",
              "      <td>39687.1300</td>\n",
              "      <td>39687.1300</td>\n",
              "      <td>2011.0</td>\n",
              "      <td>NaN</td>\n",
              "      <td>NaN</td>\n",
              "    </tr>\n",
              "    <tr>\n",
              "      <th>39689.50</th>\n",
              "      <td>26479.00</td>\n",
              "      <td>1514.590</td>\n",
              "      <td>491.7300</td>\n",
              "      <td>NaN</td>\n",
              "      <td>41695.8200</td>\n",
              "      <td>41695.8200</td>\n",
              "      <td>2011.0</td>\n",
              "      <td>NaN</td>\n",
              "      <td>NaN</td>\n",
              "    </tr>\n",
              "    <tr>\n",
              "      <th>39690.57</th>\n",
              "      <td>26484.00</td>\n",
              "      <td>0.000</td>\n",
              "      <td>1968.1500</td>\n",
              "      <td>NaN</td>\n",
              "      <td>41658.7200</td>\n",
              "      <td>41658.7200</td>\n",
              "      <td>2011.0</td>\n",
              "      <td>NaN</td>\n",
              "      <td>NaN</td>\n",
              "    </tr>\n",
              "    <tr>\n",
              "      <th>91914.94</th>\n",
              "      <td>10873.00</td>\n",
              "      <td>0.000</td>\n",
              "      <td>1449.0800</td>\n",
              "      <td>NaN</td>\n",
              "      <td>93364.0200</td>\n",
              "      <td>93364.0200</td>\n",
              "      <td>2011.0</td>\n",
              "      <td>NaN</td>\n",
              "      <td>NaN</td>\n",
              "    </tr>\n",
              "    <tr>\n",
              "      <th>39695.11</th>\n",
              "      <td>26679.00</td>\n",
              "      <td>285.600</td>\n",
              "      <td>250.0000</td>\n",
              "      <td>NaN</td>\n",
              "      <td>40230.7100</td>\n",
              "      <td>40230.7100</td>\n",
              "      <td>2011.0</td>\n",
              "      <td>NaN</td>\n",
              "      <td>NaN</td>\n",
              "    </tr>\n",
              "    <tr>\n",
              "      <th>39698.72</th>\n",
              "      <td>25996.00</td>\n",
              "      <td>1843.450</td>\n",
              "      <td>3404.5100</td>\n",
              "      <td>NaN</td>\n",
              "      <td>44946.6800</td>\n",
              "      <td>44946.6800</td>\n",
              "      <td>2011.0</td>\n",
              "      <td>NaN</td>\n",
              "      <td>NaN</td>\n",
              "    </tr>\n",
              "    <tr>\n",
              "      <th>39720.04</th>\n",
              "      <td>26121.00</td>\n",
              "      <td>2614.780</td>\n",
              "      <td>1791.1300</td>\n",
              "      <td>NaN</td>\n",
              "      <td>44125.9500</td>\n",
              "      <td>44125.9500</td>\n",
              "      <td>2011.0</td>\n",
              "      <td>NaN</td>\n",
              "      <td>NaN</td>\n",
              "    </tr>\n",
              "    <tr>\n",
              "      <th>39721.88</th>\n",
              "      <td>26131.00</td>\n",
              "      <td>274.890</td>\n",
              "      <td>4075.9500</td>\n",
              "      <td>NaN</td>\n",
              "      <td>44072.7200</td>\n",
              "      <td>44072.7200</td>\n",
              "      <td>2011.0</td>\n",
              "      <td>NaN</td>\n",
              "      <td>NaN</td>\n",
              "    </tr>\n",
              "    <tr>\n",
              "      <th>...</th>\n",
              "      <td>...</td>\n",
              "      <td>...</td>\n",
              "      <td>...</td>\n",
              "      <td>...</td>\n",
              "      <td>...</td>\n",
              "      <td>...</td>\n",
              "      <td>...</td>\n",
              "      <td>...</td>\n",
              "      <td>...</td>\n",
              "    </tr>\n",
              "    <tr>\n",
              "      <th>60520.51</th>\n",
              "      <td>132990.00</td>\n",
              "      <td>0.000</td>\n",
              "      <td>623.0300</td>\n",
              "      <td>27203.78</td>\n",
              "      <td>61143.5400</td>\n",
              "      <td>88347.3200</td>\n",
              "      <td>2014.0</td>\n",
              "      <td>NaN</td>\n",
              "      <td>NaN</td>\n",
              "    </tr>\n",
              "    <tr>\n",
              "      <th>29899.08</th>\n",
              "      <td>139522.00</td>\n",
              "      <td>0.000</td>\n",
              "      <td>0.0000</td>\n",
              "      <td>10179.02</td>\n",
              "      <td>29899.0800</td>\n",
              "      <td>40078.1000</td>\n",
              "      <td>2014.0</td>\n",
              "      <td>NaN</td>\n",
              "      <td>NaN</td>\n",
              "    </tr>\n",
              "    <tr>\n",
              "      <th>60506.68</th>\n",
              "      <td>135574.00</td>\n",
              "      <td>701.610</td>\n",
              "      <td>0.0000</td>\n",
              "      <td>17555.43</td>\n",
              "      <td>61208.2900</td>\n",
              "      <td>78763.7200</td>\n",
              "      <td>2014.0</td>\n",
              "      <td>NaN</td>\n",
              "      <td>NaN</td>\n",
              "    </tr>\n",
              "    <tr>\n",
              "      <th>29787.35</th>\n",
              "      <td>139030.00</td>\n",
              "      <td>1031.710</td>\n",
              "      <td>298.7300</td>\n",
              "      <td>13897.17</td>\n",
              "      <td>31117.7900</td>\n",
              "      <td>45014.9600</td>\n",
              "      <td>2014.0</td>\n",
              "      <td>NaN</td>\n",
              "      <td>NaN</td>\n",
              "    </tr>\n",
              "    <tr>\n",
              "      <th>60515.50</th>\n",
              "      <td>132112.00</td>\n",
              "      <td>1743.840</td>\n",
              "      <td>5186.3700</td>\n",
              "      <td>24027.71</td>\n",
              "      <td>67445.7100</td>\n",
              "      <td>91473.4200</td>\n",
              "      <td>2014.0</td>\n",
              "      <td>NaN</td>\n",
              "      <td>NaN</td>\n",
              "    </tr>\n",
              "    <tr>\n",
              "      <th>29791.96</th>\n",
              "      <td>138867.00</td>\n",
              "      <td>27.030</td>\n",
              "      <td>299.8400</td>\n",
              "      <td>16773.46</td>\n",
              "      <td>30118.8300</td>\n",
              "      <td>46892.2900</td>\n",
              "      <td>2014.0</td>\n",
              "      <td>NaN</td>\n",
              "      <td>NaN</td>\n",
              "    </tr>\n",
              "    <tr>\n",
              "      <th>97642.30</th>\n",
              "      <td>122841.00</td>\n",
              "      <td>0.000</td>\n",
              "      <td>0.0000</td>\n",
              "      <td>30657.73</td>\n",
              "      <td>97642.3000</td>\n",
              "      <td>128300.0300</td>\n",
              "      <td>2014.0</td>\n",
              "      <td>NaN</td>\n",
              "      <td>NaN</td>\n",
              "    </tr>\n",
              "    <tr>\n",
              "      <th>29802.85</th>\n",
              "      <td>139837.00</td>\n",
              "      <td>0.000</td>\n",
              "      <td>1603.2400</td>\n",
              "      <td>5628.81</td>\n",
              "      <td>31406.0900</td>\n",
              "      <td>37034.9000</td>\n",
              "      <td>2014.0</td>\n",
              "      <td>NaN</td>\n",
              "      <td>NaN</td>\n",
              "    </tr>\n",
              "    <tr>\n",
              "      <th>75652.00</th>\n",
              "      <td>124395.00</td>\n",
              "      <td>3627.720</td>\n",
              "      <td>15665.3200</td>\n",
              "      <td>25367.45</td>\n",
              "      <td>94945.0400</td>\n",
              "      <td>120312.4900</td>\n",
              "      <td>2014.0</td>\n",
              "      <td>NaN</td>\n",
              "      <td>NaN</td>\n",
              "    </tr>\n",
              "    <tr>\n",
              "      <th>29809.00</th>\n",
              "      <td>137587.00</td>\n",
              "      <td>0.000</td>\n",
              "      <td>22742.3700</td>\n",
              "      <td>9478.41</td>\n",
              "      <td>52551.3700</td>\n",
              "      <td>62029.7800</td>\n",
              "      <td>2014.0</td>\n",
              "      <td>NaN</td>\n",
              "      <td>NaN</td>\n",
              "    </tr>\n",
              "    <tr>\n",
              "      <th>97634.87</th>\n",
              "      <td>121642.00</td>\n",
              "      <td>1330.940</td>\n",
              "      <td>1365.0600</td>\n",
              "      <td>33631.97</td>\n",
              "      <td>100330.8700</td>\n",
              "      <td>133962.8400</td>\n",
              "      <td>2014.0</td>\n",
              "      <td>NaN</td>\n",
              "      <td>NaN</td>\n",
              "    </tr>\n",
              "    <tr>\n",
              "      <th>97632.65</th>\n",
              "      <td>121883.00</td>\n",
              "      <td>0.000</td>\n",
              "      <td>0.0000</td>\n",
              "      <td>35206.23</td>\n",
              "      <td>97632.6500</td>\n",
              "      <td>132838.8800</td>\n",
              "      <td>2014.0</td>\n",
              "      <td>NaN</td>\n",
              "      <td>NaN</td>\n",
              "    </tr>\n",
              "    <tr>\n",
              "      <th>97630.57</th>\n",
              "      <td>120708.00</td>\n",
              "      <td>3934.350</td>\n",
              "      <td>926.9600</td>\n",
              "      <td>36266.01</td>\n",
              "      <td>102491.8800</td>\n",
              "      <td>138757.8900</td>\n",
              "      <td>2014.0</td>\n",
              "      <td>NaN</td>\n",
              "      <td>NaN</td>\n",
              "    </tr>\n",
              "    <tr>\n",
              "      <th>29811.36</th>\n",
              "      <td>138875.00</td>\n",
              "      <td>2344.570</td>\n",
              "      <td>283.7800</td>\n",
              "      <td>14357.12</td>\n",
              "      <td>32439.7100</td>\n",
              "      <td>46796.8300</td>\n",
              "      <td>2014.0</td>\n",
              "      <td>NaN</td>\n",
              "      <td>NaN</td>\n",
              "    </tr>\n",
              "    <tr>\n",
              "      <th>29814.84</th>\n",
              "      <td>140529.00</td>\n",
              "      <td>0.000</td>\n",
              "      <td>0.0000</td>\n",
              "      <td>298.14</td>\n",
              "      <td>29814.8400</td>\n",
              "      <td>30112.9800</td>\n",
              "      <td>2014.0</td>\n",
              "      <td>NaN</td>\n",
              "      <td>NaN</td>\n",
              "    </tr>\n",
              "    <tr>\n",
              "      <th>29821.75</th>\n",
              "      <td>139603.00</td>\n",
              "      <td>544.010</td>\n",
              "      <td>3320.9600</td>\n",
              "      <td>5444.97</td>\n",
              "      <td>33686.7200</td>\n",
              "      <td>39131.6900</td>\n",
              "      <td>2014.0</td>\n",
              "      <td>NaN</td>\n",
              "      <td>NaN</td>\n",
              "    </tr>\n",
              "    <tr>\n",
              "      <th>29822.64</th>\n",
              "      <td>139267.00</td>\n",
              "      <td>0.000</td>\n",
              "      <td>9.6000</td>\n",
              "      <td>12769.93</td>\n",
              "      <td>29832.2400</td>\n",
              "      <td>42602.1700</td>\n",
              "      <td>2014.0</td>\n",
              "      <td>NaN</td>\n",
              "      <td>NaN</td>\n",
              "    </tr>\n",
              "    <tr>\n",
              "      <th>29827.18</th>\n",
              "      <td>138792.00</td>\n",
              "      <td>1546.560</td>\n",
              "      <td>1227.4200</td>\n",
              "      <td>15220.94</td>\n",
              "      <td>32601.1600</td>\n",
              "      <td>47822.1000</td>\n",
              "      <td>2014.0</td>\n",
              "      <td>NaN</td>\n",
              "      <td>NaN</td>\n",
              "    </tr>\n",
              "    <tr>\n",
              "      <th>29844.09</th>\n",
              "      <td>139101.00</td>\n",
              "      <td>0.000</td>\n",
              "      <td>850.0400</td>\n",
              "      <td>13722.62</td>\n",
              "      <td>30694.1300</td>\n",
              "      <td>44416.7500</td>\n",
              "      <td>2014.0</td>\n",
              "      <td>NaN</td>\n",
              "      <td>NaN</td>\n",
              "    </tr>\n",
              "    <tr>\n",
              "      <th>29845.10</th>\n",
              "      <td>139072.00</td>\n",
              "      <td>772.530</td>\n",
              "      <td>250.0000</td>\n",
              "      <td>13782.88</td>\n",
              "      <td>30867.6300</td>\n",
              "      <td>44650.5100</td>\n",
              "      <td>2014.0</td>\n",
              "      <td>NaN</td>\n",
              "      <td>NaN</td>\n",
              "    </tr>\n",
              "    <tr>\n",
              "      <th>60512.14</th>\n",
              "      <td>132772.00</td>\n",
              "      <td>0.000</td>\n",
              "      <td>6097.3200</td>\n",
              "      <td>22388.88</td>\n",
              "      <td>66609.4600</td>\n",
              "      <td>88998.3400</td>\n",
              "      <td>2014.0</td>\n",
              "      <td>NaN</td>\n",
              "      <td>NaN</td>\n",
              "    </tr>\n",
              "    <tr>\n",
              "      <th>29859.02</th>\n",
              "      <td>138706.00</td>\n",
              "      <td>4535.750</td>\n",
              "      <td>1992.4800</td>\n",
              "      <td>12158.44</td>\n",
              "      <td>36387.2500</td>\n",
              "      <td>48545.6900</td>\n",
              "      <td>2014.0</td>\n",
              "      <td>NaN</td>\n",
              "      <td>NaN</td>\n",
              "    </tr>\n",
              "    <tr>\n",
              "      <th>60512.04</th>\n",
              "      <td>133465.00</td>\n",
              "      <td>0.000</td>\n",
              "      <td>6195.1500</td>\n",
              "      <td>20461.04</td>\n",
              "      <td>66707.1900</td>\n",
              "      <td>87168.2300</td>\n",
              "      <td>2014.0</td>\n",
              "      <td>NaN</td>\n",
              "      <td>NaN</td>\n",
              "    </tr>\n",
              "    <tr>\n",
              "      <th>29864.01</th>\n",
              "      <td>139164.00</td>\n",
              "      <td>0.000</td>\n",
              "      <td>312.0000</td>\n",
              "      <td>13526.19</td>\n",
              "      <td>30176.0100</td>\n",
              "      <td>43702.2000</td>\n",
              "      <td>2014.0</td>\n",
              "      <td>NaN</td>\n",
              "      <td>NaN</td>\n",
              "    </tr>\n",
              "    <tr>\n",
              "      <th>29864.03</th>\n",
              "      <td>139074.00</td>\n",
              "      <td>0.000</td>\n",
              "      <td>1080.3650</td>\n",
              "      <td>13693.62</td>\n",
              "      <td>30944.3950</td>\n",
              "      <td>44638.0150</td>\n",
              "      <td>2014.0</td>\n",
              "      <td>NaN</td>\n",
              "      <td>NaN</td>\n",
              "    </tr>\n",
              "    <tr>\n",
              "      <th>29864.07</th>\n",
              "      <td>139200.00</td>\n",
              "      <td>0.000</td>\n",
              "      <td>0.0000</td>\n",
              "      <td>13459.62</td>\n",
              "      <td>29864.0700</td>\n",
              "      <td>43323.6900</td>\n",
              "      <td>2014.0</td>\n",
              "      <td>NaN</td>\n",
              "      <td>NaN</td>\n",
              "    </tr>\n",
              "    <tr>\n",
              "      <th>60507.65</th>\n",
              "      <td>130123.00</td>\n",
              "      <td>7434.150</td>\n",
              "      <td>3514.1700</td>\n",
              "      <td>27565.35</td>\n",
              "      <td>71455.9700</td>\n",
              "      <td>99021.3200</td>\n",
              "      <td>2014.0</td>\n",
              "      <td>NaN</td>\n",
              "      <td>NaN</td>\n",
              "    </tr>\n",
              "    <tr>\n",
              "      <th>29873.20</th>\n",
              "      <td>138972.00</td>\n",
              "      <td>0.000</td>\n",
              "      <td>209.3400</td>\n",
              "      <td>15519.41</td>\n",
              "      <td>30082.5400</td>\n",
              "      <td>45601.9500</td>\n",
              "      <td>2014.0</td>\n",
              "      <td>NaN</td>\n",
              "      <td>NaN</td>\n",
              "    </tr>\n",
              "    <tr>\n",
              "      <th>29897.42</th>\n",
              "      <td>139281.00</td>\n",
              "      <td>0.000</td>\n",
              "      <td>262.5400</td>\n",
              "      <td>12310.01</td>\n",
              "      <td>30159.9600</td>\n",
              "      <td>42469.9700</td>\n",
              "      <td>2014.0</td>\n",
              "      <td>NaN</td>\n",
              "      <td>NaN</td>\n",
              "    </tr>\n",
              "    <tr>\n",
              "      <th>18486.67</th>\n",
              "      <td>141823.00</td>\n",
              "      <td>1448.550</td>\n",
              "      <td>0.0000</td>\n",
              "      <td>199.36</td>\n",
              "      <td>19935.2200</td>\n",
              "      <td>20134.5800</td>\n",
              "      <td>2014.0</td>\n",
              "      <td>NaN</td>\n",
              "      <td>NaN</td>\n",
              "    </tr>\n",
              "  </tbody>\n",
              "</table>\n",
              "<p>109489 rows × 9 columns</p>\n",
              "</div>"
            ],
            "text/plain": [
              "                 Id  OvertimePay    OtherPay  ...    Year  Notes  Status\n",
              "BasePay                                       ...                       \n",
              "94187.23    8321.00     5740.970   5771.3700  ...  2011.0    NaN     NaN\n",
              "39755.70   25712.00        0.000   6626.1300  ...  2011.0    NaN     NaN\n",
              "91886.62    8597.00     1277.370  11358.7600  ...  2011.0    NaN     NaN\n",
              "39760.03   26688.00        0.000    432.0000  ...  2011.0    NaN     NaN\n",
              "91872.76    9453.00     1784.700   6615.8000  ...  2011.0    NaN     NaN\n",
              "91872.07   10094.00     3077.740   1689.4100  ...  2011.0    NaN     NaN\n",
              "39791.14   26617.00        0.000    900.2000  ...  2011.0    NaN     NaN\n",
              "91861.18    7665.00     6690.290  10756.3000  ...  2011.0    NaN     NaN\n",
              "91858.02    8320.00     6335.090   7511.3500  ...  2011.0    NaN     NaN\n",
              "39798.00   26597.00        0.000    996.7600  ...  2011.0    NaN     NaN\n",
              "91858.01    8952.00     3941.590   7129.2300  ...  2011.0    NaN     NaN\n",
              "91858.00    5758.25    19927.715  14008.4775  ...  2011.0    NaN     NaN\n",
              "91853.50    9195.00     2802.530   7001.4600  ...  2011.0    NaN     NaN\n",
              "91845.80    4967.00    13464.890  19110.4600  ...  2011.0    NaN     NaN\n",
              "91844.67    8047.00     3521.420  11666.6500  ...  2011.0    NaN     NaN\n",
              "39810.41   26315.00     1789.720   1286.9800  ...  2011.0    NaN     NaN\n",
              "91892.23    7816.00     7356.330   9099.6800  ...  2011.0    NaN     NaN\n",
              "39826.40   25756.00     4866.610   1449.7900  ...  2011.0    NaN     NaN\n",
              "91894.13    8691.00        0.000  12327.6100  ...  2011.0    NaN     NaN\n",
              "91895.42   11209.00        0.000      0.0000  ...  2011.0    NaN     NaN\n",
              "91922.50    9343.00     6261.330   2774.1700  ...  2011.0    NaN     NaN\n",
              "39674.98   25872.00     5966.510      0.0000  ...  2011.0    NaN     NaN\n",
              "39687.13   26748.00        0.000      0.0000  ...  2011.0    NaN     NaN\n",
              "39689.50   26479.00     1514.590    491.7300  ...  2011.0    NaN     NaN\n",
              "39690.57   26484.00        0.000   1968.1500  ...  2011.0    NaN     NaN\n",
              "91914.94   10873.00        0.000   1449.0800  ...  2011.0    NaN     NaN\n",
              "39695.11   26679.00      285.600    250.0000  ...  2011.0    NaN     NaN\n",
              "39698.72   25996.00     1843.450   3404.5100  ...  2011.0    NaN     NaN\n",
              "39720.04   26121.00     2614.780   1791.1300  ...  2011.0    NaN     NaN\n",
              "39721.88   26131.00      274.890   4075.9500  ...  2011.0    NaN     NaN\n",
              "...             ...          ...         ...  ...     ...    ...     ...\n",
              "60520.51  132990.00        0.000    623.0300  ...  2014.0    NaN     NaN\n",
              "29899.08  139522.00        0.000      0.0000  ...  2014.0    NaN     NaN\n",
              "60506.68  135574.00      701.610      0.0000  ...  2014.0    NaN     NaN\n",
              "29787.35  139030.00     1031.710    298.7300  ...  2014.0    NaN     NaN\n",
              "60515.50  132112.00     1743.840   5186.3700  ...  2014.0    NaN     NaN\n",
              "29791.96  138867.00       27.030    299.8400  ...  2014.0    NaN     NaN\n",
              "97642.30  122841.00        0.000      0.0000  ...  2014.0    NaN     NaN\n",
              "29802.85  139837.00        0.000   1603.2400  ...  2014.0    NaN     NaN\n",
              "75652.00  124395.00     3627.720  15665.3200  ...  2014.0    NaN     NaN\n",
              "29809.00  137587.00        0.000  22742.3700  ...  2014.0    NaN     NaN\n",
              "97634.87  121642.00     1330.940   1365.0600  ...  2014.0    NaN     NaN\n",
              "97632.65  121883.00        0.000      0.0000  ...  2014.0    NaN     NaN\n",
              "97630.57  120708.00     3934.350    926.9600  ...  2014.0    NaN     NaN\n",
              "29811.36  138875.00     2344.570    283.7800  ...  2014.0    NaN     NaN\n",
              "29814.84  140529.00        0.000      0.0000  ...  2014.0    NaN     NaN\n",
              "29821.75  139603.00      544.010   3320.9600  ...  2014.0    NaN     NaN\n",
              "29822.64  139267.00        0.000      9.6000  ...  2014.0    NaN     NaN\n",
              "29827.18  138792.00     1546.560   1227.4200  ...  2014.0    NaN     NaN\n",
              "29844.09  139101.00        0.000    850.0400  ...  2014.0    NaN     NaN\n",
              "29845.10  139072.00      772.530    250.0000  ...  2014.0    NaN     NaN\n",
              "60512.14  132772.00        0.000   6097.3200  ...  2014.0    NaN     NaN\n",
              "29859.02  138706.00     4535.750   1992.4800  ...  2014.0    NaN     NaN\n",
              "60512.04  133465.00        0.000   6195.1500  ...  2014.0    NaN     NaN\n",
              "29864.01  139164.00        0.000    312.0000  ...  2014.0    NaN     NaN\n",
              "29864.03  139074.00        0.000   1080.3650  ...  2014.0    NaN     NaN\n",
              "29864.07  139200.00        0.000      0.0000  ...  2014.0    NaN     NaN\n",
              "60507.65  130123.00     7434.150   3514.1700  ...  2014.0    NaN     NaN\n",
              "29873.20  138972.00        0.000    209.3400  ...  2014.0    NaN     NaN\n",
              "29897.42  139281.00        0.000    262.5400  ...  2014.0    NaN     NaN\n",
              "18486.67  141823.00     1448.550      0.0000  ...  2014.0    NaN     NaN\n",
              "\n",
              "[109489 rows x 9 columns]"
            ]
          },
          "metadata": {
            "tags": []
          },
          "execution_count": 50
        }
      ]
    },
    {
      "cell_type": "markdown",
      "metadata": {
        "id": "k8Qzx9MD9nO0",
        "colab_type": "text"
      },
      "source": [
        "**How many unique job titles are there?**\n",
        "\n",
        "Keyword: _unique, nunique_"
      ]
    },
    {
      "cell_type": "code",
      "metadata": {
        "id": "mvzwZ5Mb9nO1",
        "colab_type": "code",
        "colab": {
          "base_uri": "https://localhost:8080/",
          "height": 85
        },
        "outputId": "ef425c16-3b56-4603-fea6-79e442f6df32"
      },
      "source": [
        "sal['JobTitle'].unique()"
      ],
      "execution_count": 52,
      "outputs": [
        {
          "output_type": "execute_result",
          "data": {
            "text/plain": [
              "array(['GENERAL MANAGER-METROPOLITAN TRANSIT AUTHORITY',\n",
              "       'CAPTAIN III (POLICE DEPARTMENT)',\n",
              "       'WIRE ROPE CABLE MAINTENANCE MECHANIC', ..., 'Conversion',\n",
              "       'Cashier 3', 'Not provided'], dtype=object)"
            ]
          },
          "metadata": {
            "tags": []
          },
          "execution_count": 52
        }
      ]
    },
    {
      "cell_type": "markdown",
      "metadata": {
        "id": "0dkyZe-39nO4",
        "colab_type": "text"
      },
      "source": [
        "**What are the top 5 most common jobs?**\n",
        "\n",
        "Keyword: *value_counts*"
      ]
    },
    {
      "cell_type": "code",
      "metadata": {
        "id": "PVSDr3Ww9nO7",
        "colab_type": "code",
        "colab": {
          "base_uri": "https://localhost:8080/",
          "height": 119
        },
        "outputId": "60f8ec1a-bb7c-4abb-ec7d-adc01dcafff2"
      },
      "source": [
        "sal['JobTitle'].value_counts()[:5]"
      ],
      "execution_count": 57,
      "outputs": [
        {
          "output_type": "execute_result",
          "data": {
            "text/plain": [
              "Transit Operator                7036\n",
              "Special Nurse                   4389\n",
              "Registered Nurse                3736\n",
              "Public Svc Aide-Public Works    2518\n",
              "Police Officer 3                2421\n",
              "Name: JobTitle, dtype: int64"
            ]
          },
          "metadata": {
            "tags": []
          },
          "execution_count": 57
        }
      ]
    },
    {
      "cell_type": "markdown",
      "metadata": {
        "id": "25fCX21U9nO-",
        "colab_type": "text"
      },
      "source": [
        "**How many Job Titles were represented by only one person in 2013? (e.g. Job Titles with only one occurence in 2013?)**"
      ]
    },
    {
      "cell_type": "code",
      "metadata": {
        "id": "B3o6FlmA8Ba6",
        "colab_type": "code",
        "colab": {
          "base_uri": "https://localhost:8080/",
          "height": 85
        },
        "outputId": "343b521f-1f4a-46db-b493-13b1767933cd"
      },
      "source": [
        "sal.columns"
      ],
      "execution_count": 63,
      "outputs": [
        {
          "output_type": "execute_result",
          "data": {
            "text/plain": [
              "Index(['Id', 'EmployeeName', 'JobTitle', 'BasePay', 'OvertimePay', 'OtherPay',\n",
              "       'Benefits', 'TotalPay', 'TotalPayBenefits', 'Year', 'Notes', 'Agency',\n",
              "       'Status'],\n",
              "      dtype='object')"
            ]
          },
          "metadata": {
            "tags": []
          },
          "execution_count": 63
        }
      ]
    },
    {
      "cell_type": "code",
      "metadata": {
        "id": "e9vr6BKD9nPA",
        "colab_type": "code",
        "colab": {
          "base_uri": "https://localhost:8080/",
          "height": 1000
        },
        "outputId": "c1a532ed-f147-46be-a874-7e2c1aeead7b"
      },
      "source": [
        "sal[sal['Year']==2013]['EmployeeName'].value_counts()"
      ],
      "execution_count": 94,
      "outputs": [
        {
          "output_type": "execute_result",
          "data": {
            "text/plain": [
              "Steven  Lee                 5\n",
              "Kevin  Lee                  5\n",
              "Michael A Johnson           4\n",
              "William  Wong               4\n",
              "Victor  Lee                 4\n",
              "Sherri L Barnes             3\n",
              "David  Chow                 3\n",
              "Susan  Wong                 3\n",
              "Michele M Lee               3\n",
              "Maryann B Sabath            3\n",
              "Pierre F Palaad             3\n",
              "Michael A Jones             3\n",
              "Gregory J Gieseker          3\n",
              "David H Staconis            3\n",
              "Shirley  Li                 3\n",
              "Maria Lesa R Busine         3\n",
              "Besilda M Mandapat          3\n",
              "Corinna A Neustaetter       3\n",
              "Kenneth  Lee                3\n",
              "Mary E Mays                 3\n",
              "John  Chan                  3\n",
              "Emelita M Hathaway          3\n",
              "Jamil J Hawkins             3\n",
              "Daniel W McGuire            3\n",
              "Pamela A Axelson            3\n",
              "Marie T Watson-Grosskopf    3\n",
              "Krisztina  Emodi            3\n",
              "Cynthia J Anderson          3\n",
              "Jennifer J Chiu             3\n",
              "Evelyn M Palomares          3\n",
              "                           ..\n",
              "Brian P Louie               1\n",
              "Duane  Einhorn              1\n",
              "Michael G Cual              1\n",
              "Gino  Mallamo               1\n",
              "Lisa M Frazer               1\n",
              "Mark A Torres               1\n",
              "Wilfredo A David            1\n",
              "Dale F Herr                 1\n",
              "Fanny  Mayorga              1\n",
              "Fanny R Montes              1\n",
              "Edmond  An                  1\n",
              "Ramon J Terrazas            1\n",
              "Carmen C Gaytan             1\n",
              "Jensa  Woo                  1\n",
              "Theresa M Lee               1\n",
              "Brett M Bollinger           1\n",
              "James R Buker               1\n",
              "Darin L Fragoza             1\n",
              "Bruce L Glaseroff           1\n",
              "Jeffrey J Morris            1\n",
              "Samuel D Greer              1\n",
              "Joselyn  Caceres            1\n",
              "Wanda D Williams            1\n",
              "Jennifer M Ishikawa         1\n",
              "Jacqueline F Davis          1\n",
              "Ivy B Estacio               1\n",
              "Juliana I Imoka             1\n",
              "Bruce A Clifton             1\n",
              "Franklin T Lee              1\n",
              "Nhan K Ha                   1\n",
              "Name: EmployeeName, Length: 36150, dtype: int64"
            ]
          },
          "metadata": {
            "tags": []
          },
          "execution_count": 94
        }
      ]
    },
    {
      "cell_type": "markdown",
      "metadata": {
        "id": "HoiNghja9nPD",
        "colab_type": "text"
      },
      "source": [
        "**How many people have the word Chief in their job title?**"
      ]
    },
    {
      "cell_type": "code",
      "metadata": {
        "id": "mBc0hzan9nPE",
        "colab_type": "code",
        "colab": {
          "base_uri": "https://localhost:8080/",
          "height": 255
        },
        "outputId": "2aed7005-d41d-4675-c6ab-acfb498366fe"
      },
      "source": [
        "sal[sal['JobTitle'].str.contains('Chief',case=False)].count()"
      ],
      "execution_count": 105,
      "outputs": [
        {
          "output_type": "execute_result",
          "data": {
            "text/plain": [
              "Id                  627\n",
              "EmployeeName        627\n",
              "JobTitle            627\n",
              "BasePay             624\n",
              "OvertimePay         627\n",
              "OtherPay            627\n",
              "Benefits            423\n",
              "TotalPay            627\n",
              "TotalPayBenefits    627\n",
              "Year                627\n",
              "Notes                 0\n",
              "Agency              627\n",
              "Status                0\n",
              "dtype: int64"
            ]
          },
          "metadata": {
            "tags": []
          },
          "execution_count": 105
        }
      ]
    },
    {
      "cell_type": "code",
      "metadata": {
        "id": "u40e_Ua89nPF",
        "colab_type": "code",
        "colab": {}
      },
      "source": [
        ""
      ],
      "execution_count": 0,
      "outputs": []
    },
    {
      "cell_type": "code",
      "metadata": {
        "id": "SA7QNzVq9nPI",
        "colab_type": "code",
        "colab": {}
      },
      "source": [
        ""
      ],
      "execution_count": 0,
      "outputs": []
    },
    {
      "cell_type": "markdown",
      "metadata": {
        "id": "5G094gws9nPL",
        "colab_type": "text"
      },
      "source": [
        "## Data Visualization\n",
        "\n",
        "**Implement seaborn's countplot with x='Year'**"
      ]
    },
    {
      "cell_type": "code",
      "metadata": {
        "id": "56GKG4UD9nPM",
        "colab_type": "code",
        "colab": {
          "base_uri": "https://localhost:8080/",
          "height": 300
        },
        "outputId": "e317c898-1b64-481d-f546-ec670e792c45"
      },
      "source": [
        "sns.countplot(x='Year', data=sal)"
      ],
      "execution_count": 106,
      "outputs": [
        {
          "output_type": "execute_result",
          "data": {
            "text/plain": [
              "<matplotlib.axes._subplots.AxesSubplot at 0x7f77a55e97b8>"
            ]
          },
          "metadata": {
            "tags": []
          },
          "execution_count": 106
        },
        {
          "output_type": "display_data",
          "data": {
            "image/png": "[encoded data removed]",
            "text/plain": [
              "<Figure size 432x288 with 1 Axes>"
            ]
          },
          "metadata": {
            "tags": []
          }
        }
      ]
    },
    {
      "cell_type": "markdown",
      "metadata": {
        "id": "orQACfVP9nPP",
        "colab_type": "text"
      },
      "source": [
        "**Implement seaborn's distplot for BasePay of Year 2011**"
      ]
    },
    {
      "cell_type": "code",
      "metadata": {
        "id": "JYPrrLW19nPQ",
        "colab_type": "code",
        "colab": {}
      },
      "source": [
        ""
      ],
      "execution_count": 0,
      "outputs": []
    },
    {
      "cell_type": "markdown",
      "metadata": {
        "id": "Ea9OFiqK9nPS",
        "colab_type": "text"
      },
      "source": [
        "**How about other Year**"
      ]
    },
    {
      "cell_type": "code",
      "metadata": {
        "id": "orRMn0X89nPT",
        "colab_type": "code",
        "colab": {}
      },
      "source": [
        ""
      ],
      "execution_count": 0,
      "outputs": []
    },
    {
      "cell_type": "markdown",
      "metadata": {
        "id": "00EkkG_s9nPV",
        "colab_type": "text"
      },
      "source": [
        "## Bonus\n",
        "\n",
        "**Visualize top 5 Jobs with BasePay, Benefits and OvertimePay**\n",
        "\n",
        "Keyword: *index, isin, groupby, mean, plot*"
      ]
    },
    {
      "cell_type": "code",
      "metadata": {
        "id": "LoZm87Bu9nPV",
        "colab_type": "code",
        "colab": {}
      },
      "source": [
        ""
      ],
      "execution_count": 0,
      "outputs": []
    },
    {
      "cell_type": "code",
      "metadata": {
        "id": "C-nKGOA-9nPY",
        "colab_type": "code",
        "colab": {}
      },
      "source": [
        ""
      ],
      "execution_count": 0,
      "outputs": []
    },
    {
      "cell_type": "markdown",
      "metadata": {
        "id": "V2Lz3SGu9nPc",
        "colab_type": "text"
      },
      "source": [
        "**Fun Fact: Is there a correlation between length of the Job Title string and Salary?**\n",
        "\n",
        "*Hint: corr()*"
      ]
    },
    {
      "cell_type": "code",
      "metadata": {
        "id": "CgcrtPdJ9nPd",
        "colab_type": "code",
        "colab": {}
      },
      "source": [
        ""
      ],
      "execution_count": 0,
      "outputs": []
    },
    {
      "cell_type": "code",
      "metadata": {
        "id": "G8SQ0NhI9nPe",
        "colab_type": "code",
        "colab": {}
      },
      "source": [
        ""
      ],
      "execution_count": 0,
      "outputs": []
    },
    {
      "cell_type": "markdown",
      "metadata": {
        "id": "gY4kMupD9nPg",
        "colab_type": "text"
      },
      "source": [
        "# Great Job!"
      ]
    }
  ]
}