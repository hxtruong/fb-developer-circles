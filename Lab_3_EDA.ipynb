{
  "nbformat": 4,
  "nbformat_minor": 0,
  "metadata": {
    "colab": {
      "name": "Lab_3_EDA.ipynb",
      "version": "0.3.2",
      "provenance": [],
      "collapsed_sections": [
        "MoBgPjDiwhdV"
      ],
      "include_colab_link": true
    },
    "language_info": {
      "codemirror_mode": {
        "name": "ipython",
        "version": 3
      },
      "file_extension": ".py",
      "mimetype": "text/x-python",
      "name": "python",
      "nbconvert_exporter": "python",
      "pygments_lexer": "ipython3",
      "version": "3.6.5"
    },
    "kernelspec": {
      "display_name": "Python 3",
      "language": "python",
      "name": "python3"
    }
  },
  "cells": [
    {
      "cell_type": "markdown",
      "metadata": {
        "id": "view-in-github",
        "colab_type": "text"
      },
      "source": [
        "<a href=\"https://colab.research.google.com/github/hxtruong/fb-developer-circles/blob/master/Lab_3_EDA.ipynb\" target=\"_parent\"><img src=\"https://colab.research.google.com/assets/colab-badge.svg\" alt=\"Open In Colab\"/></a>"
      ]
    },
    {
      "cell_type": "markdown",
      "metadata": {
        "id": "x7fdTGs4SnyS",
        "colab_type": "text"
      },
      "source": [
        "![](https://i.imgur.com/0AUxkXt.png)"
      ]
    },
    {
      "cell_type": "markdown",
      "metadata": {
        "id": "_uqy69P0Pm0L",
        "colab_type": "text"
      },
      "source": [
        "# Lab 3 - From data to insights\n",
        "\n",
        "Before you explore the data, write down a short list of what you expect to see in the data: the distribution of key variables, the relationships between important pairs of them, and so on. Such a list is essentially a prediction based on your current understanding of the business.\n",
        "\n",
        "Now analyze the data. Make plots, do summaries, whatever is needed to see if it matches your expectations.\n",
        "\n",
        "Is there anything that doesn’t match? Anything that makes you go “That’s odd” or “That doesn’t make any sense.”?\n",
        "\n",
        "Zoom in and try to understand what in your business is making that weird thing show up in the data like that. This is the critical step.\n",
        "\n",
        "You may have just found an insight into the business and increased your understanding\n",
        "\n",
        "\n",
        "## The data analysis checklist\n",
        "\n",
        "This checklist can be used as a guide during the process of a data analysis, or as a way to evaluate the quality of a reported data analysis.\n",
        "\n",
        "### Answering the first questions\n",
        "\n",
        "1. Did you define the metric for success before beginning?\n",
        "2. Did you understand the context for the question and business application?\n",
        "3. Did you consider whether the question could be answered with the available data?\n",
        "\n",
        "### Cleaning the data\n",
        "\n",
        "1. Did you identify the missing data?\n",
        "2. Is each variable one column?\n",
        "3. Do different data types appear in each table?\n",
        "4. Did you try to identify any errors or miscoding of variables?\n",
        "5. Did you check for outliers?\n",
        "\n",
        "### Exploratory analysis\n",
        "\n",
        "1. Did you make univariate plots (histogram, distplot, boxplot)?\n",
        "2. Did you consider correlations between variables (scatterplot, jointplot, kde plot, correlation matrix)?\n",
        "3. Did you check the units of all data points to make sure they are in the right range?\n",
        "\n",
        "### Presentations\n",
        "\n",
        "1. Did you lead with a brief, understandable to everyone of your problem?\n",
        "2. Did you explain the data, describe the question of interest?\n",
        "3. Did you make sure all legends and axes were legible from the back of the room?"
      ]
    },
    {
      "cell_type": "markdown",
      "metadata": {
        "id": "ZBc0glanPm0M",
        "colab_type": "text"
      },
      "source": [
        "## Example - San Francisco city employee salary data\n",
        "\n",
        "One way to understand how a city government works is by looking at who it employs and how its employees are compensated. This data contains the names, job title, and compensation for San Francisco city employees on an annual basis from 2011 to 2014.\n",
        "\n",
        "\n",
        "### Step 1 - Exploration Ideas\n",
        "\n",
        "1. How have salaries changed over time between different groups of people?\n",
        "2. How are base pay, overtime pay, and benefits allocated between different groups?\n",
        "4. How is budget allocated based on different groups and responsibilities?\n",
        "\n",
        "### Step 2 - Checking the data\n",
        "\n",
        "**Import tools set**"
      ]
    },
    {
      "cell_type": "code",
      "metadata": {
        "id": "9Cx3LXxfPm0N",
        "colab_type": "code",
        "colab": {}
      },
      "source": [
        "import numpy as np\n",
        "import pandas as pd\n",
        "import seaborn as sns\n",
        "import matplotlib.pyplot as plt\n",
        "%matplotlib inline\n",
        "import warnings\n",
        "warnings.filterwarnings('ignore')\n",
        "\n",
        "sns.set_style(\"whitegrid\")"
      ],
      "execution_count": 0,
      "outputs": []
    },
    {
      "cell_type": "markdown",
      "metadata": {
        "id": "mFTQu0j6Pm0Q",
        "colab_type": "text"
      },
      "source": [
        "**Import data**"
      ]
    },
    {
      "cell_type": "code",
      "metadata": {
        "id": "w0YVchrVPm0R",
        "colab_type": "code",
        "colab": {}
      },
      "source": [
        "# Fill the blanks\n",
        "# Load the data from https://ml101-khanhnguyen.s3-ap-southeast-1.amazonaws.com/devc/Salaries.csv into `sal` variable\n",
        "link = 'https://ml101-khanhnguyen.s3-ap-southeast-1.amazonaws.com/devc/Salaries.csv'\n",
        "sal = pd.read_csv(link)\n"
      ],
      "execution_count": 0,
      "outputs": []
    },
    {
      "cell_type": "markdown",
      "metadata": {
        "id": "6nU6CxSjPm0U",
        "colab_type": "text"
      },
      "source": [
        "**Check out head(), sample(), info(), describe()**"
      ]
    },
    {
      "cell_type": "code",
      "metadata": {
        "id": "v_BKYV2qPm0V",
        "colab_type": "code",
        "colab": {
          "base_uri": "https://localhost:8080/",
          "height": 323
        },
        "outputId": "1632841d-56d0-4528-e483-1625a63dcd4e"
      },
      "source": [
        "sal.head()"
      ],
      "execution_count": 4,
      "outputs": [
        {
          "output_type": "execute_result",
          "data": {
            "text/html": [
              "<div>\n",
              "<style scoped>\n",
              "    .dataframe tbody tr th:only-of-type {\n",
              "        vertical-align: middle;\n",
              "    }\n",
              "\n",
              "    .dataframe tbody tr th {\n",
              "        vertical-align: top;\n",
              "    }\n",
              "\n",
              "    .dataframe thead th {\n",
              "        text-align: right;\n",
              "    }\n",
              "</style>\n",
              "<table border=\"1\" class=\"dataframe\">\n",
              "  <thead>\n",
              "    <tr style=\"text-align: right;\">\n",
              "      <th></th>\n",
              "      <th>Id</th>\n",
              "      <th>EmployeeName</th>\n",
              "      <th>JobTitle</th>\n",
              "      <th>BasePay</th>\n",
              "      <th>OvertimePay</th>\n",
              "      <th>OtherPay</th>\n",
              "      <th>Benefits</th>\n",
              "      <th>TotalPay</th>\n",
              "      <th>TotalPayBenefits</th>\n",
              "      <th>Year</th>\n",
              "      <th>Notes</th>\n",
              "      <th>Agency</th>\n",
              "      <th>Status</th>\n",
              "    </tr>\n",
              "  </thead>\n",
              "  <tbody>\n",
              "    <tr>\n",
              "      <th>0</th>\n",
              "      <td>1</td>\n",
              "      <td>NATHANIEL FORD</td>\n",
              "      <td>GENERAL MANAGER-METROPOLITAN TRANSIT AUTHORITY</td>\n",
              "      <td>167411.18</td>\n",
              "      <td>0.00</td>\n",
              "      <td>400184.25</td>\n",
              "      <td>NaN</td>\n",
              "      <td>567595.43</td>\n",
              "      <td>567595.43</td>\n",
              "      <td>2011</td>\n",
              "      <td>NaN</td>\n",
              "      <td>San Francisco</td>\n",
              "      <td>NaN</td>\n",
              "    </tr>\n",
              "    <tr>\n",
              "      <th>1</th>\n",
              "      <td>2</td>\n",
              "      <td>GARY JIMENEZ</td>\n",
              "      <td>CAPTAIN III (POLICE DEPARTMENT)</td>\n",
              "      <td>155966.02</td>\n",
              "      <td>245131.88</td>\n",
              "      <td>137811.38</td>\n",
              "      <td>NaN</td>\n",
              "      <td>538909.28</td>\n",
              "      <td>538909.28</td>\n",
              "      <td>2011</td>\n",
              "      <td>NaN</td>\n",
              "      <td>San Francisco</td>\n",
              "      <td>NaN</td>\n",
              "    </tr>\n",
              "    <tr>\n",
              "      <th>2</th>\n",
              "      <td>3</td>\n",
              "      <td>ALBERT PARDINI</td>\n",
              "      <td>CAPTAIN III (POLICE DEPARTMENT)</td>\n",
              "      <td>212739.13</td>\n",
              "      <td>106088.18</td>\n",
              "      <td>16452.60</td>\n",
              "      <td>NaN</td>\n",
              "      <td>335279.91</td>\n",
              "      <td>335279.91</td>\n",
              "      <td>2011</td>\n",
              "      <td>NaN</td>\n",
              "      <td>San Francisco</td>\n",
              "      <td>NaN</td>\n",
              "    </tr>\n",
              "    <tr>\n",
              "      <th>3</th>\n",
              "      <td>4</td>\n",
              "      <td>CHRISTOPHER CHONG</td>\n",
              "      <td>WIRE ROPE CABLE MAINTENANCE MECHANIC</td>\n",
              "      <td>77916.00</td>\n",
              "      <td>56120.71</td>\n",
              "      <td>198306.90</td>\n",
              "      <td>NaN</td>\n",
              "      <td>332343.61</td>\n",
              "      <td>332343.61</td>\n",
              "      <td>2011</td>\n",
              "      <td>NaN</td>\n",
              "      <td>San Francisco</td>\n",
              "      <td>NaN</td>\n",
              "    </tr>\n",
              "    <tr>\n",
              "      <th>4</th>\n",
              "      <td>5</td>\n",
              "      <td>PATRICK GARDNER</td>\n",
              "      <td>DEPUTY CHIEF OF DEPARTMENT,(FIRE DEPARTMENT)</td>\n",
              "      <td>134401.60</td>\n",
              "      <td>9737.00</td>\n",
              "      <td>182234.59</td>\n",
              "      <td>NaN</td>\n",
              "      <td>326373.19</td>\n",
              "      <td>326373.19</td>\n",
              "      <td>2011</td>\n",
              "      <td>NaN</td>\n",
              "      <td>San Francisco</td>\n",
              "      <td>NaN</td>\n",
              "    </tr>\n",
              "  </tbody>\n",
              "</table>\n",
              "</div>"
            ],
            "text/plain": [
              "   Id       EmployeeName  ...         Agency  Status\n",
              "0   1     NATHANIEL FORD  ...  San Francisco     NaN\n",
              "1   2       GARY JIMENEZ  ...  San Francisco     NaN\n",
              "2   3     ALBERT PARDINI  ...  San Francisco     NaN\n",
              "3   4  CHRISTOPHER CHONG  ...  San Francisco     NaN\n",
              "4   5    PATRICK GARDNER  ...  San Francisco     NaN\n",
              "\n",
              "[5 rows x 13 columns]"
            ]
          },
          "metadata": {
            "tags": []
          },
          "execution_count": 4
        }
      ]
    },
    {
      "cell_type": "code",
      "metadata": {
        "id": "OjLrS9wlPm0a",
        "colab_type": "code",
        "colab": {
          "base_uri": "https://localhost:8080/",
          "height": 289
        },
        "outputId": "89578a05-f448-45a3-fe0d-f5aba9f42184"
      },
      "source": [
        "# Fix the error\n",
        "sal.sample(5)"
      ],
      "execution_count": 6,
      "outputs": [
        {
          "output_type": "execute_result",
          "data": {
            "text/html": [
              "<div>\n",
              "<style scoped>\n",
              "    .dataframe tbody tr th:only-of-type {\n",
              "        vertical-align: middle;\n",
              "    }\n",
              "\n",
              "    .dataframe tbody tr th {\n",
              "        vertical-align: top;\n",
              "    }\n",
              "\n",
              "    .dataframe thead th {\n",
              "        text-align: right;\n",
              "    }\n",
              "</style>\n",
              "<table border=\"1\" class=\"dataframe\">\n",
              "  <thead>\n",
              "    <tr style=\"text-align: right;\">\n",
              "      <th></th>\n",
              "      <th>Id</th>\n",
              "      <th>EmployeeName</th>\n",
              "      <th>JobTitle</th>\n",
              "      <th>BasePay</th>\n",
              "      <th>OvertimePay</th>\n",
              "      <th>OtherPay</th>\n",
              "      <th>Benefits</th>\n",
              "      <th>TotalPay</th>\n",
              "      <th>TotalPayBenefits</th>\n",
              "      <th>Year</th>\n",
              "      <th>Notes</th>\n",
              "      <th>Agency</th>\n",
              "      <th>Status</th>\n",
              "    </tr>\n",
              "  </thead>\n",
              "  <tbody>\n",
              "    <tr>\n",
              "      <th>142299</th>\n",
              "      <td>142300</td>\n",
              "      <td>Margaret E Ly</td>\n",
              "      <td>Public Service Trainee</td>\n",
              "      <td>17136.00</td>\n",
              "      <td>0.00</td>\n",
              "      <td>0.00</td>\n",
              "      <td>171.36</td>\n",
              "      <td>17136.00</td>\n",
              "      <td>17307.36</td>\n",
              "      <td>2014</td>\n",
              "      <td>NaN</td>\n",
              "      <td>San Francisco</td>\n",
              "      <td>NaN</td>\n",
              "    </tr>\n",
              "    <tr>\n",
              "      <th>143032</th>\n",
              "      <td>143033</td>\n",
              "      <td>Jing Xuan Chen</td>\n",
              "      <td>Transit Operator</td>\n",
              "      <td>7278.96</td>\n",
              "      <td>1814.67</td>\n",
              "      <td>23.65</td>\n",
              "      <td>4718.34</td>\n",
              "      <td>9117.28</td>\n",
              "      <td>13835.62</td>\n",
              "      <td>2014</td>\n",
              "      <td>NaN</td>\n",
              "      <td>San Francisco</td>\n",
              "      <td>NaN</td>\n",
              "    </tr>\n",
              "    <tr>\n",
              "      <th>72428</th>\n",
              "      <td>72429</td>\n",
              "      <td>Bruce Perez</td>\n",
              "      <td>Junior Clerk</td>\n",
              "      <td>291.02</td>\n",
              "      <td>264.56</td>\n",
              "      <td>0.00</td>\n",
              "      <td>48.84</td>\n",
              "      <td>555.58</td>\n",
              "      <td>604.42</td>\n",
              "      <td>2012</td>\n",
              "      <td>NaN</td>\n",
              "      <td>San Francisco</td>\n",
              "      <td>NaN</td>\n",
              "    </tr>\n",
              "    <tr>\n",
              "      <th>26230</th>\n",
              "      <td>26231</td>\n",
              "      <td>OLIVIA CHNG CHEE</td>\n",
              "      <td>PORTER</td>\n",
              "      <td>39937.75</td>\n",
              "      <td>1611.00</td>\n",
              "      <td>1895.43</td>\n",
              "      <td>NaN</td>\n",
              "      <td>43444.18</td>\n",
              "      <td>43444.18</td>\n",
              "      <td>2011</td>\n",
              "      <td>NaN</td>\n",
              "      <td>San Francisco</td>\n",
              "      <td>NaN</td>\n",
              "    </tr>\n",
              "    <tr>\n",
              "      <th>137168</th>\n",
              "      <td>137169</td>\n",
              "      <td>Tony E Durkee</td>\n",
              "      <td>Chief Surveyor</td>\n",
              "      <td>65432.94</td>\n",
              "      <td>0.00</td>\n",
              "      <td>0.00</td>\n",
              "      <td>654.38</td>\n",
              "      <td>65432.94</td>\n",
              "      <td>66087.32</td>\n",
              "      <td>2014</td>\n",
              "      <td>NaN</td>\n",
              "      <td>San Francisco</td>\n",
              "      <td>NaN</td>\n",
              "    </tr>\n",
              "  </tbody>\n",
              "</table>\n",
              "</div>"
            ],
            "text/plain": [
              "            Id      EmployeeName  ...         Agency  Status\n",
              "142299  142300     Margaret E Ly  ...  San Francisco     NaN\n",
              "143032  143033    Jing Xuan Chen  ...  San Francisco     NaN\n",
              "72428    72429       Bruce Perez  ...  San Francisco     NaN\n",
              "26230    26231  OLIVIA CHNG CHEE  ...  San Francisco     NaN\n",
              "137168  137169     Tony E Durkee  ...  San Francisco     NaN\n",
              "\n",
              "[5 rows x 13 columns]"
            ]
          },
          "metadata": {
            "tags": []
          },
          "execution_count": 6
        }
      ]
    },
    {
      "cell_type": "code",
      "metadata": {
        "id": "AQ25O59kPm0d",
        "colab_type": "code",
        "colab": {
          "base_uri": "https://localhost:8080/",
          "height": 323
        },
        "outputId": "7cce670f-0200-41f0-9d8c-09e8ac1e17f5"
      },
      "source": [
        "# Fix the error\n",
        "sal.info()"
      ],
      "execution_count": 36,
      "outputs": [
        {
          "output_type": "stream",
          "text": [
            "<class 'pandas.core.frame.DataFrame'>\n",
            "RangeIndex: 148654 entries, 0 to 148653\n",
            "Data columns (total 13 columns):\n",
            "Id                  148654 non-null int64\n",
            "EmployeeName        148654 non-null object\n",
            "JobTitle            148654 non-null object\n",
            "BasePay             148045 non-null float64\n",
            "OvertimePay         148650 non-null float64\n",
            "OtherPay            148650 non-null float64\n",
            "Benefits            112491 non-null float64\n",
            "TotalPay            148654 non-null float64\n",
            "TotalPayBenefits    148654 non-null float64\n",
            "Year                148654 non-null int64\n",
            "Notes               0 non-null float64\n",
            "Agency              148654 non-null object\n",
            "Status              0 non-null float64\n",
            "dtypes: float64(8), int64(2), object(3)\n",
            "memory usage: 14.7+ MB\n"
          ],
          "name": "stdout"
        }
      ]
    },
    {
      "cell_type": "code",
      "metadata": {
        "id": "oL4V7oDyPm0h",
        "colab_type": "code",
        "colab": {
          "base_uri": "https://localhost:8080/",
          "height": 297
        },
        "outputId": "f8034ae0-baea-4024-ea21-197cf2ab7078"
      },
      "source": [
        "# Fix the error\n",
        "sal.describe()"
      ],
      "execution_count": 8,
      "outputs": [
        {
          "output_type": "execute_result",
          "data": {
            "text/html": [
              "<div>\n",
              "<style scoped>\n",
              "    .dataframe tbody tr th:only-of-type {\n",
              "        vertical-align: middle;\n",
              "    }\n",
              "\n",
              "    .dataframe tbody tr th {\n",
              "        vertical-align: top;\n",
              "    }\n",
              "\n",
              "    .dataframe thead th {\n",
              "        text-align: right;\n",
              "    }\n",
              "</style>\n",
              "<table border=\"1\" class=\"dataframe\">\n",
              "  <thead>\n",
              "    <tr style=\"text-align: right;\">\n",
              "      <th></th>\n",
              "      <th>Id</th>\n",
              "      <th>BasePay</th>\n",
              "      <th>OvertimePay</th>\n",
              "      <th>OtherPay</th>\n",
              "      <th>Benefits</th>\n",
              "      <th>TotalPay</th>\n",
              "      <th>TotalPayBenefits</th>\n",
              "      <th>Year</th>\n",
              "      <th>Notes</th>\n",
              "      <th>Status</th>\n",
              "    </tr>\n",
              "  </thead>\n",
              "  <tbody>\n",
              "    <tr>\n",
              "      <th>count</th>\n",
              "      <td>148654.000000</td>\n",
              "      <td>148045.000000</td>\n",
              "      <td>148650.000000</td>\n",
              "      <td>148650.000000</td>\n",
              "      <td>112491.000000</td>\n",
              "      <td>148654.000000</td>\n",
              "      <td>148654.000000</td>\n",
              "      <td>148654.000000</td>\n",
              "      <td>0.0</td>\n",
              "      <td>0.0</td>\n",
              "    </tr>\n",
              "    <tr>\n",
              "      <th>mean</th>\n",
              "      <td>74327.500000</td>\n",
              "      <td>66325.448841</td>\n",
              "      <td>5066.059886</td>\n",
              "      <td>3648.767297</td>\n",
              "      <td>25007.893151</td>\n",
              "      <td>74768.321972</td>\n",
              "      <td>93692.554811</td>\n",
              "      <td>2012.522643</td>\n",
              "      <td>NaN</td>\n",
              "      <td>NaN</td>\n",
              "    </tr>\n",
              "    <tr>\n",
              "      <th>std</th>\n",
              "      <td>42912.857795</td>\n",
              "      <td>42764.635495</td>\n",
              "      <td>11454.380559</td>\n",
              "      <td>8056.601866</td>\n",
              "      <td>15402.215858</td>\n",
              "      <td>50517.005274</td>\n",
              "      <td>62793.533483</td>\n",
              "      <td>1.117538</td>\n",
              "      <td>NaN</td>\n",
              "      <td>NaN</td>\n",
              "    </tr>\n",
              "    <tr>\n",
              "      <th>min</th>\n",
              "      <td>1.000000</td>\n",
              "      <td>-166.010000</td>\n",
              "      <td>-0.010000</td>\n",
              "      <td>-7058.590000</td>\n",
              "      <td>-33.890000</td>\n",
              "      <td>-618.130000</td>\n",
              "      <td>-618.130000</td>\n",
              "      <td>2011.000000</td>\n",
              "      <td>NaN</td>\n",
              "      <td>NaN</td>\n",
              "    </tr>\n",
              "    <tr>\n",
              "      <th>25%</th>\n",
              "      <td>37164.250000</td>\n",
              "      <td>33588.200000</td>\n",
              "      <td>0.000000</td>\n",
              "      <td>0.000000</td>\n",
              "      <td>11535.395000</td>\n",
              "      <td>36168.995000</td>\n",
              "      <td>44065.650000</td>\n",
              "      <td>2012.000000</td>\n",
              "      <td>NaN</td>\n",
              "      <td>NaN</td>\n",
              "    </tr>\n",
              "    <tr>\n",
              "      <th>50%</th>\n",
              "      <td>74327.500000</td>\n",
              "      <td>65007.450000</td>\n",
              "      <td>0.000000</td>\n",
              "      <td>811.270000</td>\n",
              "      <td>28628.620000</td>\n",
              "      <td>71426.610000</td>\n",
              "      <td>92404.090000</td>\n",
              "      <td>2013.000000</td>\n",
              "      <td>NaN</td>\n",
              "      <td>NaN</td>\n",
              "    </tr>\n",
              "    <tr>\n",
              "      <th>75%</th>\n",
              "      <td>111490.750000</td>\n",
              "      <td>94691.050000</td>\n",
              "      <td>4658.175000</td>\n",
              "      <td>4236.065000</td>\n",
              "      <td>35566.855000</td>\n",
              "      <td>105839.135000</td>\n",
              "      <td>132876.450000</td>\n",
              "      <td>2014.000000</td>\n",
              "      <td>NaN</td>\n",
              "      <td>NaN</td>\n",
              "    </tr>\n",
              "    <tr>\n",
              "      <th>max</th>\n",
              "      <td>148654.000000</td>\n",
              "      <td>319275.010000</td>\n",
              "      <td>245131.880000</td>\n",
              "      <td>400184.250000</td>\n",
              "      <td>96570.660000</td>\n",
              "      <td>567595.430000</td>\n",
              "      <td>567595.430000</td>\n",
              "      <td>2014.000000</td>\n",
              "      <td>NaN</td>\n",
              "      <td>NaN</td>\n",
              "    </tr>\n",
              "  </tbody>\n",
              "</table>\n",
              "</div>"
            ],
            "text/plain": [
              "                  Id        BasePay  ...  Notes  Status\n",
              "count  148654.000000  148045.000000  ...    0.0     0.0\n",
              "mean    74327.500000   66325.448841  ...    NaN     NaN\n",
              "std     42912.857795   42764.635495  ...    NaN     NaN\n",
              "min         1.000000    -166.010000  ...    NaN     NaN\n",
              "25%     37164.250000   33588.200000  ...    NaN     NaN\n",
              "50%     74327.500000   65007.450000  ...    NaN     NaN\n",
              "75%    111490.750000   94691.050000  ...    NaN     NaN\n",
              "max    148654.000000  319275.010000  ...    NaN     NaN\n",
              "\n",
              "[8 rows x 10 columns]"
            ]
          },
          "metadata": {
            "tags": []
          },
          "execution_count": 8
        }
      ]
    },
    {
      "cell_type": "markdown",
      "metadata": {
        "id": "wY6yv3UsPm0k",
        "colab_type": "text"
      },
      "source": [
        "### Step 3 - Cleaning the data\n",
        "\n",
        "Few of useful data cleaning functions:\n",
        "\n",
        "* `s.astype('category')` # This will convert the datatype of the series to float *Please note that \"s\" here is a Pandas Series\n",
        "\n",
        "* `s.replace(1,'one')` # This will replace all values equal to 1 with 'one'\n",
        "\n",
        "* `s.replace([1,3],['one','three'])` # This will replace all 1 with 'one' and 3 with 'three'\n",
        "\n",
        "* `data.rename(columns=lambda x: x + 1)` # Mass renaming of columns\n",
        "\n",
        "* `data.rename(columns={'oldname': 'new name'})` # Selective renaming\n",
        "\n",
        "* `data.set_index('column_one')` #  This will change the index\n",
        "\n",
        "* `data.rename(index=lambda x: x + 1)` # Mass renaming of index\n",
        "\n",
        "* `data.dropna()` # Remove missing values\n",
        "\n",
        "* `data.fillna(x)` #  This will replaces all null values with x\n",
        "\n",
        "* `s.fillna(s.mean())` # This will replace all null values with the mean (mean can be replaced with almost any function from the below section) :\n",
        "\n",
        "* `data.corr()` # This will return the correlation between columns in a DataFrame\n",
        "\n",
        "* `data.count()` # This will return the number of non-null values in each DataFrame column\n",
        "\n",
        "* `data.max()` # This will return the highest value in each column\n",
        "\n",
        "* `data.min()` # This will return the lowest value in each column\n",
        "\n",
        "* `data.median()` # This will return the median of each column\n",
        "\n",
        "* `data.std()` # This will returns the standard deviation of each column\n"
      ]
    },
    {
      "cell_type": "markdown",
      "metadata": {
        "id": "e5NuNcPscq9x",
        "colab_type": "text"
      },
      "source": [
        "**Check duplication in columns in which the data must be unique**\n",
        "\n",
        "> Indented block\n",
        "\n"
      ]
    },
    {
      "cell_type": "code",
      "metadata": {
        "id": "xgZvIwxVGDdZ",
        "colab_type": "code",
        "colab": {
          "base_uri": "https://localhost:8080/",
          "height": 1000
        },
        "outputId": "88e54079-8ec6-4447-dc8a-3ecd14a6a4ba"
      },
      "source": [
        "sal.Id.sort_values()"
      ],
      "execution_count": 37,
      "outputs": [
        {
          "output_type": "execute_result",
          "data": {
            "text/plain": [
              "0              1\n",
              "1              2\n",
              "2              3\n",
              "3              4\n",
              "4              5\n",
              "5              6\n",
              "6              7\n",
              "7              8\n",
              "8              9\n",
              "9             10\n",
              "10            11\n",
              "11            12\n",
              "12            13\n",
              "13            14\n",
              "14            15\n",
              "15            16\n",
              "16            17\n",
              "17            18\n",
              "18            19\n",
              "19            20\n",
              "20            21\n",
              "21            22\n",
              "22            23\n",
              "23            24\n",
              "24            25\n",
              "25            26\n",
              "26            27\n",
              "27            28\n",
              "28            29\n",
              "29            30\n",
              "           ...  \n",
              "148624    148625\n",
              "148625    148626\n",
              "148626    148627\n",
              "148627    148628\n",
              "148628    148629\n",
              "148629    148630\n",
              "148630    148631\n",
              "148631    148632\n",
              "148632    148633\n",
              "148633    148634\n",
              "148634    148635\n",
              "148635    148636\n",
              "148636    148637\n",
              "148637    148638\n",
              "148638    148639\n",
              "148639    148640\n",
              "148640    148641\n",
              "148641    148642\n",
              "148642    148643\n",
              "148643    148644\n",
              "148644    148645\n",
              "148645    148646\n",
              "148646    148647\n",
              "148647    148648\n",
              "148648    148649\n",
              "148649    148650\n",
              "148650    148651\n",
              "148651    148652\n",
              "148652    148653\n",
              "148653    148654\n",
              "Name: Id, Length: 148654, dtype: int64"
            ]
          },
          "metadata": {
            "tags": []
          },
          "execution_count": 37
        }
      ]
    },
    {
      "cell_type": "code",
      "metadata": {
        "id": "GPIDpsygPm0l",
        "colab_type": "code",
        "colab": {
          "base_uri": "https://localhost:8080/",
          "height": 34
        },
        "outputId": "8436d175-b55c-4a68-ddb1-6f3448a39f9c"
      },
      "source": [
        "# Id must be unique\n",
        "# So the number of unique values must be equal the number of rows\n",
        "# Fill the blanks\n",
        "sal['Id'].nunique() == len(sal)"
      ],
      "execution_count": 43,
      "outputs": [
        {
          "output_type": "execute_result",
          "data": {
            "text/plain": [
              "True"
            ]
          },
          "metadata": {
            "tags": []
          },
          "execution_count": 43
        }
      ]
    },
    {
      "cell_type": "markdown",
      "metadata": {
        "id": "1cmMLYR5fsGl",
        "colab_type": "text"
      },
      "source": [
        "**Change the type to category**"
      ]
    },
    {
      "cell_type": "code",
      "metadata": {
        "id": "LtaeNb4yPm0p",
        "colab_type": "code",
        "colab": {}
      },
      "source": [
        "sal['Id'] = sal['Id'].astype('category')\n",
        "\n",
        "# Change Year to be a categorical variable too\n",
        "# Your code here\n",
        "sal['Year'] = sal['Year'].astype('category')\n"
      ],
      "execution_count": 0,
      "outputs": []
    },
    {
      "cell_type": "code",
      "metadata": {
        "id": "ltRgYZ6LHpJQ",
        "colab_type": "code",
        "colab": {
          "base_uri": "https://localhost:8080/",
          "height": 529
        },
        "outputId": "b01a52ba-f557-44a3-bccf-dafc0ae759bf"
      },
      "source": [
        "sal.sample(10)\n",
        "# print('Status: ',sal[sal['Status'] != 'NaN'].info())\n",
        "# print('Note: ', sal[sal['Notes']!='NaN'].info())\n",
        "# print('Benefits: ', sal[sal['Benefits']!='NaN'].info())"
      ],
      "execution_count": 45,
      "outputs": [
        {
          "output_type": "execute_result",
          "data": {
            "text/html": [
              "<div>\n",
              "<style scoped>\n",
              "    .dataframe tbody tr th:only-of-type {\n",
              "        vertical-align: middle;\n",
              "    }\n",
              "\n",
              "    .dataframe tbody tr th {\n",
              "        vertical-align: top;\n",
              "    }\n",
              "\n",
              "    .dataframe thead th {\n",
              "        text-align: right;\n",
              "    }\n",
              "</style>\n",
              "<table border=\"1\" class=\"dataframe\">\n",
              "  <thead>\n",
              "    <tr style=\"text-align: right;\">\n",
              "      <th></th>\n",
              "      <th>Id</th>\n",
              "      <th>EmployeeName</th>\n",
              "      <th>JobTitle</th>\n",
              "      <th>BasePay</th>\n",
              "      <th>OvertimePay</th>\n",
              "      <th>OtherPay</th>\n",
              "      <th>Benefits</th>\n",
              "      <th>TotalPay</th>\n",
              "      <th>TotalPayBenefits</th>\n",
              "      <th>Year</th>\n",
              "      <th>Notes</th>\n",
              "      <th>Agency</th>\n",
              "      <th>Status</th>\n",
              "    </tr>\n",
              "  </thead>\n",
              "  <tbody>\n",
              "    <tr>\n",
              "      <th>130805</th>\n",
              "      <td>130806</td>\n",
              "      <td>Juan S Gomez</td>\n",
              "      <td>Accountant II</td>\n",
              "      <td>66964.67</td>\n",
              "      <td>0.00</td>\n",
              "      <td>0.00</td>\n",
              "      <td>29172.31</td>\n",
              "      <td>66964.67</td>\n",
              "      <td>96136.98</td>\n",
              "      <td>2014</td>\n",
              "      <td>NaN</td>\n",
              "      <td>San Francisco</td>\n",
              "      <td>NaN</td>\n",
              "    </tr>\n",
              "    <tr>\n",
              "      <th>59809</th>\n",
              "      <td>59810</td>\n",
              "      <td>Juancarlos Henriquez</td>\n",
              "      <td>Eligibility Worker</td>\n",
              "      <td>53070.50</td>\n",
              "      <td>0.00</td>\n",
              "      <td>520.00</td>\n",
              "      <td>28730.08</td>\n",
              "      <td>53590.50</td>\n",
              "      <td>82320.58</td>\n",
              "      <td>2012</td>\n",
              "      <td>NaN</td>\n",
              "      <td>San Francisco</td>\n",
              "      <td>NaN</td>\n",
              "    </tr>\n",
              "    <tr>\n",
              "      <th>17531</th>\n",
              "      <td>17532</td>\n",
              "      <td>ANNA CORTES</td>\n",
              "      <td>TRANSIT OPERATOR</td>\n",
              "      <td>60424.48</td>\n",
              "      <td>9255.50</td>\n",
              "      <td>63.68</td>\n",
              "      <td>NaN</td>\n",
              "      <td>69743.66</td>\n",
              "      <td>69743.66</td>\n",
              "      <td>2011</td>\n",
              "      <td>NaN</td>\n",
              "      <td>San Francisco</td>\n",
              "      <td>NaN</td>\n",
              "    </tr>\n",
              "    <tr>\n",
              "      <th>92240</th>\n",
              "      <td>92241</td>\n",
              "      <td>Antonio D Pensotes</td>\n",
              "      <td>Nursing Assistant</td>\n",
              "      <td>68391.00</td>\n",
              "      <td>3441.15</td>\n",
              "      <td>898.00</td>\n",
              "      <td>27343.18</td>\n",
              "      <td>72730.15</td>\n",
              "      <td>100073.33</td>\n",
              "      <td>2013</td>\n",
              "      <td>NaN</td>\n",
              "      <td>San Francisco</td>\n",
              "      <td>NaN</td>\n",
              "    </tr>\n",
              "    <tr>\n",
              "      <th>101729</th>\n",
              "      <td>101730</td>\n",
              "      <td>Uzma A Shaikh</td>\n",
              "      <td>Medical Evaluations Assistant</td>\n",
              "      <td>31006.98</td>\n",
              "      <td>628.43</td>\n",
              "      <td>0.00</td>\n",
              "      <td>9491.53</td>\n",
              "      <td>31635.41</td>\n",
              "      <td>41126.94</td>\n",
              "      <td>2013</td>\n",
              "      <td>NaN</td>\n",
              "      <td>San Francisco</td>\n",
              "      <td>NaN</td>\n",
              "    </tr>\n",
              "    <tr>\n",
              "      <th>108049</th>\n",
              "      <td>108050</td>\n",
              "      <td>Manuel M Gallardo</td>\n",
              "      <td>Public Svc Aide-Public Works</td>\n",
              "      <td>4536.94</td>\n",
              "      <td>0.00</td>\n",
              "      <td>102.46</td>\n",
              "      <td>46.39</td>\n",
              "      <td>4639.40</td>\n",
              "      <td>4685.79</td>\n",
              "      <td>2013</td>\n",
              "      <td>NaN</td>\n",
              "      <td>San Francisco</td>\n",
              "      <td>NaN</td>\n",
              "    </tr>\n",
              "    <tr>\n",
              "      <th>66530</th>\n",
              "      <td>66531</td>\n",
              "      <td>Viviana Soper</td>\n",
              "      <td>PS Aide to Prof</td>\n",
              "      <td>20450.69</td>\n",
              "      <td>137.07</td>\n",
              "      <td>0.00</td>\n",
              "      <td>1828.97</td>\n",
              "      <td>20587.76</td>\n",
              "      <td>22416.73</td>\n",
              "      <td>2012</td>\n",
              "      <td>NaN</td>\n",
              "      <td>San Francisco</td>\n",
              "      <td>NaN</td>\n",
              "    </tr>\n",
              "    <tr>\n",
              "      <th>34499</th>\n",
              "      <td>34500</td>\n",
              "      <td>ENDALE SISAY</td>\n",
              "      <td>TRANSIT OPERATOR</td>\n",
              "      <td>2529.28</td>\n",
              "      <td>0.00</td>\n",
              "      <td>0.00</td>\n",
              "      <td>NaN</td>\n",
              "      <td>2529.28</td>\n",
              "      <td>2529.28</td>\n",
              "      <td>2011</td>\n",
              "      <td>NaN</td>\n",
              "      <td>San Francisco</td>\n",
              "      <td>NaN</td>\n",
              "    </tr>\n",
              "    <tr>\n",
              "      <th>76626</th>\n",
              "      <td>76627</td>\n",
              "      <td>Leonard  Caldera</td>\n",
              "      <td>Police Officer 2</td>\n",
              "      <td>121068.01</td>\n",
              "      <td>26369.74</td>\n",
              "      <td>4941.87</td>\n",
              "      <td>36585.84</td>\n",
              "      <td>152379.62</td>\n",
              "      <td>188965.46</td>\n",
              "      <td>2013</td>\n",
              "      <td>NaN</td>\n",
              "      <td>San Francisco</td>\n",
              "      <td>NaN</td>\n",
              "    </tr>\n",
              "    <tr>\n",
              "      <th>63187</th>\n",
              "      <td>63188</td>\n",
              "      <td>Whitney Smith</td>\n",
              "      <td>Transit Fare Inspector</td>\n",
              "      <td>34944.57</td>\n",
              "      <td>2704.03</td>\n",
              "      <td>435.08</td>\n",
              "      <td>20293.81</td>\n",
              "      <td>38083.68</td>\n",
              "      <td>58377.49</td>\n",
              "      <td>2012</td>\n",
              "      <td>NaN</td>\n",
              "      <td>San Francisco</td>\n",
              "      <td>NaN</td>\n",
              "    </tr>\n",
              "  </tbody>\n",
              "</table>\n",
              "</div>"
            ],
            "text/plain": [
              "            Id          EmployeeName  ...         Agency  Status\n",
              "130805  130806          Juan S Gomez  ...  San Francisco     NaN\n",
              "59809    59810  Juancarlos Henriquez  ...  San Francisco     NaN\n",
              "17531    17532           ANNA CORTES  ...  San Francisco     NaN\n",
              "92240    92241    Antonio D Pensotes  ...  San Francisco     NaN\n",
              "101729  101730         Uzma A Shaikh  ...  San Francisco     NaN\n",
              "108049  108050     Manuel M Gallardo  ...  San Francisco     NaN\n",
              "66530    66531         Viviana Soper  ...  San Francisco     NaN\n",
              "34499    34500          ENDALE SISAY  ...  San Francisco     NaN\n",
              "76626    76627      Leonard  Caldera  ...  San Francisco     NaN\n",
              "63187    63188         Whitney Smith  ...  San Francisco     NaN\n",
              "\n",
              "[10 rows x 13 columns]"
            ]
          },
          "metadata": {
            "tags": []
          },
          "execution_count": 45
        }
      ]
    },
    {
      "cell_type": "markdown",
      "metadata": {
        "id": "VSVoX1K3Pm0s",
        "colab_type": "text"
      },
      "source": [
        "**Drop unnecessary columns**"
      ]
    },
    {
      "cell_type": "code",
      "metadata": {
        "id": "RHV8TMa1Pm0t",
        "colab_type": "code",
        "colab": {}
      },
      "source": [
        "# Look at the info() again, which columns you can drop immediately?\n",
        "# Fill the blanks\n",
        "sal.drop(columns=['Notes', 'Status'], inplace=True)"
      ],
      "execution_count": 0,
      "outputs": []
    },
    {
      "cell_type": "code",
      "metadata": {
        "id": "dy3z7ww8IgzI",
        "colab_type": "code",
        "colab": {
          "base_uri": "https://localhost:8080/",
          "height": 289
        },
        "outputId": "3e540159-1a21-43e7-a451-5075de83ccd8"
      },
      "source": [
        "sal.info()"
      ],
      "execution_count": 48,
      "outputs": [
        {
          "output_type": "stream",
          "text": [
            "<class 'pandas.core.frame.DataFrame'>\n",
            "RangeIndex: 148654 entries, 0 to 148653\n",
            "Data columns (total 11 columns):\n",
            "Id                  148654 non-null category\n",
            "EmployeeName        148654 non-null object\n",
            "JobTitle            148654 non-null object\n",
            "BasePay             148045 non-null float64\n",
            "OvertimePay         148650 non-null float64\n",
            "OtherPay            148650 non-null float64\n",
            "Benefits            112491 non-null float64\n",
            "TotalPay            148654 non-null float64\n",
            "TotalPayBenefits    148654 non-null float64\n",
            "Year                148654 non-null category\n",
            "Agency              148654 non-null object\n",
            "dtypes: category(2), float64(6), object(3)\n",
            "memory usage: 17.1+ MB\n"
          ],
          "name": "stdout"
        }
      ]
    },
    {
      "cell_type": "code",
      "metadata": {
        "id": "xCvrYvQMPm0w",
        "colab_type": "code",
        "colab": {}
      },
      "source": [
        "# Are there any other columns that don't bring us much information?\n",
        "# Drop them coldbloodedly\n",
        "# Your code here\n",
        "# sal.drop(columns=['Benefits'], inplace=True)\n",
        "sal.dropna(how='all', inplace = True)"
      ],
      "execution_count": 0,
      "outputs": []
    },
    {
      "cell_type": "code",
      "metadata": {
        "id": "-Aykt_CoPm02",
        "colab_type": "code",
        "colab": {
          "base_uri": "https://localhost:8080/",
          "height": 272
        },
        "outputId": "79f9c32d-2b64-4413-87c9-052765e800e7"
      },
      "source": [
        "# Check again with info()\n",
        "# Your code here\n",
        "sal.info()"
      ],
      "execution_count": 31,
      "outputs": [
        {
          "output_type": "stream",
          "text": [
            "<class 'pandas.core.frame.DataFrame'>\n",
            "RangeIndex: 148654 entries, 0 to 148653\n",
            "Data columns (total 10 columns):\n",
            "Id                  148654 non-null category\n",
            "EmployeeName        148654 non-null object\n",
            "JobTitle            148654 non-null object\n",
            "BasePay             148045 non-null float64\n",
            "OvertimePay         148650 non-null float64\n",
            "OtherPay            148650 non-null float64\n",
            "TotalPay            148654 non-null float64\n",
            "TotalPayBenefits    148654 non-null float64\n",
            "Year                148654 non-null category\n",
            "Agency              148654 non-null object\n",
            "dtypes: category(2), float64(5), object(3)\n",
            "memory usage: 15.9+ MB\n"
          ],
          "name": "stdout"
        }
      ]
    },
    {
      "cell_type": "markdown",
      "metadata": {
        "id": "rcNsGWarPm06",
        "colab_type": "text"
      },
      "source": [
        "**Check for NaN values**"
      ]
    },
    {
      "cell_type": "code",
      "metadata": {
        "id": "TqLxHGy2Pm06",
        "colab_type": "code",
        "outputId": "b0a13c95-eb1d-40f4-d4a9-36796bb9bc01",
        "colab": {
          "base_uri": "https://localhost:8080/",
          "height": 221
        }
      },
      "source": [
        "# Fill the blank\n",
        "sal.isnull().sum()"
      ],
      "execution_count": 49,
      "outputs": [
        {
          "output_type": "execute_result",
          "data": {
            "text/plain": [
              "Id                      0\n",
              "EmployeeName            0\n",
              "JobTitle                0\n",
              "BasePay               609\n",
              "OvertimePay             4\n",
              "OtherPay                4\n",
              "Benefits            36163\n",
              "TotalPay                0\n",
              "TotalPayBenefits        0\n",
              "Year                    0\n",
              "Agency                  0\n",
              "dtype: int64"
            ]
          },
          "metadata": {
            "tags": []
          },
          "execution_count": 49
        }
      ]
    },
    {
      "cell_type": "markdown",
      "metadata": {
        "id": "RdhPk_x1Pm0-",
        "colab_type": "text"
      },
      "source": [
        "**Examine few examples of NaN values**"
      ]
    },
    {
      "cell_type": "code",
      "metadata": {
        "id": "3kGYpbdOPm0-",
        "colab_type": "code",
        "outputId": "62364a64-22ca-4562-a109-8a149d6647dd",
        "colab": {
          "base_uri": "https://localhost:8080/",
          "height": 173
        }
      },
      "source": [
        "# List all NaN values of OtherPay\n",
        "# Fill the blanks\n",
        "sal[sal['OtherPay'].isnull()]"
      ],
      "execution_count": 50,
      "outputs": [
        {
          "output_type": "execute_result",
          "data": {
            "text/html": [
              "<div>\n",
              "<style scoped>\n",
              "    .dataframe tbody tr th:only-of-type {\n",
              "        vertical-align: middle;\n",
              "    }\n",
              "\n",
              "    .dataframe tbody tr th {\n",
              "        vertical-align: top;\n",
              "    }\n",
              "\n",
              "    .dataframe thead th {\n",
              "        text-align: right;\n",
              "    }\n",
              "</style>\n",
              "<table border=\"1\" class=\"dataframe\">\n",
              "  <thead>\n",
              "    <tr style=\"text-align: right;\">\n",
              "      <th></th>\n",
              "      <th>Id</th>\n",
              "      <th>EmployeeName</th>\n",
              "      <th>JobTitle</th>\n",
              "      <th>BasePay</th>\n",
              "      <th>OvertimePay</th>\n",
              "      <th>OtherPay</th>\n",
              "      <th>Benefits</th>\n",
              "      <th>TotalPay</th>\n",
              "      <th>TotalPayBenefits</th>\n",
              "      <th>Year</th>\n",
              "      <th>Agency</th>\n",
              "    </tr>\n",
              "  </thead>\n",
              "  <tbody>\n",
              "    <tr>\n",
              "      <th>148646</th>\n",
              "      <td>148647</td>\n",
              "      <td>Not provided</td>\n",
              "      <td>Not provided</td>\n",
              "      <td>NaN</td>\n",
              "      <td>NaN</td>\n",
              "      <td>NaN</td>\n",
              "      <td>NaN</td>\n",
              "      <td>0.0</td>\n",
              "      <td>0.0</td>\n",
              "      <td>2014</td>\n",
              "      <td>San Francisco</td>\n",
              "    </tr>\n",
              "    <tr>\n",
              "      <th>148650</th>\n",
              "      <td>148651</td>\n",
              "      <td>Not provided</td>\n",
              "      <td>Not provided</td>\n",
              "      <td>NaN</td>\n",
              "      <td>NaN</td>\n",
              "      <td>NaN</td>\n",
              "      <td>NaN</td>\n",
              "      <td>0.0</td>\n",
              "      <td>0.0</td>\n",
              "      <td>2014</td>\n",
              "      <td>San Francisco</td>\n",
              "    </tr>\n",
              "    <tr>\n",
              "      <th>148651</th>\n",
              "      <td>148652</td>\n",
              "      <td>Not provided</td>\n",
              "      <td>Not provided</td>\n",
              "      <td>NaN</td>\n",
              "      <td>NaN</td>\n",
              "      <td>NaN</td>\n",
              "      <td>NaN</td>\n",
              "      <td>0.0</td>\n",
              "      <td>0.0</td>\n",
              "      <td>2014</td>\n",
              "      <td>San Francisco</td>\n",
              "    </tr>\n",
              "    <tr>\n",
              "      <th>148652</th>\n",
              "      <td>148653</td>\n",
              "      <td>Not provided</td>\n",
              "      <td>Not provided</td>\n",
              "      <td>NaN</td>\n",
              "      <td>NaN</td>\n",
              "      <td>NaN</td>\n",
              "      <td>NaN</td>\n",
              "      <td>0.0</td>\n",
              "      <td>0.0</td>\n",
              "      <td>2014</td>\n",
              "      <td>San Francisco</td>\n",
              "    </tr>\n",
              "  </tbody>\n",
              "</table>\n",
              "</div>"
            ],
            "text/plain": [
              "            Id  EmployeeName  ...  Year         Agency\n",
              "148646  148647  Not provided  ...  2014  San Francisco\n",
              "148650  148651  Not provided  ...  2014  San Francisco\n",
              "148651  148652  Not provided  ...  2014  San Francisco\n",
              "148652  148653  Not provided  ...  2014  San Francisco\n",
              "\n",
              "[4 rows x 11 columns]"
            ]
          },
          "metadata": {
            "tags": []
          },
          "execution_count": 50
        }
      ]
    },
    {
      "cell_type": "markdown",
      "metadata": {
        "id": "pNv3autOjiFj",
        "colab_type": "text"
      },
      "source": [
        "**Drop missing values of OtherPay and OvertimePay**"
      ]
    },
    {
      "cell_type": "code",
      "metadata": {
        "id": "ZDgbdnlhPm1C",
        "colab_type": "code",
        "colab": {}
      },
      "source": [
        "# Option 1\n",
        "# sal.drop(labels=[148646, 148650, 148651, 148652], axis=0)\n",
        "\n",
        "# Something cooler\n",
        "# Solution: Select data that OtherPay is not null and assign it to the dataframe 'sal'\n",
        "# Your code here\n",
        "sal = sal[sal['OtherPay'].notnull()]"
      ],
      "execution_count": 0,
      "outputs": []
    },
    {
      "cell_type": "code",
      "metadata": {
        "id": "6OPAYbV7L86b",
        "colab_type": "code",
        "colab": {
          "base_uri": "https://localhost:8080/",
          "height": 49
        },
        "outputId": "88c5fb77-4a0f-4b15-91e0-b0c89c4a4db1"
      },
      "source": [
        "sal[sal['OtherPay'].isnull()]"
      ],
      "execution_count": 52,
      "outputs": [
        {
          "output_type": "execute_result",
          "data": {
            "text/html": [
              "<div>\n",
              "<style scoped>\n",
              "    .dataframe tbody tr th:only-of-type {\n",
              "        vertical-align: middle;\n",
              "    }\n",
              "\n",
              "    .dataframe tbody tr th {\n",
              "        vertical-align: top;\n",
              "    }\n",
              "\n",
              "    .dataframe thead th {\n",
              "        text-align: right;\n",
              "    }\n",
              "</style>\n",
              "<table border=\"1\" class=\"dataframe\">\n",
              "  <thead>\n",
              "    <tr style=\"text-align: right;\">\n",
              "      <th></th>\n",
              "      <th>Id</th>\n",
              "      <th>EmployeeName</th>\n",
              "      <th>JobTitle</th>\n",
              "      <th>BasePay</th>\n",
              "      <th>OvertimePay</th>\n",
              "      <th>OtherPay</th>\n",
              "      <th>Benefits</th>\n",
              "      <th>TotalPay</th>\n",
              "      <th>TotalPayBenefits</th>\n",
              "      <th>Year</th>\n",
              "      <th>Agency</th>\n",
              "    </tr>\n",
              "  </thead>\n",
              "  <tbody>\n",
              "  </tbody>\n",
              "</table>\n",
              "</div>"
            ],
            "text/plain": [
              "Empty DataFrame\n",
              "Columns: [Id, EmployeeName, JobTitle, BasePay, OvertimePay, OtherPay, Benefits, TotalPay, TotalPayBenefits, Year, Agency]\n",
              "Index: []"
            ]
          },
          "metadata": {
            "tags": []
          },
          "execution_count": 52
        }
      ]
    },
    {
      "cell_type": "markdown",
      "metadata": {
        "id": "E8C8-rJ6kb5A",
        "colab_type": "text"
      },
      "source": [
        "**Analize missing values of BasePay and Benefits**"
      ]
    },
    {
      "cell_type": "code",
      "metadata": {
        "id": "auarSm-bPm1G",
        "colab_type": "code",
        "outputId": "4ea793e6-3bdc-4e20-dde7-494242223090",
        "colab": {
          "base_uri": "https://localhost:8080/",
          "height": 204
        }
      },
      "source": [
        "# Select 5 sample of data that BasePay is null\n",
        "# Your code here\n",
        "sal[sal['BasePay'].isnull()].sample(5)"
      ],
      "execution_count": 53,
      "outputs": [
        {
          "output_type": "execute_result",
          "data": {
            "text/html": [
              "<div>\n",
              "<style scoped>\n",
              "    .dataframe tbody tr th:only-of-type {\n",
              "        vertical-align: middle;\n",
              "    }\n",
              "\n",
              "    .dataframe tbody tr th {\n",
              "        vertical-align: top;\n",
              "    }\n",
              "\n",
              "    .dataframe thead th {\n",
              "        text-align: right;\n",
              "    }\n",
              "</style>\n",
              "<table border=\"1\" class=\"dataframe\">\n",
              "  <thead>\n",
              "    <tr style=\"text-align: right;\">\n",
              "      <th></th>\n",
              "      <th>Id</th>\n",
              "      <th>EmployeeName</th>\n",
              "      <th>JobTitle</th>\n",
              "      <th>BasePay</th>\n",
              "      <th>OvertimePay</th>\n",
              "      <th>OtherPay</th>\n",
              "      <th>Benefits</th>\n",
              "      <th>TotalPay</th>\n",
              "      <th>TotalPayBenefits</th>\n",
              "      <th>Year</th>\n",
              "      <th>Agency</th>\n",
              "    </tr>\n",
              "  </thead>\n",
              "  <tbody>\n",
              "    <tr>\n",
              "      <th>106842</th>\n",
              "      <td>106843</td>\n",
              "      <td>Linda F Edwards</td>\n",
              "      <td>Transit Operator</td>\n",
              "      <td>NaN</td>\n",
              "      <td>0.0</td>\n",
              "      <td>0.00</td>\n",
              "      <td>7959.18</td>\n",
              "      <td>0.00</td>\n",
              "      <td>7959.18</td>\n",
              "      <td>2013</td>\n",
              "      <td>San Francisco</td>\n",
              "    </tr>\n",
              "    <tr>\n",
              "      <th>106663</th>\n",
              "      <td>106664</td>\n",
              "      <td>Ramon A Useda</td>\n",
              "      <td>Parking Control Officer</td>\n",
              "      <td>NaN</td>\n",
              "      <td>0.0</td>\n",
              "      <td>0.00</td>\n",
              "      <td>8051.63</td>\n",
              "      <td>0.00</td>\n",
              "      <td>8051.63</td>\n",
              "      <td>2013</td>\n",
              "      <td>San Francisco</td>\n",
              "    </tr>\n",
              "    <tr>\n",
              "      <th>105531</th>\n",
              "      <td>105532</td>\n",
              "      <td>Rodolfo A Reboquio</td>\n",
              "      <td>Parking Control Officer</td>\n",
              "      <td>NaN</td>\n",
              "      <td>0.0</td>\n",
              "      <td>11662.13</td>\n",
              "      <td>0.00</td>\n",
              "      <td>11662.13</td>\n",
              "      <td>11662.13</td>\n",
              "      <td>2013</td>\n",
              "      <td>San Francisco</td>\n",
              "    </tr>\n",
              "    <tr>\n",
              "      <th>106496</th>\n",
              "      <td>106497</td>\n",
              "      <td>Earline A Saunders</td>\n",
              "      <td>Transit Operator</td>\n",
              "      <td>NaN</td>\n",
              "      <td>0.0</td>\n",
              "      <td>8400.51</td>\n",
              "      <td>0.00</td>\n",
              "      <td>8400.51</td>\n",
              "      <td>8400.51</td>\n",
              "      <td>2013</td>\n",
              "      <td>San Francisco</td>\n",
              "    </tr>\n",
              "    <tr>\n",
              "      <th>106909</th>\n",
              "      <td>106910</td>\n",
              "      <td>Margot  Gibney</td>\n",
              "      <td>Drug Court Coordinator</td>\n",
              "      <td>NaN</td>\n",
              "      <td>0.0</td>\n",
              "      <td>0.00</td>\n",
              "      <td>7959.18</td>\n",
              "      <td>0.00</td>\n",
              "      <td>7959.18</td>\n",
              "      <td>2013</td>\n",
              "      <td>San Francisco</td>\n",
              "    </tr>\n",
              "  </tbody>\n",
              "</table>\n",
              "</div>"
            ],
            "text/plain": [
              "            Id        EmployeeName  ...  Year         Agency\n",
              "106842  106843     Linda F Edwards  ...  2013  San Francisco\n",
              "106663  106664       Ramon A Useda  ...  2013  San Francisco\n",
              "105531  105532  Rodolfo A Reboquio  ...  2013  San Francisco\n",
              "106496  106497  Earline A Saunders  ...  2013  San Francisco\n",
              "106909  106910      Margot  Gibney  ...  2013  San Francisco\n",
              "\n",
              "[5 rows x 11 columns]"
            ]
          },
          "metadata": {
            "tags": []
          },
          "execution_count": 53
        }
      ]
    },
    {
      "cell_type": "markdown",
      "metadata": {
        "id": "LI8UuvPePm1J",
        "colab_type": "text"
      },
      "source": [
        "**For BasePay and Benefits, it is clear that NaN values are zeroes (from TotalPay and TotalPayBenefits).**\n",
        "\n",
        "**So, simply fill NaN values with 0**"
      ]
    },
    {
      "cell_type": "code",
      "metadata": {
        "id": "weJT0fK1Pm1K",
        "colab_type": "code",
        "colab": {}
      },
      "source": [
        "# Fill the blanks\n",
        "sal['Benefits'].fillna(value=0, inplace=True)"
      ],
      "execution_count": 0,
      "outputs": []
    },
    {
      "cell_type": "code",
      "metadata": {
        "id": "CtY8mxaJPm1N",
        "colab_type": "code",
        "colab": {}
      },
      "source": [
        "# Fill the blanks\n",
        "sal['BasePay'].fillna(value=0,inplace=True)"
      ],
      "execution_count": 0,
      "outputs": []
    },
    {
      "cell_type": "code",
      "metadata": {
        "id": "6r011Nm-Pm1Q",
        "colab_type": "code",
        "outputId": "1f9264c8-6cfc-4c3c-b182-bab6173f9fee",
        "colab": {
          "base_uri": "https://localhost:8080/",
          "height": 221
        }
      },
      "source": [
        "# Let check for NaN values again\n",
        "# Your code here\n",
        "sal.isnull().sum()"
      ],
      "execution_count": 66,
      "outputs": [
        {
          "output_type": "execute_result",
          "data": {
            "text/plain": [
              "Id                  0\n",
              "EmployeeName        0\n",
              "JobTitle            0\n",
              "BasePay             0\n",
              "OvertimePay         0\n",
              "OtherPay            0\n",
              "Benefits            0\n",
              "TotalPay            0\n",
              "TotalPayBenefits    0\n",
              "Year                0\n",
              "Agency              0\n",
              "dtype: int64"
            ]
          },
          "metadata": {
            "tags": []
          },
          "execution_count": 66
        }
      ]
    },
    {
      "cell_type": "markdown",
      "metadata": {
        "id": "4OJQFuzhPm1T",
        "colab_type": "text"
      },
      "source": [
        "**Min values of some payments are negative. Let's check it out**"
      ]
    },
    {
      "cell_type": "code",
      "metadata": {
        "id": "DS8XEj1UPm1U",
        "colab_type": "code",
        "outputId": "0f0c2038-daac-4f32-9b17-f51c3cf04615",
        "colab": {
          "base_uri": "https://localhost:8080/",
          "height": 173
        }
      },
      "source": [
        "# Select data that has negative TotalPay or TotalPayBenefits\n",
        "sal[(sal['TotalPay']<0)|(sal['TotalPayBenefits']<0)]"
      ],
      "execution_count": 69,
      "outputs": [
        {
          "output_type": "execute_result",
          "data": {
            "text/html": [
              "<div>\n",
              "<style scoped>\n",
              "    .dataframe tbody tr th:only-of-type {\n",
              "        vertical-align: middle;\n",
              "    }\n",
              "\n",
              "    .dataframe tbody tr th {\n",
              "        vertical-align: top;\n",
              "    }\n",
              "\n",
              "    .dataframe thead th {\n",
              "        text-align: right;\n",
              "    }\n",
              "</style>\n",
              "<table border=\"1\" class=\"dataframe\">\n",
              "  <thead>\n",
              "    <tr style=\"text-align: right;\">\n",
              "      <th></th>\n",
              "      <th>Id</th>\n",
              "      <th>EmployeeName</th>\n",
              "      <th>JobTitle</th>\n",
              "      <th>BasePay</th>\n",
              "      <th>OvertimePay</th>\n",
              "      <th>OtherPay</th>\n",
              "      <th>Benefits</th>\n",
              "      <th>TotalPay</th>\n",
              "      <th>TotalPayBenefits</th>\n",
              "      <th>Year</th>\n",
              "      <th>Agency</th>\n",
              "    </tr>\n",
              "  </thead>\n",
              "  <tbody>\n",
              "    <tr>\n",
              "      <th>110528</th>\n",
              "      <td>110529</td>\n",
              "      <td>Timothy E Gibson</td>\n",
              "      <td>Police Officer 3</td>\n",
              "      <td>0.0</td>\n",
              "      <td>0.0</td>\n",
              "      <td>0.00</td>\n",
              "      <td>-2.73</td>\n",
              "      <td>0.00</td>\n",
              "      <td>-2.73</td>\n",
              "      <td>2013</td>\n",
              "      <td>San Francisco</td>\n",
              "    </tr>\n",
              "    <tr>\n",
              "      <th>110529</th>\n",
              "      <td>110530</td>\n",
              "      <td>Mark E Laherty</td>\n",
              "      <td>Police Officer 3</td>\n",
              "      <td>0.0</td>\n",
              "      <td>0.0</td>\n",
              "      <td>0.00</td>\n",
              "      <td>-8.20</td>\n",
              "      <td>0.00</td>\n",
              "      <td>-8.20</td>\n",
              "      <td>2013</td>\n",
              "      <td>San Francisco</td>\n",
              "    </tr>\n",
              "    <tr>\n",
              "      <th>110530</th>\n",
              "      <td>110531</td>\n",
              "      <td>David P Kucia</td>\n",
              "      <td>Police Officer 3</td>\n",
              "      <td>0.0</td>\n",
              "      <td>0.0</td>\n",
              "      <td>0.00</td>\n",
              "      <td>-33.89</td>\n",
              "      <td>0.00</td>\n",
              "      <td>-33.89</td>\n",
              "      <td>2013</td>\n",
              "      <td>San Francisco</td>\n",
              "    </tr>\n",
              "    <tr>\n",
              "      <th>148653</th>\n",
              "      <td>148654</td>\n",
              "      <td>Joe Lopez</td>\n",
              "      <td>Counselor, Log Cabin Ranch</td>\n",
              "      <td>0.0</td>\n",
              "      <td>0.0</td>\n",
              "      <td>-618.13</td>\n",
              "      <td>0.00</td>\n",
              "      <td>-618.13</td>\n",
              "      <td>-618.13</td>\n",
              "      <td>2014</td>\n",
              "      <td>San Francisco</td>\n",
              "    </tr>\n",
              "  </tbody>\n",
              "</table>\n",
              "</div>"
            ],
            "text/plain": [
              "            Id      EmployeeName  ...  Year         Agency\n",
              "110528  110529  Timothy E Gibson  ...  2013  San Francisco\n",
              "110529  110530    Mark E Laherty  ...  2013  San Francisco\n",
              "110530  110531     David P Kucia  ...  2013  San Francisco\n",
              "148653  148654         Joe Lopez  ...  2014  San Francisco\n",
              "\n",
              "[4 rows x 11 columns]"
            ]
          },
          "metadata": {
            "tags": []
          },
          "execution_count": 69
        }
      ]
    },
    {
      "cell_type": "markdown",
      "metadata": {
        "id": "9w7-ugL0mQPC",
        "colab_type": "text"
      },
      "source": [
        "**There are only 4 of them, we can safely drop these data**"
      ]
    },
    {
      "cell_type": "code",
      "metadata": {
        "id": "2SfJWB9qPm1X",
        "colab_type": "code",
        "colab": {
          "base_uri": "https://localhost:8080/",
          "height": 1000
        },
        "outputId": "40230675-a55e-41f3-8688-e62766a4aad8"
      },
      "source": [
        "# Your code here\n",
        "sal.drop(labels=[110528, 110529, 110530, 148653], axis=0)"
      ],
      "execution_count": 70,
      "outputs": [
        {
          "output_type": "execute_result",
          "data": {
            "text/html": [
              "<div>\n",
              "<style scoped>\n",
              "    .dataframe tbody tr th:only-of-type {\n",
              "        vertical-align: middle;\n",
              "    }\n",
              "\n",
              "    .dataframe tbody tr th {\n",
              "        vertical-align: top;\n",
              "    }\n",
              "\n",
              "    .dataframe thead th {\n",
              "        text-align: right;\n",
              "    }\n",
              "</style>\n",
              "<table border=\"1\" class=\"dataframe\">\n",
              "  <thead>\n",
              "    <tr style=\"text-align: right;\">\n",
              "      <th></th>\n",
              "      <th>Id</th>\n",
              "      <th>EmployeeName</th>\n",
              "      <th>JobTitle</th>\n",
              "      <th>BasePay</th>\n",
              "      <th>OvertimePay</th>\n",
              "      <th>OtherPay</th>\n",
              "      <th>Benefits</th>\n",
              "      <th>TotalPay</th>\n",
              "      <th>TotalPayBenefits</th>\n",
              "      <th>Year</th>\n",
              "      <th>Agency</th>\n",
              "    </tr>\n",
              "  </thead>\n",
              "  <tbody>\n",
              "    <tr>\n",
              "      <th>0</th>\n",
              "      <td>1</td>\n",
              "      <td>NATHANIEL FORD</td>\n",
              "      <td>GENERAL MANAGER-METROPOLITAN TRANSIT AUTHORITY</td>\n",
              "      <td>167411.18</td>\n",
              "      <td>0.00</td>\n",
              "      <td>400184.25</td>\n",
              "      <td>0.00</td>\n",
              "      <td>567595.43</td>\n",
              "      <td>567595.43</td>\n",
              "      <td>2011</td>\n",
              "      <td>San Francisco</td>\n",
              "    </tr>\n",
              "    <tr>\n",
              "      <th>1</th>\n",
              "      <td>2</td>\n",
              "      <td>GARY JIMENEZ</td>\n",
              "      <td>CAPTAIN III (POLICE DEPARTMENT)</td>\n",
              "      <td>155966.02</td>\n",
              "      <td>245131.88</td>\n",
              "      <td>137811.38</td>\n",
              "      <td>0.00</td>\n",
              "      <td>538909.28</td>\n",
              "      <td>538909.28</td>\n",
              "      <td>2011</td>\n",
              "      <td>San Francisco</td>\n",
              "    </tr>\n",
              "    <tr>\n",
              "      <th>2</th>\n",
              "      <td>3</td>\n",
              "      <td>ALBERT PARDINI</td>\n",
              "      <td>CAPTAIN III (POLICE DEPARTMENT)</td>\n",
              "      <td>212739.13</td>\n",
              "      <td>106088.18</td>\n",
              "      <td>16452.60</td>\n",
              "      <td>0.00</td>\n",
              "      <td>335279.91</td>\n",
              "      <td>335279.91</td>\n",
              "      <td>2011</td>\n",
              "      <td>San Francisco</td>\n",
              "    </tr>\n",
              "    <tr>\n",
              "      <th>3</th>\n",
              "      <td>4</td>\n",
              "      <td>CHRISTOPHER CHONG</td>\n",
              "      <td>WIRE ROPE CABLE MAINTENANCE MECHANIC</td>\n",
              "      <td>77916.00</td>\n",
              "      <td>56120.71</td>\n",
              "      <td>198306.90</td>\n",
              "      <td>0.00</td>\n",
              "      <td>332343.61</td>\n",
              "      <td>332343.61</td>\n",
              "      <td>2011</td>\n",
              "      <td>San Francisco</td>\n",
              "    </tr>\n",
              "    <tr>\n",
              "      <th>4</th>\n",
              "      <td>5</td>\n",
              "      <td>PATRICK GARDNER</td>\n",
              "      <td>DEPUTY CHIEF OF DEPARTMENT,(FIRE DEPARTMENT)</td>\n",
              "      <td>134401.60</td>\n",
              "      <td>9737.00</td>\n",
              "      <td>182234.59</td>\n",
              "      <td>0.00</td>\n",
              "      <td>326373.19</td>\n",
              "      <td>326373.19</td>\n",
              "      <td>2011</td>\n",
              "      <td>San Francisco</td>\n",
              "    </tr>\n",
              "    <tr>\n",
              "      <th>5</th>\n",
              "      <td>6</td>\n",
              "      <td>DAVID SULLIVAN</td>\n",
              "      <td>ASSISTANT DEPUTY CHIEF II</td>\n",
              "      <td>118602.00</td>\n",
              "      <td>8601.00</td>\n",
              "      <td>189082.74</td>\n",
              "      <td>0.00</td>\n",
              "      <td>316285.74</td>\n",
              "      <td>316285.74</td>\n",
              "      <td>2011</td>\n",
              "      <td>San Francisco</td>\n",
              "    </tr>\n",
              "    <tr>\n",
              "      <th>6</th>\n",
              "      <td>7</td>\n",
              "      <td>ALSON LEE</td>\n",
              "      <td>BATTALION CHIEF, (FIRE DEPARTMENT)</td>\n",
              "      <td>92492.01</td>\n",
              "      <td>89062.90</td>\n",
              "      <td>134426.14</td>\n",
              "      <td>0.00</td>\n",
              "      <td>315981.05</td>\n",
              "      <td>315981.05</td>\n",
              "      <td>2011</td>\n",
              "      <td>San Francisco</td>\n",
              "    </tr>\n",
              "    <tr>\n",
              "      <th>7</th>\n",
              "      <td>8</td>\n",
              "      <td>DAVID KUSHNER</td>\n",
              "      <td>DEPUTY DIRECTOR OF INVESTMENTS</td>\n",
              "      <td>256576.96</td>\n",
              "      <td>0.00</td>\n",
              "      <td>51322.50</td>\n",
              "      <td>0.00</td>\n",
              "      <td>307899.46</td>\n",
              "      <td>307899.46</td>\n",
              "      <td>2011</td>\n",
              "      <td>San Francisco</td>\n",
              "    </tr>\n",
              "    <tr>\n",
              "      <th>8</th>\n",
              "      <td>9</td>\n",
              "      <td>MICHAEL MORRIS</td>\n",
              "      <td>BATTALION CHIEF, (FIRE DEPARTMENT)</td>\n",
              "      <td>176932.64</td>\n",
              "      <td>86362.68</td>\n",
              "      <td>40132.23</td>\n",
              "      <td>0.00</td>\n",
              "      <td>303427.55</td>\n",
              "      <td>303427.55</td>\n",
              "      <td>2011</td>\n",
              "      <td>San Francisco</td>\n",
              "    </tr>\n",
              "    <tr>\n",
              "      <th>9</th>\n",
              "      <td>10</td>\n",
              "      <td>JOANNE HAYES-WHITE</td>\n",
              "      <td>CHIEF OF DEPARTMENT, (FIRE DEPARTMENT)</td>\n",
              "      <td>285262.00</td>\n",
              "      <td>0.00</td>\n",
              "      <td>17115.73</td>\n",
              "      <td>0.00</td>\n",
              "      <td>302377.73</td>\n",
              "      <td>302377.73</td>\n",
              "      <td>2011</td>\n",
              "      <td>San Francisco</td>\n",
              "    </tr>\n",
              "    <tr>\n",
              "      <th>10</th>\n",
              "      <td>11</td>\n",
              "      <td>ARTHUR KENNEY</td>\n",
              "      <td>ASSISTANT CHIEF OF DEPARTMENT, (FIRE DEPARTMENT)</td>\n",
              "      <td>194999.39</td>\n",
              "      <td>71344.88</td>\n",
              "      <td>33149.90</td>\n",
              "      <td>0.00</td>\n",
              "      <td>299494.17</td>\n",
              "      <td>299494.17</td>\n",
              "      <td>2011</td>\n",
              "      <td>San Francisco</td>\n",
              "    </tr>\n",
              "    <tr>\n",
              "      <th>11</th>\n",
              "      <td>12</td>\n",
              "      <td>PATRICIA JACKSON</td>\n",
              "      <td>CAPTAIN III (POLICE DEPARTMENT)</td>\n",
              "      <td>99722.00</td>\n",
              "      <td>87082.62</td>\n",
              "      <td>110804.30</td>\n",
              "      <td>0.00</td>\n",
              "      <td>297608.92</td>\n",
              "      <td>297608.92</td>\n",
              "      <td>2011</td>\n",
              "      <td>San Francisco</td>\n",
              "    </tr>\n",
              "    <tr>\n",
              "      <th>12</th>\n",
              "      <td>13</td>\n",
              "      <td>EDWARD HARRINGTON</td>\n",
              "      <td>EXECUTIVE CONTRACT EMPLOYEE</td>\n",
              "      <td>294580.02</td>\n",
              "      <td>0.00</td>\n",
              "      <td>0.00</td>\n",
              "      <td>0.00</td>\n",
              "      <td>294580.02</td>\n",
              "      <td>294580.02</td>\n",
              "      <td>2011</td>\n",
              "      <td>San Francisco</td>\n",
              "    </tr>\n",
              "    <tr>\n",
              "      <th>13</th>\n",
              "      <td>14</td>\n",
              "      <td>JOHN MARTIN</td>\n",
              "      <td>DEPARTMENT HEAD V</td>\n",
              "      <td>271329.03</td>\n",
              "      <td>0.00</td>\n",
              "      <td>21342.59</td>\n",
              "      <td>0.00</td>\n",
              "      <td>292671.62</td>\n",
              "      <td>292671.62</td>\n",
              "      <td>2011</td>\n",
              "      <td>San Francisco</td>\n",
              "    </tr>\n",
              "    <tr>\n",
              "      <th>14</th>\n",
              "      <td>15</td>\n",
              "      <td>DAVID FRANKLIN</td>\n",
              "      <td>BATTALION CHIEF, (FIRE DEPARTMENT)</td>\n",
              "      <td>174872.64</td>\n",
              "      <td>74050.30</td>\n",
              "      <td>37424.11</td>\n",
              "      <td>0.00</td>\n",
              "      <td>286347.05</td>\n",
              "      <td>286347.05</td>\n",
              "      <td>2011</td>\n",
              "      <td>San Francisco</td>\n",
              "    </tr>\n",
              "    <tr>\n",
              "      <th>15</th>\n",
              "      <td>16</td>\n",
              "      <td>RICHARD CORRIEA</td>\n",
              "      <td>COMMANDER III, (POLICE DEPARTMENT)</td>\n",
              "      <td>198778.01</td>\n",
              "      <td>73478.20</td>\n",
              "      <td>13957.65</td>\n",
              "      <td>0.00</td>\n",
              "      <td>286213.86</td>\n",
              "      <td>286213.86</td>\n",
              "      <td>2011</td>\n",
              "      <td>San Francisco</td>\n",
              "    </tr>\n",
              "    <tr>\n",
              "      <th>16</th>\n",
              "      <td>17</td>\n",
              "      <td>AMY HART</td>\n",
              "      <td>DEPARTMENT HEAD V</td>\n",
              "      <td>268604.57</td>\n",
              "      <td>0.00</td>\n",
              "      <td>16115.86</td>\n",
              "      <td>0.00</td>\n",
              "      <td>284720.43</td>\n",
              "      <td>284720.43</td>\n",
              "      <td>2011</td>\n",
              "      <td>San Francisco</td>\n",
              "    </tr>\n",
              "    <tr>\n",
              "      <th>17</th>\n",
              "      <td>18</td>\n",
              "      <td>SEBASTIAN WONG</td>\n",
              "      <td>CAPTAIN, EMERGENCYCY MEDICAL SERVICES</td>\n",
              "      <td>140546.87</td>\n",
              "      <td>119397.26</td>\n",
              "      <td>18625.08</td>\n",
              "      <td>0.00</td>\n",
              "      <td>278569.21</td>\n",
              "      <td>278569.21</td>\n",
              "      <td>2011</td>\n",
              "      <td>San Francisco</td>\n",
              "    </tr>\n",
              "    <tr>\n",
              "      <th>18</th>\n",
              "      <td>19</td>\n",
              "      <td>MARTY ROSS</td>\n",
              "      <td>BATTALION CHIEF, (FIRE DEPARTMENT)</td>\n",
              "      <td>168692.63</td>\n",
              "      <td>69626.12</td>\n",
              "      <td>38115.47</td>\n",
              "      <td>0.00</td>\n",
              "      <td>276434.22</td>\n",
              "      <td>276434.22</td>\n",
              "      <td>2011</td>\n",
              "      <td>San Francisco</td>\n",
              "    </tr>\n",
              "    <tr>\n",
              "      <th>19</th>\n",
              "      <td>20</td>\n",
              "      <td>ELLEN MOFFATT</td>\n",
              "      <td>ASSISTANT MEDICAL EXAMINER</td>\n",
              "      <td>257510.59</td>\n",
              "      <td>880.16</td>\n",
              "      <td>16159.50</td>\n",
              "      <td>0.00</td>\n",
              "      <td>274550.25</td>\n",
              "      <td>274550.25</td>\n",
              "      <td>2011</td>\n",
              "      <td>San Francisco</td>\n",
              "    </tr>\n",
              "    <tr>\n",
              "      <th>20</th>\n",
              "      <td>21</td>\n",
              "      <td>VENUS AZAR</td>\n",
              "      <td>ASSISTANT MEDICAL EXAMINER</td>\n",
              "      <td>257510.48</td>\n",
              "      <td>0.00</td>\n",
              "      <td>16679.79</td>\n",
              "      <td>0.00</td>\n",
              "      <td>274190.27</td>\n",
              "      <td>274190.27</td>\n",
              "      <td>2011</td>\n",
              "      <td>San Francisco</td>\n",
              "    </tr>\n",
              "    <tr>\n",
              "      <th>21</th>\n",
              "      <td>22</td>\n",
              "      <td>JUDY MELINEK</td>\n",
              "      <td>ASSISTANT MEDICAL EXAMINER</td>\n",
              "      <td>257510.44</td>\n",
              "      <td>377.21</td>\n",
              "      <td>15883.56</td>\n",
              "      <td>0.00</td>\n",
              "      <td>273771.21</td>\n",
              "      <td>273771.21</td>\n",
              "      <td>2011</td>\n",
              "      <td>San Francisco</td>\n",
              "    </tr>\n",
              "    <tr>\n",
              "      <th>22</th>\n",
              "      <td>23</td>\n",
              "      <td>GEORGE GARCIA</td>\n",
              "      <td>CAPTAIN, FIRE SUPPRESSION</td>\n",
              "      <td>140546.88</td>\n",
              "      <td>93200.58</td>\n",
              "      <td>39955.25</td>\n",
              "      <td>0.00</td>\n",
              "      <td>273702.71</td>\n",
              "      <td>273702.71</td>\n",
              "      <td>2011</td>\n",
              "      <td>San Francisco</td>\n",
              "    </tr>\n",
              "    <tr>\n",
              "      <th>23</th>\n",
              "      <td>24</td>\n",
              "      <td>VICTOR WYRSCH</td>\n",
              "      <td>BATTALION CHIEF, (FIRE DEPARTMENT)</td>\n",
              "      <td>168692.63</td>\n",
              "      <td>77896.14</td>\n",
              "      <td>24083.86</td>\n",
              "      <td>0.00</td>\n",
              "      <td>270672.63</td>\n",
              "      <td>270672.63</td>\n",
              "      <td>2011</td>\n",
              "      <td>San Francisco</td>\n",
              "    </tr>\n",
              "    <tr>\n",
              "      <th>24</th>\n",
              "      <td>25</td>\n",
              "      <td>JOSEPH DRISCOLL</td>\n",
              "      <td>CAPTAIN, FIRE SUPPRESSION</td>\n",
              "      <td>140546.86</td>\n",
              "      <td>97868.77</td>\n",
              "      <td>31909.28</td>\n",
              "      <td>0.00</td>\n",
              "      <td>270324.91</td>\n",
              "      <td>270324.91</td>\n",
              "      <td>2011</td>\n",
              "      <td>San Francisco</td>\n",
              "    </tr>\n",
              "    <tr>\n",
              "      <th>25</th>\n",
              "      <td>26</td>\n",
              "      <td>GREGORY SUHR</td>\n",
              "      <td>CHIEF OF POLICE</td>\n",
              "      <td>256470.41</td>\n",
              "      <td>0.00</td>\n",
              "      <td>11522.18</td>\n",
              "      <td>0.00</td>\n",
              "      <td>267992.59</td>\n",
              "      <td>267992.59</td>\n",
              "      <td>2011</td>\n",
              "      <td>San Francisco</td>\n",
              "    </tr>\n",
              "    <tr>\n",
              "      <th>26</th>\n",
              "      <td>27</td>\n",
              "      <td>JOHN HANLEY</td>\n",
              "      <td>CAPTAIN, FIRE SUPPRESSION</td>\n",
              "      <td>92080.80</td>\n",
              "      <td>40008.00</td>\n",
              "      <td>133695.76</td>\n",
              "      <td>0.00</td>\n",
              "      <td>265784.56</td>\n",
              "      <td>265784.56</td>\n",
              "      <td>2011</td>\n",
              "      <td>San Francisco</td>\n",
              "    </tr>\n",
              "    <tr>\n",
              "      <th>27</th>\n",
              "      <td>28</td>\n",
              "      <td>RAYMOND GUZMAN</td>\n",
              "      <td>BATTALION CHIEF, (FIRE DEPARTMENT)</td>\n",
              "      <td>168692.59</td>\n",
              "      <td>80706.88</td>\n",
              "      <td>16063.99</td>\n",
              "      <td>0.00</td>\n",
              "      <td>265463.46</td>\n",
              "      <td>265463.46</td>\n",
              "      <td>2011</td>\n",
              "      <td>San Francisco</td>\n",
              "    </tr>\n",
              "    <tr>\n",
              "      <th>28</th>\n",
              "      <td>29</td>\n",
              "      <td>DENISE SCHMITT</td>\n",
              "      <td>DEPUTY CHIEF III (POLICE DEPARTMENT)</td>\n",
              "      <td>261717.60</td>\n",
              "      <td>0.00</td>\n",
              "      <td>2357.00</td>\n",
              "      <td>0.00</td>\n",
              "      <td>264074.60</td>\n",
              "      <td>264074.60</td>\n",
              "      <td>2011</td>\n",
              "      <td>San Francisco</td>\n",
              "    </tr>\n",
              "    <tr>\n",
              "      <th>29</th>\n",
              "      <td>30</td>\n",
              "      <td>MONICA FIELDS</td>\n",
              "      <td>DEPUTY CHIEF OF DEPARTMENT,(FIRE DEPARTMENT)</td>\n",
              "      <td>246225.60</td>\n",
              "      <td>0.00</td>\n",
              "      <td>15140.54</td>\n",
              "      <td>0.00</td>\n",
              "      <td>261366.14</td>\n",
              "      <td>261366.14</td>\n",
              "      <td>2011</td>\n",
              "      <td>San Francisco</td>\n",
              "    </tr>\n",
              "    <tr>\n",
              "      <th>...</th>\n",
              "      <td>...</td>\n",
              "      <td>...</td>\n",
              "      <td>...</td>\n",
              "      <td>...</td>\n",
              "      <td>...</td>\n",
              "      <td>...</td>\n",
              "      <td>...</td>\n",
              "      <td>...</td>\n",
              "      <td>...</td>\n",
              "      <td>...</td>\n",
              "      <td>...</td>\n",
              "    </tr>\n",
              "    <tr>\n",
              "      <th>148619</th>\n",
              "      <td>148620</td>\n",
              "      <td>Ian V Cameron</td>\n",
              "      <td>IS Program Analyst-Assistant</td>\n",
              "      <td>6.04</td>\n",
              "      <td>0.00</td>\n",
              "      <td>10.05</td>\n",
              "      <td>2.30</td>\n",
              "      <td>16.09</td>\n",
              "      <td>18.39</td>\n",
              "      <td>2014</td>\n",
              "      <td>San Francisco</td>\n",
              "    </tr>\n",
              "    <tr>\n",
              "      <th>148620</th>\n",
              "      <td>148621</td>\n",
              "      <td>India C Sabater</td>\n",
              "      <td>Recreation Leader</td>\n",
              "      <td>15.50</td>\n",
              "      <td>0.00</td>\n",
              "      <td>0.00</td>\n",
              "      <td>0.16</td>\n",
              "      <td>15.50</td>\n",
              "      <td>15.66</td>\n",
              "      <td>2014</td>\n",
              "      <td>San Francisco</td>\n",
              "    </tr>\n",
              "    <tr>\n",
              "      <th>148621</th>\n",
              "      <td>148622</td>\n",
              "      <td>Kenneth Mackey</td>\n",
              "      <td>Transit Operator</td>\n",
              "      <td>0.00</td>\n",
              "      <td>0.00</td>\n",
              "      <td>15.35</td>\n",
              "      <td>0.00</td>\n",
              "      <td>15.35</td>\n",
              "      <td>15.35</td>\n",
              "      <td>2014</td>\n",
              "      <td>San Francisco</td>\n",
              "    </tr>\n",
              "    <tr>\n",
              "      <th>148622</th>\n",
              "      <td>148623</td>\n",
              "      <td>Jacqueline Hubbard</td>\n",
              "      <td>Senior Clerk</td>\n",
              "      <td>0.00</td>\n",
              "      <td>0.00</td>\n",
              "      <td>13.77</td>\n",
              "      <td>0.00</td>\n",
              "      <td>13.77</td>\n",
              "      <td>13.77</td>\n",
              "      <td>2014</td>\n",
              "      <td>San Francisco</td>\n",
              "    </tr>\n",
              "    <tr>\n",
              "      <th>148623</th>\n",
              "      <td>148624</td>\n",
              "      <td>Deborah B Honig</td>\n",
              "      <td>Attorney (Civil/Criminal)</td>\n",
              "      <td>0.00</td>\n",
              "      <td>0.00</td>\n",
              "      <td>13.35</td>\n",
              "      <td>0.13</td>\n",
              "      <td>13.35</td>\n",
              "      <td>13.48</td>\n",
              "      <td>2014</td>\n",
              "      <td>San Francisco</td>\n",
              "    </tr>\n",
              "    <tr>\n",
              "      <th>148624</th>\n",
              "      <td>148625</td>\n",
              "      <td>Lorraine Rosenthal</td>\n",
              "      <td>Senior Clerk</td>\n",
              "      <td>0.00</td>\n",
              "      <td>0.00</td>\n",
              "      <td>12.89</td>\n",
              "      <td>0.00</td>\n",
              "      <td>12.89</td>\n",
              "      <td>12.89</td>\n",
              "      <td>2014</td>\n",
              "      <td>San Francisco</td>\n",
              "    </tr>\n",
              "    <tr>\n",
              "      <th>148625</th>\n",
              "      <td>148626</td>\n",
              "      <td>Renato C Gurion</td>\n",
              "      <td>Registered Nurse</td>\n",
              "      <td>0.00</td>\n",
              "      <td>0.00</td>\n",
              "      <td>6.00</td>\n",
              "      <td>1.24</td>\n",
              "      <td>6.00</td>\n",
              "      <td>7.24</td>\n",
              "      <td>2014</td>\n",
              "      <td>San Francisco</td>\n",
              "    </tr>\n",
              "    <tr>\n",
              "      <th>148626</th>\n",
              "      <td>148627</td>\n",
              "      <td>Paulet Gaines</td>\n",
              "      <td>Account Clerk</td>\n",
              "      <td>0.00</td>\n",
              "      <td>0.00</td>\n",
              "      <td>0.00</td>\n",
              "      <td>0.00</td>\n",
              "      <td>0.00</td>\n",
              "      <td>0.00</td>\n",
              "      <td>2014</td>\n",
              "      <td>San Francisco</td>\n",
              "    </tr>\n",
              "    <tr>\n",
              "      <th>148627</th>\n",
              "      <td>148628</td>\n",
              "      <td>Brett A Lundberg</td>\n",
              "      <td>General Laborer</td>\n",
              "      <td>0.00</td>\n",
              "      <td>0.00</td>\n",
              "      <td>0.00</td>\n",
              "      <td>0.00</td>\n",
              "      <td>0.00</td>\n",
              "      <td>0.00</td>\n",
              "      <td>2014</td>\n",
              "      <td>San Francisco</td>\n",
              "    </tr>\n",
              "    <tr>\n",
              "      <th>148628</th>\n",
              "      <td>148629</td>\n",
              "      <td>Mark W Mcclure</td>\n",
              "      <td>General Laborer</td>\n",
              "      <td>0.00</td>\n",
              "      <td>0.00</td>\n",
              "      <td>0.00</td>\n",
              "      <td>0.00</td>\n",
              "      <td>0.00</td>\n",
              "      <td>0.00</td>\n",
              "      <td>2014</td>\n",
              "      <td>San Francisco</td>\n",
              "    </tr>\n",
              "    <tr>\n",
              "      <th>148629</th>\n",
              "      <td>148630</td>\n",
              "      <td>Elizabeth Iniguez</td>\n",
              "      <td>Transcriber Typist</td>\n",
              "      <td>0.00</td>\n",
              "      <td>0.00</td>\n",
              "      <td>0.00</td>\n",
              "      <td>0.00</td>\n",
              "      <td>0.00</td>\n",
              "      <td>0.00</td>\n",
              "      <td>2014</td>\n",
              "      <td>San Francisco</td>\n",
              "    </tr>\n",
              "    <tr>\n",
              "      <th>148630</th>\n",
              "      <td>148631</td>\n",
              "      <td>Randy J Keys</td>\n",
              "      <td>Carpenter</td>\n",
              "      <td>0.00</td>\n",
              "      <td>0.00</td>\n",
              "      <td>0.00</td>\n",
              "      <td>0.00</td>\n",
              "      <td>0.00</td>\n",
              "      <td>0.00</td>\n",
              "      <td>2014</td>\n",
              "      <td>San Francisco</td>\n",
              "    </tr>\n",
              "    <tr>\n",
              "      <th>148631</th>\n",
              "      <td>148632</td>\n",
              "      <td>Andre M Johnson</td>\n",
              "      <td>Communications Dispatcher 1</td>\n",
              "      <td>0.00</td>\n",
              "      <td>0.00</td>\n",
              "      <td>0.00</td>\n",
              "      <td>0.00</td>\n",
              "      <td>0.00</td>\n",
              "      <td>0.00</td>\n",
              "      <td>2014</td>\n",
              "      <td>San Francisco</td>\n",
              "    </tr>\n",
              "    <tr>\n",
              "      <th>148632</th>\n",
              "      <td>148633</td>\n",
              "      <td>Sharon D Owens-Webster</td>\n",
              "      <td>Protective Services Worker</td>\n",
              "      <td>0.00</td>\n",
              "      <td>0.00</td>\n",
              "      <td>0.00</td>\n",
              "      <td>0.00</td>\n",
              "      <td>0.00</td>\n",
              "      <td>0.00</td>\n",
              "      <td>2014</td>\n",
              "      <td>San Francisco</td>\n",
              "    </tr>\n",
              "    <tr>\n",
              "      <th>148633</th>\n",
              "      <td>148634</td>\n",
              "      <td>Edward Ferdinand</td>\n",
              "      <td>General Laborer</td>\n",
              "      <td>0.00</td>\n",
              "      <td>0.00</td>\n",
              "      <td>0.00</td>\n",
              "      <td>0.00</td>\n",
              "      <td>0.00</td>\n",
              "      <td>0.00</td>\n",
              "      <td>2014</td>\n",
              "      <td>San Francisco</td>\n",
              "    </tr>\n",
              "    <tr>\n",
              "      <th>148634</th>\n",
              "      <td>148635</td>\n",
              "      <td>David M Turner</td>\n",
              "      <td>Transit Car Cleaner</td>\n",
              "      <td>0.00</td>\n",
              "      <td>0.00</td>\n",
              "      <td>0.00</td>\n",
              "      <td>0.00</td>\n",
              "      <td>0.00</td>\n",
              "      <td>0.00</td>\n",
              "      <td>2014</td>\n",
              "      <td>San Francisco</td>\n",
              "    </tr>\n",
              "    <tr>\n",
              "      <th>148635</th>\n",
              "      <td>148636</td>\n",
              "      <td>James S Kibblewhite</td>\n",
              "      <td>General Laborer</td>\n",
              "      <td>0.00</td>\n",
              "      <td>0.00</td>\n",
              "      <td>0.00</td>\n",
              "      <td>0.00</td>\n",
              "      <td>0.00</td>\n",
              "      <td>0.00</td>\n",
              "      <td>2014</td>\n",
              "      <td>San Francisco</td>\n",
              "    </tr>\n",
              "    <tr>\n",
              "      <th>148636</th>\n",
              "      <td>148637</td>\n",
              "      <td>Andrew J Enzi</td>\n",
              "      <td>Arborist Technician</td>\n",
              "      <td>0.00</td>\n",
              "      <td>0.00</td>\n",
              "      <td>0.00</td>\n",
              "      <td>0.00</td>\n",
              "      <td>0.00</td>\n",
              "      <td>0.00</td>\n",
              "      <td>2014</td>\n",
              "      <td>San Francisco</td>\n",
              "    </tr>\n",
              "    <tr>\n",
              "      <th>148637</th>\n",
              "      <td>148638</td>\n",
              "      <td>Kadeshra D Green</td>\n",
              "      <td>Transit Fare Inspector</td>\n",
              "      <td>0.00</td>\n",
              "      <td>0.00</td>\n",
              "      <td>0.00</td>\n",
              "      <td>0.00</td>\n",
              "      <td>0.00</td>\n",
              "      <td>0.00</td>\n",
              "      <td>2014</td>\n",
              "      <td>San Francisco</td>\n",
              "    </tr>\n",
              "    <tr>\n",
              "      <th>148638</th>\n",
              "      <td>148639</td>\n",
              "      <td>Lennard B Hutchinson</td>\n",
              "      <td>Electrician</td>\n",
              "      <td>0.00</td>\n",
              "      <td>0.00</td>\n",
              "      <td>0.00</td>\n",
              "      <td>0.00</td>\n",
              "      <td>0.00</td>\n",
              "      <td>0.00</td>\n",
              "      <td>2014</td>\n",
              "      <td>San Francisco</td>\n",
              "    </tr>\n",
              "    <tr>\n",
              "      <th>148639</th>\n",
              "      <td>148640</td>\n",
              "      <td>Richard A Talbert</td>\n",
              "      <td>Custodian</td>\n",
              "      <td>0.00</td>\n",
              "      <td>0.00</td>\n",
              "      <td>0.00</td>\n",
              "      <td>0.00</td>\n",
              "      <td>0.00</td>\n",
              "      <td>0.00</td>\n",
              "      <td>2014</td>\n",
              "      <td>San Francisco</td>\n",
              "    </tr>\n",
              "    <tr>\n",
              "      <th>148640</th>\n",
              "      <td>148641</td>\n",
              "      <td>Charlene D Mccully</td>\n",
              "      <td>Parking Control Officer</td>\n",
              "      <td>0.00</td>\n",
              "      <td>0.00</td>\n",
              "      <td>0.00</td>\n",
              "      <td>0.00</td>\n",
              "      <td>0.00</td>\n",
              "      <td>0.00</td>\n",
              "      <td>2014</td>\n",
              "      <td>San Francisco</td>\n",
              "    </tr>\n",
              "    <tr>\n",
              "      <th>148641</th>\n",
              "      <td>148642</td>\n",
              "      <td>Raphael Marquis Goins</td>\n",
              "      <td>Museum Guard</td>\n",
              "      <td>0.00</td>\n",
              "      <td>0.00</td>\n",
              "      <td>0.00</td>\n",
              "      <td>0.00</td>\n",
              "      <td>0.00</td>\n",
              "      <td>0.00</td>\n",
              "      <td>2014</td>\n",
              "      <td>San Francisco</td>\n",
              "    </tr>\n",
              "    <tr>\n",
              "      <th>148642</th>\n",
              "      <td>148643</td>\n",
              "      <td>Dominic C Marquez</td>\n",
              "      <td>Sign Worker</td>\n",
              "      <td>0.00</td>\n",
              "      <td>0.00</td>\n",
              "      <td>0.00</td>\n",
              "      <td>0.00</td>\n",
              "      <td>0.00</td>\n",
              "      <td>0.00</td>\n",
              "      <td>2014</td>\n",
              "      <td>San Francisco</td>\n",
              "    </tr>\n",
              "    <tr>\n",
              "      <th>148643</th>\n",
              "      <td>148644</td>\n",
              "      <td>Kim Brewer</td>\n",
              "      <td>Parking Control Officer</td>\n",
              "      <td>0.00</td>\n",
              "      <td>0.00</td>\n",
              "      <td>0.00</td>\n",
              "      <td>0.00</td>\n",
              "      <td>0.00</td>\n",
              "      <td>0.00</td>\n",
              "      <td>2014</td>\n",
              "      <td>San Francisco</td>\n",
              "    </tr>\n",
              "    <tr>\n",
              "      <th>148644</th>\n",
              "      <td>148645</td>\n",
              "      <td>Randy D Winn</td>\n",
              "      <td>Stationary Eng, Sewage Plant</td>\n",
              "      <td>0.00</td>\n",
              "      <td>0.00</td>\n",
              "      <td>0.00</td>\n",
              "      <td>0.00</td>\n",
              "      <td>0.00</td>\n",
              "      <td>0.00</td>\n",
              "      <td>2014</td>\n",
              "      <td>San Francisco</td>\n",
              "    </tr>\n",
              "    <tr>\n",
              "      <th>148645</th>\n",
              "      <td>148646</td>\n",
              "      <td>Carolyn A Wilson</td>\n",
              "      <td>Human Services Technician</td>\n",
              "      <td>0.00</td>\n",
              "      <td>0.00</td>\n",
              "      <td>0.00</td>\n",
              "      <td>0.00</td>\n",
              "      <td>0.00</td>\n",
              "      <td>0.00</td>\n",
              "      <td>2014</td>\n",
              "      <td>San Francisco</td>\n",
              "    </tr>\n",
              "    <tr>\n",
              "      <th>148647</th>\n",
              "      <td>148648</td>\n",
              "      <td>Joann Anderson</td>\n",
              "      <td>Communications Dispatcher 2</td>\n",
              "      <td>0.00</td>\n",
              "      <td>0.00</td>\n",
              "      <td>0.00</td>\n",
              "      <td>0.00</td>\n",
              "      <td>0.00</td>\n",
              "      <td>0.00</td>\n",
              "      <td>2014</td>\n",
              "      <td>San Francisco</td>\n",
              "    </tr>\n",
              "    <tr>\n",
              "      <th>148648</th>\n",
              "      <td>148649</td>\n",
              "      <td>Leon Walker</td>\n",
              "      <td>Custodian</td>\n",
              "      <td>0.00</td>\n",
              "      <td>0.00</td>\n",
              "      <td>0.00</td>\n",
              "      <td>0.00</td>\n",
              "      <td>0.00</td>\n",
              "      <td>0.00</td>\n",
              "      <td>2014</td>\n",
              "      <td>San Francisco</td>\n",
              "    </tr>\n",
              "    <tr>\n",
              "      <th>148649</th>\n",
              "      <td>148650</td>\n",
              "      <td>Roy I Tillery</td>\n",
              "      <td>Custodian</td>\n",
              "      <td>0.00</td>\n",
              "      <td>0.00</td>\n",
              "      <td>0.00</td>\n",
              "      <td>0.00</td>\n",
              "      <td>0.00</td>\n",
              "      <td>0.00</td>\n",
              "      <td>2014</td>\n",
              "      <td>San Francisco</td>\n",
              "    </tr>\n",
              "  </tbody>\n",
              "</table>\n",
              "<p>148646 rows × 11 columns</p>\n",
              "</div>"
            ],
            "text/plain": [
              "            Id            EmployeeName  ...  Year         Agency\n",
              "0            1          NATHANIEL FORD  ...  2011  San Francisco\n",
              "1            2            GARY JIMENEZ  ...  2011  San Francisco\n",
              "2            3          ALBERT PARDINI  ...  2011  San Francisco\n",
              "3            4       CHRISTOPHER CHONG  ...  2011  San Francisco\n",
              "4            5         PATRICK GARDNER  ...  2011  San Francisco\n",
              "5            6          DAVID SULLIVAN  ...  2011  San Francisco\n",
              "6            7               ALSON LEE  ...  2011  San Francisco\n",
              "7            8           DAVID KUSHNER  ...  2011  San Francisco\n",
              "8            9          MICHAEL MORRIS  ...  2011  San Francisco\n",
              "9           10      JOANNE HAYES-WHITE  ...  2011  San Francisco\n",
              "10          11           ARTHUR KENNEY  ...  2011  San Francisco\n",
              "11          12        PATRICIA JACKSON  ...  2011  San Francisco\n",
              "12          13       EDWARD HARRINGTON  ...  2011  San Francisco\n",
              "13          14             JOHN MARTIN  ...  2011  San Francisco\n",
              "14          15          DAVID FRANKLIN  ...  2011  San Francisco\n",
              "15          16         RICHARD CORRIEA  ...  2011  San Francisco\n",
              "16          17                AMY HART  ...  2011  San Francisco\n",
              "17          18          SEBASTIAN WONG  ...  2011  San Francisco\n",
              "18          19              MARTY ROSS  ...  2011  San Francisco\n",
              "19          20           ELLEN MOFFATT  ...  2011  San Francisco\n",
              "20          21              VENUS AZAR  ...  2011  San Francisco\n",
              "21          22            JUDY MELINEK  ...  2011  San Francisco\n",
              "22          23           GEORGE GARCIA  ...  2011  San Francisco\n",
              "23          24           VICTOR WYRSCH  ...  2011  San Francisco\n",
              "24          25         JOSEPH DRISCOLL  ...  2011  San Francisco\n",
              "25          26            GREGORY SUHR  ...  2011  San Francisco\n",
              "26          27             JOHN HANLEY  ...  2011  San Francisco\n",
              "27          28          RAYMOND GUZMAN  ...  2011  San Francisco\n",
              "28          29          DENISE SCHMITT  ...  2011  San Francisco\n",
              "29          30           MONICA FIELDS  ...  2011  San Francisco\n",
              "...        ...                     ...  ...   ...            ...\n",
              "148619  148620           Ian V Cameron  ...  2014  San Francisco\n",
              "148620  148621         India C Sabater  ...  2014  San Francisco\n",
              "148621  148622          Kenneth Mackey  ...  2014  San Francisco\n",
              "148622  148623      Jacqueline Hubbard  ...  2014  San Francisco\n",
              "148623  148624         Deborah B Honig  ...  2014  San Francisco\n",
              "148624  148625      Lorraine Rosenthal  ...  2014  San Francisco\n",
              "148625  148626         Renato C Gurion  ...  2014  San Francisco\n",
              "148626  148627           Paulet Gaines  ...  2014  San Francisco\n",
              "148627  148628        Brett A Lundberg  ...  2014  San Francisco\n",
              "148628  148629          Mark W Mcclure  ...  2014  San Francisco\n",
              "148629  148630       Elizabeth Iniguez  ...  2014  San Francisco\n",
              "148630  148631            Randy J Keys  ...  2014  San Francisco\n",
              "148631  148632         Andre M Johnson  ...  2014  San Francisco\n",
              "148632  148633  Sharon D Owens-Webster  ...  2014  San Francisco\n",
              "148633  148634        Edward Ferdinand  ...  2014  San Francisco\n",
              "148634  148635          David M Turner  ...  2014  San Francisco\n",
              "148635  148636     James S Kibblewhite  ...  2014  San Francisco\n",
              "148636  148637           Andrew J Enzi  ...  2014  San Francisco\n",
              "148637  148638        Kadeshra D Green  ...  2014  San Francisco\n",
              "148638  148639    Lennard B Hutchinson  ...  2014  San Francisco\n",
              "148639  148640       Richard A Talbert  ...  2014  San Francisco\n",
              "148640  148641      Charlene D Mccully  ...  2014  San Francisco\n",
              "148641  148642   Raphael Marquis Goins  ...  2014  San Francisco\n",
              "148642  148643       Dominic C Marquez  ...  2014  San Francisco\n",
              "148643  148644              Kim Brewer  ...  2014  San Francisco\n",
              "148644  148645            Randy D Winn  ...  2014  San Francisco\n",
              "148645  148646        Carolyn A Wilson  ...  2014  San Francisco\n",
              "148647  148648          Joann Anderson  ...  2014  San Francisco\n",
              "148648  148649             Leon Walker  ...  2014  San Francisco\n",
              "148649  148650           Roy I Tillery  ...  2014  San Francisco\n",
              "\n",
              "[148646 rows x 11 columns]"
            ]
          },
          "metadata": {
            "tags": []
          },
          "execution_count": 70
        }
      ]
    },
    {
      "cell_type": "markdown",
      "metadata": {
        "id": "mPny_KZsPm1Z",
        "colab_type": "text"
      },
      "source": [
        "**Identify any errors or miscoding of variables**"
      ]
    },
    {
      "cell_type": "code",
      "metadata": {
        "id": "9K85MLVzPm1Z",
        "colab_type": "code",
        "outputId": "8f8c03bc-7035-4d05-cf78-627681812af5",
        "colab": {}
      },
      "source": [
        "# Check the unique values of Year\n",
        "# Your code here"
      ],
      "execution_count": 0,
      "outputs": [
        {
          "output_type": "execute_result",
          "data": {
            "text/plain": [
              "[2011, 2012, 2013, 2014]\n",
              "Categories (4, int64): [2011, 2012, 2013, 2014]"
            ]
          },
          "metadata": {
            "tags": []
          },
          "execution_count": 242
        }
      ]
    },
    {
      "cell_type": "code",
      "metadata": {
        "id": "uYsnDK6iPVGn",
        "colab_type": "code",
        "colab": {
          "base_uri": "https://localhost:8080/",
          "height": 51
        },
        "outputId": "d7487a04-5560-441d-cf93-70b18591b379"
      },
      "source": [
        "sal['Year'].unique()"
      ],
      "execution_count": 71,
      "outputs": [
        {
          "output_type": "execute_result",
          "data": {
            "text/plain": [
              "[2011, 2012, 2013, 2014]\n",
              "Categories (4, int64): [2011, 2012, 2013, 2014]"
            ]
          },
          "metadata": {
            "tags": []
          },
          "execution_count": 71
        }
      ]
    },
    {
      "cell_type": "markdown",
      "metadata": {
        "id": "c56z5tkKPm1c",
        "colab_type": "text"
      },
      "source": [
        "Check duplication"
      ]
    },
    {
      "cell_type": "code",
      "metadata": {
        "id": "_JW2GOxIPm1c",
        "colab_type": "code",
        "colab": {}
      },
      "source": [
        "# Apply strip() on EmployeeName and Jobtitle \n",
        "# to remove all the leading and trailing spaces\n",
        "# Fill the blanks\n",
        "sal['EmployeeName'] = sal['EmployeeName'].str.strip()\n",
        "sal['JobTitle'] = sal['JobTitle'].str.strip()"
      ],
      "execution_count": 0,
      "outputs": []
    },
    {
      "cell_type": "code",
      "metadata": {
        "id": "ZCl0vCkbPm1e",
        "colab_type": "code",
        "outputId": "8b5aa63e-c50a-423d-c78c-007f1538b92a",
        "colab": {
          "base_uri": "https://localhost:8080/",
          "height": 34
        }
      },
      "source": [
        "# Check the number of unique value of EmployeeName\n",
        "sal['EmployeeName'].nunique()"
      ],
      "execution_count": 74,
      "outputs": [
        {
          "output_type": "execute_result",
          "data": {
            "text/plain": [
              "110810"
            ]
          },
          "metadata": {
            "tags": []
          },
          "execution_count": 74
        }
      ]
    },
    {
      "cell_type": "code",
      "metadata": {
        "id": "AjoEmOqOPm1i",
        "colab_type": "code",
        "outputId": "755edaec-4687-4ae2-c6f6-415c3b694874",
        "colab": {
          "base_uri": "https://localhost:8080/",
          "height": 34
        }
      },
      "source": [
        "# Check the number of unique value of EmployeeName in lower case\n",
        "# Fill the blanks\n",
        "sal['EmployeeName'].str.lower().nunique()"
      ],
      "execution_count": 76,
      "outputs": [
        {
          "output_type": "execute_result",
          "data": {
            "text/plain": [
              "80459"
            ]
          },
          "metadata": {
            "tags": []
          },
          "execution_count": 76
        }
      ]
    },
    {
      "cell_type": "code",
      "metadata": {
        "id": "xkHpzbNpPm1l",
        "colab_type": "code",
        "outputId": "1b837dd4-b772-4eb5-f7be-5e142697bb8d",
        "colab": {
          "base_uri": "https://localhost:8080/",
          "height": 51
        }
      },
      "source": [
        "# Do the same with JobTitle\n",
        "# Fill the blank\n",
        "print(sal['JobTitle'].nunique())\n",
        "print(sal['JobTitle'].str.lower().nunique())"
      ],
      "execution_count": 77,
      "outputs": [
        {
          "output_type": "stream",
          "text": [
            "2158\n",
            "1636\n"
          ],
          "name": "stdout"
        }
      ]
    },
    {
      "cell_type": "markdown",
      "metadata": {
        "id": "zk5YVTK5QIwu",
        "colab_type": "text"
      },
      "source": [
        "----"
      ]
    },
    {
      "cell_type": "code",
      "metadata": {
        "id": "-JLeksePPm1r",
        "colab_type": "code",
        "outputId": "9c391fbf-8fe6-49bd-f5c3-aacb38db216e",
        "colab": {
          "base_uri": "https://localhost:8080/",
          "height": 1000
        }
      },
      "source": [
        "# Select the most common name\n",
        "# Something wrong, fix the error\n",
        "names = sal['EmployeeName'].str.lower().value_counts()\n",
        "# names\n",
        "sample = names[names > 1].head(1).index\n",
        "# sample\n",
        "sal[sal['EmployeeName'].str.lower().isin(sample)]"
      ],
      "execution_count": 88,
      "outputs": [
        {
          "output_type": "execute_result",
          "data": {
            "text/html": [
              "<div>\n",
              "<style scoped>\n",
              "    .dataframe tbody tr th:only-of-type {\n",
              "        vertical-align: middle;\n",
              "    }\n",
              "\n",
              "    .dataframe tbody tr th {\n",
              "        vertical-align: top;\n",
              "    }\n",
              "\n",
              "    .dataframe thead th {\n",
              "        text-align: right;\n",
              "    }\n",
              "</style>\n",
              "<table border=\"1\" class=\"dataframe\">\n",
              "  <thead>\n",
              "    <tr style=\"text-align: right;\">\n",
              "      <th></th>\n",
              "      <th>Id</th>\n",
              "      <th>EmployeeName</th>\n",
              "      <th>JobTitle</th>\n",
              "      <th>BasePay</th>\n",
              "      <th>OvertimePay</th>\n",
              "      <th>OtherPay</th>\n",
              "      <th>Benefits</th>\n",
              "      <th>TotalPay</th>\n",
              "      <th>TotalPayBenefits</th>\n",
              "      <th>Year</th>\n",
              "      <th>Agency</th>\n",
              "    </tr>\n",
              "  </thead>\n",
              "  <tbody>\n",
              "    <tr>\n",
              "      <th>3824</th>\n",
              "      <td>3825</td>\n",
              "      <td>KEVIN LEE</td>\n",
              "      <td>POLICE OFFICER III</td>\n",
              "      <td>112401.08</td>\n",
              "      <td>19374.72</td>\n",
              "      <td>1062.10</td>\n",
              "      <td>0.00</td>\n",
              "      <td>132837.90</td>\n",
              "      <td>132837.90</td>\n",
              "      <td>2011</td>\n",
              "      <td>San Francisco</td>\n",
              "    </tr>\n",
              "    <tr>\n",
              "      <th>4036</th>\n",
              "      <td>4037</td>\n",
              "      <td>KEVIN LEE</td>\n",
              "      <td>POLICE OFFICER II</td>\n",
              "      <td>108000.94</td>\n",
              "      <td>17468.40</td>\n",
              "      <td>6025.54</td>\n",
              "      <td>0.00</td>\n",
              "      <td>131494.88</td>\n",
              "      <td>131494.88</td>\n",
              "      <td>2011</td>\n",
              "      <td>San Francisco</td>\n",
              "    </tr>\n",
              "    <tr>\n",
              "      <th>5279</th>\n",
              "      <td>5280</td>\n",
              "      <td>KEVIN LEE</td>\n",
              "      <td>ELECTRICAL TRANSIT SYSTEM MECHANIC</td>\n",
              "      <td>77580.68</td>\n",
              "      <td>36378.97</td>\n",
              "      <td>8858.96</td>\n",
              "      <td>0.00</td>\n",
              "      <td>122818.61</td>\n",
              "      <td>122818.61</td>\n",
              "      <td>2011</td>\n",
              "      <td>San Francisco</td>\n",
              "    </tr>\n",
              "    <tr>\n",
              "      <th>13169</th>\n",
              "      <td>13170</td>\n",
              "      <td>KEVIN LEE</td>\n",
              "      <td>DEPUTY COURT CLERK III</td>\n",
              "      <td>83693.01</td>\n",
              "      <td>0.00</td>\n",
              "      <td>609.60</td>\n",
              "      <td>0.00</td>\n",
              "      <td>84302.61</td>\n",
              "      <td>84302.61</td>\n",
              "      <td>2011</td>\n",
              "      <td>San Francisco</td>\n",
              "    </tr>\n",
              "    <tr>\n",
              "      <th>13419</th>\n",
              "      <td>13420</td>\n",
              "      <td>KEVIN LEE</td>\n",
              "      <td>DEPUTY COURT CLERK III</td>\n",
              "      <td>83560.00</td>\n",
              "      <td>0.00</td>\n",
              "      <td>0.00</td>\n",
              "      <td>0.00</td>\n",
              "      <td>83560.00</td>\n",
              "      <td>83560.00</td>\n",
              "      <td>2011</td>\n",
              "      <td>San Francisco</td>\n",
              "    </tr>\n",
              "    <tr>\n",
              "      <th>15312</th>\n",
              "      <td>15313</td>\n",
              "      <td>KEVIN LEE</td>\n",
              "      <td>PERSONNEL ANALYST</td>\n",
              "      <td>76786.31</td>\n",
              "      <td>0.00</td>\n",
              "      <td>0.00</td>\n",
              "      <td>0.00</td>\n",
              "      <td>76786.31</td>\n",
              "      <td>76786.31</td>\n",
              "      <td>2011</td>\n",
              "      <td>San Francisco</td>\n",
              "    </tr>\n",
              "    <tr>\n",
              "      <th>17163</th>\n",
              "      <td>17164</td>\n",
              "      <td>KEVIN LEE</td>\n",
              "      <td>SENIOR PARKING CONTROL OFFICER</td>\n",
              "      <td>65324.60</td>\n",
              "      <td>4944.02</td>\n",
              "      <td>686.93</td>\n",
              "      <td>0.00</td>\n",
              "      <td>70955.55</td>\n",
              "      <td>70955.55</td>\n",
              "      <td>2011</td>\n",
              "      <td>San Francisco</td>\n",
              "    </tr>\n",
              "    <tr>\n",
              "      <th>17646</th>\n",
              "      <td>17647</td>\n",
              "      <td>KEVIN LEE</td>\n",
              "      <td>IS ADMINISTRATOR II</td>\n",
              "      <td>66349.74</td>\n",
              "      <td>718.23</td>\n",
              "      <td>2325.47</td>\n",
              "      <td>0.00</td>\n",
              "      <td>69393.44</td>\n",
              "      <td>69393.44</td>\n",
              "      <td>2011</td>\n",
              "      <td>San Francisco</td>\n",
              "    </tr>\n",
              "    <tr>\n",
              "      <th>27053</th>\n",
              "      <td>27054</td>\n",
              "      <td>KEVIN LEE</td>\n",
              "      <td>TRANSIT OPERATOR</td>\n",
              "      <td>31501.33</td>\n",
              "      <td>5003.46</td>\n",
              "      <td>770.75</td>\n",
              "      <td>0.00</td>\n",
              "      <td>37275.54</td>\n",
              "      <td>37275.54</td>\n",
              "      <td>2011</td>\n",
              "      <td>San Francisco</td>\n",
              "    </tr>\n",
              "    <tr>\n",
              "      <th>39715</th>\n",
              "      <td>39716</td>\n",
              "      <td>Kevin Lee</td>\n",
              "      <td>Police Officer 3</td>\n",
              "      <td>115866.90</td>\n",
              "      <td>23523.30</td>\n",
              "      <td>9313.54</td>\n",
              "      <td>34906.20</td>\n",
              "      <td>148703.74</td>\n",
              "      <td>183609.94</td>\n",
              "      <td>2012</td>\n",
              "      <td>San Francisco</td>\n",
              "    </tr>\n",
              "    <tr>\n",
              "      <th>40570</th>\n",
              "      <td>40571</td>\n",
              "      <td>Kevin Lee</td>\n",
              "      <td>Police Officer 3</td>\n",
              "      <td>117171.41</td>\n",
              "      <td>19606.88</td>\n",
              "      <td>4244.90</td>\n",
              "      <td>34610.10</td>\n",
              "      <td>141023.19</td>\n",
              "      <td>175633.29</td>\n",
              "      <td>2012</td>\n",
              "      <td>San Francisco</td>\n",
              "    </tr>\n",
              "    <tr>\n",
              "      <th>42510</th>\n",
              "      <td>42511</td>\n",
              "      <td>Kevin Lee</td>\n",
              "      <td>Electrical Transit System Mech</td>\n",
              "      <td>79220.54</td>\n",
              "      <td>40247.39</td>\n",
              "      <td>3353.49</td>\n",
              "      <td>38781.04</td>\n",
              "      <td>122821.42</td>\n",
              "      <td>161602.46</td>\n",
              "      <td>2012</td>\n",
              "      <td>San Francisco</td>\n",
              "    </tr>\n",
              "    <tr>\n",
              "      <th>49270</th>\n",
              "      <td>49271</td>\n",
              "      <td>Kevin Lee</td>\n",
              "      <td>Deputy Court Clerk III</td>\n",
              "      <td>84512.32</td>\n",
              "      <td>0.00</td>\n",
              "      <td>1469.99</td>\n",
              "      <td>36080.30</td>\n",
              "      <td>85982.31</td>\n",
              "      <td>122062.61</td>\n",
              "      <td>2012</td>\n",
              "      <td>San Francisco</td>\n",
              "    </tr>\n",
              "    <tr>\n",
              "      <th>49439</th>\n",
              "      <td>49440</td>\n",
              "      <td>Kevin Lee</td>\n",
              "      <td>Deputy Court Clerk III</td>\n",
              "      <td>84512.34</td>\n",
              "      <td>0.00</td>\n",
              "      <td>975.44</td>\n",
              "      <td>35902.02</td>\n",
              "      <td>85487.78</td>\n",
              "      <td>121389.80</td>\n",
              "      <td>2012</td>\n",
              "      <td>San Francisco</td>\n",
              "    </tr>\n",
              "    <tr>\n",
              "      <th>50123</th>\n",
              "      <td>50124</td>\n",
              "      <td>Kevin Lee</td>\n",
              "      <td>Personnel Analyst</td>\n",
              "      <td>83382.00</td>\n",
              "      <td>0.00</td>\n",
              "      <td>0.00</td>\n",
              "      <td>35210.59</td>\n",
              "      <td>83382.00</td>\n",
              "      <td>118592.59</td>\n",
              "      <td>2012</td>\n",
              "      <td>San Francisco</td>\n",
              "    </tr>\n",
              "    <tr>\n",
              "      <th>52233</th>\n",
              "      <td>52234</td>\n",
              "      <td>Kevin Lee</td>\n",
              "      <td>Senior Parking Control Officer</td>\n",
              "      <td>66774.03</td>\n",
              "      <td>9599.08</td>\n",
              "      <td>1092.62</td>\n",
              "      <td>31902.38</td>\n",
              "      <td>77465.73</td>\n",
              "      <td>109368.11</td>\n",
              "      <td>2012</td>\n",
              "      <td>San Francisco</td>\n",
              "    </tr>\n",
              "    <tr>\n",
              "      <th>53931</th>\n",
              "      <td>53932</td>\n",
              "      <td>Kevin Lee</td>\n",
              "      <td>Transit Operator</td>\n",
              "      <td>57397.32</td>\n",
              "      <td>9989.83</td>\n",
              "      <td>1800.48</td>\n",
              "      <td>34577.54</td>\n",
              "      <td>69187.63</td>\n",
              "      <td>103765.17</td>\n",
              "      <td>2012</td>\n",
              "      <td>San Francisco</td>\n",
              "    </tr>\n",
              "    <tr>\n",
              "      <th>55119</th>\n",
              "      <td>55120</td>\n",
              "      <td>Kevin Lee</td>\n",
              "      <td>IS Administrator 2</td>\n",
              "      <td>68940.44</td>\n",
              "      <td>0.00</td>\n",
              "      <td>0.00</td>\n",
              "      <td>30650.48</td>\n",
              "      <td>68940.44</td>\n",
              "      <td>99590.92</td>\n",
              "      <td>2012</td>\n",
              "      <td>San Francisco</td>\n",
              "    </tr>\n",
              "    <tr>\n",
              "      <th>112385</th>\n",
              "      <td>112386</td>\n",
              "      <td>Kevin Lee</td>\n",
              "      <td>Sergeant 3</td>\n",
              "      <td>137982.14</td>\n",
              "      <td>18537.19</td>\n",
              "      <td>16039.62</td>\n",
              "      <td>43039.12</td>\n",
              "      <td>172558.95</td>\n",
              "      <td>215598.07</td>\n",
              "      <td>2014</td>\n",
              "      <td>San Francisco</td>\n",
              "    </tr>\n",
              "    <tr>\n",
              "      <th>123141</th>\n",
              "      <td>123142</td>\n",
              "      <td>Kevin Lee</td>\n",
              "      <td>IT Operations Support Admin IV</td>\n",
              "      <td>91606.03</td>\n",
              "      <td>0.00</td>\n",
              "      <td>1013.00</td>\n",
              "      <td>34109.61</td>\n",
              "      <td>92619.03</td>\n",
              "      <td>126728.64</td>\n",
              "      <td>2014</td>\n",
              "      <td>San Francisco</td>\n",
              "    </tr>\n",
              "    <tr>\n",
              "      <th>124165</th>\n",
              "      <td>124166</td>\n",
              "      <td>Kevin Lee</td>\n",
              "      <td>Personnel Analyst</td>\n",
              "      <td>88353.01</td>\n",
              "      <td>0.00</td>\n",
              "      <td>0.00</td>\n",
              "      <td>33172.33</td>\n",
              "      <td>88353.01</td>\n",
              "      <td>121525.34</td>\n",
              "      <td>2014</td>\n",
              "      <td>San Francisco</td>\n",
              "    </tr>\n",
              "    <tr>\n",
              "      <th>124658</th>\n",
              "      <td>124659</td>\n",
              "      <td>Kevin Lee</td>\n",
              "      <td>Transit Operator</td>\n",
              "      <td>67230.30</td>\n",
              "      <td>10961.25</td>\n",
              "      <td>4050.85</td>\n",
              "      <td>36777.83</td>\n",
              "      <td>82242.40</td>\n",
              "      <td>119020.23</td>\n",
              "      <td>2014</td>\n",
              "      <td>San Francisco</td>\n",
              "    </tr>\n",
              "  </tbody>\n",
              "</table>\n",
              "</div>"
            ],
            "text/plain": [
              "            Id EmployeeName  ...  Year         Agency\n",
              "3824      3825    KEVIN LEE  ...  2011  San Francisco\n",
              "4036      4037    KEVIN LEE  ...  2011  San Francisco\n",
              "5279      5280    KEVIN LEE  ...  2011  San Francisco\n",
              "13169    13170    KEVIN LEE  ...  2011  San Francisco\n",
              "13419    13420    KEVIN LEE  ...  2011  San Francisco\n",
              "15312    15313    KEVIN LEE  ...  2011  San Francisco\n",
              "17163    17164    KEVIN LEE  ...  2011  San Francisco\n",
              "17646    17647    KEVIN LEE  ...  2011  San Francisco\n",
              "27053    27054    KEVIN LEE  ...  2011  San Francisco\n",
              "39715    39716    Kevin Lee  ...  2012  San Francisco\n",
              "40570    40571    Kevin Lee  ...  2012  San Francisco\n",
              "42510    42511    Kevin Lee  ...  2012  San Francisco\n",
              "49270    49271    Kevin Lee  ...  2012  San Francisco\n",
              "49439    49440    Kevin Lee  ...  2012  San Francisco\n",
              "50123    50124    Kevin Lee  ...  2012  San Francisco\n",
              "52233    52234    Kevin Lee  ...  2012  San Francisco\n",
              "53931    53932    Kevin Lee  ...  2012  San Francisco\n",
              "55119    55120    Kevin Lee  ...  2012  San Francisco\n",
              "112385  112386    Kevin Lee  ...  2014  San Francisco\n",
              "123141  123142    Kevin Lee  ...  2014  San Francisco\n",
              "124165  124166    Kevin Lee  ...  2014  San Francisco\n",
              "124658  124659    Kevin Lee  ...  2014  San Francisco\n",
              "\n",
              "[22 rows x 11 columns]"
            ]
          },
          "metadata": {
            "tags": []
          },
          "execution_count": 88
        }
      ]
    },
    {
      "cell_type": "markdown",
      "metadata": {
        "id": "zB_Fu1c9Pm1u",
        "colab_type": "text"
      },
      "source": [
        "*The names are duplicated because the data describes one person in different years or just because there are people who have same name. It's ok so we only need to uppercase all of the name to eliminate case sensitive.*\n",
        "\n",
        "*But there are definitely some duplication of Job Title, example `Police Officer 3` and `POLICE OFFICER III`*"
      ]
    },
    {
      "cell_type": "code",
      "metadata": {
        "id": "Ufw8QW-6Pm1u",
        "colab_type": "code",
        "colab": {}
      },
      "source": [
        "# Replace Name and Job Title with its uppercase\n",
        "# Fill the blanks\n",
        "sal['EmployeeName'] = sal['EmployeeName'].str.upper()\n",
        "sal['JobTitle'] = sal['JobTitle'].str.upper()"
      ],
      "execution_count": 0,
      "outputs": []
    },
    {
      "cell_type": "code",
      "metadata": {
        "id": "heSYToXzPm1x",
        "colab_type": "code",
        "colab": {
          "base_uri": "https://localhost:8080/",
          "height": 1000
        },
        "outputId": "40f269c3-9bc2-417a-8a0f-6e3e4559b8ed"
      },
      "source": [
        "# Write a regular expression to select JobTitle that ends with a digit\n",
        "# Fill the blank\n",
        "sal['JobTitle'][sal['JobTitle'].str.contains('\\d+$', regex=True)].value_counts()"
      ],
      "execution_count": 103,
      "outputs": [
        {
          "output_type": "execute_result",
          "data": {
            "text/plain": [
              "POLICE OFFICER 3                 2421\n",
              "POLICE OFFICER 2                 1141\n",
              "SERGEANT 3                       1047\n",
              "LIBRARIAN 1                       530\n",
              "HEALTH WORKER 3                   438\n",
              "HEALTH WORKER 2                   415\n",
              "INSPECTOR 3                       318\n",
              "LIEUTENANT 3                      303\n",
              "SECRETARY 2                       301\n",
              "LIBRARY TECHNICAL ASSISTANT 1     237\n",
              "EXECUTIVE SECRETARY 1             184\n",
              "LEGAL SECRETARY 1                 184\n",
              "EXECUTIVE SECRETARY 2             178\n",
              "HEALTH CARE BILLING CLERK 2       177\n",
              "LIBRARIAN 2                       174\n",
              "PLANNER 3                         174\n",
              "EMPLOYMENT & TRAINING SPEC 3      167\n",
              "HEALTH PROGRAM COORDINATOR 3      167\n",
              "HEALTH WORKER 1                   163\n",
              "SR. COMMUNITY DEVL SPC 1          148\n",
              "GENERAL LABORER SUPERVISOR 1      137\n",
              "SERGEANT 2                        131\n",
              "IS ADMINISTRATOR 2                113\n",
              "PLANNER 2                         106\n",
              "COMMUNICATIONS DISPATCHER 1       106\n",
              "CAPTAIN 3                         101\n",
              "ENGINEERING ASSOCIATE 1            99\n",
              "LIBRARY TECHNICAL ASSISTANT 2      96\n",
              "CONTRACT COMPLIANCE OFFICER 1      96\n",
              "COMMUNICATIONS DISPATCHER 2        88\n",
              "                                 ... \n",
              "ASPHALT PLANT SUPERVISOR 1          3\n",
              "ORNAMENTAL IRON WRK SPRV 1          3\n",
              "BD/COMM SECRETARY 3                 3\n",
              "ASST DIR OF CLINICAL SVCS 1         3\n",
              "ORTHOPEDIC TECHNICIAN 2             3\n",
              "TRNST POWER LINE WRK SPRV 2         3\n",
              "PLUMBER SUPERVISOR 2                3\n",
              "POWER PLANT SUPERVISOR 1            3\n",
              "EMPLOYMENT & TRAINING SPEC 6        3\n",
              "SPECIAL ASSISTANT 15                3\n",
              "SPECIAL ASSISTANT 14                3\n",
              "WHARFINGER 1                        3\n",
              "SHEET METAL WRK SUPERVISOR 2        3\n",
              "AUTO BODY & FENDER WRK SPRV 1       3\n",
              "SPECIALIST IN AGING 2               3\n",
              "ELECTRIC MOTOR REPAIR SPRV 1        3\n",
              "ORTHOPEDIC TECHNICIAN 1             3\n",
              "ROOFER SUPERVISOR 1                 3\n",
              "GLAZIER SUPERVISOR 1                2\n",
              "WATER METER SHOP SUPERVISOR 1       2\n",
              "ENVIRONMENTAL HLTH TECH 2           2\n",
              "SPECIAL ASSISTANT 11                2\n",
              "SPECIAL ASSISTANT 16                2\n",
              "CEMENT FINISHER SUPERVISOR 2        2\n",
              "TRANSIT PAINT SHOP SPRV1            2\n",
              "ASST DIR CLINICAL SVCS 2            1\n",
              "SPECIAL ASSISTANT 13                1\n",
              "CASHIER 3                           1\n",
              "SPECIAL ASSISTANT 18                1\n",
              "SPECIAL ASSISTANT 8                 1\n",
              "Name: JobTitle, Length: 166, dtype: int64"
            ]
          },
          "metadata": {
            "tags": []
          },
          "execution_count": 103
        }
      ]
    },
    {
      "cell_type": "code",
      "metadata": {
        "id": "xaYYbPRPPm10",
        "colab_type": "code",
        "outputId": "a9987328-e924-49e0-d24b-342adeb50220",
        "colab": {
          "base_uri": "https://localhost:8080/",
          "height": 136
        }
      },
      "source": [
        "# Write a regex that count all JobTitle start with POLICE OFFICER\n",
        "# Fill the blank\n",
        "sal['JobTitle'][sal['JobTitle'].str.contains('^(POLICE OFFICER)', regex=True)].value_counts()"
      ],
      "execution_count": 104,
      "outputs": [
        {
          "output_type": "execute_result",
          "data": {
            "text/plain": [
              "POLICE OFFICER 3      2421\n",
              "POLICE OFFICER        1476\n",
              "POLICE OFFICER 2      1141\n",
              "POLICE OFFICER III     779\n",
              "POLICE OFFICER I       467\n",
              "POLICE OFFICER II      361\n",
              "Name: JobTitle, dtype: int64"
            ]
          },
          "metadata": {
            "tags": []
          },
          "execution_count": 104
        }
      ]
    },
    {
      "cell_type": "markdown",
      "metadata": {
        "id": "1u2obTwpT55c",
        "colab_type": "text"
      },
      "source": [
        "There are discrepancies on how those `JobTitle` are represented. For instance: `POLICE OFFICER II` is `POLICE OFFICER 2` and those should be treated equally.\n",
        "\n",
        "We'll modify this feature accordingly by transforming all the Roman numbers  to our every day numbers.\n"
      ]
    },
    {
      "cell_type": "code",
      "metadata": {
        "id": "V1eYSjo0Pm12",
        "colab_type": "code",
        "outputId": "e8b15c6a-a15d-45da-8cb1-cc0b4fb639df",
        "colab": {
          "base_uri": "https://localhost:8080/",
          "height": 34
        }
      },
      "source": [
        "# This is a simple function to transform roman number\n",
        "def transform_roman(s):\n",
        "    d = {'I':1, 'II':2, 'III':3, 'IV':4, 'V':5, 'VI':6, 'VII':7, 'VIII':8, 'IX':9, 'X':10, \n",
        "        'XI':11, 'XII':12, 'XIII':13, 'XIV':14, 'XV':15, 'XVI':16, 'XVII':17, 'XVIII':18, 'XIX':19, 'XX':20}\n",
        "    \n",
        "    s_split = s.split()\n",
        "    if s_split[-1] in d.keys():\n",
        "        s_split[-1] = str(d[s_split[-1]])\n",
        "    return ' '.join(s_split)\n",
        "\n",
        "# Test it out\n",
        "transform_roman('POLICE OFFICER III')"
      ],
      "execution_count": 1,
      "outputs": [
        {
          "output_type": "execute_result",
          "data": {
            "text/plain": [
              "'POLICE OFFICER 3'"
            ]
          },
          "metadata": {
            "tags": []
          },
          "execution_count": 1
        }
      ]
    },
    {
      "cell_type": "code",
      "metadata": {
        "id": "2PX5dFaxPm14",
        "colab_type": "code",
        "colab": {}
      },
      "source": [
        "# Apply the function above to the column JobTitle\n",
        "# Fill the blank\n",
        "sal['JobTitle'] = sal['JobTitle'].apply(___)"
      ],
      "execution_count": 0,
      "outputs": []
    },
    {
      "cell_type": "markdown",
      "metadata": {
        "id": "Ikd1t-v3Pm17",
        "colab_type": "text"
      },
      "source": [
        "### Step 4 - EDA"
      ]
    },
    {
      "cell_type": "markdown",
      "metadata": {
        "id": "-dEBLw1uPm1-",
        "colab_type": "text"
      },
      "source": [
        "**Plot categorical data**"
      ]
    },
    {
      "cell_type": "code",
      "metadata": {
        "id": "_N-UF331Pm1-",
        "colab_type": "code",
        "outputId": "c53e549d-2ec8-447e-b2d9-cbb64207e3ce",
        "colab": {
          "base_uri": "https://localhost:8080/",
          "height": 300
        }
      },
      "source": [
        "sns.countplot(x='Year', data=sal)\n",
        "# What can you tell by looking at this?"
      ],
      "execution_count": 89,
      "outputs": [
        {
          "output_type": "execute_result",
          "data": {
            "text/plain": [
              "<matplotlib.axes._subplots.AxesSubplot at 0x7fca53b67518>"
            ]
          },
          "metadata": {
            "tags": []
          },
          "execution_count": 89
        },
        {
          "output_type": "display_data",
          "data": {
            "image/png": "[encoded data removed]",
            "text/plain": [
              "<Figure size 432x288 with 1 Axes>"
            ]
          },
          "metadata": {
            "tags": []
          }
        }
      ]
    },
    {
      "cell_type": "code",
      "metadata": {
        "id": "H3yGMblDRU11",
        "colab_type": "code",
        "colab": {
          "base_uri": "https://localhost:8080/",
          "height": 609
        },
        "outputId": "f63e48fc-a966-4d94-8cdf-ab1d30ff299f"
      },
      "source": [
        "plt.figure(figsize=(4,10))\n",
        "sns.countplot(x='Year', data=sal)\n",
        "plt.show()"
      ],
      "execution_count": 93,
      "outputs": [
        {
          "output_type": "display_data",
          "data": {
            "image/png": "[encoded data removed]",
            "text/plain": [
              "<Figure size 288x720 with 1 Axes>"
            ]
          },
          "metadata": {
            "tags": []
          }
        }
      ]
    },
    {
      "cell_type": "markdown",
      "metadata": {
        "id": "pGvAB5cNPm2D",
        "colab_type": "text"
      },
      "source": [
        "**Top 5 common job titles**"
      ]
    },
    {
      "cell_type": "code",
      "metadata": {
        "id": "3LrHbjpHPm2D",
        "colab_type": "code",
        "colab": {
          "base_uri": "https://localhost:8080/",
          "height": 286
        },
        "outputId": "0c5945c5-ef8c-4be4-f7f9-513345340997"
      },
      "source": [
        "# Fill the blanks \n",
        "sal['JobTitle'].value_counts().head(5).plot(kind='barh')"
      ],
      "execution_count": 95,
      "outputs": [
        {
          "output_type": "execute_result",
          "data": {
            "text/plain": [
              "<matplotlib.axes._subplots.AxesSubplot at 0x7fca502d3b00>"
            ]
          },
          "metadata": {
            "tags": []
          },
          "execution_count": 95
        },
        {
          "output_type": "display_data",
          "data": {
            "image/png": "[encoded data removed]",
            "text/plain": [
              "<Figure size 432x288 with 1 Axes>"
            ]
          },
          "metadata": {
            "tags": []
          }
        }
      ]
    },
    {
      "cell_type": "markdown",
      "metadata": {
        "id": "JZvwnGZ-Pm2F",
        "colab_type": "text"
      },
      "source": [
        "**Distribution of numerical data**"
      ]
    },
    {
      "cell_type": "code",
      "metadata": {
        "id": "UnTkDE4NPm2F",
        "colab_type": "code",
        "colab": {
          "base_uri": "https://localhost:8080/",
          "height": 300
        },
        "outputId": "eaaaea15-4737-461a-d013-3de6a12795ea"
      },
      "source": [
        "# Run this\n",
        "sns.distplot(sal['TotalPayBenefits'])"
      ],
      "execution_count": 96,
      "outputs": [
        {
          "output_type": "execute_result",
          "data": {
            "text/plain": [
              "<matplotlib.axes._subplots.AxesSubplot at 0x7fca502cc390>"
            ]
          },
          "metadata": {
            "tags": []
          },
          "execution_count": 96
        },
        {
          "output_type": "display_data",
          "data": {
            "image/png": "[encoded data removed]",
            "text/plain": [
              "<Figure size 432x288 with 1 Axes>"
            ]
          },
          "metadata": {
            "tags": []
          }
        }
      ]
    },
    {
      "cell_type": "code",
      "metadata": {
        "id": "rS3lsmV4Pm2J",
        "colab_type": "code",
        "colab": {}
      },
      "source": [
        "# Histogram is sensitive with the bins, try some examples to prove that\n",
        "plt.hist(sal['TotalPayBenefits'], bins=5)\n",
        "plt.show()"
      ],
      "execution_count": 0,
      "outputs": []
    },
    {
      "cell_type": "code",
      "metadata": {
        "colab_type": "code",
        "outputId": "3732affd-9ac9-4bf7-af93-4c4f081f61c0",
        "id": "OmY97JiBsn__",
        "colab": {}
      },
      "source": [
        "# Plot these diagrams in a dashboard with two rows and two columns\n",
        "# sns.kdeplot(sal['BasePay'])\n",
        "# sns.kdeplot(sal['OvertimePay'])\n",
        "# sns.kdeplot(sal['OtherPay'])\n",
        "# sns.kdeplot(sal['Benefits'])\n",
        "\n",
        "f, axes = plt.subplots(2, 2, figsize=(12, 6))\n",
        "\n",
        "# Your code here\n",
        "\n",
        "plt.show()"
      ],
      "execution_count": 0,
      "outputs": [
        {
          "output_type": "display_data",
          "data": {
            "image/png": "[encoded data removed]",
            "text/plain": [
              "<Figure size 864x432 with 4 Axes>"
            ]
          },
          "metadata": {
            "tags": []
          }
        }
      ]
    },
    {
      "cell_type": "code",
      "metadata": {
        "id": "3bhCQzNfPm2S",
        "colab_type": "code",
        "outputId": "62baa862-0c69-475f-8a31-0ff740252980",
        "colab": {}
      },
      "source": [
        "# Plot these diagrams in a dashboard with one rows and two columns\n",
        "# sns.distplot(sal['TotalPay'])\n",
        "# sns.distplot(sal['TotalPayBenefits'])\n",
        "\n",
        "f, axes = plt.subplots(1, 2, figsize=(12, 6))\n",
        "\n",
        "# Your code here\n",
        "\n",
        "plt.show()"
      ],
      "execution_count": 0,
      "outputs": [
        {
          "output_type": "display_data",
          "data": {
            "image/png": "[encoded data removed]",
            "text/plain": [
              "<Figure size 864x432 with 2 Axes>"
            ]
          },
          "metadata": {
            "tags": []
          }
        }
      ]
    },
    {
      "cell_type": "markdown",
      "metadata": {
        "id": "AYQl8xQstFcl",
        "colab_type": "text"
      },
      "source": [
        "**Analize richest people**"
      ]
    },
    {
      "cell_type": "code",
      "metadata": {
        "id": "wnr3XVJYPm2U",
        "colab_type": "code",
        "colab": {}
      },
      "source": [
        "# Select people that have TotalPayBenefit greater than $300k\n",
        "# Your code here"
      ],
      "execution_count": 0,
      "outputs": []
    },
    {
      "cell_type": "code",
      "metadata": {
        "id": "Qc4DYmaNPm2Y",
        "colab_type": "code",
        "colab": {}
      },
      "source": [
        "def split_income_type(n):\n",
        "    if n < 1000:\n",
        "        return 'Retired'\n",
        "    elif n < 50000:\n",
        "        return 'Low Income'\n",
        "    elif n < 150000:\n",
        "        return 'Midrange'\n",
        "    elif n < 250000:\n",
        "        return 'High Income'\n",
        "    else:\n",
        "        return 'Millionaire'"
      ],
      "execution_count": 0,
      "outputs": []
    },
    {
      "cell_type": "code",
      "metadata": {
        "id": "ndS0LG9_tX0Y",
        "colab_type": "code",
        "colab": {}
      },
      "source": [
        "# Apply the function above to create a new column name IncomeType from TotalPayBenefits\n",
        "# Fill the blank\n",
        "sal['IncomeType'] = ___"
      ],
      "execution_count": 0,
      "outputs": []
    },
    {
      "cell_type": "code",
      "metadata": {
        "id": "Uh8VVB1nPm2a",
        "colab_type": "code",
        "outputId": "bdee24cb-df51-4b30-9319-750375b4134a",
        "colab": {}
      },
      "source": [
        "sns.countplot(sal['IncomeType'])\n",
        "# What can you tell?"
      ],
      "execution_count": 0,
      "outputs": [
        {
          "output_type": "execute_result",
          "data": {
            "text/plain": [
              "<matplotlib.axes._subplots.AxesSubplot at 0x1a36bbc9e8>"
            ]
          },
          "metadata": {
            "tags": []
          },
          "execution_count": 268
        },
        {
          "output_type": "display_data",
          "data": {
            "image/png": "[encoded data removed]",
            "text/plain": [
              "<Figure size 432x288 with 1 Axes>"
            ]
          },
          "metadata": {
            "tags": []
          }
        }
      ]
    },
    {
      "cell_type": "code",
      "metadata": {
        "id": "iQtknDUIPm2e",
        "colab_type": "code",
        "outputId": "78563215-b7bf-409c-d5de-712792c1d30e",
        "colab": {}
      },
      "source": [
        "# Pie chart\n",
        "labels = []\n",
        "sizes = []\n",
        "explode = []\n",
        "\n",
        "labels = sal['IncomeType'].value_counts().index\n",
        "for index, size in enumerate(sal['IncomeType'].value_counts()):\n",
        "    sizes.append(size)\n",
        "    if labels[index]=='Millionaire':\n",
        "        explode.append(0.2)\n",
        "    else: # add high income too?\n",
        "        explode.append(0)\n",
        " \n",
        "f, ax1 = plt.subplots()\n",
        "ax1.pie(sizes, explode=explode, labels=labels, autopct='%1.1f%%',\n",
        "        shadow=True, startangle=45)\n",
        "# Equal aspect ratio ensures that pie is drawn as a circle\n",
        "ax1.axis('equal')  \n",
        "plt.tight_layout()\n",
        "plt.show()"
      ],
      "execution_count": 0,
      "outputs": [
        {
          "output_type": "display_data",
          "data": {
            "image/png": "[encoded data removed]",
            "text/plain": [
              "<Figure size 432x288 with 1 Axes>"
            ]
          },
          "metadata": {
            "tags": []
          }
        }
      ]
    },
    {
      "cell_type": "code",
      "metadata": {
        "id": "pbAUA-kgPm20",
        "colab_type": "code",
        "colab": {}
      },
      "source": [
        "# What is the top 10 Job Title of Millionaire\n",
        "# Fill the blank\n",
        "millionare_jobs = sal[___].groupby('JobTitle').mean()\n",
        "millionare_jobs.sort_values(by=['TotalPayBenefits'], ascending=___)['TotalPayBenefits'].___(10).plot(kind='___')"
      ],
      "execution_count": 0,
      "outputs": []
    },
    {
      "cell_type": "code",
      "metadata": {
        "id": "5LNMS8DGPm22",
        "colab_type": "code",
        "colab": {}
      },
      "source": [
        "# Find the name of 10 richest man\n",
        "# Your code here"
      ],
      "execution_count": 0,
      "outputs": []
    },
    {
      "cell_type": "code",
      "metadata": {
        "id": "TDMwfQIfPm2-",
        "colab_type": "code",
        "outputId": "9df94fce-80ad-48e1-83fc-77236c09754f",
        "colab": {}
      },
      "source": [
        "# Analyze TotalPayBenefits of 10 richest man each Year\n",
        "# Your code here"
      ],
      "execution_count": 0,
      "outputs": [
        {
          "output_type": "execute_result",
          "data": {
            "text/plain": [
              "<matplotlib.axes._subplots.AxesSubplot at 0x1a36c84c88>"
            ]
          },
          "metadata": {
            "tags": []
          },
          "execution_count": 293
        },
        {
          "output_type": "display_data",
          "data": {
            "image/png": "[encoded data removed]",
            "text/plain": [
              "<Figure size 432x288 with 1 Axes>"
            ]
          },
          "metadata": {
            "tags": []
          }
        }
      ]
    },
    {
      "cell_type": "markdown",
      "metadata": {
        "id": "MoBgPjDiwhdV",
        "colab_type": "text"
      },
      "source": [
        "### You are awesome!!"
      ]
    }
  ]
}