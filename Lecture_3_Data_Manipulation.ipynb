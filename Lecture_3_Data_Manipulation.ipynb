{
  "nbformat": 4,
  "nbformat_minor": 0,
  "metadata": {
    "colab": {
      "name": "Lecture_3_Data_Manipulation.ipynb",
      "version": "0.3.2",
      "provenance": [],
      "collapsed_sections": [],
      "include_colab_link": true
    },
    "language_info": {
      "codemirror_mode": {
        "name": "ipython",
        "version": 3
      },
      "file_extension": ".py",
      "mimetype": "text/x-python",
      "name": "python",
      "nbconvert_exporter": "python",
      "pygments_lexer": "ipython3",
      "version": "3.6.5"
    },
    "kernelspec": {
      "display_name": "Python 3",
      "language": "python",
      "name": "python3"
    }
  },
  "cells": [
    {
      "cell_type": "markdown",
      "metadata": {
        "id": "view-in-github",
        "colab_type": "text"
      },
      "source": [
        "<a href=\"https://colab.research.google.com/github/hxtruong/fb-developer-circles/blob/master/Lecture_3_Data_Manipulation.ipynb\" target=\"_parent\"><img src=\"https://colab.research.google.com/assets/colab-badge.svg\" alt=\"Open In Colab\"/></a>"
      ]
    },
    {
      "cell_type": "markdown",
      "metadata": {
        "id": "dXPkz9Ri4vQZ",
        "colab_type": "text"
      },
      "source": [
        "![](https://i.imgur.com/0AUxkXt.png)"
      ]
    },
    {
      "cell_type": "markdown",
      "metadata": {
        "id": "TQnsPD5DoaJW",
        "colab_type": "text"
      },
      "source": [
        "# Lecture 3 - Data Manipulation"
      ]
    },
    {
      "cell_type": "markdown",
      "metadata": {
        "id": "crg8WD5w4J7N",
        "colab_type": "text"
      },
      "source": [
        "## String manipulation in Python\n",
        "\n",
        "One place where the Python language really shines is in the manipulation of strings. This section will cover some of Python's built-in string methods and formatting operations, before moving on to a quick guide to the extremely useful subject of regular expressions. Such string manipulation patterns come up often in the context of data science work\n",
        "\n",
        "### Formatting strings: Adjusting case\n",
        "\n",
        "Python makes it quite easy to adjust the case of a string. Here we'll look at the `upper()`, `lower()`, `capitalize()`, and `swapcase()` methods."
      ]
    },
    {
      "cell_type": "code",
      "metadata": {
        "id": "k4uDbYdQ4J7P",
        "colab_type": "code",
        "colab": {}
      },
      "source": [
        "import numpy as np\n",
        "import pandas as pd\n",
        "import seaborn as sns\n",
        "import matplotlib.pyplot as plt\n",
        "%matplotlib inline\n",
        "import warnings\n",
        "warnings.filterwarnings('ignore')\n",
        "\n",
        "sns.set_style(\"whitegrid\")"
      ],
      "execution_count": 0,
      "outputs": []
    },
    {
      "cell_type": "code",
      "metadata": {
        "id": "5o-Oc3I24J7T",
        "colab_type": "code",
        "outputId": "e021d230-1d38-43e3-d4e0-f862eedd3525",
        "colab": {
          "base_uri": "https://localhost:8080/",
          "height": 85
        }
      },
      "source": [
        "fox = 'tHe qUICk bROWn fOx.'\n",
        "# Apply the functions above to `fox` and print out the results\n",
        "print('upper()', fox.upper())\n",
        "print('lower()', fox.lower())\n",
        "print('capitalize()', fox.capitalize())\n",
        "print('swapcase()', fox.swapcase())\n",
        "# Capitalize every word in fox"
      ],
      "execution_count": 5,
      "outputs": [
        {
          "output_type": "stream",
          "text": [
            "upper() THE QUICK BROWN FOX.\n",
            "lower() the quick brown fox.\n",
            "capitalize() The quick brown fox.\n",
            "swapcase() ThE QuicK BrowN FoX.\n"
          ],
          "name": "stdout"
        }
      ]
    },
    {
      "cell_type": "markdown",
      "metadata": {
        "id": "b641Y1ZD4J7Y",
        "colab_type": "text"
      },
      "source": [
        "### Adding and removing spaces\n",
        "\n",
        "Another common need is to remove spaces (or other characters) from the beginning or end of the string. The basic method of removing characters is the `strip()` method, which strips whitespace from the beginning and end of the line. To remove just space to the right or left, use `rstrip()` or `lstrip()` respectively.\n",
        "\n",
        "To remove characters other than spaces, you can pass the desired character to the `strip()` method"
      ]
    },
    {
      "cell_type": "code",
      "metadata": {
        "id": "RH_dLwSr4J7Y",
        "colab_type": "code",
        "outputId": "37572431-c319-4740-a2ac-d45ad82e2265",
        "colab": {
          "base_uri": "https://localhost:8080/",
          "height": 68
        }
      },
      "source": [
        "line = '         this is the content         '\n",
        "\n",
        "# Apply strip(), rstrip(), lstrip() to 'line' and print the results out\n",
        "print(line.strip())\n",
        "print(line.rstrip())\n",
        "print(line.lstrip())"
      ],
      "execution_count": 8,
      "outputs": [
        {
          "output_type": "stream",
          "text": [
            "this is the content\n",
            "         this is the content\n",
            "this is the content         \n"
          ],
          "name": "stdout"
        }
      ]
    },
    {
      "cell_type": "code",
      "metadata": {
        "id": "U5FB-NTg4J7b",
        "colab_type": "code",
        "outputId": "c959f5d1-a55e-4ff0-ee59-428fbfab9e45",
        "colab": {
          "base_uri": "https://localhost:8080/",
          "height": 34
        }
      },
      "source": [
        "num = '---4350000'\n",
        "import re\n",
        "re.findall(r'\\d+', num) "
      ],
      "execution_count": 16,
      "outputs": [
        {
          "output_type": "execute_result",
          "data": {
            "text/plain": [
              "['4350000']"
            ]
          },
          "metadata": {
            "tags": []
          },
          "execution_count": 16
        }
      ]
    },
    {
      "cell_type": "markdown",
      "metadata": {
        "id": "eYh4ZNMl4J7f",
        "colab_type": "text"
      },
      "source": [
        "### Finding and replacing and splitting\n",
        "\n",
        "If you want to find occurrences of a certain character in a string, the `find()`, `index()` and `replace()` methods are the best built-in methods.\n",
        "\n",
        "`find()` and `index()` are very similar, in that they search for the first occurrence of a character or substring within a string, and return the index of the substring.\n",
        "\n",
        "The `split()` method is perhaps more useful; it finds all instances of the split-point and returns the substrings in between. The default is to split on any whitespace, returning a list of the individual words in a string."
      ]
    },
    {
      "cell_type": "code",
      "metadata": {
        "id": "TpbTIAW24J7g",
        "colab_type": "code",
        "outputId": "65d921a1-a1c2-4e95-cc73-ff93a3f58b07",
        "colab": {
          "base_uri": "https://localhost:8080/",
          "height": 35
        }
      },
      "source": [
        "line = 'the quick brown fox jumped over a lazy dog'\n",
        "\n",
        "# Find the index of 'fox' in 'line' using find() and index()\n",
        "# Your code here\n",
        "\n",
        "\n",
        "# Let's replace 'brown' with 'red'\n",
        "# Your code here\n",
        "\n",
        "\n",
        "# List all words in 'line' and put them in an array\n",
        "# One line of code here\n"
      ],
      "execution_count": 0,
      "outputs": [
        {
          "output_type": "execute_result",
          "data": {
            "text/plain": [
              "'jumped'"
            ]
          },
          "metadata": {
            "tags": []
          },
          "execution_count": 102
        }
      ]
    },
    {
      "cell_type": "markdown",
      "metadata": {
        "id": "PL0v7FN_4J7k",
        "colab_type": "text"
      },
      "source": [
        "Note that if you would like to undo a `split()`, you can use the `join()` method, which returns a string built from a splitpoint and an iterable:"
      ]
    },
    {
      "cell_type": "code",
      "metadata": {
        "id": "_YrMzZYP4J7l",
        "colab_type": "code",
        "outputId": "ac10363d-155c-445f-bbb9-7dba9c29a359",
        "colab": {
          "base_uri": "https://localhost:8080/",
          "height": 35
        }
      },
      "source": [
        ""
      ],
      "execution_count": 0,
      "outputs": [
        {
          "output_type": "execute_result",
          "data": {
            "text/plain": [
              "'the quick brown fox jumped over a lazy dog'"
            ]
          },
          "metadata": {
            "tags": []
          },
          "execution_count": 103
        }
      ]
    },
    {
      "cell_type": "markdown",
      "metadata": {
        "id": "YxeHCsjo4J7o",
        "colab_type": "text"
      },
      "source": [
        "### Regular Expression\n",
        "\n",
        "In Python, regular expressions are supported by the `re` module.\n",
        "\n",
        "A regular expression (or RE) specifies a set of strings that matches it; the functions in this module let you check if a particular string matches a given regular expression (or if a given regular expression matches a particular string, which comes down to the same thing).\n",
        "\n",
        "Let's walk through some examples:"
      ]
    },
    {
      "cell_type": "code",
      "metadata": {
        "id": "JNa4HQJs4J7p",
        "colab_type": "code",
        "colab": {}
      },
      "source": [
        "import re"
      ],
      "execution_count": 0,
      "outputs": []
    },
    {
      "cell_type": "code",
      "metadata": {
        "id": "CkMQA8il4J7s",
        "colab_type": "code",
        "outputId": "49907e02-119c-4b0f-c917-53ba991eae94",
        "colab": {
          "base_uri": "https://localhost:8080/",
          "height": 35
        }
      },
      "source": [
        "email_regex = '#your code here'\n",
        "text = \"To email coderschool@gmail.com coderschool, try apply@coderschool.vn or the older address coderschool@gmail.com\""
      ],
      "execution_count": 0,
      "outputs": [
        {
          "output_type": "execute_result",
          "data": {
            "text/plain": [
              "['1@gmail.com']"
            ]
          },
          "metadata": {
            "tags": []
          },
          "execution_count": 113
        }
      ]
    },
    {
      "cell_type": "code",
      "metadata": {
        "id": "eeNcr6Ym4J7z",
        "colab_type": "code",
        "colab": {}
      },
      "source": [
        "# Replacing these email addresses with another string, perhaps to hide addresses in the output:\n",
        "re.sub(email_regex, '--@--.--', text)"
      ],
      "execution_count": 0,
      "outputs": []
    },
    {
      "cell_type": "code",
      "metadata": {
        "id": "FjQCzEV74J71",
        "colab_type": "code",
        "outputId": "fe94f540-4b4f-417f-9b98-3169795c81ea",
        "colab": {}
      },
      "source": [
        "# The following will match any lower-case vowel:\n",
        "re.split('[aeiou]', 'consequential')"
      ],
      "execution_count": 0,
      "outputs": [
        {
          "output_type": "execute_result",
          "data": {
            "text/plain": [
              "['c', 'ns', 'q', '', 'nt', '', 'l']"
            ]
          },
          "metadata": {
            "tags": []
          },
          "execution_count": 11
        }
      ]
    },
    {
      "cell_type": "markdown",
      "metadata": {
        "id": "FD9c-np14J74",
        "colab_type": "text"
      },
      "source": [
        "You may need to extract from a document specific numerical codes that consist of a capital letter followed by a digit. You could do this as follows:"
      ]
    },
    {
      "cell_type": "code",
      "metadata": {
        "id": "Lb5s1sJI4J74",
        "colab_type": "code",
        "outputId": "3414193e-bd53-4b10-d15b-f6ad05167b6f",
        "colab": {}
      },
      "source": [
        "re.findall('[A-Z][0-9]', '1043879, G2, H6')"
      ],
      "execution_count": 0,
      "outputs": [
        {
          "output_type": "execute_result",
          "data": {
            "text/plain": [
              "['G2', 'H6']"
            ]
          },
          "metadata": {
            "tags": []
          },
          "execution_count": 12
        }
      ]
    },
    {
      "cell_type": "markdown",
      "metadata": {
        "id": "n8GNNrH74J77",
        "colab_type": "text"
      },
      "source": [
        "The following table lists a few of these characters that are commonly useful:\n",
        "\n",
        "|Character classes||Quantifiers & Alternation||\n",
        "|--- |--- |--- |--- |\n",
        "|.|any character except newline|a* a+ a?|0 or more, 1 or more, 0 or 1|\n",
        "|\\w \\d \\s|word, digit, whitespace|a{5} a{2,}|exactly five, two or more|\n",
        "|\\W \\D \\S|not word, digit, whitespace|a{1,3}|between one & three|\n",
        "|[abc]|any of a, b, or c|a+? a{2,}?|match as few as possible|\n",
        "|[^abc]|not a, b, or c|ab|cd|match ab or cd|\n",
        "|[a-g]|character between a & g|||\n",
        "|Anchors||Groups & Lookaround||\n",
        "|^abc$|start / end of the string|(abc)|capture group|\n",
        "|\\b|word boundary|\\1|backreference to group #1|\n",
        "|Escaped characters||(?:abc)|non-capturing group|\n",
        "|\\. \\* \\\\|\\ is used to escape special chars. \\* matches *|(?=abc)|positive lookahead|\n",
        "|\\t \\n \\r|tab, linefeed, carriage return|(?!abc)|negative lookahead|\n",
        "\n",
        "\n",
        "| Character | Description | Example |\n",
        "|------------|-----------|------------|\n",
        "| ? | Match zero or one repetitions of preceding |  \"ab?\" matches \"a\" or \"ab\" |\n",
        "| * | Match zero or more repetitions of preceding | \"ab*\" matches \"a\", \"ab\", \"abb\", \"abbb\"... |\n",
        "| + | Match one or more repetitions of preceding |  \"ab+\" matches \"ab\", \"abb\", \"abbb\"... but not \"a\" |\n",
        "| {n} | Match n repetitions of preceding | \"ab{2}\" matches \"abb\" |\n",
        "| {m,n} | Match between m and n repetitions of preceding |  \"ab{2,3}\" matches \"abb\" or \"abbb\" |\n",
        "\n"
      ]
    },
    {
      "cell_type": "markdown",
      "metadata": {
        "id": "jtVwvoZU4J78",
        "colab_type": "text"
      },
      "source": [
        "### Further Resources on Regular Expressions\n",
        "\n",
        "* [Python's re package Documentation](https://docs.python.org/3/library/re.html)\n",
        "* [Python's official regular expression HOWTO](https://docs.python.org/3/howto/regex.html)\n",
        "* [Mastering Regular Expressions (OReilly, 2006)](http://shop.oreilly.com/product/9780596528126.do)"
      ]
    },
    {
      "cell_type": "markdown",
      "metadata": {
        "id": "iNRwZo2xY2ng",
        "colab_type": "text"
      },
      "source": [
        "## Practice\n",
        "\n",
        "**Handling with different format of phone numbers**"
      ]
    },
    {
      "cell_type": "code",
      "metadata": {
        "id": "yMxX8Lca4J79",
        "colab_type": "code",
        "outputId": "7dffd001-f57d-468c-b79b-e38801e9bfa8",
        "colab": {
          "base_uri": "https://localhost:8080/",
          "height": 198
        }
      },
      "source": [
        "phoneNumbers = ['392969437', '339599939', '+(84)982554028', '0084982554028', '939224327',\n",
        "       '929221869', '982554028', '+(84)906670964', '0084971117397', '974914174',\n",
        "       '945481728', '84925481146', '332696839', '814200997', '798030258',\n",
        "       '843756291', '904864089', '972647803', '907491419',\n",
        "       '+84 938 175 164', '962687145', '972996711', '908271465',\n",
        "       '907292137', '395180750', '906789743', '767693801', '813994299',\n",
        "       '366132601', '866765227', '+(84) 359636387', '+84969541095', '+84 161 278 77 464',\n",
        "       '965918383', '849541095', '84934116689']\n",
        "df = pd.DataFrame(phoneNumbers, columns=['Phone Number'])\n",
        "df.head()"
      ],
      "execution_count": 0,
      "outputs": [
        {
          "output_type": "execute_result",
          "data": {
            "text/html": [
              "<div>\n",
              "<style scoped>\n",
              "    .dataframe tbody tr th:only-of-type {\n",
              "        vertical-align: middle;\n",
              "    }\n",
              "\n",
              "    .dataframe tbody tr th {\n",
              "        vertical-align: top;\n",
              "    }\n",
              "\n",
              "    .dataframe thead th {\n",
              "        text-align: right;\n",
              "    }\n",
              "</style>\n",
              "<table border=\"1\" class=\"dataframe\">\n",
              "  <thead>\n",
              "    <tr style=\"text-align: right;\">\n",
              "      <th></th>\n",
              "      <th>Phone Number</th>\n",
              "    </tr>\n",
              "  </thead>\n",
              "  <tbody>\n",
              "    <tr>\n",
              "      <th>0</th>\n",
              "      <td>392969437</td>\n",
              "    </tr>\n",
              "    <tr>\n",
              "      <th>1</th>\n",
              "      <td>339599939</td>\n",
              "    </tr>\n",
              "    <tr>\n",
              "      <th>2</th>\n",
              "      <td>+(84)982554028</td>\n",
              "    </tr>\n",
              "    <tr>\n",
              "      <th>3</th>\n",
              "      <td>0084982554028</td>\n",
              "    </tr>\n",
              "    <tr>\n",
              "      <th>4</th>\n",
              "      <td>939224327</td>\n",
              "    </tr>\n",
              "  </tbody>\n",
              "</table>\n",
              "</div>"
            ],
            "text/plain": [
              "     Phone Number\n",
              "0       392969437\n",
              "1       339599939\n",
              "2  +(84)982554028\n",
              "3   0084982554028\n",
              "4       939224327"
            ]
          },
          "metadata": {
            "tags": []
          },
          "execution_count": 136
        }
      ]
    },
    {
      "cell_type": "code",
      "metadata": {
        "id": "CQJftbFad_t9",
        "colab_type": "code",
        "outputId": "4ca0243a-49b1-4ab3-e9af-185ca8cafc05",
        "colab": {
          "base_uri": "https://localhost:8080/",
          "height": 35
        }
      },
      "source": [
        ""
      ],
      "execution_count": 0,
      "outputs": [
        {
          "output_type": "execute_result",
          "data": {
            "text/plain": [
              "'03596436387'"
            ]
          },
          "metadata": {
            "tags": []
          },
          "execution_count": 127
        }
      ]
    },
    {
      "cell_type": "code",
      "metadata": {
        "id": "f39kUZaEZxv6",
        "colab_type": "code",
        "colab": {}
      },
      "source": [
        "# Clean the phone number data\n",
        "\n",
        "import re\n",
        "def pre_processing_phone(phone):\n",
        "    # Your code here\n",
        "    return temp"
      ],
      "execution_count": 0,
      "outputs": []
    },
    {
      "cell_type": "code",
      "metadata": {
        "id": "s6MP7pXxaCZ3",
        "colab_type": "code",
        "outputId": "531b3550-5d91-4ba0-d2d7-70e2c2329591",
        "colab": {
          "base_uri": "https://localhost:8080/",
          "height": 198
        }
      },
      "source": [
        "df['Cleaned Phone Number'] = df['Phone Number'].apply(pre_processing_phone)\n",
        "df.head()"
      ],
      "execution_count": 0,
      "outputs": [
        {
          "output_type": "execute_result",
          "data": {
            "text/html": [
              "<div>\n",
              "<style scoped>\n",
              "    .dataframe tbody tr th:only-of-type {\n",
              "        vertical-align: middle;\n",
              "    }\n",
              "\n",
              "    .dataframe tbody tr th {\n",
              "        vertical-align: top;\n",
              "    }\n",
              "\n",
              "    .dataframe thead th {\n",
              "        text-align: right;\n",
              "    }\n",
              "</style>\n",
              "<table border=\"1\" class=\"dataframe\">\n",
              "  <thead>\n",
              "    <tr style=\"text-align: right;\">\n",
              "      <th></th>\n",
              "      <th>Phone Number</th>\n",
              "      <th>Cleaned Phone Number</th>\n",
              "    </tr>\n",
              "  </thead>\n",
              "  <tbody>\n",
              "    <tr>\n",
              "      <th>0</th>\n",
              "      <td>392969437</td>\n",
              "      <td>0392969437</td>\n",
              "    </tr>\n",
              "    <tr>\n",
              "      <th>1</th>\n",
              "      <td>339599939</td>\n",
              "      <td>0339599939</td>\n",
              "    </tr>\n",
              "    <tr>\n",
              "      <th>2</th>\n",
              "      <td>+(84)982554028</td>\n",
              "      <td>0982554028</td>\n",
              "    </tr>\n",
              "    <tr>\n",
              "      <th>3</th>\n",
              "      <td>0084982554028</td>\n",
              "      <td>0982554028</td>\n",
              "    </tr>\n",
              "    <tr>\n",
              "      <th>4</th>\n",
              "      <td>939224327</td>\n",
              "      <td>0939224327</td>\n",
              "    </tr>\n",
              "  </tbody>\n",
              "</table>\n",
              "</div>"
            ],
            "text/plain": [
              "     Phone Number Cleaned Phone Number\n",
              "0       392969437           0392969437\n",
              "1       339599939           0339599939\n",
              "2  +(84)982554028           0982554028\n",
              "3   0084982554028           0982554028\n",
              "4       939224327           0939224327"
            ]
          },
          "metadata": {
            "tags": []
          },
          "execution_count": 137
        }
      ]
    },
    {
      "cell_type": "code",
      "metadata": {
        "id": "jfNe0G3haSTN",
        "colab_type": "code",
        "colab": {}
      },
      "source": [
        "df = df[df['Cleaned Phone Number'].apply(len) <= 10]"
      ],
      "execution_count": 0,
      "outputs": []
    },
    {
      "cell_type": "code",
      "metadata": {
        "id": "w5XFiM3Oan-7",
        "colab_type": "code",
        "outputId": "7c31b90c-3afe-4e46-b368-67fb86a02919",
        "colab": {
          "base_uri": "https://localhost:8080/",
          "height": 1098
        }
      },
      "source": [
        "df"
      ],
      "execution_count": 0,
      "outputs": [
        {
          "output_type": "execute_result",
          "data": {
            "text/html": [
              "<div>\n",
              "<style scoped>\n",
              "    .dataframe tbody tr th:only-of-type {\n",
              "        vertical-align: middle;\n",
              "    }\n",
              "\n",
              "    .dataframe tbody tr th {\n",
              "        vertical-align: top;\n",
              "    }\n",
              "\n",
              "    .dataframe thead th {\n",
              "        text-align: right;\n",
              "    }\n",
              "</style>\n",
              "<table border=\"1\" class=\"dataframe\">\n",
              "  <thead>\n",
              "    <tr style=\"text-align: right;\">\n",
              "      <th></th>\n",
              "      <th>Phone Number</th>\n",
              "      <th>Cleaned Phone Number</th>\n",
              "    </tr>\n",
              "  </thead>\n",
              "  <tbody>\n",
              "    <tr>\n",
              "      <th>0</th>\n",
              "      <td>392969437</td>\n",
              "      <td>0392969437</td>\n",
              "    </tr>\n",
              "    <tr>\n",
              "      <th>1</th>\n",
              "      <td>339599939</td>\n",
              "      <td>0339599939</td>\n",
              "    </tr>\n",
              "    <tr>\n",
              "      <th>2</th>\n",
              "      <td>+(84)982554028</td>\n",
              "      <td>0982554028</td>\n",
              "    </tr>\n",
              "    <tr>\n",
              "      <th>3</th>\n",
              "      <td>0084982554028</td>\n",
              "      <td>0982554028</td>\n",
              "    </tr>\n",
              "    <tr>\n",
              "      <th>4</th>\n",
              "      <td>939224327</td>\n",
              "      <td>0939224327</td>\n",
              "    </tr>\n",
              "    <tr>\n",
              "      <th>5</th>\n",
              "      <td>929221869</td>\n",
              "      <td>0929221869</td>\n",
              "    </tr>\n",
              "    <tr>\n",
              "      <th>6</th>\n",
              "      <td>982554028</td>\n",
              "      <td>0982554028</td>\n",
              "    </tr>\n",
              "    <tr>\n",
              "      <th>7</th>\n",
              "      <td>+(84)906670964</td>\n",
              "      <td>0906670964</td>\n",
              "    </tr>\n",
              "    <tr>\n",
              "      <th>8</th>\n",
              "      <td>0084971117397</td>\n",
              "      <td>0971117397</td>\n",
              "    </tr>\n",
              "    <tr>\n",
              "      <th>9</th>\n",
              "      <td>974914174</td>\n",
              "      <td>0974914174</td>\n",
              "    </tr>\n",
              "    <tr>\n",
              "      <th>10</th>\n",
              "      <td>945481728</td>\n",
              "      <td>0945481728</td>\n",
              "    </tr>\n",
              "    <tr>\n",
              "      <th>11</th>\n",
              "      <td>84925481146</td>\n",
              "      <td>0925481146</td>\n",
              "    </tr>\n",
              "    <tr>\n",
              "      <th>12</th>\n",
              "      <td>332696839</td>\n",
              "      <td>0332696839</td>\n",
              "    </tr>\n",
              "    <tr>\n",
              "      <th>13</th>\n",
              "      <td>814200997</td>\n",
              "      <td>0814200997</td>\n",
              "    </tr>\n",
              "    <tr>\n",
              "      <th>14</th>\n",
              "      <td>798030258</td>\n",
              "      <td>0798030258</td>\n",
              "    </tr>\n",
              "    <tr>\n",
              "      <th>15</th>\n",
              "      <td>843756291</td>\n",
              "      <td>0843756291</td>\n",
              "    </tr>\n",
              "    <tr>\n",
              "      <th>16</th>\n",
              "      <td>904864089</td>\n",
              "      <td>0904864089</td>\n",
              "    </tr>\n",
              "    <tr>\n",
              "      <th>17</th>\n",
              "      <td>972647803</td>\n",
              "      <td>0972647803</td>\n",
              "    </tr>\n",
              "    <tr>\n",
              "      <th>18</th>\n",
              "      <td>907491419</td>\n",
              "      <td>0907491419</td>\n",
              "    </tr>\n",
              "    <tr>\n",
              "      <th>19</th>\n",
              "      <td>+84 938 175 164</td>\n",
              "      <td>0938175164</td>\n",
              "    </tr>\n",
              "    <tr>\n",
              "      <th>20</th>\n",
              "      <td>962687145</td>\n",
              "      <td>0962687145</td>\n",
              "    </tr>\n",
              "    <tr>\n",
              "      <th>21</th>\n",
              "      <td>972996711</td>\n",
              "      <td>0972996711</td>\n",
              "    </tr>\n",
              "    <tr>\n",
              "      <th>22</th>\n",
              "      <td>908271465</td>\n",
              "      <td>0908271465</td>\n",
              "    </tr>\n",
              "    <tr>\n",
              "      <th>23</th>\n",
              "      <td>907292137</td>\n",
              "      <td>0907292137</td>\n",
              "    </tr>\n",
              "    <tr>\n",
              "      <th>24</th>\n",
              "      <td>395180750</td>\n",
              "      <td>0395180750</td>\n",
              "    </tr>\n",
              "    <tr>\n",
              "      <th>25</th>\n",
              "      <td>906789743</td>\n",
              "      <td>0906789743</td>\n",
              "    </tr>\n",
              "    <tr>\n",
              "      <th>26</th>\n",
              "      <td>767693801</td>\n",
              "      <td>0767693801</td>\n",
              "    </tr>\n",
              "    <tr>\n",
              "      <th>27</th>\n",
              "      <td>813994299</td>\n",
              "      <td>0813994299</td>\n",
              "    </tr>\n",
              "    <tr>\n",
              "      <th>28</th>\n",
              "      <td>366132601</td>\n",
              "      <td>0366132601</td>\n",
              "    </tr>\n",
              "    <tr>\n",
              "      <th>29</th>\n",
              "      <td>866765227</td>\n",
              "      <td>0866765227</td>\n",
              "    </tr>\n",
              "    <tr>\n",
              "      <th>30</th>\n",
              "      <td>+(84) 359636387</td>\n",
              "      <td>0359636387</td>\n",
              "    </tr>\n",
              "    <tr>\n",
              "      <th>31</th>\n",
              "      <td>+84969541095</td>\n",
              "      <td>0969541095</td>\n",
              "    </tr>\n",
              "    <tr>\n",
              "      <th>33</th>\n",
              "      <td>965918383</td>\n",
              "      <td>0965918383</td>\n",
              "    </tr>\n",
              "    <tr>\n",
              "      <th>34</th>\n",
              "      <td>849541095</td>\n",
              "      <td>0849541095</td>\n",
              "    </tr>\n",
              "    <tr>\n",
              "      <th>35</th>\n",
              "      <td>84934116689</td>\n",
              "      <td>0934116689</td>\n",
              "    </tr>\n",
              "  </tbody>\n",
              "</table>\n",
              "</div>"
            ],
            "text/plain": [
              "       Phone Number Cleaned Phone Number\n",
              "0         392969437           0392969437\n",
              "1         339599939           0339599939\n",
              "2    +(84)982554028           0982554028\n",
              "3     0084982554028           0982554028\n",
              "4         939224327           0939224327\n",
              "5         929221869           0929221869\n",
              "6         982554028           0982554028\n",
              "7    +(84)906670964           0906670964\n",
              "8     0084971117397           0971117397\n",
              "9         974914174           0974914174\n",
              "10        945481728           0945481728\n",
              "11      84925481146           0925481146\n",
              "12        332696839           0332696839\n",
              "13        814200997           0814200997\n",
              "14        798030258           0798030258\n",
              "15        843756291           0843756291\n",
              "16        904864089           0904864089\n",
              "17        972647803           0972647803\n",
              "18        907491419           0907491419\n",
              "19  +84 938 175 164           0938175164\n",
              "20        962687145           0962687145\n",
              "21        972996711           0972996711\n",
              "22        908271465           0908271465\n",
              "23        907292137           0907292137\n",
              "24        395180750           0395180750\n",
              "25        906789743           0906789743\n",
              "26        767693801           0767693801\n",
              "27        813994299           0813994299\n",
              "28        366132601           0366132601\n",
              "29        866765227           0866765227\n",
              "30  +(84) 359636387           0359636387\n",
              "31     +84969541095           0969541095\n",
              "33        965918383           0965918383\n",
              "34        849541095           0849541095\n",
              "35      84934116689           0934116689"
            ]
          },
          "metadata": {
            "tags": []
          },
          "execution_count": 139
        }
      ]
    },
    {
      "cell_type": "markdown",
      "metadata": {
        "id": "u3RbzUfVcrsx",
        "colab_type": "text"
      },
      "source": [
        "### Correlation does not imply causation"
      ]
    },
    {
      "cell_type": "code",
      "metadata": {
        "id": "XwcLOlbcbyiN",
        "colab_type": "code",
        "colab": {}
      },
      "source": [
        "# link = 'https://ml101-khanhnguyen.s3-ap-southeast-1.amazonaws.com/devc/P4-Demographic-Data.csv'\n",
        "stats = # Your code here"
      ],
      "execution_count": 0,
      "outputs": []
    },
    {
      "cell_type": "code",
      "metadata": {
        "id": "NJ29G8v9bzpg",
        "colab_type": "code",
        "outputId": "02704f16-3bf9-4422-df41-77ea43562f14",
        "colab": {
          "base_uri": "https://localhost:8080/",
          "height": 198
        }
      },
      "source": [
        "stats.head()"
      ],
      "execution_count": 0,
      "outputs": [
        {
          "output_type": "execute_result",
          "data": {
            "text/html": [
              "<div>\n",
              "<style scoped>\n",
              "    .dataframe tbody tr th:only-of-type {\n",
              "        vertical-align: middle;\n",
              "    }\n",
              "\n",
              "    .dataframe tbody tr th {\n",
              "        vertical-align: top;\n",
              "    }\n",
              "\n",
              "    .dataframe thead th {\n",
              "        text-align: right;\n",
              "    }\n",
              "</style>\n",
              "<table border=\"1\" class=\"dataframe\">\n",
              "  <thead>\n",
              "    <tr style=\"text-align: right;\">\n",
              "      <th></th>\n",
              "      <th>Country Name</th>\n",
              "      <th>Country Code</th>\n",
              "      <th>Birth rate</th>\n",
              "      <th>Internet users</th>\n",
              "      <th>Income Group</th>\n",
              "    </tr>\n",
              "  </thead>\n",
              "  <tbody>\n",
              "    <tr>\n",
              "      <th>0</th>\n",
              "      <td>Aruba</td>\n",
              "      <td>ABW</td>\n",
              "      <td>10.244</td>\n",
              "      <td>78.9</td>\n",
              "      <td>High income</td>\n",
              "    </tr>\n",
              "    <tr>\n",
              "      <th>1</th>\n",
              "      <td>Afghanistan</td>\n",
              "      <td>AFG</td>\n",
              "      <td>35.253</td>\n",
              "      <td>5.9</td>\n",
              "      <td>Low income</td>\n",
              "    </tr>\n",
              "    <tr>\n",
              "      <th>2</th>\n",
              "      <td>Angola</td>\n",
              "      <td>AGO</td>\n",
              "      <td>45.985</td>\n",
              "      <td>19.1</td>\n",
              "      <td>Upper middle income</td>\n",
              "    </tr>\n",
              "    <tr>\n",
              "      <th>3</th>\n",
              "      <td>Albania</td>\n",
              "      <td>ALB</td>\n",
              "      <td>12.877</td>\n",
              "      <td>57.2</td>\n",
              "      <td>Upper middle income</td>\n",
              "    </tr>\n",
              "    <tr>\n",
              "      <th>4</th>\n",
              "      <td>United Arab Emirates</td>\n",
              "      <td>ARE</td>\n",
              "      <td>11.044</td>\n",
              "      <td>88.0</td>\n",
              "      <td>High income</td>\n",
              "    </tr>\n",
              "  </tbody>\n",
              "</table>\n",
              "</div>"
            ],
            "text/plain": [
              "           Country Name Country Code  Birth rate  Internet users  \\\n",
              "0                 Aruba          ABW      10.244            78.9   \n",
              "1           Afghanistan          AFG      35.253             5.9   \n",
              "2                Angola          AGO      45.985            19.1   \n",
              "3               Albania          ALB      12.877            57.2   \n",
              "4  United Arab Emirates          ARE      11.044            88.0   \n",
              "\n",
              "          Income Group  \n",
              "0          High income  \n",
              "1           Low income  \n",
              "2  Upper middle income  \n",
              "3  Upper middle income  \n",
              "4          High income  "
            ]
          },
          "metadata": {
            "tags": []
          },
          "execution_count": 26
        }
      ]
    },
    {
      "cell_type": "code",
      "metadata": {
        "id": "IGau_m9QdBRE",
        "colab_type": "code",
        "outputId": "7c62a122-70ed-48df-f2f4-d9c143bf543e",
        "colab": {
          "base_uri": "https://localhost:8080/",
          "height": 190
        }
      },
      "source": [
        "stats.info()"
      ],
      "execution_count": 0,
      "outputs": [
        {
          "output_type": "stream",
          "text": [
            "<class 'pandas.core.frame.DataFrame'>\n",
            "RangeIndex: 195 entries, 0 to 194\n",
            "Data columns (total 5 columns):\n",
            "Country Name      195 non-null object\n",
            "Country Code      195 non-null object\n",
            "Birth rate        195 non-null float64\n",
            "Internet users    195 non-null float64\n",
            "Income Group      195 non-null object\n",
            "dtypes: float64(2), object(3)\n",
            "memory usage: 7.7+ KB\n"
          ],
          "name": "stdout"
        }
      ]
    },
    {
      "cell_type": "code",
      "metadata": {
        "id": "y1kmDHAEdsjD",
        "colab_type": "code",
        "outputId": "687c53c2-c60b-491a-b047-6afa4cfa1dd0",
        "colab": {
          "base_uri": "https://localhost:8080/",
          "height": 301
        }
      },
      "source": [
        "# Your code here"
      ],
      "execution_count": 0,
      "outputs": [
        {
          "output_type": "execute_result",
          "data": {
            "text/plain": [
              "<matplotlib.axes._subplots.AxesSubplot at 0x7f2b7be86be0>"
            ]
          },
          "metadata": {
            "tags": []
          },
          "execution_count": 30
        },
        {
          "output_type": "display_data",
          "data": {
            "image/png": "[encoded data removed]",
            "text/plain": [
              "<Figure size 432x288 with 1 Axes>"
            ]
          },
          "metadata": {
            "tags": []
          }
        }
      ]
    },
    {
      "cell_type": "code",
      "metadata": {
        "id": "_w2sY4Bjd3Z7",
        "colab_type": "code",
        "outputId": "6517dd11-e292-4bf1-9dec-42b48f9b79ce",
        "colab": {
          "base_uri": "https://localhost:8080/",
          "height": 393
        }
      },
      "source": [
        "# Your code here"
      ],
      "execution_count": 0,
      "outputs": [
        {
          "output_type": "display_data",
          "data": {
            "image/png": "[encoded data removed]",
            "text/plain": [
              "<Figure size 864x432 with 2 Axes>"
            ]
          },
          "metadata": {
            "tags": []
          }
        }
      ]
    },
    {
      "cell_type": "code",
      "metadata": {
        "id": "ci3WMQD3ecW1",
        "colab_type": "code",
        "outputId": "53e06ffb-e6d1-4741-aeb7-404b693b90a6",
        "colab": {
          "base_uri": "https://localhost:8080/",
          "height": 301
        }
      },
      "source": [
        "# Your code here"
      ],
      "execution_count": 0,
      "outputs": [
        {
          "output_type": "execute_result",
          "data": {
            "text/plain": [
              "<matplotlib.axes._subplots.AxesSubplot at 0x7f2b7b9879e8>"
            ]
          },
          "metadata": {
            "tags": []
          },
          "execution_count": 47
        },
        {
          "output_type": "display_data",
          "data": {
            "image/png": "[encoded data removed]",
            "text/plain": [
              "<Figure size 432x288 with 1 Axes>"
            ]
          },
          "metadata": {
            "tags": []
          }
        }
      ]
    }
  ]
}