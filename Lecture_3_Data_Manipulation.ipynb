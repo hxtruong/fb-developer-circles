{
  "nbformat": 4,
  "nbformat_minor": 0,
  "metadata": {
    "colab": {
      "name": "Lecture_3_Data_Manipulation.ipynb",
      "version": "0.3.2",
      "provenance": [],
      "collapsed_sections": [],
      "include_colab_link": true
    },
    "language_info": {
      "codemirror_mode": {
        "name": "ipython",
        "version": 3
      },
      "file_extension": ".py",
      "mimetype": "text/x-python",
      "name": "python",
      "nbconvert_exporter": "python",
      "pygments_lexer": "ipython3",
      "version": "3.6.5"
    },
    "kernelspec": {
      "display_name": "Python 3",
      "language": "python",
      "name": "python3"
    }
  },
  "cells": [
    {
      "cell_type": "markdown",
      "metadata": {
        "id": "view-in-github",
        "colab_type": "text"
      },
      "source": [
        "<a href=\"https://colab.research.google.com/github/hxtruong/fb-developer-circles/blob/master/Lecture_3_Data_Manipulation.ipynb\" target=\"_parent\"><img src=\"https://colab.research.google.com/assets/colab-badge.svg\" alt=\"Open In Colab\"/></a>"
      ]
    },
    {
      "cell_type": "markdown",
      "metadata": {
        "id": "dXPkz9Ri4vQZ",
        "colab_type": "text"
      },
      "source": [
        "![](https://i.imgur.com/0AUxkXt.png)"
      ]
    },
    {
      "cell_type": "markdown",
      "metadata": {
        "id": "TQnsPD5DoaJW",
        "colab_type": "text"
      },
      "source": [
        "# Lecture 3 - Data Manipulation"
      ]
    },
    {
      "cell_type": "markdown",
      "metadata": {
        "id": "crg8WD5w4J7N",
        "colab_type": "text"
      },
      "source": [
        "## String manipulation in Python\n",
        "\n",
        "One place where the Python language really shines is in the manipulation of strings. This section will cover some of Python's built-in string methods and formatting operations, before moving on to a quick guide to the extremely useful subject of regular expressions. Such string manipulation patterns come up often in the context of data science work\n",
        "\n",
        "### Formatting strings: Adjusting case\n",
        "\n",
        "Python makes it quite easy to adjust the case of a string. Here we'll look at the `upper()`, `lower()`, `capitalize()`, and `swapcase()` methods."
      ]
    },
    {
      "cell_type": "code",
      "metadata": {
        "id": "k4uDbYdQ4J7P",
        "colab_type": "code",
        "colab": {}
      },
      "source": [
        "import numpy as np\n",
        "import pandas as pd\n",
        "import seaborn as sns\n",
        "import matplotlib.pyplot as plt\n",
        "%matplotlib inline\n",
        "import warnings\n",
        "warnings.filterwarnings('ignore')\n",
        "\n",
        "sns.set_style(\"whitegrid\")"
      ],
      "execution_count": 0,
      "outputs": []
    },
    {
      "cell_type": "code",
      "metadata": {
        "id": "5o-Oc3I24J7T",
        "colab_type": "code",
        "outputId": "d3170bf1-8a46-41cf-e58a-95705f4376d7",
        "colab": {
          "base_uri": "https://localhost:8080/",
          "height": 85
        }
      },
      "source": [
        "fox = 'tHe qUICk bROWn fOx.'\n",
        "# Apply the functions above to `fox` and print out the results\n",
        "print('upper()', fox.upper())\n",
        "print('lower()', fox.lower())\n",
        "print('capitalize()', fox.capitalize())\n",
        "print('swapcase()', fox.swapcase())\n",
        "# Capitalize every word in fox"
      ],
      "execution_count": 0,
      "outputs": [
        {
          "output_type": "stream",
          "text": [
            "upper() THE QUICK BROWN FOX.\n",
            "lower() the quick brown fox.\n",
            "capitalize() The quick brown fox.\n",
            "swapcase() ThE QuicK BrowN FoX.\n"
          ],
          "name": "stdout"
        }
      ]
    },
    {
      "cell_type": "markdown",
      "metadata": {
        "id": "b641Y1ZD4J7Y",
        "colab_type": "text"
      },
      "source": [
        "### Adding and removing spaces\n",
        "\n",
        "Another common need is to remove spaces (or other characters) from the beginning or end of the string. The basic method of removing characters is the `strip()` method, which strips whitespace from the beginning and end of the line. To remove just space to the right or left, use `rstrip()` or `lstrip()` respectively.\n",
        "\n",
        "To remove characters other than spaces, you can pass the desired character to the `strip()` method"
      ]
    },
    {
      "cell_type": "code",
      "metadata": {
        "id": "RH_dLwSr4J7Y",
        "colab_type": "code",
        "outputId": "a09bfc5a-2e37-480e-815d-214f14af993e",
        "colab": {
          "base_uri": "https://localhost:8080/",
          "height": 68
        }
      },
      "source": [
        "line = '         this is the content         '\n",
        "\n",
        "# Apply strip(), rstrip(), lstrip() to 'line' and print the results out\n",
        "print(line.strip())\n",
        "print(line.rstrip())\n",
        "print(line.lstrip())"
      ],
      "execution_count": 0,
      "outputs": [
        {
          "output_type": "stream",
          "text": [
            "this is the content\n",
            "         this is the content\n",
            "this is the content         \n"
          ],
          "name": "stdout"
        }
      ]
    },
    {
      "cell_type": "code",
      "metadata": {
        "id": "U5FB-NTg4J7b",
        "colab_type": "code",
        "outputId": "c9da13ce-9dfc-43c6-88e9-9ee69a05d7d3",
        "colab": {
          "base_uri": "https://localhost:8080/",
          "height": 34
        }
      },
      "source": [
        "num = '---4350000'\n",
        "import re\n",
        "re.findall(r'\\d+', num) "
      ],
      "execution_count": 0,
      "outputs": [
        {
          "output_type": "execute_result",
          "data": {
            "text/plain": [
              "['4350000']"
            ]
          },
          "metadata": {
            "tags": []
          },
          "execution_count": 5
        }
      ]
    },
    {
      "cell_type": "markdown",
      "metadata": {
        "id": "eYh4ZNMl4J7f",
        "colab_type": "text"
      },
      "source": [
        "### Finding and replacing and splitting\n",
        "\n",
        "If you want to find occurrences of a certain character in a string, the `find()`, `index()` and `replace()` methods are the best built-in methods.\n",
        "\n",
        "`find()` and `index()` are very similar, in that they search for the first occurrence of a character or substring within a string, and return the index of the substring.\n",
        "\n",
        "The `split()` method is perhaps more useful; it finds all instances of the split-point and returns the substrings in between. The default is to split on any whitespace, returning a list of the individual words in a string."
      ]
    },
    {
      "cell_type": "code",
      "metadata": {
        "id": "TpbTIAW24J7g",
        "colab_type": "code",
        "outputId": "1326e228-6389-4e81-82a2-4a7bb8be6ec5",
        "colab": {
          "base_uri": "https://localhost:8080/",
          "height": 85
        }
      },
      "source": [
        "line = 'the quick brown fox jumped over a lazy dog'\n",
        "\n",
        "# Find the index of 'fox' in 'line' using find() and index()\n",
        "# Your code here\n",
        "print(\"Index of 'fox': \", line.find('fox'))\n",
        "print(\"Index of 'fox': \", line.index('fox'))\n",
        "\n",
        "\n",
        "# Let's replace 'brown' with 'red'\n",
        "# Your code here\n",
        "print(line.replace('brown', 'red'))\n",
        "\n",
        "\n",
        "# List all words in 'line' and put them in an array\n",
        "# One line of code here\n",
        "splitedWords = line.split()\n",
        "print(splitedWords)\n"
      ],
      "execution_count": 0,
      "outputs": [
        {
          "output_type": "stream",
          "text": [
            "Index of 'fox':  16\n",
            "Index of 'fox':  16\n",
            "the quick red fox jumped over a lazy dog\n",
            "['the', 'quick', 'brown', 'fox', 'jumped', 'over', 'a', 'lazy', 'dog']\n"
          ],
          "name": "stdout"
        }
      ]
    },
    {
      "cell_type": "markdown",
      "metadata": {
        "id": "PL0v7FN_4J7k",
        "colab_type": "text"
      },
      "source": [
        "Note that if you would like to undo a `split()`, you can use the `join()` method, which returns a string built from a splitpoint and an iterable:"
      ]
    },
    {
      "cell_type": "code",
      "metadata": {
        "id": "_YrMzZYP4J7l",
        "colab_type": "code",
        "outputId": "9e2f3b9e-889e-41a3-cc87-5ac458695062",
        "colab": {
          "base_uri": "https://localhost:8080/",
          "height": 34
        }
      },
      "source": [
        "myTuple = tuple(splitedWords)\n",
        "myTuple\n",
        "\" \".join(myTuple)"
      ],
      "execution_count": 0,
      "outputs": [
        {
          "output_type": "execute_result",
          "data": {
            "text/plain": [
              "'the quick brown fox jumped over a lazy dog'"
            ]
          },
          "metadata": {
            "tags": []
          },
          "execution_count": 7
        }
      ]
    },
    {
      "cell_type": "markdown",
      "metadata": {
        "id": "YxeHCsjo4J7o",
        "colab_type": "text"
      },
      "source": [
        "### Regular Expression\n",
        "\n",
        "In Python, regular expressions are supported by the `re` module.\n",
        "\n",
        "A regular expression (or RE) specifies a set of strings that matches it; the functions in this module let you check if a particular string matches a given regular expression (or if a given regular expression matches a particular string, which comes down to the same thing).\n",
        "\n",
        "Let's walk through some examples:"
      ]
    },
    {
      "cell_type": "code",
      "metadata": {
        "id": "JNa4HQJs4J7p",
        "colab_type": "code",
        "colab": {}
      },
      "source": [
        "import re"
      ],
      "execution_count": 0,
      "outputs": []
    },
    {
      "cell_type": "code",
      "metadata": {
        "id": "CkMQA8il4J7s",
        "colab_type": "code",
        "outputId": "caa2d4b5-d997-4c0d-eca2-3375d5190015",
        "colab": {
          "base_uri": "https://localhost:8080/",
          "height": 34
        }
      },
      "source": [
        "email_regex = '\\w+@\\w+\\.\\w+'\n",
        "text = \"To email coders@gmail.com coderschool, try apply@coderschool.vn or the older address coderschool@gmail.com\"\n",
        "# print(re.search(email_regex,text))\n",
        "print(re.findall(email_regex,text))"
      ],
      "execution_count": 0,
      "outputs": [
        {
          "output_type": "stream",
          "text": [
            "['coders@gmail.com', 'apply@coderschool.vn', 'coderschool@gmail.com']\n"
          ],
          "name": "stdout"
        }
      ]
    },
    {
      "cell_type": "code",
      "metadata": {
        "id": "eeNcr6Ym4J7z",
        "colab_type": "code",
        "outputId": "28269268-999b-45ff-ec80-d369c4cd2819",
        "colab": {
          "base_uri": "https://localhost:8080/",
          "height": 34
        }
      },
      "source": [
        "# Replacing these email addresses with another string, perhaps to hide addresses in the output:\n",
        "re.sub(email_regex, '--@--.--', text)"
      ],
      "execution_count": 0,
      "outputs": [
        {
          "output_type": "execute_result",
          "data": {
            "text/plain": [
              "'To email --@--.-- coderschool, try --@--.-- or the older address --@--.--'"
            ]
          },
          "metadata": {
            "tags": []
          },
          "execution_count": 10
        }
      ]
    },
    {
      "cell_type": "code",
      "metadata": {
        "id": "FjQCzEV74J71",
        "colab_type": "code",
        "outputId": "0aad30f8-2b88-44bd-e366-872b761a1b28",
        "colab": {
          "base_uri": "https://localhost:8080/",
          "height": 34
        }
      },
      "source": [
        "# The following will match any lower-case vowel:\n",
        "re.split('[aeiou]', 'consequential')"
      ],
      "execution_count": 0,
      "outputs": [
        {
          "output_type": "execute_result",
          "data": {
            "text/plain": [
              "['c', 'ns', 'q', '', 'nt', '', 'l']"
            ]
          },
          "metadata": {
            "tags": []
          },
          "execution_count": 11
        }
      ]
    },
    {
      "cell_type": "markdown",
      "metadata": {
        "id": "FD9c-np14J74",
        "colab_type": "text"
      },
      "source": [
        "You may need to extract from a document specific numerical codes that consist of a capital letter followed by a digit. You could do this as follows:"
      ]
    },
    {
      "cell_type": "code",
      "metadata": {
        "id": "Lb5s1sJI4J74",
        "colab_type": "code",
        "outputId": "c68de867-4420-4728-f9ce-e8618134eed5",
        "colab": {
          "base_uri": "https://localhost:8080/",
          "height": 34
        }
      },
      "source": [
        "re.findall('[A-Z][0-9]', '1043879, G2, H6')"
      ],
      "execution_count": 0,
      "outputs": [
        {
          "output_type": "execute_result",
          "data": {
            "text/plain": [
              "['G2', 'H6']"
            ]
          },
          "metadata": {
            "tags": []
          },
          "execution_count": 12
        }
      ]
    },
    {
      "cell_type": "markdown",
      "metadata": {
        "id": "n8GNNrH74J77",
        "colab_type": "text"
      },
      "source": [
        "The following table lists a few of these characters that are commonly useful:\n",
        "\n",
        "|Character classes||Quantifiers & Alternation||\n",
        "|--- |--- |--- |--- |\n",
        "|.|any character except newline|a* a+ a?|0 or more, 1 or more, 0 or 1|\n",
        "|\\w \\d \\s|word, digit, whitespace|a{5} a{2,}|exactly five, two or more|\n",
        "|\\W \\D \\S|not word, digit, whitespace|a{1,3}|between one & three|\n",
        "|[abc]|any of a, b, or c|a+? a{2,}?|match as few as possible|\n",
        "|[^abc]|not a, b, or c|ab|cd|match ab or cd|\n",
        "|[a-g]|character between a & g|||\n",
        "|Anchors||Groups & Lookaround||\n",
        "|^abc$|start / end of the string|(abc)|capture group|\n",
        "|\\b|word boundary|\\1|backreference to group #1|\n",
        "|Escaped characters||(?:abc)|non-capturing group|\n",
        "|\\. \\* \\\\|\\ is used to escape special chars. \\* matches *|(?=abc)|positive lookahead|\n",
        "|\\t \\n \\r|tab, linefeed, carriage return|(?!abc)|negative lookahead|\n",
        "\n",
        "\n",
        "| Character | Description | Example |\n",
        "|------------|-----------|------------|\n",
        "| ? | Match zero or one repetitions of preceding |  \"ab?\" matches \"a\" or \"ab\" |\n",
        "| * | Match zero or more repetitions of preceding | \"ab*\" matches \"a\", \"ab\", \"abb\", \"abbb\"... |\n",
        "| + | Match one or more repetitions of preceding |  \"ab+\" matches \"ab\", \"abb\", \"abbb\"... but not \"a\" |\n",
        "| {n} | Match n repetitions of preceding | \"ab{2}\" matches \"abb\" |\n",
        "| {m,n} | Match between m and n repetitions of preceding |  \"ab{2,3}\" matches \"abb\" or \"abbb\" |\n",
        "\n"
      ]
    },
    {
      "cell_type": "markdown",
      "metadata": {
        "id": "jtVwvoZU4J78",
        "colab_type": "text"
      },
      "source": [
        "### Further Resources on Regular Expressions\n",
        "\n",
        "* [Python's re package Documentation](https://docs.python.org/3/library/re.html)\n",
        "* [Python's official regular expression HOWTO](https://docs.python.org/3/howto/regex.html)\n",
        "* [Mastering Regular Expressions (OReilly, 2006)](http://shop.oreilly.com/product/9780596528126.do)"
      ]
    },
    {
      "cell_type": "markdown",
      "metadata": {
        "id": "iNRwZo2xY2ng",
        "colab_type": "text"
      },
      "source": [
        "## Practice\n",
        "\n",
        "**Handling with different format of phone numbers**"
      ]
    },
    {
      "cell_type": "code",
      "metadata": {
        "id": "yMxX8Lca4J79",
        "colab_type": "code",
        "outputId": "acb383a1-aa06-41d0-9b17-a2d3c5e9f42b",
        "colab": {
          "base_uri": "https://localhost:8080/",
          "height": 204
        }
      },
      "source": [
        "phoneNumbers = ['392969437', '339599939', '+(84)982554028', '0084982554028', '939224327',\n",
        "       '929221869', '982554028', '+(84)906670964', '0084971117397', '974914174',\n",
        "       '945481728', '84925481146', '332696839', '814200997', '798030258',\n",
        "       '843756291', '904864089', '972647803', '907491419',\n",
        "       '+84 938 175 164', '962687145', '972996711', '908271465',\n",
        "       '907292137', '395180750', '906789743', '767693801', '813994299',\n",
        "       '366132601', '866765227', '+(84) 359636387', '+84969541095', '+84 161 278 77 464',\n",
        "       '965918383', '849541095', '84934116689']\n",
        "df = pd.DataFrame(phoneNumbers, columns=['Phone Number'])\n",
        "df.head()"
      ],
      "execution_count": 0,
      "outputs": [
        {
          "output_type": "execute_result",
          "data": {
            "text/html": [
              "<div>\n",
              "<style scoped>\n",
              "    .dataframe tbody tr th:only-of-type {\n",
              "        vertical-align: middle;\n",
              "    }\n",
              "\n",
              "    .dataframe tbody tr th {\n",
              "        vertical-align: top;\n",
              "    }\n",
              "\n",
              "    .dataframe thead th {\n",
              "        text-align: right;\n",
              "    }\n",
              "</style>\n",
              "<table border=\"1\" class=\"dataframe\">\n",
              "  <thead>\n",
              "    <tr style=\"text-align: right;\">\n",
              "      <th></th>\n",
              "      <th>Phone Number</th>\n",
              "    </tr>\n",
              "  </thead>\n",
              "  <tbody>\n",
              "    <tr>\n",
              "      <th>0</th>\n",
              "      <td>392969437</td>\n",
              "    </tr>\n",
              "    <tr>\n",
              "      <th>1</th>\n",
              "      <td>339599939</td>\n",
              "    </tr>\n",
              "    <tr>\n",
              "      <th>2</th>\n",
              "      <td>+(84)982554028</td>\n",
              "    </tr>\n",
              "    <tr>\n",
              "      <th>3</th>\n",
              "      <td>0084982554028</td>\n",
              "    </tr>\n",
              "    <tr>\n",
              "      <th>4</th>\n",
              "      <td>939224327</td>\n",
              "    </tr>\n",
              "  </tbody>\n",
              "</table>\n",
              "</div>"
            ],
            "text/plain": [
              "     Phone Number\n",
              "0       392969437\n",
              "1       339599939\n",
              "2  +(84)982554028\n",
              "3   0084982554028\n",
              "4       939224327"
            ]
          },
          "metadata": {
            "tags": []
          },
          "execution_count": 13
        }
      ]
    },
    {
      "cell_type": "code",
      "metadata": {
        "id": "CQJftbFad_t9",
        "colab_type": "code",
        "outputId": "16ddf6bd-763e-4095-c831-a14a1efe9ef8",
        "colab": {
          "base_uri": "https://localhost:8080/",
          "height": 80
        }
      },
      "source": [
        "df[df['Phone Number']=='392969437']"
      ],
      "execution_count": 0,
      "outputs": [
        {
          "output_type": "execute_result",
          "data": {
            "text/html": [
              "<div>\n",
              "<style scoped>\n",
              "    .dataframe tbody tr th:only-of-type {\n",
              "        vertical-align: middle;\n",
              "    }\n",
              "\n",
              "    .dataframe tbody tr th {\n",
              "        vertical-align: top;\n",
              "    }\n",
              "\n",
              "    .dataframe thead th {\n",
              "        text-align: right;\n",
              "    }\n",
              "</style>\n",
              "<table border=\"1\" class=\"dataframe\">\n",
              "  <thead>\n",
              "    <tr style=\"text-align: right;\">\n",
              "      <th></th>\n",
              "      <th>Phone Number</th>\n",
              "    </tr>\n",
              "  </thead>\n",
              "  <tbody>\n",
              "    <tr>\n",
              "      <th>0</th>\n",
              "      <td>392969437</td>\n",
              "    </tr>\n",
              "  </tbody>\n",
              "</table>\n",
              "</div>"
            ],
            "text/plain": [
              "  Phone Number\n",
              "0    392969437"
            ]
          },
          "metadata": {
            "tags": []
          },
          "execution_count": 14
        }
      ]
    },
    {
      "cell_type": "code",
      "metadata": {
        "id": "f39kUZaEZxv6",
        "colab_type": "code",
        "outputId": "e58b1528-1640-437e-ee2f-ce2c5a2f172f",
        "colab": {
          "base_uri": "https://localhost:8080/",
          "height": 34
        }
      },
      "source": [
        "# Clean the phone number data\n",
        "\n",
        "import re\n",
        "def pre_processing_phone(phone):\n",
        "  replaceCountry = r'.\\(\\d+\\)|\\s|\\+\\d{2}'\n",
        "  temp = re.sub(replaceCountry, '0', phone)\n",
        "  \n",
        "  temp = '0' + temp\n",
        "  \n",
        "  rmZero = r'0{1}[^0]\\d+'\n",
        "  temp = re.search(rmZero, temp)\n",
        "  \n",
        "  res = temp\n",
        "  if temp != None:\n",
        "    res = temp.group()\n",
        "  return res\n",
        "\n",
        "print(pre_processing_phone(\"+41 84982554028\"))\n"
      ],
      "execution_count": 0,
      "outputs": [
        {
          "output_type": "stream",
          "text": [
            "084982554028\n"
          ],
          "name": "stdout"
        }
      ]
    },
    {
      "cell_type": "code",
      "metadata": {
        "id": "s6MP7pXxaCZ3",
        "colab_type": "code",
        "outputId": "b7a1af4f-a11f-42b1-ae8f-140019959257",
        "colab": {
          "base_uri": "https://localhost:8080/",
          "height": 1000
        }
      },
      "source": [
        "df['Cleaned Phone Number'] = df['Phone Number'].apply(pre_processing_phone)\n",
        "df"
      ],
      "execution_count": 0,
      "outputs": [
        {
          "output_type": "execute_result",
          "data": {
            "text/html": [
              "<div>\n",
              "<style scoped>\n",
              "    .dataframe tbody tr th:only-of-type {\n",
              "        vertical-align: middle;\n",
              "    }\n",
              "\n",
              "    .dataframe tbody tr th {\n",
              "        vertical-align: top;\n",
              "    }\n",
              "\n",
              "    .dataframe thead th {\n",
              "        text-align: right;\n",
              "    }\n",
              "</style>\n",
              "<table border=\"1\" class=\"dataframe\">\n",
              "  <thead>\n",
              "    <tr style=\"text-align: right;\">\n",
              "      <th></th>\n",
              "      <th>Phone Number</th>\n",
              "      <th>Cleaned Phone Number</th>\n",
              "    </tr>\n",
              "  </thead>\n",
              "  <tbody>\n",
              "    <tr>\n",
              "      <th>0</th>\n",
              "      <td>392969437</td>\n",
              "      <td>0392969437</td>\n",
              "    </tr>\n",
              "    <tr>\n",
              "      <th>1</th>\n",
              "      <td>339599939</td>\n",
              "      <td>0339599939</td>\n",
              "    </tr>\n",
              "    <tr>\n",
              "      <th>2</th>\n",
              "      <td>+(84)982554028</td>\n",
              "      <td>0982554028</td>\n",
              "    </tr>\n",
              "    <tr>\n",
              "      <th>3</th>\n",
              "      <td>0084982554028</td>\n",
              "      <td>084982554028</td>\n",
              "    </tr>\n",
              "    <tr>\n",
              "      <th>4</th>\n",
              "      <td>939224327</td>\n",
              "      <td>0939224327</td>\n",
              "    </tr>\n",
              "    <tr>\n",
              "      <th>5</th>\n",
              "      <td>929221869</td>\n",
              "      <td>0929221869</td>\n",
              "    </tr>\n",
              "    <tr>\n",
              "      <th>6</th>\n",
              "      <td>982554028</td>\n",
              "      <td>0982554028</td>\n",
              "    </tr>\n",
              "    <tr>\n",
              "      <th>7</th>\n",
              "      <td>+(84)906670964</td>\n",
              "      <td>0906670964</td>\n",
              "    </tr>\n",
              "    <tr>\n",
              "      <th>8</th>\n",
              "      <td>0084971117397</td>\n",
              "      <td>084971117397</td>\n",
              "    </tr>\n",
              "    <tr>\n",
              "      <th>9</th>\n",
              "      <td>974914174</td>\n",
              "      <td>0974914174</td>\n",
              "    </tr>\n",
              "    <tr>\n",
              "      <th>10</th>\n",
              "      <td>945481728</td>\n",
              "      <td>0945481728</td>\n",
              "    </tr>\n",
              "    <tr>\n",
              "      <th>11</th>\n",
              "      <td>84925481146</td>\n",
              "      <td>084925481146</td>\n",
              "    </tr>\n",
              "    <tr>\n",
              "      <th>12</th>\n",
              "      <td>332696839</td>\n",
              "      <td>0332696839</td>\n",
              "    </tr>\n",
              "    <tr>\n",
              "      <th>13</th>\n",
              "      <td>814200997</td>\n",
              "      <td>0814200997</td>\n",
              "    </tr>\n",
              "    <tr>\n",
              "      <th>14</th>\n",
              "      <td>798030258</td>\n",
              "      <td>0798030258</td>\n",
              "    </tr>\n",
              "    <tr>\n",
              "      <th>15</th>\n",
              "      <td>843756291</td>\n",
              "      <td>0843756291</td>\n",
              "    </tr>\n",
              "    <tr>\n",
              "      <th>16</th>\n",
              "      <td>904864089</td>\n",
              "      <td>0904864089</td>\n",
              "    </tr>\n",
              "    <tr>\n",
              "      <th>17</th>\n",
              "      <td>972647803</td>\n",
              "      <td>0972647803</td>\n",
              "    </tr>\n",
              "    <tr>\n",
              "      <th>18</th>\n",
              "      <td>907491419</td>\n",
              "      <td>0907491419</td>\n",
              "    </tr>\n",
              "    <tr>\n",
              "      <th>19</th>\n",
              "      <td>+84 938 175 164</td>\n",
              "      <td>093801750164</td>\n",
              "    </tr>\n",
              "    <tr>\n",
              "      <th>20</th>\n",
              "      <td>962687145</td>\n",
              "      <td>0962687145</td>\n",
              "    </tr>\n",
              "    <tr>\n",
              "      <th>21</th>\n",
              "      <td>972996711</td>\n",
              "      <td>0972996711</td>\n",
              "    </tr>\n",
              "    <tr>\n",
              "      <th>22</th>\n",
              "      <td>908271465</td>\n",
              "      <td>0908271465</td>\n",
              "    </tr>\n",
              "    <tr>\n",
              "      <th>23</th>\n",
              "      <td>907292137</td>\n",
              "      <td>0907292137</td>\n",
              "    </tr>\n",
              "    <tr>\n",
              "      <th>24</th>\n",
              "      <td>395180750</td>\n",
              "      <td>0395180750</td>\n",
              "    </tr>\n",
              "    <tr>\n",
              "      <th>25</th>\n",
              "      <td>906789743</td>\n",
              "      <td>0906789743</td>\n",
              "    </tr>\n",
              "    <tr>\n",
              "      <th>26</th>\n",
              "      <td>767693801</td>\n",
              "      <td>0767693801</td>\n",
              "    </tr>\n",
              "    <tr>\n",
              "      <th>27</th>\n",
              "      <td>813994299</td>\n",
              "      <td>0813994299</td>\n",
              "    </tr>\n",
              "    <tr>\n",
              "      <th>28</th>\n",
              "      <td>366132601</td>\n",
              "      <td>0366132601</td>\n",
              "    </tr>\n",
              "    <tr>\n",
              "      <th>29</th>\n",
              "      <td>866765227</td>\n",
              "      <td>0866765227</td>\n",
              "    </tr>\n",
              "    <tr>\n",
              "      <th>30</th>\n",
              "      <td>+(84) 359636387</td>\n",
              "      <td>0359636387</td>\n",
              "    </tr>\n",
              "    <tr>\n",
              "      <th>31</th>\n",
              "      <td>+84969541095</td>\n",
              "      <td>0969541095</td>\n",
              "    </tr>\n",
              "    <tr>\n",
              "      <th>32</th>\n",
              "      <td>+84 161 278 77 464</td>\n",
              "      <td>016102780770464</td>\n",
              "    </tr>\n",
              "    <tr>\n",
              "      <th>33</th>\n",
              "      <td>965918383</td>\n",
              "      <td>0965918383</td>\n",
              "    </tr>\n",
              "    <tr>\n",
              "      <th>34</th>\n",
              "      <td>849541095</td>\n",
              "      <td>0849541095</td>\n",
              "    </tr>\n",
              "    <tr>\n",
              "      <th>35</th>\n",
              "      <td>84934116689</td>\n",
              "      <td>084934116689</td>\n",
              "    </tr>\n",
              "  </tbody>\n",
              "</table>\n",
              "</div>"
            ],
            "text/plain": [
              "          Phone Number Cleaned Phone Number\n",
              "0            392969437           0392969437\n",
              "1            339599939           0339599939\n",
              "2       +(84)982554028           0982554028\n",
              "3        0084982554028         084982554028\n",
              "4            939224327           0939224327\n",
              "5            929221869           0929221869\n",
              "6            982554028           0982554028\n",
              "7       +(84)906670964           0906670964\n",
              "8        0084971117397         084971117397\n",
              "9            974914174           0974914174\n",
              "10           945481728           0945481728\n",
              "11         84925481146         084925481146\n",
              "12           332696839           0332696839\n",
              "13           814200997           0814200997\n",
              "14           798030258           0798030258\n",
              "15           843756291           0843756291\n",
              "16           904864089           0904864089\n",
              "17           972647803           0972647803\n",
              "18           907491419           0907491419\n",
              "19     +84 938 175 164         093801750164\n",
              "20           962687145           0962687145\n",
              "21           972996711           0972996711\n",
              "22           908271465           0908271465\n",
              "23           907292137           0907292137\n",
              "24           395180750           0395180750\n",
              "25           906789743           0906789743\n",
              "26           767693801           0767693801\n",
              "27           813994299           0813994299\n",
              "28           366132601           0366132601\n",
              "29           866765227           0866765227\n",
              "30     +(84) 359636387           0359636387\n",
              "31        +84969541095           0969541095\n",
              "32  +84 161 278 77 464      016102780770464\n",
              "33           965918383           0965918383\n",
              "34           849541095           0849541095\n",
              "35         84934116689         084934116689"
            ]
          },
          "metadata": {
            "tags": []
          },
          "execution_count": 84
        }
      ]
    },
    {
      "cell_type": "code",
      "metadata": {
        "id": "jfNe0G3haSTN",
        "colab_type": "code",
        "colab": {}
      },
      "source": [
        "df = df[df['Cleaned Phone Number'].apply(len) <= 10]"
      ],
      "execution_count": 0,
      "outputs": []
    },
    {
      "cell_type": "code",
      "metadata": {
        "id": "w5XFiM3Oan-7",
        "colab_type": "code",
        "outputId": "e53a06c3-9acc-4b43-9b6f-fc215dcc6671",
        "colab": {
          "base_uri": "https://localhost:8080/",
          "height": 979
        }
      },
      "source": [
        "df"
      ],
      "execution_count": 0,
      "outputs": [
        {
          "output_type": "execute_result",
          "data": {
            "text/html": [
              "<div>\n",
              "<style scoped>\n",
              "    .dataframe tbody tr th:only-of-type {\n",
              "        vertical-align: middle;\n",
              "    }\n",
              "\n",
              "    .dataframe tbody tr th {\n",
              "        vertical-align: top;\n",
              "    }\n",
              "\n",
              "    .dataframe thead th {\n",
              "        text-align: right;\n",
              "    }\n",
              "</style>\n",
              "<table border=\"1\" class=\"dataframe\">\n",
              "  <thead>\n",
              "    <tr style=\"text-align: right;\">\n",
              "      <th></th>\n",
              "      <th>Phone Number</th>\n",
              "      <th>Cleaned Phone Number</th>\n",
              "    </tr>\n",
              "  </thead>\n",
              "  <tbody>\n",
              "    <tr>\n",
              "      <th>0</th>\n",
              "      <td>392969437</td>\n",
              "      <td>0392969437</td>\n",
              "    </tr>\n",
              "    <tr>\n",
              "      <th>1</th>\n",
              "      <td>339599939</td>\n",
              "      <td>0339599939</td>\n",
              "    </tr>\n",
              "    <tr>\n",
              "      <th>2</th>\n",
              "      <td>+(84)982554028</td>\n",
              "      <td>0982554028</td>\n",
              "    </tr>\n",
              "    <tr>\n",
              "      <th>4</th>\n",
              "      <td>939224327</td>\n",
              "      <td>0939224327</td>\n",
              "    </tr>\n",
              "    <tr>\n",
              "      <th>5</th>\n",
              "      <td>929221869</td>\n",
              "      <td>0929221869</td>\n",
              "    </tr>\n",
              "    <tr>\n",
              "      <th>6</th>\n",
              "      <td>982554028</td>\n",
              "      <td>0982554028</td>\n",
              "    </tr>\n",
              "    <tr>\n",
              "      <th>7</th>\n",
              "      <td>+(84)906670964</td>\n",
              "      <td>0906670964</td>\n",
              "    </tr>\n",
              "    <tr>\n",
              "      <th>9</th>\n",
              "      <td>974914174</td>\n",
              "      <td>0974914174</td>\n",
              "    </tr>\n",
              "    <tr>\n",
              "      <th>10</th>\n",
              "      <td>945481728</td>\n",
              "      <td>0945481728</td>\n",
              "    </tr>\n",
              "    <tr>\n",
              "      <th>12</th>\n",
              "      <td>332696839</td>\n",
              "      <td>0332696839</td>\n",
              "    </tr>\n",
              "    <tr>\n",
              "      <th>13</th>\n",
              "      <td>814200997</td>\n",
              "      <td>0814200997</td>\n",
              "    </tr>\n",
              "    <tr>\n",
              "      <th>14</th>\n",
              "      <td>798030258</td>\n",
              "      <td>0798030258</td>\n",
              "    </tr>\n",
              "    <tr>\n",
              "      <th>15</th>\n",
              "      <td>843756291</td>\n",
              "      <td>0843756291</td>\n",
              "    </tr>\n",
              "    <tr>\n",
              "      <th>16</th>\n",
              "      <td>904864089</td>\n",
              "      <td>0904864089</td>\n",
              "    </tr>\n",
              "    <tr>\n",
              "      <th>17</th>\n",
              "      <td>972647803</td>\n",
              "      <td>0972647803</td>\n",
              "    </tr>\n",
              "    <tr>\n",
              "      <th>18</th>\n",
              "      <td>907491419</td>\n",
              "      <td>0907491419</td>\n",
              "    </tr>\n",
              "    <tr>\n",
              "      <th>20</th>\n",
              "      <td>962687145</td>\n",
              "      <td>0962687145</td>\n",
              "    </tr>\n",
              "    <tr>\n",
              "      <th>21</th>\n",
              "      <td>972996711</td>\n",
              "      <td>0972996711</td>\n",
              "    </tr>\n",
              "    <tr>\n",
              "      <th>22</th>\n",
              "      <td>908271465</td>\n",
              "      <td>0908271465</td>\n",
              "    </tr>\n",
              "    <tr>\n",
              "      <th>23</th>\n",
              "      <td>907292137</td>\n",
              "      <td>0907292137</td>\n",
              "    </tr>\n",
              "    <tr>\n",
              "      <th>24</th>\n",
              "      <td>395180750</td>\n",
              "      <td>0395180750</td>\n",
              "    </tr>\n",
              "    <tr>\n",
              "      <th>25</th>\n",
              "      <td>906789743</td>\n",
              "      <td>0906789743</td>\n",
              "    </tr>\n",
              "    <tr>\n",
              "      <th>26</th>\n",
              "      <td>767693801</td>\n",
              "      <td>0767693801</td>\n",
              "    </tr>\n",
              "    <tr>\n",
              "      <th>27</th>\n",
              "      <td>813994299</td>\n",
              "      <td>0813994299</td>\n",
              "    </tr>\n",
              "    <tr>\n",
              "      <th>28</th>\n",
              "      <td>366132601</td>\n",
              "      <td>0366132601</td>\n",
              "    </tr>\n",
              "    <tr>\n",
              "      <th>29</th>\n",
              "      <td>866765227</td>\n",
              "      <td>0866765227</td>\n",
              "    </tr>\n",
              "    <tr>\n",
              "      <th>30</th>\n",
              "      <td>+(84) 359636387</td>\n",
              "      <td>0359636387</td>\n",
              "    </tr>\n",
              "    <tr>\n",
              "      <th>31</th>\n",
              "      <td>+84969541095</td>\n",
              "      <td>0969541095</td>\n",
              "    </tr>\n",
              "    <tr>\n",
              "      <th>33</th>\n",
              "      <td>965918383</td>\n",
              "      <td>0965918383</td>\n",
              "    </tr>\n",
              "    <tr>\n",
              "      <th>34</th>\n",
              "      <td>849541095</td>\n",
              "      <td>0849541095</td>\n",
              "    </tr>\n",
              "  </tbody>\n",
              "</table>\n",
              "</div>"
            ],
            "text/plain": [
              "       Phone Number Cleaned Phone Number\n",
              "0         392969437           0392969437\n",
              "1         339599939           0339599939\n",
              "2    +(84)982554028           0982554028\n",
              "4         939224327           0939224327\n",
              "5         929221869           0929221869\n",
              "6         982554028           0982554028\n",
              "7    +(84)906670964           0906670964\n",
              "9         974914174           0974914174\n",
              "10        945481728           0945481728\n",
              "12        332696839           0332696839\n",
              "13        814200997           0814200997\n",
              "14        798030258           0798030258\n",
              "15        843756291           0843756291\n",
              "16        904864089           0904864089\n",
              "17        972647803           0972647803\n",
              "18        907491419           0907491419\n",
              "20        962687145           0962687145\n",
              "21        972996711           0972996711\n",
              "22        908271465           0908271465\n",
              "23        907292137           0907292137\n",
              "24        395180750           0395180750\n",
              "25        906789743           0906789743\n",
              "26        767693801           0767693801\n",
              "27        813994299           0813994299\n",
              "28        366132601           0366132601\n",
              "29        866765227           0866765227\n",
              "30  +(84) 359636387           0359636387\n",
              "31     +84969541095           0969541095\n",
              "33        965918383           0965918383\n",
              "34        849541095           0849541095"
            ]
          },
          "metadata": {
            "tags": []
          },
          "execution_count": 86
        }
      ]
    },
    {
      "cell_type": "markdown",
      "metadata": {
        "id": "u3RbzUfVcrsx",
        "colab_type": "text"
      },
      "source": [
        "### Correlation does not imply causation"
      ]
    },
    {
      "cell_type": "code",
      "metadata": {
        "id": "XwcLOlbcbyiN",
        "colab_type": "code",
        "colab": {}
      },
      "source": [
        "link = 'https://ml101-khanhnguyen.s3-ap-southeast-1.amazonaws.com/devc/P4-Demographic-Data.csv'\n",
        "stats = pd.read_csv(link)"
      ],
      "execution_count": 0,
      "outputs": []
    },
    {
      "cell_type": "code",
      "metadata": {
        "id": "NJ29G8v9bzpg",
        "colab_type": "code",
        "outputId": "a00140b1-5106-4f06-cbdb-fb0b11d01ee1",
        "colab": {
          "base_uri": "https://localhost:8080/",
          "height": 204
        }
      },
      "source": [
        "stats.head()"
      ],
      "execution_count": 0,
      "outputs": [
        {
          "output_type": "execute_result",
          "data": {
            "text/html": [
              "<div>\n",
              "<style scoped>\n",
              "    .dataframe tbody tr th:only-of-type {\n",
              "        vertical-align: middle;\n",
              "    }\n",
              "\n",
              "    .dataframe tbody tr th {\n",
              "        vertical-align: top;\n",
              "    }\n",
              "\n",
              "    .dataframe thead th {\n",
              "        text-align: right;\n",
              "    }\n",
              "</style>\n",
              "<table border=\"1\" class=\"dataframe\">\n",
              "  <thead>\n",
              "    <tr style=\"text-align: right;\">\n",
              "      <th></th>\n",
              "      <th>Country Name</th>\n",
              "      <th>Country Code</th>\n",
              "      <th>Birth rate</th>\n",
              "      <th>Internet users</th>\n",
              "      <th>Income Group</th>\n",
              "    </tr>\n",
              "  </thead>\n",
              "  <tbody>\n",
              "    <tr>\n",
              "      <th>0</th>\n",
              "      <td>Aruba</td>\n",
              "      <td>ABW</td>\n",
              "      <td>10.244</td>\n",
              "      <td>78.9</td>\n",
              "      <td>High income</td>\n",
              "    </tr>\n",
              "    <tr>\n",
              "      <th>1</th>\n",
              "      <td>Afghanistan</td>\n",
              "      <td>AFG</td>\n",
              "      <td>35.253</td>\n",
              "      <td>5.9</td>\n",
              "      <td>Low income</td>\n",
              "    </tr>\n",
              "    <tr>\n",
              "      <th>2</th>\n",
              "      <td>Angola</td>\n",
              "      <td>AGO</td>\n",
              "      <td>45.985</td>\n",
              "      <td>19.1</td>\n",
              "      <td>Upper middle income</td>\n",
              "    </tr>\n",
              "    <tr>\n",
              "      <th>3</th>\n",
              "      <td>Albania</td>\n",
              "      <td>ALB</td>\n",
              "      <td>12.877</td>\n",
              "      <td>57.2</td>\n",
              "      <td>Upper middle income</td>\n",
              "    </tr>\n",
              "    <tr>\n",
              "      <th>4</th>\n",
              "      <td>United Arab Emirates</td>\n",
              "      <td>ARE</td>\n",
              "      <td>11.044</td>\n",
              "      <td>88.0</td>\n",
              "      <td>High income</td>\n",
              "    </tr>\n",
              "  </tbody>\n",
              "</table>\n",
              "</div>"
            ],
            "text/plain": [
              "           Country Name Country Code  ...  Internet users         Income Group\n",
              "0                 Aruba          ABW  ...            78.9          High income\n",
              "1           Afghanistan          AFG  ...             5.9           Low income\n",
              "2                Angola          AGO  ...            19.1  Upper middle income\n",
              "3               Albania          ALB  ...            57.2  Upper middle income\n",
              "4  United Arab Emirates          ARE  ...            88.0          High income\n",
              "\n",
              "[5 rows x 5 columns]"
            ]
          },
          "metadata": {
            "tags": []
          },
          "execution_count": 19
        }
      ]
    },
    {
      "cell_type": "code",
      "metadata": {
        "id": "IGau_m9QdBRE",
        "colab_type": "code",
        "outputId": "d1932603-059f-4da7-ef13-8bb0a8d9105d",
        "colab": {
          "base_uri": "https://localhost:8080/",
          "height": 187
        }
      },
      "source": [
        "stats.info()"
      ],
      "execution_count": 0,
      "outputs": [
        {
          "output_type": "stream",
          "text": [
            "<class 'pandas.core.frame.DataFrame'>\n",
            "RangeIndex: 195 entries, 0 to 194\n",
            "Data columns (total 5 columns):\n",
            "Country Name      195 non-null object\n",
            "Country Code      195 non-null object\n",
            "Birth rate        195 non-null float64\n",
            "Internet users    195 non-null float64\n",
            "Income Group      195 non-null object\n",
            "dtypes: float64(2), object(3)\n",
            "memory usage: 7.7+ KB\n"
          ],
          "name": "stdout"
        }
      ]
    },
    {
      "cell_type": "code",
      "metadata": {
        "id": "ZTNNV-O1xBL7",
        "colab_type": "code",
        "outputId": "1741fed4-f1e5-48f8-eb7e-cdf8813930d0",
        "colab": {
          "base_uri": "https://localhost:8080/",
          "height": 102
        }
      },
      "source": [
        "stats['Income Group'].value_counts()"
      ],
      "execution_count": 0,
      "outputs": [
        {
          "output_type": "execute_result",
          "data": {
            "text/plain": [
              "High income            67\n",
              "Lower middle income    50\n",
              "Upper middle income    48\n",
              "Low income             30\n",
              "Name: Income Group, dtype: int64"
            ]
          },
          "metadata": {
            "tags": []
          },
          "execution_count": 21
        }
      ]
    },
    {
      "cell_type": "code",
      "metadata": {
        "id": "y1kmDHAEdsjD",
        "colab_type": "code",
        "outputId": "2830276e-4fc0-4b1d-88e2-d999a387cac6",
        "colab": {
          "base_uri": "https://localhost:8080/",
          "height": 286
        }
      },
      "source": [
        "stats['Income Group'].value_counts().plot(kind='barh')"
      ],
      "execution_count": 0,
      "outputs": [
        {
          "output_type": "execute_result",
          "data": {
            "text/plain": [
              "<matplotlib.axes._subplots.AxesSubplot at 0x7f92afba8dd8>"
            ]
          },
          "metadata": {
            "tags": []
          },
          "execution_count": 26
        },
        {
          "output_type": "display_data",
          "data": {
            "image/png": "[encoded data removed]",
            "text/plain": [
              "<Figure size 432x288 with 1 Axes>"
            ]
          },
          "metadata": {
            "tags": []
          }
        }
      ]
    },
    {
      "cell_type": "code",
      "metadata": {
        "id": "_w2sY4Bjd3Z7",
        "colab_type": "code",
        "outputId": "6517dd11-e292-4bf1-9dec-42b48f9b79ce",
        "colab": {
          "base_uri": "https://localhost:8080/",
          "height": 393
        }
      },
      "source": [
        "# Your code here"
      ],
      "execution_count": 0,
      "outputs": [
        {
          "output_type": "display_data",
          "data": {
            "image/png": "[encoded data removed]",
            "text/plain": [
              "<Figure size 864x432 with 2 Axes>"
            ]
          },
          "metadata": {
            "tags": []
          }
        }
      ]
    },
    {
      "cell_type": "code",
      "metadata": {
        "id": "RvXLN0pGy1yK",
        "colab_type": "code",
        "outputId": "44ccadbb-6750-4c31-c3a7-215b1c468637",
        "colab": {
          "base_uri": "https://localhost:8080/",
          "height": 300
        }
      },
      "source": [
        "sns.boxplot(x=\"Internet users\", y=\"Income Group\", data=stats)"
      ],
      "execution_count": 0,
      "outputs": [
        {
          "output_type": "execute_result",
          "data": {
            "text/plain": [
              "<matplotlib.axes._subplots.AxesSubplot at 0x7f1a70d42080>"
            ]
          },
          "metadata": {
            "tags": []
          },
          "execution_count": 65
        },
        {
          "output_type": "display_data",
          "data": {
            "image/png": "[encoded data removed]",
            "text/plain": [
              "<Figure size 432x288 with 1 Axes>"
            ]
          },
          "metadata": {
            "tags": []
          }
        }
      ]
    },
    {
      "cell_type": "code",
      "metadata": {
        "id": "KPTHr_tWy7Yj",
        "colab_type": "code",
        "outputId": "4e43f53f-cb7c-42a8-cf20-57598186cb57",
        "colab": {
          "base_uri": "https://localhost:8080/",
          "height": 300
        }
      },
      "source": [
        "sns.boxplot(x=\"Birth rate\", y=\"Income Group\", data=stats)"
      ],
      "execution_count": 0,
      "outputs": [
        {
          "output_type": "execute_result",
          "data": {
            "text/plain": [
              "<matplotlib.axes._subplots.AxesSubplot at 0x7f1a70d281d0>"
            ]
          },
          "metadata": {
            "tags": []
          },
          "execution_count": 66
        },
        {
          "output_type": "display_data",
          "data": {
            "image/png": "[encoded data removed]",
            "text/plain": [
              "<Figure size 432x288 with 1 Axes>"
            ]
          },
          "metadata": {
            "tags": []
          }
        }
      ]
    },
    {
      "cell_type": "code",
      "metadata": {
        "id": "ci3WMQD3ecW1",
        "colab_type": "code",
        "outputId": "c1a3f4ec-00b3-45f9-9efb-d0517b43cd3c",
        "colab": {
          "base_uri": "https://localhost:8080/",
          "height": 300
        }
      },
      "source": [
        "sns.scatterplot(x=\"Internet users\", y=\"Birth rate\", data=stats)"
      ],
      "execution_count": 0,
      "outputs": [
        {
          "output_type": "execute_result",
          "data": {
            "text/plain": [
              "<matplotlib.axes._subplots.AxesSubplot at 0x7f1a73620a90>"
            ]
          },
          "metadata": {
            "tags": []
          },
          "execution_count": 64
        },
        {
          "output_type": "display_data",
          "data": {
            "image/png": "[encoded data removed]",
            "text/plain": [
              "<Figure size 432x288 with 1 Axes>"
            ]
          },
          "metadata": {
            "tags": []
          }
        }
      ]
    }
  ]
}