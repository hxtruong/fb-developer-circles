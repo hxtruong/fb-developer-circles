{
  "nbformat": 4,
  "nbformat_minor": 0,
  "metadata": {
    "kernelspec": {
      "display_name": "Python 3",
      "language": "python",
      "name": "python3"
    },
    "language_info": {
      "codemirror_mode": {
        "name": "ipython",
        "version": 3
      },
      "file_extension": ".py",
      "mimetype": "text/x-python",
      "name": "python",
      "nbconvert_exporter": "python",
      "pygments_lexer": "ipython3",
      "version": "3.7.0"
    },
    "colab": {
      "name": "Porto_safe_driver.ipynb",
      "version": "0.3.2",
      "provenance": [],
      "collapsed_sections": [],
      "include_colab_link": true
    }
  },
  "cells": [
    {
      "cell_type": "markdown",
      "metadata": {
        "id": "view-in-github",
        "colab_type": "text"
      },
      "source": [
        "<a href=\"https://colab.research.google.com/github/hxtruong/fb-developer-circles/blob/master/Porto_safe_driver.ipynb\" target=\"_parent\"><img src=\"https://colab.research.google.com/assets/colab-badge.svg\" alt=\"Open In Colab\"/></a>"
      ]
    },
    {
      "cell_type": "markdown",
      "metadata": {
        "id": "quD_tS3PgRo5",
        "colab_type": "text"
      },
      "source": [
        "Porto Seguro's Safe Driver Prediction\n",
        "===="
      ]
    },
    {
      "cell_type": "markdown",
      "metadata": {
        "id": "5vZX8VXugRo_",
        "colab_type": "text"
      },
      "source": [
        "## Introduction\n",
        "[This competition](https://www.kaggle.com/c/porto-seguro-safe-driver-prediction/data) is hosted by the third largest insurance company in Brazil: Porto Seguro with the task of predicting the probability that a driver will initiate an insurance claim in the next year.\n",
        "\n",
        "In the train data, features that belong to similar groupings are tagged as such in the feature names (e.g., ind, reg, car, calc). In addition, feature names include the postfix bin to indicate binary features and cat to indicate categorical features. Features without these designations are either continuous or ordinal. **Values of -1 indicate that the feature was missing** from the observation. The target columns signifies whether or not a claim was filed for that policy holder\n",
        "\n",
        "train.csv contains the training data, where each row corresponds to a policy holder, and the target columns signifies that a claim was filed.\n"
      ]
    },
    {
      "cell_type": "code",
      "metadata": {
        "id": "5vRLf9PHgRpB",
        "colab_type": "code",
        "colab": {}
      },
      "source": [
        "# Import libraries\n",
        "import pandas as pd\n",
        "import numpy as np\n",
        "import matplotlib.pyplot as plt\n",
        "import seaborn as sns\n",
        "%matplotlib inline\n",
        "sns.set_style('whitegrid')\n",
        "\n",
        "# To avoid Warning message inbetween ...\n",
        "import warnings\n",
        "warnings.filterwarnings('ignore')"
      ],
      "execution_count": 0,
      "outputs": []
    },
    {
      "cell_type": "code",
      "metadata": {
        "id": "fV2N9TEbiq6Z",
        "colab_type": "code",
        "outputId": "433a2993-c4af-4365-c363-6b7a6682207f",
        "colab": {
          "base_uri": "https://localhost:8080/",
          "height": 34
        }
      },
      "source": [
        "from google.colab import drive \n",
        "drive.mount('/content/gdrive')"
      ],
      "execution_count": 58,
      "outputs": [
        {
          "output_type": "stream",
          "text": [
            "Drive already mounted at /content/gdrive; to attempt to forcibly remount, call drive.mount(\"/content/gdrive\", force_remount=True).\n"
          ],
          "name": "stdout"
        }
      ]
    },
    {
      "cell_type": "code",
      "metadata": {
        "id": "h0y3tIeZgRpF",
        "colab_type": "code",
        "outputId": "a2d2f7c6-d57b-4228-e26c-ea3c67662740",
        "colab": {
          "base_uri": "https://localhost:8080/",
          "height": 215
        }
      },
      "source": [
        "# Read csv file and take a look at it\n",
        "train = pd.read_csv('gdrive/My Drive/Dataset/train.csv')\n",
        "train.head()"
      ],
      "execution_count": 59,
      "outputs": [
        {
          "output_type": "execute_result",
          "data": {
            "text/html": [
              "<div>\n",
              "<style scoped>\n",
              "    .dataframe tbody tr th:only-of-type {\n",
              "        vertical-align: middle;\n",
              "    }\n",
              "\n",
              "    .dataframe tbody tr th {\n",
              "        vertical-align: top;\n",
              "    }\n",
              "\n",
              "    .dataframe thead th {\n",
              "        text-align: right;\n",
              "    }\n",
              "</style>\n",
              "<table border=\"1\" class=\"dataframe\">\n",
              "  <thead>\n",
              "    <tr style=\"text-align: right;\">\n",
              "      <th></th>\n",
              "      <th>id</th>\n",
              "      <th>target</th>\n",
              "      <th>ps_ind_01</th>\n",
              "      <th>ps_ind_02_cat</th>\n",
              "      <th>ps_ind_03</th>\n",
              "      <th>ps_ind_04_cat</th>\n",
              "      <th>ps_ind_05_cat</th>\n",
              "      <th>ps_ind_06_bin</th>\n",
              "      <th>ps_ind_07_bin</th>\n",
              "      <th>ps_ind_08_bin</th>\n",
              "      <th>ps_ind_09_bin</th>\n",
              "      <th>ps_ind_10_bin</th>\n",
              "      <th>ps_ind_11_bin</th>\n",
              "      <th>ps_ind_12_bin</th>\n",
              "      <th>ps_ind_13_bin</th>\n",
              "      <th>ps_ind_14</th>\n",
              "      <th>ps_ind_15</th>\n",
              "      <th>ps_ind_16_bin</th>\n",
              "      <th>ps_ind_17_bin</th>\n",
              "      <th>ps_ind_18_bin</th>\n",
              "      <th>ps_reg_01</th>\n",
              "      <th>ps_reg_02</th>\n",
              "      <th>ps_reg_03</th>\n",
              "      <th>ps_car_01_cat</th>\n",
              "      <th>ps_car_02_cat</th>\n",
              "      <th>ps_car_03_cat</th>\n",
              "      <th>ps_car_04_cat</th>\n",
              "      <th>ps_car_05_cat</th>\n",
              "      <th>ps_car_06_cat</th>\n",
              "      <th>ps_car_07_cat</th>\n",
              "      <th>ps_car_08_cat</th>\n",
              "      <th>ps_car_09_cat</th>\n",
              "      <th>ps_car_10_cat</th>\n",
              "      <th>ps_car_11_cat</th>\n",
              "      <th>ps_car_11</th>\n",
              "      <th>ps_car_12</th>\n",
              "      <th>ps_car_13</th>\n",
              "      <th>ps_car_14</th>\n",
              "      <th>ps_car_15</th>\n",
              "      <th>ps_calc_01</th>\n",
              "      <th>ps_calc_02</th>\n",
              "      <th>ps_calc_03</th>\n",
              "      <th>ps_calc_04</th>\n",
              "      <th>ps_calc_05</th>\n",
              "      <th>ps_calc_06</th>\n",
              "      <th>ps_calc_07</th>\n",
              "      <th>ps_calc_08</th>\n",
              "      <th>ps_calc_09</th>\n",
              "      <th>ps_calc_10</th>\n",
              "      <th>ps_calc_11</th>\n",
              "      <th>ps_calc_12</th>\n",
              "      <th>ps_calc_13</th>\n",
              "      <th>ps_calc_14</th>\n",
              "      <th>ps_calc_15_bin</th>\n",
              "      <th>ps_calc_16_bin</th>\n",
              "      <th>ps_calc_17_bin</th>\n",
              "      <th>ps_calc_18_bin</th>\n",
              "      <th>ps_calc_19_bin</th>\n",
              "      <th>ps_calc_20_bin</th>\n",
              "    </tr>\n",
              "  </thead>\n",
              "  <tbody>\n",
              "    <tr>\n",
              "      <th>0</th>\n",
              "      <td>7</td>\n",
              "      <td>0</td>\n",
              "      <td>2</td>\n",
              "      <td>2</td>\n",
              "      <td>5</td>\n",
              "      <td>1</td>\n",
              "      <td>0</td>\n",
              "      <td>0</td>\n",
              "      <td>1</td>\n",
              "      <td>0</td>\n",
              "      <td>0</td>\n",
              "      <td>0</td>\n",
              "      <td>0</td>\n",
              "      <td>0</td>\n",
              "      <td>0</td>\n",
              "      <td>0</td>\n",
              "      <td>11</td>\n",
              "      <td>0</td>\n",
              "      <td>1</td>\n",
              "      <td>0</td>\n",
              "      <td>0.7</td>\n",
              "      <td>0.2</td>\n",
              "      <td>0.718070</td>\n",
              "      <td>10</td>\n",
              "      <td>1</td>\n",
              "      <td>-1</td>\n",
              "      <td>0</td>\n",
              "      <td>1</td>\n",
              "      <td>4</td>\n",
              "      <td>1</td>\n",
              "      <td>0</td>\n",
              "      <td>0</td>\n",
              "      <td>1</td>\n",
              "      <td>12</td>\n",
              "      <td>2</td>\n",
              "      <td>0.400000</td>\n",
              "      <td>0.883679</td>\n",
              "      <td>0.370810</td>\n",
              "      <td>3.605551</td>\n",
              "      <td>0.6</td>\n",
              "      <td>0.5</td>\n",
              "      <td>0.2</td>\n",
              "      <td>3</td>\n",
              "      <td>1</td>\n",
              "      <td>10</td>\n",
              "      <td>1</td>\n",
              "      <td>10</td>\n",
              "      <td>1</td>\n",
              "      <td>5</td>\n",
              "      <td>9</td>\n",
              "      <td>1</td>\n",
              "      <td>5</td>\n",
              "      <td>8</td>\n",
              "      <td>0</td>\n",
              "      <td>1</td>\n",
              "      <td>1</td>\n",
              "      <td>0</td>\n",
              "      <td>0</td>\n",
              "      <td>1</td>\n",
              "    </tr>\n",
              "    <tr>\n",
              "      <th>1</th>\n",
              "      <td>9</td>\n",
              "      <td>0</td>\n",
              "      <td>1</td>\n",
              "      <td>1</td>\n",
              "      <td>7</td>\n",
              "      <td>0</td>\n",
              "      <td>0</td>\n",
              "      <td>0</td>\n",
              "      <td>0</td>\n",
              "      <td>1</td>\n",
              "      <td>0</td>\n",
              "      <td>0</td>\n",
              "      <td>0</td>\n",
              "      <td>0</td>\n",
              "      <td>0</td>\n",
              "      <td>0</td>\n",
              "      <td>3</td>\n",
              "      <td>0</td>\n",
              "      <td>0</td>\n",
              "      <td>1</td>\n",
              "      <td>0.8</td>\n",
              "      <td>0.4</td>\n",
              "      <td>0.766078</td>\n",
              "      <td>11</td>\n",
              "      <td>1</td>\n",
              "      <td>-1</td>\n",
              "      <td>0</td>\n",
              "      <td>-1</td>\n",
              "      <td>11</td>\n",
              "      <td>1</td>\n",
              "      <td>1</td>\n",
              "      <td>2</td>\n",
              "      <td>1</td>\n",
              "      <td>19</td>\n",
              "      <td>3</td>\n",
              "      <td>0.316228</td>\n",
              "      <td>0.618817</td>\n",
              "      <td>0.388716</td>\n",
              "      <td>2.449490</td>\n",
              "      <td>0.3</td>\n",
              "      <td>0.1</td>\n",
              "      <td>0.3</td>\n",
              "      <td>2</td>\n",
              "      <td>1</td>\n",
              "      <td>9</td>\n",
              "      <td>5</td>\n",
              "      <td>8</td>\n",
              "      <td>1</td>\n",
              "      <td>7</td>\n",
              "      <td>3</td>\n",
              "      <td>1</td>\n",
              "      <td>1</td>\n",
              "      <td>9</td>\n",
              "      <td>0</td>\n",
              "      <td>1</td>\n",
              "      <td>1</td>\n",
              "      <td>0</td>\n",
              "      <td>1</td>\n",
              "      <td>0</td>\n",
              "    </tr>\n",
              "    <tr>\n",
              "      <th>2</th>\n",
              "      <td>13</td>\n",
              "      <td>0</td>\n",
              "      <td>5</td>\n",
              "      <td>4</td>\n",
              "      <td>9</td>\n",
              "      <td>1</td>\n",
              "      <td>0</td>\n",
              "      <td>0</td>\n",
              "      <td>0</td>\n",
              "      <td>1</td>\n",
              "      <td>0</td>\n",
              "      <td>0</td>\n",
              "      <td>0</td>\n",
              "      <td>0</td>\n",
              "      <td>0</td>\n",
              "      <td>0</td>\n",
              "      <td>12</td>\n",
              "      <td>1</td>\n",
              "      <td>0</td>\n",
              "      <td>0</td>\n",
              "      <td>0.0</td>\n",
              "      <td>0.0</td>\n",
              "      <td>-1.000000</td>\n",
              "      <td>7</td>\n",
              "      <td>1</td>\n",
              "      <td>-1</td>\n",
              "      <td>0</td>\n",
              "      <td>-1</td>\n",
              "      <td>14</td>\n",
              "      <td>1</td>\n",
              "      <td>1</td>\n",
              "      <td>2</td>\n",
              "      <td>1</td>\n",
              "      <td>60</td>\n",
              "      <td>1</td>\n",
              "      <td>0.316228</td>\n",
              "      <td>0.641586</td>\n",
              "      <td>0.347275</td>\n",
              "      <td>3.316625</td>\n",
              "      <td>0.5</td>\n",
              "      <td>0.7</td>\n",
              "      <td>0.1</td>\n",
              "      <td>2</td>\n",
              "      <td>2</td>\n",
              "      <td>9</td>\n",
              "      <td>1</td>\n",
              "      <td>8</td>\n",
              "      <td>2</td>\n",
              "      <td>7</td>\n",
              "      <td>4</td>\n",
              "      <td>2</td>\n",
              "      <td>7</td>\n",
              "      <td>7</td>\n",
              "      <td>0</td>\n",
              "      <td>1</td>\n",
              "      <td>1</td>\n",
              "      <td>0</td>\n",
              "      <td>1</td>\n",
              "      <td>0</td>\n",
              "    </tr>\n",
              "    <tr>\n",
              "      <th>3</th>\n",
              "      <td>16</td>\n",
              "      <td>0</td>\n",
              "      <td>0</td>\n",
              "      <td>1</td>\n",
              "      <td>2</td>\n",
              "      <td>0</td>\n",
              "      <td>0</td>\n",
              "      <td>1</td>\n",
              "      <td>0</td>\n",
              "      <td>0</td>\n",
              "      <td>0</td>\n",
              "      <td>0</td>\n",
              "      <td>0</td>\n",
              "      <td>0</td>\n",
              "      <td>0</td>\n",
              "      <td>0</td>\n",
              "      <td>8</td>\n",
              "      <td>1</td>\n",
              "      <td>0</td>\n",
              "      <td>0</td>\n",
              "      <td>0.9</td>\n",
              "      <td>0.2</td>\n",
              "      <td>0.580948</td>\n",
              "      <td>7</td>\n",
              "      <td>1</td>\n",
              "      <td>0</td>\n",
              "      <td>0</td>\n",
              "      <td>1</td>\n",
              "      <td>11</td>\n",
              "      <td>1</td>\n",
              "      <td>1</td>\n",
              "      <td>3</td>\n",
              "      <td>1</td>\n",
              "      <td>104</td>\n",
              "      <td>1</td>\n",
              "      <td>0.374166</td>\n",
              "      <td>0.542949</td>\n",
              "      <td>0.294958</td>\n",
              "      <td>2.000000</td>\n",
              "      <td>0.6</td>\n",
              "      <td>0.9</td>\n",
              "      <td>0.1</td>\n",
              "      <td>2</td>\n",
              "      <td>4</td>\n",
              "      <td>7</td>\n",
              "      <td>1</td>\n",
              "      <td>8</td>\n",
              "      <td>4</td>\n",
              "      <td>2</td>\n",
              "      <td>2</td>\n",
              "      <td>2</td>\n",
              "      <td>4</td>\n",
              "      <td>9</td>\n",
              "      <td>0</td>\n",
              "      <td>0</td>\n",
              "      <td>0</td>\n",
              "      <td>0</td>\n",
              "      <td>0</td>\n",
              "      <td>0</td>\n",
              "    </tr>\n",
              "    <tr>\n",
              "      <th>4</th>\n",
              "      <td>17</td>\n",
              "      <td>0</td>\n",
              "      <td>0</td>\n",
              "      <td>2</td>\n",
              "      <td>0</td>\n",
              "      <td>1</td>\n",
              "      <td>0</td>\n",
              "      <td>1</td>\n",
              "      <td>0</td>\n",
              "      <td>0</td>\n",
              "      <td>0</td>\n",
              "      <td>0</td>\n",
              "      <td>0</td>\n",
              "      <td>0</td>\n",
              "      <td>0</td>\n",
              "      <td>0</td>\n",
              "      <td>9</td>\n",
              "      <td>1</td>\n",
              "      <td>0</td>\n",
              "      <td>0</td>\n",
              "      <td>0.7</td>\n",
              "      <td>0.6</td>\n",
              "      <td>0.840759</td>\n",
              "      <td>11</td>\n",
              "      <td>1</td>\n",
              "      <td>-1</td>\n",
              "      <td>0</td>\n",
              "      <td>-1</td>\n",
              "      <td>14</td>\n",
              "      <td>1</td>\n",
              "      <td>1</td>\n",
              "      <td>2</td>\n",
              "      <td>1</td>\n",
              "      <td>82</td>\n",
              "      <td>3</td>\n",
              "      <td>0.316070</td>\n",
              "      <td>0.565832</td>\n",
              "      <td>0.365103</td>\n",
              "      <td>2.000000</td>\n",
              "      <td>0.4</td>\n",
              "      <td>0.6</td>\n",
              "      <td>0.0</td>\n",
              "      <td>2</td>\n",
              "      <td>2</td>\n",
              "      <td>6</td>\n",
              "      <td>3</td>\n",
              "      <td>10</td>\n",
              "      <td>2</td>\n",
              "      <td>12</td>\n",
              "      <td>3</td>\n",
              "      <td>1</td>\n",
              "      <td>1</td>\n",
              "      <td>3</td>\n",
              "      <td>0</td>\n",
              "      <td>0</td>\n",
              "      <td>0</td>\n",
              "      <td>1</td>\n",
              "      <td>1</td>\n",
              "      <td>0</td>\n",
              "    </tr>\n",
              "  </tbody>\n",
              "</table>\n",
              "</div>"
            ],
            "text/plain": [
              "   id  target  ps_ind_01  ...  ps_calc_18_bin  ps_calc_19_bin  ps_calc_20_bin\n",
              "0   7       0          2  ...               0               0               1\n",
              "1   9       0          1  ...               0               1               0\n",
              "2  13       0          5  ...               0               1               0\n",
              "3  16       0          0  ...               0               0               0\n",
              "4  17       0          0  ...               1               1               0\n",
              "\n",
              "[5 rows x 59 columns]"
            ]
          },
          "metadata": {
            "tags": []
          },
          "execution_count": 59
        }
      ]
    },
    {
      "cell_type": "code",
      "metadata": {
        "id": "dsrUYH88gRpI",
        "colab_type": "code",
        "outputId": "04595a98-23f0-41f6-fa03-840e10aeae81",
        "colab": {
          "base_uri": "https://localhost:8080/",
          "height": 34
        }
      },
      "source": [
        "# Taking a look at how many rows and columns the train dataset contains\n",
        "rows = train.shape[0]\n",
        "columns = train.shape[1]\n",
        "print(\"The train dataset contains {} rows and {} columns\".format(rows, columns))"
      ],
      "execution_count": 60,
      "outputs": [
        {
          "output_type": "stream",
          "text": [
            "The train dataset contains 595212 rows and 59 columns\n"
          ],
          "name": "stdout"
        }
      ]
    },
    {
      "cell_type": "code",
      "metadata": {
        "id": "3sPRuY94zQ2j",
        "colab_type": "code",
        "colab": {
          "base_uri": "https://localhost:8080/",
          "height": 1000
        },
        "outputId": "e9084a69-c71b-4df6-fc41-c6aa12eb7867"
      },
      "source": [
        "train.info()"
      ],
      "execution_count": 61,
      "outputs": [
        {
          "output_type": "stream",
          "text": [
            "<class 'pandas.core.frame.DataFrame'>\n",
            "RangeIndex: 595212 entries, 0 to 595211\n",
            "Data columns (total 59 columns):\n",
            "id                595212 non-null int64\n",
            "target            595212 non-null int64\n",
            "ps_ind_01         595212 non-null int64\n",
            "ps_ind_02_cat     595212 non-null int64\n",
            "ps_ind_03         595212 non-null int64\n",
            "ps_ind_04_cat     595212 non-null int64\n",
            "ps_ind_05_cat     595212 non-null int64\n",
            "ps_ind_06_bin     595212 non-null int64\n",
            "ps_ind_07_bin     595212 non-null int64\n",
            "ps_ind_08_bin     595212 non-null int64\n",
            "ps_ind_09_bin     595212 non-null int64\n",
            "ps_ind_10_bin     595212 non-null int64\n",
            "ps_ind_11_bin     595212 non-null int64\n",
            "ps_ind_12_bin     595212 non-null int64\n",
            "ps_ind_13_bin     595212 non-null int64\n",
            "ps_ind_14         595212 non-null int64\n",
            "ps_ind_15         595212 non-null int64\n",
            "ps_ind_16_bin     595212 non-null int64\n",
            "ps_ind_17_bin     595212 non-null int64\n",
            "ps_ind_18_bin     595212 non-null int64\n",
            "ps_reg_01         595212 non-null float64\n",
            "ps_reg_02         595212 non-null float64\n",
            "ps_reg_03         595212 non-null float64\n",
            "ps_car_01_cat     595212 non-null int64\n",
            "ps_car_02_cat     595212 non-null int64\n",
            "ps_car_03_cat     595212 non-null int64\n",
            "ps_car_04_cat     595212 non-null int64\n",
            "ps_car_05_cat     595212 non-null int64\n",
            "ps_car_06_cat     595212 non-null int64\n",
            "ps_car_07_cat     595212 non-null int64\n",
            "ps_car_08_cat     595212 non-null int64\n",
            "ps_car_09_cat     595212 non-null int64\n",
            "ps_car_10_cat     595212 non-null int64\n",
            "ps_car_11_cat     595212 non-null int64\n",
            "ps_car_11         595212 non-null int64\n",
            "ps_car_12         595212 non-null float64\n",
            "ps_car_13         595212 non-null float64\n",
            "ps_car_14         595212 non-null float64\n",
            "ps_car_15         595212 non-null float64\n",
            "ps_calc_01        595212 non-null float64\n",
            "ps_calc_02        595212 non-null float64\n",
            "ps_calc_03        595212 non-null float64\n",
            "ps_calc_04        595212 non-null int64\n",
            "ps_calc_05        595212 non-null int64\n",
            "ps_calc_06        595212 non-null int64\n",
            "ps_calc_07        595212 non-null int64\n",
            "ps_calc_08        595212 non-null int64\n",
            "ps_calc_09        595212 non-null int64\n",
            "ps_calc_10        595212 non-null int64\n",
            "ps_calc_11        595212 non-null int64\n",
            "ps_calc_12        595212 non-null int64\n",
            "ps_calc_13        595212 non-null int64\n",
            "ps_calc_14        595212 non-null int64\n",
            "ps_calc_15_bin    595212 non-null int64\n",
            "ps_calc_16_bin    595212 non-null int64\n",
            "ps_calc_17_bin    595212 non-null int64\n",
            "ps_calc_18_bin    595212 non-null int64\n",
            "ps_calc_19_bin    595212 non-null int64\n",
            "ps_calc_20_bin    595212 non-null int64\n",
            "dtypes: float64(10), int64(49)\n",
            "memory usage: 267.9 MB\n"
          ],
          "name": "stdout"
        }
      ]
    },
    {
      "cell_type": "markdown",
      "metadata": {
        "id": "lwxjmUOOgRpO",
        "colab_type": "text"
      },
      "source": [
        "## 1. Data Quality Checks"
      ]
    },
    {
      "cell_type": "markdown",
      "metadata": {
        "id": "78QS6rXXgRpP",
        "colab_type": "text"
      },
      "source": [
        "### Null or missing values check\n",
        "Let check whether there are any null values in the train dataset as follows:"
      ]
    },
    {
      "cell_type": "code",
      "metadata": {
        "id": "HCvZq8QNgRpQ",
        "colab_type": "code",
        "outputId": "87e55884-0339-4b96-8678-2075d28442f4",
        "colab": {
          "base_uri": "https://localhost:8080/",
          "height": 34
        }
      },
      "source": [
        "train.isnull().any().any()"
      ],
      "execution_count": 62,
      "outputs": [
        {
          "output_type": "execute_result",
          "data": {
            "text/plain": [
              "False"
            ]
          },
          "metadata": {
            "tags": []
          },
          "execution_count": 62
        }
      ]
    },
    {
      "cell_type": "markdown",
      "metadata": {
        "id": "fsgM30QzgRpS",
        "colab_type": "text"
      },
      "source": [
        "**Note:** Our null values check returns False but however, this does not really mean that this case has been closed as the data is also described as *\"Values of -1 indicate that the feature was missing from the observation\"*. Therefore I take it that Porto Seguro has simply conducted a blanket replacement of all null values in the data with the value of -1. Let us now inspect if there where any missing values in the data."
      ]
    },
    {
      "cell_type": "markdown",
      "metadata": {
        "id": "KGFgMh6LgRpT",
        "colab_type": "text"
      },
      "source": [
        "Here we can see that which columns contained -1 in their values so we could easily for example make a blanket replacement of all -1 with nulls first as follows:"
      ]
    },
    {
      "cell_type": "code",
      "metadata": {
        "id": "J1-o9AfrgRpU",
        "colab_type": "code",
        "colab": {}
      },
      "source": [
        "train_copy = train.copy()\n",
        "train_copy = train_copy.replace(-1, np.NaN)"
      ],
      "execution_count": 0,
      "outputs": []
    },
    {
      "cell_type": "markdown",
      "metadata": {
        "id": "aeGlII_jgRpX",
        "colab_type": "text"
      },
      "source": [
        "We can use \"Missingno\" to visualize missing values in the dataset."
      ]
    },
    {
      "cell_type": "code",
      "metadata": {
        "id": "pkd7rKOBgRpY",
        "colab_type": "code",
        "outputId": "802b2b4d-2b89-431d-8c5a-9526574fecd4",
        "colab": {
          "base_uri": "https://localhost:8080/",
          "height": 811
        }
      },
      "source": [
        "# If you don't have \"Missingno\" package, use this command to install\n",
        "# (Linux) conda install -c conda-forge missingno\n",
        "import missingno as msno\n",
        "\n",
        "msno.matrix(df=train_copy.iloc[:, 2:39], figsize=(18, 12), color=(0.42, 0.1, 0.05))"
      ],
      "execution_count": 64,
      "outputs": [
        {
          "output_type": "execute_result",
          "data": {
            "text/plain": [
              "<matplotlib.axes._subplots.AxesSubplot at 0x7f3f06191f60>"
            ]
          },
          "metadata": {
            "tags": []
          },
          "execution_count": 64
        },
        {
          "output_type": "display_data",
          "data": {
            "image/png": "[encoded data removed]",
            "text/plain": [
              "<Figure size 1296x864 with 2 Axes>"
            ]
          },
          "metadata": {
            "tags": []
          }
        }
      ]
    },
    {
      "cell_type": "code",
      "metadata": {
        "id": "thkqME0lgRpc",
        "colab_type": "code",
        "outputId": "c1d73ff9-ac9e-42a3-db3d-49f0811b1947",
        "colab": {
          "base_uri": "https://localhost:8080/",
          "height": 235
        }
      },
      "source": [
        "# List null columns name\n",
        "# Hint: isnull()\n",
        "nullCols = dict(train_copy.isnull().sum())\n",
        "for k,v in nullCols.items():\n",
        "  if v>0:\n",
        "    print(str(k) + ': '+ str(v)) "
      ],
      "execution_count": 65,
      "outputs": [
        {
          "output_type": "stream",
          "text": [
            "ps_ind_02_cat: 216\n",
            "ps_ind_04_cat: 83\n",
            "ps_ind_05_cat: 5809\n",
            "ps_reg_03: 107772\n",
            "ps_car_01_cat: 107\n",
            "ps_car_02_cat: 5\n",
            "ps_car_03_cat: 411231\n",
            "ps_car_05_cat: 266551\n",
            "ps_car_07_cat: 11489\n",
            "ps_car_09_cat: 569\n",
            "ps_car_11: 5\n",
            "ps_car_12: 1\n",
            "ps_car_14: 42620\n"
          ],
          "name": "stdout"
        }
      ]
    },
    {
      "cell_type": "markdown",
      "metadata": {
        "id": "lRY2lopEgRpr",
        "colab_type": "text"
      },
      "source": [
        "#### Target variable inspection"
      ]
    },
    {
      "cell_type": "code",
      "metadata": {
        "id": "OSWkksH7zYvq",
        "colab_type": "code",
        "colab": {
          "base_uri": "https://localhost:8080/",
          "height": 300
        },
        "outputId": "6dd02ae2-a3f3-4ee9-e603-cae6d91ab5db"
      },
      "source": [
        "sns.countplot(x='target', hue='target', data=train, palette=\"pastel\")"
      ],
      "execution_count": 66,
      "outputs": [
        {
          "output_type": "execute_result",
          "data": {
            "text/plain": [
              "<matplotlib.axes._subplots.AxesSubplot at 0x7f3f029a64e0>"
            ]
          },
          "metadata": {
            "tags": []
          },
          "execution_count": 66
        },
        {
          "output_type": "display_data",
          "data": {
            "image/png": "[encoded data removed]",
            "text/plain": [
              "<Figure size 432x288 with 1 Axes>"
            ]
          },
          "metadata": {
            "tags": []
          }
        }
      ]
    },
    {
      "cell_type": "markdown",
      "metadata": {
        "id": "Q8msNqYYgRpx",
        "colab_type": "text"
      },
      "source": [
        "## 2. Feature inspection and filtering"
      ]
    },
    {
      "cell_type": "markdown",
      "metadata": {
        "id": "ly9iVEcmgRpz",
        "colab_type": "text"
      },
      "source": [
        "### Correlation plots\n",
        "As a starter, let us generate some linear correlation plots just to have a quick look at how a feature is linearly correlated to the next and perhaps start gaining some insights from here. At this juncture, I will use the seaborn statistical visualisation package to plot a heatmap of the correlation values. Conveniently, Pandas dataframes come with the corr() method inbuilt, which calculates the Pearson correlation. Also as convenient is Seaborn's way of invoking a correlation plot. Just literally the word \"heatmap\""
      ]
    },
    {
      "cell_type": "markdown",
      "metadata": {
        "id": "U4TCPZQFgRpz",
        "colab_type": "text"
      },
      "source": [
        "#### Correlation of float features"
      ]
    },
    {
      "cell_type": "code",
      "metadata": {
        "id": "oeMfrcQPgRp0",
        "colab_type": "code",
        "colab": {}
      },
      "source": [
        "train_float = train.select_dtypes(include=['float64'])\n",
        "train_int = train.select_dtypes(include=['int64'])"
      ],
      "execution_count": 0,
      "outputs": []
    },
    {
      "cell_type": "code",
      "metadata": {
        "id": "4OnljsYEgRp2",
        "colab_type": "code",
        "outputId": "72190c7c-97b1-4fee-9c9f-84e6e9822026",
        "colab": {
          "base_uri": "https://localhost:8080/",
          "height": 752
        }
      },
      "source": [
        "colormap = plt.cm.magma\n",
        "plt.figure(figsize=(16, 12))\n",
        "plt.title(\"Paerson correlation of continuous features\", y=1.05, size=15)\n",
        "sns.heatmap(train_float.corr(), linewidths=0.1, vmax=1.0, square=True,\n",
        "           cmap=colormap)\n",
        "plt.show()"
      ],
      "execution_count": 68,
      "outputs": [
        {
          "output_type": "display_data",
          "data": {
            "image/png": "[encoded data removed]",
            "text/plain": [
              "<Figure size 1152x864 with 2 Axes>"
            ]
          },
          "metadata": {
            "tags": []
          }
        }
      ]
    },
    {
      "cell_type": "markdown",
      "metadata": {
        "id": "LbSGdx5tgRp5",
        "colab_type": "text"
      },
      "source": [
        "From the correlation plot, we can see that the majority of the features display zero or no correlation to one another. This is quite an interesting observation that will warrant our further investigation later down. For now, the paired features that display a positive linear correlation are listed as follows:\n",
        "\n",
        "(ps_reg_01, ps_reg_03)\n",
        "\n",
        "(ps_reg_02, ps_reg_03)\n",
        "\n",
        "(ps_car_12, ps_car_13)\n",
        "\n",
        "(ps_car_13, ps_car_15)"
      ]
    },
    {
      "cell_type": "markdown",
      "metadata": {
        "id": "709RXpmngRp5",
        "colab_type": "text"
      },
      "source": [
        "### Correlation of integer features"
      ]
    },
    {
      "cell_type": "code",
      "metadata": {
        "id": "cqDWFok31rGE",
        "colab_type": "code",
        "colab": {
          "base_uri": "https://localhost:8080/",
          "height": 1000
        },
        "outputId": "55089604-a331-414a-b041-0dad7395c895"
      },
      "source": [
        "# Your code here\n",
        "# Hint: correlation of train_int\n",
        "train_int = train_int.drop([\"id\", \"target\"], axis=1)\n",
        "colormap = plt.cm.CMRmap_r\n",
        "plt.figure(figsize=(21,16))\n",
        "plt.title('Pearson correlation of categorical features', y=1.05, size=15)\n",
        "sns.heatmap(train_int.corr(),linewidths=0.1,vmax=1.0, square=True, cmap=colormap, annot=False)\n",
        "plt.show()"
      ],
      "execution_count": 74,
      "outputs": [
        {
          "output_type": "display_data",
          "data": {
            "image/png": "[encoded data removed]",
            "text/plain": [
              "<Figure size 1512x1152 with 2 Axes>"
            ]
          },
          "metadata": {
            "tags": []
          }
        }
      ]
    },
    {
      "cell_type": "markdown",
      "metadata": {
        "id": "JvwK9POHgRp_",
        "colab_type": "text"
      },
      "source": [
        "#### Which features have negatively correlation?\n",
        "Negatively correlated features : ps_ind_06_bin, ps_ind_07_bin, ps_ind_08_bin, ps_ind_09_bin"
      ]
    },
    {
      "cell_type": "markdown",
      "metadata": {
        "id": "4b3psrLqgRqA",
        "colab_type": "text"
      },
      "source": [
        "### Binary features inspection\n",
        "Another aspect of the data that we may want to inspect would be the coulmns that only contain binary valeus, i.e where values take on only either of the two values 1 or 0. Proceeding, we store all columns that contain these binary values and then generate a vertical plotly bar plot of these binary values as follows:"
      ]
    },
    {
      "cell_type": "code",
      "metadata": {
        "id": "rZbB4qARgRqA",
        "colab_type": "code",
        "colab": {}
      },
      "source": [
        "bin_col = list(filter(lambda x: '_bin' in x, train.columns))\n",
        "bin_value_counts = train[bin_col].apply(pd.value_counts)"
      ],
      "execution_count": 0,
      "outputs": []
    },
    {
      "cell_type": "code",
      "metadata": {
        "id": "g1w4Vhj5gRqD",
        "colab_type": "code",
        "outputId": "3176d839-fabe-4f91-84f1-183145d114a0",
        "colab": {
          "base_uri": "https://localhost:8080/",
          "height": 126
        }
      },
      "source": [
        "bin_value_counts"
      ],
      "execution_count": 76,
      "outputs": [
        {
          "output_type": "execute_result",
          "data": {
            "text/html": [
              "<div>\n",
              "<style scoped>\n",
              "    .dataframe tbody tr th:only-of-type {\n",
              "        vertical-align: middle;\n",
              "    }\n",
              "\n",
              "    .dataframe tbody tr th {\n",
              "        vertical-align: top;\n",
              "    }\n",
              "\n",
              "    .dataframe thead th {\n",
              "        text-align: right;\n",
              "    }\n",
              "</style>\n",
              "<table border=\"1\" class=\"dataframe\">\n",
              "  <thead>\n",
              "    <tr style=\"text-align: right;\">\n",
              "      <th></th>\n",
              "      <th>ps_ind_06_bin</th>\n",
              "      <th>ps_ind_07_bin</th>\n",
              "      <th>ps_ind_08_bin</th>\n",
              "      <th>ps_ind_09_bin</th>\n",
              "      <th>ps_ind_10_bin</th>\n",
              "      <th>ps_ind_11_bin</th>\n",
              "      <th>ps_ind_12_bin</th>\n",
              "      <th>ps_ind_13_bin</th>\n",
              "      <th>ps_ind_16_bin</th>\n",
              "      <th>ps_ind_17_bin</th>\n",
              "      <th>ps_ind_18_bin</th>\n",
              "      <th>ps_calc_15_bin</th>\n",
              "      <th>ps_calc_16_bin</th>\n",
              "      <th>ps_calc_17_bin</th>\n",
              "      <th>ps_calc_18_bin</th>\n",
              "      <th>ps_calc_19_bin</th>\n",
              "      <th>ps_calc_20_bin</th>\n",
              "    </tr>\n",
              "  </thead>\n",
              "  <tbody>\n",
              "    <tr>\n",
              "      <th>0</th>\n",
              "      <td>360852</td>\n",
              "      <td>442223</td>\n",
              "      <td>497644</td>\n",
              "      <td>484917</td>\n",
              "      <td>594990</td>\n",
              "      <td>594205</td>\n",
              "      <td>589594</td>\n",
              "      <td>594648</td>\n",
              "      <td>201882</td>\n",
              "      <td>523143</td>\n",
              "      <td>503879</td>\n",
              "      <td>522342</td>\n",
              "      <td>221514</td>\n",
              "      <td>265356</td>\n",
              "      <td>424278</td>\n",
              "      <td>387469</td>\n",
              "      <td>503955</td>\n",
              "    </tr>\n",
              "    <tr>\n",
              "      <th>1</th>\n",
              "      <td>234360</td>\n",
              "      <td>152989</td>\n",
              "      <td>97568</td>\n",
              "      <td>110295</td>\n",
              "      <td>222</td>\n",
              "      <td>1007</td>\n",
              "      <td>5618</td>\n",
              "      <td>564</td>\n",
              "      <td>393330</td>\n",
              "      <td>72069</td>\n",
              "      <td>91333</td>\n",
              "      <td>72870</td>\n",
              "      <td>373698</td>\n",
              "      <td>329856</td>\n",
              "      <td>170934</td>\n",
              "      <td>207743</td>\n",
              "      <td>91257</td>\n",
              "    </tr>\n",
              "  </tbody>\n",
              "</table>\n",
              "</div>"
            ],
            "text/plain": [
              "   ps_ind_06_bin  ps_ind_07_bin  ...  ps_calc_19_bin  ps_calc_20_bin\n",
              "0         360852         442223  ...          387469          503955\n",
              "1         234360         152989  ...          207743           91257\n",
              "\n",
              "[2 rows x 17 columns]"
            ]
          },
          "metadata": {
            "tags": []
          },
          "execution_count": 76
        }
      ]
    },
    {
      "cell_type": "code",
      "metadata": {
        "id": "2sDhDPSagRqF",
        "colab_type": "code",
        "colab": {}
      },
      "source": [
        "# hint pandas plot.bar with stacked=True\n",
        "# Your code here"
      ],
      "execution_count": 0,
      "outputs": []
    },
    {
      "cell_type": "markdown",
      "metadata": {
        "id": "vKQZ4B0_gRqH",
        "colab_type": "text"
      },
      "source": [
        "Those columns ps_ind_10_bin, ps_ind_11_bin, ps_ind_12_bin, ps_ind_13_bin which are completely dominated by zeros. They do not contain much information."
      ]
    },
    {
      "cell_type": "markdown",
      "metadata": {
        "id": "s3qeUbergRqI",
        "colab_type": "text"
      },
      "source": [
        "## 3. Preprocess Data"
      ]
    },
    {
      "cell_type": "code",
      "metadata": {
        "id": "myDDZ1EQgRqK",
        "colab_type": "code",
        "colab": {}
      },
      "source": [
        "# Import train_test_split \n",
        "# Your code here"
      ],
      "execution_count": 0,
      "outputs": []
    },
    {
      "cell_type": "code",
      "metadata": {
        "id": "FLRjifsAgRqN",
        "colab_type": "code",
        "colab": {}
      },
      "source": [
        "# Define X (features), y (target)\n",
        "X = # Your code here\n",
        "y = # Your code here"
      ],
      "execution_count": 0,
      "outputs": []
    },
    {
      "cell_type": "code",
      "metadata": {
        "id": "eyNl4qRMgRqX",
        "colab_type": "code",
        "colab": {}
      },
      "source": [
        "# Split data into train and test set\n",
        "X_train, X_test, y_train, y_test = # Your code here"
      ],
      "execution_count": 0,
      "outputs": []
    },
    {
      "cell_type": "markdown",
      "metadata": {
        "id": "lt7PDCL_gRqd",
        "colab_type": "text"
      },
      "source": [
        "#### Randomly Under-Sampling the Training Dataset¶\n",
        "**Note:** Validate ratio between 2 class after Under-Sampling"
      ]
    },
    {
      "cell_type": "code",
      "metadata": {
        "id": "4a9hJJLAgRqg",
        "colab_type": "code",
        "colab": {}
      },
      "source": [
        "# Your code here"
      ],
      "execution_count": 0,
      "outputs": []
    },
    {
      "cell_type": "markdown",
      "metadata": {
        "id": "BhqCb0vegRqk",
        "colab_type": "text"
      },
      "source": [
        "#### Randomly Over-Sampling the Training Dataset\n",
        "**Note:** Validate ratio between 2 class after Over-Sampling"
      ]
    },
    {
      "cell_type": "code",
      "metadata": {
        "id": "vHUwcfB8gRql",
        "colab_type": "code",
        "colab": {}
      },
      "source": [
        "# Your code here"
      ],
      "execution_count": 0,
      "outputs": []
    },
    {
      "cell_type": "markdown",
      "metadata": {
        "id": "cfvzDBkPgRqo",
        "colab_type": "text"
      },
      "source": [
        "## 4. Modeling"
      ]
    },
    {
      "cell_type": "code",
      "metadata": {
        "id": "WjRnOzt1gRqp",
        "colab_type": "code",
        "colab": {}
      },
      "source": [
        "# Spot check with LogisticRegression, DecisionTreeClassifier, RandomForestClassifier, BernoulliNB, GaussianNB\n",
        "# Import libraries and and create model\n",
        "# Your code here\n",
        "lr = #Your code here\n",
        "dtc = #Your code here\n",
        "rfc = #Your code here\n",
        "bnb = #Your code here\n",
        "gnb = #Your code here\n",
        "\n",
        "models = [lr, dtc, rfc, gnb, bnb]\n",
        "models_name = [\"Logistic Regression\", \"Decision Tree\", \"Random Forest\", \"Bernoulli NB\", \"Gaussian NB\"]"
      ],
      "execution_count": 0,
      "outputs": []
    },
    {
      "cell_type": "markdown",
      "metadata": {
        "id": "6GDUljOogRqs",
        "colab_type": "text"
      },
      "source": [
        "## 5. Evaluation Metrics"
      ]
    },
    {
      "cell_type": "code",
      "metadata": {
        "id": "aSqT07kngRqt",
        "colab_type": "code",
        "colab": {}
      },
      "source": [
        "# Import confusion_matrix, classification_report\n",
        "# Your code here\n",
        "\n",
        "# We create an utils function, that take a trained model as argument and print out confusion matrix\n",
        "# classification report base on X and y\n",
        "def evaluate_model(estimator, X, y):\n",
        "    # Your code here\n",
        "    return 0"
      ],
      "execution_count": 0,
      "outputs": []
    },
    {
      "cell_type": "markdown",
      "metadata": {
        "id": "LinyBzoEgRqv",
        "colab_type": "text"
      },
      "source": [
        "### Evaluate with Origin dataset"
      ]
    },
    {
      "cell_type": "code",
      "metadata": {
        "id": "VwEhDyWMgRqw",
        "colab_type": "code",
        "colab": {}
      },
      "source": [
        "for idx, model in enumerate(models):\n",
        "    print(\"Model: {}\".format(models_name[idx]))\n",
        "    # Your code here\n",
        "    # Fit your model with Origin dataset\n",
        "    \n",
        "    # Evaluate model with X_test, y_test\n",
        "    print(\"=======================================\")"
      ],
      "execution_count": 0,
      "outputs": []
    },
    {
      "cell_type": "markdown",
      "metadata": {
        "id": "V_8BYL-UgRqy",
        "colab_type": "text"
      },
      "source": [
        "### Evaluate with *Undersampled* dataset"
      ]
    },
    {
      "cell_type": "code",
      "metadata": {
        "id": "-1wn71IGgRqz",
        "colab_type": "code",
        "colab": {}
      },
      "source": [
        "for idx, model in enumerate(models):\n",
        "    print(\"Model: {}\".format(models_name[idx]))\n",
        "    # Your code here\n",
        "    # Fit your model with Undersampled dataset\n",
        "    \n",
        "    # Evaluate model with X_test, y_test\n",
        "    print(\"=======================================\")"
      ],
      "execution_count": 0,
      "outputs": []
    },
    {
      "cell_type": "markdown",
      "metadata": {
        "id": "4XqXyO58gRq2",
        "colab_type": "text"
      },
      "source": [
        "### Evaluate with *Oversampled* dataset"
      ]
    },
    {
      "cell_type": "code",
      "metadata": {
        "id": "7n0SbP7igRq2",
        "colab_type": "code",
        "colab": {}
      },
      "source": [
        "for idx, model in enumerate(models):\n",
        "    print(\"Model: {}\".format(models_name[idx]))\n",
        "    # Your code here\n",
        "    # Fit your model with Oversampled dataset\n",
        "    \n",
        "    # Evaluate model with X_test, y_test\n",
        "    print(\"=======================================\")"
      ],
      "execution_count": 0,
      "outputs": []
    },
    {
      "cell_type": "markdown",
      "metadata": {
        "id": "sOih60UAgRq5",
        "colab_type": "text"
      },
      "source": [
        "### Conclusion"
      ]
    },
    {
      "cell_type": "markdown",
      "metadata": {
        "id": "EAP4RcvAgRq6",
        "colab_type": "text"
      },
      "source": [
        "Which model has lowest/highest accuracy?\n",
        "Which model has lowest/highest recall?\n",
        "Which model has lowest/highest f1?"
      ]
    },
    {
      "cell_type": "markdown",
      "metadata": {
        "id": "GxApCytWgRq6",
        "colab_type": "text"
      },
      "source": [
        "## 6. GridsearchCV"
      ]
    },
    {
      "cell_type": "code",
      "metadata": {
        "id": "gBqEdOiCgRq7",
        "colab_type": "code",
        "colab": {}
      },
      "source": [
        "# Using gridsearchcv, random forest model and this param grid to find the best combination of parameters \n",
        "# Hint: example\n",
        "# https://stackoverflow.com/questions/30102973/how-to-get-best-estimator-on-gridsearchcv-random-forest-classifier-scikit\n",
        "\n",
        "param_grid = {\n",
        "    'bootstrap': [True],\n",
        "    'max_depth': [80, 90, 100, 110],\n",
        "    'max_features': [2, 3],\n",
        "    'min_samples_leaf': [3, 4, 5],\n",
        "    'min_samples_split': [8, 10, 12],\n",
        "    'n_estimators': [100, 200, 300, 1000]\n",
        "}\n",
        "\n"
      ],
      "execution_count": 0,
      "outputs": []
    },
    {
      "cell_type": "markdown",
      "metadata": {
        "id": "gj48ERPMgRq9",
        "colab_type": "text"
      },
      "source": [
        "#### which is the best combination of parameter"
      ]
    },
    {
      "cell_type": "code",
      "metadata": {
        "id": "3Q5lvx_HgRq-",
        "colab_type": "code",
        "colab": {}
      },
      "source": [
        "# Your code here"
      ],
      "execution_count": 0,
      "outputs": []
    },
    {
      "cell_type": "markdown",
      "metadata": {
        "id": "QEmiJsuGgRrA",
        "colab_type": "text"
      },
      "source": [
        "# Done! Great Job."
      ]
    }
  ]
}