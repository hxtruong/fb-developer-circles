{
  "nbformat": 4,
  "nbformat_minor": 0,
  "metadata": {
    "colab": {
      "name": "DAwP_Assignment_1.ipynb",
      "version": "0.3.2",
      "provenance": [],
      "include_colab_link": true
    },
    "kernelspec": {
      "name": "python3",
      "display_name": "Python 3"
    },
    "accelerator": "GPU"
  },
  "cells": [
    {
      "cell_type": "markdown",
      "metadata": {
        "id": "view-in-github",
        "colab_type": "text"
      },
      "source": [
        "<a href=\"https://colab.research.google.com/github/hxtruong/fb-developer-circles/blob/master/DAwP_Assignment_1.ipynb\" target=\"_parent\"><img src=\"https://colab.research.google.com/assets/colab-badge.svg\" alt=\"Open In Colab\"/></a>"
      ]
    },
    {
      "cell_type": "markdown",
      "metadata": {
        "id": "jjZG7BNlbWtO",
        "colab_type": "text"
      },
      "source": [
        "![](https://i.imgur.com/0AUxkXt.png)"
      ]
    },
    {
      "cell_type": "markdown",
      "metadata": {
        "id": "jbpQzyjqbflM",
        "colab_type": "text"
      },
      "source": [
        "# Assignment 1 - The Hacker Rank\n",
        "\n",
        "HackerRank is a place where programmers from all over the world come together to solve problems in a wide range of Computer Science domains.\n",
        "\n",
        "As you solve more challenges, you earn points and move up the HackerRank Leaderboard.\n",
        "\n",
        "Looking for a job at an awesome company? You can get hired by solving [challenges](https://www.hackerrank.com/jobs/search)!\n",
        "\n",
        "It's cool. Let's establish your knowledge and fight for glory!\n",
        "\n",
        "But before that let's make it clear that.."
      ]
    },
    {
      "cell_type": "markdown",
      "metadata": {
        "id": "-ndmD4naciAN",
        "colab_type": "text"
      },
      "source": [
        "## Note-taking is IMPORTANT\n",
        "\n",
        "Blog: [Why is note-taking important](https://nickblackbourn.com/blog/why-is-note-taking-important/)\n",
        "\n",
        "Note taking isn’t just important for college students, it’s a valuable life skill.\n",
        "\n",
        "Effective note taking helps you to remember information and aids your understanding of that information. \n",
        "\n",
        "**Notes boost your understanding**\n",
        "\n",
        "By making notes, you force yourself to construct a conceptual mental representation of the ideas you are grappling with. It is this process that helps you comprehend the subject matter you are working with.\n",
        "\n",
        "**Notes are a repository of your thinking**\n",
        "\n",
        "When you need to recall something that you came across a while ago, you can go over the main ideas by looking over your notes. This is why good, comprehensive notes are so useful; they are a catalogue of the best ideas you’ve encountered, and what you thought about them.\n",
        "\n",
        "etc.\n",
        "\n",
        "\n",
        "\n",
        "\n",
        "\n",
        "\n",
        "\n"
      ]
    },
    {
      "cell_type": "markdown",
      "metadata": {
        "id": "IGvKPsdVfX-F",
        "colab_type": "text"
      },
      "source": [
        "## Requirements\n",
        "\n",
        "Pick 10 challenges on HackerRank about SQL and 5 about Python in **easy** level:\n",
        "\n",
        "[HackerRank - Domain SQL](https://www.hackerrank.com/domains/sql?filters%5Bdifficulty%5D%5B%5D=easy&filters%5Bsubdomains%5D%5B%5D=select)\n",
        "\n",
        "[HackerRank - Domain Python](https://www.hackerrank.com/domains/python?filters%5Bdifficulty%5D%5B%5D=easy)\n",
        "\n",
        "For each challenge:\n",
        "\n",
        "* Create a markdown cell first that describes the challenge.\n",
        "* Solve the challenge on HackerRank and copy your solution to a code cell below\n",
        "* (Optional) A short description about how you came up with the solution would be awesome."
      ]
    },
    {
      "cell_type": "markdown",
      "metadata": {
        "id": "higGK1Y5iAea",
        "colab_type": "text"
      },
      "source": [
        "## Example"
      ]
    },
    {
      "cell_type": "markdown",
      "metadata": {
        "id": "D2yU2FYDi4tj",
        "colab_type": "text"
      },
      "source": [
        "### SQL"
      ]
    },
    {
      "cell_type": "markdown",
      "metadata": {
        "id": "gu4DDH7Ki77C",
        "colab_type": "text"
      },
      "source": [
        "\n",
        "#### Problem 1\n",
        "\n",
        "Query all columns for all American cities in **CITY** with populations larger than 100000. The CountryCode for America is USA.\n",
        "\n",
        "**Input Format**\n",
        "\n",
        "The **CITY** table is described as follows:\n",
        "\n",
        "| Field | Type |\n",
        "|:----:|:---:|\n",
        "| ID | NUMBER |\n",
        "| NAME | VARCHAR2(17) |\n",
        "| COUNTRYCODE | VARCHAR2(3) |\n",
        "| DISTRICT | VARCHAR2(20) |\n",
        "| POPULATION | NUMBER |"
      ]
    },
    {
      "cell_type": "code",
      "metadata": {
        "id": "hhAwMjyhbT1b",
        "colab_type": "code",
        "colab": {}
      },
      "source": [
        "# Solution\n",
        "# SELECT * from city WHERE population>100000 AND countrycode='USA';"
      ],
      "execution_count": 0,
      "outputs": []
    },
    {
      "cell_type": "markdown",
      "metadata": {
        "id": "0AxyfiJijJ7T",
        "colab_type": "text"
      },
      "source": [
        "### Python"
      ]
    },
    {
      "cell_type": "markdown",
      "metadata": {
        "id": "PEW8LsB5jLqf",
        "colab_type": "text"
      },
      "source": [
        "#### Problem 1\n",
        "\n",
        "**Task** \n",
        "Given an integer, , perform the following conditional actions:\n",
        "\n",
        "* If `n` is odd, print *Weird*\n",
        "* If `n` is even and in the inclusive range of 2 to 5, print *Not Weird*\n",
        "* If `n` is even and in the inclusive range of 6 to 20, print *Weird*\n",
        "* If `n` is even and greater than 20, print *Not Weird*\n",
        "\n",
        "**Input Format**\n",
        "\n",
        "A single line containing a positive integer, .\n",
        "\n",
        "**Output Format**\n",
        "\n",
        "Print Weird if the number is weird; otherwise, print Not Weird."
      ]
    },
    {
      "cell_type": "code",
      "metadata": {
        "id": "JBOxgw0zjLC2",
        "colab_type": "code",
        "colab": {}
      },
      "source": [
        "n = int(input())\n",
        "\n",
        "if n % 2 == 1:\n",
        "    print('Weird')\n",
        "else:\n",
        "    if (n >= 2) and (n <= 5):\n",
        "        print('Not Weird')\n",
        "    elif (n >= 6) and (n <= 20):\n",
        "        print('Weird')\n",
        "    else:\n",
        "        print('Not Weird')"
      ],
      "execution_count": 0,
      "outputs": []
    },
    {
      "cell_type": "markdown",
      "metadata": {
        "id": "a-Q3VE7YkA9A",
        "colab_type": "text"
      },
      "source": [
        "## Your turn\n",
        "\n",
        "Good luck and have fun!"
      ]
    },
    {
      "cell_type": "markdown",
      "metadata": {
        "id": "lcampFv1weNR",
        "colab_type": "text"
      },
      "source": [
        "## SQL"
      ]
    },
    {
      "cell_type": "markdown",
      "metadata": {
        "id": "UpiQYBL7zgzK",
        "colab_type": "text"
      },
      "source": [
        "### Table City\n",
        "Input for **Problem 1 - Problem 4**\n",
        "\n",
        "**Input Format**\n",
        "\n",
        "The **CITY** table is described as follows:\n",
        "\n",
        "| Field | Type |\n",
        "|:----:|:---:|\n",
        "| ID | NUMBER |\n",
        "| NAME | VARCHAR2(17) |\n",
        "| COUNTRYCODE | VARCHAR2(3) |\n",
        "| DISTRICT | VARCHAR2(20) |\n",
        "| POPULATION | NUMBER |"
      ]
    },
    {
      "cell_type": "markdown",
      "metadata": {
        "id": "ONBqSL-HwkgE",
        "colab_type": "text"
      },
      "source": [
        "**Problem 1**\n",
        "Query all columns (attributes) for every row in the CITY table.\n",
        "\n",
        "Input Format\n",
        "\n",
        "The CITY table is described as follows: CITY.jpg\n"
      ]
    },
    {
      "cell_type": "code",
      "metadata": {
        "id": "-e3akO0Gj_gk",
        "colab_type": "code",
        "colab": {}
      },
      "source": [
        "SELECT *\n",
        "FROM City as C"
      ],
      "execution_count": 0,
      "outputs": []
    },
    {
      "cell_type": "markdown",
      "metadata": {
        "id": "fHlL1CTexBXH",
        "colab_type": "text"
      },
      "source": [
        "**Problem 2**\n",
        "Query all columns for a city in CITY with the ID 1661.\n"
      ]
    },
    {
      "cell_type": "code",
      "metadata": {
        "id": "6L1-Ow5OxcY_",
        "colab_type": "code",
        "colab": {}
      },
      "source": [
        "SELECT *\n",
        "FROM City as C\n",
        "WHERE C.ID = 1661"
      ],
      "execution_count": 0,
      "outputs": []
    },
    {
      "cell_type": "markdown",
      "metadata": {
        "id": "lL76H9D3xe_1",
        "colab_type": "text"
      },
      "source": [
        "**Problem 3** \n",
        "Query all attributes of every Japanese city in the CITY table. The COUNTRYCODE for Japan is JPN.\n",
        "\n"
      ]
    },
    {
      "cell_type": "code",
      "metadata": {
        "id": "i7JVv_f-x3ln",
        "colab_type": "code",
        "colab": {}
      },
      "source": [
        "SELECT *\n",
        "FROM City as C\n",
        "WHERE C.COUNTRYCODE  = \"JPN\""
      ],
      "execution_count": 0,
      "outputs": []
    },
    {
      "cell_type": "markdown",
      "metadata": {
        "id": "EkviCB0yyC8f",
        "colab_type": "text"
      },
      "source": [
        "**Problem 4** Query the names of all the Japanese cities in the CITY table. The COUNTRYCODE for Japan is JPN.\n",
        "\n"
      ]
    },
    {
      "cell_type": "code",
      "metadata": {
        "id": "qgNNZOMEy9nB",
        "colab_type": "code",
        "colab": {}
      },
      "source": [
        "SELECT C.Name\n",
        "FROM City as C\n",
        "WHERE C.COUNTRYCODE  = \"JPN\""
      ],
      "execution_count": 0,
      "outputs": []
    },
    {
      "cell_type": "markdown",
      "metadata": {
        "id": "2lEakErPztrV",
        "colab_type": "text"
      },
      "source": [
        "### Table Station\n",
        "Input for **Problem 5 - Problem 10**\n",
        "\n",
        "**Input Format**\n",
        "\n",
        "The **STATION** table is described as follows:\n",
        "\n",
        "| Field | Type |\n",
        "|:----:|:---:|\n",
        "| ID | NUMBER |\n",
        "| CITY | VARCHAR2(21) |\n",
        "| STATE | VARCHAR2(2) |\n",
        "| LAT_N | NUMBER |\n",
        "| LONG_W | NUMBER |\n",
        "\n",
        "where LAT_N is the northern latitude and LONG_W is the western longitude.\n",
        "\n",
        "\n"
      ]
    },
    {
      "cell_type": "markdown",
      "metadata": {
        "id": "uQGhPLGyU3ou",
        "colab_type": "text"
      },
      "source": [
        "**Problem 5** Query a list of CITY and STATE from the STATION table.\n",
        "\n"
      ]
    },
    {
      "cell_type": "code",
      "metadata": {
        "id": "ihmq3ADHU9AT",
        "colab_type": "code",
        "colab": {}
      },
      "source": [
        "SELECT S.City, S.State\n",
        "FROM Station as S"
      ],
      "execution_count": 0,
      "outputs": []
    },
    {
      "cell_type": "markdown",
      "metadata": {
        "id": "fs6fX7kHVCBc",
        "colab_type": "text"
      },
      "source": [
        "**Problem 6** Query a list of CITY names from STATION with even ID numbers only. You may print the results in any order, but must exclude duplicates from your answer."
      ]
    },
    {
      "cell_type": "code",
      "metadata": {
        "id": "Am2vvWRTVIFP",
        "colab_type": "code",
        "colab": {}
      },
      "source": [
        "SELECT DISTINCT S.City \n",
        "FROM Station as S \n",
        "WHERE (S.Id % 2) = 0"
      ],
      "execution_count": 0,
      "outputs": []
    },
    {
      "cell_type": "markdown",
      "metadata": {
        "id": "CMMFCg0L548Y",
        "colab_type": "text"
      },
      "source": [
        "**Problem 7**\n",
        "Let **N** be the number of CITY entries in **STATION**, and let **N'**  be the number of distinct *CITY* names in **STATION**; query the value of **N - N'** from **STATION**. In other words, find the difference between the total number of CITY entries in the table and the number of distinct CITY entries in the table."
      ]
    },
    {
      "cell_type": "code",
      "metadata": {
        "id": "Klj0JZm76Sse",
        "colab_type": "code",
        "colab": {}
      },
      "source": [
        "SELECT COUNT(S.City) - COUNT(DISTINCT S.City)\n",
        "FROM Station as S"
      ],
      "execution_count": 0,
      "outputs": []
    },
    {
      "cell_type": "markdown",
      "metadata": {
        "id": "uQMVqHsQ9H2n",
        "colab_type": "text"
      },
      "source": [
        "**Problem 8**\n",
        "Query the two cities in **STATION** with the shortest and longest **CITY** names, as well as their respective lengths (i.e.: number of characters in the name). If there is more than one smallest or largest city, choose the one that comes first when ordered alphabetically.\n",
        "\n",
        "**Sample Input**\n",
        "\n",
        "Let's say that CITY only has four entries: DEF, ABC, PQRS and WXY\n",
        "\n",
        "**Sample Output**\n",
        "\n",
        "ABC 3\n",
        "PQRS 4\n",
        "Explanation\n",
        "\n",
        "When ordered alphabetically, the CITY names are listed as ABC, DEF, PQRS, and WXY, with the respective lengths  and . The longest-named city is obviously PQRS, but there are  options for shortest-named city; we choose ABC, because it comes first alphabetically.\n",
        "\n",
        "**Note **\n",
        "You can write two separate queries to get the desired output. It need not be a single query."
      ]
    },
    {
      "cell_type": "code",
      "metadata": {
        "id": "-96fNPqiAxNk",
        "colab_type": "code",
        "colab": {}
      },
      "source": [
        "SELECT TOP 1 S.City, LEN(S.City)\n",
        "FROM Station AS S\n",
        "ORDER BY LEN(S.City) DESC, S.City\n",
        "\n",
        "SELECT TOP 1 S.City, LEN(S.City)\n",
        "FROM Station AS S\n",
        "ORDER BY LEN(S.City) ASC, S.City ASC"
      ],
      "execution_count": 0,
      "outputs": []
    },
    {
      "cell_type": "markdown",
      "metadata": {
        "id": "qXWELVlDC0FA",
        "colab_type": "text"
      },
      "source": [
        "**Problem 9**\n",
        "Query the list of CITY names starting with vowels (i.e., a, e, i, o, or u) from STATION. Your result cannot contain duplicates.\n"
      ]
    },
    {
      "cell_type": "code",
      "metadata": {
        "id": "WfRU_iAREqtO",
        "colab_type": "code",
        "colab": {}
      },
      "source": [
        "SELECT DISTINCT S.City\n",
        "FROM Station AS S\n",
        "WHERE S.City LIKE '[ueoai]%'"
      ],
      "execution_count": 0,
      "outputs": []
    },
    {
      "cell_type": "markdown",
      "metadata": {
        "id": "qBOmFshAErpP",
        "colab_type": "text"
      },
      "source": [
        "**Problem 10** \n",
        "Query the list of CITY names ending with vowels (a, e, i, o, u) from STATION. Your result cannot contain duplicates.\n",
        "\n"
      ]
    },
    {
      "cell_type": "code",
      "metadata": {
        "id": "9im1-eDLE5iK",
        "colab_type": "code",
        "colab": {}
      },
      "source": [
        "SELECT DISTINCT S.City\n",
        "FROM Station AS S\n",
        "WHERE S.City LIKE '%[ueoai]'"
      ],
      "execution_count": 0,
      "outputs": []
    },
    {
      "cell_type": "markdown",
      "metadata": {
        "id": "PwvPucCYiE8l",
        "colab_type": "text"
      },
      "source": [
        "## Python"
      ]
    },
    {
      "cell_type": "markdown",
      "metadata": {
        "id": "mf-tWaagiJNS",
        "colab_type": "text"
      },
      "source": [
        "**Problem 1**\n",
        "\n",
        "**Task** \n",
        "\n",
        "Read two integers from STDIN and print three lines where:\n",
        "\n",
        "*   The first line contains the sum of the two numbers.\n",
        "*   The second line contains the difference of the two numbers (first - second).\n",
        "*   The third line contains the product of the two numbers.\n",
        "\n",
        "\n",
        "**Input Format**\n",
        "\n",
        "The first line contains the first integer, . The second line contains the second integer, .\n",
        "\n",
        "Constraints\n",
        "\n",
        " \n",
        "\n",
        "**Output Format**\n",
        "\n",
        "Print the three lines as explained above.\n",
        "\n",
        "**Sample Input 0**\n",
        "\n",
        "\n",
        "3\n",
        "\n",
        "2\n",
        "\n",
        "**Sample Output 0**\n",
        "\n",
        "\n",
        "5\n",
        "\n",
        "1\n",
        "\n",
        "6\n",
        "\n",
        "**Explanation 0**\n",
        "\n",
        "3 + 2 = 5\n",
        "\n",
        "3 - 2 = 1\n",
        "\n",
        "3 * 2 = 6"
      ]
    },
    {
      "cell_type": "code",
      "metadata": {
        "id": "Esu0ZwQQuC28",
        "colab_type": "code",
        "colab": {
          "base_uri": "https://localhost:8080/",
          "height": 101
        },
        "outputId": "07c62bc5-5282-4d73-96f4-e636afe338b2"
      },
      "source": [
        "if __name__ == '__main__':\n",
        "    a = int(input())\n",
        "    b = int(input())\n",
        "    print(a+b)\n",
        "    print(a-b)\n",
        "    print(a*b)"
      ],
      "execution_count": 2,
      "outputs": [
        {
          "output_type": "stream",
          "text": [
            "4\n",
            "6\n",
            "10\n",
            "-2\n",
            "24\n"
          ],
          "name": "stdout"
        }
      ]
    },
    {
      "cell_type": "markdown",
      "metadata": {
        "id": "CYzpXhhP4XkU",
        "colab_type": "text"
      },
      "source": [
        "**NOTE**\n",
        "\n",
        "To save time for editing the task I just paste the link."
      ]
    },
    {
      "cell_type": "markdown",
      "metadata": {
        "id": "iomaXW0m6veO",
        "colab_type": "text"
      },
      "source": [
        "\n",
        "**Problem 2**\n",
        "https://www.hackerrank.com/challenges/python-division/problem\n"
      ]
    },
    {
      "cell_type": "code",
      "metadata": {
        "id": "t5s-xGrF6Wf5",
        "colab_type": "code",
        "colab": {}
      },
      "source": [
        "if __name__ == '__main__':\n",
        "    a = int(input())\n",
        "    b = int(input())\n",
        "    print(a//b)\n",
        "    print(a/b)"
      ],
      "execution_count": 0,
      "outputs": []
    },
    {
      "cell_type": "markdown",
      "metadata": {
        "id": "b6Cqwe_y6kVS",
        "colab_type": "text"
      },
      "source": [
        "**Problem 3**\n",
        "https://www.hackerrank.com/challenges/python-loops/problem"
      ]
    },
    {
      "cell_type": "code",
      "metadata": {
        "id": "zqW_rXuE6pkv",
        "colab_type": "code",
        "colab": {
          "base_uri": "https://localhost:8080/",
          "height": 118
        },
        "outputId": "2dbced28-ad2d-468c-f758-b0b70c31e60d"
      },
      "source": [
        "if __name__ == '__main__':\n",
        "    n = int(input())\n",
        "    for i in range(n):\n",
        "        print(i**2)\n"
      ],
      "execution_count": 3,
      "outputs": [
        {
          "output_type": "stream",
          "text": [
            "5\n",
            "0\n",
            "1\n",
            "4\n",
            "9\n",
            "16\n"
          ],
          "name": "stdout"
        }
      ]
    },
    {
      "cell_type": "markdown",
      "metadata": {
        "id": "KUMIXxUK6_EP",
        "colab_type": "text"
      },
      "source": [
        "**Problem 4** \n",
        "https://www.hackerrank.com/challenges/write-a-function/problem"
      ]
    },
    {
      "cell_type": "code",
      "metadata": {
        "id": "mrt2KO407rpe",
        "colab_type": "code",
        "colab": {}
      },
      "source": [
        "def is_leap(year):\n",
        "    leap = False\n",
        "    \n",
        "    # Write your logic here\n",
        "    if (year%4 ==0 and year %100!=0) or (year%400==0):\n",
        "        leap = True\n",
        "    \n",
        "    return leap\n",
        "\n",
        "year = int(input())\n",
        "print(is_leap(year))"
      ],
      "execution_count": 0,
      "outputs": []
    },
    {
      "cell_type": "markdown",
      "metadata": {
        "id": "fIh6aE6-7sw2",
        "colab_type": "text"
      },
      "source": [
        "**Problem 5**\n",
        "https://www.hackerrank.com/challenges/no-idea/problem\n",
        "\n",
        "There is an array of **n**  integers. There are also **2  disjoint sets**,  **A** and **B** , each containing **m** integers. You like all the integers in set  and dislike all the integers in set . Your initial happiness is . For each  integer in the array, if , you add  to your happiness. If , you add  to your happiness. Otherwise, your happiness does not change. Output your final happiness at the end.\n",
        "\n",
        "**Note**: Since  and  are sets, they have no repeated elements. However, the array might contain duplicate elements.\n",
        "\n",
        "**Constraints** \n",
        " \n",
        "\n",
        "\n",
        "```\n",
        " 1 <= n <= 10^5\n",
        "\n",
        " 1<=m <= 10^5\n",
        " \n",
        " 1<= Any interger in the input <=10^9\n",
        " ```\n",
        "\n",
        "\n",
        " \n",
        "\n",
        "**Input Format**\n",
        "\n",
        "The first line contains integers n  and m separated by a space. \n",
        "\n",
        "The second line contains n integers, the elements of the array. \n",
        "\n",
        "The third and fourth lines contain m integers, **A** and **B**, respectively.\n",
        "\n",
        "\n",
        "**Output Format**\n",
        "\n",
        "Output a single integer, your total happiness.\n",
        "\n",
        "\n",
        "**Sample Input**\n",
        "\n",
        "3 2\n",
        "\n",
        "1 5 3\n",
        "\n",
        "3 1\n",
        "\n",
        "5 7\n",
        "\n",
        "**Sample Output**\n",
        "\n",
        "1\n",
        "\n",
        "**Explanation**\n",
        "\n",
        "You gain  **1** unit of happiness for elements 3  and 1 in set **A** . You lose 1 unit for 5 in set **B**. The element 7 in set B does not exist in the array so it is not included in the calculation.\n",
        "\n",
        "Hence, the total happiness is `2-1=`1."
      ]
    },
    {
      "cell_type": "code",
      "metadata": {
        "id": "4TxRb90qFS6-",
        "colab_type": "code",
        "colab": {}
      },
      "source": [
        "n,m = map(int, input().split())\n",
        "arr = list(map(int, input().split()))\n",
        "happy = set(map(int, input().split()))\n",
        "unhappy = set(map(int, input().split()))\n",
        "\n",
        "# print(n,m)\n",
        "# print(arr)\n",
        "# print(happy)\n",
        "# print(unhappy)\n",
        "res = 0;\n",
        "for a in arr:\n",
        "    if a in happy:\n",
        "        res+=1;\n",
        "    elif a in unhappy:\n",
        "        res-=1;\n",
        "print(res)"
      ],
      "execution_count": 0,
      "outputs": []
    }
  ]
}