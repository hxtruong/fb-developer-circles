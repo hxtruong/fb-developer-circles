{
  "nbformat": 4,
  "nbformat_minor": 0,
  "metadata": {
    "kernelspec": {
      "display_name": "Python 3",
      "language": "python",
      "name": "python3"
    },
    "language_info": {
      "codemirror_mode": {
        "name": "ipython",
        "version": 3
      },
      "file_extension": ".py",
      "mimetype": "text/x-python",
      "name": "python",
      "nbconvert_exporter": "python",
      "pygments_lexer": "ipython3",
      "version": "3.7.3"
    },
    "colab": {
      "name": "Assignment Week 4 - TED Talks.ipynb",
      "version": "0.3.2",
      "provenance": [],
      "collapsed_sections": [
        "SmBq82M4xx42",
        "z5kR7ve90Acu",
        "pk6Sw06R0NUJ",
        "b0gaboD_09qT",
        "s6gdyCX7I-v1",
        "cxEbLgLiNudw",
        "tYOq6-DMJTcY",
        "pBdnPNIaXZnM"
      ],
      "include_colab_link": true
    }
  },
  "cells": [
    {
      "cell_type": "markdown",
      "metadata": {
        "id": "view-in-github",
        "colab_type": "text"
      },
      "source": [
        "<a href=\"https://colab.research.google.com/github/hxtruong/fb-developer-circles/blob/master/week_4/Assignment_Week_4_TED_Talks.ipynb\" target=\"_parent\"><img src=\"https://colab.research.google.com/assets/colab-badge.svg\" alt=\"Open In Colab\"/></a>"
      ]
    },
    {
      "cell_type": "markdown",
      "metadata": {
        "id": "okdOQ5m9Qgbz",
        "colab_type": "text"
      },
      "source": [
        "# TED Talks\n",
        "\n",
        "![](https://psmarketingimages.s3.amazonaws.com/blog/wp-content/uploads/2017/04/23103819/TED-Talks-for-Small-Business-and-Entrepreneurs.jpg)\n",
        "\n",
        "_For more information about the dataset, read [here](https://www.kaggle.com/rounakbanik/ted-talks)._\n",
        "\n",
        "## Information \n",
        "- Hoang Xuan Truong\n",
        "\n",
        "## Tasks\n",
        "- Read the source and do some quick research to understand more about the dataset and its topic\n",
        "- Clean the data\n",
        "- Perform Exploratory Data Analysis on the dataset\n",
        "- Analyze the data more deeply and extract insights\n",
        "- Visualize your analysis on Google Data Studio\n",
        "- Present your works in front of the class and guests next Monday\n",
        "\n",
        "## Submission Guide\n",
        "- Create a Github repository for your project\n",
        "- Upload the dataset (.csv file) and the Jupyter Notebook to your Github repository. In the Jupyter Notebook, **include the link to your Google Data Studio report**.\n",
        "- Submit your works through this [Google Form](https://forms.gle/oxtXpGfS8JapVj3V8).\n",
        "\n",
        "## Tips for Data Cleaning, Manipulation & Visualization\n",
        "- Here are some of our tips for Data Cleaning, Manipulation & Visualization. [Click here](https://hackmd.io/cBNV7E6TT2WMliQC-GTw1A)\n",
        "\n",
        "_____________________________\n",
        "\n",
        "## Some Hints for This Dataset:\n",
        "- The `ratings` column is in dictionary format. How should we handle them?\n",
        "- Same for `related_talks` and `tags` column\n",
        "- Can you find the `year` of the talks?\n",
        "- And more..."
      ]
    },
    {
      "cell_type": "markdown",
      "metadata": {
        "id": "74SyH7-kkIiM",
        "colab_type": "text"
      },
      "source": [
        "# Find something fun about TED Talks"
      ]
    },
    {
      "cell_type": "markdown",
      "metadata": {
        "id": "yNCZBGf3kgGo",
        "colab_type": "text"
      },
      "source": [
        "### Intro\n",
        "TED Talks was founded in 1984 by Richard Saulman. It is place for peole share the incredible ideas about *Technology*, *Entertainment* and *Design* to everyone.\n",
        "\n",
        "![TED Talks logo](https://raw.githubusercontent.com/hxtruong/dataset/master/ted-talks/TED.gif)\n",
        "\n",
        "In recent years, the number of video is organized by TED Talks which is \n",
        "increasing in many countries, include of Vietnam. Althought these video are shared by experts from theirs field, I just want to watch **The most popular TED Talks** videos in the valuable videos.\n",
        "\n",
        "### Purpose\n",
        "\n",
        "1. Finding **the most popular videos** to watching base on some **factors**\n",
        "2. Checking the highest views/comments videos is true in 80/20 (**Pareto Principle**) rule on total views/comments TED Talks\n",
        "3. **Predicting** the trend video in fields (*Tech, Entertainment or Design*) via number of videos"
      ]
    },
    {
      "cell_type": "markdown",
      "metadata": {
        "id": "SmBq82M4xx42",
        "colab_type": "text"
      },
      "source": [
        "## What data we have? \n",
        "*(Refer kaggle)*\n",
        "#### Dataset contains two `csv` files:\n",
        " \n",
        " - ted_main.csv : Contains data on actual TED Talk metadata and TED Talk speakers\n",
        " - transcripts.csv : Contains transcript and URL information for TED Talks\n",
        "\n",
        "### Columns in data\n",
        "#### ted_main.csv\n",
        " - name: The official name of the TED Talk. Includes the title and the speaker.\n",
        " - title: The title of the talk\n",
        " - description: A blurb of what the talk is about.\n",
        " - main_speaker: The first named speaker of the talk.\n",
        " - speaker_occupation: The occupation of the main speaker.\n",
        " - num_speaker: The number of speakers in the talk.\n",
        " - duration: The duration of the talk in seconds.\n",
        " - event: The TED/TEDx event where the talk took place.\n",
        " - film_date: The Unix timestamp of the filming.\n",
        " - published_date: The Unix timestamp for the publication of the talk on TED.com\n",
        " - comments: The number of first level comments made on the talk.\n",
        " - tags: The themes associated with the talk.\n",
        " - languages: The number of languages in which the talk is available.\n",
        " - ratings: A stringified dictionary of the various ratings given to the talk (inspiring, fascinating, jaw dropping, etc.)\n",
        " - related_talks: A list of dictionaries of recommended talks to watch next.\n",
        " - url: The URL of the talk.\n",
        " - views: The number of views on the talk.\n",
        "\n",
        "#### transcripts.csv\n",
        " - transcript: The official English transcript of the talk.\n",
        " - url: The URL of the talk"
      ]
    },
    {
      "cell_type": "markdown",
      "metadata": {
        "id": "z5kR7ve90Acu",
        "colab_type": "text"
      },
      "source": [
        "### Load Libraries"
      ]
    },
    {
      "cell_type": "code",
      "metadata": {
        "id": "FHMijZAuQgb0",
        "colab_type": "code",
        "colab": {}
      },
      "source": [
        "import pandas as pd\n",
        "import numpy as np\n",
        "import matplotlib.pyplot as plt\n",
        "import seaborn as sns\n",
        "%matplotlib inline\n",
        "sns.set()\n",
        "\n",
        "# To avoid Warning message inbetween ...\n",
        "import warnings\n",
        "warnings.filterwarnings('ignore')"
      ],
      "execution_count": 0,
      "outputs": []
    },
    {
      "cell_type": "markdown",
      "metadata": {
        "id": "pk6Sw06R0NUJ",
        "colab_type": "text"
      },
      "source": [
        "### Load the Dataset\n",
        "\n",
        "I load `ted_main.csv` at first."
      ]
    },
    {
      "cell_type": "code",
      "metadata": {
        "id": "VC4PYo5m0N2R",
        "colab_type": "code",
        "colab": {}
      },
      "source": [
        "# Load the Dataset\n",
        "link = \"https://raw.githubusercontent.com/hxtruong/dataset/master/ted-talks/ted_main.csv\"\n",
        "# transcription_link = \"https://raw.githubusercontent.com/hxtruong/dataset/master/ted-talks/transcripts.csv\"\n",
        "df = pd.read_csv(link, skipinitialspace=True)"
      ],
      "execution_count": 0,
      "outputs": []
    },
    {
      "cell_type": "markdown",
      "metadata": {
        "id": "b0gaboD_09qT",
        "colab_type": "text"
      },
      "source": [
        "### Quick Analysis on Dataset"
      ]
    },
    {
      "cell_type": "code",
      "metadata": {
        "id": "Wb6Gy6bV1Db-",
        "colab_type": "code",
        "outputId": "b8b041a1-5310-4084-cf99-55b41960ab93",
        "colab": {
          "base_uri": "https://localhost:8080/",
          "height": 0
        }
      },
      "source": [
        "#Quick Analysis on Dataset : DataTypes, Rows and Columns ,Null values, Unique values ...\n",
        "def quick_analysis(df):\n",
        "    print(\"Data Types:\")\n",
        "    print(df.dtypes)\n",
        "    print(\"\\n-----\\nRows and Columns:\")\n",
        "    print(df.shape)\n",
        "    print(\"\\n-----\\nColumn names:\")\n",
        "    print(df.columns)\n",
        "    print(\"\\n-----\\nPercent Null Values\")\n",
        "    print(df.apply(lambda x: sum(x.isnull()) / len(df)))\n",
        "    print(\"\\n-----\\nUnique values\")\n",
        "    print(df.nunique())\n",
        "\n",
        "quick_analysis(df)"
      ],
      "execution_count": 3,
      "outputs": [
        {
          "output_type": "stream",
          "text": [
            "Data Types:\n",
            "comments               int64\n",
            "description           object\n",
            "duration               int64\n",
            "event                 object\n",
            "film_date              int64\n",
            "languages              int64\n",
            "main_speaker          object\n",
            "name                  object\n",
            "num_speaker            int64\n",
            "published_date         int64\n",
            "ratings               object\n",
            "related_talks         object\n",
            "speaker_occupation    object\n",
            "tags                  object\n",
            "title                 object\n",
            "url                   object\n",
            "views                  int64\n",
            "dtype: object\n",
            "\n",
            "-----\n",
            "Rows and Columns:\n",
            "(2550, 17)\n",
            "\n",
            "-----\n",
            "Column names:\n",
            "Index(['comments', 'description', 'duration', 'event', 'film_date',\n",
            "       'languages', 'main_speaker', 'name', 'num_speaker', 'published_date',\n",
            "       'ratings', 'related_talks', 'speaker_occupation', 'tags', 'title',\n",
            "       'url', 'views'],\n",
            "      dtype='object')\n",
            "\n",
            "-----\n",
            "Percent Null Values\n",
            "comments              0.000000\n",
            "description           0.000000\n",
            "duration              0.000000\n",
            "event                 0.000000\n",
            "film_date             0.000000\n",
            "languages             0.000000\n",
            "main_speaker          0.000000\n",
            "name                  0.000000\n",
            "num_speaker           0.000000\n",
            "published_date        0.000000\n",
            "ratings               0.000000\n",
            "related_talks         0.000000\n",
            "speaker_occupation    0.002353\n",
            "tags                  0.000000\n",
            "title                 0.000000\n",
            "url                   0.000000\n",
            "views                 0.000000\n",
            "dtype: float64\n",
            "\n",
            "-----\n",
            "Unique values\n",
            "comments               559\n",
            "description           2550\n",
            "duration              1083\n",
            "event                  355\n",
            "film_date              735\n",
            "languages               66\n",
            "main_speaker          2156\n",
            "name                  2550\n",
            "num_speaker              5\n",
            "published_date        2490\n",
            "ratings               2550\n",
            "related_talks         2550\n",
            "speaker_occupation    1458\n",
            "tags                  2530\n",
            "title                 2550\n",
            "url                   2550\n",
            "views                 2550\n",
            "dtype: int64\n"
          ],
          "name": "stdout"
        }
      ]
    },
    {
      "cell_type": "code",
      "metadata": {
        "id": "26OIu8KsHa-g",
        "colab_type": "code",
        "outputId": "fabc06b2-2754-46a4-e4b8-0e0f1194ecc1",
        "colab": {
          "base_uri": "https://localhost:8080/",
          "height": 0
        }
      },
      "source": [
        "df.info()"
      ],
      "execution_count": 4,
      "outputs": [
        {
          "output_type": "stream",
          "text": [
            "<class 'pandas.core.frame.DataFrame'>\n",
            "RangeIndex: 2550 entries, 0 to 2549\n",
            "Data columns (total 17 columns):\n",
            "comments              2550 non-null int64\n",
            "description           2550 non-null object\n",
            "duration              2550 non-null int64\n",
            "event                 2550 non-null object\n",
            "film_date             2550 non-null int64\n",
            "languages             2550 non-null int64\n",
            "main_speaker          2550 non-null object\n",
            "name                  2550 non-null object\n",
            "num_speaker           2550 non-null int64\n",
            "published_date        2550 non-null int64\n",
            "ratings               2550 non-null object\n",
            "related_talks         2550 non-null object\n",
            "speaker_occupation    2544 non-null object\n",
            "tags                  2550 non-null object\n",
            "title                 2550 non-null object\n",
            "url                   2550 non-null object\n",
            "views                 2550 non-null int64\n",
            "dtypes: int64(7), object(10)\n",
            "memory usage: 338.8+ KB\n"
          ],
          "name": "stdout"
        }
      ]
    },
    {
      "cell_type": "markdown",
      "metadata": {
        "id": "KrJttc1VHeMf",
        "colab_type": "text"
      },
      "source": [
        "**>Comment**\n",
        "\n",
        "From information above:\n",
        "  - Dataset have 6 *`null`* `speaker_occupation` values.\n",
        "  - Data is clean enough to exploring"
      ]
    },
    {
      "cell_type": "markdown",
      "metadata": {
        "id": "s6gdyCX7I-v1",
        "colab_type": "text"
      },
      "source": [
        "##### Show 5 random videos in dataset"
      ]
    },
    {
      "cell_type": "code",
      "metadata": {
        "id": "BKJfaSDh13H7",
        "colab_type": "code",
        "outputId": "58882ae0-31fe-43d6-8f8d-75a06f878f99",
        "colab": {
          "base_uri": "https://localhost:8080/",
          "height": 0
        }
      },
      "source": [
        "df.sample(5)"
      ],
      "execution_count": 5,
      "outputs": [
        {
          "output_type": "execute_result",
          "data": {
            "text/html": [
              "<div>\n",
              "<style scoped>\n",
              "    .dataframe tbody tr th:only-of-type {\n",
              "        vertical-align: middle;\n",
              "    }\n",
              "\n",
              "    .dataframe tbody tr th {\n",
              "        vertical-align: top;\n",
              "    }\n",
              "\n",
              "    .dataframe thead th {\n",
              "        text-align: right;\n",
              "    }\n",
              "</style>\n",
              "<table border=\"1\" class=\"dataframe\">\n",
              "  <thead>\n",
              "    <tr style=\"text-align: right;\">\n",
              "      <th></th>\n",
              "      <th>comments</th>\n",
              "      <th>description</th>\n",
              "      <th>duration</th>\n",
              "      <th>event</th>\n",
              "      <th>film_date</th>\n",
              "      <th>languages</th>\n",
              "      <th>main_speaker</th>\n",
              "      <th>name</th>\n",
              "      <th>num_speaker</th>\n",
              "      <th>published_date</th>\n",
              "      <th>ratings</th>\n",
              "      <th>related_talks</th>\n",
              "      <th>speaker_occupation</th>\n",
              "      <th>tags</th>\n",
              "      <th>title</th>\n",
              "      <th>url</th>\n",
              "      <th>views</th>\n",
              "    </tr>\n",
              "  </thead>\n",
              "  <tbody>\n",
              "    <tr>\n",
              "      <th>2207</th>\n",
              "      <td>35</td>\n",
              "      <td>Anyone who has lost a loved one to pancreatic ...</td>\n",
              "      <td>363</td>\n",
              "      <td>TED2016</td>\n",
              "      <td>1455494400</td>\n",
              "      <td>31</td>\n",
              "      <td>Laura Indolfi</td>\n",
              "      <td>Laura Indolfi: Good news in the fight against ...</td>\n",
              "      <td>1</td>\n",
              "      <td>1463496380</td>\n",
              "      <td>[{'id': 3, 'name': 'Courageous', 'count': 56},...</td>\n",
              "      <td>[{'id': 2467, 'hero': 'https://pe.tedcdn.com/i...</td>\n",
              "      <td>Biomedical entrepreneur</td>\n",
              "      <td>['TED Fellows', 'big problems', 'cancer', 'des...</td>\n",
              "      <td>Good news in the fight against pancreatic cancer</td>\n",
              "      <td>https://www.ted.com/talks/laura_indolfi_good_n...</td>\n",
              "      <td>1183075</td>\n",
              "    </tr>\n",
              "    <tr>\n",
              "      <th>1912</th>\n",
              "      <td>30</td>\n",
              "      <td>Just like us, the monarch butterfly sometimes ...</td>\n",
              "      <td>375</td>\n",
              "      <td>TEDYouth 2014</td>\n",
              "      <td>1416009600</td>\n",
              "      <td>30</td>\n",
              "      <td>Jaap de Roode</td>\n",
              "      <td>Jaap de Roode: How butterflies self-medicate</td>\n",
              "      <td>1</td>\n",
              "      <td>1423496693</td>\n",
              "      <td>[{'id': 21, 'name': 'Unconvincing', 'count': 3...</td>\n",
              "      <td>[{'id': 1955, 'hero': 'https://pe.tedcdn.com/i...</td>\n",
              "      <td>Biologist</td>\n",
              "      <td>['TEDYouth', 'animals', 'biology', 'biomimicry...</td>\n",
              "      <td>How butterflies self-medicate</td>\n",
              "      <td>https://www.ted.com/talks/jaap_de_roode_how_bu...</td>\n",
              "      <td>1068305</td>\n",
              "    </tr>\n",
              "    <tr>\n",
              "      <th>1871</th>\n",
              "      <td>152</td>\n",
              "      <td>Why do some people struggle more than others t...</td>\n",
              "      <td>848</td>\n",
              "      <td>TEDxNewYork</td>\n",
              "      <td>1414800000</td>\n",
              "      <td>29</td>\n",
              "      <td>Emily Balcetis</td>\n",
              "      <td>Emily Balcetis: Why some people find exercise ...</td>\n",
              "      <td>1</td>\n",
              "      <td>1416931592</td>\n",
              "      <td>[{'id': 8, 'name': 'Informative', 'count': 839...</td>\n",
              "      <td>[{'id': 1815, 'hero': 'https://pe.tedcdn.com/i...</td>\n",
              "      <td>Psychologist</td>\n",
              "      <td>['TEDx', 'decision-making', 'health', 'mind', ...</td>\n",
              "      <td>Why some people find exercise harder than others</td>\n",
              "      <td>https://www.ted.com/talks/emily_balcetis_why_s...</td>\n",
              "      <td>3143653</td>\n",
              "    </tr>\n",
              "    <tr>\n",
              "      <th>1510</th>\n",
              "      <td>239</td>\n",
              "      <td>Thinking about death is frightening, but plann...</td>\n",
              "      <td>363</td>\n",
              "      <td>TED2013</td>\n",
              "      <td>1361923200</td>\n",
              "      <td>34</td>\n",
              "      <td>Judy MacDonald Johnston</td>\n",
              "      <td>Judy MacDonald Johnston: Prepare for a good en...</td>\n",
              "      <td>1</td>\n",
              "      <td>1369234714</td>\n",
              "      <td>[{'id': 10, 'name': 'Inspiring', 'count': 375}...</td>\n",
              "      <td>[{'id': 1399, 'hero': 'https://pe.tedcdn.com/i...</td>\n",
              "      <td>Entrepreneur</td>\n",
              "      <td>['aging', 'culture', 'death', 'humanity', 'life']</td>\n",
              "      <td>Prepare for a good end of life</td>\n",
              "      <td>https://www.ted.com/talks/judy_macdonald_johns...</td>\n",
              "      <td>1467971</td>\n",
              "    </tr>\n",
              "    <tr>\n",
              "      <th>1232</th>\n",
              "      <td>101</td>\n",
              "      <td>What can mathematics say about history? Accord...</td>\n",
              "      <td>266</td>\n",
              "      <td>TED2012</td>\n",
              "      <td>1330300800</td>\n",
              "      <td>38</td>\n",
              "      <td>Jean-Baptiste Michel</td>\n",
              "      <td>Jean-Baptiste Michel: The mathematics of history</td>\n",
              "      <td>1</td>\n",
              "      <td>1337094009</td>\n",
              "      <td>[{'id': 9, 'name': 'Ingenious', 'count': 178},...</td>\n",
              "      <td>[{'id': 1227, 'hero': 'https://pe.tedcdn.com/i...</td>\n",
              "      <td>Data researcher</td>\n",
              "      <td>['TED Fellows', 'algorithm', 'anthropology', '...</td>\n",
              "      <td>The mathematics of history</td>\n",
              "      <td>https://www.ted.com/talks/jean_baptiste_michel...</td>\n",
              "      <td>1183303</td>\n",
              "    </tr>\n",
              "  </tbody>\n",
              "</table>\n",
              "</div>"
            ],
            "text/plain": [
              "      comments  ...    views\n",
              "2207        35  ...  1183075\n",
              "1912        30  ...  1068305\n",
              "1871       152  ...  3143653\n",
              "1510       239  ...  1467971\n",
              "1232       101  ...  1183303\n",
              "\n",
              "[5 rows x 17 columns]"
            ]
          },
          "metadata": {
            "tags": []
          },
          "execution_count": 5
        }
      ]
    },
    {
      "cell_type": "markdown",
      "metadata": {
        "id": "cxEbLgLiNudw",
        "colab_type": "text"
      },
      "source": [
        "##### Change time to easy understand"
      ]
    },
    {
      "cell_type": "code",
      "metadata": {
        "id": "hiIMfu6jN7Xq",
        "colab_type": "code",
        "colab": {}
      },
      "source": [
        "from datetime import datetime\n",
        "df['film_date'] = df['film_date'].apply(lambda x: datetime.fromtimestamp( int(x)).strftime('%d-%m-%Y'))\n",
        "df['published_date'] = df['published_date'].apply(lambda x: datetime.fromtimestamp( int(x)).strftime('%d-%m-%Y'))"
      ],
      "execution_count": 0,
      "outputs": []
    },
    {
      "cell_type": "code",
      "metadata": {
        "id": "omdQ-oLvOT5s",
        "colab_type": "code",
        "outputId": "c9639e40-0f0b-4174-b287-0d8deaf67598",
        "colab": {
          "base_uri": "https://localhost:8080/",
          "height": 0
        }
      },
      "source": [
        "df.loc[:3, ['title', 'film_date', 'published_date']]"
      ],
      "execution_count": 7,
      "outputs": [
        {
          "output_type": "execute_result",
          "data": {
            "text/html": [
              "<div>\n",
              "<style scoped>\n",
              "    .dataframe tbody tr th:only-of-type {\n",
              "        vertical-align: middle;\n",
              "    }\n",
              "\n",
              "    .dataframe tbody tr th {\n",
              "        vertical-align: top;\n",
              "    }\n",
              "\n",
              "    .dataframe thead th {\n",
              "        text-align: right;\n",
              "    }\n",
              "</style>\n",
              "<table border=\"1\" class=\"dataframe\">\n",
              "  <thead>\n",
              "    <tr style=\"text-align: right;\">\n",
              "      <th></th>\n",
              "      <th>title</th>\n",
              "      <th>film_date</th>\n",
              "      <th>published_date</th>\n",
              "    </tr>\n",
              "  </thead>\n",
              "  <tbody>\n",
              "    <tr>\n",
              "      <th>0</th>\n",
              "      <td>Do schools kill creativity?</td>\n",
              "      <td>25-02-2006</td>\n",
              "      <td>27-06-2006</td>\n",
              "    </tr>\n",
              "    <tr>\n",
              "      <th>1</th>\n",
              "      <td>Averting the climate crisis</td>\n",
              "      <td>25-02-2006</td>\n",
              "      <td>27-06-2006</td>\n",
              "    </tr>\n",
              "    <tr>\n",
              "      <th>2</th>\n",
              "      <td>Simplicity sells</td>\n",
              "      <td>24-02-2006</td>\n",
              "      <td>27-06-2006</td>\n",
              "    </tr>\n",
              "    <tr>\n",
              "      <th>3</th>\n",
              "      <td>Greening the ghetto</td>\n",
              "      <td>26-02-2006</td>\n",
              "      <td>27-06-2006</td>\n",
              "    </tr>\n",
              "  </tbody>\n",
              "</table>\n",
              "</div>"
            ],
            "text/plain": [
              "                         title   film_date published_date\n",
              "0  Do schools kill creativity?  25-02-2006     27-06-2006\n",
              "1  Averting the climate crisis  25-02-2006     27-06-2006\n",
              "2             Simplicity sells  24-02-2006     27-06-2006\n",
              "3          Greening the ghetto  26-02-2006     27-06-2006"
            ]
          },
          "metadata": {
            "tags": []
          },
          "execution_count": 7
        }
      ]
    },
    {
      "cell_type": "code",
      "metadata": {
        "id": "65f8MoyERb8i",
        "colab_type": "code",
        "outputId": "b1935ac8-6843-42f8-ce93-4026231406bd",
        "colab": {
          "base_uri": "https://localhost:8080/",
          "height": 0
        }
      },
      "source": [
        "df.info()"
      ],
      "execution_count": 8,
      "outputs": [
        {
          "output_type": "stream",
          "text": [
            "<class 'pandas.core.frame.DataFrame'>\n",
            "RangeIndex: 2550 entries, 0 to 2549\n",
            "Data columns (total 17 columns):\n",
            "comments              2550 non-null int64\n",
            "description           2550 non-null object\n",
            "duration              2550 non-null int64\n",
            "event                 2550 non-null object\n",
            "film_date             2550 non-null object\n",
            "languages             2550 non-null int64\n",
            "main_speaker          2550 non-null object\n",
            "name                  2550 non-null object\n",
            "num_speaker           2550 non-null int64\n",
            "published_date        2550 non-null object\n",
            "ratings               2550 non-null object\n",
            "related_talks         2550 non-null object\n",
            "speaker_occupation    2544 non-null object\n",
            "tags                  2550 non-null object\n",
            "title                 2550 non-null object\n",
            "url                   2550 non-null object\n",
            "views                 2550 non-null int64\n",
            "dtypes: int64(5), object(12)\n",
            "memory usage: 338.8+ KB\n"
          ],
          "name": "stdout"
        }
      ]
    },
    {
      "cell_type": "markdown",
      "metadata": {
        "id": "tYOq6-DMJTcY",
        "colab_type": "text"
      },
      "source": [
        "##### Swap columns for easily explore"
      ]
    },
    {
      "cell_type": "code",
      "metadata": {
        "id": "ofFqHh2uHNXc",
        "colab_type": "code",
        "outputId": "659a0fe0-78f3-44f9-e76c-138fb2e63faf",
        "colab": {
          "base_uri": "https://localhost:8080/",
          "height": 0
        }
      },
      "source": [
        "cols = df.columns\n",
        "cols = ['name', 'title', 'main_speaker', 'duration', 'views', 'comments', \n",
        "        'description', 'event', 'film_date','published_date',\n",
        "        'languages',  'num_speaker', 'ratings', 'related_talks', \n",
        "        'speaker_occupation', 'tags', 'url']\n",
        "df = df.reindex(columns=cols)\n",
        "df.columns"
      ],
      "execution_count": 9,
      "outputs": [
        {
          "output_type": "execute_result",
          "data": {
            "text/plain": [
              "Index(['name', 'title', 'main_speaker', 'duration', 'views', 'comments',\n",
              "       'description', 'event', 'film_date', 'published_date', 'languages',\n",
              "       'num_speaker', 'ratings', 'related_talks', 'speaker_occupation', 'tags',\n",
              "       'url'],\n",
              "      dtype='object')"
            ]
          },
          "metadata": {
            "tags": []
          },
          "execution_count": 9
        }
      ]
    },
    {
      "cell_type": "code",
      "metadata": {
        "id": "bcwwh2ZILKaM",
        "colab_type": "code",
        "outputId": "6a7c6b25-ad2b-46ec-de9f-60dd1e216e0d",
        "colab": {
          "base_uri": "https://localhost:8080/",
          "height": 0
        }
      },
      "source": [
        "df.head(2)"
      ],
      "execution_count": 10,
      "outputs": [
        {
          "output_type": "execute_result",
          "data": {
            "text/html": [
              "<div>\n",
              "<style scoped>\n",
              "    .dataframe tbody tr th:only-of-type {\n",
              "        vertical-align: middle;\n",
              "    }\n",
              "\n",
              "    .dataframe tbody tr th {\n",
              "        vertical-align: top;\n",
              "    }\n",
              "\n",
              "    .dataframe thead th {\n",
              "        text-align: right;\n",
              "    }\n",
              "</style>\n",
              "<table border=\"1\" class=\"dataframe\">\n",
              "  <thead>\n",
              "    <tr style=\"text-align: right;\">\n",
              "      <th></th>\n",
              "      <th>name</th>\n",
              "      <th>title</th>\n",
              "      <th>main_speaker</th>\n",
              "      <th>duration</th>\n",
              "      <th>views</th>\n",
              "      <th>comments</th>\n",
              "      <th>description</th>\n",
              "      <th>event</th>\n",
              "      <th>film_date</th>\n",
              "      <th>published_date</th>\n",
              "      <th>languages</th>\n",
              "      <th>num_speaker</th>\n",
              "      <th>ratings</th>\n",
              "      <th>related_talks</th>\n",
              "      <th>speaker_occupation</th>\n",
              "      <th>tags</th>\n",
              "      <th>url</th>\n",
              "    </tr>\n",
              "  </thead>\n",
              "  <tbody>\n",
              "    <tr>\n",
              "      <th>0</th>\n",
              "      <td>Ken Robinson: Do schools kill creativity?</td>\n",
              "      <td>Do schools kill creativity?</td>\n",
              "      <td>Ken Robinson</td>\n",
              "      <td>1164</td>\n",
              "      <td>47227110</td>\n",
              "      <td>4553</td>\n",
              "      <td>Sir Ken Robinson makes an entertaining and pro...</td>\n",
              "      <td>TED2006</td>\n",
              "      <td>25-02-2006</td>\n",
              "      <td>27-06-2006</td>\n",
              "      <td>60</td>\n",
              "      <td>1</td>\n",
              "      <td>[{'id': 7, 'name': 'Funny', 'count': 19645}, {...</td>\n",
              "      <td>[{'id': 865, 'hero': 'https://pe.tedcdn.com/im...</td>\n",
              "      <td>Author/educator</td>\n",
              "      <td>['children', 'creativity', 'culture', 'dance',...</td>\n",
              "      <td>https://www.ted.com/talks/ken_robinson_says_sc...</td>\n",
              "    </tr>\n",
              "    <tr>\n",
              "      <th>1</th>\n",
              "      <td>Al Gore: Averting the climate crisis</td>\n",
              "      <td>Averting the climate crisis</td>\n",
              "      <td>Al Gore</td>\n",
              "      <td>977</td>\n",
              "      <td>3200520</td>\n",
              "      <td>265</td>\n",
              "      <td>With the same humor and humanity he exuded in ...</td>\n",
              "      <td>TED2006</td>\n",
              "      <td>25-02-2006</td>\n",
              "      <td>27-06-2006</td>\n",
              "      <td>43</td>\n",
              "      <td>1</td>\n",
              "      <td>[{'id': 7, 'name': 'Funny', 'count': 544}, {'i...</td>\n",
              "      <td>[{'id': 243, 'hero': 'https://pe.tedcdn.com/im...</td>\n",
              "      <td>Climate advocate</td>\n",
              "      <td>['alternative energy', 'cars', 'climate change...</td>\n",
              "      <td>https://www.ted.com/talks/al_gore_on_averting_...</td>\n",
              "    </tr>\n",
              "  </tbody>\n",
              "</table>\n",
              "</div>"
            ],
            "text/plain": [
              "                                        name  ...                                                url\n",
              "0  Ken Robinson: Do schools kill creativity?  ...  https://www.ted.com/talks/ken_robinson_says_sc...\n",
              "1       Al Gore: Averting the climate crisis  ...  https://www.ted.com/talks/al_gore_on_averting_...\n",
              "\n",
              "[2 rows x 17 columns]"
            ]
          },
          "metadata": {
            "tags": []
          },
          "execution_count": 10
        }
      ]
    },
    {
      "cell_type": "markdown",
      "metadata": {
        "id": "W6ms3L6GLyFk",
        "colab_type": "text"
      },
      "source": [
        "##### Describe dataset"
      ]
    },
    {
      "cell_type": "code",
      "metadata": {
        "id": "FwY-eqc3L3Qi",
        "colab_type": "code",
        "outputId": "e29a3fe1-229e-4492-e1b8-92f4f54dd0f0",
        "colab": {
          "base_uri": "https://localhost:8080/",
          "height": 0
        }
      },
      "source": [
        "df.describe()"
      ],
      "execution_count": 11,
      "outputs": [
        {
          "output_type": "execute_result",
          "data": {
            "text/html": [
              "<div>\n",
              "<style scoped>\n",
              "    .dataframe tbody tr th:only-of-type {\n",
              "        vertical-align: middle;\n",
              "    }\n",
              "\n",
              "    .dataframe tbody tr th {\n",
              "        vertical-align: top;\n",
              "    }\n",
              "\n",
              "    .dataframe thead th {\n",
              "        text-align: right;\n",
              "    }\n",
              "</style>\n",
              "<table border=\"1\" class=\"dataframe\">\n",
              "  <thead>\n",
              "    <tr style=\"text-align: right;\">\n",
              "      <th></th>\n",
              "      <th>duration</th>\n",
              "      <th>views</th>\n",
              "      <th>comments</th>\n",
              "      <th>languages</th>\n",
              "      <th>num_speaker</th>\n",
              "    </tr>\n",
              "  </thead>\n",
              "  <tbody>\n",
              "    <tr>\n",
              "      <th>count</th>\n",
              "      <td>2550.000000</td>\n",
              "      <td>2.550000e+03</td>\n",
              "      <td>2550.000000</td>\n",
              "      <td>2550.000000</td>\n",
              "      <td>2550.000000</td>\n",
              "    </tr>\n",
              "    <tr>\n",
              "      <th>mean</th>\n",
              "      <td>826.510196</td>\n",
              "      <td>1.698297e+06</td>\n",
              "      <td>191.562353</td>\n",
              "      <td>27.326275</td>\n",
              "      <td>1.028235</td>\n",
              "    </tr>\n",
              "    <tr>\n",
              "      <th>std</th>\n",
              "      <td>374.009138</td>\n",
              "      <td>2.498479e+06</td>\n",
              "      <td>282.315223</td>\n",
              "      <td>9.563452</td>\n",
              "      <td>0.207705</td>\n",
              "    </tr>\n",
              "    <tr>\n",
              "      <th>min</th>\n",
              "      <td>135.000000</td>\n",
              "      <td>5.044300e+04</td>\n",
              "      <td>2.000000</td>\n",
              "      <td>0.000000</td>\n",
              "      <td>1.000000</td>\n",
              "    </tr>\n",
              "    <tr>\n",
              "      <th>25%</th>\n",
              "      <td>577.000000</td>\n",
              "      <td>7.557928e+05</td>\n",
              "      <td>63.000000</td>\n",
              "      <td>23.000000</td>\n",
              "      <td>1.000000</td>\n",
              "    </tr>\n",
              "    <tr>\n",
              "      <th>50%</th>\n",
              "      <td>848.000000</td>\n",
              "      <td>1.124524e+06</td>\n",
              "      <td>118.000000</td>\n",
              "      <td>28.000000</td>\n",
              "      <td>1.000000</td>\n",
              "    </tr>\n",
              "    <tr>\n",
              "      <th>75%</th>\n",
              "      <td>1046.750000</td>\n",
              "      <td>1.700760e+06</td>\n",
              "      <td>221.750000</td>\n",
              "      <td>33.000000</td>\n",
              "      <td>1.000000</td>\n",
              "    </tr>\n",
              "    <tr>\n",
              "      <th>max</th>\n",
              "      <td>5256.000000</td>\n",
              "      <td>4.722711e+07</td>\n",
              "      <td>6404.000000</td>\n",
              "      <td>72.000000</td>\n",
              "      <td>5.000000</td>\n",
              "    </tr>\n",
              "  </tbody>\n",
              "</table>\n",
              "</div>"
            ],
            "text/plain": [
              "          duration         views     comments    languages  num_speaker\n",
              "count  2550.000000  2.550000e+03  2550.000000  2550.000000  2550.000000\n",
              "mean    826.510196  1.698297e+06   191.562353    27.326275     1.028235\n",
              "std     374.009138  2.498479e+06   282.315223     9.563452     0.207705\n",
              "min     135.000000  5.044300e+04     2.000000     0.000000     1.000000\n",
              "25%     577.000000  7.557928e+05    63.000000    23.000000     1.000000\n",
              "50%     848.000000  1.124524e+06   118.000000    28.000000     1.000000\n",
              "75%    1046.750000  1.700760e+06   221.750000    33.000000     1.000000\n",
              "max    5256.000000  4.722711e+07  6404.000000    72.000000     5.000000"
            ]
          },
          "metadata": {
            "tags": []
          },
          "execution_count": 11
        }
      ]
    },
    {
      "cell_type": "markdown",
      "metadata": {
        "id": "pBdnPNIaXZnM",
        "colab_type": "text"
      },
      "source": [
        "### Data Manuplation in the Dataset"
      ]
    },
    {
      "cell_type": "markdown",
      "metadata": {
        "id": "Rf17A92UX15r",
        "colab_type": "text"
      },
      "source": [
        "In dataset, I realize that `name` is combined `title` and `main_speaker` which is not nessersary."
      ]
    },
    {
      "cell_type": "code",
      "metadata": {
        "id": "b1qDUbpSaYy3",
        "colab_type": "code",
        "outputId": "f36a8da9-71b7-4771-e611-c0c55ebce3fc",
        "colab": {
          "base_uri": "https://localhost:8080/",
          "height": 0
        }
      },
      "source": [
        "df.head(1)"
      ],
      "execution_count": 12,
      "outputs": [
        {
          "output_type": "execute_result",
          "data": {
            "text/html": [
              "<div>\n",
              "<style scoped>\n",
              "    .dataframe tbody tr th:only-of-type {\n",
              "        vertical-align: middle;\n",
              "    }\n",
              "\n",
              "    .dataframe tbody tr th {\n",
              "        vertical-align: top;\n",
              "    }\n",
              "\n",
              "    .dataframe thead th {\n",
              "        text-align: right;\n",
              "    }\n",
              "</style>\n",
              "<table border=\"1\" class=\"dataframe\">\n",
              "  <thead>\n",
              "    <tr style=\"text-align: right;\">\n",
              "      <th></th>\n",
              "      <th>name</th>\n",
              "      <th>title</th>\n",
              "      <th>main_speaker</th>\n",
              "      <th>duration</th>\n",
              "      <th>views</th>\n",
              "      <th>comments</th>\n",
              "      <th>description</th>\n",
              "      <th>event</th>\n",
              "      <th>film_date</th>\n",
              "      <th>published_date</th>\n",
              "      <th>languages</th>\n",
              "      <th>num_speaker</th>\n",
              "      <th>ratings</th>\n",
              "      <th>related_talks</th>\n",
              "      <th>speaker_occupation</th>\n",
              "      <th>tags</th>\n",
              "      <th>url</th>\n",
              "    </tr>\n",
              "  </thead>\n",
              "  <tbody>\n",
              "    <tr>\n",
              "      <th>0</th>\n",
              "      <td>Ken Robinson: Do schools kill creativity?</td>\n",
              "      <td>Do schools kill creativity?</td>\n",
              "      <td>Ken Robinson</td>\n",
              "      <td>1164</td>\n",
              "      <td>47227110</td>\n",
              "      <td>4553</td>\n",
              "      <td>Sir Ken Robinson makes an entertaining and pro...</td>\n",
              "      <td>TED2006</td>\n",
              "      <td>25-02-2006</td>\n",
              "      <td>27-06-2006</td>\n",
              "      <td>60</td>\n",
              "      <td>1</td>\n",
              "      <td>[{'id': 7, 'name': 'Funny', 'count': 19645}, {...</td>\n",
              "      <td>[{'id': 865, 'hero': 'https://pe.tedcdn.com/im...</td>\n",
              "      <td>Author/educator</td>\n",
              "      <td>['children', 'creativity', 'culture', 'dance',...</td>\n",
              "      <td>https://www.ted.com/talks/ken_robinson_says_sc...</td>\n",
              "    </tr>\n",
              "  </tbody>\n",
              "</table>\n",
              "</div>"
            ],
            "text/plain": [
              "                                        name  ...                                                url\n",
              "0  Ken Robinson: Do schools kill creativity?  ...  https://www.ted.com/talks/ken_robinson_says_sc...\n",
              "\n",
              "[1 rows x 17 columns]"
            ]
          },
          "metadata": {
            "tags": []
          },
          "execution_count": 12
        }
      ]
    },
    {
      "cell_type": "code",
      "metadata": {
        "id": "xjPWJDuXXccx",
        "colab_type": "code",
        "outputId": "cd4aba27-17b5-45ec-f9b5-0e26e0704b09",
        "colab": {
          "base_uri": "https://localhost:8080/",
          "height": 0
        }
      },
      "source": [
        "(df['name'] == df['main_speaker']+ \": \" + df['title']).value_counts()"
      ],
      "execution_count": 13,
      "outputs": [
        {
          "output_type": "execute_result",
          "data": {
            "text/plain": [
              "True     2541\n",
              "False       9\n",
              "dtype: int64"
            ]
          },
          "metadata": {
            "tags": []
          },
          "execution_count": 13
        }
      ]
    },
    {
      "cell_type": "markdown",
      "metadata": {
        "id": "8HS88QgWYkDE",
        "colab_type": "text"
      },
      "source": [
        "There are 9 `name` is not combined by `speaker` and `title`"
      ]
    },
    {
      "cell_type": "code",
      "metadata": {
        "id": "8udw9egSYvM2",
        "colab_type": "code",
        "outputId": "70f5cf8e-bc09-41cc-8c1d-789c01b11c17",
        "colab": {
          "base_uri": "https://localhost:8080/",
          "height": 0
        }
      },
      "source": [
        "df[df['name'] != df['main_speaker']+ \": \" + df['title']][['name', 'title', 'main_speaker']]"
      ],
      "execution_count": 14,
      "outputs": [
        {
          "output_type": "execute_result",
          "data": {
            "text/html": [
              "<div>\n",
              "<style scoped>\n",
              "    .dataframe tbody tr th:only-of-type {\n",
              "        vertical-align: middle;\n",
              "    }\n",
              "\n",
              "    .dataframe tbody tr th {\n",
              "        vertical-align: top;\n",
              "    }\n",
              "\n",
              "    .dataframe thead th {\n",
              "        text-align: right;\n",
              "    }\n",
              "</style>\n",
              "<table border=\"1\" class=\"dataframe\">\n",
              "  <thead>\n",
              "    <tr style=\"text-align: right;\">\n",
              "      <th></th>\n",
              "      <th>name</th>\n",
              "      <th>title</th>\n",
              "      <th>main_speaker</th>\n",
              "    </tr>\n",
              "  </thead>\n",
              "  <tbody>\n",
              "    <tr>\n",
              "      <th>898</th>\n",
              "      <td>Patricia Ryan: Don't insist on English!</td>\n",
              "      <td>Don't insist on English!</td>\n",
              "      <td>Patricia Ryan</td>\n",
              "    </tr>\n",
              "    <tr>\n",
              "      <th>1543</th>\n",
              "      <td>The interspecies internet? An idea in progress</td>\n",
              "      <td>The interspecies internet? An idea in progress</td>\n",
              "      <td>Diana Reiss, Peter Gabriel, Neil Gershenfeld a...</td>\n",
              "    </tr>\n",
              "    <tr>\n",
              "      <th>1549</th>\n",
              "      <td>Two young scientists break down plastics with ...</td>\n",
              "      <td>Two young scientists break down plastics with ...</td>\n",
              "      <td>Miranda Wang and Jeanny Yao</td>\n",
              "    </tr>\n",
              "    <tr>\n",
              "      <th>1745</th>\n",
              "      <td>Tristram Wyatt: The smelly mystery of the huma...</td>\n",
              "      <td>The smelly mystery of the human pheromone</td>\n",
              "      <td>Tristram Wyatt</td>\n",
              "    </tr>\n",
              "    <tr>\n",
              "      <th>1768</th>\n",
              "      <td>Anne Curzan: What makes a word \"real\"?</td>\n",
              "      <td>What makes a word \"real\"?</td>\n",
              "      <td>Anne Curzan</td>\n",
              "    </tr>\n",
              "    <tr>\n",
              "      <th>1769</th>\n",
              "      <td>Ruth Chang: How to make hard choices</td>\n",
              "      <td>How to make hard choices</td>\n",
              "      <td>Ruth Chang</td>\n",
              "    </tr>\n",
              "    <tr>\n",
              "      <th>1845</th>\n",
              "      <td>Susan Etlinger: What do we do with all this bi...</td>\n",
              "      <td>What do we do with all this big data?</td>\n",
              "      <td>Susan Etlinger</td>\n",
              "    </tr>\n",
              "    <tr>\n",
              "      <th>2466</th>\n",
              "      <td>Michael Bierut: How to design a library that m...</td>\n",
              "      <td>How to design a library that makes kids want t...</td>\n",
              "      <td>Michael Bierut</td>\n",
              "    </tr>\n",
              "    <tr>\n",
              "      <th>2512</th>\n",
              "      <td>Jack Conte: How artists can (finally) get paid...</td>\n",
              "      <td>How artists can (finally) get paid in the digi...</td>\n",
              "      <td>Jack Conte</td>\n",
              "    </tr>\n",
              "  </tbody>\n",
              "</table>\n",
              "</div>"
            ],
            "text/plain": [
              "                                                   name  ...                                       main_speaker\n",
              "898             Patricia Ryan: Don't insist on English!  ...                                     Patricia Ryan \n",
              "1543     The interspecies internet? An idea in progress  ...  Diana Reiss, Peter Gabriel, Neil Gershenfeld a...\n",
              "1549  Two young scientists break down plastics with ...  ...                        Miranda Wang and Jeanny Yao\n",
              "1745  Tristram Wyatt: The smelly mystery of the huma...  ...                                     Tristram Wyatt\n",
              "1768             Anne Curzan: What makes a word \"real\"?  ...                                       Anne Curzan \n",
              "1769               Ruth Chang: How to make hard choices  ...                                         Ruth Chang\n",
              "1845  Susan Etlinger: What do we do with all this bi...  ...                                     Susan Etlinger\n",
              "2466  Michael Bierut: How to design a library that m...  ...                                     Michael Bierut\n",
              "2512  Jack Conte: How artists can (finally) get paid...  ...                                         Jack Conte\n",
              "\n",
              "[9 rows x 3 columns]"
            ]
          },
          "metadata": {
            "tags": []
          },
          "execution_count": 14
        }
      ]
    },
    {
      "cell_type": "markdown",
      "metadata": {
        "id": "Qo1zouvfZ9fn",
        "colab_type": "text"
      },
      "source": [
        "After see the difference, that is not special. So it should drop `name` columns."
      ]
    },
    {
      "cell_type": "code",
      "metadata": {
        "id": "IpUjjIpiZZ8C",
        "colab_type": "code",
        "colab": {}
      },
      "source": [
        "df.drop(columns=['name'], inplace=True)"
      ],
      "execution_count": 0,
      "outputs": []
    },
    {
      "cell_type": "code",
      "metadata": {
        "id": "hG9h7hTLbzev",
        "colab_type": "code",
        "outputId": "2e709be0-b2dc-48e4-b3cf-9a42d077357c",
        "colab": {
          "base_uri": "https://localhost:8080/",
          "height": 0
        }
      },
      "source": [
        "df.info()"
      ],
      "execution_count": 16,
      "outputs": [
        {
          "output_type": "stream",
          "text": [
            "<class 'pandas.core.frame.DataFrame'>\n",
            "RangeIndex: 2550 entries, 0 to 2549\n",
            "Data columns (total 16 columns):\n",
            "title                 2550 non-null object\n",
            "main_speaker          2550 non-null object\n",
            "duration              2550 non-null int64\n",
            "views                 2550 non-null int64\n",
            "comments              2550 non-null int64\n",
            "description           2550 non-null object\n",
            "event                 2550 non-null object\n",
            "film_date             2550 non-null object\n",
            "published_date        2550 non-null object\n",
            "languages             2550 non-null int64\n",
            "num_speaker           2550 non-null int64\n",
            "ratings               2550 non-null object\n",
            "related_talks         2550 non-null object\n",
            "speaker_occupation    2544 non-null object\n",
            "tags                  2550 non-null object\n",
            "url                   2550 non-null object\n",
            "dtypes: int64(5), object(11)\n",
            "memory usage: 318.8+ KB\n"
          ],
          "name": "stdout"
        }
      ]
    },
    {
      "cell_type": "markdown",
      "metadata": {
        "id": "4sw9xoHtbYQq",
        "colab_type": "text"
      },
      "source": [
        "## 1. Finding the most popular TED Talks videos"
      ]
    },
    {
      "cell_type": "markdown",
      "metadata": {
        "id": "RVNuDCSbbpDf",
        "colab_type": "text"
      },
      "source": [
        "#### **> Comment**\n",
        "\n",
        "- The *popular* video should be had **high views**. The number of views indicate the popular of that video which tell other that this video has quality content, so it will attractive many people."
      ]
    },
    {
      "cell_type": "markdown",
      "metadata": {
        "id": "nD_lxDw_5IZd",
        "colab_type": "text"
      },
      "source": [
        "> Top **10 videos** has the highest views"
      ]
    },
    {
      "cell_type": "code",
      "metadata": {
        "id": "ha-GWAXrevIM",
        "colab_type": "code",
        "outputId": "739bc83b-3e1d-4e9b-fab6-fff2c20e36da",
        "colab": {
          "base_uri": "https://localhost:8080/",
          "height": 514
        }
      },
      "source": [
        "view_sorted_talks = df[['title', 'main_speaker', 'film_date', 'comments', 'views']].sort_values(by=['views'], ascending=False)\n",
        "view_sorted_talks[:10]"
      ],
      "execution_count": 17,
      "outputs": [
        {
          "output_type": "execute_result",
          "data": {
            "text/html": [
              "<div>\n",
              "<style scoped>\n",
              "    .dataframe tbody tr th:only-of-type {\n",
              "        vertical-align: middle;\n",
              "    }\n",
              "\n",
              "    .dataframe tbody tr th {\n",
              "        vertical-align: top;\n",
              "    }\n",
              "\n",
              "    .dataframe thead th {\n",
              "        text-align: right;\n",
              "    }\n",
              "</style>\n",
              "<table border=\"1\" class=\"dataframe\">\n",
              "  <thead>\n",
              "    <tr style=\"text-align: right;\">\n",
              "      <th></th>\n",
              "      <th>title</th>\n",
              "      <th>main_speaker</th>\n",
              "      <th>film_date</th>\n",
              "      <th>comments</th>\n",
              "      <th>views</th>\n",
              "    </tr>\n",
              "  </thead>\n",
              "  <tbody>\n",
              "    <tr>\n",
              "      <th>0</th>\n",
              "      <td>Do schools kill creativity?</td>\n",
              "      <td>Ken Robinson</td>\n",
              "      <td>25-02-2006</td>\n",
              "      <td>4553</td>\n",
              "      <td>47227110</td>\n",
              "    </tr>\n",
              "    <tr>\n",
              "      <th>1346</th>\n",
              "      <td>Your body language may shape who you are</td>\n",
              "      <td>Amy Cuddy</td>\n",
              "      <td>26-06-2012</td>\n",
              "      <td>2290</td>\n",
              "      <td>43155405</td>\n",
              "    </tr>\n",
              "    <tr>\n",
              "      <th>677</th>\n",
              "      <td>How great leaders inspire action</td>\n",
              "      <td>Simon Sinek</td>\n",
              "      <td>17-09-2009</td>\n",
              "      <td>1930</td>\n",
              "      <td>34309432</td>\n",
              "    </tr>\n",
              "    <tr>\n",
              "      <th>837</th>\n",
              "      <td>The power of vulnerability</td>\n",
              "      <td>Brené Brown</td>\n",
              "      <td>06-06-2010</td>\n",
              "      <td>1927</td>\n",
              "      <td>31168150</td>\n",
              "    </tr>\n",
              "    <tr>\n",
              "      <th>452</th>\n",
              "      <td>10 things you didn't know about orgasm</td>\n",
              "      <td>Mary Roach</td>\n",
              "      <td>06-02-2009</td>\n",
              "      <td>354</td>\n",
              "      <td>22270883</td>\n",
              "    </tr>\n",
              "    <tr>\n",
              "      <th>1776</th>\n",
              "      <td>How to speak so that people want to listen</td>\n",
              "      <td>Julian Treasure</td>\n",
              "      <td>10-06-2013</td>\n",
              "      <td>297</td>\n",
              "      <td>21594632</td>\n",
              "    </tr>\n",
              "    <tr>\n",
              "      <th>201</th>\n",
              "      <td>My stroke of insight</td>\n",
              "      <td>Jill Bolte Taylor</td>\n",
              "      <td>27-02-2008</td>\n",
              "      <td>2877</td>\n",
              "      <td>21190883</td>\n",
              "    </tr>\n",
              "    <tr>\n",
              "      <th>5</th>\n",
              "      <td>Why we do what we do</td>\n",
              "      <td>Tony Robbins</td>\n",
              "      <td>02-02-2006</td>\n",
              "      <td>672</td>\n",
              "      <td>20685401</td>\n",
              "    </tr>\n",
              "    <tr>\n",
              "      <th>2114</th>\n",
              "      <td>This is what happens when you reply to spam email</td>\n",
              "      <td>James Veitch</td>\n",
              "      <td>08-12-2015</td>\n",
              "      <td>150</td>\n",
              "      <td>20475972</td>\n",
              "    </tr>\n",
              "    <tr>\n",
              "      <th>1416</th>\n",
              "      <td>Looks aren't everything. Believe me, I'm a model.</td>\n",
              "      <td>Cameron Russell</td>\n",
              "      <td>27-10-2012</td>\n",
              "      <td>846</td>\n",
              "      <td>19787465</td>\n",
              "    </tr>\n",
              "  </tbody>\n",
              "</table>\n",
              "</div>"
            ],
            "text/plain": [
              "                                                  title  ...     views\n",
              "0                           Do schools kill creativity?  ...  47227110\n",
              "1346           Your body language may shape who you are  ...  43155405\n",
              "677                    How great leaders inspire action  ...  34309432\n",
              "837                          The power of vulnerability  ...  31168150\n",
              "452              10 things you didn't know about orgasm  ...  22270883\n",
              "1776         How to speak so that people want to listen  ...  21594632\n",
              "201                                My stroke of insight  ...  21190883\n",
              "5                                  Why we do what we do  ...  20685401\n",
              "2114  This is what happens when you reply to spam email  ...  20475972\n",
              "1416  Looks aren't everything. Believe me, I'm a model.  ...  19787465\n",
              "\n",
              "[10 rows x 5 columns]"
            ]
          },
          "metadata": {
            "tags": []
          },
          "execution_count": 17
        }
      ]
    },
    {
      "cell_type": "markdown",
      "metadata": {
        "id": "ENWXulXb5fS_",
        "colab_type": "text"
      },
      "source": [
        "> Diplay view of video on chart"
      ]
    },
    {
      "cell_type": "code",
      "metadata": {
        "id": "dPSJ0f9r5kZE",
        "colab_type": "code",
        "outputId": "26de52b3-ab23-4a88-c222-86cef07ca32f",
        "colab": {
          "base_uri": "https://localhost:8080/",
          "height": 437
        }
      },
      "source": [
        "sns.set_style(\"whitegrid\")\n",
        "plt.figure(figsize=(10,6))\n",
        "sns.barplot(x='views', y='title', data=view_sorted_talks[:10])"
      ],
      "execution_count": 18,
      "outputs": [
        {
          "output_type": "execute_result",
          "data": {
            "text/plain": [
              "<matplotlib.axes._subplots.AxesSubplot at 0x7fefd72755c0>"
            ]
          },
          "metadata": {
            "tags": []
          },
          "execution_count": 18
        },
        {
          "output_type": "display_data",
          "data": {
            "image/png": "[encoded data removed]",
            "text/plain": [
              "<Figure size 720x432 with 1 Axes>"
            ]
          },
          "metadata": {
            "tags": []
          }
        }
      ]
    },
    {
      "cell_type": "markdown",
      "metadata": {
        "id": "W56Ux_OE-kfh",
        "colab_type": "text"
      },
      "source": [
        "> Beside, I display the distibution of the views in TED Talks"
      ]
    },
    {
      "cell_type": "code",
      "metadata": {
        "id": "Ssj7o8NS-4p_",
        "colab_type": "code",
        "outputId": "643e8b31-afbf-4021-a4a7-5a638ffd5d73",
        "colab": {
          "base_uri": "https://localhost:8080/",
          "height": 313
        }
      },
      "source": [
        "sns.distplot(df['views'])"
      ],
      "execution_count": 19,
      "outputs": [
        {
          "output_type": "execute_result",
          "data": {
            "text/plain": [
              "<matplotlib.axes._subplots.AxesSubplot at 0x7fefd5e716a0>"
            ]
          },
          "metadata": {
            "tags": []
          },
          "execution_count": 19
        },
        {
          "output_type": "display_data",
          "data": {
            "image/png": "[encoded data removed]",
            "text/plain": [
              "<Figure size 432x288 with 1 Axes>"
            ]
          },
          "metadata": {
            "tags": []
          }
        }
      ]
    },
    {
      "cell_type": "code",
      "metadata": {
        "id": "hPZ-gC7h_Kw4",
        "colab_type": "code",
        "outputId": "676a8b46-6401-4fac-ab79-97e6bce074b4",
        "colab": {
          "base_uri": "https://localhost:8080/",
          "height": 176
        }
      },
      "source": [
        "df['views'].describe()"
      ],
      "execution_count": 20,
      "outputs": [
        {
          "output_type": "execute_result",
          "data": {
            "text/plain": [
              "count    2.550000e+03\n",
              "mean     1.698297e+06\n",
              "std      2.498479e+06\n",
              "min      5.044300e+04\n",
              "25%      7.557928e+05\n",
              "50%      1.124524e+06\n",
              "75%      1.700760e+06\n",
              "max      4.722711e+07\n",
              "Name: views, dtype: float64"
            ]
          },
          "metadata": {
            "tags": []
          },
          "execution_count": 20
        }
      ]
    },
    {
      "cell_type": "markdown",
      "metadata": {
        "id": "y6ygB74_A0sC",
        "colab_type": "text"
      },
      "source": [
        "> The average number of views on videos is **1.6** million views."
      ]
    },
    {
      "cell_type": "markdown",
      "metadata": {
        "id": "toklHiDnVWvf",
        "colab_type": "text"
      },
      "source": [
        "#### > Comment\n",
        "- A popular TED Talk will take attention of viewers. So these videos should have many **comments**"
      ]
    },
    {
      "cell_type": "markdown",
      "metadata": {
        "id": "Tf0SKGlzWVb2",
        "colab_type": "text"
      },
      "source": [
        "> Top **10** videos has *high number comments*"
      ]
    },
    {
      "cell_type": "code",
      "metadata": {
        "id": "1RD3o9zIAzo4",
        "colab_type": "code",
        "outputId": "91f3529f-0594-46c3-aff8-225e9fc4c6b6",
        "colab": {
          "base_uri": "https://localhost:8080/",
          "height": 514
        }
      },
      "source": [
        "cmt_sorted_talks = df[['title', 'main_speaker', 'film_date', 'comments', 'views']].sort_values(by=['comments'], ascending=False)\n",
        "cmt_sorted_talks[:10]"
      ],
      "execution_count": 21,
      "outputs": [
        {
          "output_type": "execute_result",
          "data": {
            "text/html": [
              "<div>\n",
              "<style scoped>\n",
              "    .dataframe tbody tr th:only-of-type {\n",
              "        vertical-align: middle;\n",
              "    }\n",
              "\n",
              "    .dataframe tbody tr th {\n",
              "        vertical-align: top;\n",
              "    }\n",
              "\n",
              "    .dataframe thead th {\n",
              "        text-align: right;\n",
              "    }\n",
              "</style>\n",
              "<table border=\"1\" class=\"dataframe\">\n",
              "  <thead>\n",
              "    <tr style=\"text-align: right;\">\n",
              "      <th></th>\n",
              "      <th>title</th>\n",
              "      <th>main_speaker</th>\n",
              "      <th>film_date</th>\n",
              "      <th>comments</th>\n",
              "      <th>views</th>\n",
              "    </tr>\n",
              "  </thead>\n",
              "  <tbody>\n",
              "    <tr>\n",
              "      <th>96</th>\n",
              "      <td>Militant atheism</td>\n",
              "      <td>Richard Dawkins</td>\n",
              "      <td>02-02-2002</td>\n",
              "      <td>6404</td>\n",
              "      <td>4374792</td>\n",
              "    </tr>\n",
              "    <tr>\n",
              "      <th>0</th>\n",
              "      <td>Do schools kill creativity?</td>\n",
              "      <td>Ken Robinson</td>\n",
              "      <td>25-02-2006</td>\n",
              "      <td>4553</td>\n",
              "      <td>47227110</td>\n",
              "    </tr>\n",
              "    <tr>\n",
              "      <th>644</th>\n",
              "      <td>Science can answer moral questions</td>\n",
              "      <td>Sam Harris</td>\n",
              "      <td>11-02-2010</td>\n",
              "      <td>3356</td>\n",
              "      <td>3433437</td>\n",
              "    </tr>\n",
              "    <tr>\n",
              "      <th>201</th>\n",
              "      <td>My stroke of insight</td>\n",
              "      <td>Jill Bolte Taylor</td>\n",
              "      <td>27-02-2008</td>\n",
              "      <td>2877</td>\n",
              "      <td>21190883</td>\n",
              "    </tr>\n",
              "    <tr>\n",
              "      <th>1787</th>\n",
              "      <td>How do you explain consciousness?</td>\n",
              "      <td>David Chalmers</td>\n",
              "      <td>18-03-2014</td>\n",
              "      <td>2673</td>\n",
              "      <td>2162764</td>\n",
              "    </tr>\n",
              "    <tr>\n",
              "      <th>954</th>\n",
              "      <td>Taking imagination seriously</td>\n",
              "      <td>Janet Echelman</td>\n",
              "      <td>03-03-2011</td>\n",
              "      <td>2492</td>\n",
              "      <td>1832930</td>\n",
              "    </tr>\n",
              "    <tr>\n",
              "      <th>840</th>\n",
              "      <td>On reading the Koran</td>\n",
              "      <td>Lesley Hazleton</td>\n",
              "      <td>10-10-2010</td>\n",
              "      <td>2374</td>\n",
              "      <td>1847256</td>\n",
              "    </tr>\n",
              "    <tr>\n",
              "      <th>1346</th>\n",
              "      <td>Your body language may shape who you are</td>\n",
              "      <td>Amy Cuddy</td>\n",
              "      <td>26-06-2012</td>\n",
              "      <td>2290</td>\n",
              "      <td>43155405</td>\n",
              "    </tr>\n",
              "    <tr>\n",
              "      <th>661</th>\n",
              "      <td>The danger of science denial</td>\n",
              "      <td>Michael Specter</td>\n",
              "      <td>11-02-2010</td>\n",
              "      <td>2272</td>\n",
              "      <td>1838628</td>\n",
              "    </tr>\n",
              "    <tr>\n",
              "      <th>677</th>\n",
              "      <td>How great leaders inspire action</td>\n",
              "      <td>Simon Sinek</td>\n",
              "      <td>17-09-2009</td>\n",
              "      <td>1930</td>\n",
              "      <td>34309432</td>\n",
              "    </tr>\n",
              "  </tbody>\n",
              "</table>\n",
              "</div>"
            ],
            "text/plain": [
              "                                         title  ...     views\n",
              "96                            Militant atheism  ...   4374792\n",
              "0                  Do schools kill creativity?  ...  47227110\n",
              "644         Science can answer moral questions  ...   3433437\n",
              "201                       My stroke of insight  ...  21190883\n",
              "1787         How do you explain consciousness?  ...   2162764\n",
              "954               Taking imagination seriously  ...   1832930\n",
              "840                       On reading the Koran  ...   1847256\n",
              "1346  Your body language may shape who you are  ...  43155405\n",
              "661               The danger of science denial  ...   1838628\n",
              "677           How great leaders inspire action  ...  34309432\n",
              "\n",
              "[10 rows x 5 columns]"
            ]
          },
          "metadata": {
            "tags": []
          },
          "execution_count": 21
        }
      ]
    },
    {
      "cell_type": "markdown",
      "metadata": {
        "id": "ZQbCrarpWic5",
        "colab_type": "text"
      },
      "source": [
        "> The chart show comments count"
      ]
    },
    {
      "cell_type": "code",
      "metadata": {
        "id": "mq0E0pVx_9HT",
        "colab_type": "code",
        "outputId": "1b60c1f6-7735-4a82-9d93-a0908573987e",
        "colab": {
          "base_uri": "https://localhost:8080/",
          "height": 437
        }
      },
      "source": [
        "plt.figure(figsize=(10,6))\n",
        "sns.barplot(x='comments', y='title', data=cmt_sorted_talks[:10])"
      ],
      "execution_count": 22,
      "outputs": [
        {
          "output_type": "execute_result",
          "data": {
            "text/plain": [
              "<matplotlib.axes._subplots.AxesSubplot at 0x7fefd357e128>"
            ]
          },
          "metadata": {
            "tags": []
          },
          "execution_count": 22
        },
        {
          "output_type": "display_data",
          "data": {
            "image/png": "[encoded data removed]",
            "text/plain": [
              "<Figure size 720x432 with 1 Axes>"
            ]
          },
          "metadata": {
            "tags": []
          }
        }
      ]
    },
    {
      "cell_type": "markdown",
      "metadata": {
        "id": "mp-sPycbnhPb",
        "colab_type": "text"
      },
      "source": [
        "> Merge data: video has high views and high comments\n",
        "\n",
        "Will these high quality videos same high number of views and comments?"
      ]
    },
    {
      "cell_type": "code",
      "metadata": {
        "id": "XuL2Y8EGnlVO",
        "colab_type": "code",
        "outputId": "2469243f-ce15-444a-ed97-02e4cf4181cc",
        "colab": {
          "base_uri": "https://localhost:8080/",
          "height": 794
        }
      },
      "source": [
        "merge_df = pd.merge(view_sorted_talks[:10], cmt_sorted_talks[:10], how='outer')\n",
        "merge_df"
      ],
      "execution_count": 23,
      "outputs": [
        {
          "output_type": "execute_result",
          "data": {
            "text/html": [
              "<div>\n",
              "<style scoped>\n",
              "    .dataframe tbody tr th:only-of-type {\n",
              "        vertical-align: middle;\n",
              "    }\n",
              "\n",
              "    .dataframe tbody tr th {\n",
              "        vertical-align: top;\n",
              "    }\n",
              "\n",
              "    .dataframe thead th {\n",
              "        text-align: right;\n",
              "    }\n",
              "</style>\n",
              "<table border=\"1\" class=\"dataframe\">\n",
              "  <thead>\n",
              "    <tr style=\"text-align: right;\">\n",
              "      <th></th>\n",
              "      <th>title</th>\n",
              "      <th>main_speaker</th>\n",
              "      <th>film_date</th>\n",
              "      <th>comments</th>\n",
              "      <th>views</th>\n",
              "    </tr>\n",
              "  </thead>\n",
              "  <tbody>\n",
              "    <tr>\n",
              "      <th>0</th>\n",
              "      <td>Do schools kill creativity?</td>\n",
              "      <td>Ken Robinson</td>\n",
              "      <td>25-02-2006</td>\n",
              "      <td>4553</td>\n",
              "      <td>47227110</td>\n",
              "    </tr>\n",
              "    <tr>\n",
              "      <th>1</th>\n",
              "      <td>Your body language may shape who you are</td>\n",
              "      <td>Amy Cuddy</td>\n",
              "      <td>26-06-2012</td>\n",
              "      <td>2290</td>\n",
              "      <td>43155405</td>\n",
              "    </tr>\n",
              "    <tr>\n",
              "      <th>2</th>\n",
              "      <td>How great leaders inspire action</td>\n",
              "      <td>Simon Sinek</td>\n",
              "      <td>17-09-2009</td>\n",
              "      <td>1930</td>\n",
              "      <td>34309432</td>\n",
              "    </tr>\n",
              "    <tr>\n",
              "      <th>3</th>\n",
              "      <td>The power of vulnerability</td>\n",
              "      <td>Brené Brown</td>\n",
              "      <td>06-06-2010</td>\n",
              "      <td>1927</td>\n",
              "      <td>31168150</td>\n",
              "    </tr>\n",
              "    <tr>\n",
              "      <th>4</th>\n",
              "      <td>10 things you didn't know about orgasm</td>\n",
              "      <td>Mary Roach</td>\n",
              "      <td>06-02-2009</td>\n",
              "      <td>354</td>\n",
              "      <td>22270883</td>\n",
              "    </tr>\n",
              "    <tr>\n",
              "      <th>5</th>\n",
              "      <td>How to speak so that people want to listen</td>\n",
              "      <td>Julian Treasure</td>\n",
              "      <td>10-06-2013</td>\n",
              "      <td>297</td>\n",
              "      <td>21594632</td>\n",
              "    </tr>\n",
              "    <tr>\n",
              "      <th>6</th>\n",
              "      <td>My stroke of insight</td>\n",
              "      <td>Jill Bolte Taylor</td>\n",
              "      <td>27-02-2008</td>\n",
              "      <td>2877</td>\n",
              "      <td>21190883</td>\n",
              "    </tr>\n",
              "    <tr>\n",
              "      <th>7</th>\n",
              "      <td>Why we do what we do</td>\n",
              "      <td>Tony Robbins</td>\n",
              "      <td>02-02-2006</td>\n",
              "      <td>672</td>\n",
              "      <td>20685401</td>\n",
              "    </tr>\n",
              "    <tr>\n",
              "      <th>8</th>\n",
              "      <td>This is what happens when you reply to spam email</td>\n",
              "      <td>James Veitch</td>\n",
              "      <td>08-12-2015</td>\n",
              "      <td>150</td>\n",
              "      <td>20475972</td>\n",
              "    </tr>\n",
              "    <tr>\n",
              "      <th>9</th>\n",
              "      <td>Looks aren't everything. Believe me, I'm a model.</td>\n",
              "      <td>Cameron Russell</td>\n",
              "      <td>27-10-2012</td>\n",
              "      <td>846</td>\n",
              "      <td>19787465</td>\n",
              "    </tr>\n",
              "    <tr>\n",
              "      <th>10</th>\n",
              "      <td>Militant atheism</td>\n",
              "      <td>Richard Dawkins</td>\n",
              "      <td>02-02-2002</td>\n",
              "      <td>6404</td>\n",
              "      <td>4374792</td>\n",
              "    </tr>\n",
              "    <tr>\n",
              "      <th>11</th>\n",
              "      <td>Science can answer moral questions</td>\n",
              "      <td>Sam Harris</td>\n",
              "      <td>11-02-2010</td>\n",
              "      <td>3356</td>\n",
              "      <td>3433437</td>\n",
              "    </tr>\n",
              "    <tr>\n",
              "      <th>12</th>\n",
              "      <td>How do you explain consciousness?</td>\n",
              "      <td>David Chalmers</td>\n",
              "      <td>18-03-2014</td>\n",
              "      <td>2673</td>\n",
              "      <td>2162764</td>\n",
              "    </tr>\n",
              "    <tr>\n",
              "      <th>13</th>\n",
              "      <td>Taking imagination seriously</td>\n",
              "      <td>Janet Echelman</td>\n",
              "      <td>03-03-2011</td>\n",
              "      <td>2492</td>\n",
              "      <td>1832930</td>\n",
              "    </tr>\n",
              "    <tr>\n",
              "      <th>14</th>\n",
              "      <td>On reading the Koran</td>\n",
              "      <td>Lesley Hazleton</td>\n",
              "      <td>10-10-2010</td>\n",
              "      <td>2374</td>\n",
              "      <td>1847256</td>\n",
              "    </tr>\n",
              "    <tr>\n",
              "      <th>15</th>\n",
              "      <td>The danger of science denial</td>\n",
              "      <td>Michael Specter</td>\n",
              "      <td>11-02-2010</td>\n",
              "      <td>2272</td>\n",
              "      <td>1838628</td>\n",
              "    </tr>\n",
              "  </tbody>\n",
              "</table>\n",
              "</div>"
            ],
            "text/plain": [
              "                                                title  ...     views\n",
              "0                         Do schools kill creativity?  ...  47227110\n",
              "1            Your body language may shape who you are  ...  43155405\n",
              "2                    How great leaders inspire action  ...  34309432\n",
              "3                          The power of vulnerability  ...  31168150\n",
              "4              10 things you didn't know about orgasm  ...  22270883\n",
              "5          How to speak so that people want to listen  ...  21594632\n",
              "6                                My stroke of insight  ...  21190883\n",
              "7                                Why we do what we do  ...  20685401\n",
              "8   This is what happens when you reply to spam email  ...  20475972\n",
              "9   Looks aren't everything. Believe me, I'm a model.  ...  19787465\n",
              "10                                   Militant atheism  ...   4374792\n",
              "11                 Science can answer moral questions  ...   3433437\n",
              "12                  How do you explain consciousness?  ...   2162764\n",
              "13                       Taking imagination seriously  ...   1832930\n",
              "14                               On reading the Koran  ...   1847256\n",
              "15                       The danger of science denial  ...   1838628\n",
              "\n",
              "[16 rows x 5 columns]"
            ]
          },
          "metadata": {
            "tags": []
          },
          "execution_count": 23
        }
      ]
    },
    {
      "cell_type": "markdown",
      "metadata": {
        "id": "X4t7dKPznlx7",
        "colab_type": "text"
      },
      "source": [
        "> **> Comment**\n",
        "\n",
        "  - When merge two table has top 10 highest views and highest comments, there are 14 video which might consider the most popular videos on TED Talks.\n",
        "  - From the 10th video on the rank, these videos have many comments although they has significantly view than others. It can be explained by the complex and arguable of problem in video. Ex: **Militant atheism**, **Science can answer moral questions**,... is always the most debate topic in all of time\n",
        "   > But these video can be considered as the quality TED Talks to watch."
      ]
    },
    {
      "cell_type": "markdown",
      "metadata": {
        "id": "iCw7XANbpFfc",
        "colab_type": "text"
      },
      "source": [
        "We can see the correlation between **views** and **comments** in *total data* below:"
      ]
    },
    {
      "cell_type": "code",
      "metadata": {
        "id": "TIzpb3Wbp1rs",
        "colab_type": "code",
        "outputId": "d1dad5b9-6834-4945-9b03-7f14b2ace144",
        "colab": {
          "base_uri": "https://localhost:8080/",
          "height": 454
        }
      },
      "source": [
        "sns.jointplot(x='views', y='comments', data=df)"
      ],
      "execution_count": 24,
      "outputs": [
        {
          "output_type": "execute_result",
          "data": {
            "text/plain": [
              "<seaborn.axisgrid.JointGrid at 0x7fefd3514438>"
            ]
          },
          "metadata": {
            "tags": []
          },
          "execution_count": 24
        },
        {
          "output_type": "display_data",
          "data": {
            "image/png": "[encoded data removed]",
            "text/plain": [
              "<Figure size 432x432 with 3 Axes>"
            ]
          },
          "metadata": {
            "tags": []
          }
        }
      ]
    },
    {
      "cell_type": "code",
      "metadata": {
        "id": "9kNqgDwCp-4Q",
        "colab_type": "code",
        "outputId": "e2b0fbe9-30fd-4a8c-b38a-de07ddf0dc31",
        "colab": {
          "base_uri": "https://localhost:8080/",
          "height": 107
        }
      },
      "source": [
        "df[['views', 'comments']].corr()"
      ],
      "execution_count": 25,
      "outputs": [
        {
          "output_type": "execute_result",
          "data": {
            "text/html": [
              "<div>\n",
              "<style scoped>\n",
              "    .dataframe tbody tr th:only-of-type {\n",
              "        vertical-align: middle;\n",
              "    }\n",
              "\n",
              "    .dataframe tbody tr th {\n",
              "        vertical-align: top;\n",
              "    }\n",
              "\n",
              "    .dataframe thead th {\n",
              "        text-align: right;\n",
              "    }\n",
              "</style>\n",
              "<table border=\"1\" class=\"dataframe\">\n",
              "  <thead>\n",
              "    <tr style=\"text-align: right;\">\n",
              "      <th></th>\n",
              "      <th>views</th>\n",
              "      <th>comments</th>\n",
              "    </tr>\n",
              "  </thead>\n",
              "  <tbody>\n",
              "    <tr>\n",
              "      <th>views</th>\n",
              "      <td>1.000000</td>\n",
              "      <td>0.530939</td>\n",
              "    </tr>\n",
              "    <tr>\n",
              "      <th>comments</th>\n",
              "      <td>0.530939</td>\n",
              "      <td>1.000000</td>\n",
              "    </tr>\n",
              "  </tbody>\n",
              "</table>\n",
              "</div>"
            ],
            "text/plain": [
              "             views  comments\n",
              "views     1.000000  0.530939\n",
              "comments  0.530939  1.000000"
            ]
          },
          "metadata": {
            "tags": []
          },
          "execution_count": 25
        }
      ]
    },
    {
      "cell_type": "markdown",
      "metadata": {
        "id": "uQkYwh_FqFFV",
        "colab_type": "text"
      },
      "source": [
        "> From above, we can say the relationship between number of **views** and **comments** is high. It mean, if a video has high number of **views**, it will tend to has high number of **comments**"
      ]
    },
    {
      "cell_type": "markdown",
      "metadata": {
        "id": "r104VB2MrcV6",
        "colab_type": "text"
      },
      "source": [
        "#### >Comment\n",
        "- Is a TED Talks well-known relate to **event** where was ogranized?"
      ]
    },
    {
      "cell_type": "markdown",
      "metadata": {
        "id": "4E0E__g24Zh4",
        "colab_type": "text"
      },
      "source": [
        "> Let's check how many event in TED Talks?"
      ]
    },
    {
      "cell_type": "code",
      "metadata": {
        "id": "pALz923B4YcE",
        "colab_type": "code",
        "outputId": "fbbf73d7-3d92-4d5d-e426-6faf4525e0db",
        "colab": {
          "base_uri": "https://localhost:8080/",
          "height": 212
        }
      },
      "source": [
        "print(\"There are have: \", df['event'].nunique(), \"events.\")\n",
        "print(\"Example (30 events first):\")\n",
        "df['event'].unique()[:30]"
      ],
      "execution_count": 26,
      "outputs": [
        {
          "output_type": "stream",
          "text": [
            "There are have:  355 events.\n",
            "Example (30 events first):\n"
          ],
          "name": "stdout"
        },
        {
          "output_type": "execute_result",
          "data": {
            "text/plain": [
              "array(['TED2006', 'TED2004', 'TED2005', 'TEDGlobal 2005', 'TEDSalon 2006',\n",
              "       'TED2003', 'TED2007', 'TED2002', 'TEDGlobal 2007',\n",
              "       'TEDSalon 2007 Hot Science', 'Skoll World Forum 2007', 'TED2008',\n",
              "       'TED1984', 'TED1990', 'DLD 2007', 'EG 2007', 'TED1998',\n",
              "       'LIFT 2007', 'TED Prize Wish', 'TEDSalon 2009 Compassion',\n",
              "       'Chautauqua Institution', 'Serious Play 2008', 'Taste3 2008',\n",
              "       'TED2001', 'TED in the Field', 'TED2009', 'EG 2008',\n",
              "       'Elizabeth G. Anderson School', 'TEDxUSC', 'TED@State'],\n",
              "      dtype=object)"
            ]
          },
          "metadata": {
            "tags": []
          },
          "execution_count": 26
        }
      ]
    },
    {
      "cell_type": "markdown",
      "metadata": {
        "id": "MvAkiV5C2pNi",
        "colab_type": "text"
      },
      "source": [
        "> Actually, TED Talks has two main type of event: **TED** and **TEDx** type.\n",
        "\n",
        "- **TED talks** cover almost all topics — from science to business to global issues — in more than 100 languages. You can read more about the history of the TED movement here.\n",
        "\n",
        "- **TEDx** was then started as a way to allow groups and individuals to host local, self-organised events around the world.\n",
        "\n",
        "Ref: https://www.quora.com/Whats-the-difference-between-TED-and-TEDx"
      ]
    },
    {
      "cell_type": "markdown",
      "metadata": {
        "id": "i6qkLjSO3hlt",
        "colab_type": "text"
      },
      "source": [
        "> Create **event_type** column. This columns tell which type of event TED Talks."
      ]
    },
    {
      "cell_type": "code",
      "metadata": {
        "id": "wGI4CAXG-FBn",
        "colab_type": "code",
        "outputId": "ff95ad3f-945a-4e75-b802-14468a76498d",
        "colab": {
          "base_uri": "https://localhost:8080/",
          "height": 34
        }
      },
      "source": [
        "df['event'].str.match('(TED)x?').sum()"
      ],
      "execution_count": 27,
      "outputs": [
        {
          "output_type": "execute_result",
          "data": {
            "text/plain": [
              "2439"
            ]
          },
          "metadata": {
            "tags": []
          },
          "execution_count": 27
        }
      ]
    },
    {
      "cell_type": "markdown",
      "metadata": {
        "id": "5yDW_sYe-SyM",
        "colab_type": "text"
      },
      "source": [
        "> There are just **2439**/**2550** videos which has exactly type of event. If not belong any type, assign it to '*none*' string."
      ]
    },
    {
      "cell_type": "code",
      "metadata": {
        "id": "R0Uo4fts36C6",
        "colab_type": "code",
        "outputId": "e0becadf-ba95-4e15-918d-3245ed514a5d",
        "colab": {
          "base_uri": "https://localhost:8080/",
          "height": 87
        }
      },
      "source": [
        "import re\n",
        "df['event_type'] = df['event'].apply(lambda x: re.search('(TED)x?', x).group(0) if re.search('(TED)x?', x) else 'none' )\n",
        "df['event_type'].value_counts()"
      ],
      "execution_count": 28,
      "outputs": [
        {
          "output_type": "execute_result",
          "data": {
            "text/plain": [
              "TED     1968\n",
              "TEDx     471\n",
              "none     111\n",
              "Name: event_type, dtype: int64"
            ]
          },
          "metadata": {
            "tags": []
          },
          "execution_count": 28
        }
      ]
    },
    {
      "cell_type": "markdown",
      "metadata": {
        "id": "_enSakfcAoyQ",
        "colab_type": "text"
      },
      "source": [
        "> Caculating the ratio of the number views (or comments) on the number of event type video.\n",
        "\n",
        "=> Which ratio **higher** mean has **more atractive** view/comment on type of event.\n",
        "\n",
        "`radius = sum(views of event_type)/sum(number of video in event_type)`"
      ]
    },
    {
      "cell_type": "code",
      "metadata": {
        "id": "KTUesPD5EV_5",
        "colab_type": "code",
        "outputId": "82b28e86-a29e-4f21-f9f2-8a5b5bbb8212",
        "colab": {
          "base_uri": "https://localhost:8080/",
          "height": 137
        }
      },
      "source": [
        "view_on_event_type = df.groupby(by='event_type')['views'].sum()/df['event'].value_counts()[0]\n",
        "view_on_event_type = view_on_event_type.reset_index()\n",
        "view_on_event_type"
      ],
      "execution_count": 29,
      "outputs": [
        {
          "output_type": "execute_result",
          "data": {
            "text/html": [
              "<div>\n",
              "<style scoped>\n",
              "    .dataframe tbody tr th:only-of-type {\n",
              "        vertical-align: middle;\n",
              "    }\n",
              "\n",
              "    .dataframe tbody tr th {\n",
              "        vertical-align: top;\n",
              "    }\n",
              "\n",
              "    .dataframe thead th {\n",
              "        text-align: right;\n",
              "    }\n",
              "</style>\n",
              "<table border=\"1\" class=\"dataframe\">\n",
              "  <thead>\n",
              "    <tr style=\"text-align: right;\">\n",
              "      <th></th>\n",
              "      <th>event_type</th>\n",
              "      <th>views</th>\n",
              "    </tr>\n",
              "  </thead>\n",
              "  <tbody>\n",
              "    <tr>\n",
              "      <th>0</th>\n",
              "      <td>TED</td>\n",
              "      <td>4.144399e+07</td>\n",
              "    </tr>\n",
              "    <tr>\n",
              "      <th>1</th>\n",
              "      <td>TEDx</td>\n",
              "      <td>8.783009e+06</td>\n",
              "    </tr>\n",
              "    <tr>\n",
              "      <th>2</th>\n",
              "      <td>none</td>\n",
              "      <td>1.328462e+06</td>\n",
              "    </tr>\n",
              "  </tbody>\n",
              "</table>\n",
              "</div>"
            ],
            "text/plain": [
              "  event_type         views\n",
              "0        TED  4.144399e+07\n",
              "1       TEDx  8.783009e+06\n",
              "2       none  1.328462e+06"
            ]
          },
          "metadata": {
            "tags": []
          },
          "execution_count": 29
        }
      ]
    },
    {
      "cell_type": "code",
      "metadata": {
        "id": "OuD02TGeFN8a",
        "colab_type": "code",
        "outputId": "e46c8f6b-67c8-43b1-ed1f-bb73cbc0eaf0",
        "colab": {
          "base_uri": "https://localhost:8080/",
          "height": 313
        }
      },
      "source": [
        "sns.barplot(x='event_type', y='views', data=view_on_event_type)"
      ],
      "execution_count": 30,
      "outputs": [
        {
          "output_type": "execute_result",
          "data": {
            "text/plain": [
              "<matplotlib.axes._subplots.AxesSubplot at 0x7fefd32f80f0>"
            ]
          },
          "metadata": {
            "tags": []
          },
          "execution_count": 30
        },
        {
          "output_type": "display_data",
          "data": {
            "image/png": "[encoded data removed]",
            "text/plain": [
              "<Figure size 432x288 with 1 Axes>"
            ]
          },
          "metadata": {
            "tags": []
          }
        }
      ]
    },
    {
      "cell_type": "markdown",
      "metadata": {
        "id": "ZidPvatsAiaR",
        "colab_type": "text"
      },
      "source": [
        "> From the above chart, *the more popular TED Talks* will be ogranized in **TED event**. \n",
        "\n",
        "This is easy to observe because TED event are presentations in world scope. Meanwhile, TEDx is showed in local scope or just a group. "
      ]
    },
    {
      "cell_type": "markdown",
      "metadata": {
        "id": "ELLb3PKGkWyr",
        "colab_type": "text"
      },
      "source": [
        "#### >Comment\n",
        "- To know which TED Talks are popular, content of video is *important factor* to decide.\n",
        "- Content in dataset is divided into some type that is stored in **ratings** attribute"
      ]
    },
    {
      "cell_type": "markdown",
      "metadata": {
        "id": "NlNtVJhSlXY3",
        "colab_type": "text"
      },
      "source": [
        "> Let show some ratings TED Talks"
      ]
    },
    {
      "cell_type": "code",
      "metadata": {
        "id": "621p40jTlB_b",
        "colab_type": "code",
        "colab": {
          "base_uri": "https://localhost:8080/",
          "height": 123
        },
        "outputId": "2eb63df9-44ad-410c-a432-c9f248ac152e"
      },
      "source": [
        "print(df['ratings'].sample(4))\n",
        "print(type(df['ratings'][0]))"
      ],
      "execution_count": 47,
      "outputs": [
        {
          "output_type": "stream",
          "text": [
            "599     [{'id': 11, 'name': 'Longwinded', 'count': 46}...\n",
            "532     [{'id': 25, 'name': 'OK', 'count': 144}, {'id'...\n",
            "2321    [{'id': 1, 'name': 'Beautiful', 'count': 612},...\n",
            "583     [{'id': 10, 'name': 'Inspiring', 'count': 436}...\n",
            "Name: ratings, dtype: object\n",
            "<class 'str'>\n"
          ],
          "name": "stdout"
        }
      ]
    },
    {
      "cell_type": "markdown",
      "metadata": {
        "id": "L3TQ_V0mmtcu",
        "colab_type": "text"
      },
      "source": [
        "> **ratings** in dataset is `string` type. We need to convert it to `object` to easy handle.\n",
        "\n",
        "- **rating** is parsed to **list**. \n",
        "- This **list** contains many **object**. \n",
        "- A **object** is include: **id**, **name**, **count**"
      ]
    },
    {
      "cell_type": "code",
      "metadata": {
        "id": "kLIInRkellO0",
        "colab_type": "code",
        "colab": {
          "base_uri": "https://localhost:8080/",
          "height": 34
        },
        "outputId": "b06c0081-bbf7-45e8-af81-768ed81fc782"
      },
      "source": [
        "df['ratings'] = df['ratings'].apply(lambda x: eval(x))\n",
        "type(df['ratings'][0])"
      ],
      "execution_count": 48,
      "outputs": [
        {
          "output_type": "execute_result",
          "data": {
            "text/plain": [
              "list"
            ]
          },
          "metadata": {
            "tags": []
          },
          "execution_count": 48
        }
      ]
    },
    {
      "cell_type": "markdown",
      "metadata": {
        "id": "1an-1S-HpT9u",
        "colab_type": "text"
      },
      "source": [
        "An example **rating** of row in dataset"
      ]
    },
    {
      "cell_type": "code",
      "metadata": {
        "id": "-OCii9-lmasa",
        "colab_type": "code",
        "colab": {
          "base_uri": "https://localhost:8080/",
          "height": 356
        },
        "outputId": "74bf6d26-6256-4cc1-ac94-c1146ccdb27a"
      },
      "source": [
        "print(\"Rating at row 0: \\n\", df['ratings'][0])\n",
        "print(\"All name of rating at row 0: \\n\")\n",
        "[x['name'] for x in df['ratings'][0]]"
      ],
      "execution_count": 55,
      "outputs": [
        {
          "output_type": "stream",
          "text": [
            "Rating at row 0: \n",
            " [{'id': 7, 'name': 'Funny', 'count': 19645}, {'id': 1, 'name': 'Beautiful', 'count': 4573}, {'id': 9, 'name': 'Ingenious', 'count': 6073}, {'id': 3, 'name': 'Courageous', 'count': 3253}, {'id': 11, 'name': 'Longwinded', 'count': 387}, {'id': 2, 'name': 'Confusing', 'count': 242}, {'id': 8, 'name': 'Informative', 'count': 7346}, {'id': 22, 'name': 'Fascinating', 'count': 10581}, {'id': 21, 'name': 'Unconvincing', 'count': 300}, {'id': 24, 'name': 'Persuasive', 'count': 10704}, {'id': 23, 'name': 'Jaw-dropping', 'count': 4439}, {'id': 25, 'name': 'OK', 'count': 1174}, {'id': 26, 'name': 'Obnoxious', 'count': 209}, {'id': 10, 'name': 'Inspiring', 'count': 24924}]\n",
            "All name of rating at row 0: \n",
            "\n"
          ],
          "name": "stdout"
        },
        {
          "output_type": "execute_result",
          "data": {
            "text/plain": [
              "['Funny',\n",
              " 'Beautiful',\n",
              " 'Ingenious',\n",
              " 'Courageous',\n",
              " 'Longwinded',\n",
              " 'Confusing',\n",
              " 'Informative',\n",
              " 'Fascinating',\n",
              " 'Unconvincing',\n",
              " 'Persuasive',\n",
              " 'Jaw-dropping',\n",
              " 'OK',\n",
              " 'Obnoxious',\n",
              " 'Inspiring']"
            ]
          },
          "metadata": {
            "tags": []
          },
          "execution_count": 55
        }
      ]
    }
  ]
}