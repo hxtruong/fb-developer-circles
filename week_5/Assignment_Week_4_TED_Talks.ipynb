{
  "nbformat": 4,
  "nbformat_minor": 0,
  "metadata": {
    "kernelspec": {
      "display_name": "Python 3",
      "language": "python",
      "name": "python3"
    },
    "language_info": {
      "codemirror_mode": {
        "name": "ipython",
        "version": 3
      },
      "file_extension": ".py",
      "mimetype": "text/x-python",
      "name": "python",
      "nbconvert_exporter": "python",
      "pygments_lexer": "ipython3",
      "version": "3.7.3"
    },
    "colab": {
      "name": "Assignment Week 4 - TED Talks.ipynb",
      "version": "0.3.2",
      "provenance": [],
      "collapsed_sections": [
        "SmBq82M4xx42",
        "z5kR7ve90Acu",
        "pk6Sw06R0NUJ",
        "b0gaboD_09qT",
        "pBdnPNIaXZnM",
        "RVNuDCSbbpDf",
        "toklHiDnVWvf",
        "r104VB2MrcV6",
        "ELLb3PKGkWyr",
        "lhdiEZsZuvy4"
      ],
      "include_colab_link": true
    }
  },
  "cells": [
    {
      "cell_type": "markdown",
      "metadata": {
        "id": "view-in-github",
        "colab_type": "text"
      },
      "source": [
        "<a href=\"https://colab.research.google.com/github/hxtruong/fb-developer-circles/blob/master/week_5/Assignment_Week_4_TED_Talks.ipynb\" target=\"_parent\"><img src=\"https://colab.research.google.com/assets/colab-badge.svg\" alt=\"Open In Colab\"/></a>"
      ]
    },
    {
      "cell_type": "markdown",
      "metadata": {
        "id": "okdOQ5m9Qgbz",
        "colab_type": "text"
      },
      "source": [
        "# TED Talks\n",
        "\n",
        "![](https://psmarketingimages.s3.amazonaws.com/blog/wp-content/uploads/2017/04/23103819/TED-Talks-for-Small-Business-and-Entrepreneurs.jpg)\n",
        "\n",
        "_For more information about the dataset, read [here](https://www.kaggle.com/rounakbanik/ted-talks)._\n",
        "\n",
        "## Information \n",
        "- Hoang Xuan Truong\n",
        "\n",
        "## Tasks\n",
        "- Read the source and do some quick research to understand more about the dataset and its topic\n",
        "- Clean the data\n",
        "- Perform Exploratory Data Analysis on the dataset\n",
        "- Analyze the data more deeply and extract insights\n",
        "- Visualize your analysis on Google Data Studio\n",
        "- Present your works in front of the class and guests next Monday\n",
        "\n",
        "## Submission Guide\n",
        "- Create a Github repository for your project\n",
        "- Upload the dataset (.csv file) and the Jupyter Notebook to your Github repository. In the Jupyter Notebook, **include the link to your Google Data Studio report**.\n",
        "- Submit your works through this [Google Form](https://forms.gle/oxtXpGfS8JapVj3V8).\n",
        "\n",
        "## Tips for Data Cleaning, Manipulation & Visualization\n",
        "- Here are some of our tips for Data Cleaning, Manipulation & Visualization. [Click here](https://hackmd.io/cBNV7E6TT2WMliQC-GTw1A)\n",
        "\n",
        "_____________________________\n",
        "\n",
        "## Some Hints for This Dataset:\n",
        "- The `ratings` column is in dictionary format. How should we handle them?\n",
        "- Same for `related_talks` and `tags` column\n",
        "- Can you find the `year` of the talks?\n",
        "- And more..."
      ]
    },
    {
      "cell_type": "markdown",
      "metadata": {
        "id": "74SyH7-kkIiM",
        "colab_type": "text"
      },
      "source": [
        "# Find something fun about TED Talks"
      ]
    },
    {
      "cell_type": "markdown",
      "metadata": {
        "id": "yNCZBGf3kgGo",
        "colab_type": "text"
      },
      "source": [
        "### Intro\n",
        "TED Talks was founded in 1984 by Richard Saulman. It is place for peole share the incredible ideas about *Technology*, *Entertainment* and *Design* to everyone.\n",
        "\n",
        "![TED Talks logo](https://raw.githubusercontent.com/hxtruong/dataset/master/ted-talks/TED.gif)\n",
        "\n",
        "In recent years, the number of video is organized by TED Talks which is \n",
        "increasing in many countries, include of Vietnam. Althought these video are shared by experts from theirs field, I just want to watch **The most popular TED Talks** videos in the valuable videos.\n",
        "\n",
        "### Purpose\n",
        "\n",
        "1. Finding **the most popular videos** to watching base on some **factors**\n",
        "2. Checking the highest views/comments videos is true in 80/20 (**Pareto Principle**) rule on total views/comments TED Talks\n",
        "3. **Predicting** the trend video in fields (*Tech, Entertainment or Design*) via number of videos"
      ]
    },
    {
      "cell_type": "markdown",
      "metadata": {
        "id": "SmBq82M4xx42",
        "colab_type": "text"
      },
      "source": [
        "## What data we have? \n",
        "*(Refer kaggle)*\n",
        "#### Dataset contains two `csv` files:\n",
        " \n",
        " - ted_main.csv : Contains data on actual TED Talk metadata and TED Talk speakers\n",
        " - transcripts.csv : Contains transcript and URL information for TED Talks\n",
        "\n",
        "### Columns in data\n",
        "#### ted_main.csv\n",
        " - name: The official name of the TED Talk. Includes the title and the speaker.\n",
        " - title: The title of the talk\n",
        " - description: A blurb of what the talk is about.\n",
        " - main_speaker: The first named speaker of the talk.\n",
        " - speaker_occupation: The occupation of the main speaker.\n",
        " - num_speaker: The number of speakers in the talk.\n",
        " - duration: The duration of the talk in seconds.\n",
        " - event: The TED/TEDx event where the talk took place.\n",
        " - film_date: The Unix timestamp of the filming.\n",
        " - published_date: The Unix timestamp for the publication of the talk on TED.com\n",
        " - comments: The number of first level comments made on the talk.\n",
        " - tags: The themes associated with the talk.\n",
        " - languages: The number of languages in which the talk is available.\n",
        " - ratings: A stringified dictionary of the various ratings given to the talk (inspiring, fascinating, jaw dropping, etc.)\n",
        " - related_talks: A list of dictionaries of recommended talks to watch next.\n",
        " - url: The URL of the talk.\n",
        " - views: The number of views on the talk.\n",
        "\n",
        "#### transcripts.csv\n",
        " - transcript: The official English transcript of the talk.\n",
        " - url: The URL of the talk"
      ]
    },
    {
      "cell_type": "markdown",
      "metadata": {
        "id": "z5kR7ve90Acu",
        "colab_type": "text"
      },
      "source": [
        "### Load Libraries"
      ]
    },
    {
      "cell_type": "code",
      "metadata": {
        "id": "FHMijZAuQgb0",
        "colab_type": "code",
        "colab": {}
      },
      "source": [
        "import pandas as pd\n",
        "import numpy as np\n",
        "import matplotlib.pyplot as plt\n",
        "import seaborn as sns\n",
        "from collections import defaultdict\n",
        "%matplotlib inline\n",
        "sns.set()\n",
        "\n",
        "# To avoid Warning message inbetween ...\n",
        "import warnings\n",
        "warnings.filterwarnings('ignore')"
      ],
      "execution_count": 0,
      "outputs": []
    },
    {
      "cell_type": "markdown",
      "metadata": {
        "id": "pk6Sw06R0NUJ",
        "colab_type": "text"
      },
      "source": [
        "### Load the Dataset\n",
        "\n",
        "I load `ted_main.csv` at first."
      ]
    },
    {
      "cell_type": "code",
      "metadata": {
        "id": "VC4PYo5m0N2R",
        "colab_type": "code",
        "colab": {}
      },
      "source": [
        "# Load the Dataset\n",
        "link = \"https://raw.githubusercontent.com/hxtruong/dataset/master/ted-talks/ted_main.csv\"\n",
        "# transcription_link = \"https://raw.githubusercontent.com/hxtruong/dataset/master/ted-talks/transcripts.csv\"\n",
        "df = pd.read_csv(link, skipinitialspace=True)"
      ],
      "execution_count": 0,
      "outputs": []
    },
    {
      "cell_type": "markdown",
      "metadata": {
        "id": "b0gaboD_09qT",
        "colab_type": "text"
      },
      "source": [
        "### Quick Analysis on Dataset"
      ]
    },
    {
      "cell_type": "code",
      "metadata": {
        "id": "Wb6Gy6bV1Db-",
        "colab_type": "code",
        "outputId": "632619f7-783d-4188-d3bf-d967ddb9ff42",
        "colab": {
          "base_uri": "https://localhost:8080/",
          "height": 1000
        }
      },
      "source": [
        "#Quick Analysis on Dataset : DataTypes, Rows and Columns ,Null values, Unique values ...\n",
        "def quick_analysis(df):\n",
        "    print(\"Data Types:\")\n",
        "    print(df.dtypes)\n",
        "    print(\"\\n-----\\nRows and Columns:\")\n",
        "    print(df.shape)\n",
        "    print(\"\\n-----\\nColumn names:\")\n",
        "    print(df.columns)\n",
        "    print(\"\\n-----\\nPercent Null Values\")\n",
        "    print(df.apply(lambda x: sum(x.isnull()) / len(df)))\n",
        "    print(\"\\n-----\\nUnique values\")\n",
        "    print(df.nunique())\n",
        "\n",
        "quick_analysis(df)"
      ],
      "execution_count": 0,
      "outputs": [
        {
          "output_type": "stream",
          "text": [
            "Data Types:\n",
            "comments               int64\n",
            "description           object\n",
            "duration               int64\n",
            "event                 object\n",
            "film_date              int64\n",
            "languages              int64\n",
            "main_speaker          object\n",
            "name                  object\n",
            "num_speaker            int64\n",
            "published_date         int64\n",
            "ratings               object\n",
            "related_talks         object\n",
            "speaker_occupation    object\n",
            "tags                  object\n",
            "title                 object\n",
            "url                   object\n",
            "views                  int64\n",
            "dtype: object\n",
            "\n",
            "-----\n",
            "Rows and Columns:\n",
            "(2550, 17)\n",
            "\n",
            "-----\n",
            "Column names:\n",
            "Index(['comments', 'description', 'duration', 'event', 'film_date',\n",
            "       'languages', 'main_speaker', 'name', 'num_speaker', 'published_date',\n",
            "       'ratings', 'related_talks', 'speaker_occupation', 'tags', 'title',\n",
            "       'url', 'views'],\n",
            "      dtype='object')\n",
            "\n",
            "-----\n",
            "Percent Null Values\n",
            "comments              0.000000\n",
            "description           0.000000\n",
            "duration              0.000000\n",
            "event                 0.000000\n",
            "film_date             0.000000\n",
            "languages             0.000000\n",
            "main_speaker          0.000000\n",
            "name                  0.000000\n",
            "num_speaker           0.000000\n",
            "published_date        0.000000\n",
            "ratings               0.000000\n",
            "related_talks         0.000000\n",
            "speaker_occupation    0.002353\n",
            "tags                  0.000000\n",
            "title                 0.000000\n",
            "url                   0.000000\n",
            "views                 0.000000\n",
            "dtype: float64\n",
            "\n",
            "-----\n",
            "Unique values\n",
            "comments               559\n",
            "description           2550\n",
            "duration              1083\n",
            "event                  355\n",
            "film_date              735\n",
            "languages               66\n",
            "main_speaker          2156\n",
            "name                  2550\n",
            "num_speaker              5\n",
            "published_date        2490\n",
            "ratings               2550\n",
            "related_talks         2550\n",
            "speaker_occupation    1458\n",
            "tags                  2530\n",
            "title                 2550\n",
            "url                   2550\n",
            "views                 2550\n",
            "dtype: int64\n"
          ],
          "name": "stdout"
        }
      ]
    },
    {
      "cell_type": "code",
      "metadata": {
        "id": "26OIu8KsHa-g",
        "colab_type": "code",
        "outputId": "6588404f-5576-4c9b-8136-3ce1aabee2f6",
        "colab": {
          "base_uri": "https://localhost:8080/",
          "height": 391
        }
      },
      "source": [
        "df.info()"
      ],
      "execution_count": 0,
      "outputs": [
        {
          "output_type": "stream",
          "text": [
            "<class 'pandas.core.frame.DataFrame'>\n",
            "RangeIndex: 2550 entries, 0 to 2549\n",
            "Data columns (total 17 columns):\n",
            "comments              2550 non-null int64\n",
            "description           2550 non-null object\n",
            "duration              2550 non-null int64\n",
            "event                 2550 non-null object\n",
            "film_date             2550 non-null int64\n",
            "languages             2550 non-null int64\n",
            "main_speaker          2550 non-null object\n",
            "name                  2550 non-null object\n",
            "num_speaker           2550 non-null int64\n",
            "published_date        2550 non-null int64\n",
            "ratings               2550 non-null object\n",
            "related_talks         2550 non-null object\n",
            "speaker_occupation    2544 non-null object\n",
            "tags                  2550 non-null object\n",
            "title                 2550 non-null object\n",
            "url                   2550 non-null object\n",
            "views                 2550 non-null int64\n",
            "dtypes: int64(7), object(10)\n",
            "memory usage: 338.8+ KB\n"
          ],
          "name": "stdout"
        }
      ]
    },
    {
      "cell_type": "markdown",
      "metadata": {
        "id": "KrJttc1VHeMf",
        "colab_type": "text"
      },
      "source": [
        "**>Comment**\n",
        "\n",
        "From information above:\n",
        "  - Dataset have 6 *`null`* `speaker_occupation` values.\n",
        "  - Data is clean enough to exploring"
      ]
    },
    {
      "cell_type": "markdown",
      "metadata": {
        "id": "s6gdyCX7I-v1",
        "colab_type": "text"
      },
      "source": [
        "##### Show 5 random videos in dataset"
      ]
    },
    {
      "cell_type": "code",
      "metadata": {
        "id": "BKJfaSDh13H7",
        "colab_type": "code",
        "outputId": "7091ced1-a0d1-4abd-a877-1e1c65ae8520",
        "colab": {
          "base_uri": "https://localhost:8080/",
          "height": 666
        }
      },
      "source": [
        "df.sample(5)"
      ],
      "execution_count": 0,
      "outputs": [
        {
          "output_type": "execute_result",
          "data": {
            "text/html": [
              "<div>\n",
              "<style scoped>\n",
              "    .dataframe tbody tr th:only-of-type {\n",
              "        vertical-align: middle;\n",
              "    }\n",
              "\n",
              "    .dataframe tbody tr th {\n",
              "        vertical-align: top;\n",
              "    }\n",
              "\n",
              "    .dataframe thead th {\n",
              "        text-align: right;\n",
              "    }\n",
              "</style>\n",
              "<table border=\"1\" class=\"dataframe\">\n",
              "  <thead>\n",
              "    <tr style=\"text-align: right;\">\n",
              "      <th></th>\n",
              "      <th>comments</th>\n",
              "      <th>description</th>\n",
              "      <th>duration</th>\n",
              "      <th>event</th>\n",
              "      <th>film_date</th>\n",
              "      <th>languages</th>\n",
              "      <th>main_speaker</th>\n",
              "      <th>name</th>\n",
              "      <th>num_speaker</th>\n",
              "      <th>published_date</th>\n",
              "      <th>ratings</th>\n",
              "      <th>related_talks</th>\n",
              "      <th>speaker_occupation</th>\n",
              "      <th>tags</th>\n",
              "      <th>title</th>\n",
              "      <th>url</th>\n",
              "      <th>views</th>\n",
              "    </tr>\n",
              "  </thead>\n",
              "  <tbody>\n",
              "    <tr>\n",
              "      <th>2094</th>\n",
              "      <td>21</td>\n",
              "      <td>Kristen Marhaver studies corals, tiny creature...</td>\n",
              "      <td>826</td>\n",
              "      <td>Mission Blue II</td>\n",
              "      <td>1444435200</td>\n",
              "      <td>27</td>\n",
              "      <td>Kristen Marhaver</td>\n",
              "      <td>Kristen Marhaver: How we're growing baby coral...</td>\n",
              "      <td>1</td>\n",
              "      <td>1448985898</td>\n",
              "      <td>[{'id': 1, 'name': 'Beautiful', 'count': 193},...</td>\n",
              "      <td>[{'id': 519, 'hero': 'https://pe.tedcdn.com/im...</td>\n",
              "      <td>Coral reef biologist</td>\n",
              "      <td>['TED Fellows', 'animals', 'biology', 'climate...</td>\n",
              "      <td>How we're growing baby corals to rebuild reefs</td>\n",
              "      <td>https://www.ted.com/talks/kristen_marhaver_how...</td>\n",
              "      <td>729236</td>\n",
              "    </tr>\n",
              "    <tr>\n",
              "      <th>1639</th>\n",
              "      <td>265</td>\n",
              "      <td>\"In the cathedral of the wild, we get to see t...</td>\n",
              "      <td>899</td>\n",
              "      <td>TEDWomen 2013</td>\n",
              "      <td>1386201600</td>\n",
              "      <td>36</td>\n",
              "      <td>Boyd Varty</td>\n",
              "      <td>Boyd Varty: What I learned from Nelson Mandela</td>\n",
              "      <td>1</td>\n",
              "      <td>1386605235</td>\n",
              "      <td>[{'id': 25, 'name': 'OK', 'count': 81}, {'id':...</td>\n",
              "      <td>[{'id': 294, 'hero': 'https://pe.tedcdn.com/im...</td>\n",
              "      <td>Environmental and literacy activist</td>\n",
              "      <td>['Africa', 'culture', 'nature']</td>\n",
              "      <td>What I learned from Nelson Mandela</td>\n",
              "      <td>https://www.ted.com/talks/boyd_varty_what_i_le...</td>\n",
              "      <td>1585575</td>\n",
              "    </tr>\n",
              "    <tr>\n",
              "      <th>737</th>\n",
              "      <td>123</td>\n",
              "      <td>Break down the oil slick, keep it off the shor...</td>\n",
              "      <td>1002</td>\n",
              "      <td>TEDxOilSpill</td>\n",
              "      <td>1277683200</td>\n",
              "      <td>17</td>\n",
              "      <td>Susan Shaw</td>\n",
              "      <td>Susan Shaw: The oil spill's toxic trade-off</td>\n",
              "      <td>1</td>\n",
              "      <td>1280221320</td>\n",
              "      <td>[{'id': 24, 'name': 'Persuasive', 'count': 107...</td>\n",
              "      <td>[{'id': 914, 'hero': 'https://pe.tedcdn.com/im...</td>\n",
              "      <td>Marine toxicologist</td>\n",
              "      <td>['TEDx', 'business', 'chemistry', 'disaster re...</td>\n",
              "      <td>The oil spill's toxic trade-off</td>\n",
              "      <td>https://www.ted.com/talks/susan_shaw_the_oil_s...</td>\n",
              "      <td>220099</td>\n",
              "    </tr>\n",
              "    <tr>\n",
              "      <th>1211</th>\n",
              "      <td>409</td>\n",
              "      <td>At TEDxCambridge, Michael Norton shares fascin...</td>\n",
              "      <td>658</td>\n",
              "      <td>TEDxCambridge</td>\n",
              "      <td>1321574400</td>\n",
              "      <td>40</td>\n",
              "      <td>Michael Norton</td>\n",
              "      <td>Michael Norton: How to buy happiness</td>\n",
              "      <td>1</td>\n",
              "      <td>1335280653</td>\n",
              "      <td>[{'id': 8, 'name': 'Informative', 'count': 663...</td>\n",
              "      <td>[{'id': 1119, 'hero': 'https://pe.tedcdn.com/i...</td>\n",
              "      <td>Social science researcher</td>\n",
              "      <td>['TEDx', 'business', 'community', 'consumerism...</td>\n",
              "      <td>How to buy happiness</td>\n",
              "      <td>https://www.ted.com/talks/michael_norton_how_t...</td>\n",
              "      <td>3539952</td>\n",
              "    </tr>\n",
              "    <tr>\n",
              "      <th>496</th>\n",
              "      <td>752</td>\n",
              "      <td>Too much of the world lacks access to clean dr...</td>\n",
              "      <td>571</td>\n",
              "      <td>TEDGlobal 2009</td>\n",
              "      <td>1248220800</td>\n",
              "      <td>32</td>\n",
              "      <td>Michael Pritchard</td>\n",
              "      <td>Michael Pritchard: How to make filthy water dr...</td>\n",
              "      <td>1</td>\n",
              "      <td>1249347600</td>\n",
              "      <td>[{'id': 8, 'name': 'Informative', 'count': 697...</td>\n",
              "      <td>[{'id': 2, 'hero': 'https://pe.tedcdn.com/imag...</td>\n",
              "      <td>Inventor</td>\n",
              "      <td>['business', 'demo', 'design', 'global issues'...</td>\n",
              "      <td>How to make filthy water drinkable</td>\n",
              "      <td>https://www.ted.com/talks/michael_pritchard_in...</td>\n",
              "      <td>3573198</td>\n",
              "    </tr>\n",
              "  </tbody>\n",
              "</table>\n",
              "</div>"
            ],
            "text/plain": [
              "      comments  ...    views\n",
              "2094        21  ...   729236\n",
              "1639       265  ...  1585575\n",
              "737        123  ...   220099\n",
              "1211       409  ...  3539952\n",
              "496        752  ...  3573198\n",
              "\n",
              "[5 rows x 17 columns]"
            ]
          },
          "metadata": {
            "tags": []
          },
          "execution_count": 146
        }
      ]
    },
    {
      "cell_type": "markdown",
      "metadata": {
        "id": "cxEbLgLiNudw",
        "colab_type": "text"
      },
      "source": [
        "##### Change time to easy understand"
      ]
    },
    {
      "cell_type": "code",
      "metadata": {
        "id": "hiIMfu6jN7Xq",
        "colab_type": "code",
        "colab": {}
      },
      "source": [
        "from datetime import datetime\n",
        "df['film_date'] = df['film_date'].apply(lambda x: datetime.fromtimestamp( int(x)).strftime('%d-%m-%Y'))\n",
        "df['published_date'] = df['published_date'].apply(lambda x: datetime.fromtimestamp( int(x)).strftime('%d-%m-%Y'))"
      ],
      "execution_count": 0,
      "outputs": []
    },
    {
      "cell_type": "code",
      "metadata": {
        "id": "omdQ-oLvOT5s",
        "colab_type": "code",
        "outputId": "63c907da-a2c6-4199-c1bc-d93fb2175677",
        "colab": {
          "base_uri": "https://localhost:8080/",
          "height": 173
        }
      },
      "source": [
        "df.loc[:3, ['title', 'film_date', 'published_date']]"
      ],
      "execution_count": 0,
      "outputs": [
        {
          "output_type": "execute_result",
          "data": {
            "text/html": [
              "<div>\n",
              "<style scoped>\n",
              "    .dataframe tbody tr th:only-of-type {\n",
              "        vertical-align: middle;\n",
              "    }\n",
              "\n",
              "    .dataframe tbody tr th {\n",
              "        vertical-align: top;\n",
              "    }\n",
              "\n",
              "    .dataframe thead th {\n",
              "        text-align: right;\n",
              "    }\n",
              "</style>\n",
              "<table border=\"1\" class=\"dataframe\">\n",
              "  <thead>\n",
              "    <tr style=\"text-align: right;\">\n",
              "      <th></th>\n",
              "      <th>title</th>\n",
              "      <th>film_date</th>\n",
              "      <th>published_date</th>\n",
              "    </tr>\n",
              "  </thead>\n",
              "  <tbody>\n",
              "    <tr>\n",
              "      <th>0</th>\n",
              "      <td>Do schools kill creativity?</td>\n",
              "      <td>25-02-2006</td>\n",
              "      <td>27-06-2006</td>\n",
              "    </tr>\n",
              "    <tr>\n",
              "      <th>1</th>\n",
              "      <td>Averting the climate crisis</td>\n",
              "      <td>25-02-2006</td>\n",
              "      <td>27-06-2006</td>\n",
              "    </tr>\n",
              "    <tr>\n",
              "      <th>2</th>\n",
              "      <td>Simplicity sells</td>\n",
              "      <td>24-02-2006</td>\n",
              "      <td>27-06-2006</td>\n",
              "    </tr>\n",
              "    <tr>\n",
              "      <th>3</th>\n",
              "      <td>Greening the ghetto</td>\n",
              "      <td>26-02-2006</td>\n",
              "      <td>27-06-2006</td>\n",
              "    </tr>\n",
              "  </tbody>\n",
              "</table>\n",
              "</div>"
            ],
            "text/plain": [
              "                         title   film_date published_date\n",
              "0  Do schools kill creativity?  25-02-2006     27-06-2006\n",
              "1  Averting the climate crisis  25-02-2006     27-06-2006\n",
              "2             Simplicity sells  24-02-2006     27-06-2006\n",
              "3          Greening the ghetto  26-02-2006     27-06-2006"
            ]
          },
          "metadata": {
            "tags": []
          },
          "execution_count": 148
        }
      ]
    },
    {
      "cell_type": "code",
      "metadata": {
        "id": "65f8MoyERb8i",
        "colab_type": "code",
        "outputId": "92784848-0e8a-4f16-9172-31774101dc8f",
        "colab": {
          "base_uri": "https://localhost:8080/",
          "height": 391
        }
      },
      "source": [
        "df.info()"
      ],
      "execution_count": 0,
      "outputs": [
        {
          "output_type": "stream",
          "text": [
            "<class 'pandas.core.frame.DataFrame'>\n",
            "RangeIndex: 2550 entries, 0 to 2549\n",
            "Data columns (total 17 columns):\n",
            "comments              2550 non-null int64\n",
            "description           2550 non-null object\n",
            "duration              2550 non-null int64\n",
            "event                 2550 non-null object\n",
            "film_date             2550 non-null object\n",
            "languages             2550 non-null int64\n",
            "main_speaker          2550 non-null object\n",
            "name                  2550 non-null object\n",
            "num_speaker           2550 non-null int64\n",
            "published_date        2550 non-null object\n",
            "ratings               2550 non-null object\n",
            "related_talks         2550 non-null object\n",
            "speaker_occupation    2544 non-null object\n",
            "tags                  2550 non-null object\n",
            "title                 2550 non-null object\n",
            "url                   2550 non-null object\n",
            "views                 2550 non-null int64\n",
            "dtypes: int64(5), object(12)\n",
            "memory usage: 338.8+ KB\n"
          ],
          "name": "stdout"
        }
      ]
    },
    {
      "cell_type": "markdown",
      "metadata": {
        "id": "tYOq6-DMJTcY",
        "colab_type": "text"
      },
      "source": [
        "##### Swap columns for easily explore"
      ]
    },
    {
      "cell_type": "code",
      "metadata": {
        "id": "ofFqHh2uHNXc",
        "colab_type": "code",
        "outputId": "ee56568f-5c7a-482c-9347-e4aa56b6a376",
        "colab": {
          "base_uri": "https://localhost:8080/",
          "height": 102
        }
      },
      "source": [
        "cols = df.columns\n",
        "cols = ['name', 'title', 'main_speaker', 'duration', 'views', 'comments', \n",
        "        'description', 'event', 'film_date','published_date',\n",
        "        'languages',  'num_speaker', 'ratings', 'related_talks', \n",
        "        'speaker_occupation', 'tags', 'url']\n",
        "df = df.reindex(columns=cols)\n",
        "df.columns"
      ],
      "execution_count": 0,
      "outputs": [
        {
          "output_type": "execute_result",
          "data": {
            "text/plain": [
              "Index(['name', 'title', 'main_speaker', 'duration', 'views', 'comments',\n",
              "       'description', 'event', 'film_date', 'published_date', 'languages',\n",
              "       'num_speaker', 'ratings', 'related_talks', 'speaker_occupation', 'tags',\n",
              "       'url'],\n",
              "      dtype='object')"
            ]
          },
          "metadata": {
            "tags": []
          },
          "execution_count": 150
        }
      ]
    },
    {
      "cell_type": "code",
      "metadata": {
        "id": "bcwwh2ZILKaM",
        "colab_type": "code",
        "outputId": "07544617-8cd3-4845-806f-9bcf71057703",
        "colab": {
          "base_uri": "https://localhost:8080/",
          "height": 284
        }
      },
      "source": [
        "df.head(2)"
      ],
      "execution_count": 0,
      "outputs": [
        {
          "output_type": "execute_result",
          "data": {
            "text/html": [
              "<div>\n",
              "<style scoped>\n",
              "    .dataframe tbody tr th:only-of-type {\n",
              "        vertical-align: middle;\n",
              "    }\n",
              "\n",
              "    .dataframe tbody tr th {\n",
              "        vertical-align: top;\n",
              "    }\n",
              "\n",
              "    .dataframe thead th {\n",
              "        text-align: right;\n",
              "    }\n",
              "</style>\n",
              "<table border=\"1\" class=\"dataframe\">\n",
              "  <thead>\n",
              "    <tr style=\"text-align: right;\">\n",
              "      <th></th>\n",
              "      <th>name</th>\n",
              "      <th>title</th>\n",
              "      <th>main_speaker</th>\n",
              "      <th>duration</th>\n",
              "      <th>views</th>\n",
              "      <th>comments</th>\n",
              "      <th>description</th>\n",
              "      <th>event</th>\n",
              "      <th>film_date</th>\n",
              "      <th>published_date</th>\n",
              "      <th>languages</th>\n",
              "      <th>num_speaker</th>\n",
              "      <th>ratings</th>\n",
              "      <th>related_talks</th>\n",
              "      <th>speaker_occupation</th>\n",
              "      <th>tags</th>\n",
              "      <th>url</th>\n",
              "    </tr>\n",
              "  </thead>\n",
              "  <tbody>\n",
              "    <tr>\n",
              "      <th>0</th>\n",
              "      <td>Ken Robinson: Do schools kill creativity?</td>\n",
              "      <td>Do schools kill creativity?</td>\n",
              "      <td>Ken Robinson</td>\n",
              "      <td>1164</td>\n",
              "      <td>47227110</td>\n",
              "      <td>4553</td>\n",
              "      <td>Sir Ken Robinson makes an entertaining and pro...</td>\n",
              "      <td>TED2006</td>\n",
              "      <td>25-02-2006</td>\n",
              "      <td>27-06-2006</td>\n",
              "      <td>60</td>\n",
              "      <td>1</td>\n",
              "      <td>[{'id': 7, 'name': 'Funny', 'count': 19645}, {...</td>\n",
              "      <td>[{'id': 865, 'hero': 'https://pe.tedcdn.com/im...</td>\n",
              "      <td>Author/educator</td>\n",
              "      <td>['children', 'creativity', 'culture', 'dance',...</td>\n",
              "      <td>https://www.ted.com/talks/ken_robinson_says_sc...</td>\n",
              "    </tr>\n",
              "    <tr>\n",
              "      <th>1</th>\n",
              "      <td>Al Gore: Averting the climate crisis</td>\n",
              "      <td>Averting the climate crisis</td>\n",
              "      <td>Al Gore</td>\n",
              "      <td>977</td>\n",
              "      <td>3200520</td>\n",
              "      <td>265</td>\n",
              "      <td>With the same humor and humanity he exuded in ...</td>\n",
              "      <td>TED2006</td>\n",
              "      <td>25-02-2006</td>\n",
              "      <td>27-06-2006</td>\n",
              "      <td>43</td>\n",
              "      <td>1</td>\n",
              "      <td>[{'id': 7, 'name': 'Funny', 'count': 544}, {'i...</td>\n",
              "      <td>[{'id': 243, 'hero': 'https://pe.tedcdn.com/im...</td>\n",
              "      <td>Climate advocate</td>\n",
              "      <td>['alternative energy', 'cars', 'climate change...</td>\n",
              "      <td>https://www.ted.com/talks/al_gore_on_averting_...</td>\n",
              "    </tr>\n",
              "  </tbody>\n",
              "</table>\n",
              "</div>"
            ],
            "text/plain": [
              "                                        name  ...                                                url\n",
              "0  Ken Robinson: Do schools kill creativity?  ...  https://www.ted.com/talks/ken_robinson_says_sc...\n",
              "1       Al Gore: Averting the climate crisis  ...  https://www.ted.com/talks/al_gore_on_averting_...\n",
              "\n",
              "[2 rows x 17 columns]"
            ]
          },
          "metadata": {
            "tags": []
          },
          "execution_count": 151
        }
      ]
    },
    {
      "cell_type": "markdown",
      "metadata": {
        "id": "W6ms3L6GLyFk",
        "colab_type": "text"
      },
      "source": [
        "##### Describe dataset"
      ]
    },
    {
      "cell_type": "code",
      "metadata": {
        "id": "FwY-eqc3L3Qi",
        "colab_type": "code",
        "outputId": "b9082b11-a6c5-4edc-bbcd-cd3f2daea641",
        "colab": {
          "base_uri": "https://localhost:8080/",
          "height": 297
        }
      },
      "source": [
        "df.describe()"
      ],
      "execution_count": 0,
      "outputs": [
        {
          "output_type": "execute_result",
          "data": {
            "text/html": [
              "<div>\n",
              "<style scoped>\n",
              "    .dataframe tbody tr th:only-of-type {\n",
              "        vertical-align: middle;\n",
              "    }\n",
              "\n",
              "    .dataframe tbody tr th {\n",
              "        vertical-align: top;\n",
              "    }\n",
              "\n",
              "    .dataframe thead th {\n",
              "        text-align: right;\n",
              "    }\n",
              "</style>\n",
              "<table border=\"1\" class=\"dataframe\">\n",
              "  <thead>\n",
              "    <tr style=\"text-align: right;\">\n",
              "      <th></th>\n",
              "      <th>duration</th>\n",
              "      <th>views</th>\n",
              "      <th>comments</th>\n",
              "      <th>languages</th>\n",
              "      <th>num_speaker</th>\n",
              "    </tr>\n",
              "  </thead>\n",
              "  <tbody>\n",
              "    <tr>\n",
              "      <th>count</th>\n",
              "      <td>2550.000000</td>\n",
              "      <td>2.550000e+03</td>\n",
              "      <td>2550.000000</td>\n",
              "      <td>2550.000000</td>\n",
              "      <td>2550.000000</td>\n",
              "    </tr>\n",
              "    <tr>\n",
              "      <th>mean</th>\n",
              "      <td>826.510196</td>\n",
              "      <td>1.698297e+06</td>\n",
              "      <td>191.562353</td>\n",
              "      <td>27.326275</td>\n",
              "      <td>1.028235</td>\n",
              "    </tr>\n",
              "    <tr>\n",
              "      <th>std</th>\n",
              "      <td>374.009138</td>\n",
              "      <td>2.498479e+06</td>\n",
              "      <td>282.315223</td>\n",
              "      <td>9.563452</td>\n",
              "      <td>0.207705</td>\n",
              "    </tr>\n",
              "    <tr>\n",
              "      <th>min</th>\n",
              "      <td>135.000000</td>\n",
              "      <td>5.044300e+04</td>\n",
              "      <td>2.000000</td>\n",
              "      <td>0.000000</td>\n",
              "      <td>1.000000</td>\n",
              "    </tr>\n",
              "    <tr>\n",
              "      <th>25%</th>\n",
              "      <td>577.000000</td>\n",
              "      <td>7.557928e+05</td>\n",
              "      <td>63.000000</td>\n",
              "      <td>23.000000</td>\n",
              "      <td>1.000000</td>\n",
              "    </tr>\n",
              "    <tr>\n",
              "      <th>50%</th>\n",
              "      <td>848.000000</td>\n",
              "      <td>1.124524e+06</td>\n",
              "      <td>118.000000</td>\n",
              "      <td>28.000000</td>\n",
              "      <td>1.000000</td>\n",
              "    </tr>\n",
              "    <tr>\n",
              "      <th>75%</th>\n",
              "      <td>1046.750000</td>\n",
              "      <td>1.700760e+06</td>\n",
              "      <td>221.750000</td>\n",
              "      <td>33.000000</td>\n",
              "      <td>1.000000</td>\n",
              "    </tr>\n",
              "    <tr>\n",
              "      <th>max</th>\n",
              "      <td>5256.000000</td>\n",
              "      <td>4.722711e+07</td>\n",
              "      <td>6404.000000</td>\n",
              "      <td>72.000000</td>\n",
              "      <td>5.000000</td>\n",
              "    </tr>\n",
              "  </tbody>\n",
              "</table>\n",
              "</div>"
            ],
            "text/plain": [
              "          duration         views     comments    languages  num_speaker\n",
              "count  2550.000000  2.550000e+03  2550.000000  2550.000000  2550.000000\n",
              "mean    826.510196  1.698297e+06   191.562353    27.326275     1.028235\n",
              "std     374.009138  2.498479e+06   282.315223     9.563452     0.207705\n",
              "min     135.000000  5.044300e+04     2.000000     0.000000     1.000000\n",
              "25%     577.000000  7.557928e+05    63.000000    23.000000     1.000000\n",
              "50%     848.000000  1.124524e+06   118.000000    28.000000     1.000000\n",
              "75%    1046.750000  1.700760e+06   221.750000    33.000000     1.000000\n",
              "max    5256.000000  4.722711e+07  6404.000000    72.000000     5.000000"
            ]
          },
          "metadata": {
            "tags": []
          },
          "execution_count": 152
        }
      ]
    },
    {
      "cell_type": "markdown",
      "metadata": {
        "id": "pBdnPNIaXZnM",
        "colab_type": "text"
      },
      "source": [
        "### Data Manuplation in the Dataset"
      ]
    },
    {
      "cell_type": "markdown",
      "metadata": {
        "id": "Rf17A92UX15r",
        "colab_type": "text"
      },
      "source": [
        "In dataset, I realize that `name` is combined `title` and `main_speaker` which is not nessersary."
      ]
    },
    {
      "cell_type": "code",
      "metadata": {
        "id": "b1qDUbpSaYy3",
        "colab_type": "code",
        "outputId": "84bbb498-dc79-424b-f45d-7c2e82c90cee",
        "colab": {
          "base_uri": "https://localhost:8080/",
          "height": 185
        }
      },
      "source": [
        "df.head(1)"
      ],
      "execution_count": 0,
      "outputs": [
        {
          "output_type": "execute_result",
          "data": {
            "text/html": [
              "<div>\n",
              "<style scoped>\n",
              "    .dataframe tbody tr th:only-of-type {\n",
              "        vertical-align: middle;\n",
              "    }\n",
              "\n",
              "    .dataframe tbody tr th {\n",
              "        vertical-align: top;\n",
              "    }\n",
              "\n",
              "    .dataframe thead th {\n",
              "        text-align: right;\n",
              "    }\n",
              "</style>\n",
              "<table border=\"1\" class=\"dataframe\">\n",
              "  <thead>\n",
              "    <tr style=\"text-align: right;\">\n",
              "      <th></th>\n",
              "      <th>name</th>\n",
              "      <th>title</th>\n",
              "      <th>main_speaker</th>\n",
              "      <th>duration</th>\n",
              "      <th>views</th>\n",
              "      <th>comments</th>\n",
              "      <th>description</th>\n",
              "      <th>event</th>\n",
              "      <th>film_date</th>\n",
              "      <th>published_date</th>\n",
              "      <th>languages</th>\n",
              "      <th>num_speaker</th>\n",
              "      <th>ratings</th>\n",
              "      <th>related_talks</th>\n",
              "      <th>speaker_occupation</th>\n",
              "      <th>tags</th>\n",
              "      <th>url</th>\n",
              "    </tr>\n",
              "  </thead>\n",
              "  <tbody>\n",
              "    <tr>\n",
              "      <th>0</th>\n",
              "      <td>Ken Robinson: Do schools kill creativity?</td>\n",
              "      <td>Do schools kill creativity?</td>\n",
              "      <td>Ken Robinson</td>\n",
              "      <td>1164</td>\n",
              "      <td>47227110</td>\n",
              "      <td>4553</td>\n",
              "      <td>Sir Ken Robinson makes an entertaining and pro...</td>\n",
              "      <td>TED2006</td>\n",
              "      <td>25-02-2006</td>\n",
              "      <td>27-06-2006</td>\n",
              "      <td>60</td>\n",
              "      <td>1</td>\n",
              "      <td>[{'id': 7, 'name': 'Funny', 'count': 19645}, {...</td>\n",
              "      <td>[{'id': 865, 'hero': 'https://pe.tedcdn.com/im...</td>\n",
              "      <td>Author/educator</td>\n",
              "      <td>['children', 'creativity', 'culture', 'dance',...</td>\n",
              "      <td>https://www.ted.com/talks/ken_robinson_says_sc...</td>\n",
              "    </tr>\n",
              "  </tbody>\n",
              "</table>\n",
              "</div>"
            ],
            "text/plain": [
              "                                        name  ...                                                url\n",
              "0  Ken Robinson: Do schools kill creativity?  ...  https://www.ted.com/talks/ken_robinson_says_sc...\n",
              "\n",
              "[1 rows x 17 columns]"
            ]
          },
          "metadata": {
            "tags": []
          },
          "execution_count": 153
        }
      ]
    },
    {
      "cell_type": "code",
      "metadata": {
        "id": "xjPWJDuXXccx",
        "colab_type": "code",
        "outputId": "1493675b-a579-4f75-bdb5-345dcff7c007",
        "colab": {
          "base_uri": "https://localhost:8080/",
          "height": 68
        }
      },
      "source": [
        "(df['name'] == df['main_speaker']+ \": \" + df['title']).value_counts()"
      ],
      "execution_count": 0,
      "outputs": [
        {
          "output_type": "execute_result",
          "data": {
            "text/plain": [
              "True     2541\n",
              "False       9\n",
              "dtype: int64"
            ]
          },
          "metadata": {
            "tags": []
          },
          "execution_count": 154
        }
      ]
    },
    {
      "cell_type": "markdown",
      "metadata": {
        "id": "8HS88QgWYkDE",
        "colab_type": "text"
      },
      "source": [
        "There are 9 `name` is not combined by `speaker` and `title`"
      ]
    },
    {
      "cell_type": "code",
      "metadata": {
        "id": "8udw9egSYvM2",
        "colab_type": "code",
        "outputId": "44b4d71f-1f2d-48fe-8909-da86ae245f5c",
        "colab": {
          "base_uri": "https://localhost:8080/",
          "height": 328
        }
      },
      "source": [
        "df[df['name'] != df['main_speaker']+ \": \" + df['title']][['name', 'title', 'main_speaker']]"
      ],
      "execution_count": 0,
      "outputs": [
        {
          "output_type": "execute_result",
          "data": {
            "text/html": [
              "<div>\n",
              "<style scoped>\n",
              "    .dataframe tbody tr th:only-of-type {\n",
              "        vertical-align: middle;\n",
              "    }\n",
              "\n",
              "    .dataframe tbody tr th {\n",
              "        vertical-align: top;\n",
              "    }\n",
              "\n",
              "    .dataframe thead th {\n",
              "        text-align: right;\n",
              "    }\n",
              "</style>\n",
              "<table border=\"1\" class=\"dataframe\">\n",
              "  <thead>\n",
              "    <tr style=\"text-align: right;\">\n",
              "      <th></th>\n",
              "      <th>name</th>\n",
              "      <th>title</th>\n",
              "      <th>main_speaker</th>\n",
              "    </tr>\n",
              "  </thead>\n",
              "  <tbody>\n",
              "    <tr>\n",
              "      <th>898</th>\n",
              "      <td>Patricia Ryan: Don't insist on English!</td>\n",
              "      <td>Don't insist on English!</td>\n",
              "      <td>Patricia Ryan</td>\n",
              "    </tr>\n",
              "    <tr>\n",
              "      <th>1543</th>\n",
              "      <td>The interspecies internet? An idea in progress</td>\n",
              "      <td>The interspecies internet? An idea in progress</td>\n",
              "      <td>Diana Reiss, Peter Gabriel, Neil Gershenfeld a...</td>\n",
              "    </tr>\n",
              "    <tr>\n",
              "      <th>1549</th>\n",
              "      <td>Two young scientists break down plastics with ...</td>\n",
              "      <td>Two young scientists break down plastics with ...</td>\n",
              "      <td>Miranda Wang and Jeanny Yao</td>\n",
              "    </tr>\n",
              "    <tr>\n",
              "      <th>1745</th>\n",
              "      <td>Tristram Wyatt: The smelly mystery of the huma...</td>\n",
              "      <td>The smelly mystery of the human pheromone</td>\n",
              "      <td>Tristram Wyatt</td>\n",
              "    </tr>\n",
              "    <tr>\n",
              "      <th>1768</th>\n",
              "      <td>Anne Curzan: What makes a word \"real\"?</td>\n",
              "      <td>What makes a word \"real\"?</td>\n",
              "      <td>Anne Curzan</td>\n",
              "    </tr>\n",
              "    <tr>\n",
              "      <th>1769</th>\n",
              "      <td>Ruth Chang: How to make hard choices</td>\n",
              "      <td>How to make hard choices</td>\n",
              "      <td>Ruth Chang</td>\n",
              "    </tr>\n",
              "    <tr>\n",
              "      <th>1845</th>\n",
              "      <td>Susan Etlinger: What do we do with all this bi...</td>\n",
              "      <td>What do we do with all this big data?</td>\n",
              "      <td>Susan Etlinger</td>\n",
              "    </tr>\n",
              "    <tr>\n",
              "      <th>2466</th>\n",
              "      <td>Michael Bierut: How to design a library that m...</td>\n",
              "      <td>How to design a library that makes kids want t...</td>\n",
              "      <td>Michael Bierut</td>\n",
              "    </tr>\n",
              "    <tr>\n",
              "      <th>2512</th>\n",
              "      <td>Jack Conte: How artists can (finally) get paid...</td>\n",
              "      <td>How artists can (finally) get paid in the digi...</td>\n",
              "      <td>Jack Conte</td>\n",
              "    </tr>\n",
              "  </tbody>\n",
              "</table>\n",
              "</div>"
            ],
            "text/plain": [
              "                                                   name  ...                                       main_speaker\n",
              "898             Patricia Ryan: Don't insist on English!  ...                                     Patricia Ryan \n",
              "1543     The interspecies internet? An idea in progress  ...  Diana Reiss, Peter Gabriel, Neil Gershenfeld a...\n",
              "1549  Two young scientists break down plastics with ...  ...                        Miranda Wang and Jeanny Yao\n",
              "1745  Tristram Wyatt: The smelly mystery of the huma...  ...                                     Tristram Wyatt\n",
              "1768             Anne Curzan: What makes a word \"real\"?  ...                                       Anne Curzan \n",
              "1769               Ruth Chang: How to make hard choices  ...                                         Ruth Chang\n",
              "1845  Susan Etlinger: What do we do with all this bi...  ...                                     Susan Etlinger\n",
              "2466  Michael Bierut: How to design a library that m...  ...                                     Michael Bierut\n",
              "2512  Jack Conte: How artists can (finally) get paid...  ...                                         Jack Conte\n",
              "\n",
              "[9 rows x 3 columns]"
            ]
          },
          "metadata": {
            "tags": []
          },
          "execution_count": 155
        }
      ]
    },
    {
      "cell_type": "markdown",
      "metadata": {
        "id": "Qo1zouvfZ9fn",
        "colab_type": "text"
      },
      "source": [
        "After see the difference, that is not special. So it should drop `name` columns."
      ]
    },
    {
      "cell_type": "code",
      "metadata": {
        "id": "IpUjjIpiZZ8C",
        "colab_type": "code",
        "colab": {}
      },
      "source": [
        "df.drop(columns=['name'], inplace=True)"
      ],
      "execution_count": 0,
      "outputs": []
    },
    {
      "cell_type": "code",
      "metadata": {
        "id": "hG9h7hTLbzev",
        "colab_type": "code",
        "outputId": "e663b07d-da02-4898-8a5c-4a3dde8498c8",
        "colab": {
          "base_uri": "https://localhost:8080/",
          "height": 374
        }
      },
      "source": [
        "df.info()"
      ],
      "execution_count": 0,
      "outputs": [
        {
          "output_type": "stream",
          "text": [
            "<class 'pandas.core.frame.DataFrame'>\n",
            "RangeIndex: 2550 entries, 0 to 2549\n",
            "Data columns (total 16 columns):\n",
            "title                 2550 non-null object\n",
            "main_speaker          2550 non-null object\n",
            "duration              2550 non-null int64\n",
            "views                 2550 non-null int64\n",
            "comments              2550 non-null int64\n",
            "description           2550 non-null object\n",
            "event                 2550 non-null object\n",
            "film_date             2550 non-null object\n",
            "published_date        2550 non-null object\n",
            "languages             2550 non-null int64\n",
            "num_speaker           2550 non-null int64\n",
            "ratings               2550 non-null object\n",
            "related_talks         2550 non-null object\n",
            "speaker_occupation    2544 non-null object\n",
            "tags                  2550 non-null object\n",
            "url                   2550 non-null object\n",
            "dtypes: int64(5), object(11)\n",
            "memory usage: 318.8+ KB\n"
          ],
          "name": "stdout"
        }
      ]
    },
    {
      "cell_type": "markdown",
      "metadata": {
        "id": "4sw9xoHtbYQq",
        "colab_type": "text"
      },
      "source": [
        "## 1. Finding the most popular TED Talks videos"
      ]
    },
    {
      "cell_type": "markdown",
      "metadata": {
        "id": "RVNuDCSbbpDf",
        "colab_type": "text"
      },
      "source": [
        "#### **> Views**\n",
        "\n",
        "- The *popular* video should be had **high views**. The number of views indicate the popular of that video which tell other that this video has quality content, so it will attractive many people."
      ]
    },
    {
      "cell_type": "markdown",
      "metadata": {
        "id": "nD_lxDw_5IZd",
        "colab_type": "text"
      },
      "source": [
        "> Top **10 videos** has the highest views"
      ]
    },
    {
      "cell_type": "code",
      "metadata": {
        "id": "ha-GWAXrevIM",
        "colab_type": "code",
        "outputId": "2cfd3ff5-dbfe-4c8e-81a9-8eddfef4cbc0",
        "colab": {
          "base_uri": "https://localhost:8080/",
          "height": 359
        }
      },
      "source": [
        "view_sorted_talks = df[['title', 'main_speaker', 'film_date', 'comments', 'views']].sort_values(by=['views'], ascending=False)\n",
        "view_sorted_talks[:10]"
      ],
      "execution_count": 0,
      "outputs": [
        {
          "output_type": "execute_result",
          "data": {
            "text/html": [
              "<div>\n",
              "<style scoped>\n",
              "    .dataframe tbody tr th:only-of-type {\n",
              "        vertical-align: middle;\n",
              "    }\n",
              "\n",
              "    .dataframe tbody tr th {\n",
              "        vertical-align: top;\n",
              "    }\n",
              "\n",
              "    .dataframe thead th {\n",
              "        text-align: right;\n",
              "    }\n",
              "</style>\n",
              "<table border=\"1\" class=\"dataframe\">\n",
              "  <thead>\n",
              "    <tr style=\"text-align: right;\">\n",
              "      <th></th>\n",
              "      <th>title</th>\n",
              "      <th>main_speaker</th>\n",
              "      <th>film_date</th>\n",
              "      <th>comments</th>\n",
              "      <th>views</th>\n",
              "    </tr>\n",
              "  </thead>\n",
              "  <tbody>\n",
              "    <tr>\n",
              "      <th>0</th>\n",
              "      <td>Do schools kill creativity?</td>\n",
              "      <td>Ken Robinson</td>\n",
              "      <td>25-02-2006</td>\n",
              "      <td>4553</td>\n",
              "      <td>47227110</td>\n",
              "    </tr>\n",
              "    <tr>\n",
              "      <th>1346</th>\n",
              "      <td>Your body language may shape who you are</td>\n",
              "      <td>Amy Cuddy</td>\n",
              "      <td>26-06-2012</td>\n",
              "      <td>2290</td>\n",
              "      <td>43155405</td>\n",
              "    </tr>\n",
              "    <tr>\n",
              "      <th>677</th>\n",
              "      <td>How great leaders inspire action</td>\n",
              "      <td>Simon Sinek</td>\n",
              "      <td>17-09-2009</td>\n",
              "      <td>1930</td>\n",
              "      <td>34309432</td>\n",
              "    </tr>\n",
              "    <tr>\n",
              "      <th>837</th>\n",
              "      <td>The power of vulnerability</td>\n",
              "      <td>Brené Brown</td>\n",
              "      <td>06-06-2010</td>\n",
              "      <td>1927</td>\n",
              "      <td>31168150</td>\n",
              "    </tr>\n",
              "    <tr>\n",
              "      <th>452</th>\n",
              "      <td>10 things you didn't know about orgasm</td>\n",
              "      <td>Mary Roach</td>\n",
              "      <td>06-02-2009</td>\n",
              "      <td>354</td>\n",
              "      <td>22270883</td>\n",
              "    </tr>\n",
              "    <tr>\n",
              "      <th>1776</th>\n",
              "      <td>How to speak so that people want to listen</td>\n",
              "      <td>Julian Treasure</td>\n",
              "      <td>10-06-2013</td>\n",
              "      <td>297</td>\n",
              "      <td>21594632</td>\n",
              "    </tr>\n",
              "    <tr>\n",
              "      <th>201</th>\n",
              "      <td>My stroke of insight</td>\n",
              "      <td>Jill Bolte Taylor</td>\n",
              "      <td>27-02-2008</td>\n",
              "      <td>2877</td>\n",
              "      <td>21190883</td>\n",
              "    </tr>\n",
              "    <tr>\n",
              "      <th>5</th>\n",
              "      <td>Why we do what we do</td>\n",
              "      <td>Tony Robbins</td>\n",
              "      <td>02-02-2006</td>\n",
              "      <td>672</td>\n",
              "      <td>20685401</td>\n",
              "    </tr>\n",
              "    <tr>\n",
              "      <th>2114</th>\n",
              "      <td>This is what happens when you reply to spam email</td>\n",
              "      <td>James Veitch</td>\n",
              "      <td>08-12-2015</td>\n",
              "      <td>150</td>\n",
              "      <td>20475972</td>\n",
              "    </tr>\n",
              "    <tr>\n",
              "      <th>1416</th>\n",
              "      <td>Looks aren't everything. Believe me, I'm a model.</td>\n",
              "      <td>Cameron Russell</td>\n",
              "      <td>27-10-2012</td>\n",
              "      <td>846</td>\n",
              "      <td>19787465</td>\n",
              "    </tr>\n",
              "  </tbody>\n",
              "</table>\n",
              "</div>"
            ],
            "text/plain": [
              "                                                  title  ...     views\n",
              "0                           Do schools kill creativity?  ...  47227110\n",
              "1346           Your body language may shape who you are  ...  43155405\n",
              "677                    How great leaders inspire action  ...  34309432\n",
              "837                          The power of vulnerability  ...  31168150\n",
              "452              10 things you didn't know about orgasm  ...  22270883\n",
              "1776         How to speak so that people want to listen  ...  21594632\n",
              "201                                My stroke of insight  ...  21190883\n",
              "5                                  Why we do what we do  ...  20685401\n",
              "2114  This is what happens when you reply to spam email  ...  20475972\n",
              "1416  Looks aren't everything. Believe me, I'm a model.  ...  19787465\n",
              "\n",
              "[10 rows x 5 columns]"
            ]
          },
          "metadata": {
            "tags": []
          },
          "execution_count": 158
        }
      ]
    },
    {
      "cell_type": "markdown",
      "metadata": {
        "id": "ENWXulXb5fS_",
        "colab_type": "text"
      },
      "source": [
        "> Diplay view of video on chart"
      ]
    },
    {
      "cell_type": "code",
      "metadata": {
        "id": "dPSJ0f9r5kZE",
        "colab_type": "code",
        "outputId": "7044dabb-37a3-407c-a8dc-d0414e64df6d",
        "colab": {
          "base_uri": "https://localhost:8080/",
          "height": 417
        }
      },
      "source": [
        "sns.set_style(\"whitegrid\")\n",
        "plt.figure(figsize=(10,6))\n",
        "sns.barplot(x='views', y='title', data=view_sorted_talks[:10])"
      ],
      "execution_count": 0,
      "outputs": [
        {
          "output_type": "execute_result",
          "data": {
            "text/plain": [
              "<matplotlib.axes._subplots.AxesSubplot at 0x7fe11e9356a0>"
            ]
          },
          "metadata": {
            "tags": []
          },
          "execution_count": 159
        },
        {
          "output_type": "display_data",
          "data": {
            "image/png": "[encoded data removed]",
            "text/plain": [
              "<Figure size 720x432 with 1 Axes>"
            ]
          },
          "metadata": {
            "tags": []
          }
        }
      ]
    },
    {
      "cell_type": "markdown",
      "metadata": {
        "id": "W56Ux_OE-kfh",
        "colab_type": "text"
      },
      "source": [
        "> Beside, I display the distibution of the views in TED Talks"
      ]
    },
    {
      "cell_type": "code",
      "metadata": {
        "id": "Ssj7o8NS-4p_",
        "colab_type": "code",
        "outputId": "f181a731-4db6-44b9-df56-159b12d0fcaa",
        "colab": {
          "base_uri": "https://localhost:8080/",
          "height": 313
        }
      },
      "source": [
        "sns.distplot(df['views'])"
      ],
      "execution_count": 0,
      "outputs": [
        {
          "output_type": "execute_result",
          "data": {
            "text/plain": [
              "<matplotlib.axes._subplots.AxesSubplot at 0x7fe11e906860>"
            ]
          },
          "metadata": {
            "tags": []
          },
          "execution_count": 160
        },
        {
          "output_type": "display_data",
          "data": {
            "image/png": "[encoded data removed]",
            "text/plain": [
              "<Figure size 432x288 with 1 Axes>"
            ]
          },
          "metadata": {
            "tags": []
          }
        }
      ]
    },
    {
      "cell_type": "code",
      "metadata": {
        "id": "hPZ-gC7h_Kw4",
        "colab_type": "code",
        "outputId": "5ccf4cba-b80b-4b07-d15f-7070f4288901",
        "colab": {
          "base_uri": "https://localhost:8080/",
          "height": 170
        }
      },
      "source": [
        "df['views'].describe()"
      ],
      "execution_count": 0,
      "outputs": [
        {
          "output_type": "execute_result",
          "data": {
            "text/plain": [
              "count    2.550000e+03\n",
              "mean     1.698297e+06\n",
              "std      2.498479e+06\n",
              "min      5.044300e+04\n",
              "25%      7.557928e+05\n",
              "50%      1.124524e+06\n",
              "75%      1.700760e+06\n",
              "max      4.722711e+07\n",
              "Name: views, dtype: float64"
            ]
          },
          "metadata": {
            "tags": []
          },
          "execution_count": 161
        }
      ]
    },
    {
      "cell_type": "markdown",
      "metadata": {
        "id": "y6ygB74_A0sC",
        "colab_type": "text"
      },
      "source": [
        "> The average number of views on videos is **1.6** million views."
      ]
    },
    {
      "cell_type": "markdown",
      "metadata": {
        "id": "toklHiDnVWvf",
        "colab_type": "text"
      },
      "source": [
        "#### > Comments\n",
        "- A popular TED Talk will take attention of viewers. So these videos should have many **comments**"
      ]
    },
    {
      "cell_type": "markdown",
      "metadata": {
        "id": "Tf0SKGlzWVb2",
        "colab_type": "text"
      },
      "source": [
        "> Top **10** videos has *high number comments*"
      ]
    },
    {
      "cell_type": "code",
      "metadata": {
        "id": "1RD3o9zIAzo4",
        "colab_type": "code",
        "outputId": "b54933f3-32cc-4c36-c277-e3840dc6a75f",
        "colab": {
          "base_uri": "https://localhost:8080/",
          "height": 359
        }
      },
      "source": [
        "cmt_sorted_talks = df[['title', 'main_speaker', 'film_date', 'comments', 'views']].sort_values(by=['comments'], ascending=False)\n",
        "cmt_sorted_talks[:10]"
      ],
      "execution_count": 0,
      "outputs": [
        {
          "output_type": "execute_result",
          "data": {
            "text/html": [
              "<div>\n",
              "<style scoped>\n",
              "    .dataframe tbody tr th:only-of-type {\n",
              "        vertical-align: middle;\n",
              "    }\n",
              "\n",
              "    .dataframe tbody tr th {\n",
              "        vertical-align: top;\n",
              "    }\n",
              "\n",
              "    .dataframe thead th {\n",
              "        text-align: right;\n",
              "    }\n",
              "</style>\n",
              "<table border=\"1\" class=\"dataframe\">\n",
              "  <thead>\n",
              "    <tr style=\"text-align: right;\">\n",
              "      <th></th>\n",
              "      <th>title</th>\n",
              "      <th>main_speaker</th>\n",
              "      <th>film_date</th>\n",
              "      <th>comments</th>\n",
              "      <th>views</th>\n",
              "    </tr>\n",
              "  </thead>\n",
              "  <tbody>\n",
              "    <tr>\n",
              "      <th>96</th>\n",
              "      <td>Militant atheism</td>\n",
              "      <td>Richard Dawkins</td>\n",
              "      <td>02-02-2002</td>\n",
              "      <td>6404</td>\n",
              "      <td>4374792</td>\n",
              "    </tr>\n",
              "    <tr>\n",
              "      <th>0</th>\n",
              "      <td>Do schools kill creativity?</td>\n",
              "      <td>Ken Robinson</td>\n",
              "      <td>25-02-2006</td>\n",
              "      <td>4553</td>\n",
              "      <td>47227110</td>\n",
              "    </tr>\n",
              "    <tr>\n",
              "      <th>644</th>\n",
              "      <td>Science can answer moral questions</td>\n",
              "      <td>Sam Harris</td>\n",
              "      <td>11-02-2010</td>\n",
              "      <td>3356</td>\n",
              "      <td>3433437</td>\n",
              "    </tr>\n",
              "    <tr>\n",
              "      <th>201</th>\n",
              "      <td>My stroke of insight</td>\n",
              "      <td>Jill Bolte Taylor</td>\n",
              "      <td>27-02-2008</td>\n",
              "      <td>2877</td>\n",
              "      <td>21190883</td>\n",
              "    </tr>\n",
              "    <tr>\n",
              "      <th>1787</th>\n",
              "      <td>How do you explain consciousness?</td>\n",
              "      <td>David Chalmers</td>\n",
              "      <td>18-03-2014</td>\n",
              "      <td>2673</td>\n",
              "      <td>2162764</td>\n",
              "    </tr>\n",
              "    <tr>\n",
              "      <th>954</th>\n",
              "      <td>Taking imagination seriously</td>\n",
              "      <td>Janet Echelman</td>\n",
              "      <td>03-03-2011</td>\n",
              "      <td>2492</td>\n",
              "      <td>1832930</td>\n",
              "    </tr>\n",
              "    <tr>\n",
              "      <th>840</th>\n",
              "      <td>On reading the Koran</td>\n",
              "      <td>Lesley Hazleton</td>\n",
              "      <td>10-10-2010</td>\n",
              "      <td>2374</td>\n",
              "      <td>1847256</td>\n",
              "    </tr>\n",
              "    <tr>\n",
              "      <th>1346</th>\n",
              "      <td>Your body language may shape who you are</td>\n",
              "      <td>Amy Cuddy</td>\n",
              "      <td>26-06-2012</td>\n",
              "      <td>2290</td>\n",
              "      <td>43155405</td>\n",
              "    </tr>\n",
              "    <tr>\n",
              "      <th>661</th>\n",
              "      <td>The danger of science denial</td>\n",
              "      <td>Michael Specter</td>\n",
              "      <td>11-02-2010</td>\n",
              "      <td>2272</td>\n",
              "      <td>1838628</td>\n",
              "    </tr>\n",
              "    <tr>\n",
              "      <th>677</th>\n",
              "      <td>How great leaders inspire action</td>\n",
              "      <td>Simon Sinek</td>\n",
              "      <td>17-09-2009</td>\n",
              "      <td>1930</td>\n",
              "      <td>34309432</td>\n",
              "    </tr>\n",
              "  </tbody>\n",
              "</table>\n",
              "</div>"
            ],
            "text/plain": [
              "                                         title  ...     views\n",
              "96                            Militant atheism  ...   4374792\n",
              "0                  Do schools kill creativity?  ...  47227110\n",
              "644         Science can answer moral questions  ...   3433437\n",
              "201                       My stroke of insight  ...  21190883\n",
              "1787         How do you explain consciousness?  ...   2162764\n",
              "954               Taking imagination seriously  ...   1832930\n",
              "840                       On reading the Koran  ...   1847256\n",
              "1346  Your body language may shape who you are  ...  43155405\n",
              "661               The danger of science denial  ...   1838628\n",
              "677           How great leaders inspire action  ...  34309432\n",
              "\n",
              "[10 rows x 5 columns]"
            ]
          },
          "metadata": {
            "tags": []
          },
          "execution_count": 162
        }
      ]
    },
    {
      "cell_type": "markdown",
      "metadata": {
        "id": "ZQbCrarpWic5",
        "colab_type": "text"
      },
      "source": [
        "> The chart show comments count"
      ]
    },
    {
      "cell_type": "code",
      "metadata": {
        "id": "mq0E0pVx_9HT",
        "colab_type": "code",
        "outputId": "2f4293e0-3495-4773-e26b-db49f6e0508c",
        "colab": {
          "base_uri": "https://localhost:8080/",
          "height": 417
        }
      },
      "source": [
        "plt.figure(figsize=(10,6))\n",
        "sns.barplot(x='comments', y='title', data=cmt_sorted_talks[:10])"
      ],
      "execution_count": 0,
      "outputs": [
        {
          "output_type": "execute_result",
          "data": {
            "text/plain": [
              "<matplotlib.axes._subplots.AxesSubplot at 0x7fe120e80e10>"
            ]
          },
          "metadata": {
            "tags": []
          },
          "execution_count": 163
        },
        {
          "output_type": "display_data",
          "data": {
            "image/png": "[encoded data removed]",
            "text/plain": [
              "<Figure size 720x432 with 1 Axes>"
            ]
          },
          "metadata": {
            "tags": []
          }
        }
      ]
    },
    {
      "cell_type": "markdown",
      "metadata": {
        "id": "mp-sPycbnhPb",
        "colab_type": "text"
      },
      "source": [
        "> Merge data: video has high views and high comments\n",
        "\n",
        "Will these high quality videos same high number of views and comments?"
      ]
    },
    {
      "cell_type": "code",
      "metadata": {
        "id": "XuL2Y8EGnlVO",
        "colab_type": "code",
        "outputId": "c548dfee-8cb8-48d3-a675-c0d95e47ec56",
        "colab": {
          "base_uri": "https://localhost:8080/",
          "height": 545
        }
      },
      "source": [
        "merge_df = pd.merge(view_sorted_talks[:10], cmt_sorted_talks[:10], how='outer')\n",
        "merge_df"
      ],
      "execution_count": 0,
      "outputs": [
        {
          "output_type": "execute_result",
          "data": {
            "text/html": [
              "<div>\n",
              "<style scoped>\n",
              "    .dataframe tbody tr th:only-of-type {\n",
              "        vertical-align: middle;\n",
              "    }\n",
              "\n",
              "    .dataframe tbody tr th {\n",
              "        vertical-align: top;\n",
              "    }\n",
              "\n",
              "    .dataframe thead th {\n",
              "        text-align: right;\n",
              "    }\n",
              "</style>\n",
              "<table border=\"1\" class=\"dataframe\">\n",
              "  <thead>\n",
              "    <tr style=\"text-align: right;\">\n",
              "      <th></th>\n",
              "      <th>title</th>\n",
              "      <th>main_speaker</th>\n",
              "      <th>film_date</th>\n",
              "      <th>comments</th>\n",
              "      <th>views</th>\n",
              "    </tr>\n",
              "  </thead>\n",
              "  <tbody>\n",
              "    <tr>\n",
              "      <th>0</th>\n",
              "      <td>Do schools kill creativity?</td>\n",
              "      <td>Ken Robinson</td>\n",
              "      <td>25-02-2006</td>\n",
              "      <td>4553</td>\n",
              "      <td>47227110</td>\n",
              "    </tr>\n",
              "    <tr>\n",
              "      <th>1</th>\n",
              "      <td>Your body language may shape who you are</td>\n",
              "      <td>Amy Cuddy</td>\n",
              "      <td>26-06-2012</td>\n",
              "      <td>2290</td>\n",
              "      <td>43155405</td>\n",
              "    </tr>\n",
              "    <tr>\n",
              "      <th>2</th>\n",
              "      <td>How great leaders inspire action</td>\n",
              "      <td>Simon Sinek</td>\n",
              "      <td>17-09-2009</td>\n",
              "      <td>1930</td>\n",
              "      <td>34309432</td>\n",
              "    </tr>\n",
              "    <tr>\n",
              "      <th>3</th>\n",
              "      <td>The power of vulnerability</td>\n",
              "      <td>Brené Brown</td>\n",
              "      <td>06-06-2010</td>\n",
              "      <td>1927</td>\n",
              "      <td>31168150</td>\n",
              "    </tr>\n",
              "    <tr>\n",
              "      <th>4</th>\n",
              "      <td>10 things you didn't know about orgasm</td>\n",
              "      <td>Mary Roach</td>\n",
              "      <td>06-02-2009</td>\n",
              "      <td>354</td>\n",
              "      <td>22270883</td>\n",
              "    </tr>\n",
              "    <tr>\n",
              "      <th>5</th>\n",
              "      <td>How to speak so that people want to listen</td>\n",
              "      <td>Julian Treasure</td>\n",
              "      <td>10-06-2013</td>\n",
              "      <td>297</td>\n",
              "      <td>21594632</td>\n",
              "    </tr>\n",
              "    <tr>\n",
              "      <th>6</th>\n",
              "      <td>My stroke of insight</td>\n",
              "      <td>Jill Bolte Taylor</td>\n",
              "      <td>27-02-2008</td>\n",
              "      <td>2877</td>\n",
              "      <td>21190883</td>\n",
              "    </tr>\n",
              "    <tr>\n",
              "      <th>7</th>\n",
              "      <td>Why we do what we do</td>\n",
              "      <td>Tony Robbins</td>\n",
              "      <td>02-02-2006</td>\n",
              "      <td>672</td>\n",
              "      <td>20685401</td>\n",
              "    </tr>\n",
              "    <tr>\n",
              "      <th>8</th>\n",
              "      <td>This is what happens when you reply to spam email</td>\n",
              "      <td>James Veitch</td>\n",
              "      <td>08-12-2015</td>\n",
              "      <td>150</td>\n",
              "      <td>20475972</td>\n",
              "    </tr>\n",
              "    <tr>\n",
              "      <th>9</th>\n",
              "      <td>Looks aren't everything. Believe me, I'm a model.</td>\n",
              "      <td>Cameron Russell</td>\n",
              "      <td>27-10-2012</td>\n",
              "      <td>846</td>\n",
              "      <td>19787465</td>\n",
              "    </tr>\n",
              "    <tr>\n",
              "      <th>10</th>\n",
              "      <td>Militant atheism</td>\n",
              "      <td>Richard Dawkins</td>\n",
              "      <td>02-02-2002</td>\n",
              "      <td>6404</td>\n",
              "      <td>4374792</td>\n",
              "    </tr>\n",
              "    <tr>\n",
              "      <th>11</th>\n",
              "      <td>Science can answer moral questions</td>\n",
              "      <td>Sam Harris</td>\n",
              "      <td>11-02-2010</td>\n",
              "      <td>3356</td>\n",
              "      <td>3433437</td>\n",
              "    </tr>\n",
              "    <tr>\n",
              "      <th>12</th>\n",
              "      <td>How do you explain consciousness?</td>\n",
              "      <td>David Chalmers</td>\n",
              "      <td>18-03-2014</td>\n",
              "      <td>2673</td>\n",
              "      <td>2162764</td>\n",
              "    </tr>\n",
              "    <tr>\n",
              "      <th>13</th>\n",
              "      <td>Taking imagination seriously</td>\n",
              "      <td>Janet Echelman</td>\n",
              "      <td>03-03-2011</td>\n",
              "      <td>2492</td>\n",
              "      <td>1832930</td>\n",
              "    </tr>\n",
              "    <tr>\n",
              "      <th>14</th>\n",
              "      <td>On reading the Koran</td>\n",
              "      <td>Lesley Hazleton</td>\n",
              "      <td>10-10-2010</td>\n",
              "      <td>2374</td>\n",
              "      <td>1847256</td>\n",
              "    </tr>\n",
              "    <tr>\n",
              "      <th>15</th>\n",
              "      <td>The danger of science denial</td>\n",
              "      <td>Michael Specter</td>\n",
              "      <td>11-02-2010</td>\n",
              "      <td>2272</td>\n",
              "      <td>1838628</td>\n",
              "    </tr>\n",
              "  </tbody>\n",
              "</table>\n",
              "</div>"
            ],
            "text/plain": [
              "                                                title  ...     views\n",
              "0                         Do schools kill creativity?  ...  47227110\n",
              "1            Your body language may shape who you are  ...  43155405\n",
              "2                    How great leaders inspire action  ...  34309432\n",
              "3                          The power of vulnerability  ...  31168150\n",
              "4              10 things you didn't know about orgasm  ...  22270883\n",
              "5          How to speak so that people want to listen  ...  21594632\n",
              "6                                My stroke of insight  ...  21190883\n",
              "7                                Why we do what we do  ...  20685401\n",
              "8   This is what happens when you reply to spam email  ...  20475972\n",
              "9   Looks aren't everything. Believe me, I'm a model.  ...  19787465\n",
              "10                                   Militant atheism  ...   4374792\n",
              "11                 Science can answer moral questions  ...   3433437\n",
              "12                  How do you explain consciousness?  ...   2162764\n",
              "13                       Taking imagination seriously  ...   1832930\n",
              "14                               On reading the Koran  ...   1847256\n",
              "15                       The danger of science denial  ...   1838628\n",
              "\n",
              "[16 rows x 5 columns]"
            ]
          },
          "metadata": {
            "tags": []
          },
          "execution_count": 164
        }
      ]
    },
    {
      "cell_type": "markdown",
      "metadata": {
        "id": "X4t7dKPznlx7",
        "colab_type": "text"
      },
      "source": [
        "> **> Discuss**\n",
        "\n",
        "  - When merge two table has top 10 highest views and highest comments, there are **16 video** which might consider the most popular videos on TED Talks.\n",
        "  - From the 10th video on the rank, these videos have many comments although they has significantly view than others. It can be explained by the complex and arguable of problem in video. Ex: **Militant atheism**, **Science can answer moral questions**,... is always the most debate topic in all of time\n",
        "   > But these video can be considered as the quality TED Talks to watch."
      ]
    },
    {
      "cell_type": "markdown",
      "metadata": {
        "id": "iCw7XANbpFfc",
        "colab_type": "text"
      },
      "source": [
        "We can see the correlation between **views** and **comments** in *total data* below:"
      ]
    },
    {
      "cell_type": "code",
      "metadata": {
        "id": "TIzpb3Wbp1rs",
        "colab_type": "code",
        "outputId": "f79e3905-8865-446e-905e-f312044bac63",
        "colab": {
          "base_uri": "https://localhost:8080/",
          "height": 454
        }
      },
      "source": [
        "sns.jointplot(x='views', y='comments', data=df)"
      ],
      "execution_count": 0,
      "outputs": [
        {
          "output_type": "execute_result",
          "data": {
            "text/plain": [
              "<seaborn.axisgrid.JointGrid at 0x7fe11e89a6a0>"
            ]
          },
          "metadata": {
            "tags": []
          },
          "execution_count": 165
        },
        {
          "output_type": "display_data",
          "data": {
            "image/png": "[encoded data removed]",
            "text/plain": [
              "<Figure size 432x432 with 3 Axes>"
            ]
          },
          "metadata": {
            "tags": []
          }
        }
      ]
    },
    {
      "cell_type": "code",
      "metadata": {
        "id": "9kNqgDwCp-4Q",
        "colab_type": "code",
        "outputId": "339cd98b-02d2-49ff-c4e3-af3fc928b155",
        "colab": {
          "base_uri": "https://localhost:8080/",
          "height": 111
        }
      },
      "source": [
        "df[['views', 'comments']].corr()"
      ],
      "execution_count": 0,
      "outputs": [
        {
          "output_type": "execute_result",
          "data": {
            "text/html": [
              "<div>\n",
              "<style scoped>\n",
              "    .dataframe tbody tr th:only-of-type {\n",
              "        vertical-align: middle;\n",
              "    }\n",
              "\n",
              "    .dataframe tbody tr th {\n",
              "        vertical-align: top;\n",
              "    }\n",
              "\n",
              "    .dataframe thead th {\n",
              "        text-align: right;\n",
              "    }\n",
              "</style>\n",
              "<table border=\"1\" class=\"dataframe\">\n",
              "  <thead>\n",
              "    <tr style=\"text-align: right;\">\n",
              "      <th></th>\n",
              "      <th>views</th>\n",
              "      <th>comments</th>\n",
              "    </tr>\n",
              "  </thead>\n",
              "  <tbody>\n",
              "    <tr>\n",
              "      <th>views</th>\n",
              "      <td>1.000000</td>\n",
              "      <td>0.530939</td>\n",
              "    </tr>\n",
              "    <tr>\n",
              "      <th>comments</th>\n",
              "      <td>0.530939</td>\n",
              "      <td>1.000000</td>\n",
              "    </tr>\n",
              "  </tbody>\n",
              "</table>\n",
              "</div>"
            ],
            "text/plain": [
              "             views  comments\n",
              "views     1.000000  0.530939\n",
              "comments  0.530939  1.000000"
            ]
          },
          "metadata": {
            "tags": []
          },
          "execution_count": 166
        }
      ]
    },
    {
      "cell_type": "markdown",
      "metadata": {
        "id": "uQkYwh_FqFFV",
        "colab_type": "text"
      },
      "source": [
        "> From above, we can say the relationship between number of **views** and **comments** is high. It mean, if a video has high number of **views**, it will tend to has high number of **comments**"
      ]
    },
    {
      "cell_type": "markdown",
      "metadata": {
        "id": "r104VB2MrcV6",
        "colab_type": "text"
      },
      "source": [
        "#### > Event\n",
        "- Is a TED Talks well-known relate to **event** where was ogranized?"
      ]
    },
    {
      "cell_type": "markdown",
      "metadata": {
        "id": "4E0E__g24Zh4",
        "colab_type": "text"
      },
      "source": [
        "> Let's check how many event in TED Talks?"
      ]
    },
    {
      "cell_type": "code",
      "metadata": {
        "id": "pALz923B4YcE",
        "colab_type": "code",
        "outputId": "17e4078a-5cd8-42da-c9e8-95d9759cd183",
        "colab": {
          "base_uri": "https://localhost:8080/",
          "height": 204
        }
      },
      "source": [
        "print(\"There are have: \", df['event'].nunique(), \"events.\")\n",
        "print(\"Example (30 events first):\")\n",
        "df['event'].unique()[:30]"
      ],
      "execution_count": 0,
      "outputs": [
        {
          "output_type": "stream",
          "text": [
            "There are have:  355 events.\n",
            "Example (30 events first):\n"
          ],
          "name": "stdout"
        },
        {
          "output_type": "execute_result",
          "data": {
            "text/plain": [
              "array(['TED2006', 'TED2004', 'TED2005', 'TEDGlobal 2005', 'TEDSalon 2006',\n",
              "       'TED2003', 'TED2007', 'TED2002', 'TEDGlobal 2007',\n",
              "       'TEDSalon 2007 Hot Science', 'Skoll World Forum 2007', 'TED2008',\n",
              "       'TED1984', 'TED1990', 'DLD 2007', 'EG 2007', 'TED1998',\n",
              "       'LIFT 2007', 'TED Prize Wish', 'TEDSalon 2009 Compassion',\n",
              "       'Chautauqua Institution', 'Serious Play 2008', 'Taste3 2008',\n",
              "       'TED2001', 'TED in the Field', 'TED2009', 'EG 2008',\n",
              "       'Elizabeth G. Anderson School', 'TEDxUSC', 'TED@State'],\n",
              "      dtype=object)"
            ]
          },
          "metadata": {
            "tags": []
          },
          "execution_count": 167
        }
      ]
    },
    {
      "cell_type": "markdown",
      "metadata": {
        "id": "MvAkiV5C2pNi",
        "colab_type": "text"
      },
      "source": [
        "> Actually, TED Talks has two main type of event: **TED** and **TEDx** type.\n",
        "\n",
        "- **TED talks** cover almost all topics — from science to business to global issues — in more than 100 languages. You can read more about the history of the TED movement here.\n",
        "\n",
        "- **TEDx** was then started as a way to allow groups and individuals to host local, self-organised events around the world.\n",
        "\n",
        "Ref: https://www.quora.com/Whats-the-difference-between-TED-and-TEDx"
      ]
    },
    {
      "cell_type": "markdown",
      "metadata": {
        "id": "i6qkLjSO3hlt",
        "colab_type": "text"
      },
      "source": [
        "> Create **event_type** column. This columns tell which type of event TED Talks."
      ]
    },
    {
      "cell_type": "code",
      "metadata": {
        "id": "wGI4CAXG-FBn",
        "colab_type": "code",
        "outputId": "3e43b682-c985-4a68-a213-7c106a5defe4",
        "colab": {
          "base_uri": "https://localhost:8080/",
          "height": 34
        }
      },
      "source": [
        "df['event'].str.match('(TED)x?').sum()"
      ],
      "execution_count": 0,
      "outputs": [
        {
          "output_type": "execute_result",
          "data": {
            "text/plain": [
              "2439"
            ]
          },
          "metadata": {
            "tags": []
          },
          "execution_count": 168
        }
      ]
    },
    {
      "cell_type": "markdown",
      "metadata": {
        "id": "5yDW_sYe-SyM",
        "colab_type": "text"
      },
      "source": [
        "> There are just **2439**/**2550** videos which has exactly type of event. If not belong any type, assign it to '*none*' string."
      ]
    },
    {
      "cell_type": "code",
      "metadata": {
        "id": "R0Uo4fts36C6",
        "colab_type": "code",
        "outputId": "fd57301d-4e28-4e2b-eb3d-b29280e54d62",
        "colab": {
          "base_uri": "https://localhost:8080/",
          "height": 85
        }
      },
      "source": [
        "import re\n",
        "df['event_type'] = df['event'].apply(lambda x: re.search('(TED)x?', x).group(0) if re.search('(TED)x?', x) else 'none' )\n",
        "df['event_type'].value_counts()"
      ],
      "execution_count": 0,
      "outputs": [
        {
          "output_type": "execute_result",
          "data": {
            "text/plain": [
              "TED     1968\n",
              "TEDx     471\n",
              "none     111\n",
              "Name: event_type, dtype: int64"
            ]
          },
          "metadata": {
            "tags": []
          },
          "execution_count": 169
        }
      ]
    },
    {
      "cell_type": "markdown",
      "metadata": {
        "id": "_enSakfcAoyQ",
        "colab_type": "text"
      },
      "source": [
        "> Caculating the ratio of the number views (or comments) on the number of event type video.\n",
        "\n",
        "=> Which ratio **higher** mean has **more atractive** view/comment on type of event.\n",
        "\n",
        "`radius = sum(views of event_type)/sum(number of video in event_type)`"
      ]
    },
    {
      "cell_type": "code",
      "metadata": {
        "id": "KTUesPD5EV_5",
        "colab_type": "code",
        "outputId": "4099998c-9e40-499f-e179-c76efd147aea",
        "colab": {
          "base_uri": "https://localhost:8080/",
          "height": 142
        }
      },
      "source": [
        "view_on_event_type = df.groupby(by='event_type')['views'].sum()/df['event'].value_counts()[0]\n",
        "view_on_event_type = view_on_event_type.reset_index()\n",
        "view_on_event_type"
      ],
      "execution_count": 0,
      "outputs": [
        {
          "output_type": "execute_result",
          "data": {
            "text/html": [
              "<div>\n",
              "<style scoped>\n",
              "    .dataframe tbody tr th:only-of-type {\n",
              "        vertical-align: middle;\n",
              "    }\n",
              "\n",
              "    .dataframe tbody tr th {\n",
              "        vertical-align: top;\n",
              "    }\n",
              "\n",
              "    .dataframe thead th {\n",
              "        text-align: right;\n",
              "    }\n",
              "</style>\n",
              "<table border=\"1\" class=\"dataframe\">\n",
              "  <thead>\n",
              "    <tr style=\"text-align: right;\">\n",
              "      <th></th>\n",
              "      <th>event_type</th>\n",
              "      <th>views</th>\n",
              "    </tr>\n",
              "  </thead>\n",
              "  <tbody>\n",
              "    <tr>\n",
              "      <th>0</th>\n",
              "      <td>TED</td>\n",
              "      <td>4.144399e+07</td>\n",
              "    </tr>\n",
              "    <tr>\n",
              "      <th>1</th>\n",
              "      <td>TEDx</td>\n",
              "      <td>8.783009e+06</td>\n",
              "    </tr>\n",
              "    <tr>\n",
              "      <th>2</th>\n",
              "      <td>none</td>\n",
              "      <td>1.328462e+06</td>\n",
              "    </tr>\n",
              "  </tbody>\n",
              "</table>\n",
              "</div>"
            ],
            "text/plain": [
              "  event_type         views\n",
              "0        TED  4.144399e+07\n",
              "1       TEDx  8.783009e+06\n",
              "2       none  1.328462e+06"
            ]
          },
          "metadata": {
            "tags": []
          },
          "execution_count": 170
        }
      ]
    },
    {
      "cell_type": "code",
      "metadata": {
        "id": "OuD02TGeFN8a",
        "colab_type": "code",
        "outputId": "7f5b8e8d-ba38-4647-e338-f179920f5ec2",
        "colab": {
          "base_uri": "https://localhost:8080/",
          "height": 313
        }
      },
      "source": [
        "sns.barplot(x='event_type', y='views', data=view_on_event_type)"
      ],
      "execution_count": 0,
      "outputs": [
        {
          "output_type": "execute_result",
          "data": {
            "text/plain": [
              "<matplotlib.axes._subplots.AxesSubplot at 0x7fe11e632cf8>"
            ]
          },
          "metadata": {
            "tags": []
          },
          "execution_count": 171
        },
        {
          "output_type": "display_data",
          "data": {
            "image/png": "[encoded data removed]",
            "text/plain": [
              "<Figure size 432x288 with 1 Axes>"
            ]
          },
          "metadata": {
            "tags": []
          }
        }
      ]
    },
    {
      "cell_type": "markdown",
      "metadata": {
        "id": "ZidPvatsAiaR",
        "colab_type": "text"
      },
      "source": [
        "> From the above chart, *the more popular TED Talks* will be ogranized in **TED event**. \n",
        "\n",
        "This is easy to observe because TED event are presentations in world scope. Meanwhile, TEDx is showed in local scope or just a group. "
      ]
    },
    {
      "cell_type": "markdown",
      "metadata": {
        "id": "ELLb3PKGkWyr",
        "colab_type": "text"
      },
      "source": [
        "#### > Ratings\n",
        "- To know which TED Talks are popular, content of video is **also** *important factor* to decide.\n",
        "- Content in dataset is divided into some type that is stored in **ratings** attribute"
      ]
    },
    {
      "cell_type": "markdown",
      "metadata": {
        "id": "NlNtVJhSlXY3",
        "colab_type": "text"
      },
      "source": [
        "> Let show some ratings TED Talks"
      ]
    },
    {
      "cell_type": "code",
      "metadata": {
        "id": "621p40jTlB_b",
        "colab_type": "code",
        "outputId": "d5aae7c2-4729-4f71-aa3b-f805234c1458",
        "colab": {
          "base_uri": "https://localhost:8080/",
          "height": 119
        }
      },
      "source": [
        "print(df['ratings'].sample(4))\n",
        "print(type(df['ratings'][0]))"
      ],
      "execution_count": 0,
      "outputs": [
        {
          "output_type": "stream",
          "text": [
            "1882    [{'id': 25, 'name': 'OK', 'count': 97}, {'id':...\n",
            "1243    [{'id': 8, 'name': 'Informative', 'count': 506...\n",
            "2253    [{'id': 1, 'name': 'Beautiful', 'count': 1057}...\n",
            "688     [{'id': 25, 'name': 'OK', 'count': 438}, {'id'...\n",
            "Name: ratings, dtype: object\n",
            "<class 'str'>\n"
          ],
          "name": "stdout"
        }
      ]
    },
    {
      "cell_type": "markdown",
      "metadata": {
        "id": "L3TQ_V0mmtcu",
        "colab_type": "text"
      },
      "source": [
        "> **ratings** in dataset is `string` type. We need to convert it to `object` to easy handle.\n",
        "\n",
        "- **rating** is parsed to **list**. \n",
        "- This **list** contains many **object**. \n",
        "- A **object** is include: **id**, **name**, **count**"
      ]
    },
    {
      "cell_type": "code",
      "metadata": {
        "id": "kLIInRkellO0",
        "colab_type": "code",
        "outputId": "2873faf0-2c22-48b0-c78e-8eafd945493f",
        "colab": {
          "base_uri": "https://localhost:8080/",
          "height": 34
        }
      },
      "source": [
        "df['ratings'] = df['ratings'].apply(lambda x: eval(x))\n",
        "type(df['ratings'][0])"
      ],
      "execution_count": 0,
      "outputs": [
        {
          "output_type": "execute_result",
          "data": {
            "text/plain": [
              "list"
            ]
          },
          "metadata": {
            "tags": []
          },
          "execution_count": 173
        }
      ]
    },
    {
      "cell_type": "markdown",
      "metadata": {
        "id": "1an-1S-HpT9u",
        "colab_type": "text"
      },
      "source": [
        "An example **rating** of row in dataset"
      ]
    },
    {
      "cell_type": "code",
      "metadata": {
        "id": "-OCii9-lmasa",
        "colab_type": "code",
        "outputId": "7b87dfb0-cf3f-4094-afa2-c50ed9288737",
        "colab": {
          "base_uri": "https://localhost:8080/",
          "height": 343
        }
      },
      "source": [
        "print(\"Rating at row 0: \\n\", df['ratings'][0])\n",
        "print(\"All name of rating at row 0: \\n\")\n",
        "[x['name'] for x in df['ratings'][0]]"
      ],
      "execution_count": 0,
      "outputs": [
        {
          "output_type": "stream",
          "text": [
            "Rating at row 0: \n",
            " [{'id': 7, 'name': 'Funny', 'count': 19645}, {'id': 1, 'name': 'Beautiful', 'count': 4573}, {'id': 9, 'name': 'Ingenious', 'count': 6073}, {'id': 3, 'name': 'Courageous', 'count': 3253}, {'id': 11, 'name': 'Longwinded', 'count': 387}, {'id': 2, 'name': 'Confusing', 'count': 242}, {'id': 8, 'name': 'Informative', 'count': 7346}, {'id': 22, 'name': 'Fascinating', 'count': 10581}, {'id': 21, 'name': 'Unconvincing', 'count': 300}, {'id': 24, 'name': 'Persuasive', 'count': 10704}, {'id': 23, 'name': 'Jaw-dropping', 'count': 4439}, {'id': 25, 'name': 'OK', 'count': 1174}, {'id': 26, 'name': 'Obnoxious', 'count': 209}, {'id': 10, 'name': 'Inspiring', 'count': 24924}]\n",
            "All name of rating at row 0: \n",
            "\n"
          ],
          "name": "stdout"
        },
        {
          "output_type": "execute_result",
          "data": {
            "text/plain": [
              "['Funny',\n",
              " 'Beautiful',\n",
              " 'Ingenious',\n",
              " 'Courageous',\n",
              " 'Longwinded',\n",
              " 'Confusing',\n",
              " 'Informative',\n",
              " 'Fascinating',\n",
              " 'Unconvincing',\n",
              " 'Persuasive',\n",
              " 'Jaw-dropping',\n",
              " 'OK',\n",
              " 'Obnoxious',\n",
              " 'Inspiring']"
            ]
          },
          "metadata": {
            "tags": []
          },
          "execution_count": 174
        }
      ]
    },
    {
      "cell_type": "markdown",
      "metadata": {
        "id": "i7hUH94DJ6eR",
        "colab_type": "text"
      },
      "source": [
        "> Get all **rating** name"
      ]
    },
    {
      "cell_type": "code",
      "metadata": {
        "id": "sNXMOP_WKPLZ",
        "colab_type": "code",
        "outputId": "f3cbc75f-44e0-405e-aecf-ff8ef9a2a0e0",
        "colab": {
          "base_uri": "https://localhost:8080/",
          "height": 54
        }
      },
      "source": [
        "rate_df = pd.DataFrame(data=df['title'], columns=['title'])\n",
        "rate_names = defaultdict(list)\n",
        "for index, row in df.iterrows():\n",
        "  rates = row['ratings']\n",
        "  for rate in rates:\n",
        "    rate_names[rate['name']].append(rate['count'])\n",
        "rate_names.keys()"
      ],
      "execution_count": 0,
      "outputs": [
        {
          "output_type": "execute_result",
          "data": {
            "text/plain": [
              "dict_keys(['Funny', 'Beautiful', 'Ingenious', 'Courageous', 'Longwinded', 'Confusing', 'Informative', 'Fascinating', 'Unconvincing', 'Persuasive', 'Jaw-dropping', 'OK', 'Obnoxious', 'Inspiring'])"
            ]
          },
          "metadata": {
            "tags": []
          },
          "execution_count": 175
        }
      ]
    },
    {
      "cell_type": "code",
      "metadata": {
        "id": "QwW0hM1j0kgh",
        "colab_type": "code",
        "outputId": "07290b41-51d1-4e8a-99d2-20fa4338ddcf",
        "colab": {
          "base_uri": "https://localhost:8080/",
          "height": 428
        }
      },
      "source": [
        "for index, (key, value) in enumerate(rate_names.items()):\n",
        "  rate_df.insert(loc=index, column=key.lower(), value=value, allow_duplicates=False)\n",
        "rate_df.head()"
      ],
      "execution_count": 0,
      "outputs": [
        {
          "output_type": "execute_result",
          "data": {
            "text/html": [
              "<div>\n",
              "<style scoped>\n",
              "    .dataframe tbody tr th:only-of-type {\n",
              "        vertical-align: middle;\n",
              "    }\n",
              "\n",
              "    .dataframe tbody tr th {\n",
              "        vertical-align: top;\n",
              "    }\n",
              "\n",
              "    .dataframe thead th {\n",
              "        text-align: right;\n",
              "    }\n",
              "</style>\n",
              "<table border=\"1\" class=\"dataframe\">\n",
              "  <thead>\n",
              "    <tr style=\"text-align: right;\">\n",
              "      <th></th>\n",
              "      <th>funny</th>\n",
              "      <th>beautiful</th>\n",
              "      <th>ingenious</th>\n",
              "      <th>courageous</th>\n",
              "      <th>longwinded</th>\n",
              "      <th>confusing</th>\n",
              "      <th>informative</th>\n",
              "      <th>fascinating</th>\n",
              "      <th>unconvincing</th>\n",
              "      <th>persuasive</th>\n",
              "      <th>jaw-dropping</th>\n",
              "      <th>ok</th>\n",
              "      <th>obnoxious</th>\n",
              "      <th>inspiring</th>\n",
              "      <th>title</th>\n",
              "    </tr>\n",
              "  </thead>\n",
              "  <tbody>\n",
              "    <tr>\n",
              "      <th>0</th>\n",
              "      <td>19645</td>\n",
              "      <td>4573</td>\n",
              "      <td>6073</td>\n",
              "      <td>3253</td>\n",
              "      <td>387</td>\n",
              "      <td>242</td>\n",
              "      <td>7346</td>\n",
              "      <td>10581</td>\n",
              "      <td>300</td>\n",
              "      <td>10704</td>\n",
              "      <td>4439</td>\n",
              "      <td>1174</td>\n",
              "      <td>209</td>\n",
              "      <td>24924</td>\n",
              "      <td>Do schools kill creativity?</td>\n",
              "    </tr>\n",
              "    <tr>\n",
              "      <th>1</th>\n",
              "      <td>544</td>\n",
              "      <td>58</td>\n",
              "      <td>56</td>\n",
              "      <td>139</td>\n",
              "      <td>113</td>\n",
              "      <td>62</td>\n",
              "      <td>443</td>\n",
              "      <td>132</td>\n",
              "      <td>258</td>\n",
              "      <td>268</td>\n",
              "      <td>116</td>\n",
              "      <td>203</td>\n",
              "      <td>131</td>\n",
              "      <td>413</td>\n",
              "      <td>Averting the climate crisis</td>\n",
              "    </tr>\n",
              "    <tr>\n",
              "      <th>2</th>\n",
              "      <td>964</td>\n",
              "      <td>60</td>\n",
              "      <td>183</td>\n",
              "      <td>45</td>\n",
              "      <td>78</td>\n",
              "      <td>27</td>\n",
              "      <td>395</td>\n",
              "      <td>166</td>\n",
              "      <td>104</td>\n",
              "      <td>230</td>\n",
              "      <td>54</td>\n",
              "      <td>146</td>\n",
              "      <td>142</td>\n",
              "      <td>230</td>\n",
              "      <td>Simplicity sells</td>\n",
              "    </tr>\n",
              "    <tr>\n",
              "      <th>3</th>\n",
              "      <td>59</td>\n",
              "      <td>291</td>\n",
              "      <td>105</td>\n",
              "      <td>760</td>\n",
              "      <td>53</td>\n",
              "      <td>32</td>\n",
              "      <td>380</td>\n",
              "      <td>132</td>\n",
              "      <td>36</td>\n",
              "      <td>460</td>\n",
              "      <td>230</td>\n",
              "      <td>85</td>\n",
              "      <td>35</td>\n",
              "      <td>1070</td>\n",
              "      <td>Greening the ghetto</td>\n",
              "    </tr>\n",
              "    <tr>\n",
              "      <th>4</th>\n",
              "      <td>1390</td>\n",
              "      <td>942</td>\n",
              "      <td>3202</td>\n",
              "      <td>318</td>\n",
              "      <td>110</td>\n",
              "      <td>72</td>\n",
              "      <td>5433</td>\n",
              "      <td>4606</td>\n",
              "      <td>67</td>\n",
              "      <td>2542</td>\n",
              "      <td>3736</td>\n",
              "      <td>248</td>\n",
              "      <td>61</td>\n",
              "      <td>2893</td>\n",
              "      <td>The best stats you've ever seen</td>\n",
              "    </tr>\n",
              "  </tbody>\n",
              "</table>\n",
              "</div>"
            ],
            "text/plain": [
              "   funny  beautiful  ...  inspiring                            title\n",
              "0  19645       4573  ...      24924      Do schools kill creativity?\n",
              "1    544         58  ...        413      Averting the climate crisis\n",
              "2    964         60  ...        230                 Simplicity sells\n",
              "3     59        291  ...       1070              Greening the ghetto\n",
              "4   1390        942  ...       2893  The best stats you've ever seen\n",
              "\n",
              "[5 rows x 15 columns]"
            ]
          },
          "metadata": {
            "tags": []
          },
          "execution_count": 176
        }
      ]
    },
    {
      "cell_type": "markdown",
      "metadata": {
        "id": "QspRLrCj2mjq",
        "colab_type": "text"
      },
      "source": [
        "> Now we have a rate dataframe which indicate how many a rating name was counted in each TED Talks.\n",
        "\n",
        "Let's calculate **total number of rate** on every video then check if a video has many **rate** that will **popular**?"
      ]
    },
    {
      "cell_type": "code",
      "metadata": {
        "id": "bJX_CA0tuJ_3",
        "colab_type": "code",
        "colab": {}
      },
      "source": [
        "rate_df['total'] = rate_df.loc[:, (rate_df.columns != 'title')].sum(axis=1)"
      ],
      "execution_count": 0,
      "outputs": []
    },
    {
      "cell_type": "code",
      "metadata": {
        "id": "JwrRisyT8LHD",
        "colab_type": "code",
        "outputId": "afc4c73a-9eae-425c-c4ce-d0f84490d418",
        "colab": {
          "base_uri": "https://localhost:8080/",
          "height": 85
        }
      },
      "source": [
        "# swap title, total colum to first colum of dataframe\n",
        "cols = list(rate_df)\n",
        "cols[0], cols[len(cols)-2] = cols[len(cols)-2] , cols[0]\n",
        "cols[1], cols[len(cols)-1] = cols[len(cols)-1], cols[1]\n",
        "rate_df = rate_df.reindex(columns=cols)\n",
        "rate_df.columns"
      ],
      "execution_count": 0,
      "outputs": [
        {
          "output_type": "execute_result",
          "data": {
            "text/plain": [
              "Index(['title', 'total', 'ingenious', 'courageous', 'longwinded', 'confusing',\n",
              "       'informative', 'fascinating', 'unconvincing', 'persuasive',\n",
              "       'jaw-dropping', 'ok', 'obnoxious', 'inspiring', 'funny', 'beautiful'],\n",
              "      dtype='object')"
            ]
          },
          "metadata": {
            "tags": []
          },
          "execution_count": 178
        }
      ]
    },
    {
      "cell_type": "markdown",
      "metadata": {
        "id": "4TwQZoco7maE",
        "colab_type": "text"
      },
      "source": [
        "> Get **top 10** videos have **the most rating**"
      ]
    },
    {
      "cell_type": "code",
      "metadata": {
        "id": "AQaePSJP7lis",
        "colab_type": "code",
        "outputId": "d08c454f-8acf-4053-807f-b54f5f09af7f",
        "colab": {
          "base_uri": "https://localhost:8080/",
          "height": 634
        }
      },
      "source": [
        "rate_df.sort_values(['total'], ascending=False, inplace=True)\n",
        "rate_df[:10]"
      ],
      "execution_count": 0,
      "outputs": [
        {
          "output_type": "execute_result",
          "data": {
            "text/html": [
              "<div>\n",
              "<style scoped>\n",
              "    .dataframe tbody tr th:only-of-type {\n",
              "        vertical-align: middle;\n",
              "    }\n",
              "\n",
              "    .dataframe tbody tr th {\n",
              "        vertical-align: top;\n",
              "    }\n",
              "\n",
              "    .dataframe thead th {\n",
              "        text-align: right;\n",
              "    }\n",
              "</style>\n",
              "<table border=\"1\" class=\"dataframe\">\n",
              "  <thead>\n",
              "    <tr style=\"text-align: right;\">\n",
              "      <th></th>\n",
              "      <th>title</th>\n",
              "      <th>total</th>\n",
              "      <th>ingenious</th>\n",
              "      <th>courageous</th>\n",
              "      <th>longwinded</th>\n",
              "      <th>confusing</th>\n",
              "      <th>informative</th>\n",
              "      <th>fascinating</th>\n",
              "      <th>unconvincing</th>\n",
              "      <th>persuasive</th>\n",
              "      <th>jaw-dropping</th>\n",
              "      <th>ok</th>\n",
              "      <th>obnoxious</th>\n",
              "      <th>inspiring</th>\n",
              "      <th>funny</th>\n",
              "      <th>beautiful</th>\n",
              "    </tr>\n",
              "  </thead>\n",
              "  <tbody>\n",
              "    <tr>\n",
              "      <th>0</th>\n",
              "      <td>Do schools kill creativity?</td>\n",
              "      <td>93850</td>\n",
              "      <td>6073</td>\n",
              "      <td>3253</td>\n",
              "      <td>387</td>\n",
              "      <td>242</td>\n",
              "      <td>7346</td>\n",
              "      <td>10581</td>\n",
              "      <td>300</td>\n",
              "      <td>10704</td>\n",
              "      <td>4439</td>\n",
              "      <td>1174</td>\n",
              "      <td>209</td>\n",
              "      <td>24924</td>\n",
              "      <td>19645</td>\n",
              "      <td>4573</td>\n",
              "    </tr>\n",
              "    <tr>\n",
              "      <th>201</th>\n",
              "      <td>My stroke of insight</td>\n",
              "      <td>70665</td>\n",
              "      <td>1228</td>\n",
              "      <td>7842</td>\n",
              "      <td>398</td>\n",
              "      <td>289</td>\n",
              "      <td>5430</td>\n",
              "      <td>14447</td>\n",
              "      <td>550</td>\n",
              "      <td>1704</td>\n",
              "      <td>10464</td>\n",
              "      <td>636</td>\n",
              "      <td>356</td>\n",
              "      <td>16918</td>\n",
              "      <td>966</td>\n",
              "      <td>9437</td>\n",
              "    </tr>\n",
              "    <tr>\n",
              "      <th>1346</th>\n",
              "      <td>Your body language may shape who you are</td>\n",
              "      <td>65968</td>\n",
              "      <td>1428</td>\n",
              "      <td>6305</td>\n",
              "      <td>338</td>\n",
              "      <td>197</td>\n",
              "      <td>9787</td>\n",
              "      <td>11111</td>\n",
              "      <td>335</td>\n",
              "      <td>6217</td>\n",
              "      <td>3586</td>\n",
              "      <td>1129</td>\n",
              "      <td>155</td>\n",
              "      <td>21210</td>\n",
              "      <td>938</td>\n",
              "      <td>3232</td>\n",
              "    </tr>\n",
              "    <tr>\n",
              "      <th>837</th>\n",
              "      <td>The power of vulnerability</td>\n",
              "      <td>60078</td>\n",
              "      <td>1094</td>\n",
              "      <td>8280</td>\n",
              "      <td>283</td>\n",
              "      <td>155</td>\n",
              "      <td>4561</td>\n",
              "      <td>4638</td>\n",
              "      <td>233</td>\n",
              "      <td>3510</td>\n",
              "      <td>2100</td>\n",
              "      <td>500</td>\n",
              "      <td>113</td>\n",
              "      <td>21444</td>\n",
              "      <td>5225</td>\n",
              "      <td>7942</td>\n",
              "    </tr>\n",
              "    <tr>\n",
              "      <th>677</th>\n",
              "      <td>How great leaders inspire action</td>\n",
              "      <td>56779</td>\n",
              "      <td>3413</td>\n",
              "      <td>1161</td>\n",
              "      <td>390</td>\n",
              "      <td>112</td>\n",
              "      <td>6600</td>\n",
              "      <td>7440</td>\n",
              "      <td>930</td>\n",
              "      <td>8845</td>\n",
              "      <td>2659</td>\n",
              "      <td>1341</td>\n",
              "      <td>294</td>\n",
              "      <td>21564</td>\n",
              "      <td>390</td>\n",
              "      <td>1640</td>\n",
              "    </tr>\n",
              "    <tr>\n",
              "      <th>1030</th>\n",
              "      <td>How to live before you die</td>\n",
              "      <td>38158</td>\n",
              "      <td>1197</td>\n",
              "      <td>4151</td>\n",
              "      <td>158</td>\n",
              "      <td>138</td>\n",
              "      <td>1368</td>\n",
              "      <td>3364</td>\n",
              "      <td>201</td>\n",
              "      <td>2606</td>\n",
              "      <td>2051</td>\n",
              "      <td>863</td>\n",
              "      <td>134</td>\n",
              "      <td>17290</td>\n",
              "      <td>783</td>\n",
              "      <td>3854</td>\n",
              "    </tr>\n",
              "    <tr>\n",
              "      <th>1129</th>\n",
              "      <td>The happy secret to better work</td>\n",
              "      <td>32180</td>\n",
              "      <td>1162</td>\n",
              "      <td>471</td>\n",
              "      <td>78</td>\n",
              "      <td>61</td>\n",
              "      <td>3886</td>\n",
              "      <td>2529</td>\n",
              "      <td>82</td>\n",
              "      <td>3426</td>\n",
              "      <td>683</td>\n",
              "      <td>206</td>\n",
              "      <td>61</td>\n",
              "      <td>11213</td>\n",
              "      <td>7315</td>\n",
              "      <td>1007</td>\n",
              "    </tr>\n",
              "    <tr>\n",
              "      <th>1163</th>\n",
              "      <td>The power of introverts</td>\n",
              "      <td>30037</td>\n",
              "      <td>830</td>\n",
              "      <td>3944</td>\n",
              "      <td>163</td>\n",
              "      <td>83</td>\n",
              "      <td>3623</td>\n",
              "      <td>3157</td>\n",
              "      <td>147</td>\n",
              "      <td>3365</td>\n",
              "      <td>442</td>\n",
              "      <td>469</td>\n",
              "      <td>80</td>\n",
              "      <td>10218</td>\n",
              "      <td>1049</td>\n",
              "      <td>2467</td>\n",
              "    </tr>\n",
              "    <tr>\n",
              "      <th>176</th>\n",
              "      <td>Underwater astonishments</td>\n",
              "      <td>30011</td>\n",
              "      <td>543</td>\n",
              "      <td>216</td>\n",
              "      <td>79</td>\n",
              "      <td>95</td>\n",
              "      <td>3875</td>\n",
              "      <td>8448</td>\n",
              "      <td>80</td>\n",
              "      <td>236</td>\n",
              "      <td>8328</td>\n",
              "      <td>322</td>\n",
              "      <td>126</td>\n",
              "      <td>1647</td>\n",
              "      <td>815</td>\n",
              "      <td>5201</td>\n",
              "    </tr>\n",
              "    <tr>\n",
              "      <th>530</th>\n",
              "      <td>The danger of a single story</td>\n",
              "      <td>29775</td>\n",
              "      <td>744</td>\n",
              "      <td>2817</td>\n",
              "      <td>109</td>\n",
              "      <td>85</td>\n",
              "      <td>2687</td>\n",
              "      <td>2983</td>\n",
              "      <td>103</td>\n",
              "      <td>3002</td>\n",
              "      <td>948</td>\n",
              "      <td>333</td>\n",
              "      <td>78</td>\n",
              "      <td>9566</td>\n",
              "      <td>713</td>\n",
              "      <td>5607</td>\n",
              "    </tr>\n",
              "  </tbody>\n",
              "</table>\n",
              "</div>"
            ],
            "text/plain": [
              "                                         title  total  ...  funny  beautiful\n",
              "0                  Do schools kill creativity?  93850  ...  19645       4573\n",
              "201                       My stroke of insight  70665  ...    966       9437\n",
              "1346  Your body language may shape who you are  65968  ...    938       3232\n",
              "837                 The power of vulnerability  60078  ...   5225       7942\n",
              "677           How great leaders inspire action  56779  ...    390       1640\n",
              "1030                How to live before you die  38158  ...    783       3854\n",
              "1129           The happy secret to better work  32180  ...   7315       1007\n",
              "1163                   The power of introverts  30037  ...   1049       2467\n",
              "176                   Underwater astonishments  30011  ...    815       5201\n",
              "530               The danger of a single story  29775  ...    713       5607\n",
              "\n",
              "[10 rows x 16 columns]"
            ]
          },
          "metadata": {
            "tags": []
          },
          "execution_count": 179
        }
      ]
    },
    {
      "cell_type": "code",
      "metadata": {
        "id": "uPqc5PYOhJJK",
        "colab_type": "code",
        "outputId": "df2d46bf-972f-4074-a755-6495737a8b6a",
        "colab": {
          "base_uri": "https://localhost:8080/",
          "height": 308
        }
      },
      "source": [
        "sns.barplot(x='total', y='title', data=rate_df[:10])"
      ],
      "execution_count": 0,
      "outputs": [
        {
          "output_type": "execute_result",
          "data": {
            "text/plain": [
              "<matplotlib.axes._subplots.AxesSubplot at 0x7fe11e5e9da0>"
            ]
          },
          "metadata": {
            "tags": []
          },
          "execution_count": 180
        },
        {
          "output_type": "display_data",
          "data": {
            "image/png": "[encoded data removed]",
            "text/plain": [
              "<Figure size 432x288 with 1 Axes>"
            ]
          },
          "metadata": {
            "tags": []
          }
        }
      ]
    },
    {
      "cell_type": "markdown",
      "metadata": {
        "id": "OysTxGJ6lIHH",
        "colab_type": "text"
      },
      "source": [
        "> Now there are **top 10** rating on TED Talks. These videos should be famous.\n",
        "\n",
        "Let's show the correlation among **number of rating**, **number of views** and **number of comments**"
      ]
    },
    {
      "cell_type": "code",
      "metadata": {
        "id": "S0pzkDtwlHX9",
        "colab_type": "code",
        "outputId": "58c6cf9d-760c-4dc9-8c2f-c515b5925c37",
        "colab": {
          "base_uri": "https://localhost:8080/",
          "height": 142
        }
      },
      "source": [
        "rating_update_df = df.merge(rate_df, how = 'left', on = ['title'])\n",
        "rating_update_df[['views','comments','total']].corr()"
      ],
      "execution_count": 0,
      "outputs": [
        {
          "output_type": "execute_result",
          "data": {
            "text/html": [
              "<div>\n",
              "<style scoped>\n",
              "    .dataframe tbody tr th:only-of-type {\n",
              "        vertical-align: middle;\n",
              "    }\n",
              "\n",
              "    .dataframe tbody tr th {\n",
              "        vertical-align: top;\n",
              "    }\n",
              "\n",
              "    .dataframe thead th {\n",
              "        text-align: right;\n",
              "    }\n",
              "</style>\n",
              "<table border=\"1\" class=\"dataframe\">\n",
              "  <thead>\n",
              "    <tr style=\"text-align: right;\">\n",
              "      <th></th>\n",
              "      <th>views</th>\n",
              "      <th>comments</th>\n",
              "      <th>total</th>\n",
              "    </tr>\n",
              "  </thead>\n",
              "  <tbody>\n",
              "    <tr>\n",
              "      <th>views</th>\n",
              "      <td>1.000000</td>\n",
              "      <td>0.530939</td>\n",
              "      <td>0.865586</td>\n",
              "    </tr>\n",
              "    <tr>\n",
              "      <th>comments</th>\n",
              "      <td>0.530939</td>\n",
              "      <td>1.000000</td>\n",
              "      <td>0.644329</td>\n",
              "    </tr>\n",
              "    <tr>\n",
              "      <th>total</th>\n",
              "      <td>0.865586</td>\n",
              "      <td>0.644329</td>\n",
              "      <td>1.000000</td>\n",
              "    </tr>\n",
              "  </tbody>\n",
              "</table>\n",
              "</div>"
            ],
            "text/plain": [
              "             views  comments     total\n",
              "views     1.000000  0.530939  0.865586\n",
              "comments  0.530939  1.000000  0.644329\n",
              "total     0.865586  0.644329  1.000000"
            ]
          },
          "metadata": {
            "tags": []
          },
          "execution_count": 181
        }
      ]
    },
    {
      "cell_type": "code",
      "metadata": {
        "id": "zkdvkkbznS1-",
        "colab_type": "code",
        "outputId": "15d1e924-a64a-4a58-e6a5-fee7b783a6c8",
        "colab": {
          "base_uri": "https://localhost:8080/",
          "height": 308
        }
      },
      "source": [
        "sns.regplot(x=\"views\", y=\"total\", data=rating_update_df)\n",
        "plt.xlabel(\"Views\")\n",
        "plt.ylabel(\"Total Rating\")"
      ],
      "execution_count": 0,
      "outputs": [
        {
          "output_type": "execute_result",
          "data": {
            "text/plain": [
              "Text(0, 0.5, 'Total Rating')"
            ]
          },
          "metadata": {
            "tags": []
          },
          "execution_count": 182
        },
        {
          "output_type": "display_data",
          "data": {
            "image/png": "[encoded data removed]",
            "text/plain": [
              "<Figure size 432x288 with 1 Axes>"
            ]
          },
          "metadata": {
            "tags": []
          }
        }
      ]
    },
    {
      "cell_type": "code",
      "metadata": {
        "id": "UmHLLcFCoHUm",
        "colab_type": "code",
        "outputId": "9e581739-3e9a-4e6b-d2c5-f9c029448f77",
        "colab": {
          "base_uri": "https://localhost:8080/",
          "height": 308
        }
      },
      "source": [
        "sns.regplot(x=\"comments\", y=\"total\", data=rating_update_df)\n",
        "plt.xlabel(\"Comments\")\n",
        "plt.ylabel(\"Total Rating\")"
      ],
      "execution_count": 0,
      "outputs": [
        {
          "output_type": "execute_result",
          "data": {
            "text/plain": [
              "Text(0, 0.5, 'Total Rating')"
            ]
          },
          "metadata": {
            "tags": []
          },
          "execution_count": 183
        },
        {
          "output_type": "display_data",
          "data": {
            "image/png": "[encoded data removed]",
            "text/plain": [
              "<Figure size 432x288 with 1 Axes>"
            ]
          },
          "metadata": {
            "tags": []
          }
        }
      ]
    },
    {
      "cell_type": "markdown",
      "metadata": {
        "id": "hQp1_s7moXX0",
        "colab_type": "text"
      },
      "source": [
        "> From **correlation** and **two chart** above, the videos will has great of deal **rating** if it has high number **views** or **comments**\n",
        "\n",
        "That makes sense, because viewer tend to watch the TED Talks before they **rate** it. **Comments** has also correlated with **rating**, but not as much as **views**"
      ]
    },
    {
      "cell_type": "markdown",
      "metadata": {
        "id": "lhdiEZsZuvy4",
        "colab_type": "text"
      },
      "source": [
        "#### > Tags\n",
        "- **tag** of video ***can*** also affect to number of **views** or in other words the popular TED Talks.\n",
        "- Thus, some people might search video base on **tag** (e.g: education, science, AI,...). So, these TED Talks will be famous."
      ]
    },
    {
      "cell_type": "code",
      "metadata": {
        "id": "mcGrrsDmx4HE",
        "colab_type": "code",
        "outputId": "3fa4d9b8-71bb-4172-fcf3-e35ec0102104",
        "colab": {
          "base_uri": "https://localhost:8080/",
          "height": 119
        }
      },
      "source": [
        "df['tags'] = df['tags'].apply(lambda x: eval(x))\n",
        "df['tags'].head()"
      ],
      "execution_count": 0,
      "outputs": [
        {
          "output_type": "execute_result",
          "data": {
            "text/plain": [
              "0    [children, creativity, culture, dance, educati...\n",
              "1    [alternative energy, cars, climate change, cul...\n",
              "2    [computers, entertainment, interface design, m...\n",
              "3    [MacArthur grant, activism, business, cities, ...\n",
              "4    [Africa, Asia, Google, demo, economics, global...\n",
              "Name: tags, dtype: object"
            ]
          },
          "metadata": {
            "tags": []
          },
          "execution_count": 184
        }
      ]
    },
    {
      "cell_type": "code",
      "metadata": {
        "id": "OCCSUieVzCf2",
        "colab_type": "code",
        "colab": {}
      },
      "source": [
        "# Get list tag name\n",
        "tags_dict = defaultdict(int)\n",
        "for tags in df['tags']:\n",
        "  for tag in tags:\n",
        "    if tag in tags_dict:\n",
        "      tags_dict[tag] += 1\n",
        "    else:\n",
        "      tags_dict[tag] = 1"
      ],
      "execution_count": 0,
      "outputs": []
    },
    {
      "cell_type": "markdown",
      "metadata": {
        "id": "m43_DjMFwxr5",
        "colab_type": "text"
      },
      "source": [
        "Get **top 10** tags has the most mention on videos"
      ]
    },
    {
      "cell_type": "code",
      "metadata": {
        "id": "HCTHMj_K4-qZ",
        "colab_type": "code",
        "outputId": "8c06734e-4ee6-4b76-dc12-1d6e3fad1269",
        "colab": {
          "base_uri": "https://localhost:8080/",
          "height": 187
        }
      },
      "source": [
        "from collections import Counter \n",
        "top_10_tags = Counter(tags_dict).most_common(10)\n",
        "top_10_tags"
      ],
      "execution_count": 0,
      "outputs": [
        {
          "output_type": "execute_result",
          "data": {
            "text/plain": [
              "[('technology', 727),\n",
              " ('science', 567),\n",
              " ('global issues', 501),\n",
              " ('culture', 486),\n",
              " ('TEDx', 450),\n",
              " ('design', 418),\n",
              " ('business', 348),\n",
              " ('entertainment', 299),\n",
              " ('health', 236),\n",
              " ('innovation', 229)]"
            ]
          },
          "metadata": {
            "tags": []
          },
          "execution_count": 186
        }
      ]
    },
    {
      "cell_type": "code",
      "metadata": {
        "id": "uxch-sTT1XCl",
        "colab_type": "code",
        "outputId": "3861abfb-c482-40a9-c7af-0b6c3a06c7a9",
        "colab": {
          "base_uri": "https://localhost:8080/",
          "height": 187
        }
      },
      "source": [
        "top_10_tag_names = [x[0] for x in top_10_tags]\n",
        "top_10_tag_names"
      ],
      "execution_count": 0,
      "outputs": [
        {
          "output_type": "execute_result",
          "data": {
            "text/plain": [
              "['technology',\n",
              " 'science',\n",
              " 'global issues',\n",
              " 'culture',\n",
              " 'TEDx',\n",
              " 'design',\n",
              " 'business',\n",
              " 'entertainment',\n",
              " 'health',\n",
              " 'innovation']"
            ]
          },
          "metadata": {
            "tags": []
          },
          "execution_count": 187
        }
      ]
    },
    {
      "cell_type": "markdown",
      "metadata": {
        "id": "CtEz7ArGyag6",
        "colab_type": "text"
      },
      "source": [
        "> That is **top 10 tag name** in dataset.\n",
        "\n",
        "Check **top 10 views** videos has any **top 10 tag name**?"
      ]
    },
    {
      "cell_type": "code",
      "metadata": {
        "colab_type": "code",
        "id": "A5myLW2hBGWo",
        "colab": {}
      },
      "source": [
        "def getInTop10Tag(tags):\n",
        "  top_tag = []\n",
        "  for tag in tags:\n",
        "    if tag in top_10_tag_names:\n",
        "      top_tag.append(tag)\n",
        "  return top_tag"
      ],
      "execution_count": 0,
      "outputs": []
    },
    {
      "cell_type": "code",
      "metadata": {
        "id": "JBmKaYxEwASV",
        "colab_type": "code",
        "outputId": "c8d1e6be-ea2f-43a9-e6b7-18f003d5424f",
        "colab": {
          "base_uri": "https://localhost:8080/",
          "height": 359
        }
      },
      "source": [
        "df['in_top_10_tag'] = df['tags'].apply(lambda x: getInTop10Tag(x))\n",
        "top_tags_df = df.sort_values(by=['views'], ascending=False)[['title', 'views', 'comments', 'in_top_10_tag']]\n",
        "top_tags_df[:10]"
      ],
      "execution_count": 0,
      "outputs": [
        {
          "output_type": "execute_result",
          "data": {
            "text/html": [
              "<div>\n",
              "<style scoped>\n",
              "    .dataframe tbody tr th:only-of-type {\n",
              "        vertical-align: middle;\n",
              "    }\n",
              "\n",
              "    .dataframe tbody tr th {\n",
              "        vertical-align: top;\n",
              "    }\n",
              "\n",
              "    .dataframe thead th {\n",
              "        text-align: right;\n",
              "    }\n",
              "</style>\n",
              "<table border=\"1\" class=\"dataframe\">\n",
              "  <thead>\n",
              "    <tr style=\"text-align: right;\">\n",
              "      <th></th>\n",
              "      <th>title</th>\n",
              "      <th>views</th>\n",
              "      <th>comments</th>\n",
              "      <th>in_top_10_tag</th>\n",
              "    </tr>\n",
              "  </thead>\n",
              "  <tbody>\n",
              "    <tr>\n",
              "      <th>0</th>\n",
              "      <td>Do schools kill creativity?</td>\n",
              "      <td>47227110</td>\n",
              "      <td>4553</td>\n",
              "      <td>[culture]</td>\n",
              "    </tr>\n",
              "    <tr>\n",
              "      <th>1346</th>\n",
              "      <td>Your body language may shape who you are</td>\n",
              "      <td>43155405</td>\n",
              "      <td>2290</td>\n",
              "      <td>[business]</td>\n",
              "    </tr>\n",
              "    <tr>\n",
              "      <th>677</th>\n",
              "      <td>How great leaders inspire action</td>\n",
              "      <td>34309432</td>\n",
              "      <td>1930</td>\n",
              "      <td>[TEDx, business]</td>\n",
              "    </tr>\n",
              "    <tr>\n",
              "      <th>837</th>\n",
              "      <td>The power of vulnerability</td>\n",
              "      <td>31168150</td>\n",
              "      <td>1927</td>\n",
              "      <td>[TEDx, culture]</td>\n",
              "    </tr>\n",
              "    <tr>\n",
              "      <th>452</th>\n",
              "      <td>10 things you didn't know about orgasm</td>\n",
              "      <td>22270883</td>\n",
              "      <td>354</td>\n",
              "      <td>[culture, science]</td>\n",
              "    </tr>\n",
              "    <tr>\n",
              "      <th>1776</th>\n",
              "      <td>How to speak so that people want to listen</td>\n",
              "      <td>21594632</td>\n",
              "      <td>297</td>\n",
              "      <td>[culture]</td>\n",
              "    </tr>\n",
              "    <tr>\n",
              "      <th>201</th>\n",
              "      <td>My stroke of insight</td>\n",
              "      <td>21190883</td>\n",
              "      <td>2877</td>\n",
              "      <td>[global issues, science]</td>\n",
              "    </tr>\n",
              "    <tr>\n",
              "      <th>5</th>\n",
              "      <td>Why we do what we do</td>\n",
              "      <td>20685401</td>\n",
              "      <td>672</td>\n",
              "      <td>[business, culture, entertainment]</td>\n",
              "    </tr>\n",
              "    <tr>\n",
              "      <th>2114</th>\n",
              "      <td>This is what happens when you reply to spam email</td>\n",
              "      <td>20475972</td>\n",
              "      <td>150</td>\n",
              "      <td>[technology]</td>\n",
              "    </tr>\n",
              "    <tr>\n",
              "      <th>1416</th>\n",
              "      <td>Looks aren't everything. Believe me, I'm a model.</td>\n",
              "      <td>19787465</td>\n",
              "      <td>846</td>\n",
              "      <td>[TEDx, culture]</td>\n",
              "    </tr>\n",
              "  </tbody>\n",
              "</table>\n",
              "</div>"
            ],
            "text/plain": [
              "                                                  title  ...                       in_top_10_tag\n",
              "0                           Do schools kill creativity?  ...                           [culture]\n",
              "1346           Your body language may shape who you are  ...                          [business]\n",
              "677                    How great leaders inspire action  ...                    [TEDx, business]\n",
              "837                          The power of vulnerability  ...                     [TEDx, culture]\n",
              "452              10 things you didn't know about orgasm  ...                  [culture, science]\n",
              "1776         How to speak so that people want to listen  ...                           [culture]\n",
              "201                                My stroke of insight  ...            [global issues, science]\n",
              "5                                  Why we do what we do  ...  [business, culture, entertainment]\n",
              "2114  This is what happens when you reply to spam email  ...                        [technology]\n",
              "1416  Looks aren't everything. Believe me, I'm a model.  ...                     [TEDx, culture]\n",
              "\n",
              "[10 rows x 4 columns]"
            ]
          },
          "metadata": {
            "tags": []
          },
          "execution_count": 189
        }
      ]
    },
    {
      "cell_type": "markdown",
      "metadata": {
        "id": "oHi9DEwrIgUu",
        "colab_type": "text"
      },
      "source": [
        "> All video has **top 10 tag name**"
      ]
    },
    {
      "cell_type": "code",
      "metadata": {
        "id": "uHJU7-oHCFG1",
        "colab_type": "code",
        "outputId": "197d328f-4f7a-4d92-aebe-4c40d003ffa5",
        "colab": {
          "base_uri": "https://localhost:8080/",
          "height": 68
        }
      },
      "source": [
        "top_tags_df['in_top_10_tag'].apply(lambda x:  len(x) != 0).value_counts()"
      ],
      "execution_count": 0,
      "outputs": [
        {
          "output_type": "execute_result",
          "data": {
            "text/plain": [
              "True     2188\n",
              "False     362\n",
              "Name: in_top_10_tag, dtype: int64"
            ]
          },
          "metadata": {
            "tags": []
          },
          "execution_count": 190
        }
      ]
    },
    {
      "cell_type": "code",
      "metadata": {
        "id": "wKamv_YSJVRm",
        "colab_type": "code",
        "outputId": "a13fd075-15a8-48fc-bf97-ed47500c63bb",
        "colab": {
          "base_uri": "https://localhost:8080/",
          "height": 308
        }
      },
      "source": [
        "count_tag_df = top_tags_df['in_top_10_tag'].apply(lambda x:  len(x) != 0).value_counts().reset_index()\n",
        "sns.barplot(x='index', y='in_top_10_tag', data=count_tag_df)\n",
        "plt.xlabel('In top 10 tag name')\n",
        "plt.ylabel('Number TED Talks')"
      ],
      "execution_count": 0,
      "outputs": [
        {
          "output_type": "execute_result",
          "data": {
            "text/plain": [
              "Text(0, 0.5, 'Number TED Talks')"
            ]
          },
          "metadata": {
            "tags": []
          },
          "execution_count": 191
        },
        {
          "output_type": "display_data",
          "data": {
            "image/png": "[encoded data removed]",
            "text/plain": [
              "<Figure size 432x288 with 1 Axes>"
            ]
          },
          "metadata": {
            "tags": []
          }
        }
      ]
    },
    {
      "cell_type": "markdown",
      "metadata": {
        "id": "lrW5gyJIKway",
        "colab_type": "text"
      },
      "source": [
        "> From number video has top 10 tag name and the chart, we can conclude that **top 10 tag** in TED Talks **did not affect** on the popular of video.\n",
        "\n",
        "Since **number of videos** has **top tag name** is 2188/2550 which is **85.8%** percent. That doesn't make sense on the popular TED Talks."
      ]
    },
    {
      "cell_type": "markdown",
      "metadata": {
        "id": "MoFQpQMjMNgz",
        "colab_type": "text"
      },
      "source": [
        "## 2. The 80/20 (**Pareto Principle**) rule is true on TED Talks"
      ]
    },
    {
      "cell_type": "markdown",
      "metadata": {
        "id": "U12Zz5HINngz",
        "colab_type": "text"
      },
      "source": [
        ""
      ]
    },
    {
      "cell_type": "code",
      "metadata": {
        "id": "QmvaDoRDMw9w",
        "colab_type": "code",
        "colab": {}
      },
      "source": [
        ""
      ],
      "execution_count": 0,
      "outputs": []
    }
  ]
}