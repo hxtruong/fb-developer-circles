{
  "nbformat": 4,
  "nbformat_minor": 0,
  "metadata": {
    "kernelspec": {
      "display_name": "Python 3",
      "language": "python",
      "name": "python3"
    },
    "language_info": {
      "codemirror_mode": {
        "name": "ipython",
        "version": 3
      },
      "file_extension": ".py",
      "mimetype": "text/x-python",
      "name": "python",
      "nbconvert_exporter": "python",
      "pygments_lexer": "ipython3",
      "version": "3.7.3"
    },
    "colab": {
      "name": "Assignment Week 4 - TED Talks.ipynb",
      "version": "0.3.2",
      "provenance": [],
      "collapsed_sections": [
        "SmBq82M4xx42",
        "z5kR7ve90Acu",
        "pk6Sw06R0NUJ",
        "b0gaboD_09qT",
        "pBdnPNIaXZnM",
        "RVNuDCSbbpDf",
        "toklHiDnVWvf",
        "r104VB2MrcV6",
        "ELLb3PKGkWyr",
        "lhdiEZsZuvy4",
        "MoFQpQMjMNgz"
      ],
      "include_colab_link": true
    }
  },
  "cells": [
    {
      "cell_type": "markdown",
      "metadata": {
        "id": "view-in-github",
        "colab_type": "text"
      },
      "source": [
        "<a href=\"https://colab.research.google.com/github/hxtruong/fb-developer-circles/blob/master/week_5/Assignment_Week_4_TED_Talks.ipynb\" target=\"_parent\"><img src=\"https://colab.research.google.com/assets/colab-badge.svg\" alt=\"Open In Colab\"/></a>"
      ]
    },
    {
      "cell_type": "markdown",
      "metadata": {
        "id": "okdOQ5m9Qgbz",
        "colab_type": "text"
      },
      "source": [
        "# TED Talks\n",
        "\n",
        "![](https://psmarketingimages.s3.amazonaws.com/blog/wp-content/uploads/2017/04/23103819/TED-Talks-for-Small-Business-and-Entrepreneurs.jpg)\n",
        "\n",
        "_For more information about the dataset, read [here](https://www.kaggle.com/rounakbanik/ted-talks)._\n",
        "\n",
        "## Information \n",
        "- Hoang Xuan Truong\n",
        "\n",
        "## Tasks\n",
        "- Read the source and do some quick research to understand more about the dataset and its topic\n",
        "- Clean the data\n",
        "- Perform Exploratory Data Analysis on the dataset\n",
        "- Analyze the data more deeply and extract insights\n",
        "- Visualize your analysis on Google Data Studio\n",
        "- Present your works in front of the class and guests next Monday\n",
        "\n",
        "## Submission Guide\n",
        "- Create a Github repository for your project\n",
        "- Upload the dataset (.csv file) and the Jupyter Notebook to your Github repository. In the Jupyter Notebook, **include the link to your Google Data Studio report**.\n",
        "- Submit your works through this [Google Form](https://forms.gle/oxtXpGfS8JapVj3V8).\n",
        "\n",
        "## Tips for Data Cleaning, Manipulation & Visualization\n",
        "- Here are some of our tips for Data Cleaning, Manipulation & Visualization. [Click here](https://hackmd.io/cBNV7E6TT2WMliQC-GTw1A)\n",
        "\n",
        "_____________________________\n",
        "\n",
        "## Some Hints for This Dataset:\n",
        "- The `ratings` column is in dictionary format. How should we handle them?\n",
        "- Same for `related_talks` and `tags` column\n",
        "- Can you find the `year` of the talks?\n",
        "- And more..."
      ]
    },
    {
      "cell_type": "markdown",
      "metadata": {
        "id": "74SyH7-kkIiM",
        "colab_type": "text"
      },
      "source": [
        "# Find something fun about TED Talks"
      ]
    },
    {
      "cell_type": "markdown",
      "metadata": {
        "id": "yNCZBGf3kgGo",
        "colab_type": "text"
      },
      "source": [
        "### Intro\n",
        "TED Talks was founded in 1984 by Richard Saulman. It is place for peole share the incredible ideas about *Technology*, *Entertainment* and *Design* to everyone.\n",
        "\n",
        "![TED Talks logo](https://raw.githubusercontent.com/hxtruong/dataset/master/ted-talks/TED.gif)\n",
        "\n",
        "In recent years, the number of video is organized by TED Talks which is \n",
        "increasing in many countries, include of Vietnam. Althought these video are shared by experts from theirs field, I just want to watch **The most popular TED Talks** videos in the valuable videos.\n",
        "\n",
        "### Purpose\n",
        "\n",
        "1. Finding **the most popular videos** to watching base on some **factors**\n",
        "2. Checking the highest views/comments videos is true in 80/20 (**Pareto Principle**) rule on total views/comments TED Talks\n",
        "3. **Predicting** the trend video in fields (*Tech, Entertainment or Design*) via number of videos"
      ]
    },
    {
      "cell_type": "markdown",
      "metadata": {
        "id": "SmBq82M4xx42",
        "colab_type": "text"
      },
      "source": [
        "## What data we have? \n",
        "*(Refer kaggle)*\n",
        "#### Dataset contains two `csv` files:\n",
        " \n",
        " - ted_main.csv : Contains data on actual TED Talk metadata and TED Talk speakers\n",
        " - transcripts.csv : Contains transcript and URL information for TED Talks\n",
        "\n",
        "### Columns in data\n",
        "#### ted_main.csv\n",
        " - name: The official name of the TED Talk. Includes the title and the speaker.\n",
        " - title: The title of the talk\n",
        " - description: A blurb of what the talk is about.\n",
        " - main_speaker: The first named speaker of the talk.\n",
        " - speaker_occupation: The occupation of the main speaker.\n",
        " - num_speaker: The number of speakers in the talk.\n",
        " - duration: The duration of the talk in seconds.\n",
        " - event: The TED/TEDx event where the talk took place.\n",
        " - film_date: The Unix timestamp of the filming.\n",
        " - published_date: The Unix timestamp for the publication of the talk on TED.com\n",
        " - comments: The number of first level comments made on the talk.\n",
        " - tags: The themes associated with the talk.\n",
        " - languages: The number of languages in which the talk is available.\n",
        " - ratings: A stringified dictionary of the various ratings given to the talk (inspiring, fascinating, jaw dropping, etc.)\n",
        " - related_talks: A list of dictionaries of recommended talks to watch next.\n",
        " - url: The URL of the talk.\n",
        " - views: The number of views on the talk.\n",
        "\n",
        "#### transcripts.csv\n",
        " - transcript: The official English transcript of the talk.\n",
        " - url: The URL of the talk"
      ]
    },
    {
      "cell_type": "markdown",
      "metadata": {
        "id": "z5kR7ve90Acu",
        "colab_type": "text"
      },
      "source": [
        "### Load Libraries"
      ]
    },
    {
      "cell_type": "code",
      "metadata": {
        "id": "FHMijZAuQgb0",
        "colab_type": "code",
        "colab": {}
      },
      "source": [
        "import pandas as pd\n",
        "import numpy as np\n",
        "import matplotlib.pyplot as plt\n",
        "import seaborn as sns\n",
        "from collections import defaultdict\n",
        "%matplotlib inline\n",
        "sns.set()\n",
        "\n",
        "# To avoid Warning message inbetween ...\n",
        "import warnings\n",
        "warnings.filterwarnings('ignore')"
      ],
      "execution_count": 0,
      "outputs": []
    },
    {
      "cell_type": "markdown",
      "metadata": {
        "id": "pk6Sw06R0NUJ",
        "colab_type": "text"
      },
      "source": [
        "### Load the Dataset\n",
        "\n",
        "I load `ted_main.csv` at first."
      ]
    },
    {
      "cell_type": "code",
      "metadata": {
        "id": "VC4PYo5m0N2R",
        "colab_type": "code",
        "colab": {}
      },
      "source": [
        "# Load the Dataset\n",
        "link = \"https://raw.githubusercontent.com/hxtruong/dataset/master/ted-talks/ted_main.csv\"\n",
        "# transcription_link = \"https://raw.githubusercontent.com/hxtruong/dataset/master/ted-talks/transcripts.csv\"\n",
        "df = pd.read_csv(link, skipinitialspace=True)"
      ],
      "execution_count": 0,
      "outputs": []
    },
    {
      "cell_type": "markdown",
      "metadata": {
        "id": "b0gaboD_09qT",
        "colab_type": "text"
      },
      "source": [
        "### Quick Analysis on Dataset"
      ]
    },
    {
      "cell_type": "code",
      "metadata": {
        "id": "Wb6Gy6bV1Db-",
        "colab_type": "code",
        "outputId": "2a5b590e-df05-4f19-dd13-26984717bfde",
        "colab": {
          "base_uri": "https://localhost:8080/",
          "height": 1000
        }
      },
      "source": [
        "#Quick Analysis on Dataset : DataTypes, Rows and Columns ,Null values, Unique values ...\n",
        "def quick_analysis(df):\n",
        "    print(\"Data Types:\")\n",
        "    print(df.dtypes)\n",
        "    print(\"\\n-----\\nRows and Columns:\")\n",
        "    print(df.shape)\n",
        "    print(\"\\n-----\\nColumn names:\")\n",
        "    print(df.columns)\n",
        "    print(\"\\n-----\\nPercent Null Values\")\n",
        "    print(df.apply(lambda x: sum(x.isnull()) / len(df)))\n",
        "    print(\"\\n-----\\nUnique values\")\n",
        "    print(df.nunique())\n",
        "\n",
        "quick_analysis(df)"
      ],
      "execution_count": 81,
      "outputs": [
        {
          "output_type": "stream",
          "text": [
            "Data Types:\n",
            "comments               int64\n",
            "description           object\n",
            "duration               int64\n",
            "event                 object\n",
            "film_date              int64\n",
            "languages              int64\n",
            "main_speaker          object\n",
            "name                  object\n",
            "num_speaker            int64\n",
            "published_date         int64\n",
            "ratings               object\n",
            "related_talks         object\n",
            "speaker_occupation    object\n",
            "tags                  object\n",
            "title                 object\n",
            "url                   object\n",
            "views                  int64\n",
            "dtype: object\n",
            "\n",
            "-----\n",
            "Rows and Columns:\n",
            "(2550, 17)\n",
            "\n",
            "-----\n",
            "Column names:\n",
            "Index(['comments', 'description', 'duration', 'event', 'film_date',\n",
            "       'languages', 'main_speaker', 'name', 'num_speaker', 'published_date',\n",
            "       'ratings', 'related_talks', 'speaker_occupation', 'tags', 'title',\n",
            "       'url', 'views'],\n",
            "      dtype='object')\n",
            "\n",
            "-----\n",
            "Percent Null Values\n",
            "comments              0.000000\n",
            "description           0.000000\n",
            "duration              0.000000\n",
            "event                 0.000000\n",
            "film_date             0.000000\n",
            "languages             0.000000\n",
            "main_speaker          0.000000\n",
            "name                  0.000000\n",
            "num_speaker           0.000000\n",
            "published_date        0.000000\n",
            "ratings               0.000000\n",
            "related_talks         0.000000\n",
            "speaker_occupation    0.002353\n",
            "tags                  0.000000\n",
            "title                 0.000000\n",
            "url                   0.000000\n",
            "views                 0.000000\n",
            "dtype: float64\n",
            "\n",
            "-----\n",
            "Unique values\n",
            "comments               559\n",
            "description           2550\n",
            "duration              1083\n",
            "event                  355\n",
            "film_date              735\n",
            "languages               66\n",
            "main_speaker          2156\n",
            "name                  2550\n",
            "num_speaker              5\n",
            "published_date        2490\n",
            "ratings               2550\n",
            "related_talks         2550\n",
            "speaker_occupation    1458\n",
            "tags                  2530\n",
            "title                 2550\n",
            "url                   2550\n",
            "views                 2550\n",
            "dtype: int64\n"
          ],
          "name": "stdout"
        }
      ]
    },
    {
      "cell_type": "code",
      "metadata": {
        "id": "26OIu8KsHa-g",
        "colab_type": "code",
        "outputId": "c78e4c22-881d-4431-f562-f232633e4505",
        "colab": {
          "base_uri": "https://localhost:8080/",
          "height": 386
        }
      },
      "source": [
        "df.info()"
      ],
      "execution_count": 82,
      "outputs": [
        {
          "output_type": "stream",
          "text": [
            "<class 'pandas.core.frame.DataFrame'>\n",
            "RangeIndex: 2550 entries, 0 to 2549\n",
            "Data columns (total 17 columns):\n",
            "comments              2550 non-null int64\n",
            "description           2550 non-null object\n",
            "duration              2550 non-null int64\n",
            "event                 2550 non-null object\n",
            "film_date             2550 non-null int64\n",
            "languages             2550 non-null int64\n",
            "main_speaker          2550 non-null object\n",
            "name                  2550 non-null object\n",
            "num_speaker           2550 non-null int64\n",
            "published_date        2550 non-null int64\n",
            "ratings               2550 non-null object\n",
            "related_talks         2550 non-null object\n",
            "speaker_occupation    2544 non-null object\n",
            "tags                  2550 non-null object\n",
            "title                 2550 non-null object\n",
            "url                   2550 non-null object\n",
            "views                 2550 non-null int64\n",
            "dtypes: int64(7), object(10)\n",
            "memory usage: 338.8+ KB\n"
          ],
          "name": "stdout"
        }
      ]
    },
    {
      "cell_type": "markdown",
      "metadata": {
        "id": "KrJttc1VHeMf",
        "colab_type": "text"
      },
      "source": [
        "**>Comment**\n",
        "\n",
        "From information above:\n",
        "  - Dataset have 6 *`null`* `speaker_occupation` values.\n",
        "  - Data is clean enough to exploring"
      ]
    },
    {
      "cell_type": "markdown",
      "metadata": {
        "id": "s6gdyCX7I-v1",
        "colab_type": "text"
      },
      "source": [
        "##### Show 5 random videos in dataset"
      ]
    },
    {
      "cell_type": "code",
      "metadata": {
        "id": "BKJfaSDh13H7",
        "colab_type": "code",
        "outputId": "5a224618-2244-4063-bd5b-b8ec6e2da74f",
        "colab": {
          "base_uri": "https://localhost:8080/",
          "height": 568
        }
      },
      "source": [
        "df.sample(5)"
      ],
      "execution_count": 83,
      "outputs": [
        {
          "output_type": "execute_result",
          "data": {
            "text/html": [
              "<div>\n",
              "<style scoped>\n",
              "    .dataframe tbody tr th:only-of-type {\n",
              "        vertical-align: middle;\n",
              "    }\n",
              "\n",
              "    .dataframe tbody tr th {\n",
              "        vertical-align: top;\n",
              "    }\n",
              "\n",
              "    .dataframe thead th {\n",
              "        text-align: right;\n",
              "    }\n",
              "</style>\n",
              "<table border=\"1\" class=\"dataframe\">\n",
              "  <thead>\n",
              "    <tr style=\"text-align: right;\">\n",
              "      <th></th>\n",
              "      <th>comments</th>\n",
              "      <th>description</th>\n",
              "      <th>duration</th>\n",
              "      <th>event</th>\n",
              "      <th>film_date</th>\n",
              "      <th>languages</th>\n",
              "      <th>main_speaker</th>\n",
              "      <th>name</th>\n",
              "      <th>num_speaker</th>\n",
              "      <th>published_date</th>\n",
              "      <th>ratings</th>\n",
              "      <th>related_talks</th>\n",
              "      <th>speaker_occupation</th>\n",
              "      <th>tags</th>\n",
              "      <th>title</th>\n",
              "      <th>url</th>\n",
              "      <th>views</th>\n",
              "    </tr>\n",
              "  </thead>\n",
              "  <tbody>\n",
              "    <tr>\n",
              "      <th>1314</th>\n",
              "      <td>75</td>\n",
              "      <td>Most politicians choose their words carefully,...</td>\n",
              "      <td>424</td>\n",
              "      <td>TEDxHousesOfParliament</td>\n",
              "      <td>1340323200</td>\n",
              "      <td>30</td>\n",
              "      <td>Mark Forsyth</td>\n",
              "      <td>Mark Forsyth: What's a snollygoster? A short l...</td>\n",
              "      <td>1</td>\n",
              "      <td>1344784403</td>\n",
              "      <td>[{'id': 8, 'name': 'Informative', 'count': 181...</td>\n",
              "      <td>[{'id': 161, 'hero': 'https://pe.tedcdn.com/im...</td>\n",
              "      <td>Writer</td>\n",
              "      <td>['TEDx', 'culture', 'language', 'politics']</td>\n",
              "      <td>What's a snollygoster? A short lesson in polit...</td>\n",
              "      <td>https://www.ted.com/talks/mark_forsyth_what_s_...</td>\n",
              "      <td>582161</td>\n",
              "    </tr>\n",
              "    <tr>\n",
              "      <th>2196</th>\n",
              "      <td>67</td>\n",
              "      <td>Secrets, disease and beauty are all written in...</td>\n",
              "      <td>928</td>\n",
              "      <td>TED2016</td>\n",
              "      <td>1455494400</td>\n",
              "      <td>25</td>\n",
              "      <td>Riccardo Sabatini</td>\n",
              "      <td>Riccardo Sabatini: How to read the genome and ...</td>\n",
              "      <td>1</td>\n",
              "      <td>1461942042</td>\n",
              "      <td>[{'id': 8, 'name': 'Informative', 'count': 465...</td>\n",
              "      <td>[{'id': 2354, 'hero': 'https://pe.tedcdn.com/i...</td>\n",
              "      <td>Scientist, entrepreneur</td>\n",
              "      <td>['DNA', 'biology', 'biotech', 'choice', 'compl...</td>\n",
              "      <td>How to read the genome and build a human being</td>\n",
              "      <td>https://www.ted.com/talks/riccardo_sabatini_ho...</td>\n",
              "      <td>1503016</td>\n",
              "    </tr>\n",
              "    <tr>\n",
              "      <th>2406</th>\n",
              "      <td>70</td>\n",
              "      <td>How much energy and brain power do we devote t...</td>\n",
              "      <td>973</td>\n",
              "      <td>TEDxRiodelaPlata</td>\n",
              "      <td>1443052800</td>\n",
              "      <td>10</td>\n",
              "      <td>Karina Galperin</td>\n",
              "      <td>Karina Galperin: Should we simplify spelling?</td>\n",
              "      <td>1</td>\n",
              "      <td>1489676410</td>\n",
              "      <td>[{'id': 3, 'name': 'Courageous', 'count': 49},...</td>\n",
              "      <td>[{'id': 2479, 'hero': 'https://pe.tedcdn.com/i...</td>\n",
              "      <td>Literary scholar</td>\n",
              "      <td>['TED en Español', 'TEDx', 'children', 'commun...</td>\n",
              "      <td>Should we simplify spelling?</td>\n",
              "      <td>https://www.ted.com/talks/karina_galperin_why_...</td>\n",
              "      <td>448733</td>\n",
              "    </tr>\n",
              "    <tr>\n",
              "      <th>244</th>\n",
              "      <td>131</td>\n",
              "      <td>Adam Grosser talks about a project to build a ...</td>\n",
              "      <td>211</td>\n",
              "      <td>TED2007</td>\n",
              "      <td>1170374400</td>\n",
              "      <td>51</td>\n",
              "      <td>Adam Grosser</td>\n",
              "      <td>Adam Grosser: A mobile fridge for vaccines</td>\n",
              "      <td>1</td>\n",
              "      <td>1214182800</td>\n",
              "      <td>[{'id': 9, 'name': 'Ingenious', 'count': 682},...</td>\n",
              "      <td>[{'id': 82, 'hero': 'https://pe.tedcdn.com/ima...</td>\n",
              "      <td>Venture capitalist</td>\n",
              "      <td>['Vaccines', 'design', 'food', 'global issues'...</td>\n",
              "      <td>A mobile fridge for vaccines</td>\n",
              "      <td>https://www.ted.com/talks/adam_grosser_and_his...</td>\n",
              "      <td>857181</td>\n",
              "    </tr>\n",
              "    <tr>\n",
              "      <th>1478</th>\n",
              "      <td>167</td>\n",
              "      <td>It's 2013, yet 2.5 billion people in the world...</td>\n",
              "      <td>841</td>\n",
              "      <td>TED2013</td>\n",
              "      <td>1361923200</td>\n",
              "      <td>31</td>\n",
              "      <td>Rose George</td>\n",
              "      <td>Rose George: Let's talk crap. Seriously.</td>\n",
              "      <td>1</td>\n",
              "      <td>1366038055</td>\n",
              "      <td>[{'id': 24, 'name': 'Persuasive', 'count': 316...</td>\n",
              "      <td>[{'id': 259, 'hero': 'https://pe.tedcdn.com/im...</td>\n",
              "      <td>Curious journalist</td>\n",
              "      <td>['big problems', 'global issues', 'health', 's...</td>\n",
              "      <td>Let's talk crap. Seriously.</td>\n",
              "      <td>https://www.ted.com/talks/rose_george_let_s_ta...</td>\n",
              "      <td>1624716</td>\n",
              "    </tr>\n",
              "  </tbody>\n",
              "</table>\n",
              "</div>"
            ],
            "text/plain": [
              "      comments  ...    views\n",
              "1314        75  ...   582161\n",
              "2196        67  ...  1503016\n",
              "2406        70  ...   448733\n",
              "244        131  ...   857181\n",
              "1478       167  ...  1624716\n",
              "\n",
              "[5 rows x 17 columns]"
            ]
          },
          "metadata": {
            "tags": []
          },
          "execution_count": 83
        }
      ]
    },
    {
      "cell_type": "markdown",
      "metadata": {
        "id": "cxEbLgLiNudw",
        "colab_type": "text"
      },
      "source": [
        "##### Change time to easy understand"
      ]
    },
    {
      "cell_type": "code",
      "metadata": {
        "id": "hiIMfu6jN7Xq",
        "colab_type": "code",
        "colab": {}
      },
      "source": [
        "from datetime import datetime\n",
        "df['film_date'] = df['film_date'].apply(lambda x: datetime.fromtimestamp( int(x)).strftime('%d-%m-%Y'))\n",
        "df['published_date'] = df['published_date'].apply(lambda x: datetime.fromtimestamp( int(x)).strftime('%d-%m-%Y'))"
      ],
      "execution_count": 0,
      "outputs": []
    },
    {
      "cell_type": "code",
      "metadata": {
        "id": "omdQ-oLvOT5s",
        "colab_type": "code",
        "outputId": "e92e6704-22ae-4c9b-a676-316ac8e433ae",
        "colab": {
          "base_uri": "https://localhost:8080/",
          "height": 166
        }
      },
      "source": [
        "df.loc[:3, ['title', 'film_date', 'published_date']]"
      ],
      "execution_count": 85,
      "outputs": [
        {
          "output_type": "execute_result",
          "data": {
            "text/html": [
              "<div>\n",
              "<style scoped>\n",
              "    .dataframe tbody tr th:only-of-type {\n",
              "        vertical-align: middle;\n",
              "    }\n",
              "\n",
              "    .dataframe tbody tr th {\n",
              "        vertical-align: top;\n",
              "    }\n",
              "\n",
              "    .dataframe thead th {\n",
              "        text-align: right;\n",
              "    }\n",
              "</style>\n",
              "<table border=\"1\" class=\"dataframe\">\n",
              "  <thead>\n",
              "    <tr style=\"text-align: right;\">\n",
              "      <th></th>\n",
              "      <th>title</th>\n",
              "      <th>film_date</th>\n",
              "      <th>published_date</th>\n",
              "    </tr>\n",
              "  </thead>\n",
              "  <tbody>\n",
              "    <tr>\n",
              "      <th>0</th>\n",
              "      <td>Do schools kill creativity?</td>\n",
              "      <td>25-02-2006</td>\n",
              "      <td>27-06-2006</td>\n",
              "    </tr>\n",
              "    <tr>\n",
              "      <th>1</th>\n",
              "      <td>Averting the climate crisis</td>\n",
              "      <td>25-02-2006</td>\n",
              "      <td>27-06-2006</td>\n",
              "    </tr>\n",
              "    <tr>\n",
              "      <th>2</th>\n",
              "      <td>Simplicity sells</td>\n",
              "      <td>24-02-2006</td>\n",
              "      <td>27-06-2006</td>\n",
              "    </tr>\n",
              "    <tr>\n",
              "      <th>3</th>\n",
              "      <td>Greening the ghetto</td>\n",
              "      <td>26-02-2006</td>\n",
              "      <td>27-06-2006</td>\n",
              "    </tr>\n",
              "  </tbody>\n",
              "</table>\n",
              "</div>"
            ],
            "text/plain": [
              "                         title   film_date published_date\n",
              "0  Do schools kill creativity?  25-02-2006     27-06-2006\n",
              "1  Averting the climate crisis  25-02-2006     27-06-2006\n",
              "2             Simplicity sells  24-02-2006     27-06-2006\n",
              "3          Greening the ghetto  26-02-2006     27-06-2006"
            ]
          },
          "metadata": {
            "tags": []
          },
          "execution_count": 85
        }
      ]
    },
    {
      "cell_type": "code",
      "metadata": {
        "id": "65f8MoyERb8i",
        "colab_type": "code",
        "outputId": "412a4248-aa96-48f1-b7cf-d82497605a6f",
        "colab": {
          "base_uri": "https://localhost:8080/",
          "height": 386
        }
      },
      "source": [
        "df.info()"
      ],
      "execution_count": 86,
      "outputs": [
        {
          "output_type": "stream",
          "text": [
            "<class 'pandas.core.frame.DataFrame'>\n",
            "RangeIndex: 2550 entries, 0 to 2549\n",
            "Data columns (total 17 columns):\n",
            "comments              2550 non-null int64\n",
            "description           2550 non-null object\n",
            "duration              2550 non-null int64\n",
            "event                 2550 non-null object\n",
            "film_date             2550 non-null object\n",
            "languages             2550 non-null int64\n",
            "main_speaker          2550 non-null object\n",
            "name                  2550 non-null object\n",
            "num_speaker           2550 non-null int64\n",
            "published_date        2550 non-null object\n",
            "ratings               2550 non-null object\n",
            "related_talks         2550 non-null object\n",
            "speaker_occupation    2544 non-null object\n",
            "tags                  2550 non-null object\n",
            "title                 2550 non-null object\n",
            "url                   2550 non-null object\n",
            "views                 2550 non-null int64\n",
            "dtypes: int64(5), object(12)\n",
            "memory usage: 338.8+ KB\n"
          ],
          "name": "stdout"
        }
      ]
    },
    {
      "cell_type": "markdown",
      "metadata": {
        "id": "tYOq6-DMJTcY",
        "colab_type": "text"
      },
      "source": [
        "##### Swap columns for easily explore"
      ]
    },
    {
      "cell_type": "code",
      "metadata": {
        "id": "ofFqHh2uHNXc",
        "colab_type": "code",
        "outputId": "b5991199-dd68-413a-f4ce-c22a6dc29d16",
        "colab": {
          "base_uri": "https://localhost:8080/",
          "height": 101
        }
      },
      "source": [
        "cols = df.columns\n",
        "cols = ['name', 'title', 'main_speaker', 'duration', 'views', 'comments', \n",
        "        'description', 'event', 'film_date','published_date',\n",
        "        'languages',  'num_speaker', 'ratings', 'related_talks', \n",
        "        'speaker_occupation', 'tags', 'url']\n",
        "df = df.reindex(columns=cols)\n",
        "df.columns"
      ],
      "execution_count": 87,
      "outputs": [
        {
          "output_type": "execute_result",
          "data": {
            "text/plain": [
              "Index(['name', 'title', 'main_speaker', 'duration', 'views', 'comments',\n",
              "       'description', 'event', 'film_date', 'published_date', 'languages',\n",
              "       'num_speaker', 'ratings', 'related_talks', 'speaker_occupation', 'tags',\n",
              "       'url'],\n",
              "      dtype='object')"
            ]
          },
          "metadata": {
            "tags": []
          },
          "execution_count": 87
        }
      ]
    },
    {
      "cell_type": "code",
      "metadata": {
        "id": "bcwwh2ZILKaM",
        "colab_type": "code",
        "outputId": "e1646a8b-a37b-4a6b-9c52-0ae17477ae63",
        "colab": {
          "base_uri": "https://localhost:8080/",
          "height": 294
        }
      },
      "source": [
        "df.head(2)"
      ],
      "execution_count": 88,
      "outputs": [
        {
          "output_type": "execute_result",
          "data": {
            "text/html": [
              "<div>\n",
              "<style scoped>\n",
              "    .dataframe tbody tr th:only-of-type {\n",
              "        vertical-align: middle;\n",
              "    }\n",
              "\n",
              "    .dataframe tbody tr th {\n",
              "        vertical-align: top;\n",
              "    }\n",
              "\n",
              "    .dataframe thead th {\n",
              "        text-align: right;\n",
              "    }\n",
              "</style>\n",
              "<table border=\"1\" class=\"dataframe\">\n",
              "  <thead>\n",
              "    <tr style=\"text-align: right;\">\n",
              "      <th></th>\n",
              "      <th>name</th>\n",
              "      <th>title</th>\n",
              "      <th>main_speaker</th>\n",
              "      <th>duration</th>\n",
              "      <th>views</th>\n",
              "      <th>comments</th>\n",
              "      <th>description</th>\n",
              "      <th>event</th>\n",
              "      <th>film_date</th>\n",
              "      <th>published_date</th>\n",
              "      <th>languages</th>\n",
              "      <th>num_speaker</th>\n",
              "      <th>ratings</th>\n",
              "      <th>related_talks</th>\n",
              "      <th>speaker_occupation</th>\n",
              "      <th>tags</th>\n",
              "      <th>url</th>\n",
              "    </tr>\n",
              "  </thead>\n",
              "  <tbody>\n",
              "    <tr>\n",
              "      <th>0</th>\n",
              "      <td>Ken Robinson: Do schools kill creativity?</td>\n",
              "      <td>Do schools kill creativity?</td>\n",
              "      <td>Ken Robinson</td>\n",
              "      <td>1164</td>\n",
              "      <td>47227110</td>\n",
              "      <td>4553</td>\n",
              "      <td>Sir Ken Robinson makes an entertaining and pro...</td>\n",
              "      <td>TED2006</td>\n",
              "      <td>25-02-2006</td>\n",
              "      <td>27-06-2006</td>\n",
              "      <td>60</td>\n",
              "      <td>1</td>\n",
              "      <td>[{'id': 7, 'name': 'Funny', 'count': 19645}, {...</td>\n",
              "      <td>[{'id': 865, 'hero': 'https://pe.tedcdn.com/im...</td>\n",
              "      <td>Author/educator</td>\n",
              "      <td>['children', 'creativity', 'culture', 'dance',...</td>\n",
              "      <td>https://www.ted.com/talks/ken_robinson_says_sc...</td>\n",
              "    </tr>\n",
              "    <tr>\n",
              "      <th>1</th>\n",
              "      <td>Al Gore: Averting the climate crisis</td>\n",
              "      <td>Averting the climate crisis</td>\n",
              "      <td>Al Gore</td>\n",
              "      <td>977</td>\n",
              "      <td>3200520</td>\n",
              "      <td>265</td>\n",
              "      <td>With the same humor and humanity he exuded in ...</td>\n",
              "      <td>TED2006</td>\n",
              "      <td>25-02-2006</td>\n",
              "      <td>27-06-2006</td>\n",
              "      <td>43</td>\n",
              "      <td>1</td>\n",
              "      <td>[{'id': 7, 'name': 'Funny', 'count': 544}, {'i...</td>\n",
              "      <td>[{'id': 243, 'hero': 'https://pe.tedcdn.com/im...</td>\n",
              "      <td>Climate advocate</td>\n",
              "      <td>['alternative energy', 'cars', 'climate change...</td>\n",
              "      <td>https://www.ted.com/talks/al_gore_on_averting_...</td>\n",
              "    </tr>\n",
              "  </tbody>\n",
              "</table>\n",
              "</div>"
            ],
            "text/plain": [
              "                                        name  ...                                                url\n",
              "0  Ken Robinson: Do schools kill creativity?  ...  https://www.ted.com/talks/ken_robinson_says_sc...\n",
              "1       Al Gore: Averting the climate crisis  ...  https://www.ted.com/talks/al_gore_on_averting_...\n",
              "\n",
              "[2 rows x 17 columns]"
            ]
          },
          "metadata": {
            "tags": []
          },
          "execution_count": 88
        }
      ]
    },
    {
      "cell_type": "markdown",
      "metadata": {
        "id": "W6ms3L6GLyFk",
        "colab_type": "text"
      },
      "source": [
        "##### Describe dataset"
      ]
    },
    {
      "cell_type": "code",
      "metadata": {
        "id": "FwY-eqc3L3Qi",
        "colab_type": "code",
        "outputId": "df886070-c3f9-40d1-a502-de834492e9ad",
        "colab": {
          "base_uri": "https://localhost:8080/",
          "height": 284
        }
      },
      "source": [
        "df.describe()"
      ],
      "execution_count": 89,
      "outputs": [
        {
          "output_type": "execute_result",
          "data": {
            "text/html": [
              "<div>\n",
              "<style scoped>\n",
              "    .dataframe tbody tr th:only-of-type {\n",
              "        vertical-align: middle;\n",
              "    }\n",
              "\n",
              "    .dataframe tbody tr th {\n",
              "        vertical-align: top;\n",
              "    }\n",
              "\n",
              "    .dataframe thead th {\n",
              "        text-align: right;\n",
              "    }\n",
              "</style>\n",
              "<table border=\"1\" class=\"dataframe\">\n",
              "  <thead>\n",
              "    <tr style=\"text-align: right;\">\n",
              "      <th></th>\n",
              "      <th>duration</th>\n",
              "      <th>views</th>\n",
              "      <th>comments</th>\n",
              "      <th>languages</th>\n",
              "      <th>num_speaker</th>\n",
              "    </tr>\n",
              "  </thead>\n",
              "  <tbody>\n",
              "    <tr>\n",
              "      <th>count</th>\n",
              "      <td>2550.000000</td>\n",
              "      <td>2.550000e+03</td>\n",
              "      <td>2550.000000</td>\n",
              "      <td>2550.000000</td>\n",
              "      <td>2550.000000</td>\n",
              "    </tr>\n",
              "    <tr>\n",
              "      <th>mean</th>\n",
              "      <td>826.510196</td>\n",
              "      <td>1.698297e+06</td>\n",
              "      <td>191.562353</td>\n",
              "      <td>27.326275</td>\n",
              "      <td>1.028235</td>\n",
              "    </tr>\n",
              "    <tr>\n",
              "      <th>std</th>\n",
              "      <td>374.009138</td>\n",
              "      <td>2.498479e+06</td>\n",
              "      <td>282.315223</td>\n",
              "      <td>9.563452</td>\n",
              "      <td>0.207705</td>\n",
              "    </tr>\n",
              "    <tr>\n",
              "      <th>min</th>\n",
              "      <td>135.000000</td>\n",
              "      <td>5.044300e+04</td>\n",
              "      <td>2.000000</td>\n",
              "      <td>0.000000</td>\n",
              "      <td>1.000000</td>\n",
              "    </tr>\n",
              "    <tr>\n",
              "      <th>25%</th>\n",
              "      <td>577.000000</td>\n",
              "      <td>7.557928e+05</td>\n",
              "      <td>63.000000</td>\n",
              "      <td>23.000000</td>\n",
              "      <td>1.000000</td>\n",
              "    </tr>\n",
              "    <tr>\n",
              "      <th>50%</th>\n",
              "      <td>848.000000</td>\n",
              "      <td>1.124524e+06</td>\n",
              "      <td>118.000000</td>\n",
              "      <td>28.000000</td>\n",
              "      <td>1.000000</td>\n",
              "    </tr>\n",
              "    <tr>\n",
              "      <th>75%</th>\n",
              "      <td>1046.750000</td>\n",
              "      <td>1.700760e+06</td>\n",
              "      <td>221.750000</td>\n",
              "      <td>33.000000</td>\n",
              "      <td>1.000000</td>\n",
              "    </tr>\n",
              "    <tr>\n",
              "      <th>max</th>\n",
              "      <td>5256.000000</td>\n",
              "      <td>4.722711e+07</td>\n",
              "      <td>6404.000000</td>\n",
              "      <td>72.000000</td>\n",
              "      <td>5.000000</td>\n",
              "    </tr>\n",
              "  </tbody>\n",
              "</table>\n",
              "</div>"
            ],
            "text/plain": [
              "          duration         views     comments    languages  num_speaker\n",
              "count  2550.000000  2.550000e+03  2550.000000  2550.000000  2550.000000\n",
              "mean    826.510196  1.698297e+06   191.562353    27.326275     1.028235\n",
              "std     374.009138  2.498479e+06   282.315223     9.563452     0.207705\n",
              "min     135.000000  5.044300e+04     2.000000     0.000000     1.000000\n",
              "25%     577.000000  7.557928e+05    63.000000    23.000000     1.000000\n",
              "50%     848.000000  1.124524e+06   118.000000    28.000000     1.000000\n",
              "75%    1046.750000  1.700760e+06   221.750000    33.000000     1.000000\n",
              "max    5256.000000  4.722711e+07  6404.000000    72.000000     5.000000"
            ]
          },
          "metadata": {
            "tags": []
          },
          "execution_count": 89
        }
      ]
    },
    {
      "cell_type": "markdown",
      "metadata": {
        "id": "pBdnPNIaXZnM",
        "colab_type": "text"
      },
      "source": [
        "### Data Manuplation in the Dataset"
      ]
    },
    {
      "cell_type": "markdown",
      "metadata": {
        "id": "Rf17A92UX15r",
        "colab_type": "text"
      },
      "source": [
        "In dataset, I realize that `name` is combined `title` and `main_speaker` which is not nessersary."
      ]
    },
    {
      "cell_type": "code",
      "metadata": {
        "id": "b1qDUbpSaYy3",
        "colab_type": "code",
        "outputId": "32199fc4-e976-4cb0-d40e-dd712d0b42bb",
        "colab": {
          "base_uri": "https://localhost:8080/",
          "height": 181
        }
      },
      "source": [
        "df.head(1)"
      ],
      "execution_count": 90,
      "outputs": [
        {
          "output_type": "execute_result",
          "data": {
            "text/html": [
              "<div>\n",
              "<style scoped>\n",
              "    .dataframe tbody tr th:only-of-type {\n",
              "        vertical-align: middle;\n",
              "    }\n",
              "\n",
              "    .dataframe tbody tr th {\n",
              "        vertical-align: top;\n",
              "    }\n",
              "\n",
              "    .dataframe thead th {\n",
              "        text-align: right;\n",
              "    }\n",
              "</style>\n",
              "<table border=\"1\" class=\"dataframe\">\n",
              "  <thead>\n",
              "    <tr style=\"text-align: right;\">\n",
              "      <th></th>\n",
              "      <th>name</th>\n",
              "      <th>title</th>\n",
              "      <th>main_speaker</th>\n",
              "      <th>duration</th>\n",
              "      <th>views</th>\n",
              "      <th>comments</th>\n",
              "      <th>description</th>\n",
              "      <th>event</th>\n",
              "      <th>film_date</th>\n",
              "      <th>published_date</th>\n",
              "      <th>languages</th>\n",
              "      <th>num_speaker</th>\n",
              "      <th>ratings</th>\n",
              "      <th>related_talks</th>\n",
              "      <th>speaker_occupation</th>\n",
              "      <th>tags</th>\n",
              "      <th>url</th>\n",
              "    </tr>\n",
              "  </thead>\n",
              "  <tbody>\n",
              "    <tr>\n",
              "      <th>0</th>\n",
              "      <td>Ken Robinson: Do schools kill creativity?</td>\n",
              "      <td>Do schools kill creativity?</td>\n",
              "      <td>Ken Robinson</td>\n",
              "      <td>1164</td>\n",
              "      <td>47227110</td>\n",
              "      <td>4553</td>\n",
              "      <td>Sir Ken Robinson makes an entertaining and pro...</td>\n",
              "      <td>TED2006</td>\n",
              "      <td>25-02-2006</td>\n",
              "      <td>27-06-2006</td>\n",
              "      <td>60</td>\n",
              "      <td>1</td>\n",
              "      <td>[{'id': 7, 'name': 'Funny', 'count': 19645}, {...</td>\n",
              "      <td>[{'id': 865, 'hero': 'https://pe.tedcdn.com/im...</td>\n",
              "      <td>Author/educator</td>\n",
              "      <td>['children', 'creativity', 'culture', 'dance',...</td>\n",
              "      <td>https://www.ted.com/talks/ken_robinson_says_sc...</td>\n",
              "    </tr>\n",
              "  </tbody>\n",
              "</table>\n",
              "</div>"
            ],
            "text/plain": [
              "                                        name  ...                                                url\n",
              "0  Ken Robinson: Do schools kill creativity?  ...  https://www.ted.com/talks/ken_robinson_says_sc...\n",
              "\n",
              "[1 rows x 17 columns]"
            ]
          },
          "metadata": {
            "tags": []
          },
          "execution_count": 90
        }
      ]
    },
    {
      "cell_type": "code",
      "metadata": {
        "id": "xjPWJDuXXccx",
        "colab_type": "code",
        "outputId": "321b8341-5000-44f7-81b4-10a408e923f7",
        "colab": {
          "base_uri": "https://localhost:8080/",
          "height": 67
        }
      },
      "source": [
        "(df['name'] == df['main_speaker']+ \": \" + df['title']).value_counts()"
      ],
      "execution_count": 91,
      "outputs": [
        {
          "output_type": "execute_result",
          "data": {
            "text/plain": [
              "True     2541\n",
              "False       9\n",
              "dtype: int64"
            ]
          },
          "metadata": {
            "tags": []
          },
          "execution_count": 91
        }
      ]
    },
    {
      "cell_type": "markdown",
      "metadata": {
        "id": "8HS88QgWYkDE",
        "colab_type": "text"
      },
      "source": [
        "There are 9 `name` is not combined by `speaker` and `title`"
      ]
    },
    {
      "cell_type": "code",
      "metadata": {
        "id": "8udw9egSYvM2",
        "colab_type": "code",
        "outputId": "91b1f58a-93de-4d71-f4a8-cbc81dc5f1b8",
        "colab": {
          "base_uri": "https://localhost:8080/",
          "height": 314
        }
      },
      "source": [
        "df[df['name'] != df['main_speaker']+ \": \" + df['title']][['name', 'title', 'main_speaker']]"
      ],
      "execution_count": 92,
      "outputs": [
        {
          "output_type": "execute_result",
          "data": {
            "text/html": [
              "<div>\n",
              "<style scoped>\n",
              "    .dataframe tbody tr th:only-of-type {\n",
              "        vertical-align: middle;\n",
              "    }\n",
              "\n",
              "    .dataframe tbody tr th {\n",
              "        vertical-align: top;\n",
              "    }\n",
              "\n",
              "    .dataframe thead th {\n",
              "        text-align: right;\n",
              "    }\n",
              "</style>\n",
              "<table border=\"1\" class=\"dataframe\">\n",
              "  <thead>\n",
              "    <tr style=\"text-align: right;\">\n",
              "      <th></th>\n",
              "      <th>name</th>\n",
              "      <th>title</th>\n",
              "      <th>main_speaker</th>\n",
              "    </tr>\n",
              "  </thead>\n",
              "  <tbody>\n",
              "    <tr>\n",
              "      <th>898</th>\n",
              "      <td>Patricia Ryan: Don't insist on English!</td>\n",
              "      <td>Don't insist on English!</td>\n",
              "      <td>Patricia Ryan</td>\n",
              "    </tr>\n",
              "    <tr>\n",
              "      <th>1543</th>\n",
              "      <td>The interspecies internet? An idea in progress</td>\n",
              "      <td>The interspecies internet? An idea in progress</td>\n",
              "      <td>Diana Reiss, Peter Gabriel, Neil Gershenfeld a...</td>\n",
              "    </tr>\n",
              "    <tr>\n",
              "      <th>1549</th>\n",
              "      <td>Two young scientists break down plastics with ...</td>\n",
              "      <td>Two young scientists break down plastics with ...</td>\n",
              "      <td>Miranda Wang and Jeanny Yao</td>\n",
              "    </tr>\n",
              "    <tr>\n",
              "      <th>1745</th>\n",
              "      <td>Tristram Wyatt: The smelly mystery of the huma...</td>\n",
              "      <td>The smelly mystery of the human pheromone</td>\n",
              "      <td>Tristram Wyatt</td>\n",
              "    </tr>\n",
              "    <tr>\n",
              "      <th>1768</th>\n",
              "      <td>Anne Curzan: What makes a word \"real\"?</td>\n",
              "      <td>What makes a word \"real\"?</td>\n",
              "      <td>Anne Curzan</td>\n",
              "    </tr>\n",
              "    <tr>\n",
              "      <th>1769</th>\n",
              "      <td>Ruth Chang: How to make hard choices</td>\n",
              "      <td>How to make hard choices</td>\n",
              "      <td>Ruth Chang</td>\n",
              "    </tr>\n",
              "    <tr>\n",
              "      <th>1845</th>\n",
              "      <td>Susan Etlinger: What do we do with all this bi...</td>\n",
              "      <td>What do we do with all this big data?</td>\n",
              "      <td>Susan Etlinger</td>\n",
              "    </tr>\n",
              "    <tr>\n",
              "      <th>2466</th>\n",
              "      <td>Michael Bierut: How to design a library that m...</td>\n",
              "      <td>How to design a library that makes kids want t...</td>\n",
              "      <td>Michael Bierut</td>\n",
              "    </tr>\n",
              "    <tr>\n",
              "      <th>2512</th>\n",
              "      <td>Jack Conte: How artists can (finally) get paid...</td>\n",
              "      <td>How artists can (finally) get paid in the digi...</td>\n",
              "      <td>Jack Conte</td>\n",
              "    </tr>\n",
              "  </tbody>\n",
              "</table>\n",
              "</div>"
            ],
            "text/plain": [
              "                                                   name  ...                                       main_speaker\n",
              "898             Patricia Ryan: Don't insist on English!  ...                                     Patricia Ryan \n",
              "1543     The interspecies internet? An idea in progress  ...  Diana Reiss, Peter Gabriel, Neil Gershenfeld a...\n",
              "1549  Two young scientists break down plastics with ...  ...                        Miranda Wang and Jeanny Yao\n",
              "1745  Tristram Wyatt: The smelly mystery of the huma...  ...                                     Tristram Wyatt\n",
              "1768             Anne Curzan: What makes a word \"real\"?  ...                                       Anne Curzan \n",
              "1769               Ruth Chang: How to make hard choices  ...                                         Ruth Chang\n",
              "1845  Susan Etlinger: What do we do with all this bi...  ...                                     Susan Etlinger\n",
              "2466  Michael Bierut: How to design a library that m...  ...                                     Michael Bierut\n",
              "2512  Jack Conte: How artists can (finally) get paid...  ...                                         Jack Conte\n",
              "\n",
              "[9 rows x 3 columns]"
            ]
          },
          "metadata": {
            "tags": []
          },
          "execution_count": 92
        }
      ]
    },
    {
      "cell_type": "markdown",
      "metadata": {
        "id": "Qo1zouvfZ9fn",
        "colab_type": "text"
      },
      "source": [
        "After see the difference, that is not special. So it should drop `name` columns."
      ]
    },
    {
      "cell_type": "code",
      "metadata": {
        "id": "IpUjjIpiZZ8C",
        "colab_type": "code",
        "colab": {}
      },
      "source": [
        "df.drop(columns=['name'], inplace=True)"
      ],
      "execution_count": 0,
      "outputs": []
    },
    {
      "cell_type": "code",
      "metadata": {
        "id": "hG9h7hTLbzev",
        "colab_type": "code",
        "outputId": "dc9b0522-dd7e-4107-a69a-29800619e793",
        "colab": {
          "base_uri": "https://localhost:8080/",
          "height": 370
        }
      },
      "source": [
        "df.info()"
      ],
      "execution_count": 94,
      "outputs": [
        {
          "output_type": "stream",
          "text": [
            "<class 'pandas.core.frame.DataFrame'>\n",
            "RangeIndex: 2550 entries, 0 to 2549\n",
            "Data columns (total 16 columns):\n",
            "title                 2550 non-null object\n",
            "main_speaker          2550 non-null object\n",
            "duration              2550 non-null int64\n",
            "views                 2550 non-null int64\n",
            "comments              2550 non-null int64\n",
            "description           2550 non-null object\n",
            "event                 2550 non-null object\n",
            "film_date             2550 non-null object\n",
            "published_date        2550 non-null object\n",
            "languages             2550 non-null int64\n",
            "num_speaker           2550 non-null int64\n",
            "ratings               2550 non-null object\n",
            "related_talks         2550 non-null object\n",
            "speaker_occupation    2544 non-null object\n",
            "tags                  2550 non-null object\n",
            "url                   2550 non-null object\n",
            "dtypes: int64(5), object(11)\n",
            "memory usage: 318.8+ KB\n"
          ],
          "name": "stdout"
        }
      ]
    },
    {
      "cell_type": "markdown",
      "metadata": {
        "id": "4sw9xoHtbYQq",
        "colab_type": "text"
      },
      "source": [
        "## 1. Finding the most popular TED Talks videos"
      ]
    },
    {
      "cell_type": "markdown",
      "metadata": {
        "id": "RVNuDCSbbpDf",
        "colab_type": "text"
      },
      "source": [
        "#### **> Views**\n",
        "\n",
        "- The *popular* video should be had **high views**. The number of views indicate the popular of that video which tell other that this video has quality content, so it will attractive many people."
      ]
    },
    {
      "cell_type": "markdown",
      "metadata": {
        "id": "nD_lxDw_5IZd",
        "colab_type": "text"
      },
      "source": [
        "> Top **10 videos** has the highest views"
      ]
    },
    {
      "cell_type": "code",
      "metadata": {
        "id": "ha-GWAXrevIM",
        "colab_type": "code",
        "outputId": "d878c40e-1749-4fc9-bb8a-07a0b619fe57",
        "colab": {
          "base_uri": "https://localhost:8080/",
          "height": 343
        }
      },
      "source": [
        "view_sorted_talks = df[['title', 'main_speaker', 'film_date', 'comments', 'views']].sort_values(by=['views'], ascending=False)\n",
        "view_sorted_talks[:10]"
      ],
      "execution_count": 95,
      "outputs": [
        {
          "output_type": "execute_result",
          "data": {
            "text/html": [
              "<div>\n",
              "<style scoped>\n",
              "    .dataframe tbody tr th:only-of-type {\n",
              "        vertical-align: middle;\n",
              "    }\n",
              "\n",
              "    .dataframe tbody tr th {\n",
              "        vertical-align: top;\n",
              "    }\n",
              "\n",
              "    .dataframe thead th {\n",
              "        text-align: right;\n",
              "    }\n",
              "</style>\n",
              "<table border=\"1\" class=\"dataframe\">\n",
              "  <thead>\n",
              "    <tr style=\"text-align: right;\">\n",
              "      <th></th>\n",
              "      <th>title</th>\n",
              "      <th>main_speaker</th>\n",
              "      <th>film_date</th>\n",
              "      <th>comments</th>\n",
              "      <th>views</th>\n",
              "    </tr>\n",
              "  </thead>\n",
              "  <tbody>\n",
              "    <tr>\n",
              "      <th>0</th>\n",
              "      <td>Do schools kill creativity?</td>\n",
              "      <td>Ken Robinson</td>\n",
              "      <td>25-02-2006</td>\n",
              "      <td>4553</td>\n",
              "      <td>47227110</td>\n",
              "    </tr>\n",
              "    <tr>\n",
              "      <th>1346</th>\n",
              "      <td>Your body language may shape who you are</td>\n",
              "      <td>Amy Cuddy</td>\n",
              "      <td>26-06-2012</td>\n",
              "      <td>2290</td>\n",
              "      <td>43155405</td>\n",
              "    </tr>\n",
              "    <tr>\n",
              "      <th>677</th>\n",
              "      <td>How great leaders inspire action</td>\n",
              "      <td>Simon Sinek</td>\n",
              "      <td>17-09-2009</td>\n",
              "      <td>1930</td>\n",
              "      <td>34309432</td>\n",
              "    </tr>\n",
              "    <tr>\n",
              "      <th>837</th>\n",
              "      <td>The power of vulnerability</td>\n",
              "      <td>Brené Brown</td>\n",
              "      <td>06-06-2010</td>\n",
              "      <td>1927</td>\n",
              "      <td>31168150</td>\n",
              "    </tr>\n",
              "    <tr>\n",
              "      <th>452</th>\n",
              "      <td>10 things you didn't know about orgasm</td>\n",
              "      <td>Mary Roach</td>\n",
              "      <td>06-02-2009</td>\n",
              "      <td>354</td>\n",
              "      <td>22270883</td>\n",
              "    </tr>\n",
              "    <tr>\n",
              "      <th>1776</th>\n",
              "      <td>How to speak so that people want to listen</td>\n",
              "      <td>Julian Treasure</td>\n",
              "      <td>10-06-2013</td>\n",
              "      <td>297</td>\n",
              "      <td>21594632</td>\n",
              "    </tr>\n",
              "    <tr>\n",
              "      <th>201</th>\n",
              "      <td>My stroke of insight</td>\n",
              "      <td>Jill Bolte Taylor</td>\n",
              "      <td>27-02-2008</td>\n",
              "      <td>2877</td>\n",
              "      <td>21190883</td>\n",
              "    </tr>\n",
              "    <tr>\n",
              "      <th>5</th>\n",
              "      <td>Why we do what we do</td>\n",
              "      <td>Tony Robbins</td>\n",
              "      <td>02-02-2006</td>\n",
              "      <td>672</td>\n",
              "      <td>20685401</td>\n",
              "    </tr>\n",
              "    <tr>\n",
              "      <th>2114</th>\n",
              "      <td>This is what happens when you reply to spam email</td>\n",
              "      <td>James Veitch</td>\n",
              "      <td>08-12-2015</td>\n",
              "      <td>150</td>\n",
              "      <td>20475972</td>\n",
              "    </tr>\n",
              "    <tr>\n",
              "      <th>1416</th>\n",
              "      <td>Looks aren't everything. Believe me, I'm a model.</td>\n",
              "      <td>Cameron Russell</td>\n",
              "      <td>27-10-2012</td>\n",
              "      <td>846</td>\n",
              "      <td>19787465</td>\n",
              "    </tr>\n",
              "  </tbody>\n",
              "</table>\n",
              "</div>"
            ],
            "text/plain": [
              "                                                  title  ...     views\n",
              "0                           Do schools kill creativity?  ...  47227110\n",
              "1346           Your body language may shape who you are  ...  43155405\n",
              "677                    How great leaders inspire action  ...  34309432\n",
              "837                          The power of vulnerability  ...  31168150\n",
              "452              10 things you didn't know about orgasm  ...  22270883\n",
              "1776         How to speak so that people want to listen  ...  21594632\n",
              "201                                My stroke of insight  ...  21190883\n",
              "5                                  Why we do what we do  ...  20685401\n",
              "2114  This is what happens when you reply to spam email  ...  20475972\n",
              "1416  Looks aren't everything. Believe me, I'm a model.  ...  19787465\n",
              "\n",
              "[10 rows x 5 columns]"
            ]
          },
          "metadata": {
            "tags": []
          },
          "execution_count": 95
        }
      ]
    },
    {
      "cell_type": "markdown",
      "metadata": {
        "id": "ENWXulXb5fS_",
        "colab_type": "text"
      },
      "source": [
        "> Diplay view of video on chart"
      ]
    },
    {
      "cell_type": "code",
      "metadata": {
        "id": "dPSJ0f9r5kZE",
        "colab_type": "code",
        "outputId": "3b024ca1-86df-4619-f380-e9e36bca808d",
        "colab": {
          "base_uri": "https://localhost:8080/",
          "height": 417
        }
      },
      "source": [
        "sns.set_style(\"whitegrid\")\n",
        "plt.figure(figsize=(10,6))\n",
        "sns.barplot(x='views', y='title', data=view_sorted_talks[:10])"
      ],
      "execution_count": 96,
      "outputs": [
        {
          "output_type": "execute_result",
          "data": {
            "text/plain": [
              "<matplotlib.axes._subplots.AxesSubplot at 0x7f0c92575048>"
            ]
          },
          "metadata": {
            "tags": []
          },
          "execution_count": 96
        },
        {
          "output_type": "display_data",
          "data": {
            "image/png": "[encoded data removed]",
            "text/plain": [
              "<Figure size 720x432 with 1 Axes>"
            ]
          },
          "metadata": {
            "tags": []
          }
        }
      ]
    },
    {
      "cell_type": "markdown",
      "metadata": {
        "id": "W56Ux_OE-kfh",
        "colab_type": "text"
      },
      "source": [
        "> Beside, I display the distibution of the views in TED Talks"
      ]
    },
    {
      "cell_type": "code",
      "metadata": {
        "id": "Ssj7o8NS-4p_",
        "colab_type": "code",
        "outputId": "edce6aec-8757-4f24-fbea-1078d332b0f0",
        "colab": {
          "base_uri": "https://localhost:8080/",
          "height": 313
        }
      },
      "source": [
        "sns.distplot(df['views'])"
      ],
      "execution_count": 97,
      "outputs": [
        {
          "output_type": "execute_result",
          "data": {
            "text/plain": [
              "<matplotlib.axes._subplots.AxesSubplot at 0x7f0c925752e8>"
            ]
          },
          "metadata": {
            "tags": []
          },
          "execution_count": 97
        },
        {
          "output_type": "display_data",
          "data": {
            "image/png": "[encoded data removed]",
            "text/plain": [
              "<Figure size 432x288 with 1 Axes>"
            ]
          },
          "metadata": {
            "tags": []
          }
        }
      ]
    },
    {
      "cell_type": "code",
      "metadata": {
        "id": "hPZ-gC7h_Kw4",
        "colab_type": "code",
        "outputId": "5f625bf3-1355-436c-d68a-7b61d7016e52",
        "colab": {
          "base_uri": "https://localhost:8080/",
          "height": 168
        }
      },
      "source": [
        "df['views'].describe()"
      ],
      "execution_count": 98,
      "outputs": [
        {
          "output_type": "execute_result",
          "data": {
            "text/plain": [
              "count    2.550000e+03\n",
              "mean     1.698297e+06\n",
              "std      2.498479e+06\n",
              "min      5.044300e+04\n",
              "25%      7.557928e+05\n",
              "50%      1.124524e+06\n",
              "75%      1.700760e+06\n",
              "max      4.722711e+07\n",
              "Name: views, dtype: float64"
            ]
          },
          "metadata": {
            "tags": []
          },
          "execution_count": 98
        }
      ]
    },
    {
      "cell_type": "markdown",
      "metadata": {
        "id": "y6ygB74_A0sC",
        "colab_type": "text"
      },
      "source": [
        "> The average number of views on videos is **1.6** million views."
      ]
    },
    {
      "cell_type": "markdown",
      "metadata": {
        "id": "toklHiDnVWvf",
        "colab_type": "text"
      },
      "source": [
        "#### > Comments\n",
        "- A popular TED Talk will take attention of viewers. So these videos should have many **comments**"
      ]
    },
    {
      "cell_type": "markdown",
      "metadata": {
        "id": "Tf0SKGlzWVb2",
        "colab_type": "text"
      },
      "source": [
        "> Top **10** videos has *high number comments*"
      ]
    },
    {
      "cell_type": "code",
      "metadata": {
        "id": "1RD3o9zIAzo4",
        "colab_type": "code",
        "outputId": "41b30b85-9592-40e0-917f-f3b3e8b32161",
        "colab": {
          "base_uri": "https://localhost:8080/",
          "height": 343
        }
      },
      "source": [
        "cmt_sorted_talks = df[['title', 'main_speaker', 'film_date', 'comments', 'views']].sort_values(by=['comments'], ascending=False)\n",
        "cmt_sorted_talks[:10]"
      ],
      "execution_count": 99,
      "outputs": [
        {
          "output_type": "execute_result",
          "data": {
            "text/html": [
              "<div>\n",
              "<style scoped>\n",
              "    .dataframe tbody tr th:only-of-type {\n",
              "        vertical-align: middle;\n",
              "    }\n",
              "\n",
              "    .dataframe tbody tr th {\n",
              "        vertical-align: top;\n",
              "    }\n",
              "\n",
              "    .dataframe thead th {\n",
              "        text-align: right;\n",
              "    }\n",
              "</style>\n",
              "<table border=\"1\" class=\"dataframe\">\n",
              "  <thead>\n",
              "    <tr style=\"text-align: right;\">\n",
              "      <th></th>\n",
              "      <th>title</th>\n",
              "      <th>main_speaker</th>\n",
              "      <th>film_date</th>\n",
              "      <th>comments</th>\n",
              "      <th>views</th>\n",
              "    </tr>\n",
              "  </thead>\n",
              "  <tbody>\n",
              "    <tr>\n",
              "      <th>96</th>\n",
              "      <td>Militant atheism</td>\n",
              "      <td>Richard Dawkins</td>\n",
              "      <td>02-02-2002</td>\n",
              "      <td>6404</td>\n",
              "      <td>4374792</td>\n",
              "    </tr>\n",
              "    <tr>\n",
              "      <th>0</th>\n",
              "      <td>Do schools kill creativity?</td>\n",
              "      <td>Ken Robinson</td>\n",
              "      <td>25-02-2006</td>\n",
              "      <td>4553</td>\n",
              "      <td>47227110</td>\n",
              "    </tr>\n",
              "    <tr>\n",
              "      <th>644</th>\n",
              "      <td>Science can answer moral questions</td>\n",
              "      <td>Sam Harris</td>\n",
              "      <td>11-02-2010</td>\n",
              "      <td>3356</td>\n",
              "      <td>3433437</td>\n",
              "    </tr>\n",
              "    <tr>\n",
              "      <th>201</th>\n",
              "      <td>My stroke of insight</td>\n",
              "      <td>Jill Bolte Taylor</td>\n",
              "      <td>27-02-2008</td>\n",
              "      <td>2877</td>\n",
              "      <td>21190883</td>\n",
              "    </tr>\n",
              "    <tr>\n",
              "      <th>1787</th>\n",
              "      <td>How do you explain consciousness?</td>\n",
              "      <td>David Chalmers</td>\n",
              "      <td>18-03-2014</td>\n",
              "      <td>2673</td>\n",
              "      <td>2162764</td>\n",
              "    </tr>\n",
              "    <tr>\n",
              "      <th>954</th>\n",
              "      <td>Taking imagination seriously</td>\n",
              "      <td>Janet Echelman</td>\n",
              "      <td>03-03-2011</td>\n",
              "      <td>2492</td>\n",
              "      <td>1832930</td>\n",
              "    </tr>\n",
              "    <tr>\n",
              "      <th>840</th>\n",
              "      <td>On reading the Koran</td>\n",
              "      <td>Lesley Hazleton</td>\n",
              "      <td>10-10-2010</td>\n",
              "      <td>2374</td>\n",
              "      <td>1847256</td>\n",
              "    </tr>\n",
              "    <tr>\n",
              "      <th>1346</th>\n",
              "      <td>Your body language may shape who you are</td>\n",
              "      <td>Amy Cuddy</td>\n",
              "      <td>26-06-2012</td>\n",
              "      <td>2290</td>\n",
              "      <td>43155405</td>\n",
              "    </tr>\n",
              "    <tr>\n",
              "      <th>661</th>\n",
              "      <td>The danger of science denial</td>\n",
              "      <td>Michael Specter</td>\n",
              "      <td>11-02-2010</td>\n",
              "      <td>2272</td>\n",
              "      <td>1838628</td>\n",
              "    </tr>\n",
              "    <tr>\n",
              "      <th>677</th>\n",
              "      <td>How great leaders inspire action</td>\n",
              "      <td>Simon Sinek</td>\n",
              "      <td>17-09-2009</td>\n",
              "      <td>1930</td>\n",
              "      <td>34309432</td>\n",
              "    </tr>\n",
              "  </tbody>\n",
              "</table>\n",
              "</div>"
            ],
            "text/plain": [
              "                                         title  ...     views\n",
              "96                            Militant atheism  ...   4374792\n",
              "0                  Do schools kill creativity?  ...  47227110\n",
              "644         Science can answer moral questions  ...   3433437\n",
              "201                       My stroke of insight  ...  21190883\n",
              "1787         How do you explain consciousness?  ...   2162764\n",
              "954               Taking imagination seriously  ...   1832930\n",
              "840                       On reading the Koran  ...   1847256\n",
              "1346  Your body language may shape who you are  ...  43155405\n",
              "661               The danger of science denial  ...   1838628\n",
              "677           How great leaders inspire action  ...  34309432\n",
              "\n",
              "[10 rows x 5 columns]"
            ]
          },
          "metadata": {
            "tags": []
          },
          "execution_count": 99
        }
      ]
    },
    {
      "cell_type": "markdown",
      "metadata": {
        "id": "ZQbCrarpWic5",
        "colab_type": "text"
      },
      "source": [
        "> The chart show comments count"
      ]
    },
    {
      "cell_type": "code",
      "metadata": {
        "id": "mq0E0pVx_9HT",
        "colab_type": "code",
        "outputId": "4d35ede5-c537-4a54-f280-b375b9bdfa83",
        "colab": {
          "base_uri": "https://localhost:8080/",
          "height": 417
        }
      },
      "source": [
        "plt.figure(figsize=(10,6))\n",
        "sns.barplot(x='comments', y='title', data=cmt_sorted_talks[:10])"
      ],
      "execution_count": 100,
      "outputs": [
        {
          "output_type": "execute_result",
          "data": {
            "text/plain": [
              "<matplotlib.axes._subplots.AxesSubplot at 0x7f0c923e7c50>"
            ]
          },
          "metadata": {
            "tags": []
          },
          "execution_count": 100
        },
        {
          "output_type": "display_data",
          "data": {
            "image/png": "[encoded data removed]",
            "text/plain": [
              "<Figure size 720x432 with 1 Axes>"
            ]
          },
          "metadata": {
            "tags": []
          }
        }
      ]
    },
    {
      "cell_type": "markdown",
      "metadata": {
        "id": "mp-sPycbnhPb",
        "colab_type": "text"
      },
      "source": [
        "> Merge data: video has high views and high comments\n",
        "\n",
        "Will these high quality videos same high number of views and comments?"
      ]
    },
    {
      "cell_type": "code",
      "metadata": {
        "id": "XuL2Y8EGnlVO",
        "colab_type": "code",
        "outputId": "633228b6-d350-4afa-9380-aee40d9e1936",
        "colab": {
          "base_uri": "https://localhost:8080/",
          "height": 521
        }
      },
      "source": [
        "merge_df = pd.merge(view_sorted_talks[:10], cmt_sorted_talks[:10], how='outer')\n",
        "merge_df"
      ],
      "execution_count": 101,
      "outputs": [
        {
          "output_type": "execute_result",
          "data": {
            "text/html": [
              "<div>\n",
              "<style scoped>\n",
              "    .dataframe tbody tr th:only-of-type {\n",
              "        vertical-align: middle;\n",
              "    }\n",
              "\n",
              "    .dataframe tbody tr th {\n",
              "        vertical-align: top;\n",
              "    }\n",
              "\n",
              "    .dataframe thead th {\n",
              "        text-align: right;\n",
              "    }\n",
              "</style>\n",
              "<table border=\"1\" class=\"dataframe\">\n",
              "  <thead>\n",
              "    <tr style=\"text-align: right;\">\n",
              "      <th></th>\n",
              "      <th>title</th>\n",
              "      <th>main_speaker</th>\n",
              "      <th>film_date</th>\n",
              "      <th>comments</th>\n",
              "      <th>views</th>\n",
              "    </tr>\n",
              "  </thead>\n",
              "  <tbody>\n",
              "    <tr>\n",
              "      <th>0</th>\n",
              "      <td>Do schools kill creativity?</td>\n",
              "      <td>Ken Robinson</td>\n",
              "      <td>25-02-2006</td>\n",
              "      <td>4553</td>\n",
              "      <td>47227110</td>\n",
              "    </tr>\n",
              "    <tr>\n",
              "      <th>1</th>\n",
              "      <td>Your body language may shape who you are</td>\n",
              "      <td>Amy Cuddy</td>\n",
              "      <td>26-06-2012</td>\n",
              "      <td>2290</td>\n",
              "      <td>43155405</td>\n",
              "    </tr>\n",
              "    <tr>\n",
              "      <th>2</th>\n",
              "      <td>How great leaders inspire action</td>\n",
              "      <td>Simon Sinek</td>\n",
              "      <td>17-09-2009</td>\n",
              "      <td>1930</td>\n",
              "      <td>34309432</td>\n",
              "    </tr>\n",
              "    <tr>\n",
              "      <th>3</th>\n",
              "      <td>The power of vulnerability</td>\n",
              "      <td>Brené Brown</td>\n",
              "      <td>06-06-2010</td>\n",
              "      <td>1927</td>\n",
              "      <td>31168150</td>\n",
              "    </tr>\n",
              "    <tr>\n",
              "      <th>4</th>\n",
              "      <td>10 things you didn't know about orgasm</td>\n",
              "      <td>Mary Roach</td>\n",
              "      <td>06-02-2009</td>\n",
              "      <td>354</td>\n",
              "      <td>22270883</td>\n",
              "    </tr>\n",
              "    <tr>\n",
              "      <th>5</th>\n",
              "      <td>How to speak so that people want to listen</td>\n",
              "      <td>Julian Treasure</td>\n",
              "      <td>10-06-2013</td>\n",
              "      <td>297</td>\n",
              "      <td>21594632</td>\n",
              "    </tr>\n",
              "    <tr>\n",
              "      <th>6</th>\n",
              "      <td>My stroke of insight</td>\n",
              "      <td>Jill Bolte Taylor</td>\n",
              "      <td>27-02-2008</td>\n",
              "      <td>2877</td>\n",
              "      <td>21190883</td>\n",
              "    </tr>\n",
              "    <tr>\n",
              "      <th>7</th>\n",
              "      <td>Why we do what we do</td>\n",
              "      <td>Tony Robbins</td>\n",
              "      <td>02-02-2006</td>\n",
              "      <td>672</td>\n",
              "      <td>20685401</td>\n",
              "    </tr>\n",
              "    <tr>\n",
              "      <th>8</th>\n",
              "      <td>This is what happens when you reply to spam email</td>\n",
              "      <td>James Veitch</td>\n",
              "      <td>08-12-2015</td>\n",
              "      <td>150</td>\n",
              "      <td>20475972</td>\n",
              "    </tr>\n",
              "    <tr>\n",
              "      <th>9</th>\n",
              "      <td>Looks aren't everything. Believe me, I'm a model.</td>\n",
              "      <td>Cameron Russell</td>\n",
              "      <td>27-10-2012</td>\n",
              "      <td>846</td>\n",
              "      <td>19787465</td>\n",
              "    </tr>\n",
              "    <tr>\n",
              "      <th>10</th>\n",
              "      <td>Militant atheism</td>\n",
              "      <td>Richard Dawkins</td>\n",
              "      <td>02-02-2002</td>\n",
              "      <td>6404</td>\n",
              "      <td>4374792</td>\n",
              "    </tr>\n",
              "    <tr>\n",
              "      <th>11</th>\n",
              "      <td>Science can answer moral questions</td>\n",
              "      <td>Sam Harris</td>\n",
              "      <td>11-02-2010</td>\n",
              "      <td>3356</td>\n",
              "      <td>3433437</td>\n",
              "    </tr>\n",
              "    <tr>\n",
              "      <th>12</th>\n",
              "      <td>How do you explain consciousness?</td>\n",
              "      <td>David Chalmers</td>\n",
              "      <td>18-03-2014</td>\n",
              "      <td>2673</td>\n",
              "      <td>2162764</td>\n",
              "    </tr>\n",
              "    <tr>\n",
              "      <th>13</th>\n",
              "      <td>Taking imagination seriously</td>\n",
              "      <td>Janet Echelman</td>\n",
              "      <td>03-03-2011</td>\n",
              "      <td>2492</td>\n",
              "      <td>1832930</td>\n",
              "    </tr>\n",
              "    <tr>\n",
              "      <th>14</th>\n",
              "      <td>On reading the Koran</td>\n",
              "      <td>Lesley Hazleton</td>\n",
              "      <td>10-10-2010</td>\n",
              "      <td>2374</td>\n",
              "      <td>1847256</td>\n",
              "    </tr>\n",
              "    <tr>\n",
              "      <th>15</th>\n",
              "      <td>The danger of science denial</td>\n",
              "      <td>Michael Specter</td>\n",
              "      <td>11-02-2010</td>\n",
              "      <td>2272</td>\n",
              "      <td>1838628</td>\n",
              "    </tr>\n",
              "  </tbody>\n",
              "</table>\n",
              "</div>"
            ],
            "text/plain": [
              "                                                title  ...     views\n",
              "0                         Do schools kill creativity?  ...  47227110\n",
              "1            Your body language may shape who you are  ...  43155405\n",
              "2                    How great leaders inspire action  ...  34309432\n",
              "3                          The power of vulnerability  ...  31168150\n",
              "4              10 things you didn't know about orgasm  ...  22270883\n",
              "5          How to speak so that people want to listen  ...  21594632\n",
              "6                                My stroke of insight  ...  21190883\n",
              "7                                Why we do what we do  ...  20685401\n",
              "8   This is what happens when you reply to spam email  ...  20475972\n",
              "9   Looks aren't everything. Believe me, I'm a model.  ...  19787465\n",
              "10                                   Militant atheism  ...   4374792\n",
              "11                 Science can answer moral questions  ...   3433437\n",
              "12                  How do you explain consciousness?  ...   2162764\n",
              "13                       Taking imagination seriously  ...   1832930\n",
              "14                               On reading the Koran  ...   1847256\n",
              "15                       The danger of science denial  ...   1838628\n",
              "\n",
              "[16 rows x 5 columns]"
            ]
          },
          "metadata": {
            "tags": []
          },
          "execution_count": 101
        }
      ]
    },
    {
      "cell_type": "markdown",
      "metadata": {
        "id": "X4t7dKPznlx7",
        "colab_type": "text"
      },
      "source": [
        "> **> Discuss**\n",
        "\n",
        "  - When merge two table has top 10 highest views and highest comments, there are **16 video** which might consider the most popular videos on TED Talks.\n",
        "  - From the 10th video on the rank, these videos have many comments although they has significantly view than others. It can be explained by the complex and arguable of problem in video. Ex: **Militant atheism**, **Science can answer moral questions**,... is always the most debate topic in all of time\n",
        "   > But these video can be considered as the quality TED Talks to watch."
      ]
    },
    {
      "cell_type": "markdown",
      "metadata": {
        "id": "iCw7XANbpFfc",
        "colab_type": "text"
      },
      "source": [
        "We can see the correlation between **views** and **comments** in *total data* below:"
      ]
    },
    {
      "cell_type": "code",
      "metadata": {
        "id": "TIzpb3Wbp1rs",
        "colab_type": "code",
        "outputId": "98b74f17-2d43-4804-e1ef-dd1eae4b11dc",
        "colab": {
          "base_uri": "https://localhost:8080/",
          "height": 454
        }
      },
      "source": [
        "sns.jointplot(x='views', y='comments', data=df)"
      ],
      "execution_count": 102,
      "outputs": [
        {
          "output_type": "execute_result",
          "data": {
            "text/plain": [
              "<seaborn.axisgrid.JointGrid at 0x7f0c92679940>"
            ]
          },
          "metadata": {
            "tags": []
          },
          "execution_count": 102
        },
        {
          "output_type": "display_data",
          "data": {
            "image/png": "[encoded data removed]",
            "text/plain": [
              "<Figure size 432x432 with 3 Axes>"
            ]
          },
          "metadata": {
            "tags": []
          }
        }
      ]
    },
    {
      "cell_type": "code",
      "metadata": {
        "id": "9kNqgDwCp-4Q",
        "colab_type": "code",
        "outputId": "0c0bcc8b-bb0a-4ad7-eaf9-8bf1b05b4bfe",
        "colab": {
          "base_uri": "https://localhost:8080/",
          "height": 106
        }
      },
      "source": [
        "df[['views', 'comments']].corr()"
      ],
      "execution_count": 103,
      "outputs": [
        {
          "output_type": "execute_result",
          "data": {
            "text/html": [
              "<div>\n",
              "<style scoped>\n",
              "    .dataframe tbody tr th:only-of-type {\n",
              "        vertical-align: middle;\n",
              "    }\n",
              "\n",
              "    .dataframe tbody tr th {\n",
              "        vertical-align: top;\n",
              "    }\n",
              "\n",
              "    .dataframe thead th {\n",
              "        text-align: right;\n",
              "    }\n",
              "</style>\n",
              "<table border=\"1\" class=\"dataframe\">\n",
              "  <thead>\n",
              "    <tr style=\"text-align: right;\">\n",
              "      <th></th>\n",
              "      <th>views</th>\n",
              "      <th>comments</th>\n",
              "    </tr>\n",
              "  </thead>\n",
              "  <tbody>\n",
              "    <tr>\n",
              "      <th>views</th>\n",
              "      <td>1.000000</td>\n",
              "      <td>0.530939</td>\n",
              "    </tr>\n",
              "    <tr>\n",
              "      <th>comments</th>\n",
              "      <td>0.530939</td>\n",
              "      <td>1.000000</td>\n",
              "    </tr>\n",
              "  </tbody>\n",
              "</table>\n",
              "</div>"
            ],
            "text/plain": [
              "             views  comments\n",
              "views     1.000000  0.530939\n",
              "comments  0.530939  1.000000"
            ]
          },
          "metadata": {
            "tags": []
          },
          "execution_count": 103
        }
      ]
    },
    {
      "cell_type": "markdown",
      "metadata": {
        "id": "uQkYwh_FqFFV",
        "colab_type": "text"
      },
      "source": [
        "> From above, we can say the relationship between number of **views** and **comments** is high. It mean, if a video has high number of **views**, it will tend to has high number of **comments**"
      ]
    },
    {
      "cell_type": "markdown",
      "metadata": {
        "id": "r104VB2MrcV6",
        "colab_type": "text"
      },
      "source": [
        "#### > Event\n",
        "- Is a TED Talks well-known relate to **event** where was ogranized?"
      ]
    },
    {
      "cell_type": "markdown",
      "metadata": {
        "id": "4E0E__g24Zh4",
        "colab_type": "text"
      },
      "source": [
        "> Let's check how many event in TED Talks?"
      ]
    },
    {
      "cell_type": "code",
      "metadata": {
        "id": "pALz923B4YcE",
        "colab_type": "code",
        "outputId": "a820fc37-b493-441b-97ca-968d900e45d5",
        "colab": {
          "base_uri": "https://localhost:8080/",
          "height": 202
        }
      },
      "source": [
        "print(\"There are have: \", df['event'].nunique(), \"events.\")\n",
        "print(\"Example (30 events first):\")\n",
        "df['event'].unique()[:30]"
      ],
      "execution_count": 104,
      "outputs": [
        {
          "output_type": "stream",
          "text": [
            "There are have:  355 events.\n",
            "Example (30 events first):\n"
          ],
          "name": "stdout"
        },
        {
          "output_type": "execute_result",
          "data": {
            "text/plain": [
              "array(['TED2006', 'TED2004', 'TED2005', 'TEDGlobal 2005', 'TEDSalon 2006',\n",
              "       'TED2003', 'TED2007', 'TED2002', 'TEDGlobal 2007',\n",
              "       'TEDSalon 2007 Hot Science', 'Skoll World Forum 2007', 'TED2008',\n",
              "       'TED1984', 'TED1990', 'DLD 2007', 'EG 2007', 'TED1998',\n",
              "       'LIFT 2007', 'TED Prize Wish', 'TEDSalon 2009 Compassion',\n",
              "       'Chautauqua Institution', 'Serious Play 2008', 'Taste3 2008',\n",
              "       'TED2001', 'TED in the Field', 'TED2009', 'EG 2008',\n",
              "       'Elizabeth G. Anderson School', 'TEDxUSC', 'TED@State'],\n",
              "      dtype=object)"
            ]
          },
          "metadata": {
            "tags": []
          },
          "execution_count": 104
        }
      ]
    },
    {
      "cell_type": "markdown",
      "metadata": {
        "id": "MvAkiV5C2pNi",
        "colab_type": "text"
      },
      "source": [
        "> Actually, TED Talks has two main type of event: **TED** and **TEDx** type.\n",
        "\n",
        "- **TED talks** cover almost all topics — from science to business to global issues — in more than 100 languages. You can read more about the history of the TED movement here.\n",
        "\n",
        "- **TEDx** was then started as a way to allow groups and individuals to host local, self-organised events around the world.\n",
        "\n",
        "Ref: https://www.quora.com/Whats-the-difference-between-TED-and-TEDx"
      ]
    },
    {
      "cell_type": "markdown",
      "metadata": {
        "id": "i6qkLjSO3hlt",
        "colab_type": "text"
      },
      "source": [
        "> Create **event_type** column. This columns tell which type of event TED Talks."
      ]
    },
    {
      "cell_type": "code",
      "metadata": {
        "id": "wGI4CAXG-FBn",
        "colab_type": "code",
        "outputId": "69ab8c99-6d76-4001-ed7c-b3541531c433",
        "colab": {
          "base_uri": "https://localhost:8080/",
          "height": 34
        }
      },
      "source": [
        "df['event'].str.match('(TED)x?').sum()"
      ],
      "execution_count": 105,
      "outputs": [
        {
          "output_type": "execute_result",
          "data": {
            "text/plain": [
              "2439"
            ]
          },
          "metadata": {
            "tags": []
          },
          "execution_count": 105
        }
      ]
    },
    {
      "cell_type": "markdown",
      "metadata": {
        "id": "5yDW_sYe-SyM",
        "colab_type": "text"
      },
      "source": [
        "> There are just **2439**/**2550** videos which has exactly type of event. If not belong any type, assign it to '*none*' string."
      ]
    },
    {
      "cell_type": "code",
      "metadata": {
        "id": "R0Uo4fts36C6",
        "colab_type": "code",
        "outputId": "5949e34b-4fd6-4d09-f078-f16de7027dbd",
        "colab": {
          "base_uri": "https://localhost:8080/",
          "height": 84
        }
      },
      "source": [
        "import re\n",
        "df['event_type'] = df['event'].apply(lambda x: re.search('(TED)x?', x).group(0) if re.search('(TED)x?', x) else 'none' )\n",
        "df['event_type'].value_counts()"
      ],
      "execution_count": 106,
      "outputs": [
        {
          "output_type": "execute_result",
          "data": {
            "text/plain": [
              "TED     1968\n",
              "TEDx     471\n",
              "none     111\n",
              "Name: event_type, dtype: int64"
            ]
          },
          "metadata": {
            "tags": []
          },
          "execution_count": 106
        }
      ]
    },
    {
      "cell_type": "markdown",
      "metadata": {
        "id": "_enSakfcAoyQ",
        "colab_type": "text"
      },
      "source": [
        "> Caculating the ratio of the number views (or comments) on the number of event type video.\n",
        "\n",
        "=> Which ratio **higher** mean has **more atractive** view/comment on type of event.\n",
        "\n",
        "`radius = sum(views of event_type)/sum(number of video in event_type)`"
      ]
    },
    {
      "cell_type": "code",
      "metadata": {
        "id": "KTUesPD5EV_5",
        "colab_type": "code",
        "outputId": "aa6d1cc0-eb81-4cd4-9403-2c7edbdc9e60",
        "colab": {
          "base_uri": "https://localhost:8080/",
          "height": 136
        }
      },
      "source": [
        "view_on_event_type = df.groupby(by='event_type')['views'].sum()/df['event'].value_counts()[0]\n",
        "view_on_event_type = view_on_event_type.reset_index()\n",
        "view_on_event_type"
      ],
      "execution_count": 107,
      "outputs": [
        {
          "output_type": "execute_result",
          "data": {
            "text/html": [
              "<div>\n",
              "<style scoped>\n",
              "    .dataframe tbody tr th:only-of-type {\n",
              "        vertical-align: middle;\n",
              "    }\n",
              "\n",
              "    .dataframe tbody tr th {\n",
              "        vertical-align: top;\n",
              "    }\n",
              "\n",
              "    .dataframe thead th {\n",
              "        text-align: right;\n",
              "    }\n",
              "</style>\n",
              "<table border=\"1\" class=\"dataframe\">\n",
              "  <thead>\n",
              "    <tr style=\"text-align: right;\">\n",
              "      <th></th>\n",
              "      <th>event_type</th>\n",
              "      <th>views</th>\n",
              "    </tr>\n",
              "  </thead>\n",
              "  <tbody>\n",
              "    <tr>\n",
              "      <th>0</th>\n",
              "      <td>TED</td>\n",
              "      <td>4.144399e+07</td>\n",
              "    </tr>\n",
              "    <tr>\n",
              "      <th>1</th>\n",
              "      <td>TEDx</td>\n",
              "      <td>8.783009e+06</td>\n",
              "    </tr>\n",
              "    <tr>\n",
              "      <th>2</th>\n",
              "      <td>none</td>\n",
              "      <td>1.328462e+06</td>\n",
              "    </tr>\n",
              "  </tbody>\n",
              "</table>\n",
              "</div>"
            ],
            "text/plain": [
              "  event_type         views\n",
              "0        TED  4.144399e+07\n",
              "1       TEDx  8.783009e+06\n",
              "2       none  1.328462e+06"
            ]
          },
          "metadata": {
            "tags": []
          },
          "execution_count": 107
        }
      ]
    },
    {
      "cell_type": "code",
      "metadata": {
        "id": "OuD02TGeFN8a",
        "colab_type": "code",
        "outputId": "597c0b48-75bf-49fe-ceb1-6a2310844c19",
        "colab": {
          "base_uri": "https://localhost:8080/",
          "height": 313
        }
      },
      "source": [
        "sns.barplot(x='event_type', y='views', data=view_on_event_type)"
      ],
      "execution_count": 108,
      "outputs": [
        {
          "output_type": "execute_result",
          "data": {
            "text/plain": [
              "<matplotlib.axes._subplots.AxesSubplot at 0x7f0c920c0b00>"
            ]
          },
          "metadata": {
            "tags": []
          },
          "execution_count": 108
        },
        {
          "output_type": "display_data",
          "data": {
            "image/png": "[encoded data removed]",
            "text/plain": [
              "<Figure size 432x288 with 1 Axes>"
            ]
          },
          "metadata": {
            "tags": []
          }
        }
      ]
    },
    {
      "cell_type": "markdown",
      "metadata": {
        "id": "ZidPvatsAiaR",
        "colab_type": "text"
      },
      "source": [
        "> From the above chart, *the more popular TED Talks* will be ogranized in **TED event**. \n",
        "\n",
        "This is easy to observe because TED event are presentations in world scope. Meanwhile, TEDx is showed in local scope or just a group. "
      ]
    },
    {
      "cell_type": "markdown",
      "metadata": {
        "id": "ELLb3PKGkWyr",
        "colab_type": "text"
      },
      "source": [
        "#### > Ratings\n",
        "- To know which TED Talks are popular, content of video is **also** *important factor* to decide.\n",
        "- Content in dataset is divided into some type that is stored in **ratings** attribute"
      ]
    },
    {
      "cell_type": "markdown",
      "metadata": {
        "id": "NlNtVJhSlXY3",
        "colab_type": "text"
      },
      "source": [
        "> Let show some ratings TED Talks"
      ]
    },
    {
      "cell_type": "code",
      "metadata": {
        "id": "621p40jTlB_b",
        "colab_type": "code",
        "outputId": "d70ebd73-4f04-40be-bd49-b37a510c6fa4",
        "colab": {
          "base_uri": "https://localhost:8080/",
          "height": 118
        }
      },
      "source": [
        "print(df['ratings'].sample(4))\n",
        "print(type(df['ratings'][0]))"
      ],
      "execution_count": 109,
      "outputs": [
        {
          "output_type": "stream",
          "text": [
            "1482    [{'id': 1, 'name': 'Beautiful', 'count': 533},...\n",
            "2206    [{'id': 1, 'name': 'Beautiful', 'count': 348},...\n",
            "1573    [{'id': 26, 'name': 'Obnoxious', 'count': 87},...\n",
            "1173    [{'id': 23, 'name': 'Jaw-dropping', 'count': 1...\n",
            "Name: ratings, dtype: object\n",
            "<class 'str'>\n"
          ],
          "name": "stdout"
        }
      ]
    },
    {
      "cell_type": "markdown",
      "metadata": {
        "id": "L3TQ_V0mmtcu",
        "colab_type": "text"
      },
      "source": [
        "> **ratings** in dataset is `string` type. We need to convert it to `object` to easy handle.\n",
        "\n",
        "- **rating** is parsed to **list**. \n",
        "- This **list** contains many **object**. \n",
        "- A **object** is include: **id**, **name**, **count**"
      ]
    },
    {
      "cell_type": "code",
      "metadata": {
        "id": "kLIInRkellO0",
        "colab_type": "code",
        "outputId": "da70b66e-b06e-4497-e3c2-4a5424ceb5b8",
        "colab": {
          "base_uri": "https://localhost:8080/",
          "height": 34
        }
      },
      "source": [
        "df['ratings'] = df['ratings'].apply(lambda x: eval(x))\n",
        "type(df['ratings'][0])"
      ],
      "execution_count": 110,
      "outputs": [
        {
          "output_type": "execute_result",
          "data": {
            "text/plain": [
              "list"
            ]
          },
          "metadata": {
            "tags": []
          },
          "execution_count": 110
        }
      ]
    },
    {
      "cell_type": "markdown",
      "metadata": {
        "id": "1an-1S-HpT9u",
        "colab_type": "text"
      },
      "source": [
        "An example **rating** of row in dataset"
      ]
    },
    {
      "cell_type": "code",
      "metadata": {
        "id": "-OCii9-lmasa",
        "colab_type": "code",
        "outputId": "6817aef7-6d8c-4114-8f08-9508ed83e0df",
        "colab": {
          "base_uri": "https://localhost:8080/",
          "height": 339
        }
      },
      "source": [
        "print(\"Rating at row 0: \\n\", df['ratings'][0])\n",
        "print(\"All name of rating at row 0: \\n\")\n",
        "[x['name'] for x in df['ratings'][0]]"
      ],
      "execution_count": 111,
      "outputs": [
        {
          "output_type": "stream",
          "text": [
            "Rating at row 0: \n",
            " [{'id': 7, 'name': 'Funny', 'count': 19645}, {'id': 1, 'name': 'Beautiful', 'count': 4573}, {'id': 9, 'name': 'Ingenious', 'count': 6073}, {'id': 3, 'name': 'Courageous', 'count': 3253}, {'id': 11, 'name': 'Longwinded', 'count': 387}, {'id': 2, 'name': 'Confusing', 'count': 242}, {'id': 8, 'name': 'Informative', 'count': 7346}, {'id': 22, 'name': 'Fascinating', 'count': 10581}, {'id': 21, 'name': 'Unconvincing', 'count': 300}, {'id': 24, 'name': 'Persuasive', 'count': 10704}, {'id': 23, 'name': 'Jaw-dropping', 'count': 4439}, {'id': 25, 'name': 'OK', 'count': 1174}, {'id': 26, 'name': 'Obnoxious', 'count': 209}, {'id': 10, 'name': 'Inspiring', 'count': 24924}]\n",
            "All name of rating at row 0: \n",
            "\n"
          ],
          "name": "stdout"
        },
        {
          "output_type": "execute_result",
          "data": {
            "text/plain": [
              "['Funny',\n",
              " 'Beautiful',\n",
              " 'Ingenious',\n",
              " 'Courageous',\n",
              " 'Longwinded',\n",
              " 'Confusing',\n",
              " 'Informative',\n",
              " 'Fascinating',\n",
              " 'Unconvincing',\n",
              " 'Persuasive',\n",
              " 'Jaw-dropping',\n",
              " 'OK',\n",
              " 'Obnoxious',\n",
              " 'Inspiring']"
            ]
          },
          "metadata": {
            "tags": []
          },
          "execution_count": 111
        }
      ]
    },
    {
      "cell_type": "markdown",
      "metadata": {
        "id": "i7hUH94DJ6eR",
        "colab_type": "text"
      },
      "source": [
        "> Get all **rating** name"
      ]
    },
    {
      "cell_type": "code",
      "metadata": {
        "id": "sNXMOP_WKPLZ",
        "colab_type": "code",
        "outputId": "62c10a15-6744-4bdf-a563-87fb147056fb",
        "colab": {
          "base_uri": "https://localhost:8080/",
          "height": 54
        }
      },
      "source": [
        "rate_df = pd.DataFrame(data=df['title'], columns=['title'])\n",
        "rate_names = defaultdict(list)\n",
        "for index, row in df.iterrows():\n",
        "  rates = row['ratings']\n",
        "  for rate in rates:\n",
        "    rate_names[rate['name']].append(rate['count'])\n",
        "rate_names.keys()"
      ],
      "execution_count": 112,
      "outputs": [
        {
          "output_type": "execute_result",
          "data": {
            "text/plain": [
              "dict_keys(['Funny', 'Beautiful', 'Ingenious', 'Courageous', 'Longwinded', 'Confusing', 'Informative', 'Fascinating', 'Unconvincing', 'Persuasive', 'Jaw-dropping', 'OK', 'Obnoxious', 'Inspiring'])"
            ]
          },
          "metadata": {
            "tags": []
          },
          "execution_count": 112
        }
      ]
    },
    {
      "cell_type": "code",
      "metadata": {
        "id": "QwW0hM1j0kgh",
        "colab_type": "code",
        "outputId": "58a574f1-44ec-47ce-baa6-0ae8fff75bb5",
        "colab": {
          "base_uri": "https://localhost:8080/",
          "height": 229
        }
      },
      "source": [
        "for index, (key, value) in enumerate(rate_names.items()):\n",
        "  rate_df.insert(loc=index, column=key.lower(), value=value, allow_duplicates=False)\n",
        "rate_df.head()"
      ],
      "execution_count": 113,
      "outputs": [
        {
          "output_type": "execute_result",
          "data": {
            "text/html": [
              "<div>\n",
              "<style scoped>\n",
              "    .dataframe tbody tr th:only-of-type {\n",
              "        vertical-align: middle;\n",
              "    }\n",
              "\n",
              "    .dataframe tbody tr th {\n",
              "        vertical-align: top;\n",
              "    }\n",
              "\n",
              "    .dataframe thead th {\n",
              "        text-align: right;\n",
              "    }\n",
              "</style>\n",
              "<table border=\"1\" class=\"dataframe\">\n",
              "  <thead>\n",
              "    <tr style=\"text-align: right;\">\n",
              "      <th></th>\n",
              "      <th>funny</th>\n",
              "      <th>beautiful</th>\n",
              "      <th>ingenious</th>\n",
              "      <th>courageous</th>\n",
              "      <th>longwinded</th>\n",
              "      <th>confusing</th>\n",
              "      <th>informative</th>\n",
              "      <th>fascinating</th>\n",
              "      <th>unconvincing</th>\n",
              "      <th>persuasive</th>\n",
              "      <th>jaw-dropping</th>\n",
              "      <th>ok</th>\n",
              "      <th>obnoxious</th>\n",
              "      <th>inspiring</th>\n",
              "      <th>title</th>\n",
              "    </tr>\n",
              "  </thead>\n",
              "  <tbody>\n",
              "    <tr>\n",
              "      <th>0</th>\n",
              "      <td>19645</td>\n",
              "      <td>4573</td>\n",
              "      <td>6073</td>\n",
              "      <td>3253</td>\n",
              "      <td>387</td>\n",
              "      <td>242</td>\n",
              "      <td>7346</td>\n",
              "      <td>10581</td>\n",
              "      <td>300</td>\n",
              "      <td>10704</td>\n",
              "      <td>4439</td>\n",
              "      <td>1174</td>\n",
              "      <td>209</td>\n",
              "      <td>24924</td>\n",
              "      <td>Do schools kill creativity?</td>\n",
              "    </tr>\n",
              "    <tr>\n",
              "      <th>1</th>\n",
              "      <td>544</td>\n",
              "      <td>58</td>\n",
              "      <td>56</td>\n",
              "      <td>139</td>\n",
              "      <td>113</td>\n",
              "      <td>62</td>\n",
              "      <td>443</td>\n",
              "      <td>132</td>\n",
              "      <td>258</td>\n",
              "      <td>268</td>\n",
              "      <td>116</td>\n",
              "      <td>203</td>\n",
              "      <td>131</td>\n",
              "      <td>413</td>\n",
              "      <td>Averting the climate crisis</td>\n",
              "    </tr>\n",
              "    <tr>\n",
              "      <th>2</th>\n",
              "      <td>964</td>\n",
              "      <td>60</td>\n",
              "      <td>183</td>\n",
              "      <td>45</td>\n",
              "      <td>78</td>\n",
              "      <td>27</td>\n",
              "      <td>395</td>\n",
              "      <td>166</td>\n",
              "      <td>104</td>\n",
              "      <td>230</td>\n",
              "      <td>54</td>\n",
              "      <td>146</td>\n",
              "      <td>142</td>\n",
              "      <td>230</td>\n",
              "      <td>Simplicity sells</td>\n",
              "    </tr>\n",
              "    <tr>\n",
              "      <th>3</th>\n",
              "      <td>59</td>\n",
              "      <td>291</td>\n",
              "      <td>105</td>\n",
              "      <td>760</td>\n",
              "      <td>53</td>\n",
              "      <td>32</td>\n",
              "      <td>380</td>\n",
              "      <td>132</td>\n",
              "      <td>36</td>\n",
              "      <td>460</td>\n",
              "      <td>230</td>\n",
              "      <td>85</td>\n",
              "      <td>35</td>\n",
              "      <td>1070</td>\n",
              "      <td>Greening the ghetto</td>\n",
              "    </tr>\n",
              "    <tr>\n",
              "      <th>4</th>\n",
              "      <td>1390</td>\n",
              "      <td>942</td>\n",
              "      <td>3202</td>\n",
              "      <td>318</td>\n",
              "      <td>110</td>\n",
              "      <td>72</td>\n",
              "      <td>5433</td>\n",
              "      <td>4606</td>\n",
              "      <td>67</td>\n",
              "      <td>2542</td>\n",
              "      <td>3736</td>\n",
              "      <td>248</td>\n",
              "      <td>61</td>\n",
              "      <td>2893</td>\n",
              "      <td>The best stats you've ever seen</td>\n",
              "    </tr>\n",
              "  </tbody>\n",
              "</table>\n",
              "</div>"
            ],
            "text/plain": [
              "   funny  beautiful  ...  inspiring                            title\n",
              "0  19645       4573  ...      24924      Do schools kill creativity?\n",
              "1    544         58  ...        413      Averting the climate crisis\n",
              "2    964         60  ...        230                 Simplicity sells\n",
              "3     59        291  ...       1070              Greening the ghetto\n",
              "4   1390        942  ...       2893  The best stats you've ever seen\n",
              "\n",
              "[5 rows x 15 columns]"
            ]
          },
          "metadata": {
            "tags": []
          },
          "execution_count": 113
        }
      ]
    },
    {
      "cell_type": "markdown",
      "metadata": {
        "id": "QspRLrCj2mjq",
        "colab_type": "text"
      },
      "source": [
        "> Now we have a rate dataframe which indicate how many a rating name was counted in each TED Talks.\n",
        "\n",
        "Let's calculate **total number of rate** on every video then check if a video has many **rate** that will **popular**?"
      ]
    },
    {
      "cell_type": "code",
      "metadata": {
        "id": "bJX_CA0tuJ_3",
        "colab_type": "code",
        "colab": {}
      },
      "source": [
        "rate_df['total'] = rate_df.loc[:, (rate_df.columns != 'title')].sum(axis=1)"
      ],
      "execution_count": 0,
      "outputs": []
    },
    {
      "cell_type": "code",
      "metadata": {
        "id": "JwrRisyT8LHD",
        "colab_type": "code",
        "outputId": "8c2735db-32ae-4c25-fd6d-7b9d6fc1988c",
        "colab": {
          "base_uri": "https://localhost:8080/",
          "height": 84
        }
      },
      "source": [
        "# swap title, total colum to first colum of dataframe\n",
        "cols = list(rate_df)\n",
        "cols[0], cols[len(cols)-2] = cols[len(cols)-2] , cols[0]\n",
        "cols[1], cols[len(cols)-1] = cols[len(cols)-1], cols[1]\n",
        "rate_df = rate_df.reindex(columns=cols)\n",
        "rate_df.columns"
      ],
      "execution_count": 115,
      "outputs": [
        {
          "output_type": "execute_result",
          "data": {
            "text/plain": [
              "Index(['title', 'total', 'ingenious', 'courageous', 'longwinded', 'confusing',\n",
              "       'informative', 'fascinating', 'unconvincing', 'persuasive',\n",
              "       'jaw-dropping', 'ok', 'obnoxious', 'inspiring', 'funny', 'beautiful'],\n",
              "      dtype='object')"
            ]
          },
          "metadata": {
            "tags": []
          },
          "execution_count": 115
        }
      ]
    },
    {
      "cell_type": "markdown",
      "metadata": {
        "id": "4TwQZoco7maE",
        "colab_type": "text"
      },
      "source": [
        "> Get **top 10** videos have **the most rating**"
      ]
    },
    {
      "cell_type": "code",
      "metadata": {
        "id": "AQaePSJP7lis",
        "colab_type": "code",
        "outputId": "d03aca6f-59ba-404f-a17e-ad1fcf8313ea",
        "colab": {
          "base_uri": "https://localhost:8080/",
          "height": 578
        }
      },
      "source": [
        "rate_df.sort_values(['total'], ascending=False, inplace=True)\n",
        "rate_df[:10]"
      ],
      "execution_count": 116,
      "outputs": [
        {
          "output_type": "execute_result",
          "data": {
            "text/html": [
              "<div>\n",
              "<style scoped>\n",
              "    .dataframe tbody tr th:only-of-type {\n",
              "        vertical-align: middle;\n",
              "    }\n",
              "\n",
              "    .dataframe tbody tr th {\n",
              "        vertical-align: top;\n",
              "    }\n",
              "\n",
              "    .dataframe thead th {\n",
              "        text-align: right;\n",
              "    }\n",
              "</style>\n",
              "<table border=\"1\" class=\"dataframe\">\n",
              "  <thead>\n",
              "    <tr style=\"text-align: right;\">\n",
              "      <th></th>\n",
              "      <th>title</th>\n",
              "      <th>total</th>\n",
              "      <th>ingenious</th>\n",
              "      <th>courageous</th>\n",
              "      <th>longwinded</th>\n",
              "      <th>confusing</th>\n",
              "      <th>informative</th>\n",
              "      <th>fascinating</th>\n",
              "      <th>unconvincing</th>\n",
              "      <th>persuasive</th>\n",
              "      <th>jaw-dropping</th>\n",
              "      <th>ok</th>\n",
              "      <th>obnoxious</th>\n",
              "      <th>inspiring</th>\n",
              "      <th>funny</th>\n",
              "      <th>beautiful</th>\n",
              "    </tr>\n",
              "  </thead>\n",
              "  <tbody>\n",
              "    <tr>\n",
              "      <th>0</th>\n",
              "      <td>Do schools kill creativity?</td>\n",
              "      <td>93850</td>\n",
              "      <td>6073</td>\n",
              "      <td>3253</td>\n",
              "      <td>387</td>\n",
              "      <td>242</td>\n",
              "      <td>7346</td>\n",
              "      <td>10581</td>\n",
              "      <td>300</td>\n",
              "      <td>10704</td>\n",
              "      <td>4439</td>\n",
              "      <td>1174</td>\n",
              "      <td>209</td>\n",
              "      <td>24924</td>\n",
              "      <td>19645</td>\n",
              "      <td>4573</td>\n",
              "    </tr>\n",
              "    <tr>\n",
              "      <th>201</th>\n",
              "      <td>My stroke of insight</td>\n",
              "      <td>70665</td>\n",
              "      <td>1228</td>\n",
              "      <td>7842</td>\n",
              "      <td>398</td>\n",
              "      <td>289</td>\n",
              "      <td>5430</td>\n",
              "      <td>14447</td>\n",
              "      <td>550</td>\n",
              "      <td>1704</td>\n",
              "      <td>10464</td>\n",
              "      <td>636</td>\n",
              "      <td>356</td>\n",
              "      <td>16918</td>\n",
              "      <td>966</td>\n",
              "      <td>9437</td>\n",
              "    </tr>\n",
              "    <tr>\n",
              "      <th>1346</th>\n",
              "      <td>Your body language may shape who you are</td>\n",
              "      <td>65968</td>\n",
              "      <td>1428</td>\n",
              "      <td>6305</td>\n",
              "      <td>338</td>\n",
              "      <td>197</td>\n",
              "      <td>9787</td>\n",
              "      <td>11111</td>\n",
              "      <td>335</td>\n",
              "      <td>6217</td>\n",
              "      <td>3586</td>\n",
              "      <td>1129</td>\n",
              "      <td>155</td>\n",
              "      <td>21210</td>\n",
              "      <td>938</td>\n",
              "      <td>3232</td>\n",
              "    </tr>\n",
              "    <tr>\n",
              "      <th>837</th>\n",
              "      <td>The power of vulnerability</td>\n",
              "      <td>60078</td>\n",
              "      <td>1094</td>\n",
              "      <td>8280</td>\n",
              "      <td>283</td>\n",
              "      <td>155</td>\n",
              "      <td>4561</td>\n",
              "      <td>4638</td>\n",
              "      <td>233</td>\n",
              "      <td>3510</td>\n",
              "      <td>2100</td>\n",
              "      <td>500</td>\n",
              "      <td>113</td>\n",
              "      <td>21444</td>\n",
              "      <td>5225</td>\n",
              "      <td>7942</td>\n",
              "    </tr>\n",
              "    <tr>\n",
              "      <th>677</th>\n",
              "      <td>How great leaders inspire action</td>\n",
              "      <td>56779</td>\n",
              "      <td>3413</td>\n",
              "      <td>1161</td>\n",
              "      <td>390</td>\n",
              "      <td>112</td>\n",
              "      <td>6600</td>\n",
              "      <td>7440</td>\n",
              "      <td>930</td>\n",
              "      <td>8845</td>\n",
              "      <td>2659</td>\n",
              "      <td>1341</td>\n",
              "      <td>294</td>\n",
              "      <td>21564</td>\n",
              "      <td>390</td>\n",
              "      <td>1640</td>\n",
              "    </tr>\n",
              "    <tr>\n",
              "      <th>1030</th>\n",
              "      <td>How to live before you die</td>\n",
              "      <td>38158</td>\n",
              "      <td>1197</td>\n",
              "      <td>4151</td>\n",
              "      <td>158</td>\n",
              "      <td>138</td>\n",
              "      <td>1368</td>\n",
              "      <td>3364</td>\n",
              "      <td>201</td>\n",
              "      <td>2606</td>\n",
              "      <td>2051</td>\n",
              "      <td>863</td>\n",
              "      <td>134</td>\n",
              "      <td>17290</td>\n",
              "      <td>783</td>\n",
              "      <td>3854</td>\n",
              "    </tr>\n",
              "    <tr>\n",
              "      <th>1129</th>\n",
              "      <td>The happy secret to better work</td>\n",
              "      <td>32180</td>\n",
              "      <td>1162</td>\n",
              "      <td>471</td>\n",
              "      <td>78</td>\n",
              "      <td>61</td>\n",
              "      <td>3886</td>\n",
              "      <td>2529</td>\n",
              "      <td>82</td>\n",
              "      <td>3426</td>\n",
              "      <td>683</td>\n",
              "      <td>206</td>\n",
              "      <td>61</td>\n",
              "      <td>11213</td>\n",
              "      <td>7315</td>\n",
              "      <td>1007</td>\n",
              "    </tr>\n",
              "    <tr>\n",
              "      <th>1163</th>\n",
              "      <td>The power of introverts</td>\n",
              "      <td>30037</td>\n",
              "      <td>830</td>\n",
              "      <td>3944</td>\n",
              "      <td>163</td>\n",
              "      <td>83</td>\n",
              "      <td>3623</td>\n",
              "      <td>3157</td>\n",
              "      <td>147</td>\n",
              "      <td>3365</td>\n",
              "      <td>442</td>\n",
              "      <td>469</td>\n",
              "      <td>80</td>\n",
              "      <td>10218</td>\n",
              "      <td>1049</td>\n",
              "      <td>2467</td>\n",
              "    </tr>\n",
              "    <tr>\n",
              "      <th>176</th>\n",
              "      <td>Underwater astonishments</td>\n",
              "      <td>30011</td>\n",
              "      <td>543</td>\n",
              "      <td>216</td>\n",
              "      <td>79</td>\n",
              "      <td>95</td>\n",
              "      <td>3875</td>\n",
              "      <td>8448</td>\n",
              "      <td>80</td>\n",
              "      <td>236</td>\n",
              "      <td>8328</td>\n",
              "      <td>322</td>\n",
              "      <td>126</td>\n",
              "      <td>1647</td>\n",
              "      <td>815</td>\n",
              "      <td>5201</td>\n",
              "    </tr>\n",
              "    <tr>\n",
              "      <th>530</th>\n",
              "      <td>The danger of a single story</td>\n",
              "      <td>29775</td>\n",
              "      <td>744</td>\n",
              "      <td>2817</td>\n",
              "      <td>109</td>\n",
              "      <td>85</td>\n",
              "      <td>2687</td>\n",
              "      <td>2983</td>\n",
              "      <td>103</td>\n",
              "      <td>3002</td>\n",
              "      <td>948</td>\n",
              "      <td>333</td>\n",
              "      <td>78</td>\n",
              "      <td>9566</td>\n",
              "      <td>713</td>\n",
              "      <td>5607</td>\n",
              "    </tr>\n",
              "  </tbody>\n",
              "</table>\n",
              "</div>"
            ],
            "text/plain": [
              "                                         title  total  ...  funny  beautiful\n",
              "0                  Do schools kill creativity?  93850  ...  19645       4573\n",
              "201                       My stroke of insight  70665  ...    966       9437\n",
              "1346  Your body language may shape who you are  65968  ...    938       3232\n",
              "837                 The power of vulnerability  60078  ...   5225       7942\n",
              "677           How great leaders inspire action  56779  ...    390       1640\n",
              "1030                How to live before you die  38158  ...    783       3854\n",
              "1129           The happy secret to better work  32180  ...   7315       1007\n",
              "1163                   The power of introverts  30037  ...   1049       2467\n",
              "176                   Underwater astonishments  30011  ...    815       5201\n",
              "530               The danger of a single story  29775  ...    713       5607\n",
              "\n",
              "[10 rows x 16 columns]"
            ]
          },
          "metadata": {
            "tags": []
          },
          "execution_count": 116
        }
      ]
    },
    {
      "cell_type": "code",
      "metadata": {
        "id": "uPqc5PYOhJJK",
        "colab_type": "code",
        "outputId": "694055eb-559e-4fc5-b779-3c7428189345",
        "colab": {
          "base_uri": "https://localhost:8080/",
          "height": 308
        }
      },
      "source": [
        "sns.barplot(x='total', y='title', data=rate_df[:10])"
      ],
      "execution_count": 117,
      "outputs": [
        {
          "output_type": "execute_result",
          "data": {
            "text/plain": [
              "<matplotlib.axes._subplots.AxesSubplot at 0x7f0c92f6fa20>"
            ]
          },
          "metadata": {
            "tags": []
          },
          "execution_count": 117
        },
        {
          "output_type": "display_data",
          "data": {
            "image/png": "[encoded data removed]",
            "text/plain": [
              "<Figure size 432x288 with 1 Axes>"
            ]
          },
          "metadata": {
            "tags": []
          }
        }
      ]
    },
    {
      "cell_type": "markdown",
      "metadata": {
        "id": "OysTxGJ6lIHH",
        "colab_type": "text"
      },
      "source": [
        "> Now there are **top 10** rating on TED Talks. These videos should be famous.\n",
        "\n",
        "Let's show the correlation among **number of rating**, **number of views** and **number of comments**"
      ]
    },
    {
      "cell_type": "code",
      "metadata": {
        "id": "S0pzkDtwlHX9",
        "colab_type": "code",
        "outputId": "242e75f4-5752-4c6c-85fa-d4a325687ab8",
        "colab": {
          "base_uri": "https://localhost:8080/",
          "height": 136
        }
      },
      "source": [
        "rating_update_df = df.merge(rate_df, how = 'left', on = ['title'])\n",
        "rating_update_df[['views','comments','total']].corr()"
      ],
      "execution_count": 118,
      "outputs": [
        {
          "output_type": "execute_result",
          "data": {
            "text/html": [
              "<div>\n",
              "<style scoped>\n",
              "    .dataframe tbody tr th:only-of-type {\n",
              "        vertical-align: middle;\n",
              "    }\n",
              "\n",
              "    .dataframe tbody tr th {\n",
              "        vertical-align: top;\n",
              "    }\n",
              "\n",
              "    .dataframe thead th {\n",
              "        text-align: right;\n",
              "    }\n",
              "</style>\n",
              "<table border=\"1\" class=\"dataframe\">\n",
              "  <thead>\n",
              "    <tr style=\"text-align: right;\">\n",
              "      <th></th>\n",
              "      <th>views</th>\n",
              "      <th>comments</th>\n",
              "      <th>total</th>\n",
              "    </tr>\n",
              "  </thead>\n",
              "  <tbody>\n",
              "    <tr>\n",
              "      <th>views</th>\n",
              "      <td>1.000000</td>\n",
              "      <td>0.530939</td>\n",
              "      <td>0.865586</td>\n",
              "    </tr>\n",
              "    <tr>\n",
              "      <th>comments</th>\n",
              "      <td>0.530939</td>\n",
              "      <td>1.000000</td>\n",
              "      <td>0.644329</td>\n",
              "    </tr>\n",
              "    <tr>\n",
              "      <th>total</th>\n",
              "      <td>0.865586</td>\n",
              "      <td>0.644329</td>\n",
              "      <td>1.000000</td>\n",
              "    </tr>\n",
              "  </tbody>\n",
              "</table>\n",
              "</div>"
            ],
            "text/plain": [
              "             views  comments     total\n",
              "views     1.000000  0.530939  0.865586\n",
              "comments  0.530939  1.000000  0.644329\n",
              "total     0.865586  0.644329  1.000000"
            ]
          },
          "metadata": {
            "tags": []
          },
          "execution_count": 118
        }
      ]
    },
    {
      "cell_type": "code",
      "metadata": {
        "id": "zkdvkkbznS1-",
        "colab_type": "code",
        "outputId": "2f4c8a01-932a-47cb-c4c5-6a58f8c75714",
        "colab": {
          "base_uri": "https://localhost:8080/",
          "height": 308
        }
      },
      "source": [
        "sns.regplot(x=\"views\", y=\"total\", data=rating_update_df)\n",
        "plt.xlabel(\"Views\")\n",
        "plt.ylabel(\"Total Rating\")"
      ],
      "execution_count": 119,
      "outputs": [
        {
          "output_type": "execute_result",
          "data": {
            "text/plain": [
              "Text(0, 0.5, 'Total Rating')"
            ]
          },
          "metadata": {
            "tags": []
          },
          "execution_count": 119
        },
        {
          "output_type": "display_data",
          "data": {
            "image/png": "[encoded data removed]",
            "text/plain": [
              "<Figure size 432x288 with 1 Axes>"
            ]
          },
          "metadata": {
            "tags": []
          }
        }
      ]
    },
    {
      "cell_type": "code",
      "metadata": {
        "id": "UmHLLcFCoHUm",
        "colab_type": "code",
        "outputId": "66aa581d-d79e-4942-d4ca-8f2e1f2493b0",
        "colab": {
          "base_uri": "https://localhost:8080/",
          "height": 308
        }
      },
      "source": [
        "sns.regplot(x=\"comments\", y=\"total\", data=rating_update_df)\n",
        "plt.xlabel(\"Comments\")\n",
        "plt.ylabel(\"Total Rating\")"
      ],
      "execution_count": 120,
      "outputs": [
        {
          "output_type": "execute_result",
          "data": {
            "text/plain": [
              "Text(0, 0.5, 'Total Rating')"
            ]
          },
          "metadata": {
            "tags": []
          },
          "execution_count": 120
        },
        {
          "output_type": "display_data",
          "data": {
            "image/png": "[encoded data removed]",
            "text/plain": [
              "<Figure size 432x288 with 1 Axes>"
            ]
          },
          "metadata": {
            "tags": []
          }
        }
      ]
    },
    {
      "cell_type": "markdown",
      "metadata": {
        "id": "hQp1_s7moXX0",
        "colab_type": "text"
      },
      "source": [
        "> From **correlation** and **two chart** above, the videos will has great of deal **rating** if it has high number **views** or **comments**\n",
        "\n",
        "That makes sense, because viewer tend to watch the TED Talks before they **rate** it. **Comments** has also correlated with **rating**, but not as much as **views**"
      ]
    },
    {
      "cell_type": "markdown",
      "metadata": {
        "id": "lhdiEZsZuvy4",
        "colab_type": "text"
      },
      "source": [
        "#### > Tags\n",
        "- **tag** of video ***can*** also affect to number of **views** or in other words the popular TED Talks.\n",
        "- Thus, some people might search video base on **tag** (e.g: education, science, AI,...). So, these TED Talks will be famous."
      ]
    },
    {
      "cell_type": "code",
      "metadata": {
        "id": "mcGrrsDmx4HE",
        "colab_type": "code",
        "outputId": "a54b0bc2-847f-4d65-9994-d34f6c5eab60",
        "colab": {
          "base_uri": "https://localhost:8080/",
          "height": 118
        }
      },
      "source": [
        "df['tags'] = df['tags'].apply(lambda x: eval(x))\n",
        "df['tags'].head()"
      ],
      "execution_count": 121,
      "outputs": [
        {
          "output_type": "execute_result",
          "data": {
            "text/plain": [
              "0    [children, creativity, culture, dance, educati...\n",
              "1    [alternative energy, cars, climate change, cul...\n",
              "2    [computers, entertainment, interface design, m...\n",
              "3    [MacArthur grant, activism, business, cities, ...\n",
              "4    [Africa, Asia, Google, demo, economics, global...\n",
              "Name: tags, dtype: object"
            ]
          },
          "metadata": {
            "tags": []
          },
          "execution_count": 121
        }
      ]
    },
    {
      "cell_type": "code",
      "metadata": {
        "id": "OCCSUieVzCf2",
        "colab_type": "code",
        "colab": {}
      },
      "source": [
        "# Get list tag name\n",
        "tags_dict = defaultdict(int)\n",
        "for tags in df['tags']:\n",
        "  for tag in tags:\n",
        "    if tag in tags_dict:\n",
        "      tags_dict[tag] += 1\n",
        "    else:\n",
        "      tags_dict[tag] = 1"
      ],
      "execution_count": 0,
      "outputs": []
    },
    {
      "cell_type": "markdown",
      "metadata": {
        "id": "m43_DjMFwxr5",
        "colab_type": "text"
      },
      "source": [
        "Get **top 10** tags has the most mention on videos"
      ]
    },
    {
      "cell_type": "code",
      "metadata": {
        "id": "HCTHMj_K4-qZ",
        "colab_type": "code",
        "outputId": "277eafc4-9e10-4dc0-ec1c-e392c61d9bc4",
        "colab": {
          "base_uri": "https://localhost:8080/",
          "height": 185
        }
      },
      "source": [
        "from collections import Counter \n",
        "top_10_tags = Counter(tags_dict).most_common(10)\n",
        "top_10_tags"
      ],
      "execution_count": 123,
      "outputs": [
        {
          "output_type": "execute_result",
          "data": {
            "text/plain": [
              "[('technology', 727),\n",
              " ('science', 567),\n",
              " ('global issues', 501),\n",
              " ('culture', 486),\n",
              " ('TEDx', 450),\n",
              " ('design', 418),\n",
              " ('business', 348),\n",
              " ('entertainment', 299),\n",
              " ('health', 236),\n",
              " ('innovation', 229)]"
            ]
          },
          "metadata": {
            "tags": []
          },
          "execution_count": 123
        }
      ]
    },
    {
      "cell_type": "code",
      "metadata": {
        "id": "uxch-sTT1XCl",
        "colab_type": "code",
        "outputId": "5b00d5c8-f514-41bf-d677-b18c235b8856",
        "colab": {
          "base_uri": "https://localhost:8080/",
          "height": 185
        }
      },
      "source": [
        "top_10_tag_names = [x[0] for x in top_10_tags]\n",
        "top_10_tag_names"
      ],
      "execution_count": 124,
      "outputs": [
        {
          "output_type": "execute_result",
          "data": {
            "text/plain": [
              "['technology',\n",
              " 'science',\n",
              " 'global issues',\n",
              " 'culture',\n",
              " 'TEDx',\n",
              " 'design',\n",
              " 'business',\n",
              " 'entertainment',\n",
              " 'health',\n",
              " 'innovation']"
            ]
          },
          "metadata": {
            "tags": []
          },
          "execution_count": 124
        }
      ]
    },
    {
      "cell_type": "markdown",
      "metadata": {
        "id": "CtEz7ArGyag6",
        "colab_type": "text"
      },
      "source": [
        "> That is **top 10 tag name** in dataset.\n",
        "\n",
        "Check **top 10 views** videos has any **top 10 tag name**?"
      ]
    },
    {
      "cell_type": "code",
      "metadata": {
        "colab_type": "code",
        "id": "A5myLW2hBGWo",
        "colab": {}
      },
      "source": [
        "def getInTop10Tag(tags):\n",
        "  top_tag = []\n",
        "  for tag in tags:\n",
        "    if tag in top_10_tag_names:\n",
        "      top_tag.append(tag)\n",
        "  return top_tag"
      ],
      "execution_count": 0,
      "outputs": []
    },
    {
      "cell_type": "code",
      "metadata": {
        "id": "JBmKaYxEwASV",
        "colab_type": "code",
        "outputId": "47c15e83-caa4-4970-be3a-98fd85c70796",
        "colab": {
          "base_uri": "https://localhost:8080/",
          "height": 343
        }
      },
      "source": [
        "df['in_top_10_tag'] = df['tags'].apply(lambda x: getInTop10Tag(x))\n",
        "top_tags_df = df.sort_values(by=['views'], ascending=False)[['title', 'views', 'comments', 'in_top_10_tag']]\n",
        "top_tags_df[:10]"
      ],
      "execution_count": 126,
      "outputs": [
        {
          "output_type": "execute_result",
          "data": {
            "text/html": [
              "<div>\n",
              "<style scoped>\n",
              "    .dataframe tbody tr th:only-of-type {\n",
              "        vertical-align: middle;\n",
              "    }\n",
              "\n",
              "    .dataframe tbody tr th {\n",
              "        vertical-align: top;\n",
              "    }\n",
              "\n",
              "    .dataframe thead th {\n",
              "        text-align: right;\n",
              "    }\n",
              "</style>\n",
              "<table border=\"1\" class=\"dataframe\">\n",
              "  <thead>\n",
              "    <tr style=\"text-align: right;\">\n",
              "      <th></th>\n",
              "      <th>title</th>\n",
              "      <th>views</th>\n",
              "      <th>comments</th>\n",
              "      <th>in_top_10_tag</th>\n",
              "    </tr>\n",
              "  </thead>\n",
              "  <tbody>\n",
              "    <tr>\n",
              "      <th>0</th>\n",
              "      <td>Do schools kill creativity?</td>\n",
              "      <td>47227110</td>\n",
              "      <td>4553</td>\n",
              "      <td>[culture]</td>\n",
              "    </tr>\n",
              "    <tr>\n",
              "      <th>1346</th>\n",
              "      <td>Your body language may shape who you are</td>\n",
              "      <td>43155405</td>\n",
              "      <td>2290</td>\n",
              "      <td>[business]</td>\n",
              "    </tr>\n",
              "    <tr>\n",
              "      <th>677</th>\n",
              "      <td>How great leaders inspire action</td>\n",
              "      <td>34309432</td>\n",
              "      <td>1930</td>\n",
              "      <td>[TEDx, business]</td>\n",
              "    </tr>\n",
              "    <tr>\n",
              "      <th>837</th>\n",
              "      <td>The power of vulnerability</td>\n",
              "      <td>31168150</td>\n",
              "      <td>1927</td>\n",
              "      <td>[TEDx, culture]</td>\n",
              "    </tr>\n",
              "    <tr>\n",
              "      <th>452</th>\n",
              "      <td>10 things you didn't know about orgasm</td>\n",
              "      <td>22270883</td>\n",
              "      <td>354</td>\n",
              "      <td>[culture, science]</td>\n",
              "    </tr>\n",
              "    <tr>\n",
              "      <th>1776</th>\n",
              "      <td>How to speak so that people want to listen</td>\n",
              "      <td>21594632</td>\n",
              "      <td>297</td>\n",
              "      <td>[culture]</td>\n",
              "    </tr>\n",
              "    <tr>\n",
              "      <th>201</th>\n",
              "      <td>My stroke of insight</td>\n",
              "      <td>21190883</td>\n",
              "      <td>2877</td>\n",
              "      <td>[global issues, science]</td>\n",
              "    </tr>\n",
              "    <tr>\n",
              "      <th>5</th>\n",
              "      <td>Why we do what we do</td>\n",
              "      <td>20685401</td>\n",
              "      <td>672</td>\n",
              "      <td>[business, culture, entertainment]</td>\n",
              "    </tr>\n",
              "    <tr>\n",
              "      <th>2114</th>\n",
              "      <td>This is what happens when you reply to spam email</td>\n",
              "      <td>20475972</td>\n",
              "      <td>150</td>\n",
              "      <td>[technology]</td>\n",
              "    </tr>\n",
              "    <tr>\n",
              "      <th>1416</th>\n",
              "      <td>Looks aren't everything. Believe me, I'm a model.</td>\n",
              "      <td>19787465</td>\n",
              "      <td>846</td>\n",
              "      <td>[TEDx, culture]</td>\n",
              "    </tr>\n",
              "  </tbody>\n",
              "</table>\n",
              "</div>"
            ],
            "text/plain": [
              "                                                  title  ...                       in_top_10_tag\n",
              "0                           Do schools kill creativity?  ...                           [culture]\n",
              "1346           Your body language may shape who you are  ...                          [business]\n",
              "677                    How great leaders inspire action  ...                    [TEDx, business]\n",
              "837                          The power of vulnerability  ...                     [TEDx, culture]\n",
              "452              10 things you didn't know about orgasm  ...                  [culture, science]\n",
              "1776         How to speak so that people want to listen  ...                           [culture]\n",
              "201                                My stroke of insight  ...            [global issues, science]\n",
              "5                                  Why we do what we do  ...  [business, culture, entertainment]\n",
              "2114  This is what happens when you reply to spam email  ...                        [technology]\n",
              "1416  Looks aren't everything. Believe me, I'm a model.  ...                     [TEDx, culture]\n",
              "\n",
              "[10 rows x 4 columns]"
            ]
          },
          "metadata": {
            "tags": []
          },
          "execution_count": 126
        }
      ]
    },
    {
      "cell_type": "markdown",
      "metadata": {
        "id": "oHi9DEwrIgUu",
        "colab_type": "text"
      },
      "source": [
        "> All video has **top 10 tag name**"
      ]
    },
    {
      "cell_type": "code",
      "metadata": {
        "id": "uHJU7-oHCFG1",
        "colab_type": "code",
        "outputId": "d5b43f2c-4af8-41e7-8754-efbf7b59014b",
        "colab": {
          "base_uri": "https://localhost:8080/",
          "height": 67
        }
      },
      "source": [
        "top_tags_df['in_top_10_tag'].apply(lambda x:  len(x) != 0).value_counts()"
      ],
      "execution_count": 127,
      "outputs": [
        {
          "output_type": "execute_result",
          "data": {
            "text/plain": [
              "True     2188\n",
              "False     362\n",
              "Name: in_top_10_tag, dtype: int64"
            ]
          },
          "metadata": {
            "tags": []
          },
          "execution_count": 127
        }
      ]
    },
    {
      "cell_type": "code",
      "metadata": {
        "id": "wKamv_YSJVRm",
        "colab_type": "code",
        "outputId": "c87709ad-03e0-4942-ab68-8f04a22c535d",
        "colab": {
          "base_uri": "https://localhost:8080/",
          "height": 308
        }
      },
      "source": [
        "count_tag_df = top_tags_df['in_top_10_tag'].apply(lambda x:  len(x) != 0).value_counts().reset_index()\n",
        "sns.barplot(x='index', y='in_top_10_tag', data=count_tag_df)\n",
        "plt.xlabel('In top 10 tag name')\n",
        "plt.ylabel('Number TED Talks')"
      ],
      "execution_count": 128,
      "outputs": [
        {
          "output_type": "execute_result",
          "data": {
            "text/plain": [
              "Text(0, 0.5, 'Number TED Talks')"
            ]
          },
          "metadata": {
            "tags": []
          },
          "execution_count": 128
        },
        {
          "output_type": "display_data",
          "data": {
            "image/png": "[encoded data removed]",
            "text/plain": [
              "<Figure size 432x288 with 1 Axes>"
            ]
          },
          "metadata": {
            "tags": []
          }
        }
      ]
    },
    {
      "cell_type": "markdown",
      "metadata": {
        "id": "lrW5gyJIKway",
        "colab_type": "text"
      },
      "source": [
        "> From number video has top 10 tag name and the chart, we can conclude that **top 10 tag** in TED Talks **did not affect** on the popular of video.\n",
        "\n",
        "Since **number of videos** has **top tag name** is 2188/2550 which is **85.8%** percent. That doesn't make sense on the popular TED Talks."
      ]
    },
    {
      "cell_type": "markdown",
      "metadata": {
        "id": "MoFQpQMjMNgz",
        "colab_type": "text"
      },
      "source": [
        "## 2. The 80/20 (**Pareto Principle**) rule is true on TED Talks"
      ]
    },
    {
      "cell_type": "markdown",
      "metadata": {
        "id": "U12Zz5HINngz",
        "colab_type": "text"
      },
      "source": [
        "> The 80/20 rule indicate that 80% action will decide 20% result. For example, in my studying, 80% in my total time learning, I just really learn about 20%. Or 20% result of mine from 80% efforts.\n",
        "\n",
        "Therefore, I will calculate the percent of **view** and **comment** to check the rule Pareto principle on **total view** and **comment** in dataset\n",
        "- 20% videos has **view** which take 80% **view** on TED Talks\n",
        "- 20% videos has **comment** which take 80% **comment** on TED Talks"
      ]
    },
    {
      "cell_type": "markdown",
      "metadata": {
        "id": "KXvTDWSpyxxl",
        "colab_type": "text"
      },
      "source": [
        "> Sum of view & Sum of comment"
      ]
    },
    {
      "cell_type": "code",
      "metadata": {
        "id": "dVX94XnAy1mi",
        "colab_type": "code",
        "colab": {
          "base_uri": "https://localhost:8080/",
          "height": 34
        },
        "outputId": "e2456578-ce3c-402b-f28f-045f2f5ff8bd"
      },
      "source": [
        "total_views = view_sorted_talks['views'].sum()\n",
        "total_views"
      ],
      "execution_count": 129,
      "outputs": [
        {
          "output_type": "execute_result",
          "data": {
            "text/plain": [
              "4330658578"
            ]
          },
          "metadata": {
            "tags": []
          },
          "execution_count": 129
        }
      ]
    },
    {
      "cell_type": "code",
      "metadata": {
        "id": "hwu24Wwh0cwL",
        "colab_type": "code",
        "colab": {
          "base_uri": "https://localhost:8080/",
          "height": 34
        },
        "outputId": "1715b28e-3364-43c7-da17-37c4adaf60c6"
      },
      "source": [
        "total_cmt = cmt_sorted_talks['comments'].sum()\n",
        "total_cmt"
      ],
      "execution_count": 130,
      "outputs": [
        {
          "output_type": "execute_result",
          "data": {
            "text/plain": [
              "488484"
            ]
          },
          "metadata": {
            "tags": []
          },
          "execution_count": 130
        }
      ]
    },
    {
      "cell_type": "markdown",
      "metadata": {
        "id": "d10ZD8pn0yct",
        "colab_type": "text"
      },
      "source": [
        "> How many videos is 20% on TED Talks"
      ]
    },
    {
      "cell_type": "code",
      "metadata": {
        "id": "bZ8ZHThP07Fc",
        "colab_type": "code",
        "colab": {
          "base_uri": "https://localhost:8080/",
          "height": 34
        },
        "outputId": "5245580b-38fe-46f2-d4af-0375838d249b"
      },
      "source": [
        "number_20_perc = round(len(df)*0.2)\n",
        "number_20_perc"
      ],
      "execution_count": 131,
      "outputs": [
        {
          "output_type": "execute_result",
          "data": {
            "text/plain": [
              "510"
            ]
          },
          "metadata": {
            "tags": []
          },
          "execution_count": 131
        }
      ]
    },
    {
      "cell_type": "markdown",
      "metadata": {
        "id": "VdPGXByL0lBb",
        "colab_type": "text"
      },
      "source": [
        "Create view dataframe has view percent on sum of view"
      ]
    },
    {
      "cell_type": "code",
      "metadata": {
        "id": "QmvaDoRDMw9w",
        "colab_type": "code",
        "outputId": "2b7fa091-eea3-4363-e266-ab6812d84d24",
        "colab": {
          "base_uri": "https://localhost:8080/",
          "height": 195
        }
      },
      "source": [
        "view_df = view_sorted_talks\n",
        "view_df['view_percent'] = view_sorted_talks['views']/total_views\n",
        "view_df.head()"
      ],
      "execution_count": 132,
      "outputs": [
        {
          "output_type": "execute_result",
          "data": {
            "text/html": [
              "<div>\n",
              "<style scoped>\n",
              "    .dataframe tbody tr th:only-of-type {\n",
              "        vertical-align: middle;\n",
              "    }\n",
              "\n",
              "    .dataframe tbody tr th {\n",
              "        vertical-align: top;\n",
              "    }\n",
              "\n",
              "    .dataframe thead th {\n",
              "        text-align: right;\n",
              "    }\n",
              "</style>\n",
              "<table border=\"1\" class=\"dataframe\">\n",
              "  <thead>\n",
              "    <tr style=\"text-align: right;\">\n",
              "      <th></th>\n",
              "      <th>title</th>\n",
              "      <th>main_speaker</th>\n",
              "      <th>film_date</th>\n",
              "      <th>comments</th>\n",
              "      <th>views</th>\n",
              "      <th>view_percent</th>\n",
              "    </tr>\n",
              "  </thead>\n",
              "  <tbody>\n",
              "    <tr>\n",
              "      <th>0</th>\n",
              "      <td>Do schools kill creativity?</td>\n",
              "      <td>Ken Robinson</td>\n",
              "      <td>25-02-2006</td>\n",
              "      <td>4553</td>\n",
              "      <td>47227110</td>\n",
              "      <td>0.010905</td>\n",
              "    </tr>\n",
              "    <tr>\n",
              "      <th>1346</th>\n",
              "      <td>Your body language may shape who you are</td>\n",
              "      <td>Amy Cuddy</td>\n",
              "      <td>26-06-2012</td>\n",
              "      <td>2290</td>\n",
              "      <td>43155405</td>\n",
              "      <td>0.009965</td>\n",
              "    </tr>\n",
              "    <tr>\n",
              "      <th>677</th>\n",
              "      <td>How great leaders inspire action</td>\n",
              "      <td>Simon Sinek</td>\n",
              "      <td>17-09-2009</td>\n",
              "      <td>1930</td>\n",
              "      <td>34309432</td>\n",
              "      <td>0.007922</td>\n",
              "    </tr>\n",
              "    <tr>\n",
              "      <th>837</th>\n",
              "      <td>The power of vulnerability</td>\n",
              "      <td>Brené Brown</td>\n",
              "      <td>06-06-2010</td>\n",
              "      <td>1927</td>\n",
              "      <td>31168150</td>\n",
              "      <td>0.007197</td>\n",
              "    </tr>\n",
              "    <tr>\n",
              "      <th>452</th>\n",
              "      <td>10 things you didn't know about orgasm</td>\n",
              "      <td>Mary Roach</td>\n",
              "      <td>06-02-2009</td>\n",
              "      <td>354</td>\n",
              "      <td>22270883</td>\n",
              "      <td>0.005143</td>\n",
              "    </tr>\n",
              "  </tbody>\n",
              "</table>\n",
              "</div>"
            ],
            "text/plain": [
              "                                         title  ... view_percent\n",
              "0                  Do schools kill creativity?  ...     0.010905\n",
              "1346  Your body language may shape who you are  ...     0.009965\n",
              "677           How great leaders inspire action  ...     0.007922\n",
              "837                 The power of vulnerability  ...     0.007197\n",
              "452     10 things you didn't know about orgasm  ...     0.005143\n",
              "\n",
              "[5 rows x 6 columns]"
            ]
          },
          "metadata": {
            "tags": []
          },
          "execution_count": 132
        }
      ]
    },
    {
      "cell_type": "markdown",
      "metadata": {
        "id": "vuwmcnS_zoyU",
        "colab_type": "text"
      },
      "source": [
        "> Now we apply **Pareto Principle** on views of 20% video"
      ]
    },
    {
      "cell_type": "code",
      "metadata": {
        "id": "X-TikeXLzlt7",
        "colab_type": "code",
        "colab": {
          "base_uri": "https://localhost:8080/",
          "height": 34
        },
        "outputId": "e4421d92-7069-4e0c-8d43-44877772492c"
      },
      "source": [
        "view_total_20_perc = view_df.loc[:number_20_perc+1]['view_percent'].sum()\n",
        "round(view_total_20_perc * 100,2)"
      ],
      "execution_count": 133,
      "outputs": [
        {
          "output_type": "execute_result",
          "data": {
            "text/plain": [
              "40.39"
            ]
          },
          "metadata": {
            "tags": []
          },
          "execution_count": 133
        }
      ]
    },
    {
      "cell_type": "code",
      "metadata": {
        "id": "o6BmhciD3YZI",
        "colab_type": "code",
        "colab": {
          "base_uri": "https://localhost:8080/",
          "height": 34
        },
        "outputId": "424c604e-0701-4935-e39e-8d81855a58ca"
      },
      "source": [
        "round(view_df.loc[number_20_perc+1:]['view_percent'].sum() * 100 ,2)"
      ],
      "execution_count": 134,
      "outputs": [
        {
          "output_type": "execute_result",
          "data": {
            "text/plain": [
              "59.67"
            ]
          },
          "metadata": {
            "tags": []
          },
          "execution_count": 134
        }
      ]
    },
    {
      "cell_type": "markdown",
      "metadata": {
        "id": "lMpbgMH835Ud",
        "colab_type": "text"
      },
      "source": [
        "From above, the total number of view of 20% video (510 videos) is only occupy 40,39% total number of view on TED Talks.\n",
        "> **views** *is not true* in *the 80/20 rule*"
      ]
    },
    {
      "cell_type": "markdown",
      "metadata": {
        "id": "RrSJBJc94hvR",
        "colab_type": "text"
      },
      "source": [
        "Calculate **number of comment**:"
      ]
    },
    {
      "cell_type": "code",
      "metadata": {
        "id": "OgoPtwQQ4Urn",
        "colab_type": "code",
        "colab": {
          "base_uri": "https://localhost:8080/",
          "height": 195
        },
        "outputId": "b5fbcc38-8a6f-4595-b309-ad825581c976"
      },
      "source": [
        "cmt_df = cmt_sorted_talks\n",
        "cmt_df['cmt_percent'] = cmt_sorted_talks['comments']/total_cmt\n",
        "cmt_df.head()"
      ],
      "execution_count": 135,
      "outputs": [
        {
          "output_type": "execute_result",
          "data": {
            "text/html": [
              "<div>\n",
              "<style scoped>\n",
              "    .dataframe tbody tr th:only-of-type {\n",
              "        vertical-align: middle;\n",
              "    }\n",
              "\n",
              "    .dataframe tbody tr th {\n",
              "        vertical-align: top;\n",
              "    }\n",
              "\n",
              "    .dataframe thead th {\n",
              "        text-align: right;\n",
              "    }\n",
              "</style>\n",
              "<table border=\"1\" class=\"dataframe\">\n",
              "  <thead>\n",
              "    <tr style=\"text-align: right;\">\n",
              "      <th></th>\n",
              "      <th>title</th>\n",
              "      <th>main_speaker</th>\n",
              "      <th>film_date</th>\n",
              "      <th>comments</th>\n",
              "      <th>views</th>\n",
              "      <th>cmt_percent</th>\n",
              "    </tr>\n",
              "  </thead>\n",
              "  <tbody>\n",
              "    <tr>\n",
              "      <th>96</th>\n",
              "      <td>Militant atheism</td>\n",
              "      <td>Richard Dawkins</td>\n",
              "      <td>02-02-2002</td>\n",
              "      <td>6404</td>\n",
              "      <td>4374792</td>\n",
              "      <td>0.013110</td>\n",
              "    </tr>\n",
              "    <tr>\n",
              "      <th>0</th>\n",
              "      <td>Do schools kill creativity?</td>\n",
              "      <td>Ken Robinson</td>\n",
              "      <td>25-02-2006</td>\n",
              "      <td>4553</td>\n",
              "      <td>47227110</td>\n",
              "      <td>0.009321</td>\n",
              "    </tr>\n",
              "    <tr>\n",
              "      <th>644</th>\n",
              "      <td>Science can answer moral questions</td>\n",
              "      <td>Sam Harris</td>\n",
              "      <td>11-02-2010</td>\n",
              "      <td>3356</td>\n",
              "      <td>3433437</td>\n",
              "      <td>0.006870</td>\n",
              "    </tr>\n",
              "    <tr>\n",
              "      <th>201</th>\n",
              "      <td>My stroke of insight</td>\n",
              "      <td>Jill Bolte Taylor</td>\n",
              "      <td>27-02-2008</td>\n",
              "      <td>2877</td>\n",
              "      <td>21190883</td>\n",
              "      <td>0.005890</td>\n",
              "    </tr>\n",
              "    <tr>\n",
              "      <th>1787</th>\n",
              "      <td>How do you explain consciousness?</td>\n",
              "      <td>David Chalmers</td>\n",
              "      <td>18-03-2014</td>\n",
              "      <td>2673</td>\n",
              "      <td>2162764</td>\n",
              "      <td>0.005472</td>\n",
              "    </tr>\n",
              "  </tbody>\n",
              "</table>\n",
              "</div>"
            ],
            "text/plain": [
              "                                   title  ... cmt_percent\n",
              "96                      Militant atheism  ...    0.013110\n",
              "0            Do schools kill creativity?  ...    0.009321\n",
              "644   Science can answer moral questions  ...    0.006870\n",
              "201                 My stroke of insight  ...    0.005890\n",
              "1787   How do you explain consciousness?  ...    0.005472\n",
              "\n",
              "[5 rows x 6 columns]"
            ]
          },
          "metadata": {
            "tags": []
          },
          "execution_count": 135
        }
      ]
    },
    {
      "cell_type": "code",
      "metadata": {
        "id": "qCx16fPd4q-e",
        "colab_type": "code",
        "colab": {
          "base_uri": "https://localhost:8080/",
          "height": 34
        },
        "outputId": "40d89deb-7ca3-4bee-b678-e4f768150216"
      },
      "source": [
        "round(cmt_df[:number_20_perc+1]['cmt_percent'].sum() * 100, 2)"
      ],
      "execution_count": 136,
      "outputs": [
        {
          "output_type": "execute_result",
          "data": {
            "text/plain": [
              "56.05"
            ]
          },
          "metadata": {
            "tags": []
          },
          "execution_count": 136
        }
      ]
    },
    {
      "cell_type": "markdown",
      "metadata": {
        "id": "chKBXz0K4_LI",
        "colab_type": "text"
      },
      "source": [
        "The total number of comments of 20% video (510 videos) is only occupy 56,05% total number of comments on TED Talks.\n",
        "\n",
        "> **Comments** is not also true in the 80/20 rule"
      ]
    },
    {
      "cell_type": "markdown",
      "metadata": {
        "id": "gtT5ZD-i5t9a",
        "colab_type": "text"
      },
      "source": [
        "So the **Pareto Principle** does not apply true in **view** and **comment** on TED Talks dataset."
      ]
    },
    {
      "cell_type": "markdown",
      "metadata": {
        "id": "Pk9BdKW-5Lfl",
        "colab_type": "text"
      },
      "source": [
        "----"
      ]
    },
    {
      "cell_type": "markdown",
      "metadata": {
        "id": "79Qr8xub6EqK",
        "colab_type": "text"
      },
      "source": [
        "#The end!\n",
        "Happy your tour on my note book ^^"
      ]
    }
  ]
}